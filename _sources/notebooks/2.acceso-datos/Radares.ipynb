{
 "cells": [
  {
   "cell_type": "markdown",
   "metadata": {},
   "source": [
    " <img src=\"../images/attenuation.gif\" width=500 alt=\"radar-gif\"></img>"
   ]
  },
  {
   "cell_type": "markdown",
   "metadata": {},
   "source": [
    "# Radares Meteorológicos"
   ]
  },
  {
   "cell_type": "markdown",
   "metadata": {},
   "source": [
    "---"
   ]
  },
  {
   "cell_type": "markdown",
   "metadata": {},
   "source": [
    "## Resumen\n",
    "En este cuadernillo (Notebook) aprenderemos:\n",
    "\n",
    "1. Breve introducción a los radares meterológicos\n",
    "2. Red de Nacional de radares meteorológicos de Colombia\n",
    "4. Consulta de datos usando el bucket de AWS de [radares](https://registry.opendata.aws/ideam-radares/) \n",
    "1. Generación de gráficas de reflectividad\n",
    "1. Generación de campos de lluvia usando la ecuación de Marshall & Gunn (1953)"
   ]
  },
  {
   "cell_type": "markdown",
   "metadata": {},
   "source": [
    "## Prerequisitos\n",
    "| Conceptos | Importancia | Notas |\n",
    "| --- | --- | --- |\n",
    "| [Introducción a Xarray](https://foundations.projectpythia.org/core/xarray.html) | Necesario | lectura de datos multidimensionales |\n",
    "| [Introducción a Py-Art](https://projectpythia.org/radar-cookbook/README.html) | Necesario | lectura de datos de radar |\n",
    "| [Introducción a Xradar](https://docs.openradarscience.org/projects/xradar/en/stable/notebooks/Read-plot-Sigmet-data-from-AWS.html) | Necesario | lectura de datos de radar |\n",
    "| [Introducción a Wradlib](https://docs.wradlib.org/en/latest/) | Necesario | lectura de datos de radar |\n",
    "| [Fundamentos de radar meteorológico](https://www.meted.ucar.edu/radar/basic_wxradar_es/) | Útil | Fundametos básicos en radares meteorológicos |\n",
    "| [Introducción a  NetCDF](https://foundations.projectpythia.org/core/data-formats/netcdf-cf.html) | Útil | Entender la metadata de los datos |\n",
    "\n",
    "- **Tiempo de aprendizaje**: 30 minutos"
   ]
  },
  {
   "cell_type": "markdown",
   "metadata": {},
   "source": [
    "## 1. Radares meteorológicos\n",
    "\n",
    "Los radares meteorolófico son sensores activos que emiten pulsos de energia a la atmosfera y miden la energia retrodispera de todos los objetos a lo largo del haz de midición como se puede observar en la siguiente animación del curso Fundamentos en radares meterológicos (The Commet program - meted.ucar.edu)"
   ]
  },
  {
   "cell_type": "code",
   "execution_count": null,
   "metadata": {},
   "outputs": [],
   "source": [
    "# @markdown\n",
    "\n",
    "from IPython.display import HTML\n",
    "\n",
    "HTML(\"\"\"\n",
    "    <video alt=\"test\" controls>\n",
    "        <source src=\"../images/radar_atten.mp4\" type=\"video/mp4\">\n",
    "    </video>\n",
    "\"\"\")\n",
    "\n",
    "# Video(\"../data/radar_atten.mp4\", embed=True)"
   ]
  },
  {
   "cell_type": "markdown",
   "metadata": {},
   "source": [
    "Tradicionalmente los radares meteorológicos operan en modo de Indicador de Posicion Plana (PPI por sus siglas en inglés de Plan Position Indicator). Este modo primero fija la elevacion de la antena a un ángulo determinado con respecto a la horizontal y gira 360 grados con respecto al norte. Luego repite esta tarea multiples veces a diferentes elevaciones hasta completar un Patron de Cobertura Volumétrico (VCP por sus siglas en inglés de Volume Coverage Pattern) como se puede obervar en la siguiente animación del curso Fundamentos en radares meterológicos (The Commet program - meted.ucar.edu)"
   ]
  },
  {
   "cell_type": "code",
   "execution_count": null,
   "metadata": {},
   "outputs": [],
   "source": [
    "# @markdown\n",
    "\n",
    "from IPython.display import HTML\n",
    "\n",
    "HTML(\"\"\"\n",
    "    <video alt=\"test\" controls>\n",
    "        <source src=\"../images/radar_scan_EM_animation.mp4\" type=\"video/mp4\">\n",
    "    </video>\n",
    "\"\"\")\n",
    "\n",
    "# Video(\"../data/radar_atten.mp4\", embed=True)"
   ]
  },
  {
   "cell_type": "markdown",
   "metadata": {},
   "source": [
    "## 2. Red Nacional de Radares de Colombia"
   ]
  },
  {
   "cell_type": "markdown",
   "metadata": {},
   "source": [
    "Colombia cuenta actualmente con una red de 12 radares meterológicos que hacen vigilancia continua a las condiciones de precipitación en el pais como se puede observar en la siguiente Tabla\n",
    "\n",
    "| Entidad | Número de radares | banda | \n",
    "| --- | :---: | :---: |\n",
    "| IDEAM  |  4  | C  |\n",
    "| Aerocivil |  6  |  C  | \n",
    "| SIATA | 1  | C  |\n",
    "| IDIGER | 1  | X  | "
   ]
  },
  {
   "cell_type": "markdown",
   "metadata": {},
   "source": [
    "## Librerias\n",
    "\n",
    "A continuación vamos a importar las librerias que utilizaremos en este cuadernillo"
   ]
  },
  {
   "cell_type": "code",
   "execution_count": 2,
   "metadata": {},
   "outputs": [
    {
     "name": "stdout",
     "output_type": "stream",
     "text": [
      "\n",
      "## You are using the Python ARM Radar Toolkit (Py-ART), an open source\n",
      "## library for working with weather radar data. Py-ART is partly\n",
      "## supported by the U.S. Department of Energy as part of the Atmospheric\n",
      "## Radiation Measurement (ARM) Climate Research Facility, an Office of\n",
      "## Science user facility.\n",
      "##\n",
      "## If you use this software to prepare a publication, please cite:\n",
      "##\n",
      "##     JJ Helmus and SM Collis, JORS 2016, doi: 10.5334/jors.119\n",
      "\n"
     ]
    }
   ],
   "source": [
    "import pyart\n",
    "import fsspec\n",
    "import matplotlib.pyplot as plt\n",
    "import xradar as xd\n",
    "import folium\n",
    "import numpy as np\n",
    "import pandas as pd\n",
    "import boto3\n",
    "import botocore\n",
    "import cartopy.crs as ccrs\n",
    "from folium import plugins"
   ]
  },
  {
   "cell_type": "markdown",
   "metadata": {},
   "source": [
    "### 1.1 Ubicación de los radares meteorológicos\n",
    "\n",
    "Podemos usar `folium` para crear un mapa dinámico donde visualizamos la ubicación de los radares meteorológicos en Colombia"
   ]
  },
  {
   "cell_type": "code",
   "execution_count": 3,
   "metadata": {},
   "outputs": [],
   "source": [
    "min_lon, max_lon, min_lat, max_lat = -90, -72, -1, 14\n",
    "\n",
    "map_ = folium.Map(location=[8, -76],\n",
    "                  zoom_start = 6, \n",
    "                  min_lat=min_lat, \n",
    "                  max_lat=max_lat, \n",
    "                  min_lon=min_lon, \n",
    "                  max_lon=max_lon, \n",
    "                  zoom_control=False,\n",
    "                  control_scale=True,\n",
    "                  scrollWheelZoom=False,\n",
    "                  width=1000,height=700)\n",
    "\n",
    "folium.TileLayer('openstreetmap').add_to(map_)\n",
    "folium.TileLayer('cartodbpositron').add_to(map_)\n",
    "folium.TileLayer('stamenterrain').add_to(map_)\n",
    "folium.TileLayer('cartodbdark_matter').add_to(map_)\n",
    "folium.LayerControl().add_to(map_)\n",
    "\n",
    "minimap = folium.plugins.MiniMap()\n",
    "map_ = map_.add_child(minimap)\n",
    "# map_"
   ]
  },
  {
   "cell_type": "markdown",
   "metadata": {},
   "source": [
    "Ahora podemos agregar la ubicación de cada radar en el mapa"
   ]
  },
  {
   "cell_type": "code",
   "execution_count": 4,
   "metadata": {},
   "outputs": [],
   "source": [
    "def locate_radar(row):   \n",
    "    df = row.to_frame()\n",
    "    html = df.iloc[:-3].to_html(classes=\"table table-striped table-hover table-condensed table-responsive\")\n",
    "\n",
    "    popup = folium.Popup(html, max_width=2650)\n",
    "    folium.Marker(location=[row.lat, row.lon], popup=popup).add_to(map_)\n",
    "    \n",
    "    rad = float(row['rad'])\n",
    "    circle = folium.vector_layers.Circle(location=[row.lat, row.lon], color=row.color, fill=True, \n",
    "                                               fill_color=f\"{row['color']}\", \n",
    "                                              radius= rad * 2500, fill_opacity=0.1)     \n",
    "    circle.add_to(map_)"
   ]
  },
  {
   "cell_type": "code",
   "execution_count": 5,
   "metadata": {},
   "outputs": [],
   "source": [
    "df_radares = pd.read_csv('../data/radar_locations.csv')"
   ]
  },
  {
   "cell_type": "markdown",
   "metadata": {},
   "source": [
    "Aplicamos la función `locate_radar` a cada fila del dataframe usando el método `pd.apply` "
   ]
  },
  {
   "cell_type": "code",
   "execution_count": 6,
   "metadata": {},
   "outputs": [
    {
     "data": {
      "text/html": [
       "<div style=\"width:100%;\"><div style=\"position:relative;width:100%;height:0;padding-bottom:60%;\"><span style=\"color:#565656\">Make this Notebook Trusted to load map: File -> Trust Notebook</span><iframe srcdoc=\"&lt;!DOCTYPE html&gt;\n",
       "&lt;html&gt;\n",
       "&lt;head&gt;\n",
       "    \n",
       "    &lt;meta http-equiv=&quot;content-type&quot; content=&quot;text/html; charset=UTF-8&quot; /&gt;\n",
       "    \n",
       "        &lt;script&gt;\n",
       "            L_NO_TOUCH = false;\n",
       "            L_DISABLE_3D = false;\n",
       "        &lt;/script&gt;\n",
       "    \n",
       "    &lt;style&gt;html, body {width: 100%;height: 100%;margin: 0;padding: 0;}&lt;/style&gt;\n",
       "    &lt;style&gt;#map {position:absolute;top:0;bottom:0;right:0;left:0;}&lt;/style&gt;\n",
       "    &lt;script src=&quot;https://cdn.jsdelivr.net/npm/leaflet@1.9.3/dist/leaflet.js&quot;&gt;&lt;/script&gt;\n",
       "    &lt;script src=&quot;https://code.jquery.com/jquery-1.12.4.min.js&quot;&gt;&lt;/script&gt;\n",
       "    &lt;script src=&quot;https://cdn.jsdelivr.net/npm/bootstrap@5.2.2/dist/js/bootstrap.bundle.min.js&quot;&gt;&lt;/script&gt;\n",
       "    &lt;script src=&quot;https://cdnjs.cloudflare.com/ajax/libs/Leaflet.awesome-markers/2.0.2/leaflet.awesome-markers.js&quot;&gt;&lt;/script&gt;\n",
       "    &lt;link rel=&quot;stylesheet&quot; href=&quot;https://cdn.jsdelivr.net/npm/leaflet@1.9.3/dist/leaflet.css&quot;/&gt;\n",
       "    &lt;link rel=&quot;stylesheet&quot; href=&quot;https://cdn.jsdelivr.net/npm/bootstrap@5.2.2/dist/css/bootstrap.min.css&quot;/&gt;\n",
       "    &lt;link rel=&quot;stylesheet&quot; href=&quot;https://netdna.bootstrapcdn.com/bootstrap/3.0.0/css/bootstrap.min.css&quot;/&gt;\n",
       "    &lt;link rel=&quot;stylesheet&quot; href=&quot;https://cdn.jsdelivr.net/npm/@fortawesome/fontawesome-free@6.2.0/css/all.min.css&quot;/&gt;\n",
       "    &lt;link rel=&quot;stylesheet&quot; href=&quot;https://cdnjs.cloudflare.com/ajax/libs/Leaflet.awesome-markers/2.0.2/leaflet.awesome-markers.css&quot;/&gt;\n",
       "    &lt;link rel=&quot;stylesheet&quot; href=&quot;https://cdn.jsdelivr.net/gh/python-visualization/folium/folium/templates/leaflet.awesome.rotate.min.css&quot;/&gt;\n",
       "    \n",
       "            &lt;meta name=&quot;viewport&quot; content=&quot;width=device-width,\n",
       "                initial-scale=1.0, maximum-scale=1.0, user-scalable=no&quot; /&gt;\n",
       "            &lt;style&gt;\n",
       "                #map_9940cb2523c110d88a03846d9392aac6 {\n",
       "                    position: relative;\n",
       "                    width: 1000.0px;\n",
       "                    height: 700.0px;\n",
       "                    left: 0.0%;\n",
       "                    top: 0.0%;\n",
       "                }\n",
       "                .leaflet-container { font-size: 1rem; }\n",
       "            &lt;/style&gt;\n",
       "        \n",
       "    &lt;script src=&quot;https://cdnjs.cloudflare.com/ajax/libs/leaflet-minimap/3.6.1/Control.MiniMap.js&quot;&gt;&lt;/script&gt;\n",
       "    &lt;link rel=&quot;stylesheet&quot; href=&quot;https://cdnjs.cloudflare.com/ajax/libs/leaflet-minimap/3.6.1/Control.MiniMap.css&quot;/&gt;\n",
       "&lt;/head&gt;\n",
       "&lt;body&gt;\n",
       "    \n",
       "    \n",
       "            &lt;div class=&quot;folium-map&quot; id=&quot;map_9940cb2523c110d88a03846d9392aac6&quot; &gt;&lt;/div&gt;\n",
       "        \n",
       "&lt;/body&gt;\n",
       "&lt;script&gt;\n",
       "    \n",
       "    \n",
       "            var map_9940cb2523c110d88a03846d9392aac6 = L.map(\n",
       "                &quot;map_9940cb2523c110d88a03846d9392aac6&quot;,\n",
       "                {\n",
       "                    center: [8.0, -76.0],\n",
       "                    crs: L.CRS.EPSG3857,\n",
       "                    zoom: 6,\n",
       "                    zoomControl: false,\n",
       "                    preferCanvas: false,\n",
       "                    scrollWheelZoom: false,\n",
       "                }\n",
       "            );\n",
       "            L.control.scale().addTo(map_9940cb2523c110d88a03846d9392aac6);\n",
       "\n",
       "            \n",
       "\n",
       "        \n",
       "    \n",
       "            var tile_layer_7f750ec700547ddd7a7235b27e998c37 = L.tileLayer(\n",
       "                &quot;https://{s}.tile.openstreetmap.org/{z}/{x}/{y}.png&quot;,\n",
       "                {&quot;attribution&quot;: &quot;Data by \\u0026copy; \\u003ca target=\\&quot;_blank\\&quot; href=\\&quot;http://openstreetmap.org\\&quot;\\u003eOpenStreetMap\\u003c/a\\u003e, under \\u003ca target=\\&quot;_blank\\&quot; href=\\&quot;http://www.openstreetmap.org/copyright\\&quot;\\u003eODbL\\u003c/a\\u003e.&quot;, &quot;detectRetina&quot;: false, &quot;maxNativeZoom&quot;: 18, &quot;maxZoom&quot;: 18, &quot;minZoom&quot;: 0, &quot;noWrap&quot;: false, &quot;opacity&quot;: 1, &quot;subdomains&quot;: &quot;abc&quot;, &quot;tms&quot;: false}\n",
       "            ).addTo(map_9940cb2523c110d88a03846d9392aac6);\n",
       "        \n",
       "    \n",
       "            var tile_layer_c18a273fd5593d04ca5b0b0a76adf4cb = L.tileLayer(\n",
       "                &quot;https://{s}.tile.openstreetmap.org/{z}/{x}/{y}.png&quot;,\n",
       "                {&quot;attribution&quot;: &quot;Data by \\u0026copy; \\u003ca target=\\&quot;_blank\\&quot; href=\\&quot;http://openstreetmap.org\\&quot;\\u003eOpenStreetMap\\u003c/a\\u003e, under \\u003ca target=\\&quot;_blank\\&quot; href=\\&quot;http://www.openstreetmap.org/copyright\\&quot;\\u003eODbL\\u003c/a\\u003e.&quot;, &quot;detectRetina&quot;: false, &quot;maxNativeZoom&quot;: 18, &quot;maxZoom&quot;: 18, &quot;minZoom&quot;: 0, &quot;noWrap&quot;: false, &quot;opacity&quot;: 1, &quot;subdomains&quot;: &quot;abc&quot;, &quot;tms&quot;: false}\n",
       "            ).addTo(map_9940cb2523c110d88a03846d9392aac6);\n",
       "        \n",
       "    \n",
       "            var tile_layer_56690c3fde2c3769a452557b9b6dbc46 = L.tileLayer(\n",
       "                &quot;https://cartodb-basemaps-{s}.global.ssl.fastly.net/light_all/{z}/{x}/{y}.png&quot;,\n",
       "                {&quot;attribution&quot;: &quot;\\u0026copy; \\u003ca target=\\&quot;_blank\\&quot; href=\\&quot;http://www.openstreetmap.org/copyright\\&quot;\\u003eOpenStreetMap\\u003c/a\\u003e contributors \\u0026copy; \\u003ca target=\\&quot;_blank\\&quot; href=\\&quot;http://cartodb.com/attributions\\&quot;\\u003eCartoDB\\u003c/a\\u003e, CartoDB \\u003ca target=\\&quot;_blank\\&quot; href =\\&quot;http://cartodb.com/attributions\\&quot;\\u003eattributions\\u003c/a\\u003e&quot;, &quot;detectRetina&quot;: false, &quot;maxNativeZoom&quot;: 18, &quot;maxZoom&quot;: 18, &quot;minZoom&quot;: 0, &quot;noWrap&quot;: false, &quot;opacity&quot;: 1, &quot;subdomains&quot;: &quot;abc&quot;, &quot;tms&quot;: false}\n",
       "            ).addTo(map_9940cb2523c110d88a03846d9392aac6);\n",
       "        \n",
       "    \n",
       "            var tile_layer_9f3dfd3cf376ed14d9b39aff119acb7e = L.tileLayer(\n",
       "                &quot;https://stamen-tiles-{s}.a.ssl.fastly.net/terrain/{z}/{x}/{y}.jpg&quot;,\n",
       "                {&quot;attribution&quot;: &quot;Map tiles by \\u003ca target=\\&quot;_blank\\&quot; href=\\&quot;http://stamen.com\\&quot;\\u003eStamen Design\\u003c/a\\u003e, under \\u003ca target=\\&quot;_blank\\&quot; href=\\&quot;http://creativecommons.org/licenses/by/3.0\\&quot;\\u003eCC BY 3.0\\u003c/a\\u003e. Data by \\u0026copy; \\u003ca target=\\&quot;_blank\\&quot; href=\\&quot;http://openstreetmap.org\\&quot;\\u003eOpenStreetMap\\u003c/a\\u003e, under \\u003ca target=\\&quot;_blank\\&quot; href=\\&quot;http://creativecommons.org/licenses/by-sa/3.0\\&quot;\\u003eCC BY SA\\u003c/a\\u003e.&quot;, &quot;detectRetina&quot;: false, &quot;maxNativeZoom&quot;: 18, &quot;maxZoom&quot;: 18, &quot;minZoom&quot;: 0, &quot;noWrap&quot;: false, &quot;opacity&quot;: 1, &quot;subdomains&quot;: &quot;abc&quot;, &quot;tms&quot;: false}\n",
       "            ).addTo(map_9940cb2523c110d88a03846d9392aac6);\n",
       "        \n",
       "    \n",
       "            var tile_layer_afa87a573148d080e87a7d2f1ee4a03e = L.tileLayer(\n",
       "                &quot;https://cartodb-basemaps-{s}.global.ssl.fastly.net/dark_all/{z}/{x}/{y}.png&quot;,\n",
       "                {&quot;attribution&quot;: &quot;\\u0026copy; \\u003ca target=\\&quot;_blank\\&quot; href=\\&quot;http://www.openstreetmap.org/copyright\\&quot;\\u003eOpenStreetMap\\u003c/a\\u003e contributors \\u0026copy; \\u003ca target=\\&quot;_blank\\&quot; href=\\&quot;http://cartodb.com/attributions\\&quot;\\u003eCartoDB\\u003c/a\\u003e, CartoDB \\u003ca target=\\&quot;_blank\\&quot; href =\\&quot;http://cartodb.com/attributions\\&quot;\\u003eattributions\\u003c/a\\u003e&quot;, &quot;detectRetina&quot;: false, &quot;maxNativeZoom&quot;: 18, &quot;maxZoom&quot;: 18, &quot;minZoom&quot;: 0, &quot;noWrap&quot;: false, &quot;opacity&quot;: 1, &quot;subdomains&quot;: &quot;abc&quot;, &quot;tms&quot;: false}\n",
       "            ).addTo(map_9940cb2523c110d88a03846d9392aac6);\n",
       "        \n",
       "    \n",
       "            var layer_control_4aa5bd49e2d67a2d7754c292d4c72e02 = {\n",
       "                base_layers : {\n",
       "                    &quot;openstreetmap&quot; : tile_layer_c18a273fd5593d04ca5b0b0a76adf4cb,\n",
       "                    &quot;cartodbpositron&quot; : tile_layer_56690c3fde2c3769a452557b9b6dbc46,\n",
       "                    &quot;stamenterrain&quot; : tile_layer_9f3dfd3cf376ed14d9b39aff119acb7e,\n",
       "                    &quot;cartodbdark_matter&quot; : tile_layer_afa87a573148d080e87a7d2f1ee4a03e,\n",
       "                },\n",
       "                overlays :  {\n",
       "                },\n",
       "            };\n",
       "            L.control.layers(\n",
       "                layer_control_4aa5bd49e2d67a2d7754c292d4c72e02.base_layers,\n",
       "                layer_control_4aa5bd49e2d67a2d7754c292d4c72e02.overlays,\n",
       "                {&quot;autoZIndex&quot;: true, &quot;collapsed&quot;: true, &quot;position&quot;: &quot;topright&quot;}\n",
       "            ).addTo(map_9940cb2523c110d88a03846d9392aac6);\n",
       "            tile_layer_56690c3fde2c3769a452557b9b6dbc46.remove();\n",
       "            tile_layer_9f3dfd3cf376ed14d9b39aff119acb7e.remove();\n",
       "            tile_layer_afa87a573148d080e87a7d2f1ee4a03e.remove();\n",
       "        \n",
       "    \n",
       "            var tile_layer_7c508e15529c5dd27337cd9a1364fb49 = L.tileLayer(\n",
       "                &quot;https://{s}.tile.openstreetmap.org/{z}/{x}/{y}.png&quot;,\n",
       "                {&quot;attribution&quot;: &quot;Data by \\u0026copy; \\u003ca target=\\&quot;_blank\\&quot; href=\\&quot;http://openstreetmap.org\\&quot;\\u003eOpenStreetMap\\u003c/a\\u003e, under \\u003ca target=\\&quot;_blank\\&quot; href=\\&quot;http://www.openstreetmap.org/copyright\\&quot;\\u003eODbL\\u003c/a\\u003e.&quot;, &quot;detectRetina&quot;: false, &quot;maxNativeZoom&quot;: 18, &quot;maxZoom&quot;: 18, &quot;minZoom&quot;: 0, &quot;noWrap&quot;: false, &quot;opacity&quot;: 1, &quot;subdomains&quot;: &quot;abc&quot;, &quot;tms&quot;: false}\n",
       "            );\n",
       "            var mini_map_6aa25dca8b7083b584b9729460c4daee = new L.Control.MiniMap(\n",
       "                tile_layer_7c508e15529c5dd27337cd9a1364fb49,\n",
       "                {&quot;autoToggleDisplay&quot;: false, &quot;centerFixed&quot;: false, &quot;collapsedHeight&quot;: 25, &quot;collapsedWidth&quot;: 25, &quot;height&quot;: 150, &quot;minimized&quot;: false, &quot;position&quot;: &quot;bottomright&quot;, &quot;toggleDisplay&quot;: false, &quot;width&quot;: 150, &quot;zoomAnimation&quot;: false, &quot;zoomLevelOffset&quot;: -5}\n",
       "            );\n",
       "            map_9940cb2523c110d88a03846d9392aac6.addControl(mini_map_6aa25dca8b7083b584b9729460c4daee);\n",
       "        \n",
       "    \n",
       "            var marker_901d6eac58b932329512ee2f6813bb32 = L.marker(\n",
       "                [5.011830609, -74.20459757],\n",
       "                {}\n",
       "            ).addTo(map_9940cb2523c110d88a03846d9392aac6);\n",
       "        \n",
       "    \n",
       "        var popup_79961e026320779424a1cb8b65db098a = L.popup({&quot;maxWidth&quot;: 2650});\n",
       "\n",
       "        \n",
       "            \n",
       "                var html_34316b0bcd0270a8de9c879bf9a744a1 = $(`&lt;div id=&quot;html_34316b0bcd0270a8de9c879bf9a744a1&quot; style=&quot;width: 100.0%; height: 100.0%;&quot;&gt;&lt;table border=&quot;1&quot; class=&quot;dataframe table table-striped table-hover table-condensed table-responsive&quot;&gt;   &lt;thead&gt;     &lt;tr style=&quot;text-align: right;&quot;&gt;       &lt;th&gt;&lt;/th&gt;       &lt;th&gt;0&lt;/th&gt;     &lt;/tr&gt;   &lt;/thead&gt;   &lt;tbody&gt;     &lt;tr&gt;       &lt;th&gt;Name&lt;/th&gt;       &lt;td&gt;R1. Tablazo - 2011&lt;/td&gt;     &lt;/tr&gt;     &lt;tr&gt;       &lt;th&gt;lat&lt;/th&gt;       &lt;td&gt;5.011831&lt;/td&gt;     &lt;/tr&gt;     &lt;tr&gt;       &lt;th&gt;lon&lt;/th&gt;       &lt;td&gt;-74.204598&lt;/td&gt;     &lt;/tr&gt;   &lt;/tbody&gt; &lt;/table&gt;&lt;/div&gt;`)[0];\n",
       "                popup_79961e026320779424a1cb8b65db098a.setContent(html_34316b0bcd0270a8de9c879bf9a744a1);\n",
       "            \n",
       "        \n",
       "\n",
       "        marker_901d6eac58b932329512ee2f6813bb32.bindPopup(popup_79961e026320779424a1cb8b65db098a)\n",
       "        ;\n",
       "\n",
       "        \n",
       "    \n",
       "    \n",
       "            var circle_6baed54232631225645e51307e816462 = L.circle(\n",
       "                [5.011830609, -74.20459757],\n",
       "                {&quot;bubblingMouseEvents&quot;: true, &quot;color&quot;: &quot;red&quot;, &quot;dashArray&quot;: null, &quot;dashOffset&quot;: null, &quot;fill&quot;: true, &quot;fillColor&quot;: &quot;red&quot;, &quot;fillOpacity&quot;: 0.1, &quot;fillRule&quot;: &quot;evenodd&quot;, &quot;lineCap&quot;: &quot;round&quot;, &quot;lineJoin&quot;: &quot;round&quot;, &quot;opacity&quot;: 1.0, &quot;radius&quot;: 237500.0, &quot;stroke&quot;: true, &quot;weight&quot;: 3}\n",
       "            ).addTo(map_9940cb2523c110d88a03846d9392aac6);\n",
       "        \n",
       "    \n",
       "            var marker_fe3d0bbcf65ac7beafe0b5e056aed93c = L.marker(\n",
       "                [6.195989795, -75.52745885],\n",
       "                {}\n",
       "            ).addTo(map_9940cb2523c110d88a03846d9392aac6);\n",
       "        \n",
       "    \n",
       "        var popup_b6c8436619cb2ab8cdf34a1fb8b8803e = L.popup({&quot;maxWidth&quot;: 2650});\n",
       "\n",
       "        \n",
       "            \n",
       "                var html_c768e61da61d75fbdc4725bde091ac07 = $(`&lt;div id=&quot;html_c768e61da61d75fbdc4725bde091ac07&quot; style=&quot;width: 100.0%; height: 100.0%;&quot;&gt;&lt;table border=&quot;1&quot; class=&quot;dataframe table table-striped table-hover table-condensed table-responsive&quot;&gt;   &lt;thead&gt;     &lt;tr style=&quot;text-align: right;&quot;&gt;       &lt;th&gt;&lt;/th&gt;       &lt;th&gt;1&lt;/th&gt;     &lt;/tr&gt;   &lt;/thead&gt;   &lt;tbody&gt;     &lt;tr&gt;       &lt;th&gt;Name&lt;/th&gt;       &lt;td&gt;R2. Santa Elena - 2011&lt;/td&gt;     &lt;/tr&gt;     &lt;tr&gt;       &lt;th&gt;lat&lt;/th&gt;       &lt;td&gt;6.19599&lt;/td&gt;     &lt;/tr&gt;     &lt;tr&gt;       &lt;th&gt;lon&lt;/th&gt;       &lt;td&gt;-75.527459&lt;/td&gt;     &lt;/tr&gt;   &lt;/tbody&gt; &lt;/table&gt;&lt;/div&gt;`)[0];\n",
       "                popup_b6c8436619cb2ab8cdf34a1fb8b8803e.setContent(html_c768e61da61d75fbdc4725bde091ac07);\n",
       "            \n",
       "        \n",
       "\n",
       "        marker_fe3d0bbcf65ac7beafe0b5e056aed93c.bindPopup(popup_b6c8436619cb2ab8cdf34a1fb8b8803e)\n",
       "        ;\n",
       "\n",
       "        \n",
       "    \n",
       "    \n",
       "            var circle_9704c1d99b27fdc359e8ed61f82b0a95 = L.circle(\n",
       "                [6.195989795, -75.52745885],\n",
       "                {&quot;bubblingMouseEvents&quot;: true, &quot;color&quot;: &quot;blue&quot;, &quot;dashArray&quot;: null, &quot;dashOffset&quot;: null, &quot;fill&quot;: true, &quot;fillColor&quot;: &quot;blue&quot;, &quot;fillOpacity&quot;: 0.1, &quot;fillRule&quot;: &quot;evenodd&quot;, &quot;lineCap&quot;: &quot;round&quot;, &quot;lineJoin&quot;: &quot;round&quot;, &quot;opacity&quot;: 1.0, &quot;radius&quot;: 237500.0, &quot;stroke&quot;: true, &quot;weight&quot;: 3}\n",
       "            ).addTo(map_9940cb2523c110d88a03846d9392aac6);\n",
       "        \n",
       "    \n",
       "            var marker_bb2f6a534b54f058b0849d979e1b5f79 = L.marker(\n",
       "                [9.331935069, -75.28278367],\n",
       "                {}\n",
       "            ).addTo(map_9940cb2523c110d88a03846d9392aac6);\n",
       "        \n",
       "    \n",
       "        var popup_fe9fc2d311f7864193368bb289222d47 = L.popup({&quot;maxWidth&quot;: 2650});\n",
       "\n",
       "        \n",
       "            \n",
       "                var html_e85a66dc7e8a1d35384396841ea8bfbf = $(`&lt;div id=&quot;html_e85a66dc7e8a1d35384396841ea8bfbf&quot; style=&quot;width: 100.0%; height: 100.0%;&quot;&gt;&lt;table border=&quot;1&quot; class=&quot;dataframe table table-striped table-hover table-condensed table-responsive&quot;&gt;   &lt;thead&gt;     &lt;tr style=&quot;text-align: right;&quot;&gt;       &lt;th&gt;&lt;/th&gt;       &lt;th&gt;2&lt;/th&gt;     &lt;/tr&gt;   &lt;/thead&gt;   &lt;tbody&gt;     &lt;tr&gt;       &lt;th&gt;Name&lt;/th&gt;       &lt;td&gt;R3. Corozal - 2013&lt;/td&gt;     &lt;/tr&gt;     &lt;tr&gt;       &lt;th&gt;lat&lt;/th&gt;       &lt;td&gt;9.331935&lt;/td&gt;     &lt;/tr&gt;     &lt;tr&gt;       &lt;th&gt;lon&lt;/th&gt;       &lt;td&gt;-75.282784&lt;/td&gt;     &lt;/tr&gt;   &lt;/tbody&gt; &lt;/table&gt;&lt;/div&gt;`)[0];\n",
       "                popup_fe9fc2d311f7864193368bb289222d47.setContent(html_e85a66dc7e8a1d35384396841ea8bfbf);\n",
       "            \n",
       "        \n",
       "\n",
       "        marker_bb2f6a534b54f058b0849d979e1b5f79.bindPopup(popup_fe9fc2d311f7864193368bb289222d47)\n",
       "        ;\n",
       "\n",
       "        \n",
       "    \n",
       "    \n",
       "            var circle_cd9acd2eee925d54302781e00cafe953 = L.circle(\n",
       "                [9.331935069, -75.28278367],\n",
       "                {&quot;bubblingMouseEvents&quot;: true, &quot;color&quot;: &quot;green&quot;, &quot;dashArray&quot;: null, &quot;dashOffset&quot;: null, &quot;fill&quot;: true, &quot;fillColor&quot;: &quot;green&quot;, &quot;fillOpacity&quot;: 0.1, &quot;fillRule&quot;: &quot;evenodd&quot;, &quot;lineCap&quot;: &quot;round&quot;, &quot;lineJoin&quot;: &quot;round&quot;, &quot;opacity&quot;: 1.0, &quot;radius&quot;: 237500.0, &quot;stroke&quot;: true, &quot;weight&quot;: 3}\n",
       "            ).addTo(map_9940cb2523c110d88a03846d9392aac6);\n",
       "        \n",
       "    \n",
       "            var marker_7199c9eaf92f0c70c8e860b29512c870 = L.marker(\n",
       "                [12.5891845, -81.70772346],\n",
       "                {}\n",
       "            ).addTo(map_9940cb2523c110d88a03846d9392aac6);\n",
       "        \n",
       "    \n",
       "        var popup_6738702b6ee5c80a561b7d8ace6cfc27 = L.popup({&quot;maxWidth&quot;: 2650});\n",
       "\n",
       "        \n",
       "            \n",
       "                var html_8e05e6e6a5e88dfd0ff1ad17e2184ae1 = $(`&lt;div id=&quot;html_8e05e6e6a5e88dfd0ff1ad17e2184ae1&quot; style=&quot;width: 100.0%; height: 100.0%;&quot;&gt;&lt;table border=&quot;1&quot; class=&quot;dataframe table table-striped table-hover table-condensed table-responsive&quot;&gt;   &lt;thead&gt;     &lt;tr style=&quot;text-align: right;&quot;&gt;       &lt;th&gt;&lt;/th&gt;       &lt;th&gt;3&lt;/th&gt;     &lt;/tr&gt;   &lt;/thead&gt;   &lt;tbody&gt;     &lt;tr&gt;       &lt;th&gt;Name&lt;/th&gt;       &lt;td&gt;R4. San Andrés - 2015&lt;/td&gt;     &lt;/tr&gt;     &lt;tr&gt;       &lt;th&gt;lat&lt;/th&gt;       &lt;td&gt;12.589184&lt;/td&gt;     &lt;/tr&gt;     &lt;tr&gt;       &lt;th&gt;lon&lt;/th&gt;       &lt;td&gt;-81.707723&lt;/td&gt;     &lt;/tr&gt;   &lt;/tbody&gt; &lt;/table&gt;&lt;/div&gt;`)[0];\n",
       "                popup_6738702b6ee5c80a561b7d8ace6cfc27.setContent(html_8e05e6e6a5e88dfd0ff1ad17e2184ae1);\n",
       "            \n",
       "        \n",
       "\n",
       "        marker_7199c9eaf92f0c70c8e860b29512c870.bindPopup(popup_6738702b6ee5c80a561b7d8ace6cfc27)\n",
       "        ;\n",
       "\n",
       "        \n",
       "    \n",
       "    \n",
       "            var circle_8d434627fe7894c6bb3bb8108b410e15 = L.circle(\n",
       "                [12.5891845, -81.70772346],\n",
       "                {&quot;bubblingMouseEvents&quot;: true, &quot;color&quot;: &quot;purple&quot;, &quot;dashArray&quot;: null, &quot;dashOffset&quot;: null, &quot;fill&quot;: true, &quot;fillColor&quot;: &quot;purple&quot;, &quot;fillOpacity&quot;: 0.1, &quot;fillRule&quot;: &quot;evenodd&quot;, &quot;lineCap&quot;: &quot;round&quot;, &quot;lineJoin&quot;: &quot;round&quot;, &quot;opacity&quot;: 1.0, &quot;radius&quot;: 237500.0, &quot;stroke&quot;: true, &quot;weight&quot;: 3}\n",
       "            ).addTo(map_9940cb2523c110d88a03846d9392aac6);\n",
       "        \n",
       "    \n",
       "            var marker_24a65f5fc7755ac4fdb88849bf7201a7 = L.marker(\n",
       "                [4.675310499, -74.11394729],\n",
       "                {}\n",
       "            ).addTo(map_9940cb2523c110d88a03846d9392aac6);\n",
       "        \n",
       "    \n",
       "        var popup_3b10fc44deadbf8c345bc2bde39117ce = L.popup({&quot;maxWidth&quot;: 2650});\n",
       "\n",
       "        \n",
       "            \n",
       "                var html_d242f910ee91c8b68d0e23577cdbe694 = $(`&lt;div id=&quot;html_d242f910ee91c8b68d0e23577cdbe694&quot; style=&quot;width: 100.0%; height: 100.0%;&quot;&gt;&lt;table border=&quot;1&quot; class=&quot;dataframe table table-striped table-hover table-condensed table-responsive&quot;&gt;   &lt;thead&gt;     &lt;tr style=&quot;text-align: right;&quot;&gt;       &lt;th&gt;&lt;/th&gt;       &lt;th&gt;4&lt;/th&gt;     &lt;/tr&gt;   &lt;/thead&gt;   &lt;tbody&gt;     &lt;tr&gt;       &lt;th&gt;Name&lt;/th&gt;       &lt;td&gt;R5. IDIGER - 2017&lt;/td&gt;     &lt;/tr&gt;     &lt;tr&gt;       &lt;th&gt;lat&lt;/th&gt;       &lt;td&gt;4.67531&lt;/td&gt;     &lt;/tr&gt;     &lt;tr&gt;       &lt;th&gt;lon&lt;/th&gt;       &lt;td&gt;-74.113947&lt;/td&gt;     &lt;/tr&gt;   &lt;/tbody&gt; &lt;/table&gt;&lt;/div&gt;`)[0];\n",
       "                popup_3b10fc44deadbf8c345bc2bde39117ce.setContent(html_d242f910ee91c8b68d0e23577cdbe694);\n",
       "            \n",
       "        \n",
       "\n",
       "        marker_24a65f5fc7755ac4fdb88849bf7201a7.bindPopup(popup_3b10fc44deadbf8c345bc2bde39117ce)\n",
       "        ;\n",
       "\n",
       "        \n",
       "    \n",
       "    \n",
       "            var circle_993dc4936352291b570cb20b459998ef = L.circle(\n",
       "                [4.675310499, -74.11394729],\n",
       "                {&quot;bubblingMouseEvents&quot;: true, &quot;color&quot;: &quot;orange&quot;, &quot;dashArray&quot;: null, &quot;dashOffset&quot;: null, &quot;fill&quot;: true, &quot;fillColor&quot;: &quot;orange&quot;, &quot;fillOpacity&quot;: 0.1, &quot;fillRule&quot;: &quot;evenodd&quot;, &quot;lineCap&quot;: &quot;round&quot;, &quot;lineJoin&quot;: &quot;round&quot;, &quot;opacity&quot;: 1.0, &quot;radius&quot;: 100000.0, &quot;stroke&quot;: true, &quot;weight&quot;: 3}\n",
       "            ).addTo(map_9940cb2523c110d88a03846d9392aac6);\n",
       "        \n",
       "    \n",
       "            var marker_d9b9fc5c6db445e7506d322354db8716 = L.marker(\n",
       "                [7.029112262, -73.80917902],\n",
       "                {}\n",
       "            ).addTo(map_9940cb2523c110d88a03846d9392aac6);\n",
       "        \n",
       "    \n",
       "        var popup_dc582bea043d2ce8c284df10e2560a47 = L.popup({&quot;maxWidth&quot;: 2650});\n",
       "\n",
       "        \n",
       "            \n",
       "                var html_99c0514f66a7b0b6c2a979b03f78bab2 = $(`&lt;div id=&quot;html_99c0514f66a7b0b6c2a979b03f78bab2&quot; style=&quot;width: 100.0%; height: 100.0%;&quot;&gt;&lt;table border=&quot;1&quot; class=&quot;dataframe table table-striped table-hover table-condensed table-responsive&quot;&gt;   &lt;thead&gt;     &lt;tr style=&quot;text-align: right;&quot;&gt;       &lt;th&gt;&lt;/th&gt;       &lt;th&gt;5&lt;/th&gt;     &lt;/tr&gt;   &lt;/thead&gt;   &lt;tbody&gt;     &lt;tr&gt;       &lt;th&gt;Name&lt;/th&gt;       &lt;td&gt;R6. Barrancabermeja - 2018&lt;/td&gt;     &lt;/tr&gt;     &lt;tr&gt;       &lt;th&gt;lat&lt;/th&gt;       &lt;td&gt;7.029112&lt;/td&gt;     &lt;/tr&gt;     &lt;tr&gt;       &lt;th&gt;lon&lt;/th&gt;       &lt;td&gt;-73.809179&lt;/td&gt;     &lt;/tr&gt;   &lt;/tbody&gt; &lt;/table&gt;&lt;/div&gt;`)[0];\n",
       "                popup_dc582bea043d2ce8c284df10e2560a47.setContent(html_99c0514f66a7b0b6c2a979b03f78bab2);\n",
       "            \n",
       "        \n",
       "\n",
       "        marker_d9b9fc5c6db445e7506d322354db8716.bindPopup(popup_dc582bea043d2ce8c284df10e2560a47)\n",
       "        ;\n",
       "\n",
       "        \n",
       "    \n",
       "    \n",
       "            var circle_2b5a9d4f9eef3829751726d19c3b1a12 = L.circle(\n",
       "                [7.029112262, -73.80917902],\n",
       "                {&quot;bubblingMouseEvents&quot;: true, &quot;color&quot;: &quot;darkred&quot;, &quot;dashArray&quot;: null, &quot;dashOffset&quot;: null, &quot;fill&quot;: true, &quot;fillColor&quot;: &quot;darkred&quot;, &quot;fillOpacity&quot;: 0.1, &quot;fillRule&quot;: &quot;evenodd&quot;, &quot;lineCap&quot;: &quot;round&quot;, &quot;lineJoin&quot;: &quot;round&quot;, &quot;opacity&quot;: 1.0, &quot;radius&quot;: 237500.0, &quot;stroke&quot;: true, &quot;weight&quot;: 3}\n",
       "            ).addTo(map_9940cb2523c110d88a03846d9392aac6);\n",
       "        \n",
       "    \n",
       "            var marker_80a4d13ee3ae2a2d5426f4cbeb8634f7 = L.marker(\n",
       "                [2.54214078, -72.62499302],\n",
       "                {}\n",
       "            ).addTo(map_9940cb2523c110d88a03846d9392aac6);\n",
       "        \n",
       "    \n",
       "        var popup_aac2d5ca16a91810b34e0bf4c760d5f4 = L.popup({&quot;maxWidth&quot;: 2650});\n",
       "\n",
       "        \n",
       "            \n",
       "                var html_5a8e0aeb114b5379830520ee98a511c7 = $(`&lt;div id=&quot;html_5a8e0aeb114b5379830520ee98a511c7&quot; style=&quot;width: 100.0%; height: 100.0%;&quot;&gt;&lt;table border=&quot;1&quot; class=&quot;dataframe table table-striped table-hover table-condensed table-responsive&quot;&gt;   &lt;thead&gt;     &lt;tr style=&quot;text-align: right;&quot;&gt;       &lt;th&gt;&lt;/th&gt;       &lt;th&gt;6&lt;/th&gt;     &lt;/tr&gt;   &lt;/thead&gt;   &lt;tbody&gt;     &lt;tr&gt;       &lt;th&gt;Name&lt;/th&gt;       &lt;td&gt;R7. Guaviare - 2018&lt;/td&gt;     &lt;/tr&gt;     &lt;tr&gt;       &lt;th&gt;lat&lt;/th&gt;       &lt;td&gt;2.542141&lt;/td&gt;     &lt;/tr&gt;     &lt;tr&gt;       &lt;th&gt;lon&lt;/th&gt;       &lt;td&gt;-72.624993&lt;/td&gt;     &lt;/tr&gt;   &lt;/tbody&gt; &lt;/table&gt;&lt;/div&gt;`)[0];\n",
       "                popup_aac2d5ca16a91810b34e0bf4c760d5f4.setContent(html_5a8e0aeb114b5379830520ee98a511c7);\n",
       "            \n",
       "        \n",
       "\n",
       "        marker_80a4d13ee3ae2a2d5426f4cbeb8634f7.bindPopup(popup_aac2d5ca16a91810b34e0bf4c760d5f4)\n",
       "        ;\n",
       "\n",
       "        \n",
       "    \n",
       "    \n",
       "            var circle_e43af5749221190f477d1bf4c912ca18 = L.circle(\n",
       "                [2.54214078, -72.62499302],\n",
       "                {&quot;bubblingMouseEvents&quot;: true, &quot;color&quot;: &quot;pink&quot;, &quot;dashArray&quot;: null, &quot;dashOffset&quot;: null, &quot;fill&quot;: true, &quot;fillColor&quot;: &quot;pink&quot;, &quot;fillOpacity&quot;: 0.1, &quot;fillRule&quot;: &quot;evenodd&quot;, &quot;lineCap&quot;: &quot;round&quot;, &quot;lineJoin&quot;: &quot;round&quot;, &quot;opacity&quot;: 1.0, &quot;radius&quot;: 237500.0, &quot;stroke&quot;: true, &quot;weight&quot;: 3}\n",
       "            ).addTo(map_9940cb2523c110d88a03846d9392aac6);\n",
       "        \n",
       "    \n",
       "            var marker_415f74b5f3b57e9fc562b094892e440f = L.marker(\n",
       "                [2.520600151, -76.94680741],\n",
       "                {}\n",
       "            ).addTo(map_9940cb2523c110d88a03846d9392aac6);\n",
       "        \n",
       "    \n",
       "        var popup_fbd9191967680accb525ff1cc4d279be = L.popup({&quot;maxWidth&quot;: 2650});\n",
       "\n",
       "        \n",
       "            \n",
       "                var html_f94344e8b0970c74d660a90d8aa16a41 = $(`&lt;div id=&quot;html_f94344e8b0970c74d660a90d8aa16a41&quot; style=&quot;width: 100.0%; height: 100.0%;&quot;&gt;&lt;table border=&quot;1&quot; class=&quot;dataframe table table-striped table-hover table-condensed table-responsive&quot;&gt;   &lt;thead&gt;     &lt;tr style=&quot;text-align: right;&quot;&gt;       &lt;th&gt;&lt;/th&gt;       &lt;th&gt;7&lt;/th&gt;     &lt;/tr&gt;   &lt;/thead&gt;   &lt;tbody&gt;     &lt;tr&gt;       &lt;th&gt;Name&lt;/th&gt;       &lt;td&gt;R8. Munchique - 2018&lt;/td&gt;     &lt;/tr&gt;     &lt;tr&gt;       &lt;th&gt;lat&lt;/th&gt;       &lt;td&gt;2.5206&lt;/td&gt;     &lt;/tr&gt;     &lt;tr&gt;       &lt;th&gt;lon&lt;/th&gt;       &lt;td&gt;-76.946807&lt;/td&gt;     &lt;/tr&gt;   &lt;/tbody&gt; &lt;/table&gt;&lt;/div&gt;`)[0];\n",
       "                popup_fbd9191967680accb525ff1cc4d279be.setContent(html_f94344e8b0970c74d660a90d8aa16a41);\n",
       "            \n",
       "        \n",
       "\n",
       "        marker_415f74b5f3b57e9fc562b094892e440f.bindPopup(popup_fbd9191967680accb525ff1cc4d279be)\n",
       "        ;\n",
       "\n",
       "        \n",
       "    \n",
       "    \n",
       "            var circle_2466def517579023acd82c2ddd892634 = L.circle(\n",
       "                [2.520600151, -76.94680741],\n",
       "                {&quot;bubblingMouseEvents&quot;: true, &quot;color&quot;: &quot;gray&quot;, &quot;dashArray&quot;: null, &quot;dashOffset&quot;: null, &quot;fill&quot;: true, &quot;fillColor&quot;: &quot;gray&quot;, &quot;fillOpacity&quot;: 0.1, &quot;fillRule&quot;: &quot;evenodd&quot;, &quot;lineCap&quot;: &quot;round&quot;, &quot;lineJoin&quot;: &quot;round&quot;, &quot;opacity&quot;: 1.0, &quot;radius&quot;: 237500.0, &quot;stroke&quot;: true, &quot;weight&quot;: 3}\n",
       "            ).addTo(map_9940cb2523c110d88a03846d9392aac6);\n",
       "        \n",
       "    \n",
       "            var marker_133c3c11348e6108e16daea9a9f71746 = L.marker(\n",
       "                [4.570942338, -71.33758125],\n",
       "                {}\n",
       "            ).addTo(map_9940cb2523c110d88a03846d9392aac6);\n",
       "        \n",
       "    \n",
       "        var popup_974d2699554f0e9e7f7194862792b098 = L.popup({&quot;maxWidth&quot;: 2650});\n",
       "\n",
       "        \n",
       "            \n",
       "                var html_cc49210044252471f3113103bdae271f = $(`&lt;div id=&quot;html_cc49210044252471f3113103bdae271f&quot; style=&quot;width: 100.0%; height: 100.0%;&quot;&gt;&lt;table border=&quot;1&quot; class=&quot;dataframe table table-striped table-hover table-condensed table-responsive&quot;&gt;   &lt;thead&gt;     &lt;tr style=&quot;text-align: right;&quot;&gt;       &lt;th&gt;&lt;/th&gt;       &lt;th&gt;8&lt;/th&gt;     &lt;/tr&gt;   &lt;/thead&gt;   &lt;tbody&gt;     &lt;tr&gt;       &lt;th&gt;Name&lt;/th&gt;       &lt;td&gt;R9. Carimagua - 2018&lt;/td&gt;     &lt;/tr&gt;     &lt;tr&gt;       &lt;th&gt;lat&lt;/th&gt;       &lt;td&gt;4.570942&lt;/td&gt;     &lt;/tr&gt;     &lt;tr&gt;       &lt;th&gt;lon&lt;/th&gt;       &lt;td&gt;-71.337581&lt;/td&gt;     &lt;/tr&gt;   &lt;/tbody&gt; &lt;/table&gt;&lt;/div&gt;`)[0];\n",
       "                popup_974d2699554f0e9e7f7194862792b098.setContent(html_cc49210044252471f3113103bdae271f);\n",
       "            \n",
       "        \n",
       "\n",
       "        marker_133c3c11348e6108e16daea9a9f71746.bindPopup(popup_974d2699554f0e9e7f7194862792b098)\n",
       "        ;\n",
       "\n",
       "        \n",
       "    \n",
       "    \n",
       "            var circle_8cc66a1729754ab511df61290306599e = L.circle(\n",
       "                [4.570942338, -71.33758125],\n",
       "                {&quot;bubblingMouseEvents&quot;: true, &quot;color&quot;: &quot;darkblue&quot;, &quot;dashArray&quot;: null, &quot;dashOffset&quot;: null, &quot;fill&quot;: true, &quot;fillColor&quot;: &quot;darkblue&quot;, &quot;fillOpacity&quot;: 0.1, &quot;fillRule&quot;: &quot;evenodd&quot;, &quot;lineCap&quot;: &quot;round&quot;, &quot;lineJoin&quot;: &quot;round&quot;, &quot;opacity&quot;: 1.0, &quot;radius&quot;: 237500.0, &quot;stroke&quot;: true, &quot;weight&quot;: 3}\n",
       "            ).addTo(map_9940cb2523c110d88a03846d9392aac6);\n",
       "        \n",
       "    \n",
       "            var marker_7130849fa85ee0c2917ad0db1573a52a = L.marker(\n",
       "                [11.52755517, -72.91792602],\n",
       "                {}\n",
       "            ).addTo(map_9940cb2523c110d88a03846d9392aac6);\n",
       "        \n",
       "    \n",
       "        var popup_e150be57c8aaa2c7d1093845db672a20 = L.popup({&quot;maxWidth&quot;: 2650});\n",
       "\n",
       "        \n",
       "            \n",
       "                var html_6bf2f75561cf410ce6ff4d603d1fc50e = $(`&lt;div id=&quot;html_6bf2f75561cf410ce6ff4d603d1fc50e&quot; style=&quot;width: 100.0%; height: 100.0%;&quot;&gt;&lt;table border=&quot;1&quot; class=&quot;dataframe table table-striped table-hover table-condensed table-responsive&quot;&gt;   &lt;thead&gt;     &lt;tr style=&quot;text-align: right;&quot;&gt;       &lt;th&gt;&lt;/th&gt;       &lt;th&gt;9&lt;/th&gt;     &lt;/tr&gt;   &lt;/thead&gt;   &lt;tbody&gt;     &lt;tr&gt;       &lt;th&gt;Name&lt;/th&gt;       &lt;td&gt;R10. Rioacha - 2022&lt;/td&gt;     &lt;/tr&gt;     &lt;tr&gt;       &lt;th&gt;lat&lt;/th&gt;       &lt;td&gt;11.527555&lt;/td&gt;     &lt;/tr&gt;     &lt;tr&gt;       &lt;th&gt;lon&lt;/th&gt;       &lt;td&gt;-72.917926&lt;/td&gt;     &lt;/tr&gt;   &lt;/tbody&gt; &lt;/table&gt;&lt;/div&gt;`)[0];\n",
       "                popup_e150be57c8aaa2c7d1093845db672a20.setContent(html_6bf2f75561cf410ce6ff4d603d1fc50e);\n",
       "            \n",
       "        \n",
       "\n",
       "        marker_7130849fa85ee0c2917ad0db1573a52a.bindPopup(popup_e150be57c8aaa2c7d1093845db672a20)\n",
       "        ;\n",
       "\n",
       "        \n",
       "    \n",
       "    \n",
       "            var circle_63639af02422028e5a967bbd77343451 = L.circle(\n",
       "                [11.52755517, -72.91792602],\n",
       "                {&quot;bubblingMouseEvents&quot;: true, &quot;color&quot;: &quot;indigo&quot;, &quot;dashArray&quot;: null, &quot;dashOffset&quot;: null, &quot;fill&quot;: true, &quot;fillColor&quot;: &quot;indigo&quot;, &quot;fillOpacity&quot;: 0.1, &quot;fillRule&quot;: &quot;evenodd&quot;, &quot;lineCap&quot;: &quot;round&quot;, &quot;lineJoin&quot;: &quot;round&quot;, &quot;opacity&quot;: 1.0, &quot;radius&quot;: 237500.0, &quot;stroke&quot;: true, &quot;weight&quot;: 3}\n",
       "            ).addTo(map_9940cb2523c110d88a03846d9392aac6);\n",
       "        \n",
       "    \n",
       "            var marker_14f9742bf96d6d395481d5c1f961fd6e = L.marker(\n",
       "                [8.035046708, -72.45999669],\n",
       "                {}\n",
       "            ).addTo(map_9940cb2523c110d88a03846d9392aac6);\n",
       "        \n",
       "    \n",
       "        var popup_2269159ea3ba63285fb4c9b6de98b9b4 = L.popup({&quot;maxWidth&quot;: 2650});\n",
       "\n",
       "        \n",
       "            \n",
       "                var html_2c6a718850d3572b7e9b4af1548ffd09 = $(`&lt;div id=&quot;html_2c6a718850d3572b7e9b4af1548ffd09&quot; style=&quot;width: 100.0%; height: 100.0%;&quot;&gt;&lt;table border=&quot;1&quot; class=&quot;dataframe table table-striped table-hover table-condensed table-responsive&quot;&gt;   &lt;thead&gt;     &lt;tr style=&quot;text-align: right;&quot;&gt;       &lt;th&gt;&lt;/th&gt;       &lt;th&gt;10&lt;/th&gt;     &lt;/tr&gt;   &lt;/thead&gt;   &lt;tbody&gt;     &lt;tr&gt;       &lt;th&gt;Name&lt;/th&gt;       &lt;td&gt;R11. Tasajero - 2022&lt;/td&gt;     &lt;/tr&gt;     &lt;tr&gt;       &lt;th&gt;lat&lt;/th&gt;       &lt;td&gt;8.035047&lt;/td&gt;     &lt;/tr&gt;     &lt;tr&gt;       &lt;th&gt;lon&lt;/th&gt;       &lt;td&gt;-72.459997&lt;/td&gt;     &lt;/tr&gt;   &lt;/tbody&gt; &lt;/table&gt;&lt;/div&gt;`)[0];\n",
       "                popup_2269159ea3ba63285fb4c9b6de98b9b4.setContent(html_2c6a718850d3572b7e9b4af1548ffd09);\n",
       "            \n",
       "        \n",
       "\n",
       "        marker_14f9742bf96d6d395481d5c1f961fd6e.bindPopup(popup_2269159ea3ba63285fb4c9b6de98b9b4)\n",
       "        ;\n",
       "\n",
       "        \n",
       "    \n",
       "    \n",
       "            var circle_4a7fa547f0a00586bb6710f1620c55bd = L.circle(\n",
       "                [8.035046708, -72.45999669],\n",
       "                {&quot;bubblingMouseEvents&quot;: true, &quot;color&quot;: &quot;mediumblue&quot;, &quot;dashArray&quot;: null, &quot;dashOffset&quot;: null, &quot;fill&quot;: true, &quot;fillColor&quot;: &quot;mediumblue&quot;, &quot;fillOpacity&quot;: 0.1, &quot;fillRule&quot;: &quot;evenodd&quot;, &quot;lineCap&quot;: &quot;round&quot;, &quot;lineJoin&quot;: &quot;round&quot;, &quot;opacity&quot;: 1.0, &quot;radius&quot;: 237500.0, &quot;stroke&quot;: true, &quot;weight&quot;: 3}\n",
       "            ).addTo(map_9940cb2523c110d88a03846d9392aac6);\n",
       "        \n",
       "    \n",
       "            var marker_52f693fc51e2f57b67494890f10d3c30 = L.marker(\n",
       "                [5.697385822, -76.65070566],\n",
       "                {}\n",
       "            ).addTo(map_9940cb2523c110d88a03846d9392aac6);\n",
       "        \n",
       "    \n",
       "        var popup_6ad4b179af53b5b823249da27e362010 = L.popup({&quot;maxWidth&quot;: 2650});\n",
       "\n",
       "        \n",
       "            \n",
       "                var html_ba9e5ac7ccd6129cb0638c4146d7ffeb = $(`&lt;div id=&quot;html_ba9e5ac7ccd6129cb0638c4146d7ffeb&quot; style=&quot;width: 100.0%; height: 100.0%;&quot;&gt;&lt;table border=&quot;1&quot; class=&quot;dataframe table table-striped table-hover table-condensed table-responsive&quot;&gt;   &lt;thead&gt;     &lt;tr style=&quot;text-align: right;&quot;&gt;       &lt;th&gt;&lt;/th&gt;       &lt;th&gt;11&lt;/th&gt;     &lt;/tr&gt;   &lt;/thead&gt;   &lt;tbody&gt;     &lt;tr&gt;       &lt;th&gt;Name&lt;/th&gt;       &lt;td&gt;R12. Quibdó - 2022&lt;/td&gt;     &lt;/tr&gt;     &lt;tr&gt;       &lt;th&gt;lat&lt;/th&gt;       &lt;td&gt;5.697386&lt;/td&gt;     &lt;/tr&gt;     &lt;tr&gt;       &lt;th&gt;lon&lt;/th&gt;       &lt;td&gt;-76.650706&lt;/td&gt;     &lt;/tr&gt;   &lt;/tbody&gt; &lt;/table&gt;&lt;/div&gt;`)[0];\n",
       "                popup_6ad4b179af53b5b823249da27e362010.setContent(html_ba9e5ac7ccd6129cb0638c4146d7ffeb);\n",
       "            \n",
       "        \n",
       "\n",
       "        marker_52f693fc51e2f57b67494890f10d3c30.bindPopup(popup_6ad4b179af53b5b823249da27e362010)\n",
       "        ;\n",
       "\n",
       "        \n",
       "    \n",
       "    \n",
       "            var circle_1c984fb7bb29ed6e90b6992435d54e8b = L.circle(\n",
       "                [5.697385822, -76.65070566],\n",
       "                {&quot;bubblingMouseEvents&quot;: true, &quot;color&quot;: &quot;lime&quot;, &quot;dashArray&quot;: null, &quot;dashOffset&quot;: null, &quot;fill&quot;: true, &quot;fillColor&quot;: &quot;lime&quot;, &quot;fillOpacity&quot;: 0.1, &quot;fillRule&quot;: &quot;evenodd&quot;, &quot;lineCap&quot;: &quot;round&quot;, &quot;lineJoin&quot;: &quot;round&quot;, &quot;opacity&quot;: 1.0, &quot;radius&quot;: 237500.0, &quot;stroke&quot;: true, &quot;weight&quot;: 3}\n",
       "            ).addTo(map_9940cb2523c110d88a03846d9392aac6);\n",
       "        \n",
       "&lt;/script&gt;\n",
       "&lt;/html&gt;\" style=\"position:absolute;width:100%;height:100%;left:0;top:0;border:none !important;\" allowfullscreen webkitallowfullscreen mozallowfullscreen></iframe></div></div>"
      ],
      "text/plain": [
       "<folium.folium.Map at 0x7f56c55e2710>"
      ]
     },
     "execution_count": 6,
     "metadata": {},
     "output_type": "execute_result"
    }
   ],
   "source": [
    "df_radares.apply(locate_radar, axis=1)\n",
    "map_"
   ]
  },
  {
   "cell_type": "markdown",
   "metadata": {},
   "source": [
    "#### 1.2 Radares meteorológicos de IDEAM disponibles en [AWS](https://registry.opendata.aws/ideam-radares/)\n",
    "\n",
    "El Instituto de Hidrología, Meteorología y Estudios Ambientales - IDEAM ha dispuesto de manera públicos los datos del radar meteorológico. Los datos se pueden encontrar [aquí](https://registry.opendata.aws/ideam-radares/)) y la documentación [acá](http://www.pronosticosyalertas.gov.co/archivos-radar#:~:text=RED%20DE%20RADARES%20DE%20IDEAM%20EN%20AWS)."
   ]
  },
  {
   "cell_type": "markdown",
   "metadata": {},
   "source": [
    "La estructura del bucket es **s3://s3-radaresideam/l2_data/YYYY/MM/DD/Radar_name/RRRAAMMDDTTTTTT.RAWXXXX** donde: \n",
    "\n",
    "* **YYYY** es el año de 4 dígitos\n",
    "* **MM** es el mes de 2 dígitos\n",
    "* **DD** es el mes de 2 dígitos día\n",
    "* **Radar_name** nombre del radar. Las opciones son Guaviare, Munchique, Barrancabermja y Carimagua\n",
    "* **RRRAAMMDDTTTTTT** es el nombre del archivo del radar con lo siguiente:\n",
    "  - **RRR** las tres primeras letras del nombre del radar (p. ej., GUA para el radar Guaviare)\n",
    "  - **YY** es el año de 2 dígitos\n",
    "  - **MM** es el mes de 2 dígitos\n",
    "  - **DD** es el día de 2 dígitos\n",
    "  - **TTTTTT** es la hora en la que se realizó el escaneo (GTM)\n",
    "  - **RAWXXXX** Formato de archivo Sigmet y código único proporcionado por el software IRIS\n",
    "\n",
    "Veamos un ejemplo de cómo luce el repositorio usando aws cli y el siguiente commando en la terminal ```aws s3 ls --no-sign-request s3://s3-radaresideam/```"
   ]
  },
  {
   "cell_type": "code",
   "execution_count": 7,
   "metadata": {},
   "outputs": [
    {
     "name": "stdout",
     "output_type": "stream",
     "text": [
      "                           PRE Guaviare/\n",
      "                           PRE Munchique/\n"
     ]
    }
   ],
   "source": [
    "!aws s3 ls --no-sign-request s3://s3-radaresideam/l2_data/2021/09/19/"
   ]
  },
  {
   "cell_type": "markdown",
   "metadata": {},
   "source": [
    "## 2. Acceso a los datos de radar usando Python\n",
    "\n",
    "Podemos acceder a los datos de radar usando `Python` y librerias como `Py-Art` o `Xradar`. Para leer los datos de radar primero necesitamos generar una conexión entre el repositorio de datos `s3` de Amazon y nuestro computador. Esto lo podemos lograr mediante la libreria [`boto3`](https://aws.amazon.com/es/sdk-for-python/)"
   ]
  },
  {
   "cell_type": "code",
   "execution_count": 8,
   "metadata": {},
   "outputs": [
    {
     "data": {
      "text/plain": [
       "['s3://s3-radaresideam/l2_data/2022/08/09/Carimagua/CAR220809190003.RAWDSVV',\n",
       " 's3://s3-radaresideam/l2_data/2022/08/09/Carimagua/CAR220809190315.RAWDSW0',\n",
       " 's3://s3-radaresideam/l2_data/2022/08/09/Carimagua/CAR220809190401.RAWDSW3',\n",
       " 's3://s3-radaresideam/l2_data/2022/08/09/Carimagua/CAR220809190505.RAWDSW8',\n",
       " 's3://s3-radaresideam/l2_data/2022/08/09/Carimagua/CAR220809191003.RAWDSWM']"
      ]
     },
     "execution_count": 8,
     "metadata": {},
     "output_type": "execute_result"
    }
   ],
   "source": [
    "# direccion del bucket\n",
    "str_bucket = \"s3://s3-radaresideam/\"\n",
    "# creacion de un objeto s3 \n",
    "s3 = boto3.resource(\n",
    "    \"s3\",\n",
    "    config=botocore.client.Config(signature_version=botocore.UNSIGNED, user_agent_extra=\"Resource\"),\n",
    ")\n",
    "# Creamos un objeto s3.Bucket\n",
    "bucket = s3.Bucket(\"s3-radaresideam\")\n",
    "# Generamos una consulta tipo\n",
    "query = 'l2_data/2022/08/09/Carimagua/CAR22080919'\n",
    "# Listamos los archivos dentro de nuestro bucket\n",
    "radar_files = [f\"{str_bucket}{i.key}\" for i in bucket.objects.filter(Prefix=f\"{query}\")]\n",
    "radar_files[:5]"
   ]
  },
  {
   "cell_type": "markdown",
   "metadata": {},
   "source": [
    "Esta forma es un poco complicada. Podemos utilizar [`fsspec`](https://filesystem-spec.readthedocs.io/en/latest/) que permite hacer un \"montaje\" del bucket nuestro computador y es mucho mas simplificado. "
   ]
  },
  {
   "cell_type": "code",
   "execution_count": 12,
   "metadata": {},
   "outputs": [
    {
     "data": {
      "text/plain": [
       "['s3-radaresideam/l2_data/2022/08/09/Carimagua/CAR220809190003.RAWDSVV',\n",
       " 's3-radaresideam/l2_data/2022/08/09/Carimagua/CAR220809190315.RAWDSW0',\n",
       " 's3-radaresideam/l2_data/2022/08/09/Carimagua/CAR220809190401.RAWDSW3',\n",
       " 's3-radaresideam/l2_data/2022/08/09/Carimagua/CAR220809190505.RAWDSW8',\n",
       " 's3-radaresideam/l2_data/2022/08/09/Carimagua/CAR220809191003.RAWDSWM']"
      ]
     },
     "execution_count": 12,
     "metadata": {},
     "output_type": "execute_result"
    }
   ],
   "source": [
    "fs = fsspec.filesystem(\"s3\", anon=True)\n",
    "files = sorted(fs.glob(f\"s3-radaresideam/{query}**\"))\n",
    "files[:5]"
   ]
  },
  {
   "cell_type": "markdown",
   "metadata": {},
   "source": [
    "Una vez que tengamos nuestros archivos de interés, podemos cargar uno en memoria usando `Xradar` o `Py-Art`. Por ejemplo, estamos interesados ​​en el octavo archivo (`index=7`).\n"
   ]
  },
  {
   "cell_type": "markdown",
   "metadata": {},
   "source": [
    "### 2.1 Lectura de datos usando [`Py-Art`](https://arm-doe.github.io/pyart-docs-travis/index.html)\n",
    "\n",
    "Podemos leer nuestros datos usando el modulo `pyart.io.read_sigmet` o de manera general `pyart.io.read`"
   ]
  },
  {
   "cell_type": "code",
   "execution_count": null,
   "metadata": {},
   "outputs": [],
   "source": [
    "radar = pyart.io.read_sigmet(f's3://{files[7]}')"
   ]
  },
  {
   "cell_type": "markdown",
   "metadata": {},
   "source": [
    "Ahora podemos consultar la informacion contenida dentro del objeto radar usando `rada.info('compact')`"
   ]
  },
  {
   "cell_type": "code",
   "execution_count": null,
   "metadata": {},
   "outputs": [],
   "source": [
    "radar.info('compact')"
   ]
  },
  {
   "cell_type": "markdown",
   "metadata": {},
   "source": [
    "Podemos listar las variables polarimétricas contenidas en este archivo usando `radar.fields`"
   ]
  },
  {
   "cell_type": "code",
   "execution_count": null,
   "metadata": {},
   "outputs": [],
   "source": [
    "list(radar.fields)"
   ]
  },
  {
   "cell_type": "markdown",
   "metadata": {},
   "source": [
    "La variable polarimétrica más popular en es el factor de reflectividad que es una medida indirecta de la intensidad y el tamaño de las gotas de lluvia. Podemos ver mas información en el objeto radar accediendo de manera similar a un `diccionario`"
   ]
  },
  {
   "cell_type": "code",
   "execution_count": null,
   "metadata": {},
   "outputs": [],
   "source": [
    "radar.fields['reflectivity']"
   ]
  },
  {
   "cell_type": "markdown",
   "metadata": {},
   "source": [
    "#### Gráficas de reflectividad ($Z$)\n",
    "\n",
    "Ahora podemos generar salidas gráficas usando el módulo [`pyart.graph`](https://arm-doe.github.io/pyart-docs-travis/API/generated/pyart.graph.html?highlight=graph#module-pyart.graph). Esta libreria nos permite realizar gráficos con o sin georeferenciacion usando [`pyart.graph.RadarDisplay`](https://arm-doe.github.io/pyart-docs-travis/API/generated/pyart.graph.RadarDisplay.html#pyart.graph.RadarDisplay) o [`pyart.graph.RadarMapDisplay`](https://arm-doe.github.io/pyart-docs-travis/API/generated/pyart.graph.RadarMapDisplay.html#pyart.graph.RadarMapDisplay)"
   ]
  },
  {
   "cell_type": "code",
   "execution_count": null,
   "metadata": {},
   "outputs": [],
   "source": [
    "fig = plt.figure(figsize=(10,4))\n",
    "ax = fig.add_subplot(121)\n",
    "display_ = pyart.graph.RadarDisplay(radar)\n",
    "display_.plot(\n",
    "    \"reflectivity\",\n",
    "    0,\n",
    "    ax=ax,\n",
    "    vmin=0,\n",
    "    vmax=60.0,\n",
    "    colorbar_label=\"Reflectivity (dBZ)\",\n",
    "    title=\"Referencia al centro del radar\",\n",
    ")\n",
    "\n",
    "projection = ccrs.PlateCarree()\n",
    "ax1 = plt.subplot(122, projection=projection)\n",
    "display_ = pyart.graph.RadarMapDisplay(radar)\n",
    "# Extract the latitude and longitude of the radar and use it for the center of the map\n",
    "lat_center = round(radar.latitude['data'][0], 0)\n",
    "lon_center = round(radar.longitude['data'][0], 0)\n",
    "\n",
    "\n",
    "# Determine the ticks\n",
    "lat_ticks = np.arange(lat_center-3, lat_center+3, 1.5)\n",
    "lon_ticks = np.arange(lon_center-3, lon_center+3, 1.5)\n",
    "\n",
    "# Set the projection - in this case, we use a general PlateCarree projection\n",
    "\n",
    "display_.plot_ppi_map(\"reflectivity\", 0, \n",
    "                     resolution='10m', \n",
    "                     ax=ax1, \n",
    "                     lat_lines=lat_ticks, \n",
    "                     lon_lines=lon_ticks, \n",
    "                     colorbar_label=\"Reflectivity (dBZ)\",\n",
    "                     title=\"Georeferenciado\",)"
   ]
  },
  {
   "cell_type": "markdown",
   "metadata": {},
   "source": [
    "#### Gráficas de variables polarimétricas\n",
    "\n",
    "Tambien podemos generar gráficas de otras variables como reflectividad diferencial ($Z_{DR}$), diferencial de fase ($\\phi_{DP}$) y el coeficiente de correlación copolar ($\\rho_{HV}$)"
   ]
  },
  {
   "cell_type": "code",
   "execution_count": null,
   "metadata": {},
   "outputs": [],
   "source": [
    "fig = plt.figure(figsize=(12,10))\n",
    "display_ = pyart.graph.RadarMapDisplay(radar)\n",
    "# Extract the latitude and longitude of the radar and use it for the center of the map\n",
    "lat_center = round(radar.latitude['data'][0], 0)\n",
    "lon_center = round(radar.longitude['data'][0], 0)\n",
    "\n",
    "\n",
    "# Determine the ticks\n",
    "lat_ticks = np.arange(lat_center-3, lat_center+3, 1.5)\n",
    "lon_ticks = np.arange(lon_center-3, lon_center+3, 1.5)\n",
    "\n",
    "# Set the projection - in this case, we use a general PlateCarree projection\n",
    "projection = ccrs.PlateCarree()\n",
    "ax1 = plt.subplot(221, projection=projection)\n",
    "display_.plot_ppi_map(\"reflectivity\", 0, \n",
    "                     resolution='10m', \n",
    "                     ax=ax1, \n",
    "                     lat_lines=lat_ticks, \n",
    "                     lon_lines=lon_ticks, \n",
    "                     title=\"$Reflectividad$\")\n",
    "\n",
    "ax2 = plt.subplot(222, projection=projection)\n",
    "display_.plot_ppi_map(\"differential_reflectivity\", 0, \n",
    "                     resolution='10m', \n",
    "                     ax=ax2, \n",
    "                     lat_lines=lat_ticks, \n",
    "                     lon_lines=lon_ticks, \n",
    "                     title=\"$Reflectividad \\  diferencial$\")\n",
    "\n",
    "ax3 = plt.subplot(223, projection=projection)\n",
    "display_.plot_ppi_map(\"differential_phase\", 0, \n",
    "                     ax=ax3, resolution='10m', \n",
    "                     lat_lines=lat_ticks, \n",
    "                     lon_lines=lon_ticks, \n",
    "                     title=\"$Diferencial \\ de \\ fase$\")\n",
    "\n",
    "ax4 = plt.subplot(224, projection=projection)\n",
    "display_.plot_ppi_map(\"cross_correlation_ratio\", 0, \n",
    "                     ax=ax4, resolution='10m', \n",
    "                     lat_lines=lat_ticks, \n",
    "                     lon_lines=lon_ticks, \n",
    "                     title=\"$Coeficiente \\ de \\ corralación \\ copolar$\")\n",
    "plt.tight_layout()"
   ]
  },
  {
   "cell_type": "markdown",
   "metadata": {},
   "source": [
    "### 2.2 Lectura de datos usando [`Xradar`](https://docs.openradarscience.org/projects/xradar/en/latest/index.html)\n",
    "\n",
    "Los datos de radar de IDEAM también se puden leer usando [`xradar.io.open_iris_datatree`](https://docs.openradarscience.org/projects/xradar/en/stable/generated/xradar.io.backends.iris.open_iris_datatree.html#xradar.io.backends.iris.open_iris_datatree). Esta libreria, a diferencia de `Py-Art` usa como base [`Xarray`](https://docs.xarray.dev/en/stable/) retornando un [`xarray.Dataset`](https://docs.xarray.dev/en/stable/generated/xarray.Dataset.html) en caso de seleccionar un barrido en particular o un [`xarray.datatree`](https://xarray-datatree.readthedocs.io/en/latest/)  en caso de leer todas las elevaciones contenidas dentro del mismo archivo."
   ]
  },
  {
   "cell_type": "code",
   "execution_count": null,
   "metadata": {},
   "outputs": [],
   "source": [
    "## preaparamos un archivo para abrir de manera local\n",
    "task_file = fsspec.open_local(f'simplecache::s3://{files[7]}',\n",
    "                                s3={'anon': True},\n",
    "                                filecache={'cache_storage': '.'})"
   ]
  },
  {
   "cell_type": "code",
   "execution_count": null,
   "metadata": {
    "scrolled": true
   },
   "outputs": [],
   "source": [
    "# leemos nuestro archivo usando xradar\n",
    "radar = xd.io.open_iris_datatree(task_file)\n",
    "display(radar)"
   ]
  },
  {
   "cell_type": "markdown",
   "metadata": {},
   "source": [
    "Este `datatree` solo contine una elevación. Podemos acceder usando notación similar a la de un diccionario"
   ]
  },
  {
   "cell_type": "code",
   "execution_count": null,
   "metadata": {},
   "outputs": [],
   "source": [
    "display(radar['sweep_0'])"
   ]
  },
  {
   "cell_type": "markdown",
   "metadata": {},
   "source": [
    "#### Grafico de reflectividad\n",
    "\n",
    "Podemos usar la funcionalidad de `xarray` para generar plots de la siguiente manera"
   ]
  },
  {
   "cell_type": "code",
   "execution_count": null,
   "metadata": {},
   "outputs": [],
   "source": [
    "radar['sweep_0']['DBZH'].plot(cmap='pyart_ChaseSpectral', vmin=-10, vmax=60)"
   ]
  },
  {
   "cell_type": "markdown",
   "metadata": {},
   "source": [
    "Como podemos observar en el gráfico anterior los datos se encuentran ordenados por las dimensiones y coordenadas `azimuth` y `range`. Podemos usar la `xr.georeference` para generar las coordenadas polares a nuestro `dataset`"
   ]
  },
  {
   "cell_type": "code",
   "execution_count": null,
   "metadata": {},
   "outputs": [],
   "source": [
    "radar = radar.xradar.georeference()\n",
    "display(radar['sweep_0'])"
   ]
  },
  {
   "cell_type": "markdown",
   "metadata": {},
   "source": [
    "Como podemos ver `x`, `y` y `z` fueron agregados como nuevos campos de coordenadas. Ahora podemos proceder a generar el gráfico pero esta vez de manera georeferenciado"
   ]
  },
  {
   "cell_type": "code",
   "execution_count": null,
   "metadata": {},
   "outputs": [],
   "source": [
    "radar['sweep_0']['DBZH'].plot(x='x', y='y', cmap='pyart_ChaseSpectral', vmin=-10, vmax=60)"
   ]
  },
  {
   "cell_type": "markdown",
   "metadata": {},
   "source": [
    "Para generar gráficas de radar en un sistema coordenado de referencia podemos usar `cartopy`. Extraemos el sistema de referencia desde el objeto radar usando `xd.georeference.get_crs`"
   ]
  },
  {
   "cell_type": "code",
   "execution_count": null,
   "metadata": {},
   "outputs": [],
   "source": [
    "proj_crs = xd.georeference.get_crs(radar[\"sweep_0\"].ds)\n",
    "cart_crs = ccrs.Projection(proj_crs)"
   ]
  },
  {
   "cell_type": "markdown",
   "metadata": {
    "scrolled": true
   },
   "source": [
    "Ahora sí procedemos a generar el gráfico de reflectividad en un sistema coordenado de referencia"
   ]
  },
  {
   "cell_type": "code",
   "execution_count": null,
   "metadata": {},
   "outputs": [],
   "source": [
    "fig = plt.figure(figsize=(7, 7))\n",
    "ax = fig.add_subplot(111, projection=ccrs.PlateCarree())\n",
    "radar[\"sweep_0\"][\"DBZH\"].plot(\n",
    "    x=\"x\",\n",
    "    y=\"y\",\n",
    "    cmap='pyart_ChaseSpectral',\n",
    "    transform=cart_crs,\n",
    "    cbar_kwargs=dict(pad=0.075, shrink=0.75), \n",
    "    vmin=-10, vmax=60)\n",
    "ax.coastlines()\n",
    "ax.gridlines(draw_labels=True, ls='--', lw=0.5)"
   ]
  },
  {
   "cell_type": "markdown",
   "metadata": {},
   "source": [
    "#### Gráficos interactivos usando [`hvplot`](https://hvplot.holoviz.org/)\n",
    "\n",
    "Los gráficos estáticos pueden ser usados principalmente para publicaciones donde la interactividad no es necesaria. Sin embargo, en cursos como el taller de programación de AtmosCol 2023 podemos utilizar las ventajas de la interactividad para obtener mayor provecho de la información. "
   ]
  },
  {
   "cell_type": "code",
   "execution_count": null,
   "metadata": {},
   "outputs": [],
   "source": [
    "import hvplot.xarray"
   ]
  },
  {
   "cell_type": "code",
   "execution_count": null,
   "metadata": {},
   "outputs": [],
   "source": [
    "ref = radar[\"sweep_0\"].DBZH.hvplot.quadmesh(x='x',\n",
    "                                           y='y',\n",
    "                                           cmap='pyart_ChaseSpectral',\n",
    "                                           clabel='Horizontal Reflectivity (dBZ)',\n",
    "                                           title=f'Horizontal Reflectivity \\n {radar.attrs[\"instrument_name\"]} Radar',\n",
    "                                           clim=(-20, 60),\n",
    "                                           height=500,\n",
    "                                           rasterize=True,\n",
    "                                           width=600,)\n",
    "ref"
   ]
  },
  {
   "cell_type": "markdown",
   "metadata": {},
   "source": [
    "Ahora podemos interacturar con mas de un plot a la vez"
   ]
  },
  {
   "cell_type": "code",
   "execution_count": null,
   "metadata": {},
   "outputs": [],
   "source": [
    "zdr = radar[\"sweep_0\"].ZDR.hvplot.quadmesh(x='x',\n",
    "                                             y='y',\n",
    "                                             cmap='pyart_ChaseSpectral',\n",
    "                                             clabel='Differential Reflectivity (dB)',\n",
    "                                             title=f'Horizontal Reflectivity \\n {radar.attrs[\"instrument_name\"]} Radar',\n",
    "                                             clim=(-1, 6),\n",
    "                                             height=500,\n",
    "                                             rasterize=True,\n",
    "                                             width=600,)"
   ]
  },
  {
   "cell_type": "code",
   "execution_count": null,
   "metadata": {},
   "outputs": [],
   "source": [
    "(ref + zdr)"
   ]
  },
  {
   "cell_type": "markdown",
   "metadata": {},
   "source": [
    "## 3. Estimados de lluvia utilizando la ecuación de [Marshall and Gunn (1953)](https://www.sciencedirect.com/science/article/abs/pii/S0065268708603106?via%3Dihub)\n",
    "\n",
    "Uno de los productos de mayor interés para la comunidad científica, y en genera para todos los usuarios de la información de radares meteorológicos, es la **estimación de lluvia**. Desde **1948** los científicos han tratado de convertir las mediciones de **reflectividad ($Z$)** en mediciones de **intensidad de precipitación ($R$)**. Para esto se han desarrollado multiples ecuación empiricas **$Z-R$**. En 1953, Marshall and Gunn encontraron una de las relaciones más comunes e incluso utilizadas en la actualidad\n",
    "\n",
    "**$$Z  = 200 R ^{1.6}$$**\n",
    "\n",
    "Depajando para R tenemos:\n",
    "\n",
    "$$R[mm hr^{-1}] = \\left[ \\frac{Z[mm^{6} mm^{-3}]}{200} \\right] ^ {\\frac{1}{1.6}}$$\n",
    "$$R[mm hr^{-1}] = \\left( \\frac{1}{200} \\right) ^ {\\frac{1}{1.6}} \\left( Z[mm^{6} mm^{-3}] \\right) ^ {\\frac{1}{1.6}}$$"
   ]
  },
  {
   "cell_type": "code",
   "execution_count": null,
   "metadata": {},
   "outputs": [],
   "source": [
    "# @markdown\n",
    "from IPython.display import IFrame\n",
    "from ipywidgets import widgets\n",
    "\n",
    "link_id = \"ghmn5\"\n",
    "\n",
    "download_link = f\"https://osf.io/download/{link_id}/\"\n",
    "render_link = f\"https://mfr.ca-1.osf.io/render?url=https://osf.io/{link_id}/?direct%26mode=render%26action=download%26mode=render\"\n",
    "# @markdown\n",
    "out = widgets.Output()\n",
    "with out:\n",
    "    print(f\"If you want to download the slides: {download_link}\")\n",
    "    display(IFrame(src=f\"{render_link}\", width=730, height=410))\n",
    "display(out)"
   ]
  },
  {
   "cell_type": "markdown",
   "metadata": {},
   "source": [
    "<div class=\"admonition alert alert-warning\">\n",
    "    <p class=\"admonition-title\" style=\"font-weight:bold\">Cuidado!!!</p>\n",
    "    La reflectividad del radar esta dada en unidades decibelicas es decir\n",
    "    $$Z [dBZ] = 10 * log_{10}(Z[mm^{6}m^{3}])$$\n",
    "    Por lo tanto debemos convertir a unidades lineales\n",
    "    $$Z[mm^{6}m^{3}] = 10 ^{\\left(\\frac{Z[dBZ]}{10}\\right)}$$\n",
    "</div>"
   ]
  },
  {
   "cell_type": "code",
   "execution_count": null,
   "metadata": {
    "jp-MarkdownHeadingCollapsed": true
   },
   "outputs": [],
   "source": [
    "# Reflectividad en unidades decibelicas\n",
    "ref_log = radar[\"sweep_0\"].DBZH\n",
    "# reflectividad en unidades lineales\n",
    "ref_lin = 10 ** (ref_log / 10)\n",
    "#estimado de lluvia usando Marshall and Gunn (1953)\n",
    "rr = (1 / 200) ** (1 / 1.6 ) * ref_lin ** (1 / 1.6)"
   ]
  },
  {
   "cell_type": "markdown",
   "metadata": {},
   "source": [
    "Ahora podemos visualizar el campo de lluvia generado"
   ]
  },
  {
   "cell_type": "code",
   "execution_count": null,
   "metadata": {},
   "outputs": [],
   "source": [
    "fig = plt.figure(figsize=(7, 7))\n",
    "ax = fig.add_subplot(111, projection=ccrs.PlateCarree())\n",
    "rr.plot(\n",
    "    x=\"x\",\n",
    "    y=\"y\",\n",
    "    cmap='jet',\n",
    "    transform=cart_crs,\n",
    "    cbar_kwargs=dict(pad=0.075, shrink=0.75, label='$Intensidad \\ de \\ lluvia \\ [mm hr^{-1}]$'), \n",
    "    vmin=0, vmax=50)\n",
    "ax.set_title(\"$Estimado \\ de \\ lluvia$\")\n",
    "ax.coastlines()\n",
    "ax.gridlines(draw_labels=True, ls='--', lw=0.5)"
   ]
  },
  {
   "cell_type": "markdown",
   "metadata": {},
   "source": [
    "---"
   ]
  },
  {
   "cell_type": "markdown",
   "metadata": {},
   "source": [
    "## Conclusiones\n",
    "\n",
    "En este cuadernillo aprendimos sobre la red nacional de radares meteorológicos de Colombia. Logramos acceder a los datos del repositorio de AWS usando Python. Utilizamos Py-Art y Xradar para acceder, visualizar los datos de manera intectiva usando hvplot y generar estimados de precipitación utilzando la ecuacion de Marshall and Gunn (1953)"
   ]
  },
  {
   "cell_type": "markdown",
   "metadata": {},
   "source": [
    "## Resources and references\n",
    "\n",
    "* Radar Cookbook [https://projectpythia.org/radar-cookbook/README.html] DOI[https://doi.org/10.5281/zenodo.8075855]\n",
    "* Rose, B. E. J., Kent, J., Tyle, K., Clyne, J., Banihirwe, A., Camron, D., May, R., Grover, M., Ford, R. R., Paul, K., Morley, J., Eroglu, O., Kailyn, L., & Zacharias, A. (2023). Pythia Foundations (Version v2023.05.01) https://doi.org/10.5281/zenodo.7884572\n",
    "* Marshall, J. S., and W. M. K. Palmer, 1948: THE DISTRIBUTION OF RAINDROPS WITH SIZE. J. Atmos. Sci., 5, 165–166, https://doi.org/10.1175/1520-0469(1948)005<0165:TDORWS>2.0.CO;2.\n",
    "* Helmus, J.J. & Collis, S.M., (2016). The Python ARM Radar Toolkit (Py-ART), a Library for Working with Weather Radar Data in the Python Programming Language. Journal of Open Research Software. 4(1), p.e25. DOI: http://doi.org/10.5334/jors.119\n",
    "* Xradar Python library [https://docs.openradarscience.org/projects/xradar/en/stable/#] DOI[https://docs.openradarscience.org/projects/xradar/en/stable/#]"
   ]
  }
 ],
 "metadata": {
  "kernelspec": {
   "display_name": "Python 3 (ipykernel)",
   "language": "python",
   "name": "python3"
  },
  "language_info": {
   "codemirror_mode": {
    "name": "ipython",
    "version": 3
   },
   "file_extension": ".py",
   "mimetype": "text/x-python",
   "name": "python",
   "nbconvert_exporter": "python",
   "pygments_lexer": "ipython3",
   "version": "3.11.5"
  },
  "nbdime-conflicts": {
   "local_diff": [
    {
     "diff": [
      {
       "diff": [
        {
         "key": 0,
         "op": "addrange",
         "valuelist": [
          "Python 3"
         ]
        },
        {
         "key": 0,
         "length": 1,
         "op": "removerange"
        }
       ],
       "key": "display_name",
       "op": "patch"
      }
     ],
     "key": "kernelspec",
     "op": "patch"
    }
   ],
   "remote_diff": [
    {
     "diff": [
      {
       "diff": [
        {
         "key": 0,
         "op": "addrange",
         "valuelist": [
          "Python3"
         ]
        },
        {
         "key": 0,
         "length": 1,
         "op": "removerange"
        }
       ],
       "key": "display_name",
       "op": "patch"
      }
     ],
     "key": "kernelspec",
     "op": "patch"
    }
   ]
  },
  "toc-autonumbering": false
 },
 "nbformat": 4,
 "nbformat_minor": 4
}
