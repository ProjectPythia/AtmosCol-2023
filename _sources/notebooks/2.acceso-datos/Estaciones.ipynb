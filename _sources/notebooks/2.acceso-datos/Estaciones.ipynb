{
 "cells": [
  {
   "cell_type": "markdown",
   "metadata": {},
   "source": [
    " <img src=\"../images/logos/Ideam_logo.png\" width=300 alt=\"Ideam_Logo\"></img> "
   ]
  },
  {
   "cell_type": "markdown",
   "metadata": {},
   "source": [
    "# Acceso a información hidrometeorológica en Colombia - Estaciones"
   ]
  },
  {
   "cell_type": "markdown",
   "metadata": {},
   "source": [
    "---"
   ]
  },
  {
   "cell_type": "markdown",
   "metadata": {},
   "source": [
    "## Resumen\n",
    "En este cuadernillo (Notebook) aprenderemos:\n",
    "\n",
    "1. Introduccion a la red de monitoreo del IDEAM\n",
    "2. Cátalogo de estaciones de IDEAM\n",
    "3. Consulta de datos usando la plataforma [datosabiertos.gov.co](https://www.datos.gov.co/) \n",
    "1. Consulta de datos de temperatura y precipitación\n",
    "1. Otros datos disponibles"
   ]
  },
  {
   "cell_type": "markdown",
   "metadata": {},
   "source": [
    "## Prerequisitos\n",
    "| Conceptos | Importancia | Notas |\n",
    "| --- | --- | --- |\n",
    "| [Introducción a Pandas](https://foundations.projectpythia.org/core/pandas.html) | Necesario | lectura de datos tabulares |\n",
    "| [Introducción a Datetime](https://foundations.projectpythia.org/core/datetime/datetime.html) | Necesario | Entender estampas de tiempo |\n",
    "\n",
    "- **Tiempo de aprendizaje**: 30 minutos"
   ]
  },
  {
   "cell_type": "markdown",
   "metadata": {},
   "source": [
    "# 1. Catalogo nacional de estaciones de IDEAM "
   ]
  },
  {
   "cell_type": "markdown",
   "metadata": {},
   "source": [
    "El ideam cuenta con ....."
   ]
  },
  {
   "cell_type": "markdown",
   "metadata": {},
   "source": [
    "## Librerias\n"
   ]
  },
  {
   "cell_type": "code",
   "execution_count": null,
   "metadata": {},
   "outputs": [],
   "source": [
    "import pandas as pd\n",
    "# import folium\n",
    "import cartopy.crs as ccrs\n",
    "import cartopy.feature as feature\n",
    "import matplotlib.pyplot as plt"
   ]
  },
  {
   "cell_type": "markdown",
   "metadata": {},
   "source": [
    "## Acceso al catalog en [datosabiertos.gov.co](https://www.datos.gov.co/) "
   ]
  },
  {
   "cell_type": "markdown",
   "metadata": {},
   "source": [
    "El catalogo nacional de estaciones de IDEAM se encuentra disponible en el siguiente link. Podemos leer el cat[alogo usando `pandas`"
   ]
  },
  {
   "cell_type": "code",
   "execution_count": null,
   "metadata": {},
   "outputs": [],
   "source": [
    "df_cat = pd.read_excel('http://bart.ideam.gov.co/cneideam/CNE_IDEAM.xls')"
   ]
  },
  {
   "cell_type": "code",
   "execution_count": null,
   "metadata": {},
   "outputs": [],
   "source": [
    "#df_cat.head()"
   ]
  },
  {
   "cell_type": "code",
   "execution_count": null,
   "metadata": {},
   "outputs": [],
   "source": [
    "df_cat.info()"
   ]
  },
  {
   "cell_type": "markdown",
   "metadata": {},
   "source": [
    "## Mapa de estaciones \n",
    "\n",
    "Podemos usar `cartopy` para hacer un mapa y visualizar las estaciones de monitoreo en el pais"
   ]
  },
  {
   "cell_type": "code",
   "execution_count": null,
   "metadata": {},
   "outputs": [],
   "source": [
    "fig, ax = plt.subplots(subplot_kw={\"projection\":ccrs.PlateCarree()}, dpi=150)\n",
    "ax.coastlines()\n",
    "gl = ax.gridlines(draw_labels=True, crs=ccrs.PlateCarree())\n",
    "ax.scatter(df_cat['longitud'], df_cat['latitud'], transform=ccrs.PlateCarree(), s=.5)\n",
    "ax.add_feature(feature.LAND)\n",
    "ax.add_feature(feature.OCEAN)\n",
    "ax.add_feature(feature.COASTLINE, linewidth=.5)\n",
    "ax.add_feature(feature.BORDERS, linewidth=.5)"
   ]
  },
  {
   "cell_type": "markdown",
   "metadata": {},
   "source": [
    "podemos agrupar la data por área operativa, tipo de estacion, tecnologia, y otras variables"
   ]
  },
  {
   "cell_type": "code",
   "execution_count": null,
   "metadata": {},
   "outputs": [],
   "source": [
    "df_grp = df_cat.groupby('AREA_OPERATIVA')\n",
    "# df_grp = df_cat.groupby('TECNOLOGIA')\n",
    "# df_grp = df_cat.groupby('ESTADO')"
   ]
  },
  {
   "cell_type": "code",
   "execution_count": null,
   "metadata": {},
   "outputs": [],
   "source": [
    "fig, ax = plt.subplots(subplot_kw={\"projection\":ccrs.PlateCarree()}, dpi=150)\n",
    "\n",
    "for _, group in df_grp:\n",
    "    ax.scatter(group['longitud'], group['latitud'], transform=ccrs.PlateCarree(), s=.5, label=_)\n",
    "    \n",
    "ax.coastlines()\n",
    "gl = ax.gridlines(draw_labels=True, crs=ccrs.PlateCarree())\n",
    "ax.add_feature(feature.LAND)\n",
    "ax.add_feature(feature.OCEAN)\n",
    "ax.add_feature(feature.COASTLINE, linewidth=.5)\n",
    "ax.add_feature(feature.BORDERS, linewidth=.5)\n",
    "# ax.legend(fontsize=5)"
   ]
  },
  {
   "cell_type": "markdown",
   "metadata": {},
   "source": [
    "Podemos validar el numero total de estaciones activas, en matenimiento y suspendidas de acuerdo con la información contenida en el catálogo"
   ]
  },
  {
   "cell_type": "code",
   "execution_count": null,
   "metadata": {},
   "outputs": [],
   "source": [
    "for grp in df_grp.groups.keys():\n",
    "    print(f\"{grp}: {len(df_grp.get_group(grp))}\")"
   ]
  },
  {
   "cell_type": "markdown",
   "metadata": {},
   "source": [
    "También podemos hacer mapas interactivos usando [folium](https://python-visualization.github.io/folium/latest/)"
   ]
  },
  {
   "cell_type": "code",
   "execution_count": null,
   "metadata": {},
   "outputs": [],
   "source": [
    "import folium\n",
    "from folium import plugins\n",
    "from folium.plugins import MarkerCluster"
   ]
  },
  {
   "cell_type": "code",
   "execution_count": null,
   "metadata": {},
   "outputs": [],
   "source": [
    "min_lon, max_lon, min_lat, max_lat = -90, -72, -1, 14\n",
    "\n",
    "map_ = folium.Map(location=[8, -76],\n",
    "                  zoom_start = 6, \n",
    "                  min_lat=min_lat, \n",
    "                  max_lat=max_lat, \n",
    "                  min_lon=min_lon, \n",
    "                  max_lon=max_lon, \n",
    "                  zoom_control=False,\n",
    "                  control_scale=True,\n",
    "                  scrollWheelZoom=True,\n",
    "                  width=1000,height=600)\n",
    "marker_cluster = MarkerCluster(name=\"Estaciones\").add_to(map_)\n",
    "\n",
    "folium.TileLayer('cartodbpositron').add_to(map_)\n",
    "folium.TileLayer('openstreetmap').add_to(map_)\n",
    "folium.TileLayer('stamenterrain').add_to(map_)\n",
    "folium.TileLayer('cartodbdark_matter').add_to(map_)\n",
    "folium.LayerControl().add_to(map_)\n",
    "\n",
    "minimap = plugins.MiniMap()\n",
    "_ = map_.add_child(minimap)\n",
    "# _"
   ]
  },
  {
   "cell_type": "markdown",
   "metadata": {},
   "source": [
    "Ahora agregamos las estaciones usando la siguiente función"
   ]
  },
  {
   "cell_type": "code",
   "execution_count": null,
   "metadata": {},
   "outputs": [],
   "source": [
    "def plot_station(row):\n",
    "    '''input: series that contains a numeric named latitude and a numeric named longitude\n",
    "    this function creates a CircleMarker and adds it to your this_map'''\n",
    "    folium.Marker(location=[row.latitud, row.longitud], popup=row[\"CODIGO\"]).add_to(marker_cluster)"
   ]
  },
  {
   "cell_type": "code",
   "execution_count": null,
   "metadata": {},
   "outputs": [],
   "source": [
    "df_cat.apply(plot_station, axis=1)\n",
    "map_"
   ]
  },
  {
   "cell_type": "markdown",
   "metadata": {},
   "source": [
    "## Acceso a la informacion historica de IDEAM usando [datosabiertos.gov.co](https://www.datos.gov.co/)"
   ]
  },
  {
   "cell_type": "markdown",
   "metadata": {},
   "source": [
    "la información historica de multiples sensores se puede consultar atraves de la plataforma de datos abiertos usando el aplicativo [sodapy](https://dev.socrata.com/). Socrata utiliza un módulo denominado `Socrata` que permite realizar consultas al repositorio. Cada variable hidrometeorógica dispuesta se puede consultar usando el su respectivo código del set de datos.\n",
    "\n",
    "\n",
    "| Variable | Código del set de datos |\n",
    "| --- | --- |\n",
    "| [Dirección del viento](https://www.datos.gov.co/Ambiente-y-Desarrollo-Sostenible/Direcci-n-Viento/kiw7-v9ta) | kiw7-v9ta |\n",
    "| [Nivel instantaneo](https://www.datos.gov.co/Ambiente-y-Desarrollo-Sostenible/Nivel-Instant-neo/bdmn-sqnh) | bdmn-sqnh |\n",
    "| [Temperatura Minima del Aire](https://www.datos.gov.co/Ambiente-y-Desarrollo-Sostenible/Temperatura-M-nima-del-Aire/afdg-3zpb) | afdg-3zpb |\n",
    "| [Temperatura Maxima del Aire](https://www.datos.gov.co/Ambiente-y-Desarrollo-Sostenible/Temperatura-M-xima-del-Aire/ccvq-rp9s) | ccvq-rp9s |\n",
    "| [Velocidad del Viento](https://www.datos.gov.co/Ambiente-y-Desarrollo-Sostenible/Velocidad-Viento/sgfv-3yp8) | sgfv-3yp8 |\n",
    "| [Nivel Maximo](https://www.datos.gov.co/Ambiente-y-Desarrollo-Sostenible/Nivel-M-ximo/vfth-yucv) | vfth-yucv |\n",
    "| [Nivel Minimo](https://www.datos.gov.co/Ambiente-y-Desarrollo-Sostenible/Nivel-M-nimo/pt9a-aamx) | pt9a-aamx |\n",
    "| [Humedad del Aire](https://www.datos.gov.co/Ambiente-y-Desarrollo-Sostenible/Humedad-del-Aire-2-metros/uext-mhny) | uext-mhny |\n",
    "| [Temperatura](https://www.datos.gov.co/Ambiente-y-Desarrollo-Sostenible/Datos-Hidrometeorol-gicos-Crudos-Red-de-Estaciones/sbwg-7ju4) | sbwg-7ju4 |\n",
    "| [Nivel del mar mínimo](https://www.datos.gov.co/Ambiente-y-Desarrollo-Sostenible/Nivel-del-Mar-M-nimo/7z6g-yx9q) | 7z6g-yx9q |\n",
    "| [Nivel del mar máximo](https://www.datos.gov.co/Ambiente-y-Desarrollo-Sostenible/Nivel-del-Mar-M-ximo/uxy3-jchf) | uxy3-jchf |\n",
    "| [Nivel del mar](https://www.datos.gov.co/Ambiente-y-Desarrollo-Sostenible/Nivel-del-Mar/ia8x-22em) | ia8x-22em |\n",
    "| [Presión Atmosferica](https://www.datos.gov.co/Ambiente-y-Desarrollo-Sostenible/Presi-n-Atmosf-rica/62tk-nxj5) | 62tk-nxj5 |\n",
    "| [Precipitación](https://www.datos.gov.co/Ambiente-y-Desarrollo-Sostenible/Precipitaci-n/s54a-sgyg) | s54a-sgyg |"
   ]
  },
  {
   "cell_type": "code",
   "execution_count": null,
   "metadata": {},
   "outputs": [],
   "source": [
    "# importamos la libreria Socrata\n",
    "from sodapy import Socrata"
   ]
  },
  {
   "cell_type": "markdown",
   "metadata": {},
   "source": [
    "### Precipitación (s54a-sgyg)"
   ]
  },
  {
   "cell_type": "markdown",
   "metadata": {},
   "source": [
    "Vamos a consultar los datos de `precipitación` reportada en la página. por ende vamos a usar el código `s54a-sgyg`. Para esto usamos el metodo `Socrata`, pasamos la direccion del repositorio y `None` que corresponde a la no autenticación"
   ]
  },
  {
   "cell_type": "code",
   "execution_count": null,
   "metadata": {},
   "outputs": [],
   "source": [
    "# conexión cliente usando socrata al repositorio de datos abiertos\n",
    "client = Socrata(\"www.datos.gov.co\", None)"
   ]
  },
  {
   "cell_type": "markdown",
   "metadata": {},
   "source": [
    "Una vez creado el cliente empezamos a hacer la consulta de datos  usando `client.get` y pasando los respectivos parámetros `dataset_identifier`, de la tabla anterior , y `limit` para generar consultas no muy grandes para efectos demostrativos. El resultado es una lista con multiples diccionarios como se puede ver a continuación."
   ]
  },
  {
   "cell_type": "code",
   "execution_count": null,
   "metadata": {},
   "outputs": [],
   "source": [
    "# Solicitud de informacion al repositorio de interés\n",
    "results = client.get(dataset_identifier=\"s54a-sgyg\", limit=2000)\n",
    "results[:1]"
   ]
  },
  {
   "cell_type": "markdown",
   "metadata": {},
   "source": [
    "Estos resultados los podemos convertir en un `Dataframe` usando [pandas.Dataframe.from_records](https://pandas.pydata.org/docs/reference/api/pandas.DataFrame.from_records.html)"
   ]
  },
  {
   "cell_type": "code",
   "execution_count": null,
   "metadata": {},
   "outputs": [],
   "source": [
    "results_df = pd.DataFrame.from_records(results)\n",
    "results_df.head()"
   ]
  },
  {
   "cell_type": "markdown",
   "metadata": {},
   "source": [
    "Ahora podemos usar filtrar los datos por diferentes campos como el `codigoestacion`, `fechaobservacion`, o `valorobservado`. Podemos pasar parametros `SQL` como `where`, `AND`, `IN`, entre otros, en el método `client.get`"
   ]
  },
  {
   "cell_type": "code",
   "execution_count": null,
   "metadata": {},
   "outputs": [],
   "source": [
    "# client.get?"
   ]
  },
  {
   "cell_type": "code",
   "execution_count": null,
   "metadata": {},
   "outputs": [],
   "source": [
    "# Solicitud de informacion para la estación de la Universidad Nacional - Bogotá - 0021205012\n",
    "ppt_query = client.get(dataset_identifier=\"s54a-sgyg\", \n",
    "                       select=\"fechaobservacion, valorobservado, codigoestacion\", \n",
    "                       where=\"codigoestacion IN ('0021205012') \\\n",
    "                              AND fechaobservacion > '2017'\")\n",
    "df_est = pd.DataFrame.from_records(ppt_query)\n",
    "df_est.head()"
   ]
  },
  {
   "cell_type": "code",
   "execution_count": null,
   "metadata": {},
   "outputs": [],
   "source": [
    "# Solicitud de informacion para la estación de la Universidad Nacional - Bogotá - 0021205012\n",
    "ppt_query = client.get(dataset_identifier=\"s54a-sgyg\", \n",
    "                       select=\"fechaobservacion, valorobservado, codigoestacion, nombreestacion\", \n",
    "                       where=\"fechaobservacion > '2023'\")\n",
    "df_est = pd.DataFrame.from_records(ppt_query)\n",
    "df_est.head()"
   ]
  },
  {
   "cell_type": "markdown",
   "metadata": {},
   "source": [
    "#### Gráfico de la serie temporal \n",
    "Podemos generar una serie temporal usando la información resultado de la consulta. Sin embargo, primero debemos revisar el tipo de dato resulta"
   ]
  },
  {
   "cell_type": "code",
   "execution_count": null,
   "metadata": {},
   "outputs": [],
   "source": [
    "df_est.info()"
   ]
  },
  {
   "cell_type": "code",
   "execution_count": null,
   "metadata": {},
   "outputs": [],
   "source": [
    "df_est.index = pd.to_datetime(df_est['fechaobservacion'])\n",
    "df_est.valorobservado = df_est['valorobservado'].astype(float)\n",
    "df_est = df_est.sort_index()\n",
    "df_est.tail()"
   ]
  },
  {
   "cell_type": "code",
   "execution_count": null,
   "metadata": {},
   "outputs": [],
   "source": [
    "# pd.options.plotting.backend = 'holoviews'\n",
    "fig, ax = plt.subplots(figsize=(12, 3))\n",
    "df_est['valorobservado'].plot(ax=ax)"
   ]
  },
  {
   "cell_type": "markdown",
   "metadata": {},
   "source": [
    "### Temperatura (sbwg-7ju4)\n",
    "\n",
    "De manera similar podemos consultar otros registros como los de temperatura. Cambiamos el identificador de set de datos y generamos una nueva consulta"
   ]
  },
  {
   "cell_type": "code",
   "execution_count": null,
   "metadata": {},
   "outputs": [],
   "source": [
    "# Solicitud de informacion para la estación de la Universidad Nacional - Bogotá - 0021205012\n",
    "temp_query = client.get(dataset_identifier=\"sbwg-7ju4\", \n",
    "                       select=\"fechaobservacion, valorobservado, codigoestacion\", \n",
    "                       where=\"codigoestacion IN ('0021205012') \\\n",
    "                              AND fechaobservacion > '2017'\")\n",
    "df_temp = pd.DataFrame.from_records(temp_query)\n",
    "df_temp.index = pd.to_datetime(df_temp['fechaobservacion'])\n",
    "df_temp.valorobservado = df_temp['valorobservado'].astype(float)\n",
    "df_temp = df_temp.sort_index()\n",
    "df_temp.tail()"
   ]
  },
  {
   "cell_type": "code",
   "execution_count": null,
   "metadata": {},
   "outputs": [],
   "source": [
    "fig, ax = plt.subplots(figsize=(12, 3))\n",
    "df_temp['valorobservado'].plot(c='C00', lw=0.5, ax=ax)"
   ]
  },
  {
   "cell_type": "markdown",
   "metadata": {},
   "source": [
    "---"
   ]
  },
  {
   "cell_type": "markdown",
   "metadata": {},
   "source": [
    "## Resumen final\n",
    "Add one final `---` marking the end of your body of content, and then conclude with a brief single paragraph summarizing at a high level the key pieces that were learned and how they tied to your objectives. Look to reiterate what the most important takeaways were.\n",
    "\n",
    "### What's next?\n",
    "Let Jupyter book tie this to the next (sequential) piece of content that people could move on to down below and in the sidebar. However, if this page uniquely enables your reader to tackle other nonsequential concepts throughout this book, or even external content, link to it here!"
   ]
  },
  {
   "cell_type": "markdown",
   "metadata": {},
   "source": [
    "## Resources and references\n",
    "Finally, be rigorous in your citations and references as necessary. Give credit where credit is due. Also, feel free to link to relevant external material, further reading, documentation, etc. Then you're done! Give yourself a quick review, a high five, and send us a pull request. A few final notes:\n",
    " - `Kernel > Restart Kernel and Run All Cells...` to confirm that your notebook will cleanly run from start to finish\n",
    " - `Kernel > Restart Kernel and Clear All Outputs...` before committing your notebook, our machines will do the heavy lifting\n",
    " - Take credit! Provide author contact information if you'd like; if so, consider adding information here at the bottom of your notebook\n",
    " - Give credit! Attribute appropriate authorship for referenced code, information, images, etc.\n",
    " - Only include what you're legally allowed: **no copyright infringement or plagiarism**\n",
    " \n",
    "Thank you for your contribution!"
   ]
  }
 ],
 "metadata": {
  "kernelspec": {
   "display_name": "Python 3 (ipykernel)",
   "language": "python",
   "name": "python3"
  },
  "language_info": {
   "codemirror_mode": {
    "name": "ipython",
    "version": 3
   },
   "file_extension": ".py",
   "mimetype": "text/x-python",
   "name": "python",
   "nbconvert_exporter": "python",
   "pygments_lexer": "ipython3",
   "version": "3.11.5"
  },
  "nbdime-conflicts": {
   "local_diff": [
    {
     "diff": [
      {
       "diff": [
        {
         "key": 0,
         "op": "addrange",
         "valuelist": [
          "Python 3"
         ]
        },
        {
         "key": 0,
         "length": 1,
         "op": "removerange"
        }
       ],
       "key": "display_name",
       "op": "patch"
      }
     ],
     "key": "kernelspec",
     "op": "patch"
    }
   ],
   "remote_diff": [
    {
     "diff": [
      {
       "diff": [
        {
         "key": 0,
         "op": "addrange",
         "valuelist": [
          "Python3"
         ]
        },
        {
         "key": 0,
         "length": 1,
         "op": "removerange"
        }
       ],
       "key": "display_name",
       "op": "patch"
      }
     ],
     "key": "kernelspec",
     "op": "patch"
    }
   ]
  },
  "toc-autonumbering": false
 },
 "nbformat": 4,
 "nbformat_minor": 4
}
