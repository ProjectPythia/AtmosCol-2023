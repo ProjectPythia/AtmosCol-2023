{
 "cells": [
  {
   "cell_type": "markdown",
   "metadata": {},
   "source": [
    "<img src=\"../images/logos/numpy_logo.png\" width=200 alt=\"np_logo\"></img> <img src=\"../images/logos/pandas_secondary.svg\" width=300 alt=\"pd_logo\"></img> <img src=\"../images/logos/xarray-logo-square.png\" width=220 alt=\"pd_logo\"></img>"
   ]
  },
  {
   "cell_type": "markdown",
   "metadata": {},
   "source": [
    "# NumPy, Pandas y Xarray"
   ]
  },
  {
   "cell_type": "markdown",
   "metadata": {},
   "source": [
    "---"
   ]
  },
  {
   "cell_type": "markdown",
   "metadata": {},
   "source": [
    "## Introducción\n",
    "En este cuadernillo (Notebook) aprenderemos acerca de librerias útiles en la programación científica:\n",
    "\n",
    "1. Introducción numpy\n",
    "1. Introducción pandas\n",
    "1. Introducción xarray\n",
    "\n",
    "Este cuadernillo contiene información simplificada de [`Pythia Fundations`](https://foundations.projectpythia.org/landing-page.html)"
   ]
  },
  {
   "cell_type": "markdown",
   "metadata": {},
   "source": [
    "## Prerequisitos\n",
    "| Conceptos | Importancia | Notas |\n",
    "| --- | --- | --- |\n",
    "| [Introducción a Numpy](https://foundations.projectpythia.org/core/numpy.html) | Necesario | Información complementaria |\n",
    "| [Introducción a Pandas](https://foundations.projectpythia.org/core/pandas.html) | Necesario | Información complementaria |\n",
    "| [Introducción a Xarray](https://foundations.projectpythia.org/core/xarray.html) | Necesario | Información complementaria |\n",
    "\n",
    "- **Tiempo de aprendizaje**: 30 minutos"
   ]
  },
  {
   "cell_type": "markdown",
   "metadata": {},
   "source": [
    "---"
   ]
  },
  {
   "cell_type": "markdown",
   "metadata": {},
   "source": [
    "## Librerias\n",
    "A continuación presentamos las librerias que vamos a usar durante este cuadernillo"
   ]
  },
  {
   "cell_type": "code",
   "execution_count": 1,
   "metadata": {},
   "outputs": [],
   "source": [
    "import numpy as np # Manejo de matrices multidimensionales\n",
    "import pandas as pd # Manejo de datos tabulares y series de tiempo\n",
    "import xarray as xr # Manejo óptimo de datos multidimensionales \n",
    "from pythia_datasets import DATASETS # datos disponibles en Pythia"
   ]
  },
  {
   "cell_type": "markdown",
   "metadata": {},
   "source": [
    "## 1. NumPy"
   ]
  },
  {
   "cell_type": "markdown",
   "metadata": {},
   "source": [
    "Numpy es un paquete o libreria fundamental en `Python`. Esta libreria nos permite trabajar principalmente con arreglos y matrices multidimencionales. `Numpy` nos permite realizar operaciones matemáticas, reorganización de matrices, aoperaciones básicas de algebra lineal, análisis estadísticos básicos entre muchas otras operaciones de manera rápida"
   ]
  },
  {
   "cell_type": "markdown",
   "metadata": {},
   "source": [
    "### 1.1 Creación de vectores\n",
    "\n",
    "Con numpy podemos realizar creacion de arreglos y vectores en multiples dimensiones usando multiples métodos. La manera mas común de crear un arreglo o matriz es usando el método `np.array`           \n"
   ]
  },
  {
   "cell_type": "code",
   "execution_count": 2,
   "metadata": {},
   "outputs": [
    {
     "data": {
      "text/plain": [
       "array([1, 2, 3])"
      ]
     },
     "execution_count": 2,
     "metadata": {},
     "output_type": "execute_result"
    }
   ],
   "source": [
    "vector = np.array([1, 2, 3])\n",
    "vector"
   ]
  },
  {
   "cell_type": "markdown",
   "metadata": {},
   "source": [
    "Objetos de tipo `NumPy` tienen métodos autocontenidos que nos permiten obterner propiedades como dimensión `ndim`, tamaño `shape` o tipo de datos contenidos `dtype`"
   ]
  },
  {
   "cell_type": "code",
   "execution_count": 3,
   "metadata": {},
   "outputs": [
    {
     "data": {
      "text/plain": [
       "1"
      ]
     },
     "execution_count": 3,
     "metadata": {},
     "output_type": "execute_result"
    }
   ],
   "source": [
    "vector.ndim"
   ]
  },
  {
   "cell_type": "code",
   "execution_count": 4,
   "metadata": {},
   "outputs": [
    {
     "data": {
      "text/plain": [
       "(3,)"
      ]
     },
     "execution_count": 4,
     "metadata": {},
     "output_type": "execute_result"
    }
   ],
   "source": [
    "vector.shape"
   ]
  },
  {
   "cell_type": "code",
   "execution_count": 5,
   "metadata": {},
   "outputs": [
    {
     "data": {
      "text/plain": [
       "dtype('int64')"
      ]
     },
     "execution_count": 5,
     "metadata": {},
     "output_type": "execute_result"
    }
   ],
   "source": [
    "vector.dtype"
   ]
  },
  {
   "cell_type": "markdown",
   "metadata": {},
   "source": [
    "Ahora podemos crear una matriz de dos dimensiones de la misma manera"
   ]
  },
  {
   "cell_type": "code",
   "execution_count": 6,
   "metadata": {},
   "outputs": [
    {
     "data": {
      "text/plain": [
       "array([[0, 1, 2],\n",
       "       [3, 4, 5]])"
      ]
     },
     "execution_count": 6,
     "metadata": {},
     "output_type": "execute_result"
    }
   ],
   "source": [
    "matriz_2d = np.array([[0, 1, 2], [3, 4, 5]])\n",
    "matriz_2d"
   ]
  },
  {
   "cell_type": "code",
   "execution_count": 7,
   "metadata": {},
   "outputs": [
    {
     "name": "stdout",
     "output_type": "stream",
     "text": [
      "dimensiones = 2, forma = (2, 3), y tipo int64\n"
     ]
    }
   ],
   "source": [
    "print(f\"dimensiones = {matriz_2d.ndim}, forma = {matriz_2d.shape}, y tipo {matriz_2d.dtype}\")"
   ]
  },
  {
   "cell_type": "markdown",
   "metadata": {},
   "source": [
    "### 1.2 Generación de matrices y vectores\n",
    "\n",
    "`NumPy` también ofrece funciones y métodos que permiten generar matrices o arreglos igualmente espaciados que nos permiten ahorrar tiempo a la hora de escribirlos. Generalmente `NumPy` usa reglas de indexación de la siguiente manera\n",
    "* `arange(comienzo, fin, paso)` crea un arreglo o matriz de valores en el intervalo `[comienzo, fin)` espaciado cada `paso`\n",
    "* `linspace(comienzo, fin, número de divisiones)` crea un arreglo o matriz de valores en el intervalo `[comienzo, fin)` igualmente espaciado usando `número de divisiones`"
   ]
  },
  {
   "cell_type": "code",
   "execution_count": 8,
   "metadata": {},
   "outputs": [
    {
     "data": {
      "text/plain": [
       "array([0, 1, 2, 3, 4, 5, 6, 7, 8, 9])"
      ]
     },
     "execution_count": 8,
     "metadata": {},
     "output_type": "execute_result"
    }
   ],
   "source": [
    "arreglo = np.arange(10)\n",
    "arreglo"
   ]
  },
  {
   "cell_type": "code",
   "execution_count": 9,
   "metadata": {},
   "outputs": [
    {
     "data": {
      "text/plain": [
       "array([ 1.,  2.,  3.,  4.,  5.,  6.,  7.,  8.,  9., 10.])"
      ]
     },
     "execution_count": 9,
     "metadata": {},
     "output_type": "execute_result"
    }
   ],
   "source": [
    "arreglo_espaciado = np.linspace(1, 10, 10)\n",
    "arreglo_espaciado"
   ]
  },
  {
   "cell_type": "markdown",
   "metadata": {},
   "source": [
    "### 1.3 Operaciones básica usando NumPy\n",
    "\n",
    "Podemos realizar operaciones matemáticas usando `NumPy` teniendo en cuenta que los arreglos o matrices deben tener el mismo tamaño. Las operaciones se realizaran elemento a elemento en cada arreglo matricial"
   ]
  },
  {
   "cell_type": "code",
   "execution_count": 10,
   "metadata": {},
   "outputs": [
    {
     "data": {
      "text/plain": [
       "array([0, 2, 4])"
      ]
     },
     "execution_count": 10,
     "metadata": {},
     "output_type": "execute_result"
    }
   ],
   "source": [
    "a = np.arange(0, 6, 2)\n",
    "a"
   ]
  },
  {
   "cell_type": "code",
   "execution_count": 11,
   "metadata": {},
   "outputs": [
    {
     "data": {
      "text/plain": [
       "array([ -1. , 200. ,   1.3])"
      ]
     },
     "execution_count": 11,
     "metadata": {},
     "output_type": "execute_result"
    }
   ],
   "source": [
    "b = np.array([-1, 200, 1.3])\n",
    "b"
   ]
  },
  {
   "cell_type": "code",
   "execution_count": 12,
   "metadata": {},
   "outputs": [
    {
     "data": {
      "text/plain": [
       "array([ -1. , 202. ,   5.3])"
      ]
     },
     "execution_count": 12,
     "metadata": {},
     "output_type": "execute_result"
    }
   ],
   "source": [
    "a + b"
   ]
  },
  {
   "cell_type": "code",
   "execution_count": 13,
   "metadata": {},
   "outputs": [
    {
     "data": {
      "text/plain": [
       "array([   1. , -198. ,    2.7])"
      ]
     },
     "execution_count": 13,
     "metadata": {},
     "output_type": "execute_result"
    }
   ],
   "source": [
    "a - b"
   ]
  },
  {
   "cell_type": "code",
   "execution_count": 14,
   "metadata": {},
   "outputs": [
    {
     "data": {
      "text/plain": [
       "array([ -0. , 400. ,   5.2])"
      ]
     },
     "execution_count": 14,
     "metadata": {},
     "output_type": "execute_result"
    }
   ],
   "source": [
    "a * b"
   ]
  },
  {
   "cell_type": "code",
   "execution_count": 15,
   "metadata": {},
   "outputs": [
    {
     "data": {
      "text/plain": [
       "array([-0.        ,  0.01      ,  3.07692308])"
      ]
     },
     "execution_count": 15,
     "metadata": {},
     "output_type": "execute_result"
    }
   ],
   "source": [
    "a / b"
   ]
  },
  {
   "cell_type": "markdown",
   "metadata": {},
   "source": [
    "### 1.4 Operaciones matemáticas más complejas\n",
    "\n",
    "`NumPy` soporta operaciones matemáticas mas complejas elemento a elemento en cada arreglo matricial. Por ejemplo, calculemos el `seno` de una matriz"
   ]
  },
  {
   "cell_type": "code",
   "execution_count": 16,
   "metadata": {},
   "outputs": [
    {
     "data": {
      "text/plain": [
       "array([[0, 1, 2],\n",
       "       [3, 4, 5]])"
      ]
     },
     "execution_count": 16,
     "metadata": {},
     "output_type": "execute_result"
    }
   ],
   "source": [
    "matriz_2d = np.array([[0, 1, 2], [3, 4, 5]])\n",
    "matriz_2d"
   ]
  },
  {
   "cell_type": "code",
   "execution_count": 17,
   "metadata": {},
   "outputs": [
    {
     "data": {
      "text/plain": [
       "array([[ 0.        ,  0.84147098,  0.90929743],\n",
       "       [ 0.14112001, -0.7568025 , -0.95892427]])"
      ]
     },
     "execution_count": 17,
     "metadata": {},
     "output_type": "execute_result"
    }
   ],
   "source": [
    "np.sin(matriz_2d)"
   ]
  },
  {
   "cell_type": "markdown",
   "metadata": {},
   "source": [
    "Ahora usando la constante `pi`"
   ]
  },
  {
   "cell_type": "code",
   "execution_count": 18,
   "metadata": {},
   "outputs": [
    {
     "data": {
      "text/plain": [
       "array([0.        , 0.78539816, 1.57079633, 2.35619449, 3.14159265,\n",
       "       3.92699082, 4.71238898, 5.49778714, 6.28318531])"
      ]
     },
     "execution_count": 18,
     "metadata": {},
     "output_type": "execute_result"
    }
   ],
   "source": [
    "t = np.arange(0, 2 * np.pi + np.pi / 4, np.pi / 4)\n",
    "t"
   ]
  },
  {
   "cell_type": "code",
   "execution_count": 19,
   "metadata": {},
   "outputs": [
    {
     "data": {
      "text/plain": [
       "array([0.  , 0.25, 0.5 , 0.75, 1.  , 1.25, 1.5 , 1.75, 2.  ])"
      ]
     },
     "execution_count": 19,
     "metadata": {},
     "output_type": "execute_result"
    }
   ],
   "source": [
    "t / np.pi"
   ]
  },
  {
   "cell_type": "code",
   "execution_count": 20,
   "metadata": {},
   "outputs": [
    {
     "data": {
      "text/plain": [
       "array([ 1.00000000e+00,  7.07106781e-01,  6.12323400e-17, -7.07106781e-01,\n",
       "       -1.00000000e+00, -7.07106781e-01, -1.83697020e-16,  7.07106781e-01,\n",
       "        1.00000000e+00])"
      ]
     },
     "execution_count": 20,
     "metadata": {},
     "output_type": "execute_result"
    }
   ],
   "source": [
    "cos_t = np.cos(t)\n",
    "cos_t"
   ]
  },
  {
   "cell_type": "markdown",
   "metadata": {},
   "source": [
    "Podemos redondear las cifras usando el método `round`"
   ]
  },
  {
   "cell_type": "code",
   "execution_count": 21,
   "metadata": {},
   "outputs": [
    {
     "data": {
      "text/plain": [
       "array([ 1.  ,  0.71,  0.  , -0.71, -1.  , -0.71, -0.  ,  0.71,  1.  ])"
      ]
     },
     "execution_count": 21,
     "metadata": {},
     "output_type": "execute_result"
    }
   ],
   "source": [
    "np.round(cos_t, 2)"
   ]
  },
  {
   "cell_type": "markdown",
   "metadata": {},
   "source": [
    "También podemos sumar todos elementos de un arreglo usando `np.sum`"
   ]
  },
  {
   "cell_type": "code",
   "execution_count": 22,
   "metadata": {},
   "outputs": [
    {
     "data": {
      "text/plain": [
       "0.9999999999999996"
      ]
     },
     "execution_count": 22,
     "metadata": {},
     "output_type": "execute_result"
    }
   ],
   "source": [
    "np.sum(cos_t)"
   ]
  },
  {
   "cell_type": "markdown",
   "metadata": {},
   "source": [
    "Para mas funciones matemáticas disponibles en `NumPy` visite este [link](https://numpy.org/doc/stable/reference/routines.math.html)"
   ]
  },
  {
   "cell_type": "markdown",
   "metadata": {},
   "source": [
    "### 1.5 Indexado y selección de valores\n",
    "\n",
    "Podemos acceder a los valores dentro de un arreglo matricial multidimencional utilizando el indice del vector o matriz. Recordemos que en `Python` el índice arranca en 0 y que el acceso se realiza usando la notacion `[fila, columna]`  "
   ]
  },
  {
   "cell_type": "code",
   "execution_count": 23,
   "metadata": {},
   "outputs": [
    {
     "data": {
      "text/plain": [
       "array([[ 0,  1,  2,  3],\n",
       "       [ 4,  5,  6,  7],\n",
       "       [ 8,  9, 10, 11]])"
      ]
     },
     "execution_count": 23,
     "metadata": {},
     "output_type": "execute_result"
    }
   ],
   "source": [
    "matriz = np.arange(12).reshape(3, 4)\n",
    "matriz"
   ]
  },
  {
   "cell_type": "markdown",
   "metadata": {},
   "source": [
    "Para acceder al primer elemento de la matriz de la siguinte manera"
   ]
  },
  {
   "cell_type": "code",
   "execution_count": 24,
   "metadata": {},
   "outputs": [
    {
     "data": {
      "text/plain": [
       "0"
      ]
     },
     "execution_count": 24,
     "metadata": {},
     "output_type": "execute_result"
    }
   ],
   "source": [
    "matriz[0, 0]"
   ]
  },
  {
   "cell_type": "markdown",
   "metadata": {},
   "source": [
    "Para acceder al elemento ubicado en la fila 2 y la columna 4 tenemos que"
   ]
  },
  {
   "cell_type": "code",
   "execution_count": 25,
   "metadata": {},
   "outputs": [
    {
     "data": {
      "text/plain": [
       "7"
      ]
     },
     "execution_count": 25,
     "metadata": {},
     "output_type": "execute_result"
    }
   ],
   "source": [
    "matriz[1, 3]"
   ]
  },
  {
   "cell_type": "markdown",
   "metadata": {},
   "source": [
    "Podemo acceder a los datos usando el índice en \"reversa\" para acceder a los ultimos elementos del arreglo"
   ]
  },
  {
   "cell_type": "code",
   "execution_count": 26,
   "metadata": {},
   "outputs": [
    {
     "data": {
      "text/plain": [
       "8"
      ]
     },
     "execution_count": 26,
     "metadata": {},
     "output_type": "execute_result"
    }
   ],
   "source": [
    "matriz[-1, 0]"
   ]
  },
  {
   "cell_type": "code",
   "execution_count": 27,
   "metadata": {},
   "outputs": [
    {
     "data": {
      "text/plain": [
       "3"
      ]
     },
     "execution_count": 27,
     "metadata": {},
     "output_type": "execute_result"
    }
   ],
   "source": [
    "matriz[0, -1]"
   ]
  },
  {
   "cell_type": "code",
   "execution_count": 28,
   "metadata": {},
   "outputs": [
    {
     "data": {
      "text/plain": [
       "11"
      ]
     },
     "execution_count": 28,
     "metadata": {},
     "output_type": "execute_result"
    }
   ],
   "source": [
    "matriz[-1, -1]"
   ]
  },
  {
   "cell_type": "markdown",
   "metadata": {},
   "source": [
    "Para seleccionar de un rango de valores en un arreglo matricial usamos `[comienzo:final[:paso]]`. Tratamos de seleccionar la primera fila"
   ]
  },
  {
   "cell_type": "code",
   "execution_count": 29,
   "metadata": {},
   "outputs": [
    {
     "data": {
      "text/plain": [
       "array([0, 1, 2, 3])"
      ]
     },
     "execution_count": 29,
     "metadata": {},
     "output_type": "execute_result"
    }
   ],
   "source": [
    "matriz[0, 0:4]"
   ]
  },
  {
   "cell_type": "markdown",
   "metadata": {},
   "source": [
    "Ahora la primera fila **sin** incluir el ultimo elemento"
   ]
  },
  {
   "cell_type": "code",
   "execution_count": 30,
   "metadata": {},
   "outputs": [
    {
     "data": {
      "text/plain": [
       "array([0, 1, 2])"
      ]
     },
     "execution_count": 30,
     "metadata": {},
     "output_type": "execute_result"
    }
   ],
   "source": [
    "matriz[0, 0:-1]"
   ]
  },
  {
   "cell_type": "markdown",
   "metadata": {},
   "source": [
    "Podemos crear un arreglo unidimensional más largo para observar la selección de un rango de elementos usando un paso determinado"
   ]
  },
  {
   "cell_type": "code",
   "execution_count": 31,
   "metadata": {},
   "outputs": [
    {
     "data": {
      "text/plain": [
       "array([ 0,  1,  2,  3,  4,  5,  6,  7,  8,  9, 10, 11, 12, 13, 14])"
      ]
     },
     "execution_count": 31,
     "metadata": {},
     "output_type": "execute_result"
    }
   ],
   "source": [
    "arreglo_largo = np.arange(0, 15, 1)\n",
    "arreglo_largo"
   ]
  },
  {
   "cell_type": "code",
   "execution_count": 32,
   "metadata": {},
   "outputs": [
    {
     "data": {
      "text/plain": [
       "array([ 0,  2,  4,  6,  8, 10, 12, 14])"
      ]
     },
     "execution_count": 32,
     "metadata": {},
     "output_type": "execute_result"
    }
   ],
   "source": [
    "arreglo_largo[::2]"
   ]
  },
  {
   "cell_type": "markdown",
   "metadata": {},
   "source": [
    "Ahora incluyendo `comienzo=3`, `final=13` `paso=2`"
   ]
  },
  {
   "cell_type": "code",
   "execution_count": 33,
   "metadata": {},
   "outputs": [
    {
     "data": {
      "text/plain": [
       "array([ 3,  5,  7,  9, 11])"
      ]
     },
     "execution_count": 33,
     "metadata": {},
     "output_type": "execute_result"
    }
   ],
   "source": [
    "arreglo_largo[3:13:2]"
   ]
  },
  {
   "cell_type": "markdown",
   "metadata": {},
   "source": [
    "<div class=\"admonition alert alert-warning\">\n",
    "    <p class=\"admonition-title\" style=\"font-weight:bold\">Precaución</p>\n",
    "    El índice en la selección de rango no incluye el valor de la derecha\n",
    "</div>"
   ]
  },
  {
   "cell_type": "code",
   "execution_count": 34,
   "metadata": {},
   "outputs": [
    {
     "data": {
      "text/plain": [
       "array([0, 1, 2])"
      ]
     },
     "execution_count": 34,
     "metadata": {},
     "output_type": "execute_result"
    }
   ],
   "source": [
    "arreglo_largo[0:3]"
   ]
  },
  {
   "cell_type": "markdown",
   "metadata": {},
   "source": [
    "En el arreglo anterior la selección se realizó entre el índice 0 y el 3 no incluyente"
   ]
  },
  {
   "cell_type": "markdown",
   "metadata": {},
   "source": [
    "## 2. Pandas\n",
    "\n",
    "`Pandas` es una de las librerias mas potentes en el ambito de la programación científica. [`Pandas`](https://pandas.pydata.org/) es una libreria de código abierto que permite la manipulación rápida y facil de datos tabulares en diversos formatos (Excel, texto plano separado por comas, bases de datos, pickle, entre muchos otros). El manejo de datos tabulares y series de tiempo se realiza mediante etiquetas que nos permiten escribir escribir códigos robustos\n"
   ]
  },
  {
   "cell_type": "markdown",
   "metadata": {},
   "source": [
    "### 2.1 Pandas DataFrame\n",
    "\n",
    "Es un conjunto de datos tabulares en dos dimensiones que usa etiquetas similar a un **hoja de calculo de excel**, una **tabla de datos** o un `data.frame` en R. Los `DataFrames` estan compuestos por columnas y filas."
   ]
  },
  {
   "cell_type": "markdown",
   "metadata": {},
   "source": [
    "<img src=\"../images/01_table_dataframe.svg\" width=500 alt=\"Dataframe\"></img> "
   ]
  },
  {
   "cell_type": "markdown",
   "metadata": {},
   "source": [
    "Dentro de cada `columna` podemos tener datos de diferente `tipo` incluyendo numeros, texto, estampas de tiempo, entre otros. En la imagen anterior (Cortesía de Pythia Fundations, CC), la columna de la izquierda, sombreada en color gris, es conocida como el `índice` de filas. Analogamente, la parte superior del `DataFrame`, podemos encotrar el índice de las `columnas`. Estos indices, de columna y fila, puedes ser de tipo numerico, caracteres, estampas de tiempo entre muchos otros. A continuación, se puede observar un `DataFrame` de anomalias de la temperatura superfical del mar en las diferentes regiones Niño"
   ]
  },
  {
   "cell_type": "code",
   "execution_count": 35,
   "metadata": {},
   "outputs": [
    {
     "name": "stderr",
     "output_type": "stream",
     "text": [
      "Downloading file 'enso_data.csv' from 'https://github.com/ProjectPythia/pythia-datasets/raw/main/data/enso_data.csv' to '/home/alfonso/.cache/pythia-datasets'.\n"
     ]
    }
   ],
   "source": [
    "filepath = DATASETS.fetch('enso_data.csv')"
   ]
  },
  {
   "cell_type": "code",
   "execution_count": 36,
   "metadata": {},
   "outputs": [
    {
     "data": {
      "text/html": [
       "<div>\n",
       "<style scoped>\n",
       "    .dataframe tbody tr th:only-of-type {\n",
       "        vertical-align: middle;\n",
       "    }\n",
       "\n",
       "    .dataframe tbody tr th {\n",
       "        vertical-align: top;\n",
       "    }\n",
       "\n",
       "    .dataframe thead th {\n",
       "        text-align: right;\n",
       "    }\n",
       "</style>\n",
       "<table border=\"1\" class=\"dataframe\">\n",
       "  <thead>\n",
       "    <tr style=\"text-align: right;\">\n",
       "      <th></th>\n",
       "      <th>datetime</th>\n",
       "      <th>Nino12</th>\n",
       "      <th>Nino12anom</th>\n",
       "      <th>Nino3</th>\n",
       "      <th>Nino3anom</th>\n",
       "      <th>Nino4</th>\n",
       "      <th>Nino4anom</th>\n",
       "      <th>Nino34</th>\n",
       "      <th>Nino34anom</th>\n",
       "    </tr>\n",
       "  </thead>\n",
       "  <tbody>\n",
       "    <tr>\n",
       "      <th>0</th>\n",
       "      <td>1982-01-01</td>\n",
       "      <td>24.29</td>\n",
       "      <td>-0.17</td>\n",
       "      <td>25.87</td>\n",
       "      <td>0.24</td>\n",
       "      <td>28.30</td>\n",
       "      <td>0.00</td>\n",
       "      <td>26.72</td>\n",
       "      <td>0.15</td>\n",
       "    </tr>\n",
       "    <tr>\n",
       "      <th>1</th>\n",
       "      <td>1982-02-01</td>\n",
       "      <td>25.49</td>\n",
       "      <td>-0.58</td>\n",
       "      <td>26.38</td>\n",
       "      <td>0.01</td>\n",
       "      <td>28.21</td>\n",
       "      <td>0.11</td>\n",
       "      <td>26.70</td>\n",
       "      <td>-0.02</td>\n",
       "    </tr>\n",
       "    <tr>\n",
       "      <th>2</th>\n",
       "      <td>1982-03-01</td>\n",
       "      <td>25.21</td>\n",
       "      <td>-1.31</td>\n",
       "      <td>26.98</td>\n",
       "      <td>-0.16</td>\n",
       "      <td>28.41</td>\n",
       "      <td>0.22</td>\n",
       "      <td>27.20</td>\n",
       "      <td>-0.02</td>\n",
       "    </tr>\n",
       "    <tr>\n",
       "      <th>3</th>\n",
       "      <td>1982-04-01</td>\n",
       "      <td>24.50</td>\n",
       "      <td>-0.97</td>\n",
       "      <td>27.68</td>\n",
       "      <td>0.18</td>\n",
       "      <td>28.92</td>\n",
       "      <td>0.42</td>\n",
       "      <td>28.02</td>\n",
       "      <td>0.24</td>\n",
       "    </tr>\n",
       "    <tr>\n",
       "      <th>4</th>\n",
       "      <td>1982-05-01</td>\n",
       "      <td>23.97</td>\n",
       "      <td>-0.23</td>\n",
       "      <td>27.79</td>\n",
       "      <td>0.71</td>\n",
       "      <td>29.49</td>\n",
       "      <td>0.70</td>\n",
       "      <td>28.54</td>\n",
       "      <td>0.69</td>\n",
       "    </tr>\n",
       "  </tbody>\n",
       "</table>\n",
       "</div>"
      ],
      "text/plain": [
       "     datetime  Nino12  Nino12anom  Nino3  Nino3anom  Nino4  Nino4anom  Nino34  \\\n",
       "0  1982-01-01   24.29       -0.17  25.87       0.24  28.30       0.00   26.72   \n",
       "1  1982-02-01   25.49       -0.58  26.38       0.01  28.21       0.11   26.70   \n",
       "2  1982-03-01   25.21       -1.31  26.98      -0.16  28.41       0.22   27.20   \n",
       "3  1982-04-01   24.50       -0.97  27.68       0.18  28.92       0.42   28.02   \n",
       "4  1982-05-01   23.97       -0.23  27.79       0.71  29.49       0.70   28.54   \n",
       "\n",
       "   Nino34anom  \n",
       "0        0.15  \n",
       "1       -0.02  \n",
       "2       -0.02  \n",
       "3        0.24  \n",
       "4        0.69  "
      ]
     },
     "execution_count": 36,
     "metadata": {},
     "output_type": "execute_result"
    }
   ],
   "source": [
    "df = pd.read_csv(filepath)\n",
    "df.head()"
   ]
  },
  {
   "cell_type": "markdown",
   "metadata": {},
   "source": [
    "Como podemos observar el índice, tanto en filas y columnas, se  resaltan en *negrita*. En la filas el indice por defecto es una secuencia numerada que incia en 0 y termina en el numero de filas del set de datos. Para acceder al `índice` en filas podemos usar el atributo `.index` y en columnas `.columns`"
   ]
  },
  {
   "cell_type": "code",
   "execution_count": 37,
   "metadata": {},
   "outputs": [
    {
     "data": {
      "text/plain": [
       "RangeIndex(start=0, stop=472, step=1)"
      ]
     },
     "execution_count": 37,
     "metadata": {},
     "output_type": "execute_result"
    }
   ],
   "source": [
    "df.index"
   ]
  },
  {
   "cell_type": "markdown",
   "metadata": {},
   "source": [
    "Aun no hemos aprovechado las ventajas de `Pandas` usando etiquetas en lo `índices`. Esto nos perminitiría trabajar de manera más fácil con los datos contenidos en este set de datos. Para esto, procedermos a utilizar la columna `datetime` como índice de las filas en formato de estampa de tiempo. Para hacer esto podemos pasar una serie de argumento al método [`pd.read_csv`](https://pandas.pydata.org/docs/reference/api/pandas.read_csv.html)"
   ]
  },
  {
   "cell_type": "code",
   "execution_count": 38,
   "metadata": {},
   "outputs": [],
   "source": [
    "df = pd.read_csv(filepath, index_col=0, parse_dates=True)"
   ]
  },
  {
   "cell_type": "code",
   "execution_count": 39,
   "metadata": {},
   "outputs": [
    {
     "data": {
      "text/html": [
       "<div>\n",
       "<style scoped>\n",
       "    .dataframe tbody tr th:only-of-type {\n",
       "        vertical-align: middle;\n",
       "    }\n",
       "\n",
       "    .dataframe tbody tr th {\n",
       "        vertical-align: top;\n",
       "    }\n",
       "\n",
       "    .dataframe thead th {\n",
       "        text-align: right;\n",
       "    }\n",
       "</style>\n",
       "<table border=\"1\" class=\"dataframe\">\n",
       "  <thead>\n",
       "    <tr style=\"text-align: right;\">\n",
       "      <th></th>\n",
       "      <th>Nino12</th>\n",
       "      <th>Nino12anom</th>\n",
       "      <th>Nino3</th>\n",
       "      <th>Nino3anom</th>\n",
       "      <th>Nino4</th>\n",
       "      <th>Nino4anom</th>\n",
       "      <th>Nino34</th>\n",
       "      <th>Nino34anom</th>\n",
       "    </tr>\n",
       "    <tr>\n",
       "      <th>datetime</th>\n",
       "      <th></th>\n",
       "      <th></th>\n",
       "      <th></th>\n",
       "      <th></th>\n",
       "      <th></th>\n",
       "      <th></th>\n",
       "      <th></th>\n",
       "      <th></th>\n",
       "    </tr>\n",
       "  </thead>\n",
       "  <tbody>\n",
       "    <tr>\n",
       "      <th>1982-01-01</th>\n",
       "      <td>24.29</td>\n",
       "      <td>-0.17</td>\n",
       "      <td>25.87</td>\n",
       "      <td>0.24</td>\n",
       "      <td>28.30</td>\n",
       "      <td>0.00</td>\n",
       "      <td>26.72</td>\n",
       "      <td>0.15</td>\n",
       "    </tr>\n",
       "    <tr>\n",
       "      <th>1982-02-01</th>\n",
       "      <td>25.49</td>\n",
       "      <td>-0.58</td>\n",
       "      <td>26.38</td>\n",
       "      <td>0.01</td>\n",
       "      <td>28.21</td>\n",
       "      <td>0.11</td>\n",
       "      <td>26.70</td>\n",
       "      <td>-0.02</td>\n",
       "    </tr>\n",
       "    <tr>\n",
       "      <th>1982-03-01</th>\n",
       "      <td>25.21</td>\n",
       "      <td>-1.31</td>\n",
       "      <td>26.98</td>\n",
       "      <td>-0.16</td>\n",
       "      <td>28.41</td>\n",
       "      <td>0.22</td>\n",
       "      <td>27.20</td>\n",
       "      <td>-0.02</td>\n",
       "    </tr>\n",
       "    <tr>\n",
       "      <th>1982-04-01</th>\n",
       "      <td>24.50</td>\n",
       "      <td>-0.97</td>\n",
       "      <td>27.68</td>\n",
       "      <td>0.18</td>\n",
       "      <td>28.92</td>\n",
       "      <td>0.42</td>\n",
       "      <td>28.02</td>\n",
       "      <td>0.24</td>\n",
       "    </tr>\n",
       "    <tr>\n",
       "      <th>1982-05-01</th>\n",
       "      <td>23.97</td>\n",
       "      <td>-0.23</td>\n",
       "      <td>27.79</td>\n",
       "      <td>0.71</td>\n",
       "      <td>29.49</td>\n",
       "      <td>0.70</td>\n",
       "      <td>28.54</td>\n",
       "      <td>0.69</td>\n",
       "    </tr>\n",
       "  </tbody>\n",
       "</table>\n",
       "</div>"
      ],
      "text/plain": [
       "            Nino12  Nino12anom  Nino3  Nino3anom  Nino4  Nino4anom  Nino34  \\\n",
       "datetime                                                                     \n",
       "1982-01-01   24.29       -0.17  25.87       0.24  28.30       0.00   26.72   \n",
       "1982-02-01   25.49       -0.58  26.38       0.01  28.21       0.11   26.70   \n",
       "1982-03-01   25.21       -1.31  26.98      -0.16  28.41       0.22   27.20   \n",
       "1982-04-01   24.50       -0.97  27.68       0.18  28.92       0.42   28.02   \n",
       "1982-05-01   23.97       -0.23  27.79       0.71  29.49       0.70   28.54   \n",
       "\n",
       "            Nino34anom  \n",
       "datetime                \n",
       "1982-01-01        0.15  \n",
       "1982-02-01       -0.02  \n",
       "1982-03-01       -0.02  \n",
       "1982-04-01        0.24  \n",
       "1982-05-01        0.69  "
      ]
     },
     "execution_count": 39,
     "metadata": {},
     "output_type": "execute_result"
    }
   ],
   "source": [
    "df.head()"
   ]
  },
  {
   "cell_type": "markdown",
   "metadata": {},
   "source": [
    "Como podemos ver el índice ahora es la columna `datetime` y esta en formato `timestamp`"
   ]
  },
  {
   "cell_type": "code",
   "execution_count": 40,
   "metadata": {},
   "outputs": [
    {
     "data": {
      "text/plain": [
       "DatetimeIndex(['1982-01-01', '1982-02-01', '1982-03-01', '1982-04-01',\n",
       "               '1982-05-01', '1982-06-01', '1982-07-01', '1982-08-01',\n",
       "               '1982-09-01', '1982-10-01',\n",
       "               ...\n",
       "               '2020-07-01', '2020-08-01', '2020-09-01', '2020-10-01',\n",
       "               '2020-11-01', '2020-12-01', '2021-01-01', '2021-02-01',\n",
       "               '2021-03-01', '2021-04-01'],\n",
       "              dtype='datetime64[ns]', name='datetime', length=472, freq=None)"
      ]
     },
     "execution_count": 40,
     "metadata": {},
     "output_type": "execute_result"
    }
   ],
   "source": [
    "df.index"
   ]
  },
  {
   "cell_type": "markdown",
   "metadata": {},
   "source": [
    "De igaul manera podemos ver los índices / nombres de las columnas de la siguiente manera"
   ]
  },
  {
   "cell_type": "code",
   "execution_count": 41,
   "metadata": {},
   "outputs": [
    {
     "data": {
      "text/plain": [
       "Index(['Nino12', 'Nino12anom', 'Nino3', 'Nino3anom', 'Nino4', 'Nino4anom',\n",
       "       'Nino34', 'Nino34anom'],\n",
       "      dtype='object')"
      ]
     },
     "execution_count": 41,
     "metadata": {},
     "output_type": "execute_result"
    }
   ],
   "source": [
    "df.columns"
   ]
  },
  {
   "cell_type": "markdown",
   "metadata": {},
   "source": [
    "### 2.2. Pandas Series\n",
    "\n",
    "Una serie de tiempo en `Pandas` hace refencia a datos tabulares que continenen una sola columna; al igual que un `DataFrame` puede contener cualquir tipo de dato o variable. En el siguiente ejemplo extraeremos la `serie` de datos de la anomalia de la temperatura superficial de niño en la región 3-4 usando el método de llave-valor `['']`"
   ]
  },
  {
   "cell_type": "code",
   "execution_count": 42,
   "metadata": {},
   "outputs": [
    {
     "data": {
      "text/plain": [
       "datetime\n",
       "1982-01-01    0.15\n",
       "1982-02-01   -0.02\n",
       "1982-03-01   -0.02\n",
       "1982-04-01    0.24\n",
       "1982-05-01    0.69\n",
       "Name: Nino34anom, dtype: float64"
      ]
     },
     "execution_count": 42,
     "metadata": {},
     "output_type": "execute_result"
    }
   ],
   "source": [
    "series = df['Nino34anom']\n",
    "series.head()"
   ]
  },
  {
   "cell_type": "markdown",
   "metadata": {},
   "source": [
    "Alternativamente, podemos acceder a misma serie de datos usando el método `punto` de la siguiente manera"
   ]
  },
  {
   "cell_type": "code",
   "execution_count": 43,
   "metadata": {},
   "outputs": [
    {
     "data": {
      "text/plain": [
       "datetime\n",
       "1982-01-01    0.15\n",
       "1982-02-01   -0.02\n",
       "1982-03-01   -0.02\n",
       "1982-04-01    0.24\n",
       "1982-05-01    0.69\n",
       "Name: Nino34anom, dtype: float64"
      ]
     },
     "execution_count": 43,
     "metadata": {},
     "output_type": "execute_result"
    }
   ],
   "source": [
    "series = df.Nino34anom\n",
    "series.head()"
   ]
  },
  {
   "cell_type": "markdown",
   "metadata": {},
   "source": [
    "### 2.3 Selección de series y cubos de datos\n",
    "\n",
    "Como mencionamos anteriormente, las *etiquetas* en los índices nos permiten seleccionar un sub set de datos de manera rápida y fácil utilizando las ventajas de `Pandas`. En el ejemplo anterior utilizamos las etiquetas de columna para acceder a la serie de datos correspondiente (Columna). Para acceder a una fila de datos podemos usar la notación e indexación sugerida por `NumPy` sin embargo esta manera **no** es recomendada"
   ]
  },
  {
   "cell_type": "code",
   "execution_count": 56,
   "metadata": {},
   "outputs": [
    {
     "data": {
      "text/plain": [
       "0.15"
      ]
     },
     "execution_count": 56,
     "metadata": {},
     "output_type": "execute_result"
    }
   ],
   "source": [
    "series[0]"
   ]
  },
  {
   "cell_type": "markdown",
   "metadata": {},
   "source": [
    "Preferiblemente debemos usar las etiquetas de la fila de la siguiente manera"
   ]
  },
  {
   "cell_type": "code",
   "execution_count": 57,
   "metadata": {},
   "outputs": [
    {
     "data": {
      "text/plain": [
       "0.15"
      ]
     },
     "execution_count": 57,
     "metadata": {},
     "output_type": "execute_result"
    }
   ],
   "source": [
    "series['1982-01-01']"
   ]
  },
  {
   "cell_type": "markdown",
   "metadata": {},
   "source": [
    "Si queremos extraer un intervalo de datos podemos usar las etiquetas de índice de filas de la siguiente manera"
   ]
  },
  {
   "cell_type": "code",
   "execution_count": 58,
   "metadata": {},
   "outputs": [
    {
     "data": {
      "text/plain": [
       "datetime\n",
       "2000-01-01   -1.92\n",
       "2000-02-01   -1.53\n",
       "2000-03-01   -1.14\n",
       "2000-04-01   -0.77\n",
       "2000-05-01   -0.73\n",
       "2000-06-01   -0.62\n",
       "2000-07-01   -0.50\n",
       "2000-08-01   -0.37\n",
       "2000-09-01   -0.51\n",
       "2000-10-01   -0.73\n",
       "2000-11-01   -0.87\n",
       "2000-12-01   -0.98\n",
       "2001-01-01   -0.83\n",
       "2001-02-01   -0.61\n",
       "2001-03-01   -0.38\n",
       "2001-04-01   -0.26\n",
       "2001-05-01   -0.25\n",
       "2001-06-01    0.03\n",
       "2001-07-01    0.10\n",
       "2001-08-01    0.05\n",
       "2001-09-01   -0.17\n",
       "2001-10-01   -0.10\n",
       "2001-11-01   -0.20\n",
       "2001-12-01   -0.40\n",
       "Name: Nino34anom, dtype: float64"
      ]
     },
     "execution_count": 58,
     "metadata": {},
     "output_type": "execute_result"
    }
   ],
   "source": [
    "series['2000-01-01': '2001-12-01']"
   ]
  },
  {
   "cell_type": "markdown",
   "metadata": {},
   "source": [
    "`Python` usa una herramienta muy util para hacer seleccion de datos usando `slice`. Esta función autocontenida nos permite crear cortes en intervalos de la siguiente manera `[comiezo, fin, paso]`"
   ]
  },
  {
   "cell_type": "code",
   "execution_count": 47,
   "metadata": {},
   "outputs": [
    {
     "data": {
      "text/plain": [
       "datetime\n",
       "2000-01-01   -1.92\n",
       "2000-02-01   -1.53\n",
       "2000-03-01   -1.14\n",
       "2000-04-01   -0.77\n",
       "2000-05-01   -0.73\n",
       "2000-06-01   -0.62\n",
       "2000-07-01   -0.50\n",
       "2000-08-01   -0.37\n",
       "2000-09-01   -0.51\n",
       "2000-10-01   -0.73\n",
       "2000-11-01   -0.87\n",
       "2000-12-01   -0.98\n",
       "2001-01-01   -0.83\n",
       "2001-02-01   -0.61\n",
       "2001-03-01   -0.38\n",
       "2001-04-01   -0.26\n",
       "2001-05-01   -0.25\n",
       "2001-06-01    0.03\n",
       "2001-07-01    0.10\n",
       "2001-08-01    0.05\n",
       "2001-09-01   -0.17\n",
       "2001-10-01   -0.10\n",
       "2001-11-01   -0.20\n",
       "2001-12-01   -0.40\n",
       "Name: Nino34anom, dtype: float64"
      ]
     },
     "execution_count": 47,
     "metadata": {},
     "output_type": "execute_result"
    }
   ],
   "source": [
    "series[slice('2000-01-01', '2001-12-01')]"
   ]
  },
  {
   "cell_type": "markdown",
   "metadata": {},
   "source": [
    "El método [`loc`](https://pandas.pydata.org/docs/reference/api/pandas.DataFrame.loc.html) también nos permite acceder por etiquetas "
   ]
  },
  {
   "cell_type": "code",
   "execution_count": 59,
   "metadata": {},
   "outputs": [
    {
     "data": {
      "text/plain": [
       "0.15"
      ]
     },
     "execution_count": 59,
     "metadata": {},
     "output_type": "execute_result"
    }
   ],
   "source": [
    "series.loc[\"1982-01-01\"]"
   ]
  },
  {
   "cell_type": "markdown",
   "metadata": {},
   "source": [
    "o su equivalente usando el índice [`iloc`](https://pandas.pydata.org/docs/reference/api/pandas.DataFrame.iloc.html)"
   ]
  },
  {
   "cell_type": "code",
   "execution_count": 49,
   "metadata": {},
   "outputs": [
    {
     "data": {
      "text/plain": [
       "0.15"
      ]
     },
     "execution_count": 49,
     "metadata": {},
     "output_type": "execute_result"
    }
   ],
   "source": [
    "series.iloc[0]"
   ]
  },
  {
   "cell_type": "markdown",
   "metadata": {},
   "source": [
    "Ahora que sabemos los fundamentos básicos de seleccion de datos en series temporales, podemos pasar a seleccionar datos en `DataFrames`. Para accerder a **una sola** columna usamos la notación de diccionario `llave/valor` como vimos anteriormente"
   ]
  },
  {
   "cell_type": "code",
   "execution_count": 60,
   "metadata": {
    "scrolled": true
   },
   "outputs": [
    {
     "data": {
      "text/plain": [
       "datetime\n",
       "1982-01-01    0.15\n",
       "1982-02-01   -0.02\n",
       "1982-03-01   -0.02\n",
       "1982-04-01    0.24\n",
       "1982-05-01    0.69\n",
       "Name: Nino34anom, dtype: float64"
      ]
     },
     "execution_count": 60,
     "metadata": {},
     "output_type": "execute_result"
    }
   ],
   "source": [
    "df['Nino34anom'].head() # para una sola columna"
   ]
  },
  {
   "cell_type": "markdown",
   "metadata": {},
   "source": [
    "Para seleccionar multiples `columnas` se utiliza doble corchete cuadrado anidado `[['col1', 'col2', ..., 'coln']]`"
   ]
  },
  {
   "cell_type": "code",
   "execution_count": 61,
   "metadata": {},
   "outputs": [
    {
     "data": {
      "text/html": [
       "<div>\n",
       "<style scoped>\n",
       "    .dataframe tbody tr th:only-of-type {\n",
       "        vertical-align: middle;\n",
       "    }\n",
       "\n",
       "    .dataframe tbody tr th {\n",
       "        vertical-align: top;\n",
       "    }\n",
       "\n",
       "    .dataframe thead th {\n",
       "        text-align: right;\n",
       "    }\n",
       "</style>\n",
       "<table border=\"1\" class=\"dataframe\">\n",
       "  <thead>\n",
       "    <tr style=\"text-align: right;\">\n",
       "      <th></th>\n",
       "      <th>Nino34</th>\n",
       "      <th>Nino34anom</th>\n",
       "    </tr>\n",
       "    <tr>\n",
       "      <th>datetime</th>\n",
       "      <th></th>\n",
       "      <th></th>\n",
       "    </tr>\n",
       "  </thead>\n",
       "  <tbody>\n",
       "    <tr>\n",
       "      <th>1982-01-01</th>\n",
       "      <td>26.72</td>\n",
       "      <td>0.15</td>\n",
       "    </tr>\n",
       "    <tr>\n",
       "      <th>1982-02-01</th>\n",
       "      <td>26.70</td>\n",
       "      <td>-0.02</td>\n",
       "    </tr>\n",
       "    <tr>\n",
       "      <th>1982-03-01</th>\n",
       "      <td>27.20</td>\n",
       "      <td>-0.02</td>\n",
       "    </tr>\n",
       "    <tr>\n",
       "      <th>1982-04-01</th>\n",
       "      <td>28.02</td>\n",
       "      <td>0.24</td>\n",
       "    </tr>\n",
       "    <tr>\n",
       "      <th>1982-05-01</th>\n",
       "      <td>28.54</td>\n",
       "      <td>0.69</td>\n",
       "    </tr>\n",
       "  </tbody>\n",
       "</table>\n",
       "</div>"
      ],
      "text/plain": [
       "            Nino34  Nino34anom\n",
       "datetime                      \n",
       "1982-01-01   26.72        0.15\n",
       "1982-02-01   26.70       -0.02\n",
       "1982-03-01   27.20       -0.02\n",
       "1982-04-01   28.02        0.24\n",
       "1982-05-01   28.54        0.69"
      ]
     },
     "execution_count": 61,
     "metadata": {},
     "output_type": "execute_result"
    }
   ],
   "source": [
    "df[['Nino34', 'Nino34anom']].head() "
   ]
  },
  {
   "cell_type": "markdown",
   "metadata": {},
   "source": [
    "Seleccionar datos usando etiquetas de fila y columnas se puede llevar a cabo usando el método `loc` de la siguiente manera `.loc[filas, columnas]`"
   ]
  },
  {
   "cell_type": "code",
   "execution_count": 62,
   "metadata": {},
   "outputs": [
    {
     "data": {
      "text/plain": [
       "28.02"
      ]
     },
     "execution_count": 62,
     "metadata": {},
     "output_type": "execute_result"
    }
   ],
   "source": [
    "df.loc[\"1982-04-01\", \"Nino34\"]"
   ]
  },
  {
   "cell_type": "markdown",
   "metadata": {},
   "source": [
    "Si seleccionamos datos unicamente por la `etiqueta` de la `fila` nos retornará una serie con el los datos de todas las `columnas`"
   ]
  },
  {
   "cell_type": "code",
   "execution_count": 64,
   "metadata": {},
   "outputs": [
    {
     "data": {
      "text/plain": [
       "Nino12        24.50\n",
       "Nino12anom    -0.97\n",
       "Nino3         27.68\n",
       "Nino3anom      0.18\n",
       "Nino4         28.92\n",
       "Nino4anom      0.42\n",
       "Nino34        28.02\n",
       "Nino34anom     0.24\n",
       "Name: 1982-04-01 00:00:00, dtype: float64"
      ]
     },
     "execution_count": 64,
     "metadata": {},
     "output_type": "execute_result"
    }
   ],
   "source": [
    "df.loc[\"1982-04-01\"]"
   ]
  },
  {
   "cell_type": "markdown",
   "metadata": {},
   "source": [
    "Podemos seleccionar un rango de fechas"
   ]
  },
  {
   "cell_type": "code",
   "execution_count": 65,
   "metadata": {},
   "outputs": [
    {
     "data": {
      "text/html": [
       "<div>\n",
       "<style scoped>\n",
       "    .dataframe tbody tr th:only-of-type {\n",
       "        vertical-align: middle;\n",
       "    }\n",
       "\n",
       "    .dataframe tbody tr th {\n",
       "        vertical-align: top;\n",
       "    }\n",
       "\n",
       "    .dataframe thead th {\n",
       "        text-align: right;\n",
       "    }\n",
       "</style>\n",
       "<table border=\"1\" class=\"dataframe\">\n",
       "  <thead>\n",
       "    <tr style=\"text-align: right;\">\n",
       "      <th></th>\n",
       "      <th>Nino12</th>\n",
       "      <th>Nino12anom</th>\n",
       "      <th>Nino3</th>\n",
       "      <th>Nino3anom</th>\n",
       "      <th>Nino4</th>\n",
       "      <th>Nino4anom</th>\n",
       "      <th>Nino34</th>\n",
       "      <th>Nino34anom</th>\n",
       "    </tr>\n",
       "    <tr>\n",
       "      <th>datetime</th>\n",
       "      <th></th>\n",
       "      <th></th>\n",
       "      <th></th>\n",
       "      <th></th>\n",
       "      <th></th>\n",
       "      <th></th>\n",
       "      <th></th>\n",
       "      <th></th>\n",
       "    </tr>\n",
       "  </thead>\n",
       "  <tbody>\n",
       "    <tr>\n",
       "      <th>1982-01-01</th>\n",
       "      <td>24.29</td>\n",
       "      <td>-0.17</td>\n",
       "      <td>25.87</td>\n",
       "      <td>0.24</td>\n",
       "      <td>28.30</td>\n",
       "      <td>0.00</td>\n",
       "      <td>26.72</td>\n",
       "      <td>0.15</td>\n",
       "    </tr>\n",
       "    <tr>\n",
       "      <th>1982-02-01</th>\n",
       "      <td>25.49</td>\n",
       "      <td>-0.58</td>\n",
       "      <td>26.38</td>\n",
       "      <td>0.01</td>\n",
       "      <td>28.21</td>\n",
       "      <td>0.11</td>\n",
       "      <td>26.70</td>\n",
       "      <td>-0.02</td>\n",
       "    </tr>\n",
       "    <tr>\n",
       "      <th>1982-03-01</th>\n",
       "      <td>25.21</td>\n",
       "      <td>-1.31</td>\n",
       "      <td>26.98</td>\n",
       "      <td>-0.16</td>\n",
       "      <td>28.41</td>\n",
       "      <td>0.22</td>\n",
       "      <td>27.20</td>\n",
       "      <td>-0.02</td>\n",
       "    </tr>\n",
       "    <tr>\n",
       "      <th>1982-04-01</th>\n",
       "      <td>24.50</td>\n",
       "      <td>-0.97</td>\n",
       "      <td>27.68</td>\n",
       "      <td>0.18</td>\n",
       "      <td>28.92</td>\n",
       "      <td>0.42</td>\n",
       "      <td>28.02</td>\n",
       "      <td>0.24</td>\n",
       "    </tr>\n",
       "    <tr>\n",
       "      <th>1982-05-01</th>\n",
       "      <td>23.97</td>\n",
       "      <td>-0.23</td>\n",
       "      <td>27.79</td>\n",
       "      <td>0.71</td>\n",
       "      <td>29.49</td>\n",
       "      <td>0.70</td>\n",
       "      <td>28.54</td>\n",
       "      <td>0.69</td>\n",
       "    </tr>\n",
       "    <tr>\n",
       "      <th>1982-06-01</th>\n",
       "      <td>22.89</td>\n",
       "      <td>0.07</td>\n",
       "      <td>27.46</td>\n",
       "      <td>1.03</td>\n",
       "      <td>29.76</td>\n",
       "      <td>0.92</td>\n",
       "      <td>28.75</td>\n",
       "      <td>1.10</td>\n",
       "    </tr>\n",
       "    <tr>\n",
       "      <th>1982-07-01</th>\n",
       "      <td>22.47</td>\n",
       "      <td>0.87</td>\n",
       "      <td>26.44</td>\n",
       "      <td>0.82</td>\n",
       "      <td>29.38</td>\n",
       "      <td>0.58</td>\n",
       "      <td>28.10</td>\n",
       "      <td>0.88</td>\n",
       "    </tr>\n",
       "    <tr>\n",
       "      <th>1982-08-01</th>\n",
       "      <td>21.75</td>\n",
       "      <td>1.10</td>\n",
       "      <td>26.15</td>\n",
       "      <td>1.16</td>\n",
       "      <td>29.04</td>\n",
       "      <td>0.36</td>\n",
       "      <td>27.93</td>\n",
       "      <td>1.11</td>\n",
       "    </tr>\n",
       "    <tr>\n",
       "      <th>1982-09-01</th>\n",
       "      <td>21.80</td>\n",
       "      <td>1.44</td>\n",
       "      <td>26.52</td>\n",
       "      <td>1.67</td>\n",
       "      <td>29.16</td>\n",
       "      <td>0.47</td>\n",
       "      <td>28.11</td>\n",
       "      <td>1.39</td>\n",
       "    </tr>\n",
       "    <tr>\n",
       "      <th>1982-10-01</th>\n",
       "      <td>22.94</td>\n",
       "      <td>2.12</td>\n",
       "      <td>27.11</td>\n",
       "      <td>2.19</td>\n",
       "      <td>29.38</td>\n",
       "      <td>0.72</td>\n",
       "      <td>28.64</td>\n",
       "      <td>1.95</td>\n",
       "    </tr>\n",
       "    <tr>\n",
       "      <th>1982-11-01</th>\n",
       "      <td>24.59</td>\n",
       "      <td>3.00</td>\n",
       "      <td>27.62</td>\n",
       "      <td>2.64</td>\n",
       "      <td>29.23</td>\n",
       "      <td>0.60</td>\n",
       "      <td>28.81</td>\n",
       "      <td>2.16</td>\n",
       "    </tr>\n",
       "    <tr>\n",
       "      <th>1982-12-01</th>\n",
       "      <td>26.13</td>\n",
       "      <td>3.34</td>\n",
       "      <td>28.39</td>\n",
       "      <td>3.25</td>\n",
       "      <td>29.15</td>\n",
       "      <td>0.66</td>\n",
       "      <td>29.21</td>\n",
       "      <td>2.64</td>\n",
       "    </tr>\n",
       "  </tbody>\n",
       "</table>\n",
       "</div>"
      ],
      "text/plain": [
       "            Nino12  Nino12anom  Nino3  Nino3anom  Nino4  Nino4anom  Nino34  \\\n",
       "datetime                                                                     \n",
       "1982-01-01   24.29       -0.17  25.87       0.24  28.30       0.00   26.72   \n",
       "1982-02-01   25.49       -0.58  26.38       0.01  28.21       0.11   26.70   \n",
       "1982-03-01   25.21       -1.31  26.98      -0.16  28.41       0.22   27.20   \n",
       "1982-04-01   24.50       -0.97  27.68       0.18  28.92       0.42   28.02   \n",
       "1982-05-01   23.97       -0.23  27.79       0.71  29.49       0.70   28.54   \n",
       "1982-06-01   22.89        0.07  27.46       1.03  29.76       0.92   28.75   \n",
       "1982-07-01   22.47        0.87  26.44       0.82  29.38       0.58   28.10   \n",
       "1982-08-01   21.75        1.10  26.15       1.16  29.04       0.36   27.93   \n",
       "1982-09-01   21.80        1.44  26.52       1.67  29.16       0.47   28.11   \n",
       "1982-10-01   22.94        2.12  27.11       2.19  29.38       0.72   28.64   \n",
       "1982-11-01   24.59        3.00  27.62       2.64  29.23       0.60   28.81   \n",
       "1982-12-01   26.13        3.34  28.39       3.25  29.15       0.66   29.21   \n",
       "\n",
       "            Nino34anom  \n",
       "datetime                \n",
       "1982-01-01        0.15  \n",
       "1982-02-01       -0.02  \n",
       "1982-03-01       -0.02  \n",
       "1982-04-01        0.24  \n",
       "1982-05-01        0.69  \n",
       "1982-06-01        1.10  \n",
       "1982-07-01        0.88  \n",
       "1982-08-01        1.11  \n",
       "1982-09-01        1.39  \n",
       "1982-10-01        1.95  \n",
       "1982-11-01        2.16  \n",
       "1982-12-01        2.64  "
      ]
     },
     "execution_count": 65,
     "metadata": {},
     "output_type": "execute_result"
    }
   ],
   "source": [
    "df.loc[\"1982-01-01\":\"1982-12-01\"]"
   ]
  },
  {
   "cell_type": "markdown",
   "metadata": {},
   "source": [
    "De igual modo podemos seleccionar un `cubo` de datos combinando los métodos anteriormente vistos"
   ]
  },
  {
   "cell_type": "code",
   "execution_count": 74,
   "metadata": {
    "scrolled": true
   },
   "outputs": [
    {
     "data": {
      "text/html": [
       "<div>\n",
       "<style scoped>\n",
       "    .dataframe tbody tr th:only-of-type {\n",
       "        vertical-align: middle;\n",
       "    }\n",
       "\n",
       "    .dataframe tbody tr th {\n",
       "        vertical-align: top;\n",
       "    }\n",
       "\n",
       "    .dataframe thead th {\n",
       "        text-align: right;\n",
       "    }\n",
       "</style>\n",
       "<table border=\"1\" class=\"dataframe\">\n",
       "  <thead>\n",
       "    <tr style=\"text-align: right;\">\n",
       "      <th></th>\n",
       "      <th>Nino34</th>\n",
       "      <th>Nino34anom</th>\n",
       "    </tr>\n",
       "    <tr>\n",
       "      <th>datetime</th>\n",
       "      <th></th>\n",
       "      <th></th>\n",
       "    </tr>\n",
       "  </thead>\n",
       "  <tbody>\n",
       "    <tr>\n",
       "      <th>1982-01-01</th>\n",
       "      <td>26.72</td>\n",
       "      <td>0.15</td>\n",
       "    </tr>\n",
       "    <tr>\n",
       "      <th>1982-02-01</th>\n",
       "      <td>26.70</td>\n",
       "      <td>-0.02</td>\n",
       "    </tr>\n",
       "    <tr>\n",
       "      <th>1982-03-01</th>\n",
       "      <td>27.20</td>\n",
       "      <td>-0.02</td>\n",
       "    </tr>\n",
       "    <tr>\n",
       "      <th>1982-04-01</th>\n",
       "      <td>28.02</td>\n",
       "      <td>0.24</td>\n",
       "    </tr>\n",
       "    <tr>\n",
       "      <th>1982-05-01</th>\n",
       "      <td>28.54</td>\n",
       "      <td>0.69</td>\n",
       "    </tr>\n",
       "    <tr>\n",
       "      <th>1982-06-01</th>\n",
       "      <td>28.75</td>\n",
       "      <td>1.10</td>\n",
       "    </tr>\n",
       "    <tr>\n",
       "      <th>1982-07-01</th>\n",
       "      <td>28.10</td>\n",
       "      <td>0.88</td>\n",
       "    </tr>\n",
       "    <tr>\n",
       "      <th>1982-08-01</th>\n",
       "      <td>27.93</td>\n",
       "      <td>1.11</td>\n",
       "    </tr>\n",
       "    <tr>\n",
       "      <th>1982-09-01</th>\n",
       "      <td>28.11</td>\n",
       "      <td>1.39</td>\n",
       "    </tr>\n",
       "    <tr>\n",
       "      <th>1982-10-01</th>\n",
       "      <td>28.64</td>\n",
       "      <td>1.95</td>\n",
       "    </tr>\n",
       "    <tr>\n",
       "      <th>1982-11-01</th>\n",
       "      <td>28.81</td>\n",
       "      <td>2.16</td>\n",
       "    </tr>\n",
       "    <tr>\n",
       "      <th>1982-12-01</th>\n",
       "      <td>29.21</td>\n",
       "      <td>2.64</td>\n",
       "    </tr>\n",
       "  </tbody>\n",
       "</table>\n",
       "</div>"
      ],
      "text/plain": [
       "            Nino34  Nino34anom\n",
       "datetime                      \n",
       "1982-01-01   26.72        0.15\n",
       "1982-02-01   26.70       -0.02\n",
       "1982-03-01   27.20       -0.02\n",
       "1982-04-01   28.02        0.24\n",
       "1982-05-01   28.54        0.69\n",
       "1982-06-01   28.75        1.10\n",
       "1982-07-01   28.10        0.88\n",
       "1982-08-01   27.93        1.11\n",
       "1982-09-01   28.11        1.39\n",
       "1982-10-01   28.64        1.95\n",
       "1982-11-01   28.81        2.16\n",
       "1982-12-01   29.21        2.64"
      ]
     },
     "execution_count": 74,
     "metadata": {},
     "output_type": "execute_result"
    }
   ],
   "source": [
    "df.loc[\"1982-01-01\":\"1982-12-01\", ['Nino34', 'Nino34anom']]"
   ]
  },
  {
   "cell_type": "markdown",
   "metadata": {},
   "source": [
    "### 2.4 Análisis exploratorios\n",
    "\n",
    "`Pandas` nos permite visualizar las primeras y últimas filas de los `DataFrames` usando `.head()` y `.tail()`"
   ]
  },
  {
   "cell_type": "code",
   "execution_count": 70,
   "metadata": {},
   "outputs": [
    {
     "data": {
      "text/html": [
       "<div>\n",
       "<style scoped>\n",
       "    .dataframe tbody tr th:only-of-type {\n",
       "        vertical-align: middle;\n",
       "    }\n",
       "\n",
       "    .dataframe tbody tr th {\n",
       "        vertical-align: top;\n",
       "    }\n",
       "\n",
       "    .dataframe thead th {\n",
       "        text-align: right;\n",
       "    }\n",
       "</style>\n",
       "<table border=\"1\" class=\"dataframe\">\n",
       "  <thead>\n",
       "    <tr style=\"text-align: right;\">\n",
       "      <th></th>\n",
       "      <th>Nino12</th>\n",
       "      <th>Nino12anom</th>\n",
       "      <th>Nino3</th>\n",
       "      <th>Nino3anom</th>\n",
       "      <th>Nino4</th>\n",
       "      <th>Nino4anom</th>\n",
       "      <th>Nino34</th>\n",
       "      <th>Nino34anom</th>\n",
       "    </tr>\n",
       "    <tr>\n",
       "      <th>datetime</th>\n",
       "      <th></th>\n",
       "      <th></th>\n",
       "      <th></th>\n",
       "      <th></th>\n",
       "      <th></th>\n",
       "      <th></th>\n",
       "      <th></th>\n",
       "      <th></th>\n",
       "    </tr>\n",
       "  </thead>\n",
       "  <tbody>\n",
       "    <tr>\n",
       "      <th>1982-01-01</th>\n",
       "      <td>24.29</td>\n",
       "      <td>-0.17</td>\n",
       "      <td>25.87</td>\n",
       "      <td>0.24</td>\n",
       "      <td>28.30</td>\n",
       "      <td>0.00</td>\n",
       "      <td>26.72</td>\n",
       "      <td>0.15</td>\n",
       "    </tr>\n",
       "    <tr>\n",
       "      <th>1982-02-01</th>\n",
       "      <td>25.49</td>\n",
       "      <td>-0.58</td>\n",
       "      <td>26.38</td>\n",
       "      <td>0.01</td>\n",
       "      <td>28.21</td>\n",
       "      <td>0.11</td>\n",
       "      <td>26.70</td>\n",
       "      <td>-0.02</td>\n",
       "    </tr>\n",
       "    <tr>\n",
       "      <th>1982-03-01</th>\n",
       "      <td>25.21</td>\n",
       "      <td>-1.31</td>\n",
       "      <td>26.98</td>\n",
       "      <td>-0.16</td>\n",
       "      <td>28.41</td>\n",
       "      <td>0.22</td>\n",
       "      <td>27.20</td>\n",
       "      <td>-0.02</td>\n",
       "    </tr>\n",
       "    <tr>\n",
       "      <th>1982-04-01</th>\n",
       "      <td>24.50</td>\n",
       "      <td>-0.97</td>\n",
       "      <td>27.68</td>\n",
       "      <td>0.18</td>\n",
       "      <td>28.92</td>\n",
       "      <td>0.42</td>\n",
       "      <td>28.02</td>\n",
       "      <td>0.24</td>\n",
       "    </tr>\n",
       "    <tr>\n",
       "      <th>1982-05-01</th>\n",
       "      <td>23.97</td>\n",
       "      <td>-0.23</td>\n",
       "      <td>27.79</td>\n",
       "      <td>0.71</td>\n",
       "      <td>29.49</td>\n",
       "      <td>0.70</td>\n",
       "      <td>28.54</td>\n",
       "      <td>0.69</td>\n",
       "    </tr>\n",
       "  </tbody>\n",
       "</table>\n",
       "</div>"
      ],
      "text/plain": [
       "            Nino12  Nino12anom  Nino3  Nino3anom  Nino4  Nino4anom  Nino34  \\\n",
       "datetime                                                                     \n",
       "1982-01-01   24.29       -0.17  25.87       0.24  28.30       0.00   26.72   \n",
       "1982-02-01   25.49       -0.58  26.38       0.01  28.21       0.11   26.70   \n",
       "1982-03-01   25.21       -1.31  26.98      -0.16  28.41       0.22   27.20   \n",
       "1982-04-01   24.50       -0.97  27.68       0.18  28.92       0.42   28.02   \n",
       "1982-05-01   23.97       -0.23  27.79       0.71  29.49       0.70   28.54   \n",
       "\n",
       "            Nino34anom  \n",
       "datetime                \n",
       "1982-01-01        0.15  \n",
       "1982-02-01       -0.02  \n",
       "1982-03-01       -0.02  \n",
       "1982-04-01        0.24  \n",
       "1982-05-01        0.69  "
      ]
     },
     "execution_count": 70,
     "metadata": {},
     "output_type": "execute_result"
    }
   ],
   "source": [
    "df.head()"
   ]
  },
  {
   "cell_type": "code",
   "execution_count": 71,
   "metadata": {},
   "outputs": [
    {
     "data": {
      "text/html": [
       "<div>\n",
       "<style scoped>\n",
       "    .dataframe tbody tr th:only-of-type {\n",
       "        vertical-align: middle;\n",
       "    }\n",
       "\n",
       "    .dataframe tbody tr th {\n",
       "        vertical-align: top;\n",
       "    }\n",
       "\n",
       "    .dataframe thead th {\n",
       "        text-align: right;\n",
       "    }\n",
       "</style>\n",
       "<table border=\"1\" class=\"dataframe\">\n",
       "  <thead>\n",
       "    <tr style=\"text-align: right;\">\n",
       "      <th></th>\n",
       "      <th>Nino12</th>\n",
       "      <th>Nino12anom</th>\n",
       "      <th>Nino3</th>\n",
       "      <th>Nino3anom</th>\n",
       "      <th>Nino4</th>\n",
       "      <th>Nino4anom</th>\n",
       "      <th>Nino34</th>\n",
       "      <th>Nino34anom</th>\n",
       "    </tr>\n",
       "    <tr>\n",
       "      <th>datetime</th>\n",
       "      <th></th>\n",
       "      <th></th>\n",
       "      <th></th>\n",
       "      <th></th>\n",
       "      <th></th>\n",
       "      <th></th>\n",
       "      <th></th>\n",
       "      <th></th>\n",
       "    </tr>\n",
       "  </thead>\n",
       "  <tbody>\n",
       "    <tr>\n",
       "      <th>2020-12-01</th>\n",
       "      <td>22.16</td>\n",
       "      <td>-0.60</td>\n",
       "      <td>24.38</td>\n",
       "      <td>-0.83</td>\n",
       "      <td>27.65</td>\n",
       "      <td>-0.95</td>\n",
       "      <td>25.53</td>\n",
       "      <td>-1.12</td>\n",
       "    </tr>\n",
       "    <tr>\n",
       "      <th>2021-01-01</th>\n",
       "      <td>23.89</td>\n",
       "      <td>-0.64</td>\n",
       "      <td>25.06</td>\n",
       "      <td>-0.55</td>\n",
       "      <td>27.10</td>\n",
       "      <td>-1.25</td>\n",
       "      <td>25.58</td>\n",
       "      <td>-0.99</td>\n",
       "    </tr>\n",
       "    <tr>\n",
       "      <th>2021-02-01</th>\n",
       "      <td>25.55</td>\n",
       "      <td>-0.66</td>\n",
       "      <td>25.80</td>\n",
       "      <td>-0.57</td>\n",
       "      <td>27.20</td>\n",
       "      <td>-1.00</td>\n",
       "      <td>25.81</td>\n",
       "      <td>-0.92</td>\n",
       "    </tr>\n",
       "    <tr>\n",
       "      <th>2021-03-01</th>\n",
       "      <td>26.48</td>\n",
       "      <td>-0.26</td>\n",
       "      <td>26.80</td>\n",
       "      <td>-0.39</td>\n",
       "      <td>27.79</td>\n",
       "      <td>-0.55</td>\n",
       "      <td>26.75</td>\n",
       "      <td>-0.51</td>\n",
       "    </tr>\n",
       "    <tr>\n",
       "      <th>2021-04-01</th>\n",
       "      <td>24.89</td>\n",
       "      <td>-0.80</td>\n",
       "      <td>26.96</td>\n",
       "      <td>-0.65</td>\n",
       "      <td>28.47</td>\n",
       "      <td>-0.21</td>\n",
       "      <td>27.40</td>\n",
       "      <td>-0.49</td>\n",
       "    </tr>\n",
       "  </tbody>\n",
       "</table>\n",
       "</div>"
      ],
      "text/plain": [
       "            Nino12  Nino12anom  Nino3  Nino3anom  Nino4  Nino4anom  Nino34  \\\n",
       "datetime                                                                     \n",
       "2020-12-01   22.16       -0.60  24.38      -0.83  27.65      -0.95   25.53   \n",
       "2021-01-01   23.89       -0.64  25.06      -0.55  27.10      -1.25   25.58   \n",
       "2021-02-01   25.55       -0.66  25.80      -0.57  27.20      -1.00   25.81   \n",
       "2021-03-01   26.48       -0.26  26.80      -0.39  27.79      -0.55   26.75   \n",
       "2021-04-01   24.89       -0.80  26.96      -0.65  28.47      -0.21   27.40   \n",
       "\n",
       "            Nino34anom  \n",
       "datetime                \n",
       "2020-12-01       -1.12  \n",
       "2021-01-01       -0.99  \n",
       "2021-02-01       -0.92  \n",
       "2021-03-01       -0.51  \n",
       "2021-04-01       -0.49  "
      ]
     },
     "execution_count": 71,
     "metadata": {},
     "output_type": "execute_result"
    }
   ],
   "source": [
    "df.tail()"
   ]
  },
  {
   "cell_type": "markdown",
   "metadata": {},
   "source": [
    "Para conocer la información de tipo de datos, número de datos faltantes y otras propiedades del `DataFrame` podemos usar el método `.info()`"
   ]
  },
  {
   "cell_type": "code",
   "execution_count": 77,
   "metadata": {},
   "outputs": [
    {
     "name": "stdout",
     "output_type": "stream",
     "text": [
      "<class 'pandas.core.frame.DataFrame'>\n",
      "DatetimeIndex: 472 entries, 1982-01-01 to 2021-04-01\n",
      "Data columns (total 8 columns):\n",
      " #   Column      Non-Null Count  Dtype  \n",
      "---  ------      --------------  -----  \n",
      " 0   Nino12      472 non-null    float64\n",
      " 1   Nino12anom  472 non-null    float64\n",
      " 2   Nino3       472 non-null    float64\n",
      " 3   Nino3anom   472 non-null    float64\n",
      " 4   Nino4       472 non-null    float64\n",
      " 5   Nino4anom   472 non-null    float64\n",
      " 6   Nino34      472 non-null    float64\n",
      " 7   Nino34anom  472 non-null    float64\n",
      "dtypes: float64(8)\n",
      "memory usage: 49.4 KB\n"
     ]
    }
   ],
   "source": [
    "df.info()"
   ]
  },
  {
   "cell_type": "markdown",
   "metadata": {},
   "source": [
    "Podemos usar el método `.describe()` para acceder a una descripción estadística rápida del `DataFrame`"
   ]
  },
  {
   "cell_type": "code",
   "execution_count": 78,
   "metadata": {},
   "outputs": [
    {
     "data": {
      "text/html": [
       "<div>\n",
       "<style scoped>\n",
       "    .dataframe tbody tr th:only-of-type {\n",
       "        vertical-align: middle;\n",
       "    }\n",
       "\n",
       "    .dataframe tbody tr th {\n",
       "        vertical-align: top;\n",
       "    }\n",
       "\n",
       "    .dataframe thead th {\n",
       "        text-align: right;\n",
       "    }\n",
       "</style>\n",
       "<table border=\"1\" class=\"dataframe\">\n",
       "  <thead>\n",
       "    <tr style=\"text-align: right;\">\n",
       "      <th></th>\n",
       "      <th>Nino12</th>\n",
       "      <th>Nino12anom</th>\n",
       "      <th>Nino3</th>\n",
       "      <th>Nino3anom</th>\n",
       "      <th>Nino4</th>\n",
       "      <th>Nino4anom</th>\n",
       "      <th>Nino34</th>\n",
       "      <th>Nino34anom</th>\n",
       "    </tr>\n",
       "  </thead>\n",
       "  <tbody>\n",
       "    <tr>\n",
       "      <th>count</th>\n",
       "      <td>472.000000</td>\n",
       "      <td>472.000000</td>\n",
       "      <td>472.000000</td>\n",
       "      <td>472.000000</td>\n",
       "      <td>472.000000</td>\n",
       "      <td>472.000000</td>\n",
       "      <td>472.000000</td>\n",
       "      <td>472.000000</td>\n",
       "    </tr>\n",
       "    <tr>\n",
       "      <th>mean</th>\n",
       "      <td>23.209619</td>\n",
       "      <td>0.059725</td>\n",
       "      <td>25.936568</td>\n",
       "      <td>0.039428</td>\n",
       "      <td>28.625064</td>\n",
       "      <td>0.063814</td>\n",
       "      <td>27.076780</td>\n",
       "      <td>0.034894</td>\n",
       "    </tr>\n",
       "    <tr>\n",
       "      <th>std</th>\n",
       "      <td>2.431522</td>\n",
       "      <td>1.157590</td>\n",
       "      <td>1.349621</td>\n",
       "      <td>0.965464</td>\n",
       "      <td>0.755422</td>\n",
       "      <td>0.709401</td>\n",
       "      <td>1.063004</td>\n",
       "      <td>0.947936</td>\n",
       "    </tr>\n",
       "    <tr>\n",
       "      <th>min</th>\n",
       "      <td>18.570000</td>\n",
       "      <td>-2.100000</td>\n",
       "      <td>23.030000</td>\n",
       "      <td>-2.070000</td>\n",
       "      <td>26.430000</td>\n",
       "      <td>-1.870000</td>\n",
       "      <td>24.270000</td>\n",
       "      <td>-2.380000</td>\n",
       "    </tr>\n",
       "    <tr>\n",
       "      <th>25%</th>\n",
       "      <td>21.152500</td>\n",
       "      <td>-0.712500</td>\n",
       "      <td>24.850000</td>\n",
       "      <td>-0.600000</td>\n",
       "      <td>28.140000</td>\n",
       "      <td>-0.430000</td>\n",
       "      <td>26.330000</td>\n",
       "      <td>-0.572500</td>\n",
       "    </tr>\n",
       "    <tr>\n",
       "      <th>50%</th>\n",
       "      <td>22.980000</td>\n",
       "      <td>-0.160000</td>\n",
       "      <td>25.885000</td>\n",
       "      <td>-0.115000</td>\n",
       "      <td>28.760000</td>\n",
       "      <td>0.205000</td>\n",
       "      <td>27.100000</td>\n",
       "      <td>0.015000</td>\n",
       "    </tr>\n",
       "    <tr>\n",
       "      <th>75%</th>\n",
       "      <td>25.322500</td>\n",
       "      <td>0.515000</td>\n",
       "      <td>26.962500</td>\n",
       "      <td>0.512500</td>\n",
       "      <td>29.190000</td>\n",
       "      <td>0.630000</td>\n",
       "      <td>27.792500</td>\n",
       "      <td>0.565000</td>\n",
       "    </tr>\n",
       "    <tr>\n",
       "      <th>max</th>\n",
       "      <td>29.150000</td>\n",
       "      <td>4.620000</td>\n",
       "      <td>29.140000</td>\n",
       "      <td>3.620000</td>\n",
       "      <td>30.300000</td>\n",
       "      <td>1.670000</td>\n",
       "      <td>29.600000</td>\n",
       "      <td>2.950000</td>\n",
       "    </tr>\n",
       "  </tbody>\n",
       "</table>\n",
       "</div>"
      ],
      "text/plain": [
       "           Nino12  Nino12anom       Nino3   Nino3anom       Nino4   Nino4anom  \\\n",
       "count  472.000000  472.000000  472.000000  472.000000  472.000000  472.000000   \n",
       "mean    23.209619    0.059725   25.936568    0.039428   28.625064    0.063814   \n",
       "std      2.431522    1.157590    1.349621    0.965464    0.755422    0.709401   \n",
       "min     18.570000   -2.100000   23.030000   -2.070000   26.430000   -1.870000   \n",
       "25%     21.152500   -0.712500   24.850000   -0.600000   28.140000   -0.430000   \n",
       "50%     22.980000   -0.160000   25.885000   -0.115000   28.760000    0.205000   \n",
       "75%     25.322500    0.515000   26.962500    0.512500   29.190000    0.630000   \n",
       "max     29.150000    4.620000   29.140000    3.620000   30.300000    1.670000   \n",
       "\n",
       "           Nino34  Nino34anom  \n",
       "count  472.000000  472.000000  \n",
       "mean    27.076780    0.034894  \n",
       "std      1.063004    0.947936  \n",
       "min     24.270000   -2.380000  \n",
       "25%     26.330000   -0.572500  \n",
       "50%     27.100000    0.015000  \n",
       "75%     27.792500    0.565000  \n",
       "max     29.600000    2.950000  "
      ]
     },
     "execution_count": 78,
     "metadata": {},
     "output_type": "execute_result"
    }
   ],
   "source": [
    "df.describe()"
   ]
  },
  {
   "cell_type": "markdown",
   "metadata": {},
   "source": [
    "Podemos calcular el valor medio de una `serie` o un `DataFrame` usando el metodo `.mean()`"
   ]
  },
  {
   "cell_type": "code",
   "execution_count": 89,
   "metadata": {},
   "outputs": [
    {
     "data": {
      "text/plain": [
       "0.03489406779661016"
      ]
     },
     "execution_count": 89,
     "metadata": {},
     "output_type": "execute_result"
    }
   ],
   "source": [
    "df['Nino34anom'].mean()"
   ]
  },
  {
   "cell_type": "code",
   "execution_count": 90,
   "metadata": {
    "scrolled": true
   },
   "outputs": [
    {
     "data": {
      "text/plain": [
       "Nino12        23.209619\n",
       "Nino12anom     0.059725\n",
       "Nino3         25.936568\n",
       "Nino3anom      0.039428\n",
       "Nino4         28.625064\n",
       "Nino4anom      0.063814\n",
       "Nino34        27.076780\n",
       "Nino34anom     0.034894\n",
       "dtype: float64"
      ]
     },
     "execution_count": 90,
     "metadata": {},
     "output_type": "execute_result"
    }
   ],
   "source": [
    "df.mean()"
   ]
  },
  {
   "cell_type": "markdown",
   "metadata": {},
   "source": [
    "El método `.mean()` calcula el valor medio a lo largo de las `columnas`, sin embargo podemos calcular la media a lo largo de las filas usando el argumento `axis`"
   ]
  },
  {
   "cell_type": "code",
   "execution_count": 96,
   "metadata": {
    "scrolled": true
   },
   "outputs": [
    {
     "data": {
      "text/plain": [
       "datetime\n",
       "1982-01-01    13.17500\n",
       "1982-02-01    13.28750\n",
       "1982-03-01    13.31625\n",
       "1982-04-01    13.62375\n",
       "1982-05-01    13.95750\n",
       "                ...   \n",
       "2020-12-01    12.02750\n",
       "2021-01-01    12.27500\n",
       "2021-02-01    12.65125\n",
       "2021-03-01    13.26375\n",
       "2021-04-01    13.19625\n",
       "Length: 472, dtype: float64"
      ]
     },
     "execution_count": 96,
     "metadata": {},
     "output_type": "execute_result"
    }
   ],
   "source": [
    "df.mean(axis=1)"
   ]
  },
  {
   "cell_type": "markdown",
   "metadata": {},
   "source": [
    "De manera similar podemos calcular la desviación estandar usando el método `.std()`"
   ]
  },
  {
   "cell_type": "code",
   "execution_count": 98,
   "metadata": {},
   "outputs": [
    {
     "data": {
      "text/plain": [
       "Nino12        2.431522\n",
       "Nino12anom    1.157590\n",
       "Nino3         1.349621\n",
       "Nino3anom     0.965464\n",
       "Nino4         0.755422\n",
       "Nino4anom     0.709401\n",
       "Nino34        1.063004\n",
       "Nino34anom    0.947936\n",
       "dtype: float64"
      ]
     },
     "execution_count": 98,
     "metadata": {},
     "output_type": "execute_result"
    }
   ],
   "source": [
    "df.std()"
   ]
  },
  {
   "cell_type": "markdown",
   "metadata": {},
   "source": [
    "Para mas funciones y operaciones se puede consultar la documentación oficial de [`Pandas`](https://pandas.pydata.org/docs/reference/frame.html)"
   ]
  },
  {
   "cell_type": "markdown",
   "metadata": {},
   "source": [
    "### 2.6 Gráficos rápidos\n",
    "\n",
    "`Pandas` nos permite generar gráficos rápidos que también nos permiten hacer análisis exploratorios de los datos. Pandas contiene el metodo `.plot` para generar plots sin necesidad de usar `matplotlib`"
   ]
  },
  {
   "cell_type": "code",
   "execution_count": 99,
   "metadata": {},
   "outputs": [
    {
     "data": {
      "image/png": "[encoded data removed]",
      "text/plain": [
       "<Figure size 640x480 with 1 Axes>"
      ]
     },
     "metadata": {},
     "output_type": "display_data"
    }
   ],
   "source": [
    "df.Nino34.plot();"
   ]
  },
  {
   "cell_type": "markdown",
   "metadata": {},
   "source": [
    "el método `.plot()` genera un gráfico de tipo linea simple. Sin embargo, Podemos generar gráficos mas complejos utilizando otros métodos como `.hist` que retorna un histográma"
   ]
  },
  {
   "cell_type": "code",
   "execution_count": 100,
   "metadata": {},
   "outputs": [
    {
     "data": {
      "image/png": "[encoded data removed]",
      "text/plain": [
       "<Figure size 640x480 with 1 Axes>"
      ]
     },
     "metadata": {},
     "output_type": "display_data"
    }
   ],
   "source": [
    "df.Nino34.plot.hist();\n",
    "# df[['Nino12', 'Nino34']].plot.hist();"
   ]
  },
  {
   "cell_type": "markdown",
   "metadata": {},
   "source": [
    "O simplemente un diagrama de cajas nos permitiría conocer los datos de una manera más sencilla."
   ]
  },
  {
   "cell_type": "code",
   "execution_count": 101,
   "metadata": {},
   "outputs": [
    {
     "data": {
      "image/png": "[encoded data removed]",
      "text/plain": [
       "<Figure size 640x480 with 1 Axes>"
      ]
     },
     "metadata": {},
     "output_type": "display_data"
    }
   ],
   "source": [
    "df[['Nino12', 'Nino34']].plot.box();"
   ]
  },
  {
   "cell_type": "markdown",
   "metadata": {},
   "source": [
    "Para mas información de gráficos pueden consultar en este [link](https://pandas.pydata.org/docs/reference/api/pandas.DataFrame.plot.html)"
   ]
  },
  {
   "cell_type": "markdown",
   "metadata": {},
   "source": [
    "## 3. Xarray"
   ]
  },
  {
   "cell_type": "markdown",
   "metadata": {},
   "source": [
    "`Xarray`"
   ]
  },
  {
   "cell_type": "markdown",
   "metadata": {},
   "source": [
    "---"
   ]
  },
  {
   "cell_type": "markdown",
   "metadata": {},
   "source": [
    "## Conclusiones\n",
    "Add one final `---` marking the end of your body of content, and then conclude with a brief single paragraph summarizing at a high level the key pieces that were learned and how they tied to your objectives. Look to reiterate what the most important takeaways were.\n",
    "\n",
    "### What's next?\n",
    "Let Jupyter book tie this to the next (sequential) piece of content that people could move on to down below and in the sidebar. However, if this page uniquely enables your reader to tackle other nonsequential concepts throughout this book, or even external content, link to it here!"
   ]
  },
  {
   "cell_type": "markdown",
   "metadata": {},
   "source": [
    "## Fuentes y referencias\n"
   ]
  },
  {
   "cell_type": "code",
   "execution_count": null,
   "metadata": {},
   "outputs": [],
   "source": []
  }
 ],
 "metadata": {
  "kernelspec": {
   "display_name": "Python 3 (ipykernel)",
   "language": "python",
   "name": "python3"
  },
  "language_info": {
   "codemirror_mode": {
    "name": "ipython",
    "version": 3
   },
   "file_extension": ".py",
   "mimetype": "text/x-python",
   "name": "python",
   "nbconvert_exporter": "python",
   "pygments_lexer": "ipython3",
   "version": "3.11.5"
  },
  "nbdime-conflicts": {
   "local_diff": [
    {
     "diff": [
      {
       "diff": [
        {
         "key": 0,
         "op": "addrange",
         "valuelist": [
          "Python 3"
         ]
        },
        {
         "key": 0,
         "length": 1,
         "op": "removerange"
        }
       ],
       "key": "display_name",
       "op": "patch"
      }
     ],
     "key": "kernelspec",
     "op": "patch"
    }
   ],
   "remote_diff": [
    {
     "diff": [
      {
       "diff": [
        {
         "key": 0,
         "op": "addrange",
         "valuelist": [
          "Python3"
         ]
        },
        {
         "key": 0,
         "length": 1,
         "op": "removerange"
        }
       ],
       "key": "display_name",
       "op": "patch"
      }
     ],
     "key": "kernelspec",
     "op": "patch"
    }
   ]
  },
  "toc-autonumbering": false
 },
 "nbformat": 4,
 "nbformat_minor": 4
}
