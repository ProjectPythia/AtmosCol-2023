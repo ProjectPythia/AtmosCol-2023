{
 "cells": [
  {
   "cell_type": "markdown",
   "metadata": {},
   "source": [
    "<img src=\"../images/logos/openradar_logo.svg\" width=300 alt=\"Python-Jlab-logo\"></img>"
   ]
  },
  {
   "cell_type": "markdown",
   "metadata": {},
   "source": [
    "# Py-Art, Xradar y Wradlib"
   ]
  },
  {
   "cell_type": "markdown",
   "metadata": {},
   "source": [
    "---"
   ]
  },
  {
   "cell_type": "markdown",
   "metadata": {},
   "source": [
    "## Introducción\n",
    "En este cuadernillo (Notebook) aprenderemos los conceptos básicos para trabajar con datos provenientes de radares meteorológicos:\n",
    "\n",
    "1. Breve introducción a Py-Art\n",
    "1. Breve introducción a Xradar\n",
    "2. Breve introducción a Wradlib"
   ]
  },
  {
   "cell_type": "markdown",
   "metadata": {},
   "source": [
    "## Prerequisitos\n",
    "| Conceptos | Importancia | Notas |\n",
    "| --- | --- | --- |\n",
    "| [Introducción a Numpy](https://foundations.projectpythia.org/core/numpy.html) | Necesario | Información complementaria |\n",
    "| [Introducción a Xarray](https://foundations.projectpythia.org/core/xarray.html) | Necesario | Información complementaria |\n",
    "| [Matplotlib](https://foundations.projectpythia.org/core/matplotlib.html) | Necesario |  Generación de gráficas|\n",
    "| [Cartopy](https://foundations.projectpythia.org/core/cartopy/cartopy.html) | Necesario |  Generación de mapas|\n",
    "| [Radar Cookbook](https://projectpythia.org/radar-cookbook/README.html) | Necesario | Información complementaria |\n",
    "\n",
    "- **Tiempo de aprendizaje**: 30 minutos"
   ]
  },
  {
   "cell_type": "markdown",
   "metadata": {},
   "source": [
    "### Librerías"
   ]
  },
  {
   "cell_type": "code",
   "execution_count": null,
   "metadata": {},
   "outputs": [],
   "source": [
    "import cartopy.crs as ccrs\n",
    "import cmweather\n",
    "import matplotlib.pyplot as plt\n",
    "import numpy as np\n",
    "import pyart\n",
    "import wradlib as wrl\n",
    "import xradar as xd"
   ]
  },
  {
   "cell_type": "markdown",
   "metadata": {},
   "source": [
    "---"
   ]
  },
  {
   "cell_type": "markdown",
   "metadata": {},
   "source": [
    "## 1. `Py-Art`\n",
    "\n",
    "* [`Py-ART`](https://arm-doe.github.io/pyart/index.html) es una librería en Python que nos permite **graficar**, **corregir** y **analizar** datos de **radares meteorológicos** de diferentes **fabricantes**, **tipo**, y **modos de operación**. El software ha sido lanzado en `GitHub` como software de **código abierto bajo** una licencia **BSD**. Se ejecuta en `Linux`, `OS` y `Windows`. "
   ]
  },
  {
   "cell_type": "markdown",
   "metadata": {},
   "source": [
    "### 1.1 Lectura de datos usando `Py-Art`\n",
    "\n",
    "Para leer nuestros datos de radar -en el caso particular de este taller usaremos datos provenientes de radares meteorológicos con formato SIGMET- podemos usar el módulo [`pyart.io.read_sigmet`](https://arm-doe.github.io/pyart/API/generated/pyart.io.read_sigmet.html). Sin embargo, `Py-Art` tiene un módulo [`I/O`](https://arm-doe.github.io/pyart/API/generated/pyart.io.html) mucho más amplio donde se pueden leer datos de otras fuentes o tipos de radares. "
   ]
  },
  {
   "cell_type": "code",
   "execution_count": null,
   "metadata": {},
   "outputs": [],
   "source": [
    "radar_pa = pyart.io.read_sigmet(f\"../data/CAR220809191504.RAWDSX2\")"
   ]
  },
  {
   "cell_type": "markdown",
   "metadata": {},
   "source": [
    "Ahora podemos consultar la información contenida dentro del objeto radar usando `rada.info('compact')`"
   ]
  },
  {
   "cell_type": "code",
   "execution_count": null,
   "metadata": {
    "scrolled": true
   },
   "outputs": [],
   "source": [
    "radar_pa.info(\"compact\")"
   ]
  },
  {
   "cell_type": "markdown",
   "metadata": {},
   "source": [
    "Podemos listar las **variables polarimétricas** contenidas en este archivo usando `radar.fields`"
   ]
  },
  {
   "cell_type": "code",
   "execution_count": null,
   "metadata": {},
   "outputs": [],
   "source": [
    "list(radar_pa.fields)"
   ]
  },
  {
   "cell_type": "markdown",
   "metadata": {},
   "source": [
    "La variable polarimétrica más popular en es el **factor de reflectividad (Z)** que es una medida indirecta de la intensidad y el tamaño de las gotas de lluvia. Podemos ver mas información en el objeto radar usando la notación de `diccionarios` en `Python`"
   ]
  },
  {
   "cell_type": "code",
   "execution_count": null,
   "metadata": {},
   "outputs": [],
   "source": [
    "radar_pa.fields[\"reflectivity\"]"
   ]
  },
  {
   "cell_type": "markdown",
   "metadata": {},
   "source": [
    "### 1.2 Gráficas de reflectividad ($Z$)\n",
    "\n",
    "Ahora podemos generar salidas gráficas usando el módulo [`pyart.graph`](https://arm-doe.github.io/pyart-docs-travis/API/generated/pyart.graph.html?highlight=graph#module-pyart.graph). Esta librería nos permite realizar gráficos con o sin georeferenciacion usando [`pyart.graph.RadarDisplay`](https://arm-doe.github.io/pyart-docs-travis/API/generated/pyart.graph.RadarDisplay.html#pyart.graph.RadarDisplay) o [`pyart.graph.RadarMapDisplay`](https://arm-doe.github.io/pyart-docs-travis/API/generated/pyart.graph.RadarMapDisplay.html#pyart.graph.RadarMapDisplay)"
   ]
  },
  {
   "cell_type": "code",
   "execution_count": null,
   "metadata": {},
   "outputs": [],
   "source": [
    "fig = plt.figure(figsize=(10, 4))\n",
    "ax = fig.add_subplot(121)\n",
    "display_ = pyart.graph.RadarDisplay(radar_pa)\n",
    "display_.plot(\n",
    "    \"reflectivity\",\n",
    "    0,\n",
    "    ax=ax,\n",
    "    colorbar_label=\"Reflectivity (dBZ)\",\n",
    "    cmap=\"ChaseSpectral\",\n",
    "    vmin=-10,\n",
    "    vmax=60,\n",
    "    title=\"Referencia al centro del radar\",\n",
    ")\n",
    "\n",
    "projection = ccrs.PlateCarree()\n",
    "ax1 = plt.subplot(122, projection=projection)\n",
    "display_ = pyart.graph.RadarMapDisplay(radar_pa)\n",
    "# Extraer la latitud y longitud del radar y usarla para centrar el mapa\n",
    "lat_center = round(radar_pa.latitude[\"data\"][0], 0)\n",
    "lon_center = round(radar_pa.longitude[\"data\"][0], 0)\n",
    "\n",
    "\n",
    "# Determinar los anchos\n",
    "lat_ticks = np.arange(lat_center - 3, lat_center + 3, 1.5)\n",
    "lon_ticks = np.arange(lon_center - 3, lon_center + 3, 1.5)\n",
    "\n",
    "# Fijar la proyección - en este caso, usamos la proyección general PlateCarree\n",
    "\n",
    "display_.plot_ppi_map(\n",
    "    \"reflectivity\",\n",
    "    0,\n",
    "    resolution=\"10m\",\n",
    "    ax=ax1,\n",
    "    lat_lines=lat_ticks,\n",
    "    lon_lines=lon_ticks,\n",
    "    colorbar_label=\"Reflectivity (dBZ)\",\n",
    "    cmap=\"ChaseSpectral\",\n",
    "    vmin=-10,\n",
    "    vmax=60,\n",
    "    title=\"Georeferenciado\",\n",
    ")"
   ]
  },
  {
   "cell_type": "markdown",
   "metadata": {},
   "source": [
    "### 1.3 Gráficas de variables polarimétricas\n",
    "\n",
    "Tambien podemos generar gráficas de otras variables como reflectividad diferencial ($Z_{DR}$), diferencial de fase ($\\phi_{DP}$)"
   ]
  },
  {
   "cell_type": "code",
   "execution_count": null,
   "metadata": {},
   "outputs": [],
   "source": [
    "fig = plt.figure(figsize=(12, 4))\n",
    "display_ = pyart.graph.RadarMapDisplay(radar_pa)\n",
    "\n",
    "ax2 = plt.subplot(121, projection=projection)\n",
    "display_.plot_ppi_map(\n",
    "    \"differential_reflectivity\",\n",
    "    0,\n",
    "    resolution=\"10m\",\n",
    "    ax=ax2,\n",
    "    lat_lines=lat_ticks,\n",
    "    lon_lines=lon_ticks,\n",
    "    title=r\"$Reflectividad \\  diferencial$\",\n",
    ")\n",
    "\n",
    "ax3 = plt.subplot(122, projection=projection)\n",
    "display_.plot_ppi_map(\n",
    "    \"differential_phase\",\n",
    "    0,\n",
    "    ax=ax3,\n",
    "    resolution=\"10m\",\n",
    "    lat_lines=lat_ticks,\n",
    "    lon_lines=lon_ticks,\n",
    "    title=r\"$Diferencial \\ de \\ fase$\",\n",
    ")\n",
    "\n",
    "plt.tight_layout()"
   ]
  },
  {
   "cell_type": "markdown",
   "metadata": {},
   "source": [
    "### 1.4 Otras funcionaldiades de Py-Art\n",
    "\n",
    "Para más funcionalidades de `Py-Art` puedes revisar la [documentación oficial](https://arm-doe.github.io/pyart/) o el [Radar Cookbook](https://projectpythia.org/radar-cookbook/README.html) donde podras encontrar ejemplos y casos de uso."
   ]
  },
  {
   "cell_type": "markdown",
   "metadata": {},
   "source": [
    "## 2. `Xradar`\n",
    "\n",
    "[`Xradar`](https://docs.openradarscience.org/projects/xradar/en/stable/), de acuerdo con la documentación oficial, \"es una herramienta que nos permite incorporar los datos de **radar meteorológico** al modelo de datos `Xarray`\". Básicamente, esta herramienta nos permite acceder a nuestros datos de radar usando las ventajas de `etiquetas`, `coordenadas`, y `atributos`. `Xradar` es una herramienta de **código abierto** que se basa en la colaboración de la comunidad científica y sus aportes a la misma. Se encuentra en un **estado estable** y en constante desarrollo. "
   ]
  },
  {
   "cell_type": "markdown",
   "metadata": {},
   "source": [
    "### 2.1  Lectura de datos usando `Xradar`\n",
    "\n",
    "Al igual que `Py-Art`, esta librería tiene un módulo [`I/O`](https://docs.openradarscience.org/projects/xradar/en/stable/importers.html) que soporta datos de radares de múltiples fuentes/formatos. Para nuestro caso particular, utilizaremos el método [`xd.io.open_iris_datatree`](https://docs.openradarscience.org/projects/xradar/en/latest/notebooks/Iris.html#) para leer nuestros datos en formato SIGMET."
   ]
  },
  {
   "cell_type": "code",
   "execution_count": null,
   "metadata": {},
   "outputs": [],
   "source": [
    "radar_xd = xd.io.open_iris_datatree(f\"../data/CAR220809191504.RAWDSX2\")\n",
    "display(radar_xd)"
   ]
  },
  {
   "cell_type": "markdown",
   "metadata": {},
   "source": [
    "Como podemos observar nuestro objeto radar tiene una estructura de un [`xarray.datatree`](https://xarray-datatree.readthedocs.io/en/latest/data-structures.html) lo que nos permite tener múltiples elevaciones en un solo objeto.\n",
    "Para acceder a nuestro `Dataset` podemos usar la notación de `diccionarios` de `Python` seguido por el método `.ds`"
   ]
  },
  {
   "cell_type": "code",
   "execution_count": null,
   "metadata": {},
   "outputs": [],
   "source": [
    "display(radar_xd[\"sweep_0\"].ds)"
   ]
  },
  {
   "cell_type": "markdown",
   "metadata": {},
   "source": [
    "### 2.2 Gráfico de reflectividad (Z)\n",
    "\n",
    "Como ya conocemos, `Xarray` nos permite generar gráficos de manera rápida, sin tener que utilizar la librería `matplotlib`, usando el método `.plot`"
   ]
  },
  {
   "cell_type": "code",
   "execution_count": null,
   "metadata": {},
   "outputs": [],
   "source": [
    "radar_xd[\"sweep_0\"][\"DBZH\"].plot(cmap=\"ChaseSpectral\", vmin=-10, vmax=60)"
   ]
  },
  {
   "cell_type": "markdown",
   "metadata": {},
   "source": [
    "Nuestro `Dataset` tiene por `coordenadas` y `dimensiones` el **azimuth** y el **rango**. Debemos georeferenciar nuestro `Dataset` para visualizar los datos en cordenadas relativas al radar o geográficas. Para lograr esto usamos el método [`xr.georeference`](https://docs.openradarscience.org/projects/xradar/en/stable/georeference.html)"
   ]
  },
  {
   "cell_type": "code",
   "execution_count": null,
   "metadata": {},
   "outputs": [],
   "source": [
    "radar = radar_xd.xradar.georeference()\n",
    "display(radar[\"sweep_0\"])"
   ]
  },
  {
   "cell_type": "markdown",
   "metadata": {},
   "source": [
    "Como se puede observar, **x**, **y** y **z** han sido agregados como `coordenadas` a nuestro `Dataset`. "
   ]
  },
  {
   "cell_type": "code",
   "execution_count": null,
   "metadata": {},
   "outputs": [],
   "source": [
    "radar_xd[\"sweep_0\"].x"
   ]
  },
  {
   "cell_type": "markdown",
   "metadata": {},
   "source": [
    "Nuevamente generemos el gráfico de reflectividad pero ahora utilizando las nuevas `coordenadas`"
   ]
  },
  {
   "cell_type": "code",
   "execution_count": null,
   "metadata": {},
   "outputs": [],
   "source": [
    "radar_xd[\"sweep_0\"][\"DBZH\"].plot(x=\"x\", y=\"y\", cmap=\"ChaseSpectral\", vmin=-10, vmax=60)"
   ]
  },
  {
   "cell_type": "markdown",
   "metadata": {},
   "source": [
    "### 2.3 Selección de datos (Slicing)\n",
    "\n",
    "Como mencionamos en el tutorial de `Xarray`, podemos utilizar las coordenadas y los atributos para seleccionar datos a lo largo de las dimensiones. Seleccionemos datos de reflecividad entre  `40° < azimuth < 120°` y `0 < rango < 150km`"
   ]
  },
  {
   "cell_type": "code",
   "execution_count": null,
   "metadata": {},
   "outputs": [],
   "source": [
    "radar_xd[\"sweep_0\"][\"DBZH\"].sel(azimuth=slice(40, 120), range=slice(0, 150 * 1e3)).plot(\n",
    "    x=\"x\", y=\"y\", cmap=\"ChaseSpectral\", vmin=-10, vmax=60\n",
    ")"
   ]
  },
  {
   "cell_type": "markdown",
   "metadata": {},
   "source": [
    "También podemos visualizar la reflectividad en función del rango. Intentémoslo para `azimuth=55`"
   ]
  },
  {
   "cell_type": "code",
   "execution_count": null,
   "metadata": {},
   "outputs": [],
   "source": [
    "radar_xd[\"sweep_0\"][\"DBZH\"].sel(azimuth=55, method=\"nearest\").plot()"
   ]
  },
  {
   "cell_type": "markdown",
   "metadata": {},
   "source": [
    "### 2.4 Acceso a otras variables plorimétricas\n",
    "\n",
    "Podemos acceder a las `variables` dentro del `Dataset` usando la notación de diccionarios de `Python` o usando el método `Punto`. Tratemos de acceder a la **reflectividad diferencial** $Z_{DR}$"
   ]
  },
  {
   "cell_type": "code",
   "execution_count": null,
   "metadata": {},
   "outputs": [],
   "source": [
    "radar_xd[\"sweep_0\"][\"ZDR\"].plot(x=\"x\", y=\"y\", vmin=-1, vmax=5)"
   ]
  },
  {
   "cell_type": "code",
   "execution_count": null,
   "metadata": {},
   "outputs": [],
   "source": [
    "radar_xd[\"sweep_0\"].RHOHV.plot(x=\"x\", y=\"y\", vmin=0, vmax=1, cmap=\"jet\")"
   ]
  },
  {
   "cell_type": "markdown",
   "metadata": {},
   "source": [
    "En general, `Xradar` es una librería relativamente \"nueva\" que sigue en constante evolución y construcción por parte de la comunidad científica. Para más información pueden consultar la [`documentación oficial`](https://docs.openradarscience.org/projects/xradar/en/stable/index.html)."
   ]
  },
  {
   "cell_type": "markdown",
   "metadata": {},
   "source": [
    "## 3. `Wradlib`\n",
    "\n",
    "[`Wradlib`](https://docs.wradlib.org/en/latest/) es una librería que, al igual que las anteriores, nos permite acceder a datos de radares meteorológicos de diversas fuentes y formatos. De acuerdo con la documentación oficial  \"`Wradlib` está diseñado para ayudar en los pasos más importantes del procesamiento de datos del radar meteorológico. Estos pueden incluir: leer formatos de datos comunes, georreferenciación, convertir la reflectividad en intensidad de lluvia, identificar y corregir fuentes de error típicas (como el desorden o la atenuación) y visualizar los datos\"."
   ]
  },
  {
   "cell_type": "markdown",
   "metadata": {},
   "source": [
    "### 3.1 Lectura de datos\n",
    "\n",
    "`Wradlib` ofrece un módulo [`I/O`](https://docs.wradlib.org/en/stable/io.html) completo para la lectura de archivos de radar en diferentes formatos y plataformas. En nuestro caso, utilizaremos `wr.io.read_iris` para leer nuestro archivo SIGMET"
   ]
  },
  {
   "cell_type": "code",
   "execution_count": null,
   "metadata": {},
   "outputs": [],
   "source": [
    "radar_wrl = wrl.io.read_iris(f\"../data/CAR220809191504.RAWDSX2\")"
   ]
  },
  {
   "cell_type": "code",
   "execution_count": null,
   "metadata": {},
   "outputs": [],
   "source": [
    "radar_wrl.keys()"
   ]
  },
  {
   "cell_type": "markdown",
   "metadata": {},
   "source": [
    "El objeto retornado es un  [`OrderedDict`](https://docs.python.org/3/library/collections.html#collections.OrderedDict), que simplemente es un `diccionario` con unos métodos adicionales a los diccionarios normales de Python. Podemos acceder a las variables polarimétricas del radar de la siguiente manera:"
   ]
  },
  {
   "cell_type": "code",
   "execution_count": null,
   "metadata": {},
   "outputs": [],
   "source": [
    "for variable in radar_wrl[\"data\"][1][\"ingest_data_hdrs\"].keys():\n",
    "    print(variable)"
   ]
  },
  {
   "cell_type": "markdown",
   "metadata": {},
   "source": [
    "Si queremos acceder a la reflectividad debemos usar la llave `DB_DBZ`"
   ]
  },
  {
   "cell_type": "code",
   "execution_count": null,
   "metadata": {},
   "outputs": [],
   "source": [
    "radar_wrl[\"data\"][1][\"sweep_data\"][\"DB_DBZ\"]"
   ]
  },
  {
   "cell_type": "markdown",
   "metadata": {},
   "source": [
    "Puede ser un poco confuso el acceso a los datos usando `Wralib`. Por lo tanto podemos usar la librería `Xradar` para acceder a los datos y utilizar los métodos de `Wradlib`. En el siguiente ejemplo accedemos al `sweep_0`, luego asignamos `coordenadas` y `georeferencia`"
   ]
  },
  {
   "cell_type": "code",
   "execution_count": null,
   "metadata": {},
   "outputs": [],
   "source": [
    "swp = radar_xd[\"sweep_0\"].ds.copy()\n",
    "swp"
   ]
  },
  {
   "cell_type": "code",
   "execution_count": null,
   "metadata": {},
   "outputs": [],
   "source": [
    "swp = swp.assign_coords(sweep_mode=swp.sweep_mode)\n",
    "swp = swp.wrl.georef.georeference()"
   ]
  },
  {
   "cell_type": "code",
   "execution_count": null,
   "metadata": {},
   "outputs": [],
   "source": [
    "swp"
   ]
  },
  {
   "cell_type": "markdown",
   "metadata": {},
   "source": [
    "### 3.2 Gráficos usando `wrl.vis` \n",
    "\n",
    "Finalmente podemos generar el gráfico de reflectividad (Z) usando el módulo de visualización `wrl.vis.plot`"
   ]
  },
  {
   "cell_type": "code",
   "execution_count": null,
   "metadata": {},
   "outputs": [],
   "source": [
    "fig = plt.figure(figsize=(5, 5))\n",
    "pm = swp.DBZH.wrl.vis.plot(vmin=-10, vmax=60, cmap=\"ChaseSpectral\")"
   ]
  },
  {
   "cell_type": "markdown",
   "metadata": {},
   "source": [
    "Podemos agregar georeferenciación a nuestro `Dataset` usando el método `wrl.georef.epsg_to_osr`. Para nuestro caso utilizaremos `epsg:4326` o también llamado [`WGS84`](https://en.wikipedia.org/wiki/World_Geodetic_System). Ahora podemos ver que nuestras coordenadas `x` y `y` estan en coordenadas geográficas."
   ]
  },
  {
   "cell_type": "code",
   "execution_count": null,
   "metadata": {},
   "outputs": [],
   "source": [
    "epsg = wrl.georef.epsg_to_osr(4326)\n",
    "swp = swp.wrl.georef.georeference(crs=epsg)\n",
    "swp"
   ]
  },
  {
   "cell_type": "markdown",
   "metadata": {},
   "source": [
    "\n",
    "Procedemos ahora a generar un gráfico adicionándole atributos como el centro del radar y unos anillos concéntricos a diferentes distancias usando [`wrl.vis.plot_ppi_crosshair`](https://docs.wradlib.org/en/latest/generated/wradlib.vis.plot_ppi_crosshair.html)"
   ]
  },
  {
   "cell_type": "code",
   "execution_count": null,
   "metadata": {},
   "outputs": [],
   "source": [
    "fig = plt.figure(figsize=(6, 4))\n",
    "pm = swp.DBZH.wrl.vis.plot(ax=111, fig=fig, cmap=\"ChaseSpectral\", vmin=-10, vmax=60)\n",
    "txt = plt.title(\"Simple PPI Carimagua Radar\")\n",
    "\n",
    "ax = plt.gca()\n",
    "wrl.vis.plot_ppi_crosshair(\n",
    "    site=(swp.longitude.values, swp.latitude.values, swp.altitude.values),\n",
    "    ranges=[50e3, 150e3, 225e3],\n",
    "    angles=[0, 90, 180, 270],\n",
    "    line=dict(color=\"white\"),\n",
    "    circle={\"edgecolor\": \"white\"},\n",
    "    ax=ax,\n",
    "    crs=epsg,\n",
    ");"
   ]
  },
  {
   "cell_type": "markdown",
   "metadata": {},
   "source": [
    "### 3.3 Mapa de ruido (Clutter)\n",
    "\n",
    "Entre muchas otras herramientas y funcionalidades, `Wradlib` nos permite realizar un mapa de ruidos (clutter) usando el filtro desarrollado por [Gabella et al. (2002)](https://iris.polito.it/handle/11583/1411995)"
   ]
  },
  {
   "cell_type": "code",
   "execution_count": null,
   "metadata": {},
   "outputs": [],
   "source": [
    "clutter = swp.DBZH.wrl.classify.filter_gabella(tr1=12, n_p=6, tr2=1.1)\n",
    "pm = clutter.wrl.vis.plot(cmap=plt.cm.gray)\n",
    "plt.title(\"Clutter Map\")"
   ]
  },
  {
   "cell_type": "markdown",
   "metadata": {},
   "source": [
    "`Wradlib` es de librería que nos permite aplicar muchas otras técnicas de filtrado, visualización, estimación cuantitativa de la precipitación, entre otros. Para mas información pueden consultar la [documentación oficial](https://docs.wradlib.org/en/latest/index.html)."
   ]
  },
  {
   "cell_type": "markdown",
   "metadata": {},
   "source": [
    "---"
   ]
  },
  {
   "cell_type": "markdown",
   "metadata": {},
   "source": [
    "## Conclusiones\n",
    "\n",
    "En este cuadernillo aprendimos sobre algunas librerías que nos permiten leer y generar productos basados en datos de radares meteorológicos. "
   ]
  },
  {
   "cell_type": "markdown",
   "metadata": {},
   "source": [
    "## Fuentes y referencias\n",
    "\n",
    "* Helmus, J.J. & Collis, S.M., (2016). The Python ARM Radar Toolkit (Py-ART), a Library for Working with Weather Radar Data in the Python Programming Language. Journal of Open Research Software. 4(1), p.e25. DOI: http://doi.org/10.5334/jors.119\n",
    "* Radar Cookbook [https://projectpythia.org/radar-cookbook/README.html] DOI[https://doi.org/10.5281/zenodo.8075855]\n",
    "* Rose, B. E. J., Kent, J., Tyle, K., Clyne, J., Banihirwe, A., Camron, D., May, R., Grover, M., Ford, R. R., Paul, K., Morley, J., Eroglu, O., Kailyn, L., & Zacharias, A. (2023). Pythia Foundations (Version v2023.05.01) https://doi.org/10.5281/zenodo.7884572"
   ]
  }
 ],
 "metadata": {
  "kernelspec": {
   "display_name": "Python 3 (ipykernel)",
   "language": "python",
   "name": "python3"
  },
  "language_info": {
   "codemirror_mode": {
    "name": "ipython",
    "version": 3
   },
   "file_extension": ".py",
   "mimetype": "text/x-python",
   "name": "python",
   "nbconvert_exporter": "python",
   "pygments_lexer": "ipython3",
   "version": "3.11.6"
  },
  "nbdime-conflicts": {
   "local_diff": [
    {
     "diff": [
      {
       "diff": [
        {
         "key": 0,
         "op": "addrange",
         "valuelist": [
          "Python 3"
         ]
        },
        {
         "key": 0,
         "length": 1,
         "op": "removerange"
        }
       ],
       "key": "display_name",
       "op": "patch"
      }
     ],
     "key": "kernelspec",
     "op": "patch"
    }
   ],
   "remote_diff": [
    {
     "diff": [
      {
       "diff": [
        {
         "key": 0,
         "op": "addrange",
         "valuelist": [
          "Python3"
         ]
        },
        {
         "key": 0,
         "length": 1,
         "op": "removerange"
        }
       ],
       "key": "display_name",
       "op": "patch"
      }
     ],
     "key": "kernelspec",
     "op": "patch"
    }
   ]
  },
  "toc-autonumbering": false
 },
 "nbformat": 4,
 "nbformat_minor": 4
}
