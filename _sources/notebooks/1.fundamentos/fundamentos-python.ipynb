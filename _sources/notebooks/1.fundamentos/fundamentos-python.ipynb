{
 "cells": [
  {
   "cell_type": "markdown",
   "metadata": {},
   "source": [
    "<img src=\"../images/logos/jupyter_python_logo.png\" width=700 alt=\"Python-Jlab-logo\"></img>"
   ]
  },
  {
   "cell_type": "markdown",
   "metadata": {},
   "source": [
    "# Fundamentos de Python y JupyterLab"
   ]
  },
  {
   "cell_type": "markdown",
   "metadata": {},
   "source": [
    "---"
   ]
  },
  {
   "cell_type": "markdown",
   "metadata": {},
   "source": [
    "## Introducción\n",
    "En este cuadernillo (Notebook) aprenderemos:\n",
    "\n",
    "1. Introducción a Python y JupyterLab\n",
    "1. Tipos de Variables\n",
    "2. Operadores lógicos\n",
    "3. Funciones y métodos"
   ]
  },
  {
   "cell_type": "markdown",
   "metadata": {},
   "source": [
    "## Prerequisitos\n",
    "| Conceptos | Importancia | Notas |\n",
    "| --- | --- | --- |\n",
    "| [Introducción a Python](https://foundations.projectpythia.org/foundations/getting-started-python.html) | Útil | Información complementaria |\n",
    "| [Introducción a Jupyter Lab](https://foundations.projectpythia.org/foundations/getting-started-jupyter.html) | Útil | Información complementaria |\n",
    "\n",
    "- **Tiempo de aprendizaje**: 30 minutos"
   ]
  },
  {
   "cell_type": "markdown",
   "metadata": {},
   "source": [
    "---"
   ]
  },
  {
   "cell_type": "markdown",
   "metadata": {},
   "source": [
    "## Python"
   ]
  },
  {
   "cell_type": "markdown",
   "metadata": {},
   "source": [
    "Python es un lenguaje de programación de alto nivel interpretado y orientado a objetos, similar a otros lenguajes pero con la ventaja que es **gratuito** y de **código abierto**."
   ]
  },
  {
   "cell_type": "markdown",
   "metadata": {},
   "source": [
    "### Lenguajes de alto nivel"
   ]
  },
  {
   "cell_type": "markdown",
   "metadata": {
    "jp-MarkdownHeadingCollapsed": true
   },
   "source": [
    "Al igual que otros lenguajes como MatLab, IDL y NCL, Python es un lenguaje de alto nivel que tiene funciones autoncontenidas, estructura de datos y otras utilidades que permiten mayor productividad usando menos lineas de código comparado con otros lenguajes de programacion como C, C++ o Fortran\n",
    "\n",
    "Ventajas:\n",
    "* Menos lineas de código\n",
    "* Facilidad de programación\n",
    "\n",
    "Desventajas:\n",
    "* Menos velocidad de procesamiento\n",
    "* Aumento en el consumo de recursos de memoria"
   ]
  },
  {
   "cell_type": "markdown",
   "metadata": {},
   "source": [
    "### Código abierto"
   ]
  },
  {
   "cell_type": "markdown",
   "metadata": {},
   "source": [
    "Python es un lenguaje desarrollado por una comunidad científica. Cualquier persona con conocimientos en programación puede realizar aportes y contribuir con la implementación de nuevas herramientas. El termino **código abierto** implica que Python es versatil y puede adaptarse a cualquier necesidad de la comunidad. En general la comunidad científica ha desarrollado una gran cantidad de paquetes que lo hacen aún mas útil y robusto"
   ]
  },
  {
   "cell_type": "markdown",
   "metadata": {},
   "source": [
    "## JupyterLab"
   ]
  },
  {
   "cell_type": "markdown",
   "metadata": {},
   "source": [
    "Es un projecto, ademas de una comunidad, cuyo objetivo es \"desarrollar software de código abierto, estándares abiertos y servicios para informática interactiva en docenas de lenguajes de programación\"\n",
    "\n",
    "Componentes principales:\n",
    "1. Jupyter Notebooks\n",
    "2. Jupyter Kernels\n",
    "3. Jupyter Lab\n",
    "4. Jupyter Hub\n",
    "\n",
    "La ejecución de Jupyter puede llevarse a acabo de manera remota o local usando **Cuadernillos (Notebooks)** (archivos .ipynb). Estos cuadernillos nos permiten ejecutar código, ecuaciones en $LaTex$, visualización de gráficos e imagenes y texto. Jupyter permite ejecución de multiples lenguajes de programación de **Julia**, **Python** y **R**. "
   ]
  },
  {
   "cell_type": "markdown",
   "metadata": {},
   "source": [
    "### Interfaz de JupyterLab"
   ]
  },
  {
   "cell_type": "markdown",
   "metadata": {},
   "source": [
    "JupyterLab es un entorno modular interactivo de programación. \n",
    "\n",
    "Sus principales componentes son:\n",
    "* Barra de menús en la parte superior\n",
    "* Explorador de archivos en la izquierda\n",
    "* Area de trabajo en la parte derecha"
   ]
  },
  {
   "cell_type": "markdown",
   "metadata": {},
   "source": [
    "<img src=\"../images/interface_jupyterlab.png\" width=800 alt=\"Jlab-logo\"></img>"
   ]
  },
  {
   "cell_type": "markdown",
   "metadata": {},
   "source": [
    "En general hay una excelente documentación en la página web de [JupyterLab](https://jupyterlab.readthedocs.io/en/stable/index.html). A continuación, algunos links útiles para complementar y no duplicar la información:\n",
    "\n",
    "* [Interfaz de JupyterLab](https://jupyterlab.readthedocs.io/en/stable/user/interface.html)\n",
    "* [Trabajar con archivos](https://jupyterlab.readthedocs.io/en/stable/user/files.html)\n",
    "* [Editor de texto](https://jupyterlab.readthedocs.io/en/stable/user/file_editor.html)\n",
    "* [Cuadernillos (Notebooks)](https://jupyterlab.readthedocs.io/en/stable/user/notebook.html)\n",
    "* [Terminales de comandos](https://jupyterlab.readthedocs.io/en/stable/user/terminal.html)"
   ]
  },
  {
   "cell_type": "markdown",
   "metadata": {},
   "source": [
    "### Ejecución de comandos en JupyterLab"
   ]
  },
  {
   "cell_type": "markdown",
   "metadata": {},
   "source": [
    "* Botón <kbd>\"Play\"</kbd> en la bandeja superior.\n",
    "* <kbd>Ctrl</kbd> + <kbd>Enter</kbd> - solo ejecuta la celda actual\n",
    "* <kbd>Shift</kbd>+<kbd>Enter</kbd> - ejecuta la celda + mueve a la celda inferior\n",
    "* <kbd>Esc</kbd> / <kbd>Enter</kbd> - transición entre la función de edición y la navegación en el entorno\n",
    "* <kbd>D</kbd> + <kbd>D</kbd> - eliminar la celda seleccionada\n",
    "* <kbd>A</kbd> - agregar nueva celda en la parte superior\n",
    "* <kbd>B</kbd> - agregar nueva celda abajo\n",
    "* <kbd>Tab</kbd> - autocompletado / descripción del método\n",
    "* <kbd>Shift</kbd> + <kbd>Up</kbd> / <kbd>Down</kbd> - selección de celdas múltiples\n",
    "* <kbd>Shift</kbd> + <kbd>M</kbd> - fusionar celdas seleccionadas\n",
    "* <kbd>M</kbd> / <kbd>Y</kbd>  cambia la celda de modo ```markdown``` / ```code```\n",
    "\n",
    "Para información sobre más comandos en JupyterLab puedes hacer click [acá](https://jupyterlab.readthedocs.io/en/stable/user/commands.html)"
   ]
  },
  {
   "cell_type": "markdown",
   "metadata": {},
   "source": [
    "### Acceso a documentación "
   ]
  },
  {
   "cell_type": "code",
   "execution_count": null,
   "metadata": {},
   "outputs": [],
   "source": [
    "import numpy as np"
   ]
  },
  {
   "cell_type": "code",
   "execution_count": null,
   "metadata": {},
   "outputs": [],
   "source": [
    "np?"
   ]
  },
  {
   "cell_type": "code",
   "execution_count": null,
   "metadata": {},
   "outputs": [],
   "source": [
    "#np.arange?"
   ]
  },
  {
   "cell_type": "markdown",
   "metadata": {},
   "source": [
    "### Gráficos y figuras dentro del entorno "
   ]
  },
  {
   "cell_type": "markdown",
   "metadata": {},
   "source": [
    "Podemos generar y visualizar gráficos usando nuestros datos."
   ]
  },
  {
   "cell_type": "code",
   "execution_count": null,
   "metadata": {},
   "outputs": [],
   "source": [
    "import matplotlib.pyplot as plt\n",
    "x = np.arange(-10, 11)\n",
    "plt.plot(x, x**2)\n",
    "plt.show()"
   ]
  },
  {
   "cell_type": "markdown",
   "metadata": {},
   "source": [
    "También podemos incluir imágenes externas y visalizarlas en celdas."
   ]
  },
  {
   "cell_type": "markdown",
   "metadata": {},
   "source": [
    "<img src=\"../images/random_fig.jpg\" width=500 alt=\"random_fig\"></img>"
   ]
  },
  {
   "cell_type": "markdown",
   "metadata": {},
   "source": [
    "### Lineas de comando"
   ]
  },
  {
   "cell_type": "markdown",
   "metadata": {},
   "source": [
    "Los cuadernillos/Notebooks nos permiten interactuar con la teminal y ejecutar lineas de comando usando ```!``` "
   ]
  },
  {
   "cell_type": "code",
   "execution_count": null,
   "metadata": {},
   "outputs": [],
   "source": [
    "# !dir\n",
    "# !ls"
   ]
  },
  {
   "cell_type": "markdown",
   "metadata": {},
   "source": [
    "\n",
    "### $\\LaTeX$"
   ]
  },
  {
   "cell_type": "markdown",
   "metadata": {},
   "source": [
    "Podemos renderizar texto usando formato $\\LaTeX$ "
   ]
  },
  {
   "cell_type": "markdown",
   "metadata": {},
   "source": [
    "$$ P(A \\mid B) = \\frac{P(B \\mid A) \\, P(A)}{P(B)} $$"
   ]
  },
  {
   "cell_type": "markdown",
   "metadata": {},
   "source": [
    "## Programacion científica con JupyterLab y Python"
   ]
  },
  {
   "cell_type": "markdown",
   "metadata": {},
   "source": [
    "En Python, un programa puede ser una sola línea de código"
   ]
  },
  {
   "cell_type": "code",
   "execution_count": null,
   "metadata": {},
   "outputs": [],
   "source": [
    "print(\"Hola mundo!\")"
   ]
  },
  {
   "cell_type": "markdown",
   "metadata": {},
   "source": [
    "### Tipos de variables en python "
   ]
  },
  {
   "cell_type": "markdown",
   "metadata": {},
   "source": [
    "#### Flotante/Decimal (`float`)\n",
    "\n",
    "Tiene una notación decimal"
   ]
  },
  {
   "cell_type": "code",
   "execution_count": null,
   "metadata": {},
   "outputs": [],
   "source": [
    "pi =  3.1416"
   ]
  },
  {
   "cell_type": "code",
   "execution_count": null,
   "metadata": {},
   "outputs": [],
   "source": [
    "type(pi)"
   ]
  },
  {
   "cell_type": "markdown",
   "metadata": {},
   "source": [
    "#### Enteros (`int`)\n",
    "\n",
    "Numeros que no tienen parte decimal."
   ]
  },
  {
   "cell_type": "code",
   "execution_count": null,
   "metadata": {},
   "outputs": [],
   "source": [
    "a = -14\n",
    "print(type(a))"
   ]
  },
  {
   "cell_type": "markdown",
   "metadata": {},
   "source": [
    "#### Caracter (`str`)\n",
    "\n",
    "Corresponden a variables que estan compuestas por cadenas de carácteres denotados por comillas sencillas `'` o dobles `\"`"
   ]
  },
  {
   "cell_type": "code",
   "execution_count": null,
   "metadata": {},
   "outputs": [],
   "source": [
    "my_string = \"mi mamá me mima\"\n",
    "type(my_string)"
   ]
  },
  {
   "cell_type": "code",
   "execution_count": null,
   "metadata": {},
   "outputs": [],
   "source": [
    "my_string = 'mi mamá me mima'\n",
    "type(my_string)"
   ]
  },
  {
   "cell_type": "markdown",
   "metadata": {},
   "source": [
    "---"
   ]
  },
  {
   "cell_type": "markdown",
   "metadata": {},
   "source": [
    "## Conclusiones\n",
    "Add one final `---` marking the end of your body of content, and then conclude with a brief single paragraph summarizing at a high level the key pieces that were learned and how they tied to your objectives. Look to reiterate what the most important takeaways were.\n",
    "\n",
    "### What's next?\n",
    "Let Jupyter book tie this to the next (sequential) piece of content that people could move on to down below and in the sidebar. However, if this page uniquely enables your reader to tackle other nonsequential concepts throughout this book, or even external content, link to it here!"
   ]
  },
  {
   "cell_type": "markdown",
   "metadata": {},
   "source": [
    "## Fuentes y referencias\n"
   ]
  },
  {
   "cell_type": "code",
   "execution_count": null,
   "metadata": {},
   "outputs": [],
   "source": []
  }
 ],
 "metadata": {
  "kernelspec": {
   "display_name": "Python 3 (ipykernel)",
   "language": "python",
   "name": "python3"
  },
  "language_info": {
   "codemirror_mode": {
    "name": "ipython",
    "version": 3
   },
   "file_extension": ".py",
   "mimetype": "text/x-python",
   "name": "python",
   "nbconvert_exporter": "python",
   "pygments_lexer": "ipython3",
   "version": "3.11.5"
  },
  "nbdime-conflicts": {
   "local_diff": [
    {
     "diff": [
      {
       "diff": [
        {
         "key": 0,
         "op": "addrange",
         "valuelist": [
          "Python 3"
         ]
        },
        {
         "key": 0,
         "length": 1,
         "op": "removerange"
        }
       ],
       "key": "display_name",
       "op": "patch"
      }
     ],
     "key": "kernelspec",
     "op": "patch"
    }
   ],
   "remote_diff": [
    {
     "diff": [
      {
       "diff": [
        {
         "key": 0,
         "op": "addrange",
         "valuelist": [
          "Python3"
         ]
        },
        {
         "key": 0,
         "length": 1,
         "op": "removerange"
        }
       ],
       "key": "display_name",
       "op": "patch"
      }
     ],
     "key": "kernelspec",
     "op": "patch"
    }
   ]
  },
  "toc-autonumbering": false
 },
 "nbformat": 4,
 "nbformat_minor": 4
}
