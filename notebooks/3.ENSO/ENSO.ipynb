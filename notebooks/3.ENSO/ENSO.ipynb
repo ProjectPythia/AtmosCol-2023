{
 "cells": [
  {
   "cell_type": "markdown",
   "id": "a7814d44-61de-48d6-b03d-4b20f06b5502",
   "metadata": {},
   "source": [
    "<img src=\"ENSOblog_animation_SSTA_anom_weekly_2023_Jun.gif\" width=800 alt=\"ENSO\"></img>"
   ]
  },
  {
   "cell_type": "markdown",
   "id": "cab7280d-474e-468b-b029-cc0f219945e6",
   "metadata": {
    "tags": []
   },
   "source": [
    "## Resúmen\n",
    "En este cuadernillo (Notebook) aprenderemos:\n",
    "\n",
    "1. Breve introducción al fenoméno ENOS \n",
    "1. Acceso a datos publicos de la NOAA\n",
    "1. Generación de mapas con anomalias de temperatura superficial del oceano Pacífico Tropical\n",
    "1. Reproduccion de la gráfica del índice ONI en la región Niño 3.4"
   ]
  },
  {
   "cell_type": "markdown",
   "id": "160013c3-e946-4961-aaaa-44518081fc41",
   "metadata": {
    "tags": []
   },
   "source": [
    "## Prerequisitos\n",
    "\n",
    "| Conceptos | Importancia | Notas |\n",
    "| --- | --- | --- |\n",
    "| [Xarray](https://foundations.projectpythia.org/core/xarray.html) | Necesario |  Manejo de datos multidimensionales espacializados|\n",
    "| [Matplotlib](https://foundations.projectpythia.org/core/matplotlib.html) | Necesario |  Generación de gráficas|\n",
    "| [Cartopy](https://foundations.projectpythia.org/core/cartopy/cartopy.html) | Necesario |  Generación de mapas|\n",
    "| [NetCDF](https://foundations.projectpythia.org/core/data-formats/netcdf-cf.html) | Útil | Familiaridad con la estructura de datos y metadatos. |\n",
    "\n",
    "\n",
    "- **Tiempo de aprendizaje**: 30 minutos."
   ]
  },
  {
   "cell_type": "markdown",
   "id": "a7d89f23-8d0a-443f-9884-3dda9b8547fb",
   "metadata": {
    "tags": []
   },
   "source": [
    "# 1. EL Niño - Oscilación del Sur (ENOS)"
   ]
  },
  {
   "cell_type": "markdown",
   "id": "6d26a39a-e76e-46d9-b039-bfaa8958ddeb",
   "metadata": {},
   "source": [
    "---"
   ]
  },
  {
   "cell_type": "markdown",
   "id": "029b6335-c31a-4b51-90bb-6dd0c0cbd4ba",
   "metadata": {},
   "source": [
    "- Alteracion del sistema Océano-Atmósfera\n",
    "- Fase cálida (positiva) corresponde a El Niño\n",
    "- Fase fría (negativa) corresponde a La Niña\n",
    "- Las fases cálidas o frías del Índice del Niño Oceánico se definen por cinco anomalías medias consecutivas de la temperatura de la superficie del mar (TSM) durante cinco meses consecutivos en la región del Niño 3.4 que están por encima del umbral de +0,5 °C (cálido), o por debajo del umbral de -0,5°C (frío). Esto se conoce como Índice del Niño Oceánico (ONI).\n",
    "- ENOS puede presentarse en intervalos que varían entre 2 y 7 años\n",
    "\n",
    "La región Niño 3.4 se define como la región entre +/- 5 grados. latitud, 170 W - 120 W longitud.\n",
    "\n",
    "<img src=\"nino-regions.gif\" width=500 alt=\"ENSO\"></img>"
   ]
  },
  {
   "cell_type": "markdown",
   "id": "4672f1bd-7e29-4688-be07-e42ada314887",
   "metadata": {
    "tags": []
   },
   "source": [
    "## Librerias"
   ]
  },
  {
   "cell_type": "code",
   "execution_count": null,
   "id": "88a0d44a-3d4e-413d-ba1f-1a1053c6912b",
   "metadata": {
    "tags": []
   },
   "outputs": [],
   "source": [
    "import xarray as xr\n",
    "import numpy as np\n",
    "import pandas as pd\n",
    "import hvplot.xarray  # noqa\n",
    "import cartopy.crs as ccrs\n",
    "import matplotlib.ticker as mticker\n",
    "from matplotlib import pyplot as plt\n",
    "\n",
    "%matplotlib inline"
   ]
  },
  {
   "cell_type": "markdown",
   "id": "33425f71-8d9e-4cdd-ba46-5f649a4b433b",
   "metadata": {
    "tags": []
   },
   "source": [
    "## 2. Accesso a los datos de  temperatura de la [NOAA ERSST](https://psl.noaa.gov/data/gridded/data.noaa.ersst.v5.html)\n",
    "\n",
    "Como lo mencionamos anteriormente usaremos los datos de temperaturas superficiales del mar de la NOAA"
   ]
  },
  {
   "cell_type": "code",
   "execution_count": null,
   "id": "1fd32dce",
   "metadata": {
    "tags": []
   },
   "outputs": [],
   "source": [
    "url = 'http://www.esrl.noaa.gov/psd/thredds/dodsC/Datasets/noaa.ersst.v5/sst.mnmean.nc'\n",
    "ds = xr.open_dataset(url,  drop_variables=['time_bnds'])"
   ]
  },
  {
   "cell_type": "code",
   "execution_count": null,
   "id": "6142c484-7650-42ca-a92e-a6a6837b0bb7",
   "metadata": {
    "tags": []
   },
   "outputs": [],
   "source": [
    "display(ds)"
   ]
  },
  {
   "cell_type": "markdown",
   "id": "5560ddfc-1845-46f0-a8c2-3f44f78ba297",
   "metadata": {},
   "source": [
    "Hagamos algunas visualizaciones básicas de los datos, solo para asegurarnos de que parezcan razonables."
   ]
  },
  {
   "cell_type": "code",
   "execution_count": null,
   "id": "996becc5",
   "metadata": {
    "tags": []
   },
   "outputs": [],
   "source": [
    "ds.sst[-1].plot(vmin=-2, vmax=30, cmap='coolwarm')"
   ]
  },
  {
   "cell_type": "markdown",
   "id": "e3a9131b-81b9-4235-bc36-bc4b2ce16d1f",
   "metadata": {},
   "source": [
    "Podemos usar `Cartopy` para \"embellecer\" el gráfico"
   ]
  },
  {
   "cell_type": "code",
   "execution_count": null,
   "id": "9594ff4e-4da9-4fad-b9ca-d2f17863c010",
   "metadata": {
    "tags": []
   },
   "outputs": [],
   "source": [
    "# Definir el tamaño de la figura\n",
    "fig = plt.figure(figsize=(9, 4))\n",
    "\n",
    "# Asignar un eje y projección del mapa\n",
    "ax = plt.axes(projection=ccrs.Robinson(central_longitude=180))\n",
    "\n",
    "# agregar lineas costeras\n",
    "ax.coastlines()\n",
    "\n",
    "# agregar las lineas de reticula (lon and lat)\n",
    "ax.gridlines()\n",
    "ds.sst.sel(time='1998-01').plot(vmin=-2, vmax=30, cmap='coolwarm', transform=ccrs.PlateCarree())"
   ]
  },
  {
   "cell_type": "markdown",
   "id": "c0bc2ba1-7aeb-40ee-85fa-849e2e71ad34",
   "metadata": {
    "tags": []
   },
   "source": [
    "## 3. Anomalias de temperatura superficial del oceano Pacífico Tropical\n",
    "\n",
    "“Anomalía” significa que se ha eliminado el ciclo estacional, también llamado “climatología”.\n"
   ]
  },
  {
   "cell_type": "markdown",
   "id": "a82855cd-f9db-412e-be9b-07b5b3e4dbfb",
   "metadata": {},
   "source": [
    "### 3.1 Climatología\n",
    "Para estimar la climatología podemos usar la funcionalidad de `xarray` denominada `groupby` donde agrupamos por meses del año y luego tomamos la media a lo largo de cada mes usando el metodo `mean`"
   ]
  },
  {
   "cell_type": "code",
   "execution_count": null,
   "id": "5945dc85",
   "metadata": {
    "tags": []
   },
   "outputs": [],
   "source": [
    "sst_clim = ds.sst.groupby('time.month').mean(dim='time')"
   ]
  },
  {
   "cell_type": "markdown",
   "id": "b70f1fba-5098-4c8c-bcb4-64a2c9f37f4c",
   "metadata": {},
   "source": [
    "Ahora podemos visualizar la climatología media zonal"
   ]
  },
  {
   "cell_type": "code",
   "execution_count": null,
   "id": "65442297-bf12-4ca7-9445-b8c38ddc627d",
   "metadata": {
    "tags": []
   },
   "outputs": [],
   "source": [
    "sst_clim.mean(dim='lon').transpose().plot.contourf(levels=12, vmin=-2, vmax=30, \n",
    "                                                   cmap='coolwarm')"
   ]
  },
  {
   "cell_type": "markdown",
   "id": "917372c5-1206-4097-99bd-aee0acad51c5",
   "metadata": {
    "tags": []
   },
   "source": [
    "### 3.2 Cálculo de la anomalía\n",
    "La anomalía esta dada por el valor de la SST - SST media para cada mes"
   ]
  },
  {
   "cell_type": "code",
   "execution_count": null,
   "id": "4afc72c0-afb8-4145-88ac-ab80ec16bda1",
   "metadata": {
    "tags": []
   },
   "outputs": [],
   "source": [
    "sst_anom = ds.sst.groupby('time.month') - sst_clim"
   ]
  },
  {
   "cell_type": "code",
   "execution_count": null,
   "id": "cbae74a5-171b-4416-9a95-a72d7fec065b",
   "metadata": {
    "tags": []
   },
   "outputs": [],
   "source": [
    "# define the figure size\n",
    "fig = plt.figure(figsize=(9, 4))\n",
    "\n",
    "# Asignar un eje y projección del mapa\n",
    "ax = plt.axes(projection=ccrs.Robinson(central_longitude=180))\n",
    "\n",
    "# add coastlines\n",
    "ax.coastlines()\n",
    "\n",
    "# add gridlines (lon and lat)\n",
    "ax.gridlines()\n",
    "sst_anom.sel(time='1998-01').plot(vmin=-2, vmax=2, cmap='coolwarm', transform=ccrs.PlateCarree())"
   ]
  },
  {
   "cell_type": "markdown",
   "id": "f15d529f-8fbf-4c00-993c-49b8313f9d5d",
   "metadata": {},
   "source": [
    "**Momento!!!!** debemos ponderar la anomalia con respecto a su posicion en latitud\n",
    "\n",
    "<img src=\"t6_area_average.png\" width=600 alt=\"ENSO\"></img>\n",
    "\n",
    "\n",
    "¿Por qué necesitamos ponderar nuestros datos? Las celdas de la cuadrícula más cercanas al ecuador son mucho más grandes que las cercanas a los polos, como se ve en la figura anterior (Djexplo, 2011, CC-BY)"
   ]
  },
  {
   "cell_type": "code",
   "execution_count": null,
   "id": "8f43aa5e-b256-4500-bd51-8b529503d5bf",
   "metadata": {
    "tags": []
   },
   "outputs": [],
   "source": [
    "weights = np.cos(np.deg2rad(ds.lat)).where(~sst_anom[0].isnull())\n",
    "weights /= weights.mean()"
   ]
  },
  {
   "cell_type": "code",
   "execution_count": null,
   "id": "d8b03643-7a20-4a34-8f20-807c840df301",
   "metadata": {
    "tags": []
   },
   "outputs": [],
   "source": [
    "sst_anom_wgt = sst_anom * weights"
   ]
  },
  {
   "cell_type": "markdown",
   "id": "e57ab6b1-9a9c-429b-bf02-bc9e12bd6fc6",
   "metadata": {},
   "source": [
    "Veamos cómo se ve el el promedio global vs el promedio ponderado de la anomalía de la temperatura superficial del oceano"
   ]
  },
  {
   "cell_type": "code",
   "execution_count": null,
   "id": "c365c2b1-3809-4950-ace4-8b41520ec537",
   "metadata": {
    "tags": []
   },
   "outputs": [],
   "source": [
    "# define the figure size\n",
    "fig = plt.figure(figsize=(8, 3), dpi=150)\n",
    "\n",
    "# Asignar un eje\n",
    "ax = plt.axes()\n",
    "# Promedio global de la anomalia\n",
    "(sst_anom).mean(dim=['lon', 'lat']).plot(label='Inicial', lw=1)\n",
    "# Promedio global de la anomalia ponderada\n",
    "(sst_anom * weights).mean(dim=['lon', 'lat']).plot(label='Ponderado', lw=1)\n",
    "ax.legend()"
   ]
  },
  {
   "cell_type": "code",
   "execution_count": null,
   "id": "d311e418-70f0-435a-9cc7-c617064952a7",
   "metadata": {
    "tags": []
   },
   "outputs": [],
   "source": [
    "# define the figure size\n",
    "fig = plt.figure(figsize=(8, 3), dpi=150)\n",
    "\n",
    "# Asignar un eje\n",
    "ax = plt.axes()\n",
    "# Promedio global de la anomalia\n",
    "(sst_anom).mean(dim=['lon', 'lat']).hvplot.line(label='Inicial', lw=1)\n",
    "# Promedio global de la anomalia ponderada\n",
    "(sst_anom * weights).mean(dim=['lon', 'lat']).hvplot.line(label='Ponderado', lw=1)\n",
    "ax.legend()"
   ]
  },
  {
   "cell_type": "markdown",
   "id": "2353e647-ee08-4334-abf2-766f2158b046",
   "metadata": {},
   "source": [
    "Esta gráfica parece tener una tendencia. El incremento en la temperatura superficial del mar se puede observar despues de ~1950 (CC?). Ahora debememos remover la **tendencia!!!**"
   ]
  },
  {
   "cell_type": "code",
   "execution_count": null,
   "id": "81ac3e3d-a127-4409-930a-e145cad05aa9",
   "metadata": {
    "tags": []
   },
   "outputs": [],
   "source": [
    "from scipy.signal import detrend\n",
    "sst_anom_wgt_dtd = xr.apply_ufunc(detrend, sst_anom_wgt.fillna(0),\n",
    "                                    kwargs={'axis': 0}).where(~sst_anom.isnull())"
   ]
  },
  {
   "cell_type": "code",
   "execution_count": null,
   "id": "6fdc4365-0a15-40ea-859c-38f89f5ff8c0",
   "metadata": {
    "tags": []
   },
   "outputs": [],
   "source": [
    "# define the figure size\n",
    "fig = plt.figure(figsize=(8, 3), dpi=150)\n",
    "\n",
    "# Asignar un eje\n",
    "ax = plt.axes()\n",
    "# Promedio global de la anomalia\n",
    "sst_anom.mean(dim=['lon', 'lat']).plot(label='Inicial', lw=0.5)\n",
    "# Promedio global de la anomalia ponderada\n",
    "sst_anom_wgt.mean(dim=['lon', 'lat']).plot(label='Ponderado', lw=0.5)\n",
    "# Promedio global de la anomalia ponderada sin tendencia\n",
    "sst_anom_wgt_dtd.mean(dim=['lon', 'lat']).plot(label='Ponderado sin tendencia', lw=0.5)\n",
    "ax.legend()\n"
   ]
  },
  {
   "cell_type": "markdown",
   "id": "d3f5b864-8627-46b3-86cd-4b2c960d6e50",
   "metadata": {},
   "source": [
    "Miremos ahora la anomalia de la SST para enero de 1998"
   ]
  },
  {
   "cell_type": "code",
   "execution_count": null,
   "id": "a06a6734-9cab-4787-b98a-2d5fca499e56",
   "metadata": {},
   "outputs": [],
   "source": [
    "fig, ax = plt.subplots(figsize=(6, 4), subplot_kw={\"projection\":ccrs.Robinson(central_longitude=180)}, dpi=150)\n",
    "sst_anom_wgt_dtd.sel(time='1998-01').plot(vmin=-2, vmax=2, cmap='coolwarm', transform=ccrs.PlateCarree(), \n",
    "                                          cbar_kwargs={'label':\"$SST \\ Anomaly \\ [°C]$\", 'orientation':'horizontal', 'aspect':50})\n",
    "ax.coastlines()\n",
    "gl = ax.gridlines(draw_labels=True, crs=ccrs.PlateCarree())\n",
    "gl.xlocator = mticker.FixedLocator([-180, -60, 60, 180])\n",
    "gl.ylocator = mticker.FixedLocator([-60, -30, 0, 30, 60])\n",
    "plt.title(f\"Anomalía TSM {pd.to_datetime(sst_anom_wgt_dtd.sel(time='1998-01').time[0].values): %Y-%m}\")"
   ]
  },
  {
   "cell_type": "markdown",
   "id": "cf40259f-4b2e-4c8b-9289-7e4fd571ae90",
   "metadata": {},
   "source": [
    "Veamos qué pasa si cambiamos la proyección del mapa"
   ]
  },
  {
   "cell_type": "code",
   "execution_count": null,
   "id": "2bb04f75-b62c-457b-be4d-1290d04e2df5",
   "metadata": {
    "tags": []
   },
   "outputs": [],
   "source": [
    "# define the figure size\n",
    "fig = plt.figure(figsize=(12, 6))\n",
    "\n",
    "# Asignar un eje y projección del mapa\n",
    "ax = plt.axes(projection=ccrs.PlateCarree(central_longitude=180))\n",
    "\n",
    "# add coastlines\n",
    "ax.coastlines()\n",
    "\n",
    "# add gridlines (lon and lat)\n",
    "ax.gridlines()\n",
    "sst_anom_wgt_dtd.sel(time='1998-01').plot(vmin=-2, vmax=2, cmap='coolwarm', transform=ccrs.PlateCarree())\n",
    "plt.title(f\"Anomalía TSM {pd.to_datetime(sst_anom_wgt_dtd.sel(time='1998-01').time[0].values): %Y-%m}\")"
   ]
  },
  {
   "cell_type": "markdown",
   "id": "5e4a2d96-7fa7-4b1b-8117-450219527779",
   "metadata": {
    "tags": []
   },
   "source": [
    "### 3.3 Tratemos de reproducir la grafica de la NOAA\n",
    "\n",
    "Tratemos de usar nuestra data para generar una grafica como esta:\n",
    "\n",
    "<img src=\"nino_2023_agosto.JPG\" width=800 alt=\"ENSO\"></img>"
   ]
  },
  {
   "cell_type": "code",
   "execution_count": null,
   "id": "2c82d63f-2b26-44a9-a11d-62ef6b351070",
   "metadata": {
    "tags": []
   },
   "outputs": [],
   "source": [
    "sst_anom_sub = sst_anom_wgt_dtd.sel(lat=slice(60, -60), lon=slice(25, 360))"
   ]
  },
  {
   "cell_type": "code",
   "execution_count": null,
   "id": "b2e4cf82-6d32-4f7e-82e0-c6ddebf1f1a5",
   "metadata": {
    "tags": []
   },
   "outputs": [],
   "source": [
    "fig, ax = plt.subplots(figsize=(6, 4), subplot_kw={\"projection\":ccrs.PlateCarree(central_longitude=180)}, dpi=150)\n",
    "sst_anom_sub.sel(time='1998-01').plot(vmin=-2, vmax=2, cmap='coolwarm', transform=ccrs.PlateCarree(), \n",
    "                                          cbar_kwargs={'label':\"$SST \\ Anomaly \\ [°C]$\", 'orientation':'horizontal', 'aspect':50})\n",
    "ax.coastlines()\n",
    "ax.gridlines(draw_labels=True, crs=ccrs.PlateCarree())\n",
    "plt.title(f\"Anomalía TSM {pd.to_datetime(sst_anom_wgt_dtd.sel(time='1998-01').time[0].values): %Y-%m}\")"
   ]
  },
  {
   "cell_type": "markdown",
   "id": "008d7340-5a81-4588-9cc0-df108798df37",
   "metadata": {
    "tags": []
   },
   "source": [
    "## 4. Índice ONI en la región Niño 3.4"
   ]
  },
  {
   "cell_type": "markdown",
   "id": "5005cf84-a1d3-4ba4-8b3b-31413a407075",
   "metadata": {
    "tags": []
   },
   "source": [
    "<img src=\"eln-f-pg.gif\" width=600 alt=\"ENSO\"></img>\n",
    "\n",
    "La región Niño 3.4 se define como la región entre +/- 5 grados. latitud, 170 W - 120 W longitud.\n"
   ]
  },
  {
   "cell_type": "code",
   "execution_count": null,
   "id": "b4174596-9e6e-435a-b9bf-ec24782620ed",
   "metadata": {
    "tags": []
   },
   "outputs": [],
   "source": [
    "nino_34 = sst_anom_wgt_dtd.sel(lat=slice(5, -5), lon=slice(180 - (180-170), 180 + (180-120)))"
   ]
  },
  {
   "cell_type": "code",
   "execution_count": null,
   "id": "8a2c178b-c07e-481b-9ea9-3889d7d79720",
   "metadata": {
    "tags": []
   },
   "outputs": [],
   "source": [
    "fig, ax = plt.subplots(figsize=(5, 5), subplot_kw={\"projection\":ccrs.PlateCarree(central_longitude=180)}, dpi=150)\n",
    "nino_34.sel(time='1998-01').plot(vmin=-2, vmax=2, cmap='coolwarm', transform=ccrs.PlateCarree(), \n",
    "                                          cbar_kwargs={'label':\"$SST \\ Anomaly \\ [°C]$\", 'orientation':'horizontal', 'aspect':50})\n",
    "ax.coastlines()\n",
    "ax.set_extent([120, 290, -30,30], crs=ccrs.PlateCarree())\n",
    "ax.gridlines(draw_labels=True, crs=ccrs.PlateCarree())"
   ]
  },
  {
   "cell_type": "markdown",
   "id": "a5707b25-6e0a-4062-b158-618359661c19",
   "metadata": {
    "tags": []
   },
   "source": [
    "Ahora podemos generar nuestro indice ONI con una ventana móvil de 3 meses"
   ]
  },
  {
   "cell_type": "code",
   "execution_count": null,
   "id": "08ef8745-8cae-4fa7-9cb8-a8b0aed38906",
   "metadata": {
    "tags": []
   },
   "outputs": [],
   "source": [
    "oni = nino_34.mean(['lat', 'lon']).rolling(time=3, center=True).mean()"
   ]
  },
  {
   "cell_type": "code",
   "execution_count": null,
   "id": "c5985de9-9c7b-4666-83a3-84194f609f14",
   "metadata": {
    "tags": []
   },
   "outputs": [],
   "source": [
    "fig, ax = plt.subplots(figsize=(10, 3), dpi=150)\n",
    "ax.plot(oni.time, oni, lw=1, c='k')\n",
    "ax.axhline(0, c='grey', lw=0.5, ls='--')\n",
    "ax.axhline(0.5, c='r', lw=0.5, ls='--', label='El Niño')\n",
    "ax.axhline(-0.5, c='b', lw=0.5, ls='--',  label='La Niña')\n",
    "ax.set_ylim(-2.5, 2.5)\n",
    "ax.set_xlabel('$Año$')\n",
    "ax.set_ylabel('$Anomalía \\ [°C]$')\n",
    "ax.legend()"
   ]
  },
  {
   "cell_type": "markdown",
   "id": "56c2045d-5164-45d7-b619-946d09adba94",
   "metadata": {},
   "source": [
    "Podemos selesccionar los ultimos **70 años** para efectos de visualización"
   ]
  },
  {
   "cell_type": "code",
   "execution_count": null,
   "id": "32ebb7bd-6cb4-4d80-94a3-4c99ec1a3acc",
   "metadata": {
    "tags": []
   },
   "outputs": [],
   "source": [
    "oni_sub = oni.sel(time=slice('1950', '2023'))"
   ]
  },
  {
   "cell_type": "code",
   "execution_count": null,
   "id": "dec514a1-7b83-4dab-b7cc-c377825eacf6",
   "metadata": {
    "tags": []
   },
   "outputs": [],
   "source": [
    "fig, ax = plt.subplots(figsize=(8, 3), dpi=150)\n",
    "ax.plot(oni_sub.time, oni_sub, lw=1, c='k')\n",
    "ax.axhline(0, c='grey', lw=0.5, ls='--')\n",
    "ax.axhline(0.5, c='r', lw=0.5, ls='--', label='El Niño')\n",
    "ax.axhline(-0.5, c='b', lw=0.5, ls='--',  label='La Niña')\n",
    "ax.fill_between(oni_sub.time, 0.5, oni_sub.where(oni_sub >= 0.5), color='C01')\n",
    "ax.fill_between(oni_sub.time, -0.5, oni_sub.where(oni_sub <= -0.5), color='C00')\n",
    "\n",
    "ax.set_ylim(-3.5, 3.5)\n",
    "ax.set_xlabel('$Año$')\n",
    "ax.set_ylabel('$Anomalía \\ [°C]$')\n",
    "ax.legend()\n",
    "plt.show()"
   ]
  },
  {
   "cell_type": "markdown",
   "id": "9f51a16d-622a-435f-a1ef-4efc86005b91",
   "metadata": {},
   "source": [
    "### Bonus!\n",
    "\n",
    "Podemos crear una animación usando `xmovie`"
   ]
  },
  {
   "cell_type": "code",
   "execution_count": null,
   "id": "507df80f-7365-4f44-a0e4-d412e2cc4a11",
   "metadata": {
    "tags": []
   },
   "outputs": [],
   "source": [
    "from xmovie import Movie"
   ]
  },
  {
   "cell_type": "code",
   "execution_count": null,
   "id": "cd3dbbad-9aaf-4a9a-b84d-47e390e0edb5",
   "metadata": {
    "tags": []
   },
   "outputs": [],
   "source": [
    "def custom_plotfunc(ds, fig, t0, *args, **kwargs):\n",
    "    ax = fig.subplots(1, 1, subplot_kw={\"projection\":ccrs.PlateCarree(central_longitude=180)})\n",
    "    ds_sub = ds.isel(time=t0)\n",
    "    ds_sub.plot(vmin=-2, vmax=2, cmap='coolwarm', transform=ccrs.PlateCarree(), \n",
    "                                          cbar_kwargs={'label':\"$SST \\ Anomaly \\ [°C]$\", 'orientation':'horizontal', 'aspect':50}, ax=ax)\n",
    "    ax.coastlines()\n",
    "    ax.gridlines(draw_labels=True, crs=ccrs.PlateCarree())\n",
    "    ax.set_title(f\"Anomalía TSM {pd.to_datetime(ds_sub.time.values): %Y-%m}\")"
   ]
  },
  {
   "cell_type": "code",
   "execution_count": null,
   "id": "cfecc00f-9a49-4a12-8b02-f046d87f742f",
   "metadata": {
    "tags": []
   },
   "outputs": [],
   "source": [
    "subset = sst_anom_wgt_dtd.sel(time=slice('2019-08', '2023-08')).chunk({'time':1})"
   ]
  },
  {
   "cell_type": "code",
   "execution_count": null,
   "id": "732c0925-99e4-484b-be63-c660732be46e",
   "metadata": {
    "tags": []
   },
   "outputs": [],
   "source": [
    "mov_custom = Movie(da=subset, plotfunc=custom_plotfunc, framedim='time', input_check=False, pixelwidth=1220, pixelheight=920, dpi=150)"
   ]
  },
  {
   "cell_type": "code",
   "execution_count": null,
   "id": "d035077e-d67a-410d-bfd2-f2ddf0a2702f",
   "metadata": {
    "tags": []
   },
   "outputs": [],
   "source": [
    "# mov_custom.save('enso1.gif', progress=True, overwrite_existing=True, framerate=10)"
   ]
  },
  {
   "cell_type": "code",
   "execution_count": null,
   "id": "be07f6be-6b82-44a3-841d-fd62cef2fa6d",
   "metadata": {
    "tags": []
   },
   "outputs": [],
   "source": [
    "from IPython.display import Video\n",
    "Video(\"enso1.mov\")"
   ]
  },
  {
   "cell_type": "markdown",
   "id": "f8d344fb-2ae7-4e50-aaeb-cabd5d0715e0",
   "metadata": {
    "tags": []
   },
   "source": [
    "# Conclusiones\n",
    "\n",
    "En este cuadernillo brevemente describimos el fenómeno ENOS y sus ....\n"
   ]
  },
  {
   "cell_type": "markdown",
   "id": "0ec3f677-c6ad-43a0-a78f-b6f1d9146886",
   "metadata": {
    "tags": []
   },
   "source": [
    "# Recursos y referencias\n",
    "* Abernathey, R. 2023. An Introduction to Earth and Environmental Data Science. Retrieved from Earth and Environmental Data Science: https://earth-env-data-science.github.io/intro.html\n",
    "* [Climatematch Acadimy: Computational tools for climate science](https://comptools.climatematch.io/tutorials/intro.html). Página web: https://academy.climatematch.io/, repositorio GitHub: https://github.com/ClimatematchAcademy/course-content\n",
    "\n"
   ]
  },
  {
   "cell_type": "code",
   "execution_count": null,
   "id": "e5d039a5-f472-41ce-8251-0e94e237aa7b",
   "metadata": {},
   "outputs": [],
   "source": []
  }
 ],
 "metadata": {
  "kernelspec": {
   "display_name": "Python 3 (ipykernel)",
   "language": "python",
   "name": "python3"
  },
  "language_info": {
   "codemirror_mode": {
    "name": "ipython",
    "version": 3
   },
   "file_extension": ".py",
   "mimetype": "text/x-python",
   "name": "python",
   "nbconvert_exporter": "python",
   "pygments_lexer": "ipython3",
   "version": "3.9.16"
  }
 },
 "nbformat": 4,
 "nbformat_minor": 5
}
