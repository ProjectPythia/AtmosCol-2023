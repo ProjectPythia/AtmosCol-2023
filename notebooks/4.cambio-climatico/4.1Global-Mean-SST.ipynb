{
 "cells": [
  {
   "cell_type": "markdown",
   "metadata": {},
   "source": [
    "<img src=\"../images/ipcc.jpg\" width=800 alt=\"IPCC\"></img>"
   ]
  },
  {
   "cell_type": "markdown",
   "metadata": {},
   "source": [
    "# Cambio Climático: Ensambles multimodelo"
   ]
  },
  {
   "cell_type": "markdown",
   "metadata": {},
   "source": [
    "---"
   ]
  },
  {
   "cell_type": "markdown",
   "metadata": {},
   "source": [
    "## Introducción\n",
    "En este cuadernillo (Notebook) aprenderemos:\n",
    "\n",
    "1. Breve introducción a los escenarios de Cambio Climático.\n",
    "1. Proyecto de inter-comparación de modelos de clima acoplados - CMIP.\n",
    "1. Acceso a los datos CMIP6 en formato Zarr.\n",
    "1. Reproduccion de la gráfica de la Temperatura Media Global de la Superficie del Mar - CMIP6."
   ]
  },
  {
   "cell_type": "markdown",
   "metadata": {},
   "source": [
    "## Prerequisitos\n",
    "\n",
    "| Conceptos | Importancia | Notas |\n",
    "| --- | --- | --- |\n",
    "| [Xarray](https://foundations.projectpythia.org/core/xarray.html) | Necesario |  Manejo de datos multidimensionales espacializados|\n",
    "| [Matplotlib](https://foundations.projectpythia.org/core/matplotlib.html) | Necesario |  Generación de gráficas|\n",
    "| [CMIP6](https://projectpythia.org/cmip6-cookbook/README.html#) | Necesario |  Ejemplos y análisis de CMIP6|\n",
    "| [NetCDF](https://foundations.projectpythia.org/core/data-formats/netcdf-cf.html) | Útil | Familiaridad con la estructura de datos y metadatos. |\n",
    "| [Intake](https://projectpythia.org/intake-cookbook/README.html) | Útil | Cátalogo que nos permite acceder a datos de diversas fuentes |\n",
    "\n",
    "\n",
    "- **Tiempo de aprendizaje**: 30 minutos."
   ]
  },
  {
   "cell_type": "markdown",
   "metadata": {},
   "source": [
    "---"
   ]
  },
  {
   "cell_type": "markdown",
   "metadata": {},
   "source": [
    "## Librerías\n",
    "\n",
    "Importamos las librerías que usaremos a lo largo de este cuadernillo."
   ]
  },
  {
   "cell_type": "code",
   "execution_count": null,
   "metadata": {},
   "outputs": [],
   "source": [
    "import matplotlib.pyplot as plt\n",
    "import numpy as np\n",
    "import xarray as xr\n",
    "from datatree import DataTree\n",
    "from pandas import date_range\n",
    "from xarrayutils.plotting import shaded_line_plot\n",
    "from xmip.postprocessing import concat_members, match_metrics\n",
    "from xmip.preprocessing import combined_preprocessing\n",
    "from xmip.utils import google_cmip_col\n",
    "\n",
    "xr.set_options(keep_attrs=True)\n",
    "%matplotlib inline\n",
    "plt.rcParams[\"figure.figsize\"] = (10, 5)"
   ]
  },
  {
   "cell_type": "markdown",
   "metadata": {},
   "source": [
    "## 1. Introduccion a los escenarios de Cambio Climático\n",
    "\n",
    "Los escenarios de cambio climático son una serie de modelos que se han desarrollado con el fin de comprender nuestro clima y las implicaciones futuras de las continuas emiciones de gases de efecto invernadero en la atmósfera. Estos esfuerzos se han concentrado en el proyecto de intercomparacion de modelos (MIP) que invita a entidades de diferentes partes del mundo a realizar simulaciones utilizando modelos bajo escenarios de forzamiento radiativo centralizado (Abernathey, R. 2021). El más reciente Proyecto de Intercomparación de Modelos Acoplados fase 6 ([CMIP6](https://gmd.copernicus.org/articles/9/1937/2016/)) representa un esfuerzo internacional para enfocar el conocimiento acerca de la posible evolucion del sistema climático futuro, y que se encuentra consignado y resumido en el [Informe del Panel Intergubernamental sobre el Cambio Climático](https://github.com/IPCC-WG1/Chapter-9).\n",
    "\n",
    "A continuación podemos ver una presentación corta que nos permite entender un poco más que hay detras del Cambio Climático y la modelación climática cortesía de [Climate Match Academy](https://comptools.climatematch.io/tutorials/intro.html)."
   ]
  },
  {
   "cell_type": "code",
   "execution_count": null,
   "metadata": {},
   "outputs": [],
   "source": [
    "from IPython.display import IFrame\n",
    "from ipywidgets import widgets\n",
    "\n",
    "link_id = \"y2bdn\"\n",
    "\n",
    "download_link = f\"https://osf.io/download/{link_id}/\"\n",
    "render_link = f\"https://mfr.ca-1.osf.io/render?url=https://osf.io/{link_id}/?direct%26mode=render%26action=download%26mode=render\"\n",
    "# @markdown\n",
    "out = widgets.Output()\n",
    "with out:\n",
    "    display(IFrame(src=f\"{render_link}\", width=730, height=410))\n",
    "display(out)\n",
    "\n",
    "print(\"Cortesia: Climate Match Academy (CC BY 4.0)\")"
   ]
  },
  {
   "cell_type": "markdown",
   "metadata": {},
   "source": [
    "## 2. Acceso a los datos CMIP6\n",
    "\n",
    "Los datos de los diferentes modelos se encuentran disponibles en la plataforma en la nube de `Google Storage` en formato [`Zarr`](https://zarr.readthedocs.io/en/stable/). Para acceder a los datos de los diferentes escenarios de cambio climático podemos usar la librería [`xmip`](https://cmip6-preprocessing.readthedocs.io/en/latest/?badge=latest). Para crear una conexión con el repositorio de datos de Google usaremos el método [`google_cmip_col`](https://cmip6-preprocessing.readthedocs.io/en/latest/_modules/xmip/utils.html#google_cmip_col:~:text=def%20google_cmip_col(catalog%3D%22main%22)%3A) que nos permite acceder a los datos de [`Pangeo`](https://pangeo.io/) a través de [`intake`](https://intake.readthedocs.io/en/latest/) de la siguiente manera:"
   ]
  },
  {
   "cell_type": "code",
   "execution_count": null,
   "metadata": {},
   "outputs": [],
   "source": [
    "cat = google_cmip_col()\n",
    "cat"
   ]
  },
  {
   "cell_type": "markdown",
   "metadata": {},
   "source": [
    "Como podemos ver hay una gran cantidad de modelaciones de más de 30 instituciones alrededor del mundo. Para efectos pedagógicos, vamos a hacer una consulta de los modelos [IPSL](https://cmc.ipsl.fr/ipsl-climate-models/), [MPI](https://gmd.copernicus.org/articles/12/3241/2019/), [GFDL](https://www.gfdl.noaa.gov/research_highlight/the-gfdl-earth-system-model-version-4-1-gfdl-esm4-1-model-description-and-simulation-characteristics/), [EC](https://ec-earth.org/), [CMCC](https://www.cmcc.it/models/cmcc-esm-earth-system-model) y [CESM2](https://www.cesm.ucar.edu/models/cesm2) para el periodo **histórico** y cada uno de los de los **escenarios (SSP - Shared Socioeconomic Pathways) proyectados** (`ssp126`, `ssp245`, `ssp370`, `ssp585`). \n",
    "\n",
    "Debemos crear un diccionario que nos permita posteriormente filtrar los datos deseados de la siguiente manera:"
   ]
  },
  {
   "cell_type": "code",
   "execution_count": null,
   "metadata": {},
   "outputs": [],
   "source": [
    "query = dict(\n",
    "    source_id=[\n",
    "        \"IPSL-CM6A-LR\",\n",
    "        \"MPI-ESM1-2-LR\",\n",
    "        \"GFDL-ESM4\",\n",
    "        \"EC-Earth3\",\n",
    "        \"CMCC-ESM2\",\n",
    "        \"CESM2\",\n",
    "    ],\n",
    "    experiment_id=[\"historical\", \"ssp126\", \"ssp370\", \"ssp245\", \"ssp585\"],\n",
    "    grid_label=\"gn\",\n",
    ")"
   ]
  },
  {
   "cell_type": "markdown",
   "metadata": {},
   "source": [
    "El parámetro de etiqueta de reticula [`grid_label`](https://github.com/WCRP-CMIP/CMIP6_CVs/blob/master/CMIP6_grid_label.json) hace referencia a si los datos son reportados en retícula original (`gn`) o fue reprocesado a una nueva retícula (`gr`) en formato `lat` y `lon`.\n",
    "\n",
    "Para filtar los datos podemos aplicar el método `.search` a nuestro catálogo. Le pasamos los filtros previamente definidos incluyendo el identificador de la [variable](https://docs.google.com/spreadsheets/d/1UUtoz6Ofyjlpx5LdqhKcwHFz2SGoTQV2_yekHyMfL9Y/edit#gid=1221485271) (`variable_id`), para nuestro caso la temperatura superficial del mar `tos`. Pasamos también el identificador de miembro `member_id` que para nuestro caso es `r1i1p1f1`.  \n",
    "\n",
    "La etiqueta de miembro nos indica lo siguiente:\n",
    "*  r = realización\n",
    "*  i = inicialización\n",
    "*  p = física (parametrización)\n",
    "*  f = forzamiento radiativo\n",
    "\n",
    " Como último parámetro en nuestro ejemplo pasamos el identificador de table `table_id` que para nuestro caso son datos mensuales del oceano `Omon`."
   ]
  },
  {
   "cell_type": "code",
   "execution_count": null,
   "metadata": {},
   "outputs": [],
   "source": [
    "cat_filt = cat.search(\n",
    "    **query,\n",
    "    variable_id=\"tos\",\n",
    "    member_id=[\n",
    "        \"r1i1p1f1\",\n",
    "    ],  #'r2i1p1f1'\n",
    "    table_id=\"Omon\",\n",
    ")\n",
    "cat_filt"
   ]
  },
  {
   "cell_type": "markdown",
   "metadata": {},
   "source": [
    "`Intake` nos permite acceder a los datos de marea rápida y fácil usando `Xarray`. Para cargar estos datos en un `Dataset` podemos aplicarle el método `.to_dataset_dict` que nos permite crear un `diccionario` con todos los modelos. Podemos pasar un diccionario `kwargs` con argumentos que nos permiten realizar preprocesamiento de los datos como renombrar algunos archivos, corregir coordenadas, unidades, entre otros, como podemos ver [acá](https://github.com/jbusecke/xMIP/blob/ec4006a7335ca00fd988cf03ac7121f046610f8a/xmip/preprocessing.py#L445). "
   ]
  },
  {
   "cell_type": "code",
   "execution_count": null,
   "metadata": {},
   "outputs": [],
   "source": [
    "kwargs = dict(\n",
    "    preprocess=combined_preprocessing,\n",
    "    xarray_open_kwargs=dict(use_cftime=True),\n",
    "    aggregate=False,\n",
    ")\n",
    "ddict = cat_filt.to_dataset_dict(**kwargs)"
   ]
  },
  {
   "cell_type": "code",
   "execution_count": null,
   "metadata": {},
   "outputs": [],
   "source": [
    "print(list(ddict.keys())[:2])"
   ]
  },
  {
   "cell_type": "markdown",
   "metadata": {},
   "source": [
    "Revisemos el contenido de uno de estos archivos"
   ]
  },
  {
   "cell_type": "code",
   "execution_count": null,
   "metadata": {},
   "outputs": [],
   "source": [
    "ds_test = ddict[\n",
    "    \"ScenarioMIP.CMCC.CMCC-ESM2.ssp126.r1i1p1f1.Omon.tos.gn.gs://cmip6/CMIP6/ScenarioMIP/CMCC/CMCC-ESM2/ssp126/r1i1p1f1/Omon/tos/gn/v20210126/.20210126\"\n",
    "]\n",
    "display(ds_test)"
   ]
  },
  {
   "cell_type": "markdown",
   "metadata": {},
   "source": [
    "Ahora una inspección gráfica"
   ]
  },
  {
   "cell_type": "code",
   "execution_count": null,
   "metadata": {},
   "outputs": [],
   "source": [
    "ds_test.isel(member_id=0, dcpp_init_year=0, time=0).tos.plot(\n",
    "    cmap=\"Spectral_r\", vmin=-5, vmax=35\n",
    ")"
   ]
  },
  {
   "cell_type": "markdown",
   "metadata": {},
   "source": [
    "## 2. Temperatura media global ponderada"
   ]
  },
  {
   "cell_type": "markdown",
   "metadata": {},
   "source": [
    "La temperatura superficial del mar, y cualquier otra variable o salida de los modelos de cambio climático, debe ser ponderada por el **area** de cada celda. \n",
    "\n",
    "<img src=\"../images/cubed_sphere.jpeg\" width=400 alt=\"IPCC\"></img>\n",
    "\n",
    "Creditos: [Gael Forget](https://gaelforget.net/). Para mas información acerca de las simulaciones y las reticulas ver [https://doi.org/10.5194/gmd-8-3071-2015](https://gmd.copernicus.org/articles/8/3071/2015/)\n",
    "\n",
    "Estas áreas ya estan calculadas y disponibles para su consulta de manera similar a los datos de `temperatura`. Hagamos una consulta al catálogo similar a la anterior cambiando los campos de `variable_id=areacello` y `table_id=Ofx`. "
   ]
  },
  {
   "cell_type": "code",
   "execution_count": null,
   "metadata": {},
   "outputs": [],
   "source": [
    "cat_area = cat.search(\n",
    "    **query,\n",
    "    table_id=\"Ofx\",\n",
    "    variable_id=\"areacello\",\n",
    ")\n",
    "ddict_area = cat_area.to_dataset_dict(**kwargs)"
   ]
  },
  {
   "cell_type": "markdown",
   "metadata": {},
   "source": [
    "para realizar el cálculo de la temperatura media ponderada por latitud podemos utilizar el módulo [`match_metrics`](https://cmip6-preprocessing.readthedocs.io/en/latest/_modules/xmip/postprocessing.html) de la libreria `xmip` de python de la siguiente manera:"
   ]
  },
  {
   "cell_type": "code",
   "execution_count": null,
   "metadata": {},
   "outputs": [],
   "source": [
    "ddict_w_area = match_metrics(ddict, ddict_area, \"areacello\", print_statistics=True)"
   ]
  },
  {
   "cell_type": "code",
   "execution_count": null,
   "metadata": {},
   "outputs": [],
   "source": [
    "# ddict_w_area"
   ]
  },
  {
   "cell_type": "markdown",
   "metadata": {},
   "source": [
    "Ahora procederemos a concatenar los miembros en cada uno de los modelos usando el módulo [`.concat_members`](https://cmip6-preprocessing.readthedocs.io/en/latest/_modules/xmip/postprocessing.html#concat_members)"
   ]
  },
  {
   "cell_type": "code",
   "execution_count": null,
   "metadata": {},
   "outputs": [],
   "source": [
    "ddict_trimmed = {k: ds.sel(time=slice(None, \"2100\")) for k, ds in ddict_w_area.items()}\n",
    "ddict_combined_members = concat_members(\n",
    "    ddict_w_area,\n",
    "    concat_kwargs={\"coords\": \"minimal\", \"compat\": \"override\", \"join\": \"override\"},\n",
    ")"
   ]
  },
  {
   "cell_type": "markdown",
   "metadata": {},
   "source": [
    "`Xarray.Dataset` no soporta tener múltiples `Datasets`  anidados en un solo objeto de `Xarray`. Sin embargo podemos crear un objeto llamado [`Xarray.datatree`](https://xarray-datatree.readthedocs.io/en/latest/quick-overview.html) que nos permite poner todos nuestros `Datasets` en un solo objeto de manerar herarquica. Para entender un poco mas los formatos y objeto de tipo herarquico vea este [ejemplo](https://xarray-datatree.readthedocs.io/en/latest/hierarchical-data.html)."
   ]
  },
  {
   "cell_type": "code",
   "execution_count": null,
   "metadata": {},
   "outputs": [],
   "source": [
    "# create a path: dataset dictionary, where the path is based on each datasets attributes\n",
    "tree_dict = {\n",
    "    f\"{ds.source_id}/{ds.experiment_id}/\": ds for ds in ddict_combined_members.values()\n",
    "}\n",
    "\n",
    "dt = DataTree.from_dict(tree_dict)\n",
    "display(dt)"
   ]
  },
  {
   "cell_type": "code",
   "execution_count": null,
   "metadata": {},
   "outputs": [],
   "source": [
    "# dt.nbytes / 1e9"
   ]
  },
  {
   "cell_type": "markdown",
   "metadata": {},
   "source": [
    "Para acceder a los datos dentro de este `Xarray.datatree` usamos notación de diccionarios de `Python`"
   ]
  },
  {
   "cell_type": "code",
   "execution_count": null,
   "metadata": {},
   "outputs": [],
   "source": [
    "dt[\"IPSL-CM6A-LR/historical\"].ds"
   ]
  },
  {
   "cell_type": "markdown",
   "metadata": {},
   "source": [
    "Ahora sí podemos generar un gráfico de la temperatura media global ponderada por el area de cada celda "
   ]
  },
  {
   "cell_type": "code",
   "execution_count": null,
   "metadata": {},
   "outputs": [],
   "source": [
    "dt[\"IPSL-CM6A-LR/historical\"].isel(member_id=0, dcpp_init_year=0, time=0).tos.plot(\n",
    "    cmap=\"Spectral_r\", vmin=-5, vmax=35\n",
    ")"
   ]
  },
  {
   "cell_type": "markdown",
   "metadata": {},
   "source": [
    "Ahora podemos calcular la anomalía de la temperatura superficial media global ponderada por `latitud` para cada uno de los modelos."
   ]
  },
  {
   "cell_type": "code",
   "execution_count": null,
   "metadata": {},
   "outputs": [],
   "source": [
    "# Temperatura media global\n",
    "\n",
    "\n",
    "def global_mean_sst(ds):\n",
    "    return ds.tos.weighted(ds.areacello.fillna(0)).mean([\"x\", \"y\"]).persist()\n",
    "\n",
    "\n",
    "timeseries = dt.map_over_subtree(global_mean_sst)\n",
    "timeseries"
   ]
  },
  {
   "cell_type": "markdown",
   "metadata": {},
   "source": [
    "Podemos generar una serie de tiempo para inspeccionar los resultados. Usemos el modelo IPSl con el escenario ssp585."
   ]
  },
  {
   "cell_type": "code",
   "execution_count": null,
   "metadata": {},
   "outputs": [],
   "source": [
    "ds_IPSL_ssp585 = timeseries[\"/IPSL-CM6A-LR/ssp585\"].ds\n",
    "ds_IPSL_ssp585 = ds_IPSL_ssp585.assign_coords(\n",
    "    time=(\"time\", ds_IPSL_ssp585.time.data.astype(\"datetime64[ns]\"))\n",
    ")\n",
    "ds_IPSL_ssp585[\"tos\"].plot()"
   ]
  },
  {
   "cell_type": "markdown",
   "metadata": {},
   "source": [
    "## 2. Anolamía de la temperatura media global ponderada\n",
    "\n",
    "De igual manera podemos remover el ciclo estacional, también llamado “climatología”, para calcular la anomalia de la temperatura superficial del océano. "
   ]
  },
  {
   "cell_type": "code",
   "execution_count": null,
   "metadata": {},
   "outputs": [],
   "source": [
    "# Valor medio histórico de referencia\n",
    "\n",
    "\n",
    "def get_ref_value(ds):\n",
    "    return ds.sel(time=slice(\"1950\", \"1980\")).mean(\"time\")\n",
    "\n",
    "\n",
    "anomaly = DataTree()\n",
    "\n",
    "for model_name, model in timeseries.children.items():\n",
    "    # model-specific base period\n",
    "    base_period = get_ref_value(model[\"historical\"].ds)\n",
    "    anomaly[model_name] = model - base_period  # subtree - Dataset"
   ]
  },
  {
   "cell_type": "code",
   "execution_count": null,
   "metadata": {
    "scrolled": true
   },
   "outputs": [],
   "source": [
    "display(anomaly)"
   ]
  },
  {
   "cell_type": "markdown",
   "metadata": {},
   "source": [
    "Los datos de los modelos de cambio climático traen una estampa de `tiempo` en formato `cftime.DatetimeGregorian`. `Xarray` y `Matplotlib` generalmente trabajan con estampas de tiempo de `datetime64`. Debemos convertir estos índices usando la función `replace_time`. Luego podemos agrupar los datos por escenario usando un `diccionario` como se muestra a continuación:"
   ]
  },
  {
   "cell_type": "code",
   "execution_count": null,
   "metadata": {},
   "outputs": [],
   "source": [
    "# anomaly['/IPSL-CM6A-LR/ssp585'].time"
   ]
  },
  {
   "cell_type": "code",
   "execution_count": null,
   "metadata": {},
   "outputs": [],
   "source": [
    "def replace_time(ds):\n",
    "    start_date = ds.time.data[0]\n",
    "    new_time = date_range(\n",
    "        f\"{start_date.year}-{start_date.month:02}\", freq=\"1MS\", periods=len(ds.time)\n",
    "    )\n",
    "    ds_new_cal = ds.assign_coords(time=new_time, source_id=model_name)\n",
    "    return ds_new_cal\n",
    "\n",
    "\n",
    "experiment_dict = {\n",
    "    k: [] for k in [\"historical\", \"ssp126\", \"ssp370\", \"ssp245\", \"ssp585\"]\n",
    "}\n",
    "\n",
    "experiment_dict"
   ]
  },
  {
   "cell_type": "markdown",
   "metadata": {},
   "source": [
    "Iteramos sobre cada uno de los modelos en el objeto `datatree` donde tenemos las anomalías de la temperatura superficial del mar y las agregamos a cada una de las llaves del diccionario"
   ]
  },
  {
   "cell_type": "code",
   "execution_count": null,
   "metadata": {},
   "outputs": [],
   "source": [
    "for model_name, model in list(anomaly.children.items()):\n",
    "    for experiment_name, experiment in model.children.items():\n",
    "        # replace the time dimension\n",
    "        ds_new_cal = replace_time(experiment.ds)\n",
    "        experiment_dict[experiment_name].append(ds_new_cal.load())"
   ]
  },
  {
   "cell_type": "markdown",
   "metadata": {},
   "source": [
    "Concatenamos cada escenario a lo largo de la dimension `source_id`"
   ]
  },
  {
   "cell_type": "code",
   "execution_count": null,
   "metadata": {},
   "outputs": [],
   "source": [
    "# Concatenar todos los modelos para un determinado experimento\n",
    "plot_dict = {\n",
    "    k: xr.concat(ds_lst, dim=\"source_id\") for k, ds_lst in experiment_dict.items()\n",
    "}\n",
    "plot_dict"
   ]
  },
  {
   "cell_type": "markdown",
   "metadata": {},
   "source": [
    "Comprobamos que nuestras estampas de tiempo esten en el formato `datetime64`"
   ]
  },
  {
   "cell_type": "code",
   "execution_count": null,
   "metadata": {},
   "outputs": [],
   "source": [
    "plot_dict[\"historical\"].time"
   ]
  },
  {
   "cell_type": "markdown",
   "metadata": {},
   "source": [
    "Finalmente generamos nuestra gráfica de las proyecciones de la anomalía de temperatura superficial del mar bajo los distintos escenarios. Para esto podemos usar la función [`shaded_line_plot`](https://xarrayutils.readthedocs.io/en/latest/_modules/xarrayutils/plotting.html#shaded_line_plot) que produce un gráfico de líneas con intervalos sombreados según la extensión del `datarray` en la dimensión `dim`. **Creamos nuestro ensamble multimodelo!!!**"
   ]
  },
  {
   "cell_type": "code",
   "execution_count": null,
   "metadata": {},
   "outputs": [],
   "source": [
    "fig, ax = plt.subplots(figsize=(8, 4))\n",
    "\n",
    "color_dict = {\n",
    "    \"historical\": \"0.5\",\n",
    "    \"ssp126\": \"C2\",\n",
    "    \"ssp245\": \"gold\",\n",
    "    \"ssp370\": \"C1\",\n",
    "    \"ssp585\": \"C3\",\n",
    "    \"observations\": \"C5\",\n",
    "}\n",
    "for experiment, ds in plot_dict.items():\n",
    "    color = color_dict[experiment]\n",
    "    smooth = (\n",
    "        ds[\"tos\"]\n",
    "        .sel(time=slice(None, \"2100\"))\n",
    "        .isel(member_id=0)\n",
    "        .rolling(time=2 * 12)\n",
    "        .mean()\n",
    "        .squeeze([\"dcpp_init_year\"])\n",
    "    )\n",
    "    lw = 2 if experiment == \"observations\" else 1.5\n",
    "    shaded_line_plot(\n",
    "        smooth,\n",
    "        \"source_id\",\n",
    "        ax=ax,\n",
    "        spreads=[2.0],\n",
    "        alphas=[0.2],\n",
    "        line_kwargs=dict(\n",
    "            color=color, label=f\"{experiment} ({len(ds.source_id)})\", lw=lw\n",
    "        ),\n",
    "    )\n",
    "plt.legend(loc=2)\n",
    "plt.grid()\n",
    "plt.tight_layout()"
   ]
  },
  {
   "cell_type": "markdown",
   "metadata": {},
   "source": [
    "---"
   ]
  },
  {
   "cell_type": "markdown",
   "metadata": {},
   "source": [
    "## Resumen final\n",
    "En este cuadernillo (notebook) revisamos temas relacionados con el acceso a la información proveniente de diferentes escenarios de Cambio Climático a partir de los conjuntos de datos disponibles en CMIP. Promediamos la temperatura superficial teniendo en cuenta el tamaño de las celdas del modelo y, reprodujimos la gráfica multimodelo de las proyecciones de cambio climático. "
   ]
  },
  {
   "cell_type": "markdown",
   "metadata": {},
   "source": [
    "## Fuentes y referencias\n",
    "\n",
    "ClimateMatch Academy: Computational Tools for Climate Science. (s. f.). https://comptools.climatematch.io/tutorials/intro.html\n",
    "\n",
    "\n",
    "FALTA AGREGAR MÁS REFERENCIAS!!!"
   ]
  },
  {
   "cell_type": "markdown",
   "metadata": {},
   "source": []
  }
 ],
 "metadata": {
  "kernelspec": {
   "display_name": "Python 3 (ipykernel)",
   "language": "python",
   "name": "python3"
  },
  "language_info": {
   "codemirror_mode": {
    "name": "ipython",
    "version": 3
   },
   "file_extension": ".py",
   "mimetype": "text/x-python",
   "name": "python",
   "nbconvert_exporter": "python",
   "pygments_lexer": "ipython3",
   "version": "3.11.6"
  },
  "nbdime-conflicts": {
   "local_diff": [
    {
     "diff": [
      {
       "diff": [
        {
         "key": 0,
         "op": "addrange",
         "valuelist": [
          "Python 3"
         ]
        },
        {
         "key": 0,
         "length": 1,
         "op": "removerange"
        }
       ],
       "key": "display_name",
       "op": "patch"
      }
     ],
     "key": "kernelspec",
     "op": "patch"
    }
   ],
   "remote_diff": [
    {
     "diff": [
      {
       "diff": [
        {
         "key": 0,
         "op": "addrange",
         "valuelist": [
          "Python3"
         ]
        },
        {
         "key": 0,
         "length": 1,
         "op": "removerange"
        }
       ],
       "key": "display_name",
       "op": "patch"
      }
     ],
     "key": "kernelspec",
     "op": "patch"
    }
   ]
  },
  "toc-autonumbering": false
 },
 "nbformat": 4,
 "nbformat_minor": 4
}
