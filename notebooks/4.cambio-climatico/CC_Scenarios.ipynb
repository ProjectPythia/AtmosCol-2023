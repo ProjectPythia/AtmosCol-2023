{
 "cells": [
  {
   "cell_type": "code",
   "execution_count": null,
   "id": "c96e3317",
   "metadata": {},
   "outputs": [],
   "source": [
    "import xarray as xr\n",
    "xr.set_options(keep_attrs=True)\n",
    "import gcsfs\n",
    "import numpy as np\n",
    "from xmip.preprocessing import rename_cmip6\n",
    "from datatree import DataTree\n",
    "import matplotlib.pyplot as plt\n",
    "from datatree import map_over_subtree\n",
    "from datatree import open_datatree"
   ]
  },
  {
   "cell_type": "code",
   "execution_count": null,
   "id": "ccc1aa9b",
   "metadata": {},
   "outputs": [],
   "source": [
    "cmip_stores = {\n",
    "'IPSL-CM6A-LR/historical':  'gs://cmip6/CMIP6/CMIP/IPSL/IPSL-CM6A-LR/historical/r4i1p1f1/Omon/tos/gn/v20180803/',\n",
    "'MPI-ESM1-2-LR/historical': 'gs://cmip6/CMIP6/CMIP/MPI-M/MPI-ESM1-2-LR/historical/r4i1p1f1/Omon/tos/gn/v20190710/',\n",
    "'CESM2/historical':         'gs://cmip6/CMIP6/CMIP/NCAR/CESM2/historical/r4i1p1f1/Omon/tos/gn/v20190308/',\n",
    "'IPSL-CM6A-LR/ssp126':      'gs://cmip6/CMIP6/ScenarioMIP/IPSL/IPSL-CM6A-LR/ssp126/r4i1p1f1/Omon/tos/gn/v20191121/',\n",
    "'IPSL-CM6A-LR/ssp585':      'gs://cmip6/CMIP6/ScenarioMIP/IPSL/IPSL-CM6A-LR/ssp585/r4i1p1f1/Omon/tos/gn/v20191122/',\n",
    "'MPI-ESM1-2-LR/ssp126':     'gs://cmip6/CMIP6/ScenarioMIP/MPI-M/MPI-ESM1-2-LR/ssp126/r4i1p1f1/Omon/tos/gn/v20190710/',\n",
    "'MPI-ESM1-2-LR/ssp585':     'gs://cmip6/CMIP6/ScenarioMIP/MPI-M/MPI-ESM1-2-LR/ssp585/r4i1p1f1/Omon/tos/gn/v20190710/',\n",
    "'CESM2/ssp126':             'gs://cmip6/CMIP6/ScenarioMIP/NCAR/CESM2/ssp126/r4i1p1f1/Omon/tos/gn/v20200528/',\n",
    "'CESM2/ssp585':             'gs://cmip6/CMIP6/ScenarioMIP/NCAR/CESM2/ssp585/r4i1p1f1/Omon/tos/gn/v20200528/'\n",
    "}\n",
    "\n",
    "datasets = {\n",
    "    name: rename_cmip6(xr.open_dataset(path, engine=\"zarr\")).load()\n",
    "    for name, path in cmip_stores.items()\n",
    "}"
   ]
  },
  {
   "cell_type": "code",
   "execution_count": null,
   "id": "184cf14e",
   "metadata": {},
   "outputs": [],
   "source": [
    "dt = DataTree.from_dict(datasets)\n",
    "\n",
    "for i in dt['/CESM2'].keys():\n",
    "    dt[f'/CESM2/{i}'] = dt[f'/CESM2/{i}'].assign_coords(time=(\"time\", np.array([np.datetime64(j)\n",
    "                                                                               for j in\n",
    "                                                                               dt[f'/CESM2/{i}']['time'].values])))\n",
    "\n",
    "timeseries = dt.mean(dim=[\"x\", \"y\"])"
   ]
  },
  {
   "cell_type": "code",
   "execution_count": null,
   "id": "e359b785",
   "metadata": {},
   "outputs": [],
   "source": [
    "timeseries['/IPSL-CM6A-LR/historical'].ds['tos'].plot()"
   ]
  },
  {
   "cell_type": "code",
   "execution_count": null,
   "id": "9be098c3",
   "metadata": {},
   "outputs": [],
   "source": [
    "def mean_over_space(ds):\n",
    "    return ds.mean(dim=[\"x\", \"y\"])\n",
    "_ = dt.map_over_subtree(mean_over_space)"
   ]
  },
  {
   "cell_type": "code",
   "execution_count": null,
   "id": "c7ddd642",
   "metadata": {},
   "outputs": [],
   "source": [
    "# timeseries.to_zarr('cmip_timeseries')  # or netcdf, with any group structure\n",
    "# roundtrip = open_datatree('cmip_timeseries', engine=\"zarr\")"
   ]
  },
  {
   "cell_type": "code",
   "execution_count": null,
   "id": "6e79a95c",
   "metadata": {},
   "outputs": [],
   "source": [
    "anomaly = DataTree()\n",
    "for model_name, model in timeseries.children.items():\n",
    "    \n",
    "    # model-specific base period as an xarray.Dataset\n",
    "    base_period = model[\"historical\"].ds.sel(time=slice('1950','1980')).mean('time')\n",
    "    \n",
    "    anomaly[model_name] = model - base_period   # subtree - Dataset"
   ]
  },
  {
   "cell_type": "code",
   "execution_count": null,
   "id": "291d66ca",
   "metadata": {},
   "outputs": [],
   "source": [
    "fig, ax = plt.subplots(dpi=120)\n",
    "\n",
    "@map_over_subtree\n",
    "def plot_temp(ds, original_ds):\n",
    "    \n",
    "    if ds:\n",
    "        label = f'{original_ds.attrs[\"source_id\"]} - {original_ds.attrs[\"experiment_id\"]}'\n",
    "        ds['tos'].rolling(time=2*12).mean().plot(ax=ax, label=label)\n",
    "    return ds\n",
    "   \n",
    "plot_temp(anomaly, timeseries)\n",
    "ax.legend()"
   ]
  },
  {
   "cell_type": "code",
   "execution_count": null,
   "id": "81e0a4c4",
   "metadata": {},
   "outputs": [],
   "source": []
  },
  {
   "cell_type": "code",
   "execution_count": null,
   "id": "d38c87b4",
   "metadata": {},
   "outputs": [],
   "source": []
  },
  {
   "cell_type": "code",
   "execution_count": null,
   "id": "fd5d772a",
   "metadata": {},
   "outputs": [],
   "source": []
  }
 ],
 "metadata": {
  "kernelspec": {
   "display_name": "Python 3 (ipykernel)",
   "language": "python",
   "name": "python3"
  },
  "language_info": {
   "codemirror_mode": {
    "name": "ipython",
    "version": 3
   },
   "file_extension": ".py",
   "mimetype": "text/x-python",
   "name": "python",
   "nbconvert_exporter": "python",
   "pygments_lexer": "ipython3",
   "version": "3.11.5"
  }
 },
 "nbformat": 4,
 "nbformat_minor": 5
}
