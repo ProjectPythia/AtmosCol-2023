{
 "cells": [
  {
   "cell_type": "markdown",
   "metadata": {},
   "source": [
    "```{image} ../images/logos/openradar_logo.svg\n",
    ":width: 200px\n",
    ":align: center\n",
    "```"
   ]
  },
  {
   "cell_type": "markdown",
   "metadata": {},
   "source": [
    "# Introducción a los radares meteorológicos y xradar"
   ]
  },
  {
   "cell_type": "markdown",
   "metadata": {},
   "source": [
    "---"
   ]
  },
  {
   "cell_type": "markdown",
   "metadata": {},
   "source": [
    "## 1. Introducción\n",
    "\n",
    "En este cuadernillo aprenderás a trabajar con datos de **radares meteorológicos** usando la librería **[xradar](https://docs.openradarscience.org/projects/xradar/en/stable/)**.\n",
    "\n",
    "Xradar es una herramienta moderna y de código abierto, diseñada para importar, estructurar y preparar datos de radar para análisis cientifico utilizando el ecosistema de Python — en particular `xarray` y formatos como `Zarr`.\n",
    "\n",
    "📦 **¿Qué hace Xradar?**\n",
    "\n",
    "- Lee múltiples formatos de radar (e.g. SIGMET, ODIM_H5, Cf/Radial, Rainbow, NEXRAD).\n",
    "- Organiza los datos en un modelo jerárquico compatible con el estándar WMO **FM301 / CfRadial2.1**.\n",
    "- Permite el acceso estructurado y el análisis directo de múltiples variables radar como `Z`, `ZDR`, `VEL`, entre otras.\n",
    "- Facilita la visualización, exportación y análisis de grandes volúmenes de datos usando herramientas como `matplotlib`, `cartopy` o `dask`.\n",
    "\n",
    "Este módulo está pensado como punto de entrada al análisis de radar meteorológico basado en etiquetas, coordenadas geográficas y estándares abiertos."
   ]
  },
  {
   "cell_type": "markdown",
   "metadata": {},
   "source": [
    "## 📚 ¿Qué vas a aprender?\n",
    "\n",
    "Al completar este cuadernillo serás capaz de:\n",
    "- Leer archivos de radar en distintos formatos (SIGMET, NetCDF, ODIM, etc.)\n",
    "- Visualizar datos de reflectividad y otras variables polarimétricas\n",
    "- Georreferenciar datos para crear mapas con coordenadas reales\n",
    "- Aplicar filtros y seleccionar datos por rangos, azimut o elevación\n",
    "- Comparar el flujo de trabajo entre Py-ART, Xradar y Wradlib\n",
    "- Utilizar objetos `xarray.DataArray`, `Dataset`, y `DataTree` para datos de radar"
   ]
  },
  {
   "cell_type": "markdown",
   "metadata": {
    "editable": true,
    "slideshow": {
     "slide_type": ""
    },
    "tags": []
   },
   "source": [
    "## ✅ Requisitos previos\n",
    "\n",
    "| Concepto                                | Importancia | Notas                                   |\n",
    "|-----------------------------------------|-------------|------------------------------------------|\n",
    "| [NumPy](./1.2.Introduccion-Numpy.ipynb) | Necesario   | Estructuras y operaciones con arrays     |\n",
    "| [Xarray](./1.4.Introduccion-Xarray.ipynb) | Necesario | Acceso por coordenadas, etiquetado, `.plot()` |\n",
    "| [Matplotlib](https://matplotlib.org/)   | Necesario   | Generación de figuras                    |\n",
    "| [Cartopy](https://scitools.org.uk/cartopy/docs/latest/) | Necesario | Visualización geográfica                 |\n",
    "| [Radar Cookbook](https://projectpythia.org/radar-cookbook/index.html) | Sugerido | Casos de uso adicionales                 |\n",
    "\n",
    "⏱️ **Tiempo estimado de aprendizaje**: 30–45 minutos  \n",
    "✍️ **Formato**: interactivo, ejecuta y modifica el código a medida que avanzas"
   ]
  },
  {
   "cell_type": "markdown",
   "metadata": {},
   "source": [
    "## 2. ¿Cómo funcionan los radares meteorológicos? 🎬 \n",
    "---\n",
    "Antes de explorar `xradar` es útil entender cómo opera un radar meteorológico.\n",
    "\n",
    "A continuación te presentamos un video explicativo sobre el proceso de escaneo volumétrico que realiza un radar:"
   ]
  },
  {
   "cell_type": "markdown",
   "metadata": {},
   "source": [
    ":::{iframe} https://www.youtube.com/embed/Yrq2TVdM8HI\n",
    ":width: 70%\n",
    "Operacion de un radar meteorológico. Fuente:[UCAR](https://www.meted.ucar.edu/index.php)\n",
    ":::"
   ]
  },
  {
   "cell_type": "markdown",
   "metadata": {
    "editable": true,
    "slideshow": {
     "slide_type": ""
    },
    "tags": []
   },
   "source": [
    "\n",
    "### 🌀 **¿Qué estás viendo?**\n",
    "\n",
    "- El radar gira 360° a una altura fija, recolectando datos como **reflectividad** — útiles para visualizar la precipitación.\n",
    "- Luego se inclina a un ángulo más alto y repite el proceso.\n",
    "- Estas múltiples barridas crean un patrón volumétrico llamado **Patrón de Cobertura de Volumen (VCP)** con forma de dona 🍩.\n",
    "- Este ciclo se repite cada pocos minutos, permitiendo realizar **análisis en series de tiempo** y seguimiento de tormentas.\n",
    "\n",
    "🎓 *Este contexto es clave para entender cómo procesar e interpretar los datos en las siguientes secciones.*"
   ]
  },
  {
   "cell_type": "markdown",
   "metadata": {},
   "source": [
    "## 3. Xradar: Radar meteorológicos representados en Xarray 🛰️\n",
    "--- \n",
    "Xradar es una librería moderna diseñada para trabajar con datos de radar meteorológico utilizando las ventajas de `xarray`. Su enfoque principal es representar los datos de forma estructurada y con metadatos completos, permitiendo análisis más claros y reproducibles.\n",
    "\n",
    "\n",
    "### 3.1. 🤝 Contexto y propósito de Xradar\n",
    "\n",
    "Durante la conferencia **ERAD 2022** (European Conference on Radar in Meteorology and Hydrology) realizada en Locarno, Suiza, se discutió ampliamente el futuro de las herramientas abiertas para procesamiento de datos de radar meteorológico. Allí, los desarrolladores de múltiples paquetes como `Py-ART`, `Wradlib`, `Baltrad`, entre otros, llegaron a un consenso:\n",
    "\n",
    "> 🧩 Para maximizar la colaboración entre proyectos y facilitar el trabajo de la comunidad, se necesitaba una librería **única y centralizada** dedicada exclusivamente a **leer e interpretar datos de radar**.\n",
    "\n",
    "Así nació el proyecto **Xradar**, que tiene como objetivo:\n",
    "\n",
    "- Leer múltiples formatos de radar (e.g. SIGMET, Rainbow, NEXRAD, Gamic).\n",
    "- Exportar datos en estándares reconocidos como **ODIM_H5** y **CfRadial**.\n",
    "- Utilizar como modelo de memoria la librería `xarray`, siguiendo el formato autodescriptivo **CfRadial 2.1 / FM301** impulsada por la **WMO**.\n",
    "\n",
    "📦 Esto permite que cualquier librería que trabaje con `xarray` (como [Py-ART](http://doi.org/10.5334/jors.119), [Wradlib](https://doi.org/10.5194/hess-17-863-2013), o herramientas personalizadas) pueda **leer, manipular y escribir datos de radar de forma interoperable y escalable**.\n",
    "\n",
    "🧠 En resumen, **Xradar actúa como el punto de entrada unificado para el procesamiento moderno de datos de radar**, facilitando el desarrollo modular y colaborativo.\n",
    "\n",
    "👉 Más información sobre este estándar y la interoperabilidad se puede encontrar en la iniciativa [openradarscience](https://openradarscience.org) y el grupo técnico [JET-OWR](https://community.wmo.int/en/activities-and-programmes/joint-expert-team-operational-weather-radar)."
   ]
  },
  {
   "cell_type": "markdown",
   "metadata": {},
   "source": [
    "### 3.2 Lectura de datos con `open_iris_datatree` 📂\n",
    "\n",
    "Xradar utiliza la función `open_iris_datatree` para cargar archivos en formato **SIGMET/IRIS** dentro de un modelo de árbol jerárquico (`xarray.DataTree`). Cada volumen de elevación (`sweep`) se convierte en un nodo hijo, lo que permite navegar fácilmente entre escaneos.\n",
    "\n",
    "🔍 Este enfoque facilita la visualización, selección y análisis de datos individuales por barrido (elevación)."
   ]
  },
  {
   "cell_type": "code",
   "execution_count": null,
   "metadata": {},
   "outputs": [],
   "source": [
    "import xradar as xd\n",
    "\n",
    "# Ruta del archivo SIGMET\n",
    "archivo = \"../data/CAR220809191504.RAWDSX2\"\n",
    "\n",
    "# Lectura del archivo usando Xradar\n",
    "radar_xd = xd.io.open_iris_datatree(archivo)\n",
    "radar_xd"
   ]
  },
  {
   "cell_type": "markdown",
   "metadata": {},
   "source": [
    "#### 📘 ¿Soporta otros formatos además de SIGMET/IRIS?\n",
    "\n",
    "¡Sí! Xradar es compatible con múltiples formatos de radar como `ODIM_H5`, `CfRadial1/2`, `Rainbow`, `NEXRAD Level II`, entre otros.\n",
    "\n",
    "Para ver una lista completa de formatos soportados y sus respectivas funciones de carga, consulta la documentación oficial aquí:\n",
    "🔗 [Xradar Importers — Documentación Oficial](https://docs.openradarscience.org/projects/xradar/en/stable/importers.html)"
   ]
  },
  {
   "cell_type": "markdown",
   "metadata": {},
   "source": [
    "### 3.3 🧬 Modelo de datos jerárquico CfRadial2.1/FM301\n",
    "\n",
    "Aprovechando la estructura jerárquica basada en el formato Climate and Forecast (CF), descrita por el estándar **FM301** y respaldada por la Organización Meteorológica Mundial (**WMO**), se desarrolló un modelo de datos abierto y eficiente para organizar, gestionar y almacenar datos de radar en la nube. Este enfoque está alineado con los principios de **Analysis-Ready Cloud-Optimized (ARCO)**, facilitando el acceso e interoperabilidad.\n",
    "\n",
    "#### 🌐 Estándar CfRadial2.1/FM301\n",
    "\n",
    "`Xradar` utiliza objetos de tipo `xarray.DataTree` para organizar los barridos del radar dentro de una estructura jerárquica. Cada barrido (sweep) se representa como un `xarray.Dataset` que contiene tanto los datos científicos como sus metadatos y coordenadas asociadas.\n",
    "\n",
    "📷 A continuación se muestra una representación gráfica del modelo jerárquico FM301/CfRadial2.1:"
   ]
  },
  {
   "cell_type": "markdown",
   "metadata": {},
   "source": [
    "```{figure} https://github.com/openradar/erad2024/raw/main/notebooks/images/CfRadial2.1.svg\n",
    ":name: fig-cfradial\n",
    ":width: 350px\n",
    ":align: center\n",
    "\n",
    "Diagrama del modelo jerárquico CfRadial2.1/FM301 utilizado por Xradar."
   ]
  },
  {
   "cell_type": "markdown",
   "metadata": {},
   "source": [
    "Este diseño permite:\n",
    "\n",
    "- Acceso ordenado a múltiples barridos (elevaciones) dentro de un solo volumen\n",
    "- Compatibilidad con formatos estandarizados y optimizados para la nube\n",
    "- Interoperabilidad con otras librerías como `pyart`, `wradlib`, y herramientas de análisis geoespacial"
   ]
  },
  {
   "cell_type": "markdown",
   "metadata": {},
   "source": [
    "### 3.4 Exploración del `DataTree` y estructura de barridos 🧭\n",
    "\n",
    "Una vez que cargamos nuestros datos radar con `xradar`, obtenemos un objeto tipo `xarray.DataTree`, que representa una estructura jerárquica del volumen radar. Cada barrido (`sweep`) se representa como un grupo hijo y contiene un conjunto de datos (`xarray.Dataset`) con variables científicas, coordenadas y atributos relevantes.\n",
    "\n",
    "🔎 Esta estructura nos permite navegar y acceder a diferentes componentes del volumen de radar de manera ordenada y legible."
   ]
  },
  {
   "cell_type": "markdown",
   "metadata": {},
   "source": [
    "#### 📁 Nivel raíz (`/`)\n",
    "En el nivel raíz (`/`) se encuentran los **atributos globales** del volumen de radar, se muestra acontinuación:\n"
   ]
  },
  {
   "cell_type": "code",
   "execution_count": null,
   "metadata": {},
   "outputs": [],
   "source": [
    "radar_xd[\"/\"].ds"
   ]
  },
  {
   "cell_type": "markdown",
   "metadata": {},
   "source": [
    "#### 🌪️ Nivel de barridos individuales (`/sweep_0`, `/sweep_1`, …)\n",
    "Cada grupo `/sweep_i` representa un **barrido** a un ángulo de elevación específico. Aquí se encuentra la mayor parte de los datos científicos:"
   ]
  },
  {
   "cell_type": "code",
   "execution_count": null,
   "metadata": {},
   "outputs": [],
   "source": [
    "sweep0 = radar_xd[\"sweep_0\"]\n",
    "sweep0"
   ]
  },
  {
   "cell_type": "markdown",
   "metadata": {},
   "source": [
    "Esto nos devuelve un nuevo nodo del árbol (`DataTree`) y no directamente el set de datos (`Dataset`)."
   ]
  },
  {
   "cell_type": "markdown",
   "metadata": {},
   "source": [
    "```{admonition} Importante\n",
    ":class: warning\n",
    "\n",
    "Para acceder al `xarray.Dataset` que contiene los datos del barrido, debes usar `.ds` al final:\n",
    "\n",
    "```python\n",
    "sweep0_dataset = radar_xd[\"sweep_0\"].ds\n"
   ]
  },
  {
   "cell_type": "code",
   "execution_count": null,
   "metadata": {},
   "outputs": [],
   "source": [
    "sweep0_dataset = radar_xd[\"sweep_0\"].ds\n",
    "sweep0_dataset"
   ]
  },
  {
   "cell_type": "markdown",
   "metadata": {},
   "source": [
    "#### 📡  Nivel de Variables individuales (`DBZH`, `RHOHV`, …)\n",
    "En el nivel más profundo del modelo jerárquico de `Xradar` (también llamado nivel hoja del árbol DataTree), encontramos las variables científicas individuales contenidas en cada barrido (`sweep`).\n",
    "\n",
    "Estas variables incluyen productos como:\n",
    "\n",
    "- `DBZH`: Reflectividad horizontal\n",
    "- `ZDR`: Reflectividad diferencial\n",
    "- `RHOHV`: Correlación cruzada\n",
    "- `KDP`: Gradiente de fase diferencial\n",
    "- `VRADH`: Velocidad radial\n",
    "- `WRADH`: Ancho espectral"
   ]
  },
  {
   "cell_type": "code",
   "execution_count": null,
   "metadata": {},
   "outputs": [],
   "source": [
    "radar_xd[\"sweep_0/DBZH\"]"
   ]
  },
  {
   "cell_type": "markdown",
   "metadata": {},
   "source": [
    "Estas variables contienen los valores físicos medidos por el radar y están organizadas sobre las dimensiones:\n",
    "\n",
    "- `azimuth` : direcciones del haz de radar (ej. 0° a 360°)\n",
    "- `range` : distancias radiales desde el radar (en metros)"
   ]
  },
  {
   "cell_type": "markdown",
   "metadata": {},
   "source": [
    "🧾 **Metadatos CF-Compliant** (`attrs`):\n",
    "\n",
    "Cada variable posee atributos normalizados bajo las convenciones **CF (Climate and Forecast)** que facilitan la interoperabilidad:\n",
    "\n",
    "```python\n",
    "standard_name: radar_equivalent_reflectivity_factor_h\n",
    "units: dBZ\n",
    "long_name: Equivalent reflectivity factor H\n",
    "```"
   ]
  },
  {
   "cell_type": "markdown",
   "metadata": {},
   "source": [
    "### 3.5 🎨 Visualización de variables radar\n",
    "\n",
    "Una de las ventajas de trabajar con `xarray` es su capacidad de generar visualizaciones de manera sencilla usando el método `.plot()`, sin necesidad de configurar manualmente `matplotlib`.\n"
   ]
  },
  {
   "cell_type": "markdown",
   "metadata": {},
   "source": [
    "#### 📐 Visualización en coordenadas nativas (`azimuth`, `range`)\n",
    "\n",
    "En el caso de datos de radar, podemos visualizar variables como la reflectividad (`DBZH`) directamente desde un `DataArray`. Sin embargo, por defecto los datos están organizados en coordenadas rectangulares (`azimuth`, `range`), no polares ni geográficas."
   ]
  },
  {
   "cell_type": "code",
   "execution_count": null,
   "metadata": {},
   "outputs": [],
   "source": [
    "# importamos cmweather para acceder a la paleta \"ChaseSpectral\"\n",
    "import cmweather\n",
    "\n",
    "\n",
    "radar_xd[\"sweep_0\"][\"DBZH\"].plot(\n",
    "    cmap=\"ChaseSpectral\", \n",
    "    vmin=-10, \n",
    "    vmax=60\n",
    ")"
   ]
  },
  {
   "cell_type": "markdown",
   "metadata": {},
   "source": [
    "Este gráfico muestra los datos en una cuadrícula rectangular, con `azimuth` en el eje vertical y `range` en el eje horizontal.\n",
    "No representa una vista polar ni georreferenciada.\n",
    "\n",
    ":::{admonition} 🔎 Nota importante\n",
    "\n",
    "Nuestro `DataArray `tiene como dimensiones `azimuth` y `range` , por lo que la visualización por defecto es una malla rectangular.\n",
    "Para representar los datos en coordenadas cartesianas relativas al radar (por ejemplo en kilómetros desde el centro del radar), debemos aplicar georreferenciación.\n"
   ]
  },
  {
   "cell_type": "markdown",
   "metadata": {},
   "source": [
    "#### 🌍 Visualización georreferenciada (`x`, `y`, `z`)\n",
    "\n",
    "Para obtener una vista espacial, primero aplicamos georreferenciación al volumen usando:"
   ]
  },
  {
   "cell_type": "code",
   "execution_count": null,
   "metadata": {},
   "outputs": [],
   "source": [
    "radar_geo = radar_xd.xradar.georeference()\n",
    "radar_geo[\"sweep_0\"]"
   ]
  },
  {
   "cell_type": "markdown",
   "metadata": {},
   "source": [
    "Esto agrega coordenadas espaciales (`x`, `y` y `z`) a los datos, permitiendo representarlos en un plano cartesiano relativo a la posición del radar."
   ]
  },
  {
   "cell_type": "code",
   "execution_count": null,
   "metadata": {},
   "outputs": [],
   "source": [
    "radar_geo[\"sweep_0\"][\"DBZH\"].plot(\n",
    "    x=\"x\", \n",
    "    y=\"y\", \n",
    "    cmap=\"ChaseSpectral\", \n",
    "    vmin=-10, \n",
    "    vmax=60\n",
    ");\n"
   ]
  },
  {
   "cell_type": "markdown",
   "metadata": {},
   "source": [
    "Ahora sí obtenemos una vista más representativa de la escena observada por el radar, ideal para análisis geoespaciales."
   ]
  },
  {
   "cell_type": "markdown",
   "metadata": {},
   "source": [
    "### 3.6 ✂️ Selección de datos (Slicing)\n",
    "\n",
    "Una vez que tenemos los datos georreferenciados, podemos aprovechar las coordenadas para seleccionar subconjuntos específicos, por ejemplo:\n",
    "\n",
    "- Un rango de ángulos (`azimuth`)\n",
    "- Una distancia determinada (`range`)\n",
    "- O incluso combinaciones de ambas\n",
    "\n",
    "Esto es útil para enfocar el análisis en una región particular del barrido de radar.\n"
   ]
  },
  {
   "cell_type": "markdown",
   "metadata": {},
   "source": [
    "#### 🔍 Selección por rango de ángulos\n",
    "\n",
    "Supongamos que queremos visualizar los datos entre 40° y 120° de azimuth:\n"
   ]
  },
  {
   "cell_type": "code",
   "execution_count": null,
   "metadata": {},
   "outputs": [],
   "source": [
    "radar_geo[\"sweep_0\"][\"DBZH\"].sel(\n",
    "    azimuth=slice(30, 120)\n",
    ").plot(\n",
    "    x=\"x\", \n",
    "    y=\"y\", \n",
    "    cmap=\"ChaseSpectral\", \n",
    "    vmin=-10, \n",
    "    vmax=60\n",
    ");"
   ]
  },
  {
   "cell_type": "markdown",
   "metadata": {},
   "source": [
    "#### 📏 Selección por distancia (`range`)\n",
    "\n",
    "También podemos limitar la visualización a una distancia máxima, por ejemplo, los primeros 100 km desde el radar:\n"
   ]
  },
  {
   "cell_type": "code",
   "execution_count": null,
   "metadata": {},
   "outputs": [],
   "source": [
    "radar_geo[\"sweep_0\"][\"DBZH\"].sel(\n",
    "    range=slice(0, 100_000)\n",
    ").plot(\n",
    "    x=\"x\", \n",
    "    y=\"y\", \n",
    "    cmap=\"ChaseSpectral\", \n",
    "    vmin=-10, \n",
    "    vmax=60\n",
    ");"
   ]
  },
  {
   "cell_type": "markdown",
   "metadata": {},
   "source": [
    "#### 🔍 Selección combinada de `azimuth` y `range`\n",
    "Las selecciones se pueden combinar fácilmente. Por ejemplo, un sector de 20° a 120° de azimuth y un rango de 25 hasta 50 km:"
   ]
  },
  {
   "cell_type": "code",
   "execution_count": null,
   "metadata": {},
   "outputs": [],
   "source": [
    "radar_geo[\"sweep_0\"][\"DBZH\"].sel(\n",
    "    azimuth=slice(20, 120),\n",
    "    range=slice(25_000, 50_000)\n",
    ").plot(x=\"x\", \n",
    "       y=\"y\", \n",
    "       cmap=\"ChaseSpectral\", \n",
    "       vmin=-10, \n",
    "       vmax=60\n",
    "      );"
   ]
  },
  {
   "cell_type": "markdown",
   "metadata": {},
   "source": [
    "Estas herramientas de **slicing** te permiten reducir el volumen de datos visualizado o analizado, y son especialmente útiles para estudios de casos puntuales o fenómenos meteorológicos localizados."
   ]
  },
  {
   "cell_type": "markdown",
   "metadata": {},
   "source": [
    "#### 📡 Corte radial en un solo azimuth\n",
    "\n",
    "También podemos visualizar cómo varía la reflectividad a lo largo del **rango** para un solo valor de **azimuth**. Esto permite observar el perfil horizontal de reflectividad en una dirección específica:"
   ]
  },
  {
   "cell_type": "code",
   "execution_count": null,
   "metadata": {
    "scrolled": true
   },
   "outputs": [],
   "source": [
    "radar_xd[\"sweep_0\"][\"DBZH\"].sel(azimuth=55, method=\"nearest\").plot();"
   ]
  },
  {
   "cell_type": "markdown",
   "metadata": {},
   "source": [
    "### 3.6 Acceso y visualización de variables polarimétricas 🌈\n",
    "\n",
    "Además de la reflectividad (`DBZH`), los radares polarimétricos generan otras variables que nos permiten obtener más información sobre el tipo de precipitación, el tamaño de las gotas, o la presencia de granizo.\n"
   ]
  },
  {
   "cell_type": "markdown",
   "metadata": {},
   "source": [
    "#### 🎨 Reflectividad Diferencial (ZDR)\n",
    "\n",
    "`ZDR` compara la señal horizontal vs. vertical del radar. Valores positivos indican gotas achatadas (lluvia), mientras que valores cercanos a cero o negativos pueden estar asociados con granizo o nieve."
   ]
  },
  {
   "cell_type": "code",
   "execution_count": null,
   "metadata": {},
   "outputs": [],
   "source": [
    "radar_xd[\"sweep_0\"][\"ZDR\"].plot(\n",
    "    x=\"x\", y=\"y\",\n",
    "    cmap=\"jet\",\n",
    "    vmin=-1, vmax=5,\n",
    ")"
   ]
  },
  {
   "cell_type": "markdown",
   "metadata": {},
   "source": [
    "#### 💨 Velocidad radial (VRADH)\n",
    "\n",
    "`VRADH` representa la componente del viento en dirección del haz del radar. Los valores negativos indican acercamiento hacia el radar, y positivos, alejamiento. Este producto es clave para estimar flujos de viento, vórtices o firmas de tornados.\n",
    "\n"
   ]
  },
  {
   "cell_type": "code",
   "execution_count": null,
   "metadata": {
    "scrolled": true
   },
   "outputs": [],
   "source": [
    "radar_xd[\"sweep_0\"][\"VRADH\"].plot(\n",
    "    x=\"x\", y=\"y\",\n",
    "    cmap=\"twilight_shifted\",\n",
    "    vmin=-30,\n",
    "    vmax=30,\n",
    ");"
   ]
  },
  {
   "cell_type": "markdown",
   "metadata": {},
   "source": [
    "### 3.7 Exportar el árbol completo como Zarr 💾\n",
    "\n",
    "Una vez que los datos del radar han sido organizados en un objeto `xarray.DataTree` utilizando `Xradar`, podemos exportar toda la estructura —incluyendo metadatos, barridos y jerarquías— en un solo paso usando el formato **Zarr versión 2**.\n",
    "\n",
    "---\n",
    "\n",
    "#### 💡 ¿Por qué usar Zarr?\n",
    "\n",
    "Zarr es un formato de almacenamiento optimizado para:\n",
    "\n",
    "- Grandes volúmenes de datos multidimensionales\n",
    "- Acceso paralelo y distribuido (ideal para HPC o la nube)\n",
    "- Integración con herramientas como **xarray**, **dask**, y **kerchunk**\n",
    "- Almacenamiento en buckets como S3 o GCS\n"
   ]
  },
  {
   "cell_type": "markdown",
   "metadata": {},
   "source": [
    "#### 💾 Guardar el `DataTree` completo en Zarr"
   ]
  },
  {
   "cell_type": "code",
   "execution_count": null,
   "metadata": {},
   "outputs": [],
   "source": [
    "# Exportar todo el árbol jerárquico en formato Zarr versión 2\n",
    "radar_xd.to_zarr(\"../data/radar.zarr\", mode=\"w\", zarr_version=2)"
   ]
  },
  {
   "cell_type": "markdown",
   "metadata": {},
   "source": [
    "📁 Esto creará una carpeta `radar.zarr` con todos los niveles de metadatos y datos individuales, estructurados según el modelo FM301/CfRadial2.1.\n"
   ]
  },
  {
   "cell_type": "markdown",
   "metadata": {},
   "source": [
    "#### 📥 Leer nuevamente el archivo Zarr\n",
    "Podemos traer los datos devuelta de la siguiente manera"
   ]
  },
  {
   "cell_type": "code",
   "execution_count": null,
   "metadata": {},
   "outputs": [],
   "source": [
    "import xarray as xr\n",
    "\n",
    "# Cargar el DataTree desde Zarr\n",
    "radar_zarr = xr.open_datatree(\"../data/radar.zarr\")\n",
    "radar_zarr"
   ]
  },
  {
   "cell_type": "markdown",
   "metadata": {},
   "source": [
    "Con esta estructura jerárquica puedes navegar entre los distintos barridos (sweep_0, sweep_1, etc.), acceder a sus variables, y trabajar con los datos de manera eficiente."
   ]
  },
  {
   "cell_type": "markdown",
   "metadata": {},
   "source": [
    "---"
   ]
  },
  {
   "cell_type": "markdown",
   "metadata": {},
   "source": [
    "## ✅ Conclusiones\n",
    "\n",
    "En este cuadernillo exploramos el uso de **Xradar**, una librería clave en el ecosistema de ciencia abierta para datos de radar meteorológico.\n",
    "\n",
    "🔍 A lo largo del módulo, aprendiste a:\n",
    "\n",
    "- Leer datos en formato SIGMET/IRIS usando `open_iris_datatree`.\n",
    "- Explorar la estructura jerárquica `xarray.DataTree` compatible con el modelo FM301/CfRadial2.1.\n",
    "- Acceder a variables individuales (`DBZH`, `ZDR`, `VRADH`, etc.) y sus metadatos.\n",
    "- Visualizar datos radar de forma rápida, tanto en coordenadas de radar como en coordenadas georreferenciadas.\n",
    "- Realizar slicing y filtrado de datos usando coordenadas físicas (`azimuth`, `range`, `x`, `y`).\n",
    "- Exportar datos a formato **Zarr**, optimizado para procesamiento distribuido y almacenamiento en la nube.\n",
    "\n",
    "📘 **¿Qué sigue?**\n",
    "\n",
    "Ahora que dominas el uso de Xradar como punto de entrada, puedes explorar librerías complementarias como:\n",
    "\n",
    "- [`Py-ART`](https://arm-doe.github.io/pyart/): para procesamiento avanzado, correcciones y análisis estadístico.\n",
    "- [`Wradlib`](https://docs.wradlib.org/): para procesamiento físico, filtrado y estimación cuantitativa de precipitación.\n",
    "- [`Radar Cookbook`](https://doi.org/10.5281/zenodo.8075855): Para conocer mas sobre como usar Py-ART\n",
    "- Herramientas geoespaciales como `cartopy` y `geopandas` para generar mapas y análisis geográficos.\n",
    "\n",
    "🛰️ **Xradar te ofrece una base sólida y reproducible para el análisis moderno de radar meteorológico.**\n"
   ]
  },
  {
   "cell_type": "code",
   "execution_count": null,
   "metadata": {},
   "outputs": [],
   "source": []
  }
 ],
 "metadata": {
  "kernelspec": {
   "display_name": "Python 3 (ipykernel)",
   "language": "python",
   "name": "python3"
  },
  "language_info": {
   "codemirror_mode": {
    "name": "ipython",
    "version": 3
   },
   "file_extension": ".py",
   "mimetype": "text/x-python",
   "name": "python",
   "nbconvert_exporter": "python",
   "pygments_lexer": "ipython3",
   "version": "3.13.3"
  },
  "nbdime-conflicts": {
   "local_diff": [
    {
     "diff": [
      {
       "diff": [
        {
         "key": 0,
         "op": "addrange",
         "valuelist": [
          "Python 3"
         ]
        },
        {
         "key": 0,
         "length": 1,
         "op": "removerange"
        }
       ],
       "key": "display_name",
       "op": "patch"
      }
     ],
     "key": "kernelspec",
     "op": "patch"
    }
   ],
   "remote_diff": [
    {
     "diff": [
      {
       "diff": [
        {
         "key": 0,
         "op": "addrange",
         "valuelist": [
          "Python3"
         ]
        },
        {
         "key": 0,
         "length": 1,
         "op": "removerange"
        }
       ],
       "key": "display_name",
       "op": "patch"
      }
     ],
     "key": "kernelspec",
     "op": "patch"
    }
   ]
  },
  "toc-autonumbering": false
 },
 "nbformat": 4,
 "nbformat_minor": 4
}
