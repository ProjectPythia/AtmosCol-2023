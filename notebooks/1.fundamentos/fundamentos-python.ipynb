{
 "cells": [
  {
   "cell_type": "markdown",
   "metadata": {},
   "source": [
    "<img src=\"../images/logos/jupyter_python_logo.png\" width=700 alt=\"Python-Jlab-logo\"></img>"
   ]
  },
  {
   "cell_type": "markdown",
   "metadata": {},
   "source": [
    "# Fundamentos de Python y JupyterLab"
   ]
  },
  {
   "cell_type": "markdown",
   "metadata": {},
   "source": [
    "---"
   ]
  },
  {
   "cell_type": "markdown",
   "metadata": {},
   "source": [
    "## Introducción\n",
    "En este cuadernillo (Notebook) aprenderemos:\n",
    "\n",
    "1. Introducción a Python y JupyterLab\n",
    "1. Tipos de Variables\n",
    "2. Operadores lógicos\n",
    "3. Funciones y métodos"
   ]
  },
  {
   "cell_type": "markdown",
   "metadata": {},
   "source": [
    "## Prerequisitos\n",
    "| Conceptos | Importancia | Notas |\n",
    "| --- | --- | --- |\n",
    "| [Introducción a Python](https://foundations.projectpythia.org/foundations/getting-started-python.html) | Útil | Información complementaria |\n",
    "| [Introducción a Jupyter Lab](https://foundations.projectpythia.org/foundations/getting-started-jupyter.html) | Útil | Información complementaria |\n",
    "\n",
    "- **Tiempo de aprendizaje**: 30 minutos"
   ]
  },
  {
   "cell_type": "markdown",
   "metadata": {},
   "source": [
    "---"
   ]
  },
  {
   "cell_type": "markdown",
   "metadata": {},
   "source": [
    "## 1. Python"
   ]
  },
  {
   "cell_type": "markdown",
   "metadata": {},
   "source": [
    "Python es un lenguaje de programación de alto nivel interpretado y orientado a objetos, similar a otros lenguajes pero con la ventaja que es **gratuito** y de **código abierto**."
   ]
  },
  {
   "cell_type": "markdown",
   "metadata": {},
   "source": [
    "### Lenguajes de alto nivel"
   ]
  },
  {
   "cell_type": "markdown",
   "metadata": {
    "jp-MarkdownHeadingCollapsed": true
   },
   "source": [
    "Al igual que otros lenguajes como MatLab, IDL y NCL, Python es un lenguaje de alto nivel que tiene funciones autoncontenidas, estructura de datos y otras utilidades que permiten mayor productividad usando menos lineas de código comparado con otros lenguajes de programacion como C, C++ o Fortran\n",
    "\n",
    "Ventajas:\n",
    "* Menos lineas de código\n",
    "* Facilidad de programación\n",
    "\n",
    "Desventajas:\n",
    "* Menos velocidad de procesamiento\n",
    "* Aumento en el consumo de recursos de memoria"
   ]
  },
  {
   "cell_type": "markdown",
   "metadata": {},
   "source": [
    "### Código abierto"
   ]
  },
  {
   "cell_type": "markdown",
   "metadata": {},
   "source": [
    "Python es un lenguaje desarrollado por una comunidad científica. Cualquier persona con conocimientos en programación puede realizar aportes y contribuir con la implementación de nuevas herramientas. El termino **código abierto** implica que Python es versatil y puede adaptarse a cualquier necesidad de la comunidad. En general la comunidad científica ha desarrollado una gran cantidad de paquetes que lo hacen aún mas útil y robusto"
   ]
  },
  {
   "cell_type": "markdown",
   "metadata": {},
   "source": [
    "## 2. JupyterLab"
   ]
  },
  {
   "cell_type": "markdown",
   "metadata": {},
   "source": [
    "Es un projecto, ademas de una comunidad, cuyo objetivo es \"desarrollar software de código abierto, estándares abiertos y servicios para informática interactiva en docenas de lenguajes de programación\"\n",
    "\n",
    "Componentes principales:\n",
    "1. Jupyter Notebooks\n",
    "2. Jupyter Kernels\n",
    "3. Jupyter Lab\n",
    "4. Jupyter Hub\n",
    "\n",
    "La ejecución de Jupyter puede llevarse a acabo de manera remota o local usando **Cuadernillos (Notebooks)** (archivos .ipynb). Estos cuadernillos nos permiten ejecutar código, ecuaciones en $LaTex$, visualización de gráficos e imagenes y texto. Jupyter permite ejecución de multiples lenguajes de programación de **Julia**, **Python** y **R**. "
   ]
  },
  {
   "cell_type": "markdown",
   "metadata": {},
   "source": [
    "### 2.1 Interfaz de JupyterLab"
   ]
  },
  {
   "cell_type": "markdown",
   "metadata": {},
   "source": [
    "JupyterLab es un entorno modular interactivo de programación. \n",
    "\n",
    "Sus principales componentes son:\n",
    "* Barra de menús en la parte superior\n",
    "* Explorador de archivos en la izquierda\n",
    "* Area de trabajo en la parte derecha"
   ]
  },
  {
   "cell_type": "markdown",
   "metadata": {},
   "source": [
    "<img src=\"../images/interface_jupyterlab.png\" width=800 alt=\"Jlab-logo\"></img>"
   ]
  },
  {
   "cell_type": "markdown",
   "metadata": {},
   "source": [
    "En general hay una excelente documentación en la página web de [JupyterLab](https://jupyterlab.readthedocs.io/en/stable/index.html). A continuación, compartimos algunos links útiles para complementar y no duplicar la información:\n",
    "\n",
    "* [Interfaz de JupyterLab](https://jupyterlab.readthedocs.io/en/stable/user/interface.html)\n",
    "* [Trabajar con archivos](https://jupyterlab.readthedocs.io/en/stable/user/files.html)\n",
    "* [Editor de texto](https://jupyterlab.readthedocs.io/en/stable/user/file_editor.html)\n",
    "* [Cuadernillos (Notebooks)](https://jupyterlab.readthedocs.io/en/stable/user/notebook.html)\n",
    "* [Terminales de comandos](https://jupyterlab.readthedocs.io/en/stable/user/terminal.html)"
   ]
  },
  {
   "cell_type": "markdown",
   "metadata": {},
   "source": [
    "### 2.2 Ejecución de comandos en JupyterLab"
   ]
  },
  {
   "cell_type": "markdown",
   "metadata": {},
   "source": [
    "* Botón <kbd>\"Play\"</kbd> en la bandeja superior.\n",
    "* <kbd>Ctrl</kbd> + <kbd>Enter</kbd> - solo ejecuta la celda actual\n",
    "* <kbd>Shift</kbd>+<kbd>Enter</kbd> - ejecuta la celda + mueve a la celda inferior\n",
    "* <kbd>Esc</kbd> / <kbd>Enter</kbd> - transición entre la función de edición y la navegación en el entorno\n",
    "* <kbd>D</kbd> + <kbd>D</kbd> - eliminar la celda seleccionada\n",
    "* <kbd>A</kbd> - agregar nueva celda en la parte superior\n",
    "* <kbd>B</kbd> - agregar nueva celda abajo\n",
    "* <kbd>Tab</kbd> - autocompletado / descripción del método\n",
    "* <kbd>Shift</kbd> + <kbd>Up</kbd> / <kbd>Down</kbd> - selección de celdas múltiples\n",
    "* <kbd>Shift</kbd> + <kbd>M</kbd> - fusionar celdas seleccionadas\n",
    "* <kbd>M</kbd> / <kbd>Y</kbd>  cambia la celda de modo ```markdown``` / ```code```\n",
    "\n",
    "Para información sobre más comandos en JupyterLab puedes hacer click [acá](https://jupyterlab.readthedocs.io/en/stable/user/commands.html)"
   ]
  },
  {
   "cell_type": "markdown",
   "metadata": {},
   "source": [
    "### 2.3 Acceso a documentación "
   ]
  },
  {
   "cell_type": "code",
   "execution_count": null,
   "metadata": {},
   "outputs": [],
   "source": [
    "import numpy as np"
   ]
  },
  {
   "cell_type": "code",
   "execution_count": null,
   "metadata": {},
   "outputs": [],
   "source": [
    "np?"
   ]
  },
  {
   "cell_type": "code",
   "execution_count": null,
   "metadata": {},
   "outputs": [],
   "source": [
    "#np.arange?"
   ]
  },
  {
   "cell_type": "markdown",
   "metadata": {},
   "source": [
    "### 2.4 Gráficos y figuras dentro del entorno "
   ]
  },
  {
   "cell_type": "markdown",
   "metadata": {},
   "source": [
    "Podemos generar y visualizar gráficos usando nuestros datos."
   ]
  },
  {
   "cell_type": "code",
   "execution_count": null,
   "metadata": {},
   "outputs": [],
   "source": [
    "import matplotlib.pyplot as plt\n",
    "x = np.arange(-10, 11)\n",
    "plt.plot(x, x**2)\n",
    "plt.show()"
   ]
  },
  {
   "cell_type": "markdown",
   "metadata": {},
   "source": [
    "También podemos incluir imágenes externas y visalizarlas en celdas."
   ]
  },
  {
   "cell_type": "markdown",
   "metadata": {},
   "source": [
    "<img src=\"../images/random_fig.jpg\" width=500 alt=\"random_fig\"></img>"
   ]
  },
  {
   "cell_type": "markdown",
   "metadata": {},
   "source": [
    "### 2.5 Lineas de comando"
   ]
  },
  {
   "cell_type": "markdown",
   "metadata": {},
   "source": [
    "Los cuadernillos/Notebooks nos permiten interactuar con la teminal y ejecutar lineas de comando usando ```!``` "
   ]
  },
  {
   "cell_type": "code",
   "execution_count": null,
   "metadata": {},
   "outputs": [],
   "source": [
    "# !dir\n",
    "# !ls"
   ]
  },
  {
   "cell_type": "markdown",
   "metadata": {},
   "source": [
    "\n",
    "### 2.6 $\\LaTeX$"
   ]
  },
  {
   "cell_type": "markdown",
   "metadata": {},
   "source": [
    "Podemos renderizar texto usando formato $\\LaTeX$ "
   ]
  },
  {
   "cell_type": "markdown",
   "metadata": {},
   "source": [
    "$$ P(A \\mid B) = \\frac{P(B \\mid A) \\, P(A)}{P(B)} $$"
   ]
  },
  {
   "cell_type": "markdown",
   "metadata": {},
   "source": [
    "## 3. Programacion científica con JupyterLab y Python"
   ]
  },
  {
   "cell_type": "markdown",
   "metadata": {},
   "source": [
    "En Python, un programa puede ser una sola línea de código"
   ]
  },
  {
   "cell_type": "code",
   "execution_count": null,
   "metadata": {},
   "outputs": [],
   "source": [
    "print(\"Hola mundo!\")"
   ]
  },
  {
   "cell_type": "markdown",
   "metadata": {},
   "source": [
    "### 3.1 Tipos de variables en python "
   ]
  },
  {
   "cell_type": "markdown",
   "metadata": {},
   "source": [
    "#### Flotante/Decimal (`float`)\n",
    "\n",
    "Tiene una notación decimal"
   ]
  },
  {
   "cell_type": "code",
   "execution_count": null,
   "metadata": {},
   "outputs": [],
   "source": [
    "pi =  3.1416"
   ]
  },
  {
   "cell_type": "code",
   "execution_count": null,
   "metadata": {},
   "outputs": [],
   "source": [
    "type(pi)"
   ]
  },
  {
   "cell_type": "markdown",
   "metadata": {},
   "source": [
    "#### Enteros (`int`)\n",
    "\n",
    "Numeros que no tienen parte decimal."
   ]
  },
  {
   "cell_type": "code",
   "execution_count": null,
   "metadata": {},
   "outputs": [],
   "source": [
    "a = -14\n",
    "print(type(a))"
   ]
  },
  {
   "cell_type": "markdown",
   "metadata": {},
   "source": [
    "#### Caracter (`str`)\n",
    "\n",
    "Corresponden a variables que estan compuestas por cadenas de carácteres denotados por comillas sencillas `'` o dobles `\"`"
   ]
  },
  {
   "cell_type": "code",
   "execution_count": null,
   "metadata": {},
   "outputs": [],
   "source": [
    "my_string = \"mi mamá me mima\"\n",
    "type(my_string)"
   ]
  },
  {
   "cell_type": "markdown",
   "metadata": {},
   "source": [
    "#### Booleano (`Bool`)\n",
    "\n",
    "Son variables que únicamente toman el valor de falso o verdadero"
   ]
  },
  {
   "cell_type": "code",
   "execution_count": null,
   "metadata": {},
   "outputs": [],
   "source": [
    "a = True"
   ]
  },
  {
   "cell_type": "code",
   "execution_count": null,
   "metadata": {},
   "outputs": [],
   "source": [
    "print(type(a))"
   ]
  },
  {
   "cell_type": "code",
   "execution_count": null,
   "metadata": {},
   "outputs": [],
   "source": [
    "x = 123\n",
    "z = 123.0"
   ]
  },
  {
   "cell_type": "code",
   "execution_count": null,
   "metadata": {},
   "outputs": [],
   "source": [
    "type(x) == type(z)"
   ]
  },
  {
   "cell_type": "markdown",
   "metadata": {},
   "source": [
    "#### Listas\n",
    "\n",
    "Una lista es un contenedor de objetos indicados por corchetes cuadrados:"
   ]
  },
  {
   "cell_type": "code",
   "execution_count": null,
   "metadata": {},
   "outputs": [],
   "source": [
    "my_list = [1, \"mi mamá me mima\", 1 + 0.5j , 3.1416, -1e3]"
   ]
  },
  {
   "cell_type": "code",
   "execution_count": null,
   "metadata": {},
   "outputs": [],
   "source": [
    "my_list"
   ]
  },
  {
   "cell_type": "markdown",
   "metadata": {},
   "source": [
    "Podemos acceder a los elementos en una lista usando el índice"
   ]
  },
  {
   "cell_type": "code",
   "execution_count": null,
   "metadata": {},
   "outputs": [],
   "source": [
    "my_list[1]"
   ]
  },
  {
   "cell_type": "markdown",
   "metadata": {},
   "source": [
    "De igual modo podemos reasignar nuevos valores"
   ]
  },
  {
   "cell_type": "code",
   "execution_count": null,
   "metadata": {},
   "outputs": [],
   "source": [
    "my_list[2] = \"nuevo item\""
   ]
  },
  {
   "cell_type": "code",
   "execution_count": null,
   "metadata": {},
   "outputs": [],
   "source": [
    "my_list"
   ]
  },
  {
   "cell_type": "markdown",
   "metadata": {},
   "source": [
    "#### Diccionarios\n",
    "\n",
    "Un diccionario es una colección de objetos etiquetados . Python usa llaves {} para crear diccionarios:"
   ]
  },
  {
   "cell_type": "code",
   "execution_count": null,
   "metadata": {},
   "outputs": [],
   "source": [
    "arctic = {'animales': 'oso polar, morsas, pinguinos y mas',\n",
    "          'tamaño': 13985000,\n",
    "          'unidades': 'km2',\n",
    "          'temperatura': 'Muy frio'}"
   ]
  },
  {
   "cell_type": "markdown",
   "metadata": {},
   "source": [
    "Para acceder a los datos dentro de una lista debemos usar la etiqueta como se muestra a continuación"
   ]
  },
  {
   "cell_type": "code",
   "execution_count": null,
   "metadata": {},
   "outputs": [],
   "source": [
    "arctic['animales']"
   ]
  },
  {
   "cell_type": "markdown",
   "metadata": {},
   "source": [
    "Podemos agregar nuevos items a la lista de usando etiquetas nuevas"
   ]
  },
  {
   "cell_type": "code",
   "execution_count": null,
   "metadata": {},
   "outputs": [],
   "source": [
    "arctic['ubicacion'] = 'Polo Norte'"
   ]
  },
  {
   "cell_type": "code",
   "execution_count": null,
   "metadata": {},
   "outputs": [],
   "source": [
    "arctic"
   ]
  },
  {
   "cell_type": "markdown",
   "metadata": {},
   "source": [
    "#### Tuplas\n",
    "\n",
    "Están definidas por paréntesis en Python y no se pueden modificar"
   ]
  },
  {
   "cell_type": "code",
   "execution_count": null,
   "metadata": {},
   "outputs": [],
   "source": [
    "my_tuple = (1., 2, 3, 4)"
   ]
  },
  {
   "cell_type": "code",
   "execution_count": null,
   "metadata": {},
   "outputs": [],
   "source": [
    "my_tuple"
   ]
  },
  {
   "cell_type": "code",
   "execution_count": null,
   "metadata": {},
   "outputs": [],
   "source": [
    "try:\n",
    "    my_tuple[1] = 0\n",
    "except TypeError as e:\n",
    "    print(e)"
   ]
  },
  {
   "cell_type": "markdown",
   "metadata": {},
   "source": [
    "#### Sets\n",
    "\n",
    "Los sets en Python retornan una \"listas\" cuyos elementos son únicos, es decir, no existe la repetición."
   ]
  },
  {
   "cell_type": "code",
   "execution_count": null,
   "metadata": {},
   "outputs": [],
   "source": [
    "my_list2 = [1, 2, 2, 3, 4, 5]\n",
    "my_list2"
   ]
  },
  {
   "cell_type": "code",
   "execution_count": null,
   "metadata": {},
   "outputs": [],
   "source": [
    "my_set = set(my_list2)\n",
    "my_set"
   ]
  },
  {
   "cell_type": "markdown",
   "metadata": {},
   "source": [
    "Para agregar un nuevo ítem al set debemos utilizar el método  `add`"
   ]
  },
  {
   "cell_type": "code",
   "execution_count": null,
   "metadata": {},
   "outputs": [],
   "source": [
    "my_set.add(6)"
   ]
  },
  {
   "cell_type": "code",
   "execution_count": null,
   "metadata": {},
   "outputs": [],
   "source": [
    "my_set"
   ]
  },
  {
   "cell_type": "markdown",
   "metadata": {},
   "source": [
    "### 3.2 Operadores lógicos"
   ]
  },
  {
   "cell_type": "markdown",
   "metadata": {},
   "source": [
    "#### Operadores aritméticos\n",
    "\n",
    "Dentro de esta categoria tenemos la suma, resta, multiplicación, división, potenciación, entre otros. "
   ]
  },
  {
   "cell_type": "code",
   "execution_count": null,
   "metadata": {},
   "outputs": [],
   "source": [
    "# suma\n",
    "1 + 50.3"
   ]
  },
  {
   "cell_type": "code",
   "execution_count": null,
   "metadata": {},
   "outputs": [],
   "source": [
    "# resta\n",
    "50 - 20"
   ]
  },
  {
   "cell_type": "code",
   "execution_count": null,
   "metadata": {},
   "outputs": [],
   "source": [
    "# multiplicación\n",
    "2 * 5"
   ]
  },
  {
   "cell_type": "code",
   "execution_count": null,
   "metadata": {},
   "outputs": [],
   "source": [
    "# división\n",
    "10 / 8"
   ]
  },
  {
   "cell_type": "code",
   "execution_count": null,
   "metadata": {},
   "outputs": [],
   "source": [
    "# potenciación\n",
    "2 ** 6"
   ]
  },
  {
   "cell_type": "code",
   "execution_count": null,
   "metadata": {},
   "outputs": [],
   "source": [
    "# división entera\n",
    "10 // 3"
   ]
  },
  {
   "cell_type": "code",
   "execution_count": null,
   "metadata": {},
   "outputs": [],
   "source": [
    "# modulo o residuo\n",
    "10 % 3"
   ]
  },
  {
   "cell_type": "markdown",
   "metadata": {},
   "source": [
    "### 3.3 Flujos de control"
   ]
  },
  {
   "cell_type": "markdown",
   "metadata": {},
   "source": [
    "#### Condicional if (Si)\n",
    "\n",
    "Declaración para decisiones lógicas"
   ]
  },
  {
   "cell_type": "code",
   "execution_count": null,
   "metadata": {},
   "outputs": [],
   "source": [
    "x = 10 \n",
    "mod = x % 2\n",
    "if mod == 0:\n",
    "    print(f'{x} es un número par')\n",
    "else:\n",
    "    print(f'{x} es un número impar')"
   ]
  },
  {
   "cell_type": "markdown",
   "metadata": {},
   "source": [
    "podemos tener multiples condicionales usando `elif`"
   ]
  },
  {
   "cell_type": "code",
   "execution_count": null,
   "metadata": {},
   "outputs": [],
   "source": [
    "w = True"
   ]
  },
  {
   "cell_type": "code",
   "execution_count": null,
   "metadata": {},
   "outputs": [],
   "source": [
    "if type(w) == str:\n",
    "    print(f'w es una cadena de caracteres')\n",
    "elif type(w) == int:\n",
    "    print(f'{x} es un número entero')\n",
    "elif type(w) == float:\n",
    "    print(f'{x} es un número flotante')\n",
    "elif type(w) == bool:\n",
    "    print(f'{x} es un boleano')\n"
   ]
  },
  {
   "cell_type": "markdown",
   "metadata": {},
   "source": [
    "#### While (Mientras)\n",
    "\n",
    "Declaración de bucles con condicionales"
   ]
  },
  {
   "cell_type": "code",
   "execution_count": null,
   "metadata": {},
   "outputs": [],
   "source": [
    "i = 0\n",
    "while i < 3:\n",
    "    print(i)\n",
    "    i = i + 1"
   ]
  },
  {
   "cell_type": "markdown",
   "metadata": {},
   "source": [
    "#### For loop (bucle)\n",
    "\n",
    "Es un iterador o un bucle que repite un proceso o tarea n-veces"
   ]
  },
  {
   "cell_type": "code",
   "execution_count": null,
   "metadata": {},
   "outputs": [],
   "source": [
    "i = 5\n",
    "\n",
    "for i in range(i):\n",
    "    print(i)"
   ]
  },
  {
   "cell_type": "markdown",
   "metadata": {},
   "source": [
    "### 3.4 Funciones\n",
    "\n",
    "Son bloques de código que se pueden reutilizar simplemente llamando a la función"
   ]
  },
  {
   "cell_type": "markdown",
   "metadata": {},
   "source": [
    "Calcular el area de un tríangulo \n",
    "\n",
    "$$ area = \\frac{b * h}{2}$$"
   ]
  },
  {
   "cell_type": "code",
   "execution_count": null,
   "metadata": {},
   "outputs": [],
   "source": [
    "def area_triangulo(b, h):\n",
    "    area = b * h / 2\n",
    "    return area"
   ]
  },
  {
   "cell_type": "markdown",
   "metadata": {},
   "source": [
    "Caculemos el area para un triango de b=3 y h=5"
   ]
  },
  {
   "cell_type": "code",
   "execution_count": null,
   "metadata": {},
   "outputs": [],
   "source": [
    "area_triangulo(b=3, h=5)"
   ]
  },
  {
   "cell_type": "markdown",
   "metadata": {},
   "source": [
    "#### 3.5 Clases \n",
    "\n",
    "Las clases proveen una forma de describir un objeto en programación. Por ejemplo, vamos a describir un objeto figura usando la siguiente clase"
   ]
  },
  {
   "cell_type": "code",
   "execution_count": null,
   "metadata": {},
   "outputs": [],
   "source": [
    "class Figura():\n",
    "    def __init__(self, nombre, num_lados, color, tamanio):\n",
    "        self.nombre = nombre\n",
    "        self.num_lados = num_lados\n",
    "        self.color = color\n",
    "        self.tamanio = tamanio"
   ]
  },
  {
   "cell_type": "markdown",
   "metadata": {},
   "source": [
    "Si queremos hacer la abtracción de un cuadrado podemos definirlo de la siguiente manera"
   ]
  },
  {
   "cell_type": "code",
   "execution_count": null,
   "metadata": {},
   "outputs": [],
   "source": [
    "objeto = Figura(nombre='Cuadrado', num_lados=4, color='rojo', tamanio='grande')"
   ]
  },
  {
   "cell_type": "markdown",
   "metadata": {},
   "source": [
    "Para acceder a cada una de las propiedades de este objeto simplemente utilizamos `.` y llamamos el atributo"
   ]
  },
  {
   "cell_type": "code",
   "execution_count": null,
   "metadata": {},
   "outputs": [],
   "source": [
    "objeto.nombre"
   ]
  },
  {
   "cell_type": "code",
   "execution_count": null,
   "metadata": {},
   "outputs": [],
   "source": [
    "objeto.num_lados"
   ]
  },
  {
   "cell_type": "code",
   "execution_count": null,
   "metadata": {},
   "outputs": [],
   "source": [
    "objeto.tamanio"
   ]
  },
  {
   "cell_type": "markdown",
   "metadata": {},
   "source": [
    "Las clases tambien pueden tener métodos que representan básicamente funciones que pertenecen al objeto"
   ]
  },
  {
   "cell_type": "code",
   "execution_count": null,
   "metadata": {},
   "outputs": [],
   "source": [
    "class Figura():\n",
    "    def __init__(self, nombre, num_lados, color, tamanio):\n",
    "        self.nombre = nombre\n",
    "        self.num_lados = num_lados\n",
    "        self.color = color\n",
    "        self.tamanio = tamanio\n",
    "\n",
    "    # método o funcion que pertenece al objeto\n",
    "    def imprimir_todo(self):\n",
    "        print(f'nombre = {self.nombre}')\n",
    "        print(f'número de lados = {self.num_lados}')\n",
    "        print(f'color = {self.color}')\n",
    "        print(f'tamaño = {self.tamanio}')"
   ]
  },
  {
   "cell_type": "code",
   "execution_count": null,
   "metadata": {},
   "outputs": [],
   "source": [
    "objeto = Figura(nombre='Cuadrado', num_lados=4, color='rojo', tamanio='grande')"
   ]
  },
  {
   "cell_type": "code",
   "execution_count": null,
   "metadata": {},
   "outputs": [],
   "source": [
    "objeto.imprimir_todo()"
   ]
  },
  {
   "cell_type": "markdown",
   "metadata": {},
   "source": [
    "### 3.6 Importar librerias\n",
    "\n",
    "Python es muy popular dentro de la cominidad científica pues utiliza y permite crear paquetes que amplían el lenguaje base de muchas maneras útiles. Para importar librerias en nuestro código en python, solo debemos utilizar la palabra reservada del sistema `import` seguido de la libreria que queremos utilizar. "
   ]
  },
  {
   "cell_type": "code",
   "execution_count": null,
   "metadata": {},
   "outputs": [],
   "source": [
    "import numpy"
   ]
  },
  {
   "cell_type": "markdown",
   "metadata": {},
   "source": [
    "Muchas veces las librerias tienen nombres difíciles de deletrear por lo que es conveniente usar un sobrenombre o un alias cuando escribimos el código. Es lo logramos usando la palabra reservada del sistema `as`"
   ]
  },
  {
   "cell_type": "code",
   "execution_count": null,
   "metadata": {},
   "outputs": [],
   "source": [
    "import numpy as np\n",
    "import pandas as pd\n",
    "import xarray as xr"
   ]
  },
  {
   "cell_type": "markdown",
   "metadata": {},
   "source": [
    "---"
   ]
  },
  {
   "cell_type": "markdown",
   "metadata": {},
   "source": [
    "## Conclusiones\n",
    "\n",
    "En este cuadernillo aprendimos aspectos básicos de la programación usando `Python` y la versatilidad que podemos obtener cuando usamos herramientas como `JupyterLab`. Resaltamos la importancia y el uso de los diferentes tipos de variables, operadores lógicos y flujos de control, así como la manera de importar librerias usando un alias para identificarlas. \n"
   ]
  },
  {
   "cell_type": "markdown",
   "metadata": {},
   "source": [
    "## Fuentes y referencias\n",
    "\n",
    "* Rose, B. E. J., Kent, J., Tyle, K., Clyne, J., Banihirwe, A., Camron, D., May, R., Grover, M., Ford, R. R., Paul, K., Morley, J., Eroglu, O., Kailyn, L., & Zacharias, A. (2023). Pythia Foundations (Version v2023.05.01) [https://doi.org/10.5281/zenodo.7884572]\n",
    "* Abernathey R. (2022) An Introduction to Earth and Environmental Data Science. [https://earth-env-data-science.github.io/intro.html]\n",
    "* JupyterLab Documentation [https://jupyterlab.readthedocs.io/en/stable/index.html]"
   ]
  }
 ],
 "metadata": {
  "kernelspec": {
   "display_name": "Python 3 (ipykernel)",
   "language": "python",
   "name": "python3"
  },
  "language_info": {
   "codemirror_mode": {
    "name": "ipython",
    "version": 3
   },
   "file_extension": ".py",
   "mimetype": "text/x-python",
   "name": "python",
   "nbconvert_exporter": "python",
   "pygments_lexer": "ipython3",
   "version": "3.11.5"
  },
  "nbdime-conflicts": {
   "local_diff": [
    {
     "diff": [
      {
       "diff": [
        {
         "key": 0,
         "op": "addrange",
         "valuelist": [
          "Python 3"
         ]
        },
        {
         "key": 0,
         "length": 1,
         "op": "removerange"
        }
       ],
       "key": "display_name",
       "op": "patch"
      }
     ],
     "key": "kernelspec",
     "op": "patch"
    }
   ],
   "remote_diff": [
    {
     "diff": [
      {
       "diff": [
        {
         "key": 0,
         "op": "addrange",
         "valuelist": [
          "Python3"
         ]
        },
        {
         "key": 0,
         "length": 1,
         "op": "removerange"
        }
       ],
       "key": "display_name",
       "op": "patch"
      }
     ],
     "key": "kernelspec",
     "op": "patch"
    }
   ]
  },
  "toc-autonumbering": false
 },
 "nbformat": 4,
 "nbformat_minor": 4
}
