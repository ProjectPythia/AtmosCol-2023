{
 "cells": [
  {
   "cell_type": "markdown",
   "id": "11eb8e31-456b-40a8-acbb-cfbad719766e",
   "metadata": {},
   "source": [
    "```{image} ../images/logos/Xarray_Logo_RGB_Final.png\n",
    ":width: 250px\n",
    ":align: center\n",
    "```"
   ]
  },
  {
   "cell_type": "markdown",
   "id": "ca68f35e-6654-46b9-8cfa-8ab2d10d37b8",
   "metadata": {},
   "source": [
    "# Introducción a Xarray\n",
    "---"
   ]
  },
  {
   "cell_type": "markdown",
   "id": "5221e05f-4958-43c8-8402-6dbd7b82361b",
   "metadata": {},
   "source": [
    "`Xarray` es una librería de Python diseñada para facilitar el análisis y manipulación de **datos multidimensionales etiquetados** (como los que provienen de modelos climáticos, observaciones satelitales o simulaciones numéricas).\n",
    "\n",
    "Inspirado en la estructura de `Pandas`, `Xarray` extiende su funcionalidad a arreglos N-dimensionales, permitiendo trabajar de forma intuitiva con datos que tienen múltiples coordenadas como **tiempo**, **latitud** y **longitud**.\n",
    "\n",
    "> Xarray es especialmente popular en ciencias de la Tierra y del clima, donde los datos suelen venir en formatos como **NetCDF**, **Zarr** o **GRIB**.\n"
   ]
  },
  {
   "cell_type": "markdown",
   "id": "6ebd865e-969e-4d27-8fc9-88bb08d6057c",
   "metadata": {},
   "source": [
    "## 📚 ¿Qué vas a aprender?\n",
    "\n",
    "Al completar este cuadernillo serás capaz de:\n",
    "\n",
    "- Comprender qué son `DataArray` y `Dataset`\n",
    "- Crear objetos Xarray desde arreglos de NumPy\n",
    "- Asignar dimensiones y coordenadas\n",
    "- Explorar y seleccionar datos usando coordenadas\n",
    "- Calcular estadísticas y aplicar operaciones\n",
    "- Visualizar datos con `.plot()`\n",
    "- Leer datos reales desde archivos NetCDF\n",
    "\n",
    "\n",
    "## ✅ Requisitos previos\n",
    "\n",
    "| Concepto | Importancia | Notas |\n",
    "| --- | --- | --- |\n",
    "| [Introducción a NumPy](./1.2Numpy-Pandas-Xarray.ipynb) | Necesario | Arreglos multidimensionales |\n",
    "| [Fundamentos de Pandas](./1.2Numpy-Pandas-Xarray.ipynb) | Necesario | Indexado y manipulación tabular |\n",
    "| [Uso de JupyterLab](./1.1Fundamentos-python.ipynb) | Útil | Navegación entre celdas |\n",
    "\n",
    "⏱️ **Tiempo estimado de aprendizaje**: 20–25 minutos  \n",
    "✍️ **Formato**: interactivo, ejecuta y modifica el código a medida que avanzas"
   ]
  },
  {
   "cell_type": "markdown",
   "id": "a6b0c645-61c4-4cdc-ae75-9bc736bfd817",
   "metadata": {},
   "source": [
    "## 1. Primeros pasos con Xarray 🧪\n",
    "---\n",
    "\n",
    "La unidad básica en Xarray es el **`DataArray`**, que extiende la funcionalidad de los `ndarray` de NumPy. A diferencia de NumPy, Xarray permite asignar:\n",
    "\n",
    "- **Dimensiones con nombre** (`time`, `lat`, `lon`, etc.)\n",
    "- **Coordenadas** con etiquetas asociadas\n",
    "- **Atributos** descriptivos como unidades, nombre estándar, etc.\n",
    "\n",
    "Esta herramienta es particularmente poderosa cuando se trabaja con datos atmosféricos, oceanográficos o climáticos provenientes de modelos numéricos o sensores remotos, donde las variables dependen del tiempo, la latitud, la longitud y a veces también de la altitud.\n",
    "\n",
    "Importemos las librerias necesarias para este cuadernillo"
   ]
  },
  {
   "cell_type": "code",
   "execution_count": null,
   "id": "6104ad0d-4e88-48b5-83ab-dada439300ba",
   "metadata": {},
   "outputs": [],
   "source": [
    "import xarray as xr\n",
    "import numpy as np\n",
    "import pandas as pd"
   ]
  },
  {
   "cell_type": "markdown",
   "id": "a10e21c1-08c1-4327-81bf-ff50544cd565",
   "metadata": {},
   "source": [
    "### 🎛️ 1.1. Crear un `DataArray` desde NumPy\n",
    "\n",
    "Para comenzar, creamos una matriz tridimensional con valores simulados de temperatura (en grados Kelvin). Esta matriz tendrá dimensiones que representan el tiempo, la latitud y la longitud:\n"
   ]
  },
  {
   "cell_type": "code",
   "execution_count": null,
   "id": "5219f09e-dae3-4753-a2a6-74375ba194f1",
   "metadata": {},
   "outputs": [],
   "source": [
    "data = 283 + 5 * np.random.randn(5, 3, 4)  # 5 tiempos, 3 latitudes, 4 longitudes\n",
    "data.shape"
   ]
  },
  {
   "cell_type": "markdown",
   "id": "35c4ab5f-1a16-4f91-8bb7-b7d03b51acd4",
   "metadata": {},
   "source": [
    "Podemos construir un `DataArray` inicial directamente desde este arreglo de NumPy, aunque sin información adicional aún:"
   ]
  },
  {
   "cell_type": "code",
   "execution_count": null,
   "id": "21dc9d52-9eb2-458c-903c-2b87db1a7843",
   "metadata": {},
   "outputs": [],
   "source": [
    "temp = xr.DataArray(data)\n",
    "temp"
   ]
  },
  {
   "cell_type": "markdown",
   "id": "cb70c365-0a1a-4507-9e8f-8eb7da9924dd",
   "metadata": {},
   "source": [
    "⚠️ Como no definimos nombres para las dimensiones, Xarray usa nombres genéricos como `dim_0`, `dim_1`, `dim_2`, lo cual puede dificultar la interpretación de los datos."
   ]
  },
  {
   "cell_type": "markdown",
   "id": "236a030f-7256-4417-a8cd-49136f1d89fe",
   "metadata": {},
   "source": [
    "### 1.2 Asignar nombres de dimensiones 📀\n",
    "\n",
    "Para mejorar la legibilidad, asignamos nombres explícitos a las dimensiones. Esto convierte un arreglo anónimo en un conjunto de datos más descriptivo y navegable:"
   ]
  },
  {
   "cell_type": "code",
   "execution_count": null,
   "id": "d6b2fe11-fd6e-4b03-bfb0-3d0528d86bcb",
   "metadata": {},
   "outputs": [],
   "source": [
    "temp = xr.DataArray(data, dims=[\"time\", \"lat\", \"lon\"])\n",
    "temp"
   ]
  },
  {
   "cell_type": "markdown",
   "id": "ff9a9616-aa4c-4118-a45e-a75914179da2",
   "metadata": {},
   "source": [
    "Creamos un objeto con datos y dimensiones que gráficamente se podría representar de la siguiente manera:\n",
    "\n",
    "<img src=\"../images/datarray.png\" width=600 alt=\"Datarray\"></img> \n",
    "\n",
    "Esto nos permite realizar operaciones sobre dimensiones por nombre, en lugar de índices numéricos."
   ]
  },
  {
   "cell_type": "markdown",
   "id": "12be2acd-459d-4291-8b5d-38ba478ef72b",
   "metadata": {},
   "source": [
    "### 1.3 Agregar coordenadas a las dimensiones 🗺️\n",
    "\n",
    "Además de los nombres, podemos asociar coordenadas reales que representen valores geográficos o temporales. Esto permite, por ejemplo, ubicar espacialmente los datos o hacer filtrados temporales:"
   ]
  },
  {
   "cell_type": "code",
   "execution_count": null,
   "id": "9b36ad04-c2a5-4012-9c37-ab2c88057412",
   "metadata": {},
   "outputs": [],
   "source": [
    "times = pd.date_range(\"2018-01-01\", periods=5)\n",
    "lats = np.linspace(25, 55, 3)\n",
    "lons = np.linspace(-120, -90, 4)"
   ]
  },
  {
   "cell_type": "markdown",
   "id": "b888bf6b-06dc-4622-aec3-6b4c99988ee0",
   "metadata": {},
   "source": [
    "Construimos nuevamente el `DataArray`, esta vez incluyendo coordenadas:"
   ]
  },
  {
   "cell_type": "code",
   "execution_count": null,
   "id": "7b10e27e-93a7-40fb-be8d-b43732f8f871",
   "metadata": {},
   "outputs": [],
   "source": [
    "temp = xr.DataArray(data, coords=[times, lats, lons], dims=[\"time\", \"lat\", \"lon\"])\n",
    "temp"
   ]
  },
  {
   "cell_type": "markdown",
   "id": "7d361ee4-8ca4-4039-8ad3-5ad6c17a4cf3",
   "metadata": {},
   "source": [
    "Con esto obtenemos un objeto con visualización enriquecida: las dimensiones están etiquetadas y cada punto tiene una referencia espacial y temporal clara.\n",
    "\n",
    "<img src=\"../images/datarray_coords.png\" width=600 alt=\"Datarray_Coords\"></img> "
   ]
  },
  {
   "cell_type": "markdown",
   "id": "f89d8ef7-945e-4368-b707-5a1f6d820818",
   "metadata": {},
   "source": [
    "### 1.4 Agregar atributos descriptivos 🏷️\n",
    "\n",
    "Finalmente, Xarray permite incluir metadatos como unidades físicas, nombres estándar de variables o descripciones adicionales. Esto es importante para la trazabilidad y para facilitar el trabajo colaborativo o la publicación de datos:\n"
   ]
  },
  {
   "cell_type": "code",
   "execution_count": null,
   "id": "752c36ae-40ed-47fb-af26-ca73b5801ac9",
   "metadata": {},
   "outputs": [],
   "source": [
    "temp.attrs[\"units\"] = \"K\"\n",
    "temp.attrs[\"standard_name\"] = \"air_temperature\""
   ]
  },
  {
   "cell_type": "markdown",
   "id": "97264b87-1fdd-4d15-9b6b-ebc3d9b38762",
   "metadata": {},
   "source": [
    "Estos atributos no alteran los datos, pero se usan al exportar, graficar o convertir los objetos a otros formatos como netCDF. También ayudan a los usuarios a entender rápidamente qué representa el conjunto de datos.\n"
   ]
  },
  {
   "cell_type": "markdown",
   "id": "cfc83e2d-dcdb-4473-b102-edbe573ca816",
   "metadata": {},
   "source": [
    "## 2. Dataset: Contenedor multidimensional 🧳\n",
    "---\n",
    "Mientras que un `DataArray` representa una sola variable con sus dimensiones y coordenadas, un `Dataset` es un **contenedor que puede almacenar múltiples `DataArray`s**, que posiblemente compartan dimensiones y coordenadas.\n",
    "\n",
    "Esto es muy útil en ciencias ambientales, donde queremos trabajar simultáneamente con variables como temperatura, presión, humedad, etc., dentro de un mismo archivo o conjunto de datos.\n"
   ]
  },
  {
   "cell_type": "markdown",
   "id": "058de8af-1fdb-49e2-b983-74e119eb1dd4",
   "metadata": {},
   "source": [
    "### 2.1 Crear múltiples DataArrays 🌡️\n",
    "\n",
    "Partimos de los `DataArray`s que representan distintas variables físicas como temperatura del aire, presión atmosférica y humedad relativa:\n"
   ]
  },
  {
   "cell_type": "code",
   "execution_count": null,
   "id": "59c2c621-c835-4c82-b000-24da0c16adc6",
   "metadata": {},
   "outputs": [],
   "source": [
    "# Temperatura\n",
    "temp = xr.DataArray(\n",
    "    data=283 + 5 * np.random.randn(5, 3, 4),\n",
    "    coords={\"time\": times, \"lat\": lats, \"lon\": lons},\n",
    "    dims=[\"time\", \"lat\", \"lon\"],\n",
    "    name=\"Temperature\",\n",
    "    attrs={\"units\": \"K\", \"standard_name\": \"air_temperature\"}\n",
    ")\n",
    "\n",
    "# Presión\n",
    "pressure = xr.DataArray(\n",
    "    data=1000 + 10 * np.random.randn(5, 3, 4),\n",
    "    coords={\"time\": times, \"lat\": lats, \"lon\": lons},\n",
    "    dims=[\"time\", \"lat\", \"lon\"],\n",
    "    name=\"Pressure\",\n",
    "    attrs={\"units\": \"hPa\", \"standard_name\": \"air_pressure\"}\n",
    ")\n",
    "\n",
    "# Humedad relativa\n",
    "hr = xr.DataArray(\n",
    "    data=np.random.uniform(60, 100, size=5),\n",
    "    coords={\"time\": times},\n",
    "    dims=[\"time\"],\n",
    "    name=\"RelativeHumidity\",\n",
    "    attrs={\"units\": \"%\", \"standard_name\": \"relative_humidity\"}\n",
    ")"
   ]
  },
  {
   "cell_type": "markdown",
   "id": "ba48c9ef-c197-466c-be26-e085180e42e0",
   "metadata": {},
   "source": [
    "### 2.2 Crear el Dataset 📦\n",
    "\n",
    "Una vez definidos los `DataArray`s, podemos crear un `Dataset` pasando un diccionario con las variables:"
   ]
  },
  {
   "cell_type": "code",
   "execution_count": null,
   "id": "97260a64-77c1-4d04-a8ea-c95dbf3c4ee8",
   "metadata": {},
   "outputs": [],
   "source": [
    "ds = xr.Dataset(\n",
    "    data_vars={\n",
    "        \"Temperature\": temp,\n",
    "        \"Pressure\": pressure,\n",
    "        \"RelativeHumidity\": hr\n",
    "    }\n",
    ")"
   ]
  },
  {
   "cell_type": "markdown",
   "id": "b98e5321-9a76-4174-bb1d-13a5d8bf6a76",
   "metadata": {},
   "source": [
    "En un entorno interactivo como JupyterLab, este `Dataset` se mostrará como una menu desplegable que incluye:\n",
    "- Dimensiones (`dims`)\n",
    "- Coordenadas (`coords`)\n",
    "- Variables (`data_vars`)\n",
    "- índices (`indexes`)\n",
    "- Atributos (`attrs`)"
   ]
  },
  {
   "cell_type": "code",
   "execution_count": null,
   "id": "3ecd6fd6-9f7d-4695-abfe-3efba1541972",
   "metadata": {},
   "outputs": [],
   "source": [
    "ds"
   ]
  },
  {
   "cell_type": "markdown",
   "id": "4a5eb497-cd11-4913-9d3f-f29952d925e8",
   "metadata": {},
   "source": [
    "La visualización del `Dataset` mostrará las dimensiones compartidas, las coordenadas y un resumen de cada variable contenida como se muestra en la siguiente imagen tomada de la documentación de `xarray`\n",
    "\n",
    "<img src=\"../images/xarray-datastructure.png\" width=800 alt=\"Dataset\"></img> \n",
    "\n",
    "Esto permite acceder rápidamente a las dimensiones comunes y explorar todas las variables de forma estructurada.\n"
   ]
  },
  {
   "cell_type": "markdown",
   "id": "1ef31990-863a-4e32-857f-0370887b16f3",
   "metadata": {},
   "source": [
    "## 3. Selección de datos y operaciones básicas 🧩\n",
    "---\n",
    "Una vez que tenemos nuestros datos organizados en `DataArray` o `Dataset`, Xarray nos permite acceder, filtrar y operar sobre ellos de forma muy intuitiva utilizando etiquetas en lugar de índices numéricos.\n"
   ]
  },
  {
   "cell_type": "markdown",
   "id": "cede095c-3821-4245-a23d-ce80a5f1ffde",
   "metadata": {},
   "source": [
    "### 3.1 Acceder a variables en un Dataset 🔎\n",
    "\n",
    "Cada variable contenida dentro de un `Dataset` es un `DataArray`, y se puede acceder de manera sencilla usando notacion por atributo `ds.<atributo>` (acceso directo si el nombre es válido) "
   ]
  },
  {
   "cell_type": "code",
   "execution_count": null,
   "id": "f028f92e-d2e9-4621-9298-f412290e11b4",
   "metadata": {},
   "outputs": [],
   "source": [
    "ds.Temperature"
   ]
  },
  {
   "cell_type": "markdown",
   "id": "3e0da217-5707-423b-acff-50f6a14b02a6",
   "metadata": {},
   "source": [
    "O Notación por clave de diccionario (más general y flexible)"
   ]
  },
  {
   "cell_type": "code",
   "execution_count": null,
   "id": "38c5d2e3-b786-408f-88f8-95847a3ba557",
   "metadata": {},
   "outputs": [],
   "source": [
    "ds[\"Pressure\"]"
   ]
  },
  {
   "cell_type": "markdown",
   "id": "2f930daf-5c60-41ef-8823-8b62cd5abc84",
   "metadata": {},
   "source": [
    "Ambas formas retornan el `DataArray` correspondiente. La primera es más compacta, útil en notebooks interactivos; la segunda es más robusta, especialmente si los nombres contienen espacios, guiones u otros caracteres especiales.\n"
   ]
  },
  {
   "cell_type": "markdown",
   "id": "40b0daa1-305f-402d-ba45-66e51ea734f0",
   "metadata": {},
   "source": [
    "### 3.2 Seleccionar datos por coordenadas con `.sel()` 🧭\n",
    "\n",
    "El método `.sel()` permite seleccionar subconjuntos de datos utilizando los **valores de las coordenadas** en lugar de los índices posicionales. Esto hace que el código sea más legible y expresivo.\n"
   ]
  },
  {
   "cell_type": "markdown",
   "id": "f3bfa9a5-1c8b-4c73-942f-6de10f79840a",
   "metadata": {},
   "source": [
    "Por ejemplo, podemos seleccionar todos los datos para una fecha específica\n"
   ]
  },
  {
   "cell_type": "code",
   "execution_count": null,
   "id": "dfeaeb41-9822-469e-a5c3-4b9c2fe2fbfa",
   "metadata": {
    "scrolled": true
   },
   "outputs": [],
   "source": [
    "ds.sel(time=\"2018-01-01\")"
   ]
  },
  {
   "cell_type": "markdown",
   "id": "8111defb-b90a-451e-b2b2-d0c169881cbd",
   "metadata": {},
   "source": [
    "O seleccionar una variable y una ubicación específica"
   ]
  },
  {
   "cell_type": "code",
   "execution_count": null,
   "id": "622c9a82-fbea-46db-b7ad-45d38b86a39a",
   "metadata": {},
   "outputs": [],
   "source": [
    "ds.Temperature.sel(time=\"2018-01-01\", lat=25, lon=-120)"
   ]
  },
  {
   "cell_type": "markdown",
   "id": "6c3c1f6b-57de-44f8-83d7-7f4dcf3f1343",
   "metadata": {},
   "source": [
    "\n",
    "✅ Muy útil y conveniente cuando trabajamos con fechas o ubicaciones reales."
   ]
  },
  {
   "cell_type": "markdown",
   "id": "fb75504f-4413-40f9-8783-a03cc2574e9e",
   "metadata": {},
   "source": [
    "### 3.3 Seleccionar datos por posición con `.isel()` 🔹\n",
    "\n",
    "Si en cambio queremos seleccionar por posición (como con NumPy), usamos `.isel()`. Esto es útil cuando no conocemos las coordenadas exactas o estamos en procesos de automatización.\n"
   ]
  },
  {
   "cell_type": "code",
   "execution_count": null,
   "id": "84d95b6b-651c-45d8-bcc3-bd1c95050cd1",
   "metadata": {
    "scrolled": true
   },
   "outputs": [],
   "source": [
    "# Seleccionar el primer tiempo (posición 0)\n",
    "ds.isel(time=0)"
   ]
  },
  {
   "cell_type": "markdown",
   "id": "5fd7636c-20b2-4dc8-93de-40dded8a11ed",
   "metadata": {},
   "source": [
    "Seleccionar temperatura para la primera posición de latitud y segunda longitud a lo largo del tiempo"
   ]
  },
  {
   "cell_type": "code",
   "execution_count": null,
   "id": "60083f80-fad4-4fd5-9da9-450cd9c66587",
   "metadata": {},
   "outputs": [],
   "source": [
    "ds.Temperature.isel(lat=0, lon=1)"
   ]
  },
  {
   "cell_type": "markdown",
   "id": "f0bcc634-4297-460b-952a-2faf3e826409",
   "metadata": {},
   "source": [
    "🧠 `.isel()` usa números de posición; `.sel()` usa etiquetas de coordenadas."
   ]
  },
  {
   "cell_type": "markdown",
   "id": "5e07f36b-b039-4149-a6d8-a1eea85e59e8",
   "metadata": {},
   "source": [
    "### 3.4 Seleccionar rangos con `slice()` 🪄\n",
    "\n",
    "Podemos seleccionar rangos utilizando `slice()`, lo que facilita el trabajo con subconjuntos:\n"
   ]
  },
  {
   "cell_type": "markdown",
   "id": "01973de0-495a-4564-ad6d-22aeea80c42d",
   "metadata": {},
   "source": [
    "Por ejemplo seleccionemos el subconjunto de datos entre dos fechas"
   ]
  },
  {
   "cell_type": "code",
   "execution_count": null,
   "id": "7bddc00d-781d-4365-a000-ab4569b13467",
   "metadata": {},
   "outputs": [],
   "source": [
    "ds.sel(time=slice(\"2018-01-01\", \"2018-01-03\"))"
   ]
  },
  {
   "cell_type": "markdown",
   "id": "77574745-4d6a-4e85-88c7-e6d10b6d8e15",
   "metadata": {},
   "source": [
    "O subconjunto de latitudes"
   ]
  },
  {
   "cell_type": "code",
   "execution_count": null,
   "id": "9a34a1f0-1a8d-4781-b450-f30703817835",
   "metadata": {},
   "outputs": [],
   "source": [
    "ds.sel(lat=slice(30, 50))"
   ]
  },
  {
   "cell_type": "markdown",
   "id": "39df6a85-33fa-45c6-b65e-62d0cb82db56",
   "metadata": {},
   "source": [
    "Esto es especialmente útil en análisis temporales o espaciales que requieren ventanas móviles."
   ]
  },
  {
   "cell_type": "markdown",
   "id": "cb656369-6677-46be-889c-7ee6c4c720f1",
   "metadata": {
    "jp-MarkdownHeadingCollapsed": true
   },
   "source": [
    "## 4. Operaciones estadísticas y gráficas 📊\n",
    "---\n",
    "Una de las grandes ventajas de Xarray es que permite aplicar operaciones estadísticas y crear visualizaciones de forma muy similar a Pandas, pero extendidas a múltiples dimensiones."
   ]
  },
  {
   "cell_type": "markdown",
   "id": "bca005df-e115-4d3a-85f3-63cc8f7afe8f",
   "metadata": {},
   "source": [
    "### 4.1 Estadísticas sobre dimensiones 📐\n",
    "\n",
    "Podemos calcular estadísticas como la media, desviación estándar, máximo o mínimo a lo largo de una o varias dimensiones.\n"
   ]
  },
  {
   "cell_type": "code",
   "execution_count": null,
   "id": "502672b8-7092-43d1-9a2f-f51781158606",
   "metadata": {},
   "outputs": [],
   "source": [
    "# Media de temperatura a lo largo del tiempo\n",
    "ds.Temperature.mean(dim=\"time\")"
   ]
  },
  {
   "cell_type": "code",
   "execution_count": null,
   "id": "fd29383f-7de1-4d61-bb6a-1a3187e21ec5",
   "metadata": {},
   "outputs": [],
   "source": [
    "# Mínimo de presión sobre latitudes\n",
    "ds.Pressure.min(dim=\"lat\")"
   ]
  },
  {
   "cell_type": "code",
   "execution_count": null,
   "id": "9cdf6489-7365-4751-8765-ccd01fe3bd37",
   "metadata": {},
   "outputs": [],
   "source": [
    "# Desviación estándar de humedad relativa\n",
    "ds.RelativeHumidity.std(dim=\"time\")"
   ]
  },
  {
   "cell_type": "markdown",
   "id": "3fc2cf20-3e46-434e-b150-b4eaa762d144",
   "metadata": {},
   "source": [
    "✅ Estas funciones son muy útiles para obtener resúmenes climatológicos o patrones promedios.\n"
   ]
  },
  {
   "cell_type": "markdown",
   "id": "953d07c2-64a1-4722-80e2-80cefb970b04",
   "metadata": {},
   "source": [
    "4.2 Interpolación de datos 🌐\n",
    "Cuando necesitas obtener valores en coordenadas que no existen exactamente en tus datos, puedes usar `.interp()` para interpolar:"
   ]
  },
  {
   "cell_type": "code",
   "execution_count": null,
   "id": "c320e3b2-3379-415e-acbe-94aac7218f5d",
   "metadata": {},
   "outputs": [],
   "source": [
    "# Interpolación espacial\n",
    "valor_interp = ds.Temperature.interp(lat=33.5, lon=-110)\n",
    "valor_interp"
   ]
  },
  {
   "cell_type": "markdown",
   "id": "3a384206-9cc6-4ad9-bb2b-36f4434d75f3",
   "metadata": {},
   "source": [
    "📌 Puedes especificar el método de interpolación (como linear, nearest) y ajustar la tolerancia."
   ]
  },
  {
   "cell_type": "markdown",
   "id": "c1e379f2-b47a-45cc-83a6-79a72899cc28",
   "metadata": {},
   "source": [
    "### 4.3 Visualizaciones rápidas con `.plot()` 🖼️\n",
    "\n",
    "Xarray incluye integración con Matplotlib para hacer gráficos rápidos desde cualquier `DataArray`:"
   ]
  },
  {
   "cell_type": "markdown",
   "id": "d1e51a2a-f5f5-4700-9a50-ad56b3dd3ce4",
   "metadata": {},
   "source": [
    "Generemos una serie temporal de temperatura en una ubicación determinada"
   ]
  },
  {
   "cell_type": "code",
   "execution_count": null,
   "id": "860bb7d7-c654-418e-895a-3304d585ac20",
   "metadata": {
    "scrolled": true
   },
   "outputs": [],
   "source": [
    "serie = ds.Temperature.sel(lat=40, lon=-100, method=\"nearest\")\n",
    "serie.plot()"
   ]
  },
  {
   "cell_type": "markdown",
   "id": "8a956040-dbf1-476f-aa88-2dc3c4ac4db6",
   "metadata": {},
   "source": [
    "O un mapa de temperatura para t=0"
   ]
  },
  {
   "cell_type": "code",
   "execution_count": null,
   "id": "71ca0fc8-48c6-4bb4-a6a4-5f3fcfbc86e0",
   "metadata": {
    "scrolled": true
   },
   "outputs": [],
   "source": [
    "mapa = ds.Temperature.isel(time=0)\n",
    "mapa.plot()"
   ]
  },
  {
   "cell_type": "markdown",
   "id": "e0505164-3af5-4efb-aa2c-ef1b2eea1531",
   "metadata": {},
   "source": [
    "O un Mapa de temperatura promedio"
   ]
  },
  {
   "cell_type": "code",
   "execution_count": null,
   "id": "f2b2a8e3-caaa-46fd-8e50-56108c189807",
   "metadata": {},
   "outputs": [],
   "source": [
    "prom_mapa = ds.Temperature.mean(\"time\")\n",
    "prom_mapa.plot()"
   ]
  },
  {
   "cell_type": "markdown",
   "id": "68ae354b-366e-4d37-b0ab-9fa97fc84817",
   "metadata": {},
   "source": [
    "🔍 Estas funciones detectan automáticamente si el resultado es 1D o 2D y generan una línea o un mapa respectivamente.\n"
   ]
  },
  {
   "cell_type": "markdown",
   "id": "1ffba502-e151-43f2-a6c5-0c9dc14be19e",
   "metadata": {
    "jp-MarkdownHeadingCollapsed": true
   },
   "source": [
    "### 4.4 Aplicar máscaras y condiciones 🎭\n",
    "\n",
    "Puedes aplicar filtros condicionales a los datos usando `.where()`, muy útil para enmascarar regiones o aplicar umbrales:\n"
   ]
  },
  {
   "cell_type": "code",
   "execution_count": null,
   "id": "698c239a-2752-40a7-8be0-5000043b80c9",
   "metadata": {},
   "outputs": [],
   "source": [
    "# Mostrar datos para latitudes menores a 50 grados\n",
    "ds.Temperature.where(ds.lat < 50).isel(time=0).plot()"
   ]
  },
  {
   "cell_type": "code",
   "execution_count": null,
   "id": "8a72dad0-ad66-4bac-8ef2-34280237096c",
   "metadata": {},
   "outputs": [],
   "source": [
    "# Filtrar valores de presión mayores a cierto umbral\n",
    "ds.Pressure.where(ds.Pressure > 1000).isel(time=1).plot()"
   ]
  },
  {
   "cell_type": "markdown",
   "id": "5bf1d515-9a47-4f83-a218-e4d2fff89ef5",
   "metadata": {},
   "source": [
    "🧪 `.where()` mantiene la forma del arreglo pero oculta los datos que no cumplen la condición."
   ]
  },
  {
   "cell_type": "markdown",
   "id": "fb5d59d2-d434-4d36-a71a-537205399da1",
   "metadata": {},
   "source": [
    "## 5. 📂 Lectura de archivos netCDF con Xarray\n",
    "---\n",
    "Esta sección te introduciría a cómo cargar datos reales desde archivos científicos en formato netCDF, que es uno de los más comunes en ciencias de la atmósfera, océano y clima.\n",
    "\n",
    "Los archivos NetCDF (Network Common Data Form) son ampliamente utilizados para almacenar datos multidimensionales del clima, el océano y la atmósfera. Xarray proporciona una forma sencilla y poderosa para leer y explorar este tipo de archivos.\n"
   ]
  },
  {
   "cell_type": "markdown",
   "id": "ae321f2a-e27f-43d3-9e22-8c839fa4e0c3",
   "metadata": {},
   "source": [
    "### 5.1 Leer un archivo netCDF\n",
    "\n",
    "Xarray facilita la lectura de estos archivos con la función `xr.open_dataset()`.\n",
    "\n",
    "En este ejemplo vamos a usar un archivo real llamado `sst.mnmean.nc`, que contiene datos mensuales de la **temperatura superficial del mar (SST)** a nivel global durante varias décadas. Este tipo de dataset es comúnmente utilizado para analizar fenómenos como El Niño, anomalías de temperatura, o climatologías oceánicas.\n"
   ]
  },
  {
   "cell_type": "code",
   "execution_count": null,
   "id": "940e8542-6883-44c4-9e3b-d40dd9638fa2",
   "metadata": {},
   "outputs": [],
   "source": [
    "path_ncfile = \"../data/sst.mnmean.nc\"\n",
    "ds = xr.open_dataset(path_ncfile)"
   ]
  },
  {
   "cell_type": "code",
   "execution_count": null,
   "id": "434b0128-3708-474f-9dd3-1ccbde5c20df",
   "metadata": {},
   "outputs": [],
   "source": [
    "ds"
   ]
  },
  {
   "cell_type": "markdown",
   "id": "e5e64890-c9d9-47c3-8eb1-a9fa1be19e7f",
   "metadata": {},
   "source": [
    "### 5.2 Explorar estructura del archivo 🔎\n",
    "\n",
    "Una vez abierto el Dataset, puedes inspeccionar las variables y dimensiones disponibles:\n",
    "- Variables contenidas (por ejemplo, `sst` para temperatura superficial del mar)\n",
    "- Dimensiones como `time`, `lat`, y `lon`\n",
    "- Coordenadas disponibles y sus unidades\n",
    "- Atributos globales (fuente, descripción, institución, etc.)"
   ]
  },
  {
   "cell_type": "code",
   "execution_count": null,
   "id": "6197b4aa-f2d7-42aa-ac92-faef6c5d1242",
   "metadata": {
    "scrolled": true
   },
   "outputs": [],
   "source": [
    "# Visualizar las dimensiones y coordenadas\n",
    "print(ds.dims)\n",
    "print(ds.coords)"
   ]
  },
  {
   "cell_type": "markdown",
   "id": "e4d4c43f-f11f-42bc-b459-16db367f3439",
   "metadata": {},
   "source": [
    "También puedes ver los atributos generales del archivo:"
   ]
  },
  {
   "cell_type": "code",
   "execution_count": null,
   "id": "9bc8924c-5d85-4eda-bfaa-02885fe2063b",
   "metadata": {
    "scrolled": true
   },
   "outputs": [],
   "source": [
    "ds.attrs"
   ]
  },
  {
   "cell_type": "markdown",
   "id": "8ab7567e-114e-4b59-897b-b10164b1caa0",
   "metadata": {},
   "source": [
    "### 5.3 Acceder a variables específicas 🧬\n",
    "\n",
    "Cada variable contenida en el archivo se puede acceder directamente como un `DataArray`.\n"
   ]
  },
  {
   "cell_type": "code",
   "execution_count": null,
   "id": "715d1ffa-f819-4982-a413-4cf0b0950dfb",
   "metadata": {},
   "outputs": [],
   "source": [
    "# Seleccionar la variable de temperatura superficial del mar (sst)\n",
    "sst = ds['sst']\n",
    "sst"
   ]
  },
  {
   "cell_type": "markdown",
   "id": "2430da4f-99ff-4877-b415-9f82ef0625f0",
   "metadata": {},
   "source": [
    "Esto mostrará la forma, dimensiones y atributos asociados a la variable."
   ]
  },
  {
   "cell_type": "markdown",
   "id": "af366dc0-7cc3-4172-b563-75ced474580a",
   "metadata": {},
   "source": [
    "### 5.4 Visualización básica 🌍\n",
    "\n",
    "Vamos a generar un mapa de la temperatura para el primer valor temporal del archivo.\n"
   ]
  },
  {
   "cell_type": "code",
   "execution_count": null,
   "id": "fd2a75d7-29d5-4810-9a68-404e57cd79a8",
   "metadata": {
    "scrolled": true
   },
   "outputs": [],
   "source": [
    "# Graficar la primera capa temporal\n",
    "sst.isel(time=0).plot(cmap=\"coolwarm\")"
   ]
  },
  {
   "cell_type": "markdown",
   "id": "24986081-d185-4d7c-9298-27bf466bc86d",
   "metadata": {},
   "source": [
    "🧭 Esto te muestra un mapa global de temperatura superficial del mar para el primer mes disponible en el conjunto de datos.\n"
   ]
  },
  {
   "cell_type": "markdown",
   "id": "fda69f32-ea88-4ceb-8d27-c088ce9af66b",
   "metadata": {},
   "source": [
    "✅ Puedes cambiar el índice o usar `.sel(time=...)` para seleccionar fechas específicas si el tiempo está en formato calendario.\n"
   ]
  },
  {
   "cell_type": "markdown",
   "id": "1db3c46e-4f48-4e21-bf04-6ce8e749776e",
   "metadata": {},
   "source": [
    "### 5.5 Operaciones comunes ⚙️\n",
    "\n",
    "Ya que tenemos un `DataArray`, podemos aplicar operaciones estadísticas o espaciales directamente:\n"
   ]
  },
  {
   "cell_type": "code",
   "execution_count": null,
   "id": "75fac302-7a89-4324-8047-36d87718bbd8",
   "metadata": {},
   "outputs": [],
   "source": [
    "# Temperatura promedio global (promedio espacial)\n",
    "sst.mean(dim=[\"lon\", \"lat\"]).plot()"
   ]
  },
  {
   "cell_type": "markdown",
   "id": "0a47c18a-a863-4d42-892a-646f3474f22b",
   "metadata": {},
   "source": [
    "### 5.6 Aplicar máscaras o filtros 🎭\n",
    "\n",
    "Filtrar solo los valores en el hemisferio sur o para latitudes específicas:\n"
   ]
  },
  {
   "cell_type": "code",
   "execution_count": null,
   "id": "b1f105ab-c2d9-44f5-8600-470fa0f01f0c",
   "metadata": {},
   "outputs": [],
   "source": [
    "sst.where(sst.lat < 0).isel(time=0).plot(cmap=\"viridis\")"
   ]
  },
  {
   "cell_type": "markdown",
   "id": "f287adb9-90ea-4d7e-aa15-9916e8f79193",
   "metadata": {},
   "source": [
    "### 5.7 Guardar resultados en nuevo archivo 💾\n",
    "\n",
    "Podemos guardar los datos procesados a un nuevo archivo Zarr:\n"
   ]
  },
  {
   "cell_type": "code",
   "execution_count": null,
   "id": "e6d6e420-6981-49cb-af04-86c7c562248a",
   "metadata": {},
   "outputs": [],
   "source": [
    "sst_mean = sst.mean(dim=\"time\")\n",
    "sst_mean.to_zarr(\"sst_media.zarr\")"
   ]
  },
  {
   "cell_type": "code",
   "execution_count": null,
   "id": "63f70d45-3a11-4b49-84b3-5e9933a32621",
   "metadata": {},
   "outputs": [],
   "source": [
    "! ls sst_media.zarr"
   ]
  },
  {
   "cell_type": "markdown",
   "id": "b3b3c96e-e7c5-48dd-ba80-179944701bc1",
   "metadata": {},
   "source": [
    "🎉 ¡Con esto completamos nuestra introducción al uso de Xarray con datos reales en formato netCDF!"
   ]
  },
  {
   "cell_type": "markdown",
   "id": "4a84c8aa-8411-45af-94ca-f5417eac2146",
   "metadata": {},
   "source": [
    "---\n",
    "\n",
    "## ✅ Conclusiones\n",
    "\n",
    "En este cuadernillo aprendiste los fundamentos del manejo de datos multidimensionales con **Xarray**, una herramienta esencial en la ciencia del clima, meteorología y disciplinas relacionadas con datos ambientales.\n",
    "\n",
    "🔑 **Lo más destacado**:\n",
    "\n",
    "- Comprendiste la diferencia entre `DataArray` y `Dataset`, dos estructuras clave para manejar datos con múltiples dimensiones y coordenadas.\n",
    "- Aprendiste a **etiquetar** tus datos con dimensiones y coordenadas que hacen tu análisis más claro y reproducible.\n",
    "- Aplicaste operaciones estadísticas como `mean()`, `std()` o `sum()` a lo largo de diferentes dimensiones.\n",
    "- Usaste `.sel()` y `.isel()` para extraer datos fácilmente con etiquetas o índices.\n",
    "- Generaste visualizaciones rápidas usando `.plot()` para explorar tendencias temporales y mapas espaciales.\n",
    "- Accediste y exploraste datos reales en formato `netCDF`, el estándar para datos climáticos y atmosféricos.\n",
    "\n",
    "📦 Con este conocimiento ya puedes comenzar a trabajar con grandes volúmenes de datos científicos como modelos climáticos, observaciones satelitales o reanálisis atmosféricos.\n",
    "\n",
    "---\n",
    "\n",
    "## 📚 Recursos recomendados\n",
    "\n",
    "- [Documentación oficial de Xarray](https://docs.xarray.dev/)\n",
    "- [Pythia Foundations: Introducción a Xarray](https://foundations.projectpythia.org/core/xarray.html)\n",
    "- [Earth & Environmental Data Science](https://earth-env-data-science.github.io/intro.html)\n",
    "\n",
    "---\n",
    "\n",
    "🎓 ¡Felicitaciones! Estás listo para abordar análisis más complejos con datos multidimensionales usando Xarray.\n",
    "\n"
   ]
  },
  {
   "cell_type": "markdown",
   "id": "8d1debc8-7542-4a9f-9f1e-11341d1084f0",
   "metadata": {},
   "source": [
    "## Fuentes y Referencias\n",
    "\n",
    "* Rose, B. E. J., Kent, J., Tyle, K., Clyne, J., Banihirwe, A., Camron, D., May, R., Grover, M., Ford, R. R., Paul, K., Morley, J., Eroglu, O., Kailyn, L., & Zacharias, A. (2023). Pythia Foundations (Version v2023.05.01) https://doi.org/10.5281/zenodo.7884572"
   ]
  },
  {
   "cell_type": "code",
   "execution_count": null,
   "id": "c432dbbe-5dde-45d6-bfec-498e35e6d156",
   "metadata": {},
   "outputs": [],
   "source": []
  }
 ],
 "metadata": {
  "kernelspec": {
   "display_name": "Python 3 (ipykernel)",
   "language": "python",
   "name": "python3"
  },
  "language_info": {
   "codemirror_mode": {
    "name": "ipython",
    "version": 3
   },
   "file_extension": ".py",
   "mimetype": "text/x-python",
   "name": "python",
   "nbconvert_exporter": "python",
   "pygments_lexer": "ipython3",
   "version": "3.13.3"
  }
 },
 "nbformat": 4,
 "nbformat_minor": 5
}
