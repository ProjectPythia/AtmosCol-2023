{
 "cells": [
  {
   "cell_type": "markdown",
   "id": "da0a2114-a25e-4fb8-bb82-ef0f84546d44",
   "metadata": {},
   "source": [
    "```{image} ../images/logos/numpy_logo.png\n",
    ":width: 200px\n",
    ":align: center\n",
    "```\n"
   ]
  },
  {
   "cell_type": "markdown",
   "id": "2dc44a90-401b-41bc-81fe-1da6fb097129",
   "metadata": {},
   "source": [
    "# Introducción a NumPy\n",
    "---"
   ]
  },
  {
   "cell_type": "markdown",
   "id": "2c81d510-debd-4d33-9a07-750697d6b316",
   "metadata": {
    "jp-MarkdownHeadingCollapsed": true
   },
   "source": [
    "`NumPy` (Numerical Python) es una librería fundamental para el análisis numérico y científico en Python. \n",
    "\n",
    "Esta guía práctica está diseñada para que te familiarices con la sintaxis, funcionalidades básicas y buenas prácticas al trabajar con `NumPy`. Los conceptos aquí presentados serán esenciales para el uso posterior de librerías como `Pandas` y `Xarray`.\n"
   ]
  },
  {
   "cell_type": "markdown",
   "id": "325efc5b-5ec8-44f4-ab90-46cbbcba3a2f",
   "metadata": {},
   "source": [
    "### 🎯 Objetivo\n",
    "\n",
    "Aprender a crear, manipular y operar con arrays usando la librería `NumPy`, una de las más utilizadas para el cálculo numérico en Python.\n"
   ]
  },
  {
   "cell_type": "markdown",
   "id": "5dacab32-a026-4080-a53c-c49638188c24",
   "metadata": {},
   "source": [
    "### 📚 ¿Qué vas a aprender?\n",
    "\n",
    "En este cuadernillo vas a aprender a:\n",
    "\n",
    "- Crear y manipular **arrays** y **matrices** en múltiples dimensiones\n",
    "- Generar datos numéricos de forma automática (rango, espaciamiento, ceros, unos)\n",
    "- Aplicar operaciones matemáticas elementales y funciones más complejas\n",
    "- Acceder, modificar y filtrar elementos dentro de un arreglo\n",
    "- Calcular estadísticas básicas como media, suma y desviación estándar\n",
    "\n",
    "Estos conocimientos te prepararán para trabajar de forma eficiente con datos numéricos en contextos científicos y técnicos.\n"
   ]
  },
  {
   "cell_type": "markdown",
   "id": "97dcea86-859a-4147-b1d8-7ac70763bdc3",
   "metadata": {},
   "source": [
    "### ✅ Requisitos previos"
   ]
  },
  {
   "cell_type": "markdown",
   "id": "21124a39-3d97-43ce-9a18-dbb39e25a962",
   "metadata": {
    "jp-MarkdownHeadingCollapsed": true
   },
   "source": [
    "| Concepto | Importancia | Notas |\n",
    "| --- | --- | --- |\n",
    "| [Introducción a Python](./1.1Fundamentos-python.ipynb) | Necesario | Tipos de datos, funciones, operadores |\n",
    "| [Introducción a JupyterLab](./1.1Fundamentos-python.ipynb) | Necesario | Navegación y ejecución de celdas |\n",
    "| [NumPy (Pythia Foundations)](https://foundations.projectpythia.org/core/numpy.html) | Complementario | Lectura sugerida para profundizar |\n"
   ]
  },
  {
   "cell_type": "markdown",
   "id": "886e900f-a1ef-4895-9699-31f30eb2771a",
   "metadata": {},
   "source": [
    "⏱️ **Tiempo estimado de aprendizaje**: 20–25 minutos  \n",
    "✍️ **Formato**: interactivo, ejecuta y modifica el código a medida que avanzas"
   ]
  },
  {
   "cell_type": "markdown",
   "id": "f7f4cf27-f4ef-4ac4-8df7-35b6c0ba3805",
   "metadata": {},
   "source": [
    "## 1. ¿Qué es NumPy?\n",
    "---\n",
    "NumPy es una librería para el cálculo numérico que permite trabajar con arreglos multidimensionales, de forma eficiente y vectorizada.\n",
    "\n",
    "**Ventajas:**\n",
    "- Velocidad (optimizado en C)\n",
    "- Menos líneas de código\n",
    "- Funciones estadísticas, álgebra lineal, etc."
   ]
  },
  {
   "cell_type": "markdown",
   "id": "8b8ede3f-425e-49ae-987f-cd1b15f81073",
   "metadata": {},
   "source": [
    "## 2. Creación de arreglos (arrays)\n",
    "---\n",
    "\n",
    "Los **arreglos** —en inglés *arrays*— son la estructura de datos fundamental en NumPy. Funcionan de manera similar a las listas en Python, pero están optimizados para realizar operaciones matemáticas de forma eficiente y vectorizada.\n",
    "\n",
    "Puedes crear un arreglo a partir de una lista de Python utilizando la función `np.array()`:\n"
   ]
  },
  {
   "cell_type": "code",
   "execution_count": null,
   "id": "a0aab084-a61a-48cd-93c1-62aed0d9db5c",
   "metadata": {},
   "outputs": [],
   "source": [
    "import numpy as np\n",
    "\n",
    "a = np.array([1, 2, 3])"
   ]
  },
  {
   "cell_type": "code",
   "execution_count": null,
   "id": "c8289b0d-7700-4a6c-8d42-eee286a004d2",
   "metadata": {},
   "outputs": [],
   "source": [
    "print(a)\n",
    "print(\"Tipo:\", type(a))\n",
    "print(\"Dimensiones:\", a.ndim)\n",
    "print(\"Forma:\", a.shape)\n",
    "print(\"Tipo de datos:\", a.dtype)"
   ]
  },
  {
   "cell_type": "markdown",
   "id": "2ff3fe28-10ad-469c-95d7-7e774f0825c6",
   "metadata": {},
   "source": [
    "En este ejemplo:\n",
    "- `type(a)` nos indica que estamos trabajando con un objeto `ndarray`\n",
    "- `ndim` nos da el número de dimensiones (1D, 2D, etc.)\n",
    "- `shape` muestra el tamaño de cada dimensión\n",
    "- `dtype` indica el tipo de dato contenido en el array (por ejemplo, `int64`, `float32`, etc.)\n",
    "\n",
    "Este es el primer paso fundamental para comenzar a trabajar con datos numéricos en Python."
   ]
  },
  {
   "cell_type": "markdown",
   "id": "3f94e9a0-f3c2-4a10-8037-2189d544f2f2",
   "metadata": {},
   "source": [
    "### 2.1 Arreglos bidimensionales (matrices 2D)\n",
    "\n",
    "Los arreglos pueden tener más de una dimensión. En el caso de dos dimensiones, se les conoce comúnmente como **matrices** (*2D arrays*), y son muy útiles para representar datos tabulares o imágenes, por ejemplo.\n",
    "\n",
    "Puedes crear una matriz a partir de una lista de listas:\n"
   ]
  },
  {
   "cell_type": "code",
   "execution_count": null,
   "id": "b5f4b346-b328-4e44-8a8c-042ffa4ad120",
   "metadata": {},
   "outputs": [],
   "source": [
    "matriz = np.array([[1, 2], [3, 4]])\n",
    "print(matriz)"
   ]
  },
  {
   "cell_type": "markdown",
   "id": "ec5048d6-87cf-421c-8b3c-1cb60970531c",
   "metadata": {},
   "source": [
    "Aquí estamos creando un arreglo de forma (2, 2), es decir, 2 filas y 2 columnas. Puedes inspeccionar sus propiedades igual que antes:"
   ]
  },
  {
   "cell_type": "code",
   "execution_count": null,
   "id": "7ec063fd-454b-4b5b-8fb0-e8d8ff2f655e",
   "metadata": {},
   "outputs": [],
   "source": [
    "print(\"Dimensiones:\", matriz.ndim)\n",
    "print(\"Forma:\", matriz.shape)\n",
    "print(\"Tipo de datos:\", matriz.dtype)"
   ]
  },
  {
   "cell_type": "markdown",
   "id": "7cacab8d-7338-44a4-b0da-802d080abcf1",
   "metadata": {},
   "source": [
    "Este tipo de estructura es esencial para realizar operaciones lineales y muchas tareas científicas donde los datos tienen más de una dimensión.\n"
   ]
  },
  {
   "cell_type": "markdown",
   "id": "93a6898e-324d-4e3b-8344-622d9ad5f3dc",
   "metadata": {},
   "source": [
    "### 2.2 Generación automática de datos\n",
    "\n",
    "NumPy nos ofrece funciones para crear arreglos de forma automática, sin necesidad de escribir cada valor manualmente. Estas funciones son muy útiles para generar rangos numéricos, vectores espaciados o arreglos inicializados con ceros o unos.\n"
   ]
  },
  {
   "cell_type": "markdown",
   "id": "93e2ddf5-1576-4aaf-9d64-7a632dc5c75f",
   "metadata": {},
   "source": [
    "#### 🔁 `np.arange()`\n",
    "\n",
    "Crea un arreglo con valores numéricos espaciados regularmente. Similar a la función `range()` de Python.\n"
   ]
  },
  {
   "cell_type": "code",
   "execution_count": null,
   "id": "fed50938-7817-444f-952a-884cccffb0b1",
   "metadata": {},
   "outputs": [],
   "source": [
    "np.arange(0, 10, 2)"
   ]
  },
  {
   "cell_type": "markdown",
   "id": "c5cdc663-499a-429a-86c3-6652cf5c46ed",
   "metadata": {},
   "source": [
    "**Significado:**  \n",
    "- `inicio = 0`, `fin = 10` (excluyente), `paso = 2`  \n",
    "- Resultado: `[0 2 4 6 8]`"
   ]
  },
  {
   "cell_type": "markdown",
   "id": "8315b845-2ebd-4395-b351-f37219f89fb9",
   "metadata": {},
   "source": [
    "#### 📏 `np.linspace()`\n",
    "\n",
    "Crea un arreglo con valores espaciados de forma uniforme en un intervalo definido.\n"
   ]
  },
  {
   "cell_type": "code",
   "execution_count": null,
   "id": "6fc6260f-a6bc-48da-bb78-86fcd560294b",
   "metadata": {},
   "outputs": [],
   "source": [
    "np.linspace(1, 10, 5)"
   ]
  },
  {
   "cell_type": "markdown",
   "id": "72f93aed-5cc4-45e1-b59b-01525a637aea",
   "metadata": {},
   "source": [
    "**Significado:**  \n",
    "- Crea 5 valores igualmente distribuidos entre 1 y 10 (inclusive)"
   ]
  },
  {
   "cell_type": "markdown",
   "id": "d2355427-3aff-45ee-84d0-6612a49e5de1",
   "metadata": {},
   "source": [
    "#### ⬛ `np.zeros()` y `np.ones()`\n",
    "\n",
    "Crea arreglos de ceros o unos de una forma dada. Son útiles para inicializar estructuras."
   ]
  },
  {
   "cell_type": "code",
   "execution_count": null,
   "id": "24c08d73-8775-4d65-8d91-fb1a248afe98",
   "metadata": {},
   "outputs": [],
   "source": [
    "np.zeros((2, 3))  # Matriz 2x3 llena de ceros"
   ]
  },
  {
   "cell_type": "code",
   "execution_count": null,
   "id": "12d4dbdf-7969-4e48-9da1-f96122d8780e",
   "metadata": {},
   "outputs": [],
   "source": [
    "\n",
    "np.ones((3, 2))   # Matriz 3x2 llena de unos"
   ]
  },
  {
   "cell_type": "markdown",
   "id": "c816e0a7-3b60-494d-9ec0-a21d6ec708df",
   "metadata": {},
   "source": [
    "Estas funciones permiten crear estructuras base que luego se pueden modificar, poblar o usar como plantillas para cálculos más complejos."
   ]
  },
  {
   "cell_type": "markdown",
   "id": "80b4ce4a-dde7-4459-a0c7-63c0fdbd0395",
   "metadata": {},
   "source": [
    "## 3. Operaciones matemáticas básicas\n",
    "---\n",
    "\n",
    "En esta sección aprenderás a aplicar operaciones matemáticas directamente sobre arreglos de `NumPy`. Este tipo de operaciones **vectorizadas** permiten trabajar de forma eficiente con grandes volúmenes de datos sin necesidad de usar bucles.\n"
   ]
  },
  {
   "cell_type": "markdown",
   "id": "f8087ae2-9f13-4659-8263-7c32dcd61d8a",
   "metadata": {},
   "source": [
    "###  3.1. Operaciones aritméticas básicas ➕➖✖️➗\n",
    "\n",
    "Las operaciones como suma, resta, multiplicación y división se realizan **elemento a elemento** (*element-wise*), siempre que los arreglos tengan la misma forma (`shape`).\n"
   ]
  },
  {
   "cell_type": "code",
   "execution_count": null,
   "id": "82ebe0f0-249e-4fe3-8127-645ca4c89b1d",
   "metadata": {},
   "outputs": [],
   "source": [
    "a = np.array([1, 2, 3])\n",
    "b = np.array([10, 20, 30])\n",
    "a, b"
   ]
  },
  {
   "cell_type": "markdown",
   "id": "e0bbf269-1388-40db-b277-059c7266da2f",
   "metadata": {},
   "source": [
    "Ambos arreglos tienen una forma `(3,)`, es decir, un vector unidimensional de tres elementos. Por tanto, podemos sumarlos o multiplicarlos directamente:"
   ]
  },
  {
   "cell_type": "code",
   "execution_count": null,
   "id": "2e3b0200-108f-4b78-ab3e-2fd6a5108191",
   "metadata": {},
   "outputs": [],
   "source": [
    "print(\"Suma:\", a + b)\n",
    "print(\"Resta:\", a - b)\n",
    "print(\"Multiplicación:\", a * b)\n",
    "print(\"División:\", a / b)"
   ]
  },
  {
   "cell_type": "markdown",
   "id": "b1e670d3-ef11-4b04-b195-e1b9c7e775bb",
   "metadata": {},
   "source": [
    "> ⚠️ Si los arreglos tienen formas incompatibles, NumPy no podrá aplicar las operaciones directamente y generará un error, a menos que aplique **broadcasting**.\n"
   ]
  },
  {
   "cell_type": "markdown",
   "id": "5df2d098-2fc8-4285-b18c-98202aa56579",
   "metadata": {},
   "source": [
    "### 3.2. Potencias y funciones matemáticas 🧮\n",
    "\n",
    "NumPy incluye funciones para cálculo exponencial, raíces cuadradas, logaritmos, funciones trigonométricas, entre otras.\n"
   ]
  },
  {
   "cell_type": "code",
   "execution_count": null,
   "id": "31fb21c6-b585-40bd-8c4d-61ff919c81d3",
   "metadata": {},
   "outputs": [],
   "source": [
    "a = np.array([0, np.pi/2, np.pi])"
   ]
  },
  {
   "cell_type": "code",
   "execution_count": null,
   "id": "da2612ba-f2b0-4b1d-8a70-00849786d4b0",
   "metadata": {},
   "outputs": [],
   "source": [
    "print(\"Seno:\", np.sin(a))\n",
    "print(\"Coseno:\", np.cos(a))\n",
    "print(\"Exponencial:\", np.exp([1, 2]))"
   ]
  },
  {
   "cell_type": "markdown",
   "id": "828031af-bf34-4311-afbd-d1bda981e201",
   "metadata": {},
   "source": [
    "También puedes redondear los valores o aplicar funciones estadísticas como suma total:"
   ]
  },
  {
   "cell_type": "code",
   "execution_count": null,
   "id": "188d6cef-7095-4d57-bce6-3cba2427dbce",
   "metadata": {},
   "outputs": [],
   "source": [
    "valores = np.cos(a)\n",
    "print(\"Redondeo:\", np.round(valores, 2))\n",
    "print(\"Suma total:\", np.sum(valores))"
   ]
  },
  {
   "cell_type": "markdown",
   "id": "f1c16321-6160-49c0-aea5-6fdc5689617e",
   "metadata": {},
   "source": [
    "Estas herramientas serán fundamentales para el análisis numérico en climatología, física y otras ciencias."
   ]
  },
  {
   "cell_type": "markdown",
   "id": "47d547b1-bb23-44f6-b714-fe053e8eb47f",
   "metadata": {},
   "source": [
    "## 4. Indexado y selección de datos\n",
    "---\n",
    "\n",
    "En esta sección aprenderás cómo acceder, modificar y extraer valores de un arreglo o matriz utilizando índices. Este proceso se conoce como **indexado** (*indexing*) y es esencial para trabajar con subconjuntos de datos.\n",
    "\n",
    "NumPy sigue una convención de índices basada en `0`, lo que significa que el primer elemento está en la posición `0`, no en `1`.\n"
   ]
  },
  {
   "cell_type": "markdown",
   "id": "52d50464-33cd-461a-a219-963e100d5b42",
   "metadata": {},
   "source": [
    "### 🔢 Acceder a elementos en arreglos\n"
   ]
  },
  {
   "cell_type": "markdown",
   "id": "a0d83e40-e2de-4109-87b8-d32a40477ca7",
   "metadata": {},
   "source": [
    "Creamos un arreglo unidimensional (vector) con 4 elementos"
   ]
  },
  {
   "cell_type": "code",
   "execution_count": null,
   "id": "69216484-fd6c-43bc-8b6e-2209e26393a7",
   "metadata": {},
   "outputs": [],
   "source": [
    "a = np.array([10, 20, 30, 40]) "
   ]
  },
  {
   "cell_type": "markdown",
   "id": "83f49ed5-8419-4e46-85c7-7973043e3648",
   "metadata": {},
   "source": [
    "Accedemos al primer elemento del arreglo (índice 0)"
   ]
  },
  {
   "cell_type": "code",
   "execution_count": null,
   "id": "ee93984c-4aaf-4d12-bc81-4171d286ceaf",
   "metadata": {},
   "outputs": [],
   "source": [
    "print(\"Primer elemento:\", a[0])"
   ]
  },
  {
   "cell_type": "markdown",
   "id": "98b37a4f-94f6-42b7-ab42-834bbd2e97d7",
   "metadata": {},
   "source": [
    "Accedemos al último elemento usando índice negativo (-1). En NumPy, los índices negativos cuentan desde el final hacia el principio"
   ]
  },
  {
   "cell_type": "code",
   "execution_count": null,
   "id": "01a37056-b2fe-48da-aafb-e01953166abe",
   "metadata": {},
   "outputs": [],
   "source": [
    "print(\"Último elemento:\", a[-1])  # índice negativo"
   ]
  },
  {
   "cell_type": "markdown",
   "id": "a1be2657-f9b5-4d4c-a4d8-7d8fde04ae66",
   "metadata": {},
   "source": [
    "Accedemos a un rango de elementos del índice 1 al 2 (el índice 3 no se incluye)"
   ]
  },
  {
   "cell_type": "code",
   "execution_count": null,
   "id": "d8173ca3-7b6d-4b99-bf05-0d77f207faaf",
   "metadata": {},
   "outputs": [],
   "source": [
    "print(\"Rango del índice 1 al 2:\", a[1:3])  # → [20 30]"
   ]
  },
  {
   "cell_type": "markdown",
   "id": "a21adb89-6b4e-4e78-b535-184f994cd208",
   "metadata": {},
   "source": [
    "Modificamos el valor en la posición 2 (índice 2)"
   ]
  },
  {
   "cell_type": "code",
   "execution_count": null,
   "id": "c2378996-8114-4f63-a8de-cf2a29367825",
   "metadata": {},
   "outputs": [],
   "source": [
    "a[2] = 100\n",
    "print(\"Nuevo arreglo:\", a)  # → [10 20 100 40]"
   ]
  },
  {
   "cell_type": "markdown",
   "id": "a6b30849-75a3-494e-ac65-56c330604316",
   "metadata": {},
   "source": [
    "### 🧊 Acceso y modificación en matrices (2D arrays)\n",
    "Los arreglos bidimensionales —también llamados **matrices**— se indexan usando la notación `[fila, columna]`. NumPy empieza a contar desde `0`.\n"
   ]
  },
  {
   "cell_type": "markdown",
   "id": "a2095af7-410c-4648-9b98-fa46a5e8c347",
   "metadata": {},
   "source": [
    "Creamos una matriz 3x3 con valores del 0 al 8"
   ]
  },
  {
   "cell_type": "code",
   "execution_count": null,
   "id": "2204c408-b883-46e7-afd6-5a0467fc399c",
   "metadata": {},
   "outputs": [],
   "source": [
    "matriz = np.arange(9).reshape(3, 3)\n",
    "print(\"Matriz original:\\n\", matriz)"
   ]
  },
  {
   "attachments": {},
   "cell_type": "markdown",
   "id": "4d3c69e6-9050-46cb-9afa-f46640d7c455",
   "metadata": {},
   "source": [
    "#### 🎯 Acceder a un solo valor\n",
    "\n",
    "Elemento en la fila 0, columna 2"
   ]
  },
  {
   "cell_type": "code",
   "execution_count": null,
   "id": "4970a5c6-4a6c-4a75-8c1b-30edb7e187b3",
   "metadata": {},
   "outputs": [],
   "source": [
    "print(\"Elemento [0, 2]:\", matriz[0, 2])  # → 2"
   ]
  },
  {
   "cell_type": "markdown",
   "id": "fcbba678-8baa-43d5-a86d-28dd9dbb2178",
   "metadata": {},
   "source": [
    "Último elemento usando índices negativos"
   ]
  },
  {
   "cell_type": "code",
   "execution_count": null,
   "id": "080ad2c4-4c03-4306-b193-e542a4c7206f",
   "metadata": {},
   "outputs": [],
   "source": [
    "print(\"Último elemento:\", matriz[-1, -1])  # → 8"
   ]
  },
  {
   "cell_type": "markdown",
   "id": "240e9208-4e45-4ba6-80a9-6e490382e7f2",
   "metadata": {},
   "source": [
    "#### 🔍 Seleccionar una fila o columna completa"
   ]
  },
  {
   "cell_type": "markdown",
   "id": "4a58a56d-9c2d-4e7f-b5bc-ca0eaa440756",
   "metadata": {},
   "source": [
    "Fila completa (por ejemplo, la fila 1)"
   ]
  },
  {
   "cell_type": "code",
   "execution_count": null,
   "id": "f5765982-7724-4576-acb7-f57bbd151476",
   "metadata": {},
   "outputs": [],
   "source": [
    "print(\"Fila 1:\", matriz[1, :])  # → [3 4 5]"
   ]
  },
  {
   "cell_type": "markdown",
   "id": "491ce549-522d-49bd-9955-8f78b7069974",
   "metadata": {},
   "source": [
    "Columna completa (por ejemplo, la columna 0)"
   ]
  },
  {
   "cell_type": "code",
   "execution_count": null,
   "id": "d72a5671-4915-4649-97fe-b469556483db",
   "metadata": {},
   "outputs": [],
   "source": [
    "print(\"Columna 0:\", matriz[:, 0])  # → [0 3 6]"
   ]
  },
  {
   "cell_type": "markdown",
   "id": "994dd29c-81c1-4c31-a79d-73aceb92ae35",
   "metadata": {},
   "source": [
    "#### ✏️ Modificar un valor\n",
    "Cambiar el valor en la posición [2, 2]"
   ]
  },
  {
   "cell_type": "code",
   "execution_count": null,
   "id": "a94e9199-759a-4c5a-80b4-603965504b30",
   "metadata": {},
   "outputs": [],
   "source": [
    "matriz[2, 2] = 99\n",
    "print(\"Matriz modificada:\\n\", matriz)"
   ]
  },
  {
   "cell_type": "markdown",
   "id": "7d50c4fb-82bd-400c-bcce-212136765242",
   "metadata": {},
   "source": [
    "\n",
    "### ✅ En resumen\n",
    "\n",
    "Podemos seleccionar fácilmente subconjuntos de datos dentro de nuestros `numpy.ndarray`s usando **índices**, **slicing**, o **rangos**. Estas herramientas son esenciales para analizar, filtrar y transformar datos en cualquier proyecto científico.\n",
    "\n",
    "📸 La siguiente imagen (extraída de *Scipy Lectures*) muestra gráficamente cómo funciona el indexado en NumPy:\n",
    "\n",
    "```{figure} http://scipy-lectures.org/_images/numpy_indexing.png\n",
    ":name: numpy-indexing-figure\n",
    ":alt: NumPy indexing diagram\n",
    ":figclass: align-center\n",
    ":width: 450px\n",
    "\n",
    "Indexing in NumPy — from *Scipy Lectures*\n"
   ]
  },
  {
   "cell_type": "markdown",
   "id": "f9f0dd1d-7a5e-4b63-a7d2-6ffcde416dc3",
   "metadata": {},
   "source": [
    "## 5. Estadísticas y funciones comunes en arreglos\n",
    "---\n",
    "\n",
    "En esta sección aprenderás a aplicar funciones estadísticas básicas como suma, promedio y desviación estándar sobre arreglos (*arrays*) en `NumPy`. Estas funciones son fundamentales para analizar y resumir datos numéricos.\n"
   ]
  },
  {
   "cell_type": "markdown",
   "id": "45f6cb97-b41f-4b13-a482-919f7bfe65bf",
   "metadata": {},
   "source": [
    "### 📊 Operaciones estadísticas en 1D\n",
    "\n",
    "NumPy incluye métodos integrados que permiten calcular estadísticas comunes de forma rápida y directa. A continuación, creamos un arreglo unidimensional y aplicamos operaciones estadísticas básicas:\n"
   ]
  },
  {
   "cell_type": "code",
   "execution_count": null,
   "id": "2abb8510-6911-413d-9ddc-eb5be941c46c",
   "metadata": {},
   "outputs": [],
   "source": [
    "a = np.array([1, 2, 3, 4, 5])"
   ]
  },
  {
   "cell_type": "markdown",
   "id": "587a5f90-e352-469d-9ce3-b58a889de26b",
   "metadata": {},
   "source": [
    " Calculamos la suma total de los elementos del arreglo"
   ]
  },
  {
   "cell_type": "code",
   "execution_count": null,
   "id": "4ef0b18e-1664-45b4-bec0-304151d3e15b",
   "metadata": {},
   "outputs": [],
   "source": [
    "# Calculamos la suma total de los elementos del arreglo\n",
    "print(\"Suma:\", np.sum(a))                # 15\n",
    "\n",
    "# Calculamos el valor promedio (media aritmética)\n",
    "print(\"Promedio (mean):\", np.mean(a))    # 3.0\n",
    "\n",
    "# Calculamos la desviación estándar, que mide la dispersión de los datos\n",
    "print(\"Desviación estándar (std):\", np.std(a))  # 1.414...\n",
    "\n",
    "# Obtenemos el valor mínimo del arreglo\n",
    "print(\"Mínimo:\", np.min(a))              # 1\n",
    "\n",
    "# Obtenemos el valor máximo del arreglo\n",
    "print(\"Máximo:\", np.max(a))        "
   ]
  },
  {
   "cell_type": "markdown",
   "id": "68f81c68-c5f8-4e55-b2e0-b2b823efac71",
   "metadata": {},
   "source": [
    "### 🧮 Estadísticas en arreglos multidimensionales\n",
    "\n",
    "En esta parte aplicamos funciones estadísticas en **arreglos 2D**. Podemos especificar el eje (`axis`) para que la operación se aplique por filas o columnas."
   ]
  },
  {
   "cell_type": "markdown",
   "id": "59f7bf16-0e15-4fe0-b080-ea1743a5b550",
   "metadata": {},
   "source": [
    "Creamos una matriz de 2 filas por 3 columnas"
   ]
  },
  {
   "cell_type": "code",
   "execution_count": null,
   "id": "3851bb43-2cb6-4832-9b21-a6c68547ea24",
   "metadata": {},
   "outputs": [],
   "source": [
    "matriz = np.array([[1, 2, 3],\n",
    "                   [4, 5, 6]])"
   ]
  },
  {
   "cell_type": "code",
   "execution_count": null,
   "id": "103b6ab2-4003-4dd3-ab51-42ffec8b193c",
   "metadata": {},
   "outputs": [],
   "source": [
    "# Suma total de todos los elementos\n",
    "print(\"Suma total:\", np.sum(matriz))  # → 21\n",
    "\n",
    "# Suma por filas: suma horizontal (uno por cada fila)\n",
    "print(\"Suma por filas (axis=1):\", np.sum(matriz, axis=1))  # → [6 15]\n",
    "\n",
    "# Promedio por columnas: promedio vertical para cada columna\n",
    "print(\"Promedio por columnas (axis=0):\", np.mean(matriz, axis=0))  # → [2.5 3.5 4.5]"
   ]
  },
  {
   "cell_type": "markdown",
   "id": "7cc7cdc0-adb0-420a-b289-b608be56a0f0",
   "metadata": {},
   "source": [
    "> **axis=0** → operación vertical (por columnas)  \n",
    "> **axis=1** → operación horizontal (por filas)"
   ]
  },
  {
   "cell_type": "markdown",
   "id": "fce79ca7-e5cc-45e3-b10d-232c7bc28190",
   "metadata": {},
   "source": [
    "### 📈 Otras funciones útiles\n",
    "\n",
    "Estas funciones adicionales permiten obtener estadísticas acumulativas y centralizadas, ideales para análisis más detallados."
   ]
  },
  {
   "cell_type": "code",
   "execution_count": null,
   "id": "3422926e-70a8-49a3-89ed-cdd693762bcf",
   "metadata": {},
   "outputs": [],
   "source": [
    "a = np.array([1, 3, 5, 7, 9])"
   ]
  },
  {
   "cell_type": "code",
   "execution_count": null,
   "id": "0daf7217-5a50-412e-9f2f-e76974ab2d96",
   "metadata": {},
   "outputs": [],
   "source": [
    "# Calcula la mediana (valor central) del arreglo\n",
    "print(\"Mediana:\", np.median(a))  # → 5\n",
    "\n",
    "# Calcula la desviación estándar\n",
    "print(\"Desviación estándar:\", np.std(a))  # → 2.828...\n",
    "\n",
    "# Suma acumulada: suma progresiva de los elementos\n",
    "print(\"Valor acumulado:\", np.cumsum(a))  # → [1 4 9 16 25]\n",
    "\n",
    "# Producto acumulado: multiplicación progresiva de los elementos\n",
    "print(\"Producto acumulado:\", np.cumprod(a))  # → [1 3 15 105 945]"
   ]
  },
  {
   "cell_type": "markdown",
   "id": "6ab8c69e-445c-4a58-b615-04afd0138093",
   "metadata": {},
   "source": [
    "Estas funciones son fundamentales para describir la estructura estadística de tus datos de manera sencilla y rápida."
   ]
  },
  {
   "cell_type": "markdown",
   "id": "0351d817-7f48-4204-add5-6efac1a81c96",
   "metadata": {},
   "source": [
    "## 6. 🛰️ Broadcasting en NumPy\n",
    "---\n",
    "\n",
    "En esta sección conocerás uno de los conceptos más potentes (y confusos al principio) de NumPy: el **broadcasting**.  \n",
    "Este mecanismo permite realizar operaciones entre arreglos de **formas distintas**, sin necesidad de copiar o redimensionar los datos manualmente.\n"
   ]
  },
  {
   "cell_type": "markdown",
   "id": "d2ef8ab6-adce-434e-9dc3-7458720e9c82",
   "metadata": {},
   "source": [
    "\n",
    "### ❓ ¿Qué es el broadcasting?\n",
    "\n",
    "**Broadcasting** es una regla que aplica NumPy cuando se realizan operaciones entre arreglos que no tienen la misma forma (`shape`).  \n",
    "Si una de las dimensiones es 1 o puede \"extenderse\" a la forma del otro arreglo, NumPy lo ajusta automáticamente.\n",
    "\n",
    "> Esto permite, por ejemplo, sumar una fila a cada fila de una matriz, sin necesidad de usar un bucle `for`.\n",
    "\n",
    "### 📐 Ejemplo 1: sumar un escalar a un arreglo\n"
   ]
  },
  {
   "cell_type": "code",
   "execution_count": null,
   "id": "9c0b3aa6-41da-496c-990a-1c853cec8919",
   "metadata": {},
   "outputs": [],
   "source": [
    "a = np.array([10, 20, 30])"
   ]
  },
  {
   "cell_type": "code",
   "execution_count": null,
   "id": "6bdb2c61-192f-44f2-83d6-132feacc737f",
   "metadata": {},
   "outputs": [],
   "source": [
    "print(\"Original:\", a)"
   ]
  },
  {
   "cell_type": "markdown",
   "id": "73464ceb-7806-47a5-8032-f7405feb3110",
   "metadata": {},
   "source": [
    " Sumamos un escalar (3) a todos los elementos del arreglo"
   ]
  },
  {
   "cell_type": "code",
   "execution_count": null,
   "id": "f8f62dcb-a843-418b-a8d2-5a0b70212e6a",
   "metadata": {},
   "outputs": [],
   "source": [
    "print(\"Suma con escalar:\", a + 3)"
   ]
  },
  {
   "cell_type": "markdown",
   "id": "0f692036-e695-4568-b6df-b8441cbec8d7",
   "metadata": {},
   "source": [
    "✅ NumPy aplica el escalar a cada elemento del arreglo —no se necesita un bucle."
   ]
  },
  {
   "cell_type": "markdown",
   "id": "59ae5940-eabb-40f6-9af9-6d7cd52d565e",
   "metadata": {},
   "source": [
    "### 🧱 Ejemplo 2: sumar una fila a una matriz\n",
    "\n",
    "Definimos dos matrices:"
   ]
  },
  {
   "cell_type": "code",
   "execution_count": null,
   "id": "ee488f66-7c26-4e6a-9a5a-09ef2beebd54",
   "metadata": {},
   "outputs": [],
   "source": [
    "matriz = np.array([[1, 2, 3],\n",
    "                   [4, 5, 6]])\n",
    "\n",
    "fila = np.array([10, 20, 30])"
   ]
  },
  {
   "cell_type": "code",
   "execution_count": null,
   "id": "d94695db-8d4a-49f1-8bf8-d318f750cb6f",
   "metadata": {},
   "outputs": [],
   "source": [
    "matriz, fila"
   ]
  },
  {
   "cell_type": "markdown",
   "id": "e352e716-e89b-4d73-8a94-901fa71679b5",
   "metadata": {},
   "source": [
    "Suma fila a cada fila de la matriz"
   ]
  },
  {
   "cell_type": "code",
   "execution_count": null,
   "id": "20d384ea-5f20-4828-9e53-f7eb31a3a551",
   "metadata": {},
   "outputs": [],
   "source": [
    "resultado = matriz + fila\n",
    "print(\"Resultado:\\n\", resultado)"
   ]
  },
  {
   "cell_type": "markdown",
   "id": "037866ba-d69c-4922-b6b2-d26de9bb95bc",
   "metadata": {},
   "source": [
    "✅ Aquí `fila` tiene forma `(3,)` y se extiende a `(2, 3)` para coincidir con `matriz`."
   ]
  },
  {
   "cell_type": "markdown",
   "id": "5f1e02c0-b5c0-4ebb-9ed4-586353feac6e",
   "metadata": {},
   "source": [
    "### ⚠️ ¿Cuándo no funciona el broadcasting?\n",
    "\n",
    "El broadcasting solo funciona si las **dimensiones finales coinciden** o si una de ellas es `1`. De lo contrario, obtendrás un error:"
   ]
  },
  {
   "cell_type": "code",
   "execution_count": null,
   "id": "c5e050dd-2562-4099-befe-98341e417215",
   "metadata": {},
   "outputs": [],
   "source": [
    "a = np.array([1, 2, 3])      # shape: (3,)\n",
    "b = np.array([[1, 2],        # shape: (2, 2)\n",
    "              [3, 4]])"
   ]
  },
  {
   "cell_type": "code",
   "execution_count": null,
   "id": "c1e0c72e-e3c3-48d2-b5ed-7f3b049922d3",
   "metadata": {},
   "outputs": [],
   "source": [
    "a.shape, b.shape"
   ]
  },
  {
   "cell_type": "markdown",
   "id": "d8a176fb-f556-48d6-a2f5-26eacdc1b58d",
   "metadata": {},
   "source": [
    "Esto genera un error de broadcasting porque las formas no son compatibles"
   ]
  },
  {
   "cell_type": "markdown",
   "id": "e88967ce-e6dd-4b95-8d42-d5633ecce081",
   "metadata": {},
   "source": [
    "```python\n",
    "a + b \n",
    "\n",
    "ValueError: operands could not be broadcast together with shapes (3,) (2,2) \n",
    "```"
   ]
  },
  {
   "cell_type": "markdown",
   "id": "78be20bf-4465-4fc8-8df2-a68bdd20ede3",
   "metadata": {},
   "source": [
    "## 7. 🧰 Otras herramientas útiles de NumPy\n",
    "\n",
    "En esta sección exploramos algunas funciones adicionales muy útiles para la manipulación de datos:  \n",
    "📐 cambio de forma (`reshape`),  \n",
    "📎 combinación de arreglos (`concatenate`), y  \n",
    "🔍 filtrado condicional (`boolean indexing`).\n"
   ]
  },
  {
   "cell_type": "markdown",
   "id": "5a36df33-4eba-4b45-b988-1fb9ecaf5ab8",
   "metadata": {},
   "source": [
    "### 📐 Cambio de forma (`reshape`)\n",
    "\n",
    "Podemos reorganizar los datos de un arreglo sin cambiar su contenido:"
   ]
  },
  {
   "cell_type": "code",
   "execution_count": null,
   "id": "88941a78-1f5b-4e4d-868f-3353e5ed87bf",
   "metadata": {},
   "outputs": [],
   "source": [
    "a = np.arange(12)\n",
    "print(\"Original:\", a)"
   ]
  },
  {
   "cell_type": "markdown",
   "id": "b74ffcf6-8d37-44e0-ad22-81233ba7d839",
   "metadata": {},
   "source": [
    "Cambiamos la forma a una matriz de 3 filas x 4 columnas"
   ]
  },
  {
   "cell_type": "code",
   "execution_count": null,
   "id": "070ae0e5-43ca-4fe2-b888-c75100142610",
   "metadata": {},
   "outputs": [],
   "source": [
    "a_reshaped = a.reshape((3, 4))\n",
    "print(\"Reshape (3x4):\\n\", a_reshaped)"
   ]
  },
  {
   "cell_type": "markdown",
   "id": "d173190a-65ae-499a-9d4d-f0b446b618fb",
   "metadata": {},
   "source": [
    "> ⚠️ El número total de elementos debe mantenerse igual."
   ]
  },
  {
   "cell_type": "markdown",
   "id": "5e3bf033-a9be-41d6-adf0-31c8895e3a92",
   "metadata": {},
   "source": [
    "### 📎 Concatenación y apilamiento\n",
    "\n",
    "NumPy nos permite unir varios arreglos en una sola estructura:"
   ]
  },
  {
   "cell_type": "code",
   "execution_count": null,
   "id": "f5e22f6f-2c34-45b7-b4ad-989bd644516d",
   "metadata": {},
   "outputs": [],
   "source": [
    "a = np.array([[1, 2],\n",
    "              [3, 4]])\n",
    "b = np.array([[5, 6]])"
   ]
  },
  {
   "cell_type": "markdown",
   "id": "c66f4595-8b63-41eb-8594-197ef605d591",
   "metadata": {},
   "source": [
    "Apilamos verticalmente (una fila debajo de la otra)"
   ]
  },
  {
   "cell_type": "code",
   "execution_count": null,
   "id": "56b7935f-c013-48a4-adb9-cf0fa0910ac0",
   "metadata": {},
   "outputs": [],
   "source": [
    "print(\"Vertical (vstack):\\n\", np.vstack((a, b)))"
   ]
  },
  {
   "cell_type": "markdown",
   "id": "7bd05493-cae3-4c46-81a7-3ed1d5b4f1f5",
   "metadata": {},
   "source": [
    "Apilamos horizontalmente (una columna al lado de la otra)"
   ]
  },
  {
   "cell_type": "code",
   "execution_count": null,
   "id": "53b52235-c5a3-4d4d-8a76-63165584a852",
   "metadata": {},
   "outputs": [],
   "source": [
    "print(\"Horizontal (hstack):\\n\", np.hstack((a, a)))"
   ]
  },
  {
   "cell_type": "markdown",
   "id": "c310e6dc-7860-478b-9dae-1333af03da10",
   "metadata": {},
   "source": [
    "### 🔍 Filtrado con máscaras booleanas\n",
    "\n",
    "Podemos seleccionar elementos de un arreglo que cumplan una condición:"
   ]
  },
  {
   "cell_type": "code",
   "execution_count": null,
   "id": "b9678127-bac1-4f68-bbe6-72925144cc0f",
   "metadata": {},
   "outputs": [],
   "source": [
    "a = np.array([10, 20, 30, 40, 50])"
   ]
  },
  {
   "cell_type": "markdown",
   "id": "be877601-1e34-4d46-9ca8-73f36823c6cd",
   "metadata": {},
   "source": [
    "Creamos una máscara booleana"
   ]
  },
  {
   "cell_type": "code",
   "execution_count": null,
   "id": "5c3ada01-e71c-4fb7-b7d7-eaff9b5f7d48",
   "metadata": {},
   "outputs": [],
   "source": [
    "mask = a > 30\n",
    "print(\"Máscara:\", mask)"
   ]
  },
  {
   "cell_type": "markdown",
   "id": "e4922e2a-81f2-48e3-89dd-14d7806610d4",
   "metadata": {},
   "source": [
    "Aplicamos la máscara para filtrar valores"
   ]
  },
  {
   "cell_type": "code",
   "execution_count": null,
   "id": "b23567c7-a182-4fd7-9e3c-ec501ccf3e08",
   "metadata": {},
   "outputs": [],
   "source": [
    "print(\"Valores mayores a 30:\", a[mask])"
   ]
  },
  {
   "cell_type": "markdown",
   "id": "1d9d254f-354f-48fc-84cf-831678ef1370",
   "metadata": {},
   "source": [
    "> Este método es muy potente para extraer datos que cumplen ciertos criterios sin bucles explícitos."
   ]
  },
  {
   "cell_type": "markdown",
   "id": "6c1045ed-c6d6-4355-a6bd-27420d96d046",
   "metadata": {},
   "source": [
    "## ✅ Conclusión\n",
    "\n",
    "En este cuadernillo aprendiste los fundamentos del trabajo con **NumPy**, una herramienta esencial para el procesamiento numérico y científico con Python.\n",
    "\n",
    "🔑 En resumen:\n",
    "\n",
    "- Comprendiste qué es un `array` y cómo crearlo.\n",
    "- Realizaste operaciones matemáticas básicas y estadísticas.\n",
    "- Aplicaste técnicas de indexación y slicing.\n",
    "- Exploraste el concepto de **broadcasting** para operaciones entre formas diferentes.\n",
    "- Conociste herramientas adicionales como `reshape`, `concatenate` y **filtrado condicional**.\n",
    "\n",
    "Estas habilidades serán la base para trabajar con librerías más avanzadas como `Pandas` y `Xarray`.\n",
    "\n",
    "---\n",
    "\n",
    "## 🔗 Recursos recomendados\n",
    "\n",
    "- [📘 NumPy en Pythia Foundations](https://foundations.projectpythia.org/core/numpy.html)  \n",
    "- [📚 Documentación oficial de NumPy](https://numpy.org/doc/stable/)  \n",
    "- [🧠 Guía de SciPy Lectures: NumPy](http://scipy-lectures.org/intro/numpy/index.html)  \n",
    "---\n",
    "\n",
    "¡Buen trabajo! 💪 Ahora estás listo para continuar con **Pandas** y avanzar hacia el análisis de datos tabulares y series de tiempo.\n",
    "\n"
   ]
  },
  {
   "cell_type": "markdown",
   "id": "d2d1390c-d611-4229-99b2-296dfaf8e379",
   "metadata": {},
   "source": [
    "## Fuentes y Referencias\n",
    "\n",
    "* Rose, B. E. J., Kent, J., Tyle, K., Clyne, J., Banihirwe, A., Camron, D., May, R., Grover, M., Ford, R. R., Paul, K., Morley, J., Eroglu, O., Kailyn, L., & Zacharias, A. (2023). Pythia Foundations (Version v2023.05.01) https://doi.org/10.5281/zenodo.7884572"
   ]
  },
  {
   "cell_type": "code",
   "execution_count": null,
   "id": "793e1fcf-a66f-4e3c-b72f-86acbb5738ac",
   "metadata": {},
   "outputs": [],
   "source": []
  }
 ],
 "metadata": {
  "kernelspec": {
   "display_name": "Python 3 (ipykernel)",
   "language": "python",
   "name": "python3"
  },
  "language_info": {
   "codemirror_mode": {
    "name": "ipython",
    "version": 3
   },
   "file_extension": ".py",
   "mimetype": "text/x-python",
   "name": "python",
   "nbconvert_exporter": "python",
   "pygments_lexer": "ipython3",
   "version": "3.13.3"
  }
 },
 "nbformat": 4,
 "nbformat_minor": 5
}
