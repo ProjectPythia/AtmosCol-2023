{
 "cells": [
  {
   "cell_type": "markdown",
   "id": "87ff7857-b302-4476-a47c-46b1932272be",
   "metadata": {},
   "source": [
    "```{image} ../images/logos/pandas_secondary.svg\n",
    ":width: 230px\n",
    ":align: center\n",
    "```"
   ]
  },
  {
   "cell_type": "markdown",
   "id": "4bb349c1-5578-4a1b-8c4d-5334ee165639",
   "metadata": {},
   "source": [
    "# Introducción a Pandas\n",
    "---"
   ]
  },
  {
   "cell_type": "markdown",
   "id": "99444032-a31b-4c0d-af66-f05dae6d2900",
   "metadata": {},
   "source": [
    "`Pandas` es una librería de código abierto en Python diseñada para facilitar la manipulación y análisis de datos estructurados, especialmente aquellos en formato tabular (como hojas de cálculo o bases de datos).  \n",
    "Proporciona estructuras de datos potentes y flexibles, como `DataFrame` y `Series`, que permiten trabajar de forma eficiente con información numérica y etiquetada.\n"
   ]
  },
  {
   "cell_type": "markdown",
   "id": "e4a77fe4-e24a-4211-bcf3-2cdbf3b19a29",
   "metadata": {},
   "source": [
    "## 🎯 Objetivo\n",
    "\n",
    "Este cuadernillo tiene como objetivo introducir los conceptos fundamentales del uso de la biblioteca `Pandas` en Python, una herramienta esencial para el análisis de datos. Aprenderás a cargar, explorar, filtrar y visualizar conjuntos de datos en formato tabular de forma práctica y reproducible.\n",
    "\n",
    "\n",
    "## 📚 ¿Qué vas a aprender?\n",
    "\n",
    "Al finalizar este cuadernillo, serás capaz de:\n",
    "\n",
    "- Entender las estructuras de datos clave en Pandas: `Series` y `DataFrame`\n",
    "- Cargar datos desde archivos externos (como `.csv`)\n",
    "- Acceder, seleccionar y filtrar datos usando etiquetas o posiciones\n",
    "- Realizar análisis exploratorio y estadísticas básicas\n",
    "- Generar visualizaciones rápidas con los datos"
   ]
  },
  {
   "cell_type": "markdown",
   "id": "9ffb2360-e494-4ddc-858d-90fe4660d1ea",
   "metadata": {},
   "source": [
    "## ✅ Requisitos previos"
   ]
  },
  {
   "cell_type": "markdown",
   "id": "7ec5bb2e-0ed0-4cbd-a359-17630e1893bf",
   "metadata": {},
   "source": [
    "| Concepto | Importancia | Notas |\n",
    "| --- | --- | --- |\n",
    "| [Introducción a Python](./1.1Fundamentos-python.ipynb) | Necesario | Tipos de datos, funciones, operadores |\n",
    "| [Introducción a JupyterLab](./1.1Fundamentos-python.ipynb) | Necesario | Navegación y ejecución de celdas |\n",
    "| [Fundamentos de NumPy](./1.2Numpy-Pandas-Xarray.ipynb) | Necesario | Arrays, operaciones vectorizadas |\n"
   ]
  },
  {
   "cell_type": "markdown",
   "id": "b6c58323-cb87-4c1c-9ce7-1acbe5551755",
   "metadata": {},
   "source": [
    "⏱️ **Tiempo estimado de aprendizaje**: 20–25 minutos  \n",
    "✍️ **Formato**: interactivo, ejecuta y modifica el código a medida que avanzas"
   ]
  },
  {
   "cell_type": "markdown",
   "id": "65629cc2-ca57-45f7-83d7-36f122a6aca8",
   "metadata": {},
   "source": [
    "## 1. 🐼 ¿Qué es Pandas?\n",
    "---\n",
    "**Pandas** es una biblioteca de Python para el análisis y manipulación de datos estructurados.  \n",
    "Su nombre viene de *\"Panel Data\"*, un término utilizado en economía para referirse a conjuntos de datos multidimensionales.\n",
    "\n",
    "Está diseñada para facilitar el trabajo con:\n",
    "\n",
    "- Tablas similares a hojas de cálculo (como archivos `.csv`, Excel, SQL, etc.)\n",
    "- Series temporales\n",
    "- Datos con etiquetas (columnas y filas con nombres)\n",
    "\n",
    "Pandas proporciona dos estructuras de datos principales:\n",
    "\n",
    "| Objeto | Descripción |\n",
    "|--------|-------------|\n",
    "| `Series` | Columna de datos con índice (unidimensional) |\n",
    "| `DataFrame` | Tabla de datos con filas y columnas (bidimensional) |\n",
    "\n",
    "Estas estructuras permiten trabajar con datos de manera intuitiva, utilizando **etiquetas** en lugar de posiciones numéricas."
   ]
  },
  {
   "cell_type": "markdown",
   "id": "783649dc-7cd3-40a7-9b04-789346599b5c",
   "metadata": {},
   "source": [
    "Importamos Pandas"
   ]
  },
  {
   "cell_type": "code",
   "execution_count": 1,
   "id": "60fc7564-cec8-4341-b015-2af0b5483b1f",
   "metadata": {},
   "outputs": [],
   "source": [
    "import pandas as pd"
   ]
  },
  {
   "cell_type": "markdown",
   "id": "7b648258-9d2a-43d3-bef9-91024f610bf0",
   "metadata": {},
   "source": [
    "### 1.1. Crear una `Series` 🔤"
   ]
  },
  {
   "cell_type": "markdown",
   "id": "f9380081-b607-4b10-a3c6-423d1b6bfd4e",
   "metadata": {},
   "source": [
    "Una `Series` es como una columna en Excel. Cada elemento tiene un índice asociado:"
   ]
  },
  {
   "cell_type": "code",
   "execution_count": 2,
   "id": "10a621c2-7904-412a-a685-b92ba3d94e1c",
   "metadata": {},
   "outputs": [
    {
     "name": "stdout",
     "output_type": "stream",
     "text": [
      "0    10\n",
      "1    20\n",
      "2    30\n",
      "3    40\n",
      "dtype: int64\n"
     ]
    }
   ],
   "source": [
    "numeros = pd.Series([10, 20, 30, 40])\n",
    "print(numeros)"
   ]
  },
  {
   "cell_type": "markdown",
   "id": "765ca097-82a7-4a9a-b3b8-04d0f23f6a87",
   "metadata": {},
   "source": [
    "📝 ¿Qué significa esto?\n",
    "\n",
    "- A la **izquierda** se muestra el índice (por defecto empieza en 0).\n",
    "- A la **derecha** está el valor asociado a cada índice.\n",
    "- La última línea `dtype: int64` indica que los valores son enteros de 64 bits (`int64`), un tipo de dato numérico común en análisis de datos.\n",
    "\n",
    "> ✅ Las `Series` permiten usar índices personalizados, filtrar datos y aplicar operaciones matemáticas, lo que las hace muy útiles para trabajar con columnas individuales en un `DataFrame`."
   ]
  },
  {
   "cell_type": "markdown",
   "id": "e32186ce-8dd6-4d94-a1ad-e89bb3a159e3",
   "metadata": {},
   "source": [
    "### 1.2. Crear un `DataFrame` 📄 \n",
    "\n",
    "Un `DataFrame` es una tabla de datos con filas y columnas:"
   ]
  },
  {
   "cell_type": "code",
   "execution_count": 3,
   "id": "d5620881-14d5-4178-bbbd-6c73e51c22ed",
   "metadata": {},
   "outputs": [],
   "source": [
    "datos = {\n",
    "    \"País\": [\"Colombia\", \"Brasil\", \"México\"],\n",
    "    \"Población (millones)\": [51.52, 212.6, 126.7]\n",
    "}\n",
    "df = pd.DataFrame(datos)"
   ]
  },
  {
   "cell_type": "code",
   "execution_count": 4,
   "id": "d2547a0e-f037-4ac6-b501-ab8e5f21dec9",
   "metadata": {},
   "outputs": [
    {
     "name": "stdout",
     "output_type": "stream",
     "text": [
      "       País  Población (millones)\n",
      "0  Colombia                 51.52\n",
      "1    Brasil                212.60\n",
      "2    México                126.70\n"
     ]
    }
   ],
   "source": [
    "print(df)"
   ]
  },
  {
   "cell_type": "markdown",
   "id": "63e6d3a0-95b7-44e4-a5d8-38a3f51e8332",
   "metadata": {},
   "source": [
    "La salida del `DataFrame` es una tabla que contiene:\n",
    "\n",
    "- Una **columna de índice** a la izquierda: en este caso, Pandas ha asignado automáticamente los índices `0`, `1` y `2` para cada fila.\n",
    "- La **columna \"País\"**, que contiene cadenas de texto (`str`), con los nombres de los países.\n",
    "- La **columna \"Población (millones)\"**, que contiene valores numéricos con decimales (`float`), indicando la población en millones para cada país.\n",
    "\n",
    "Esta estructura es muy similar a una hoja de cálculo de Excel, donde:\n",
    "\n",
    "- Cada **fila** representa una entrada o registro.\n",
    "- Cada **columna** representa una variable o característica de los datos.\n",
    "\n",
    "> ✅ Los índices de fila (0, 1, 2) pueden personalizarse más adelante para que usen, por ejemplo, los nombres de los países.\n",
    "\n",
    "Puedes acceder a esta tabla como conjunto completo o trabajar con columnas y filas específicas, como veremos en las siguientes secciones.\n"
   ]
  },
  {
   "cell_type": "markdown",
   "id": "fe92cf3c-7af9-4360-91a1-301886c44716",
   "metadata": {},
   "source": [
    "## 2. 🗃️ Trabajando con DataFrames\n",
    "---\n",
    "El objeto `DataFrame` es la estructura central de Pandas. Nos permite trabajar con datos tabulares de forma eficiente y expresiva.\n",
    "\n"
   ]
  },
  {
   "cell_type": "markdown",
   "id": "5e4fa788-8e72-4e97-9fb7-01bc5f69fadd",
   "metadata": {},
   "source": [
    "### 2.1. ¿Cómo se ve un DataFrame? 🧱 \n",
    "\n",
    "Podemos construir un `DataFrame` fácilmente a partir de un diccionario de Python. Aquí un ejemplo con temperaturas promedio de algunas ciudades en enero:"
   ]
  },
  {
   "cell_type": "code",
   "execution_count": 5,
   "id": "abb7b32a-1bcf-4dd8-b5f7-c79241e00aca",
   "metadata": {},
   "outputs": [],
   "source": [
    "ciudades = {\n",
    "    \"Ciudad\": [\n",
    "        \"Bogotá\", \"Medellín\", \"Barranquilla\", \"Cali\", \"Pereira\",\n",
    "        \"Manizales\", \"Santa Marta\", \"Cartagena\", \"Tunja\", \"Bucaramanga\"\n",
    "    ],\n",
    "    \"Temp. Promedio (°C)\": [14.5, 22.3, 27.6, 24.0, 22.0, 18.0, 28.5, 28.0, 13.0, 23.5],\n",
    "    \"Altitud (msnm)\": [2640, 1475, 18, 1000, 1341, 2150, 6, 2, 2820, 959]\n",
    "}\n",
    "\n",
    "df = pd.DataFrame(ciudades)"
   ]
  },
  {
   "cell_type": "code",
   "execution_count": 6,
   "id": "9ba4ac77-6e40-4bb3-80eb-1bbf279447ea",
   "metadata": {},
   "outputs": [
    {
     "data": {
      "text/html": [
       "<div>\n",
       "<style scoped>\n",
       "    .dataframe tbody tr th:only-of-type {\n",
       "        vertical-align: middle;\n",
       "    }\n",
       "\n",
       "    .dataframe tbody tr th {\n",
       "        vertical-align: top;\n",
       "    }\n",
       "\n",
       "    .dataframe thead th {\n",
       "        text-align: right;\n",
       "    }\n",
       "</style>\n",
       "<table border=\"1\" class=\"dataframe\">\n",
       "  <thead>\n",
       "    <tr style=\"text-align: right;\">\n",
       "      <th></th>\n",
       "      <th>Ciudad</th>\n",
       "      <th>Temp. Promedio (°C)</th>\n",
       "      <th>Altitud (msnm)</th>\n",
       "    </tr>\n",
       "  </thead>\n",
       "  <tbody>\n",
       "    <tr>\n",
       "      <th>0</th>\n",
       "      <td>Bogotá</td>\n",
       "      <td>14.5</td>\n",
       "      <td>2640</td>\n",
       "    </tr>\n",
       "    <tr>\n",
       "      <th>1</th>\n",
       "      <td>Medellín</td>\n",
       "      <td>22.3</td>\n",
       "      <td>1475</td>\n",
       "    </tr>\n",
       "    <tr>\n",
       "      <th>2</th>\n",
       "      <td>Barranquilla</td>\n",
       "      <td>27.6</td>\n",
       "      <td>18</td>\n",
       "    </tr>\n",
       "    <tr>\n",
       "      <th>3</th>\n",
       "      <td>Cali</td>\n",
       "      <td>24.0</td>\n",
       "      <td>1000</td>\n",
       "    </tr>\n",
       "    <tr>\n",
       "      <th>4</th>\n",
       "      <td>Pereira</td>\n",
       "      <td>22.0</td>\n",
       "      <td>1341</td>\n",
       "    </tr>\n",
       "    <tr>\n",
       "      <th>5</th>\n",
       "      <td>Manizales</td>\n",
       "      <td>18.0</td>\n",
       "      <td>2150</td>\n",
       "    </tr>\n",
       "    <tr>\n",
       "      <th>6</th>\n",
       "      <td>Santa Marta</td>\n",
       "      <td>28.5</td>\n",
       "      <td>6</td>\n",
       "    </tr>\n",
       "    <tr>\n",
       "      <th>7</th>\n",
       "      <td>Cartagena</td>\n",
       "      <td>28.0</td>\n",
       "      <td>2</td>\n",
       "    </tr>\n",
       "    <tr>\n",
       "      <th>8</th>\n",
       "      <td>Tunja</td>\n",
       "      <td>13.0</td>\n",
       "      <td>2820</td>\n",
       "    </tr>\n",
       "    <tr>\n",
       "      <th>9</th>\n",
       "      <td>Bucaramanga</td>\n",
       "      <td>23.5</td>\n",
       "      <td>959</td>\n",
       "    </tr>\n",
       "  </tbody>\n",
       "</table>\n",
       "</div>"
      ],
      "text/plain": [
       "         Ciudad  Temp. Promedio (°C)  Altitud (msnm)\n",
       "0        Bogotá                 14.5            2640\n",
       "1      Medellín                 22.3            1475\n",
       "2  Barranquilla                 27.6              18\n",
       "3          Cali                 24.0            1000\n",
       "4       Pereira                 22.0            1341\n",
       "5     Manizales                 18.0            2150\n",
       "6   Santa Marta                 28.5               6\n",
       "7     Cartagena                 28.0               2\n",
       "8         Tunja                 13.0            2820\n",
       "9   Bucaramanga                 23.5             959"
      ]
     },
     "execution_count": 6,
     "metadata": {},
     "output_type": "execute_result"
    }
   ],
   "source": [
    "df"
   ]
  },
  {
   "cell_type": "markdown",
   "id": "75a1a51f-842d-48a8-a745-39d9aea0b8fa",
   "metadata": {},
   "source": [
    "<img src=\"../images/01_table_dataframe.svg\" width=500 alt=\"Dataframe\"></img> \n",
    "\n",
    "🔎 En esta imagen (inspirada en *Pythia Foundations*) puedes ver cómo:\n",
    "\n",
    "- Cada **fila** representa una observación (una ciudad).\n",
    "- Cada **columna** representa una variable (temperatura, altitud).\n",
    "- La columna gris a la izquierda representa el **índice** de las filas."
   ]
  },
  {
   "cell_type": "markdown",
   "id": "8a4e5e4d-d76a-407a-b7f8-2ba43a324f6c",
   "metadata": {},
   "source": [
    "✅ Este formato es muy útil para trabajar con datos tabulares como archivos `.csv`, bases de datos o resultados experimentales.\n"
   ]
  },
  {
   "cell_type": "markdown",
   "id": "f3a3d818-e302-4da7-ad5f-0827a4bc4b5e",
   "metadata": {},
   "source": [
    "### 2.2. Propiedades del DataFrame 🔍\n",
    "\n",
    "Pandas proporciona varios atributos para entender rápidamente la estructura de un `DataFrame`.\n",
    "\n",
    "**🔢 Índices de las filas**  \n",
    "Muestra el rango o tipo de índice que se está utilizando para las filas. Por defecto, es un rango numérico."
   ]
  },
  {
   "cell_type": "code",
   "execution_count": 7,
   "id": "b994b9d2-6ca4-4895-91ce-f89ebb201501",
   "metadata": {
    "scrolled": true
   },
   "outputs": [
    {
     "data": {
      "text/plain": [
       "RangeIndex(start=0, stop=10, step=1)"
      ]
     },
     "execution_count": 7,
     "metadata": {},
     "output_type": "execute_result"
    }
   ],
   "source": [
    "df.index        # Índices de fila"
   ]
  },
  {
   "cell_type": "markdown",
   "id": "545d358b-cecd-4b3f-923c-516544d9aca7",
   "metadata": {},
   "source": [
    "**🏷️ Nombres de las columnas**  \n",
    "Devuelve una lista con los nombres de todas las columnas del DataFrame."
   ]
  },
  {
   "cell_type": "code",
   "execution_count": 8,
   "id": "e608a87c-071f-44d7-838c-36cf24d14391",
   "metadata": {},
   "outputs": [
    {
     "data": {
      "text/plain": [
       "Index(['Ciudad', 'Temp. Promedio (°C)', 'Altitud (msnm)'], dtype='object')"
      ]
     },
     "execution_count": 8,
     "metadata": {},
     "output_type": "execute_result"
    }
   ],
   "source": [
    "df.columns      # Nombres de columnas"
   ]
  },
  {
   "cell_type": "markdown",
   "id": "066b7718-04ae-438f-b934-e775e83895ec",
   "metadata": {},
   "source": [
    "**📐 Dimensiones del DataFrame**  \n",
    "Nos dice cuántas filas y columnas tiene el DataFrame."
   ]
  },
  {
   "cell_type": "code",
   "execution_count": 9,
   "id": "1d53b354-2297-4e64-b4ef-cd291bf86f1d",
   "metadata": {},
   "outputs": [
    {
     "data": {
      "text/plain": [
       "(10, 3)"
      ]
     },
     "execution_count": 9,
     "metadata": {},
     "output_type": "execute_result"
    }
   ],
   "source": [
    "df.shape        # Tamaño: (número de filas, columnas)"
   ]
  },
  {
   "cell_type": "markdown",
   "id": "41590d98-0496-4dac-ba15-26cee22f866e",
   "metadata": {},
   "source": [
    "**🧪 Tipos de datos por columna**  \n",
    "Nos permite ver el tipo de datos (enteros, flotantes, texto, etc.) de cada columna. Muy útil para asegurarnos de que los datos se cargaron correctamente.\n"
   ]
  },
  {
   "cell_type": "code",
   "execution_count": 10,
   "id": "b004a03b-680e-4b69-a76a-e44f86fb8251",
   "metadata": {},
   "outputs": [
    {
     "data": {
      "text/plain": [
       "Ciudad                  object\n",
       "Temp. Promedio (°C)    float64\n",
       "Altitud (msnm)           int64\n",
       "dtype: object"
      ]
     },
     "execution_count": 10,
     "metadata": {},
     "output_type": "execute_result"
    }
   ],
   "source": [
    "df.dtypes       # Tipo de dato de cada columna"
   ]
  },
  {
   "cell_type": "markdown",
   "id": "3bb4aa54-8bd2-4c56-8a0a-6f2104a0e2f5",
   "metadata": {},
   "source": [
    "## 3. 📈 Series dentro de un DataFrame\n",
    "---\n",
    "Ya vimos que una `Series` es una estructura unidimensional con índice, similar a una columna de Excel. En un `DataFrame`, cada columna es internamente una `Series`.\n",
    "\n",
    "Veamos cómo podemos trabajar con ellas:"
   ]
  },
  {
   "cell_type": "markdown",
   "id": "72f8d02b-eb67-4f84-8a2d-493e0bd24f30",
   "metadata": {},
   "source": [
    "### 3.1. Acceder a una columna (como Series) 🧪\n",
    "Podemos acceder a una columna usando su nombre, lo que nos devuelve una `Series`:"
   ]
  },
  {
   "cell_type": "code",
   "execution_count": 11,
   "id": "21cfa046-1e41-4b5b-a78e-4f5ed50d600a",
   "metadata": {},
   "outputs": [
    {
     "data": {
      "text/plain": [
       "0    14.5\n",
       "1    22.3\n",
       "2    27.6\n",
       "3    24.0\n",
       "4    22.0\n",
       "5    18.0\n",
       "6    28.5\n",
       "7    28.0\n",
       "8    13.0\n",
       "9    23.5\n",
       "Name: Temp. Promedio (°C), dtype: float64"
      ]
     },
     "execution_count": 11,
     "metadata": {},
     "output_type": "execute_result"
    }
   ],
   "source": [
    "df[\"Temp. Promedio (°C)\"]"
   ]
  },
  {
   "cell_type": "markdown",
   "id": "0a2ac211-202a-4ad0-96fb-7759009665c6",
   "metadata": {},
   "source": [
    "También se puede usar la notación de atributo si el nombre no tiene espacios:"
   ]
  },
  {
   "cell_type": "code",
   "execution_count": 12,
   "id": "e413b111-a772-4392-ac92-747bd378c4b0",
   "metadata": {},
   "outputs": [
    {
     "data": {
      "text/plain": [
       "0          Bogotá\n",
       "1        Medellín\n",
       "2    Barranquilla\n",
       "3            Cali\n",
       "4         Pereira\n",
       "5       Manizales\n",
       "6     Santa Marta\n",
       "7       Cartagena\n",
       "8           Tunja\n",
       "9     Bucaramanga\n",
       "Name: Ciudad, dtype: object"
      ]
     },
     "execution_count": 12,
     "metadata": {},
     "output_type": "execute_result"
    }
   ],
   "source": [
    "df.Ciudad  # Igual a df[\"Ciudad\"]"
   ]
  },
  {
   "cell_type": "markdown",
   "id": "9bb42dea-f587-4767-90f1-e21d39ed1d35",
   "metadata": {},
   "source": [
    "### 3.2. Acceder a una fila específica 🔍\n",
    "\n",
    "En Pandas, cada **fila** de un `DataFrame` representa una observación, como un registro en una base de datos o una fila de Excel. Para acceder a estas observaciones completas, usamos dos métodos muy útiles:\n",
    "\n",
    "#### 🧭 `.loc[]`: acceso por **etiqueta**"
   ]
  },
  {
   "cell_type": "code",
   "execution_count": 13,
   "id": "9e2f2f3c-fc9e-4270-9510-ede21ed371a7",
   "metadata": {},
   "outputs": [
    {
     "data": {
      "text/plain": [
       "Ciudad                 Bogotá\n",
       "Temp. Promedio (°C)      14.5\n",
       "Altitud (msnm)           2640\n",
       "Name: 0, dtype: object"
      ]
     },
     "execution_count": 13,
     "metadata": {},
     "output_type": "execute_result"
    }
   ],
   "source": [
    "df.loc[0]      # Por etiqueta (funciona bien si el índice es texto)"
   ]
  },
  {
   "cell_type": "markdown",
   "id": "dc6dbdea-3199-45db-92f3-96cb9d6342cc",
   "metadata": {},
   "source": [
    "🟡 Este método es útil si tu índice no es numérico, por ejemplo:"
   ]
  },
  {
   "cell_type": "code",
   "execution_count": 14,
   "id": "e6469db9-446b-4ee7-a810-8b950de1cd18",
   "metadata": {},
   "outputs": [
    {
     "data": {
      "text/plain": [
       "Ciudad                 Medellín\n",
       "Temp. Promedio (°C)        22.3\n",
       "Altitud (msnm)             1475\n",
       "Name: med, dtype: object"
      ]
     },
     "execution_count": 14,
     "metadata": {},
     "output_type": "execute_result"
    }
   ],
   "source": [
    "df.index = [\"bog\", \"med\", \"bar\", \"cal\", \"per\", \"man\", \"sam\", \"car\", \"tun\", \"buc\"]\n",
    "df.loc[\"med\"]"
   ]
  },
  {
   "cell_type": "markdown",
   "id": "ebc8b7be-7ff8-4f09-85ff-a7faa6f6b116",
   "metadata": {},
   "source": [
    "#### 📏 `.iloc[]`: acceso por **posición entera**\n",
    "\n",
    "Usamos `.iloc[]` cuando queremos acceder a una fila por su **posición** (sin importar el valor del índice).\n"
   ]
  },
  {
   "cell_type": "code",
   "execution_count": 15,
   "id": "e5663921-fe7c-4890-90dd-878998b8ad49",
   "metadata": {},
   "outputs": [
    {
     "data": {
      "text/plain": [
       "Ciudad                 Bogotá\n",
       "Temp. Promedio (°C)      14.5\n",
       "Altitud (msnm)           2640\n",
       "Name: bog, dtype: object"
      ]
     },
     "execution_count": 15,
     "metadata": {},
     "output_type": "execute_result"
    }
   ],
   "source": [
    "df.iloc[0]     # Por posición"
   ]
  },
  {
   "cell_type": "markdown",
   "id": "36b430e4-4eb8-4c46-a0c4-e9caab90eb43",
   "metadata": {},
   "source": [
    "💡 Este método siempre funciona, independientemente del tipo de índice que tenga tu `DataFrame`."
   ]
  },
  {
   "cell_type": "markdown",
   "id": "455fb48b-11b5-430c-82f5-90cb57b14ce7",
   "metadata": {},
   "source": [
    "### 3.3. Filtrar y seleccionar datos por condiciones 🎯\n",
    "\n",
    "Una de las fortalezas de Pandas es la facilidad para **seleccionar subconjuntos** de datos usando condiciones lógicas. A esto se le llama \"filtrado\".\n"
   ]
  },
  {
   "cell_type": "markdown",
   "id": "79cae432-8856-4f3a-aa69-21c893cde702",
   "metadata": {},
   "source": [
    "#### ✅ Filtrar filas que cumplan una condición\n",
    "\n",
    "Por ejemplo, si queremos ver solo las ciudades con temperatura mayor a 20°C:"
   ]
  },
  {
   "cell_type": "code",
   "execution_count": 16,
   "id": "a32c6131-d34b-4dd3-bffd-88aebf7803e0",
   "metadata": {},
   "outputs": [
    {
     "data": {
      "text/html": [
       "<div>\n",
       "<style scoped>\n",
       "    .dataframe tbody tr th:only-of-type {\n",
       "        vertical-align: middle;\n",
       "    }\n",
       "\n",
       "    .dataframe tbody tr th {\n",
       "        vertical-align: top;\n",
       "    }\n",
       "\n",
       "    .dataframe thead th {\n",
       "        text-align: right;\n",
       "    }\n",
       "</style>\n",
       "<table border=\"1\" class=\"dataframe\">\n",
       "  <thead>\n",
       "    <tr style=\"text-align: right;\">\n",
       "      <th></th>\n",
       "      <th>Ciudad</th>\n",
       "      <th>Temp. Promedio (°C)</th>\n",
       "      <th>Altitud (msnm)</th>\n",
       "    </tr>\n",
       "  </thead>\n",
       "  <tbody>\n",
       "    <tr>\n",
       "      <th>med</th>\n",
       "      <td>Medellín</td>\n",
       "      <td>22.3</td>\n",
       "      <td>1475</td>\n",
       "    </tr>\n",
       "    <tr>\n",
       "      <th>bar</th>\n",
       "      <td>Barranquilla</td>\n",
       "      <td>27.6</td>\n",
       "      <td>18</td>\n",
       "    </tr>\n",
       "    <tr>\n",
       "      <th>cal</th>\n",
       "      <td>Cali</td>\n",
       "      <td>24.0</td>\n",
       "      <td>1000</td>\n",
       "    </tr>\n",
       "    <tr>\n",
       "      <th>per</th>\n",
       "      <td>Pereira</td>\n",
       "      <td>22.0</td>\n",
       "      <td>1341</td>\n",
       "    </tr>\n",
       "    <tr>\n",
       "      <th>sam</th>\n",
       "      <td>Santa Marta</td>\n",
       "      <td>28.5</td>\n",
       "      <td>6</td>\n",
       "    </tr>\n",
       "    <tr>\n",
       "      <th>car</th>\n",
       "      <td>Cartagena</td>\n",
       "      <td>28.0</td>\n",
       "      <td>2</td>\n",
       "    </tr>\n",
       "    <tr>\n",
       "      <th>buc</th>\n",
       "      <td>Bucaramanga</td>\n",
       "      <td>23.5</td>\n",
       "      <td>959</td>\n",
       "    </tr>\n",
       "  </tbody>\n",
       "</table>\n",
       "</div>"
      ],
      "text/plain": [
       "           Ciudad  Temp. Promedio (°C)  Altitud (msnm)\n",
       "med      Medellín                 22.3            1475\n",
       "bar  Barranquilla                 27.6              18\n",
       "cal          Cali                 24.0            1000\n",
       "per       Pereira                 22.0            1341\n",
       "sam   Santa Marta                 28.5               6\n",
       "car     Cartagena                 28.0               2\n",
       "buc   Bucaramanga                 23.5             959"
      ]
     },
     "execution_count": 16,
     "metadata": {},
     "output_type": "execute_result"
    }
   ],
   "source": [
    "df[df[\"Temp. Promedio (°C)\"] > 20]"
   ]
  },
  {
   "cell_type": "markdown",
   "id": "d5855a1c-1e08-4f48-8cc6-2c7badf003a0",
   "metadata": {},
   "source": [
    "📌 Esto devuelve un nuevo `DataFrame` con las filas que cumplen la condición."
   ]
  },
  {
   "cell_type": "markdown",
   "id": "5a1ca1f5-4d4d-495a-92ad-80c28e163682",
   "metadata": {},
   "source": [
    "#### 🔍 Filtrar usando múltiples condiciones\n",
    "\n",
    "Si queremos ver ciudades con temperatura mayor a 20°C **y** altitud menor a 2000 msnm:\n"
   ]
  },
  {
   "cell_type": "code",
   "execution_count": 17,
   "id": "f39709c1-0c60-4b15-8210-357b3227b4f2",
   "metadata": {},
   "outputs": [
    {
     "data": {
      "text/html": [
       "<div>\n",
       "<style scoped>\n",
       "    .dataframe tbody tr th:only-of-type {\n",
       "        vertical-align: middle;\n",
       "    }\n",
       "\n",
       "    .dataframe tbody tr th {\n",
       "        vertical-align: top;\n",
       "    }\n",
       "\n",
       "    .dataframe thead th {\n",
       "        text-align: right;\n",
       "    }\n",
       "</style>\n",
       "<table border=\"1\" class=\"dataframe\">\n",
       "  <thead>\n",
       "    <tr style=\"text-align: right;\">\n",
       "      <th></th>\n",
       "      <th>Ciudad</th>\n",
       "      <th>Temp. Promedio (°C)</th>\n",
       "      <th>Altitud (msnm)</th>\n",
       "    </tr>\n",
       "  </thead>\n",
       "  <tbody>\n",
       "    <tr>\n",
       "      <th>med</th>\n",
       "      <td>Medellín</td>\n",
       "      <td>22.3</td>\n",
       "      <td>1475</td>\n",
       "    </tr>\n",
       "    <tr>\n",
       "      <th>bar</th>\n",
       "      <td>Barranquilla</td>\n",
       "      <td>27.6</td>\n",
       "      <td>18</td>\n",
       "    </tr>\n",
       "    <tr>\n",
       "      <th>cal</th>\n",
       "      <td>Cali</td>\n",
       "      <td>24.0</td>\n",
       "      <td>1000</td>\n",
       "    </tr>\n",
       "    <tr>\n",
       "      <th>per</th>\n",
       "      <td>Pereira</td>\n",
       "      <td>22.0</td>\n",
       "      <td>1341</td>\n",
       "    </tr>\n",
       "    <tr>\n",
       "      <th>sam</th>\n",
       "      <td>Santa Marta</td>\n",
       "      <td>28.5</td>\n",
       "      <td>6</td>\n",
       "    </tr>\n",
       "    <tr>\n",
       "      <th>car</th>\n",
       "      <td>Cartagena</td>\n",
       "      <td>28.0</td>\n",
       "      <td>2</td>\n",
       "    </tr>\n",
       "    <tr>\n",
       "      <th>buc</th>\n",
       "      <td>Bucaramanga</td>\n",
       "      <td>23.5</td>\n",
       "      <td>959</td>\n",
       "    </tr>\n",
       "  </tbody>\n",
       "</table>\n",
       "</div>"
      ],
      "text/plain": [
       "           Ciudad  Temp. Promedio (°C)  Altitud (msnm)\n",
       "med      Medellín                 22.3            1475\n",
       "bar  Barranquilla                 27.6              18\n",
       "cal          Cali                 24.0            1000\n",
       "per       Pereira                 22.0            1341\n",
       "sam   Santa Marta                 28.5               6\n",
       "car     Cartagena                 28.0               2\n",
       "buc   Bucaramanga                 23.5             959"
      ]
     },
     "execution_count": 17,
     "metadata": {},
     "output_type": "execute_result"
    }
   ],
   "source": [
    "df[\n",
    "    (df[\"Temp. Promedio (°C)\"] > 20) &\n",
    "    (df[\"Altitud (msnm)\"] < 2000)\n",
    "]"
   ]
  },
  {
   "cell_type": "markdown",
   "id": "5e794b66-9deb-45e7-8ac1-189dc32200e1",
   "metadata": {},
   "source": [
    "⚠️ Las condiciones múltiples deben ir entre paréntesis  \n",
    "Y usamos `&` (y), `|` (o), `~` (no)."
   ]
  },
  {
   "cell_type": "markdown",
   "id": "9e243292-5f1e-4a79-b4dc-39d314223b4c",
   "metadata": {},
   "source": [
    "####  Filtrar y seleccionar columnas específicas 🗂️\n",
    "\n",
    "Si además queremos ver **solo algunas columnas**, lo combinamos con doble corchete:"
   ]
  },
  {
   "cell_type": "code",
   "execution_count": 18,
   "id": "95ce2587-5081-4cb5-8f48-eab694a17a9d",
   "metadata": {},
   "outputs": [
    {
     "data": {
      "text/html": [
       "<div>\n",
       "<style scoped>\n",
       "    .dataframe tbody tr th:only-of-type {\n",
       "        vertical-align: middle;\n",
       "    }\n",
       "\n",
       "    .dataframe tbody tr th {\n",
       "        vertical-align: top;\n",
       "    }\n",
       "\n",
       "    .dataframe thead th {\n",
       "        text-align: right;\n",
       "    }\n",
       "</style>\n",
       "<table border=\"1\" class=\"dataframe\">\n",
       "  <thead>\n",
       "    <tr style=\"text-align: right;\">\n",
       "      <th></th>\n",
       "      <th>Ciudad</th>\n",
       "      <th>Altitud (msnm)</th>\n",
       "    </tr>\n",
       "  </thead>\n",
       "  <tbody>\n",
       "    <tr>\n",
       "      <th>med</th>\n",
       "      <td>Medellín</td>\n",
       "      <td>1475</td>\n",
       "    </tr>\n",
       "    <tr>\n",
       "      <th>bar</th>\n",
       "      <td>Barranquilla</td>\n",
       "      <td>18</td>\n",
       "    </tr>\n",
       "    <tr>\n",
       "      <th>cal</th>\n",
       "      <td>Cali</td>\n",
       "      <td>1000</td>\n",
       "    </tr>\n",
       "    <tr>\n",
       "      <th>per</th>\n",
       "      <td>Pereira</td>\n",
       "      <td>1341</td>\n",
       "    </tr>\n",
       "    <tr>\n",
       "      <th>sam</th>\n",
       "      <td>Santa Marta</td>\n",
       "      <td>6</td>\n",
       "    </tr>\n",
       "    <tr>\n",
       "      <th>car</th>\n",
       "      <td>Cartagena</td>\n",
       "      <td>2</td>\n",
       "    </tr>\n",
       "    <tr>\n",
       "      <th>buc</th>\n",
       "      <td>Bucaramanga</td>\n",
       "      <td>959</td>\n",
       "    </tr>\n",
       "  </tbody>\n",
       "</table>\n",
       "</div>"
      ],
      "text/plain": [
       "           Ciudad  Altitud (msnm)\n",
       "med      Medellín            1475\n",
       "bar  Barranquilla              18\n",
       "cal          Cali            1000\n",
       "per       Pereira            1341\n",
       "sam   Santa Marta               6\n",
       "car     Cartagena               2\n",
       "buc   Bucaramanga             959"
      ]
     },
     "execution_count": 18,
     "metadata": {},
     "output_type": "execute_result"
    }
   ],
   "source": [
    "df[\n",
    "    (df[\"Temp. Promedio (°C)\"] > 20)\n",
    "][[\"Ciudad\", \"Altitud (msnm)\"]]"
   ]
  },
  {
   "cell_type": "markdown",
   "id": "acd62eee-4679-4c7d-b65c-e645c2b2904b",
   "metadata": {},
   "source": [
    "#### También puedes usar `.loc[]` 🧠 \n",
    "\n",
    "`.loc` permite combinar condiciones con selección explícita de columnas:\n"
   ]
  },
  {
   "cell_type": "code",
   "execution_count": 19,
   "id": "c861ce7c-97c4-4764-8643-bd735abad34c",
   "metadata": {},
   "outputs": [
    {
     "data": {
      "text/html": [
       "<div>\n",
       "<style scoped>\n",
       "    .dataframe tbody tr th:only-of-type {\n",
       "        vertical-align: middle;\n",
       "    }\n",
       "\n",
       "    .dataframe tbody tr th {\n",
       "        vertical-align: top;\n",
       "    }\n",
       "\n",
       "    .dataframe thead th {\n",
       "        text-align: right;\n",
       "    }\n",
       "</style>\n",
       "<table border=\"1\" class=\"dataframe\">\n",
       "  <thead>\n",
       "    <tr style=\"text-align: right;\">\n",
       "      <th></th>\n",
       "      <th>Ciudad</th>\n",
       "      <th>Temp. Promedio (°C)</th>\n",
       "    </tr>\n",
       "  </thead>\n",
       "  <tbody>\n",
       "    <tr>\n",
       "      <th>med</th>\n",
       "      <td>Medellín</td>\n",
       "      <td>22.3</td>\n",
       "    </tr>\n",
       "    <tr>\n",
       "      <th>bar</th>\n",
       "      <td>Barranquilla</td>\n",
       "      <td>27.6</td>\n",
       "    </tr>\n",
       "    <tr>\n",
       "      <th>cal</th>\n",
       "      <td>Cali</td>\n",
       "      <td>24.0</td>\n",
       "    </tr>\n",
       "    <tr>\n",
       "      <th>per</th>\n",
       "      <td>Pereira</td>\n",
       "      <td>22.0</td>\n",
       "    </tr>\n",
       "    <tr>\n",
       "      <th>sam</th>\n",
       "      <td>Santa Marta</td>\n",
       "      <td>28.5</td>\n",
       "    </tr>\n",
       "    <tr>\n",
       "      <th>car</th>\n",
       "      <td>Cartagena</td>\n",
       "      <td>28.0</td>\n",
       "    </tr>\n",
       "    <tr>\n",
       "      <th>buc</th>\n",
       "      <td>Bucaramanga</td>\n",
       "      <td>23.5</td>\n",
       "    </tr>\n",
       "  </tbody>\n",
       "</table>\n",
       "</div>"
      ],
      "text/plain": [
       "           Ciudad  Temp. Promedio (°C)\n",
       "med      Medellín                 22.3\n",
       "bar  Barranquilla                 27.6\n",
       "cal          Cali                 24.0\n",
       "per       Pereira                 22.0\n",
       "sam   Santa Marta                 28.5\n",
       "car     Cartagena                 28.0\n",
       "buc   Bucaramanga                 23.5"
      ]
     },
     "execution_count": 19,
     "metadata": {},
     "output_type": "execute_result"
    }
   ],
   "source": [
    "df.loc[\n",
    "    df[\"Temp. Promedio (°C)\"] > 20,\n",
    "    [\"Ciudad\", \"Temp. Promedio (°C)\"]\n",
    "]"
   ]
  },
  {
   "cell_type": "markdown",
   "id": "20eb5113-dd98-48fe-b1b0-a9280329efb5",
   "metadata": {},
   "source": [
    "✅ **Resumen rápido**:\n",
    "\n",
    "| Acción | Ejemplo |\n",
    "|-------|---------|\n",
    "| Filtrar filas | `df[df[\"col\"] > valor]` |\n",
    "| Varias condiciones | `(cond1) & (cond2)` |\n",
    "| Filtrar y seleccionar columnas | `df[cond][[\"col1\", \"col2\"]]` |\n",
    "| Con `.loc[]` | `df.loc[cond, [\"col1\", \"col2\"]]` |"
   ]
  },
  {
   "cell_type": "markdown",
   "id": "972ea4d3-1f48-4865-bdd7-ffe31d4e22b2",
   "metadata": {},
   "source": [
    "### 3.4 📊 Estadísticas básicas y resumen de datos\n",
    "\n",
    "Una vez cargamos nuestros datos, es importante poder **resumirlos estadísticamente** para tener una idea general de su distribución, tendencias y valores atípicos.\n"
   ]
  },
  {
   "cell_type": "markdown",
   "id": "eb066243-c9f0-45f3-9efe-f5378a1f08b7",
   "metadata": {},
   "source": [
    "#### 📌 Resumen estadístico rápido\n",
    "\n",
    "Usa `.describe()` para obtener un resumen estadístico de todas las columnas numéricas:\n"
   ]
  },
  {
   "cell_type": "code",
   "execution_count": 20,
   "id": "8920bc92-5c06-4687-b8d8-eb256a73bd49",
   "metadata": {},
   "outputs": [
    {
     "data": {
      "text/html": [
       "<div>\n",
       "<style scoped>\n",
       "    .dataframe tbody tr th:only-of-type {\n",
       "        vertical-align: middle;\n",
       "    }\n",
       "\n",
       "    .dataframe tbody tr th {\n",
       "        vertical-align: top;\n",
       "    }\n",
       "\n",
       "    .dataframe thead th {\n",
       "        text-align: right;\n",
       "    }\n",
       "</style>\n",
       "<table border=\"1\" class=\"dataframe\">\n",
       "  <thead>\n",
       "    <tr style=\"text-align: right;\">\n",
       "      <th></th>\n",
       "      <th>Temp. Promedio (°C)</th>\n",
       "      <th>Altitud (msnm)</th>\n",
       "    </tr>\n",
       "  </thead>\n",
       "  <tbody>\n",
       "    <tr>\n",
       "      <th>count</th>\n",
       "      <td>10.000000</td>\n",
       "      <td>10.000000</td>\n",
       "    </tr>\n",
       "    <tr>\n",
       "      <th>mean</th>\n",
       "      <td>22.140000</td>\n",
       "      <td>1241.100000</td>\n",
       "    </tr>\n",
       "    <tr>\n",
       "      <th>std</th>\n",
       "      <td>5.467114</td>\n",
       "      <td>1055.943964</td>\n",
       "    </tr>\n",
       "    <tr>\n",
       "      <th>min</th>\n",
       "      <td>13.000000</td>\n",
       "      <td>2.000000</td>\n",
       "    </tr>\n",
       "    <tr>\n",
       "      <th>25%</th>\n",
       "      <td>19.000000</td>\n",
       "      <td>253.250000</td>\n",
       "    </tr>\n",
       "    <tr>\n",
       "      <th>50%</th>\n",
       "      <td>22.900000</td>\n",
       "      <td>1170.500000</td>\n",
       "    </tr>\n",
       "    <tr>\n",
       "      <th>75%</th>\n",
       "      <td>26.700000</td>\n",
       "      <td>1981.250000</td>\n",
       "    </tr>\n",
       "    <tr>\n",
       "      <th>max</th>\n",
       "      <td>28.500000</td>\n",
       "      <td>2820.000000</td>\n",
       "    </tr>\n",
       "  </tbody>\n",
       "</table>\n",
       "</div>"
      ],
      "text/plain": [
       "       Temp. Promedio (°C)  Altitud (msnm)\n",
       "count            10.000000       10.000000\n",
       "mean             22.140000     1241.100000\n",
       "std               5.467114     1055.943964\n",
       "min              13.000000        2.000000\n",
       "25%              19.000000      253.250000\n",
       "50%              22.900000     1170.500000\n",
       "75%              26.700000     1981.250000\n",
       "max              28.500000     2820.000000"
      ]
     },
     "execution_count": 20,
     "metadata": {},
     "output_type": "execute_result"
    }
   ],
   "source": [
    "df.describe()"
   ]
  },
  {
   "cell_type": "markdown",
   "id": "5af2f82f-6856-4b89-9bdf-8d60acff5ef2",
   "metadata": {},
   "source": [
    "📋 Incluye: media, desviación estándar, mínimo, máximos y cuartiles."
   ]
  },
  {
   "cell_type": "markdown",
   "id": "3a8ebcc6-8f4b-4452-8eae-921bb44f8c17",
   "metadata": {},
   "source": [
    "#### 📈 Estadísticas comunes\n",
    "\n",
    "Puedes calcular medidas específicas sobre una columna (o Series):\n"
   ]
  },
  {
   "cell_type": "code",
   "execution_count": 21,
   "id": "ba2bc8f2-41ea-477c-a437-731e7dd96349",
   "metadata": {},
   "outputs": [
    {
     "data": {
      "text/plain": [
       "np.float64(22.14)"
      ]
     },
     "execution_count": 21,
     "metadata": {},
     "output_type": "execute_result"
    }
   ],
   "source": [
    "df[\"Temp. Promedio (°C)\"].mean()    # Media"
   ]
  },
  {
   "cell_type": "code",
   "execution_count": 22,
   "id": "1b5f5bf3-fdb5-475b-8181-b5781dd36a69",
   "metadata": {},
   "outputs": [
    {
     "data": {
      "text/plain": [
       "np.float64(5.467113802851861)"
      ]
     },
     "execution_count": 22,
     "metadata": {},
     "output_type": "execute_result"
    }
   ],
   "source": [
    "df[\"Temp. Promedio (°C)\"].std()     # Desviación estándar"
   ]
  },
  {
   "cell_type": "code",
   "execution_count": 23,
   "id": "98baf2d7-41dd-45a9-97da-cfed7c3640ce",
   "metadata": {},
   "outputs": [
    {
     "data": {
      "text/plain": [
       "np.float64(13.0)"
      ]
     },
     "execution_count": 23,
     "metadata": {},
     "output_type": "execute_result"
    }
   ],
   "source": [
    "df[\"Temp. Promedio (°C)\"].min()     # Mínimo"
   ]
  },
  {
   "cell_type": "code",
   "execution_count": 24,
   "id": "e9d495f5-9fc8-4dda-a8d4-e26fe2ad2041",
   "metadata": {},
   "outputs": [
    {
     "data": {
      "text/plain": [
       "np.float64(28.5)"
      ]
     },
     "execution_count": 24,
     "metadata": {},
     "output_type": "execute_result"
    }
   ],
   "source": [
    "df[\"Temp. Promedio (°C)\"].max()     # Máximo"
   ]
  },
  {
   "cell_type": "code",
   "execution_count": 25,
   "id": "15d77458-85c2-4faf-9d6f-bcbe1cb1280a",
   "metadata": {},
   "outputs": [
    {
     "data": {
      "text/plain": [
       "np.float64(22.9)"
      ]
     },
     "execution_count": 25,
     "metadata": {},
     "output_type": "execute_result"
    }
   ],
   "source": [
    "df[\"Temp. Promedio (°C)\"].median()  # Mediana"
   ]
  },
  {
   "cell_type": "markdown",
   "id": "c3b50a60-d1a4-473a-a72f-452f2992fc7c",
   "metadata": {},
   "source": [
    "También puedes hacerlo sobre todo el `DataFrame`:\n",
    "```python\n",
    "df.mean()\n",
    "TypeError: Could not convert ['BogotáMedellínBarranquilla'] to numeric\n",
    "```"
   ]
  },
  {
   "cell_type": "markdown",
   "id": "7edf8ec4-a7a2-46ac-be9d-87b958021b3b",
   "metadata": {},
   "source": [
    "<div class=\"alert alert-danger\">\n",
    "⚠️ <strong>Advertencia crítica:</strong><br>\n",
    "Las funciones estadísticas como <code>.mean()</code>, <code>.std()</code> o <code>.sum()</code> <strong>solo funcionan con columnas numéricas</strong>.<br><br>\n",
    "</div>\n",
    "\n",
    "Si tu <code>DataFrame</code> contiene columnas con texto (por ejemplo, nombres de ciudades), deberías filtrar las columnas antes de aplicar operaciones estadísticas:<br>\n",
    "<pre><code>df.select_dtypes(include=\"number\")</code></pre>\n",
    "Esto previene errores y asegura que las operaciones matemáticas se realicen correctamente.\n",
    "</div>"
   ]
  },
  {
   "cell_type": "code",
   "execution_count": 26,
   "id": "f655cdfe-4691-4b3b-ba23-31c4743263ce",
   "metadata": {},
   "outputs": [
    {
     "data": {
      "text/plain": [
       "Temp. Promedio (°C)      22.14\n",
       "Altitud (msnm)         1241.10\n",
       "dtype: float64"
      ]
     },
     "execution_count": 26,
     "metadata": {},
     "output_type": "execute_result"
    }
   ],
   "source": [
    "df.select_dtypes(include=\"number\").mean()"
   ]
  },
  {
   "cell_type": "markdown",
   "id": "6dd8b1bf-3ed2-4328-85f9-9ac43c24ff40",
   "metadata": {},
   "source": [
    "## 4. 📊 Análisis exploratorio de datos\n",
    "---\n",
    "Una vez que tienes tus datos cargados en un `DataFrame`, Pandas ofrece muchas herramientas para explorarlos rápidamente.\n"
   ]
  },
  {
   "cell_type": "markdown",
   "id": "d3112470-e225-4068-9957-0c770233fbdb",
   "metadata": {},
   "source": [
    "### 🧠 4.1. Ver las primeras y últimas filas\n",
    "\n",
    "Es común empezar viendo un vistazo general de los datos. Para esto usamos `.head()` y `.tail()`, que nos permiten inspeccionar las primeras y últimas filas del `DataFrame`.\n"
   ]
  },
  {
   "cell_type": "code",
   "execution_count": 27,
   "id": "408c7426-7eb8-40f3-9120-22643e769c3a",
   "metadata": {},
   "outputs": [
    {
     "data": {
      "text/html": [
       "<div>\n",
       "<style scoped>\n",
       "    .dataframe tbody tr th:only-of-type {\n",
       "        vertical-align: middle;\n",
       "    }\n",
       "\n",
       "    .dataframe tbody tr th {\n",
       "        vertical-align: top;\n",
       "    }\n",
       "\n",
       "    .dataframe thead th {\n",
       "        text-align: right;\n",
       "    }\n",
       "</style>\n",
       "<table border=\"1\" class=\"dataframe\">\n",
       "  <thead>\n",
       "    <tr style=\"text-align: right;\">\n",
       "      <th></th>\n",
       "      <th>Ciudad</th>\n",
       "      <th>Temp. Promedio (°C)</th>\n",
       "      <th>Altitud (msnm)</th>\n",
       "    </tr>\n",
       "  </thead>\n",
       "  <tbody>\n",
       "    <tr>\n",
       "      <th>bog</th>\n",
       "      <td>Bogotá</td>\n",
       "      <td>14.5</td>\n",
       "      <td>2640</td>\n",
       "    </tr>\n",
       "    <tr>\n",
       "      <th>med</th>\n",
       "      <td>Medellín</td>\n",
       "      <td>22.3</td>\n",
       "      <td>1475</td>\n",
       "    </tr>\n",
       "    <tr>\n",
       "      <th>bar</th>\n",
       "      <td>Barranquilla</td>\n",
       "      <td>27.6</td>\n",
       "      <td>18</td>\n",
       "    </tr>\n",
       "    <tr>\n",
       "      <th>cal</th>\n",
       "      <td>Cali</td>\n",
       "      <td>24.0</td>\n",
       "      <td>1000</td>\n",
       "    </tr>\n",
       "    <tr>\n",
       "      <th>per</th>\n",
       "      <td>Pereira</td>\n",
       "      <td>22.0</td>\n",
       "      <td>1341</td>\n",
       "    </tr>\n",
       "  </tbody>\n",
       "</table>\n",
       "</div>"
      ],
      "text/plain": [
       "           Ciudad  Temp. Promedio (°C)  Altitud (msnm)\n",
       "bog        Bogotá                 14.5            2640\n",
       "med      Medellín                 22.3            1475\n",
       "bar  Barranquilla                 27.6              18\n",
       "cal          Cali                 24.0            1000\n",
       "per       Pereira                 22.0            1341"
      ]
     },
     "execution_count": 27,
     "metadata": {},
     "output_type": "execute_result"
    }
   ],
   "source": [
    "df.head()   # Muestra las primeras 5 filas"
   ]
  },
  {
   "cell_type": "code",
   "execution_count": 28,
   "id": "010b1af7-5aa4-48a9-8cfd-b8b3f7f2fdc1",
   "metadata": {},
   "outputs": [
    {
     "data": {
      "text/html": [
       "<div>\n",
       "<style scoped>\n",
       "    .dataframe tbody tr th:only-of-type {\n",
       "        vertical-align: middle;\n",
       "    }\n",
       "\n",
       "    .dataframe tbody tr th {\n",
       "        vertical-align: top;\n",
       "    }\n",
       "\n",
       "    .dataframe thead th {\n",
       "        text-align: right;\n",
       "    }\n",
       "</style>\n",
       "<table border=\"1\" class=\"dataframe\">\n",
       "  <thead>\n",
       "    <tr style=\"text-align: right;\">\n",
       "      <th></th>\n",
       "      <th>Ciudad</th>\n",
       "      <th>Temp. Promedio (°C)</th>\n",
       "      <th>Altitud (msnm)</th>\n",
       "    </tr>\n",
       "  </thead>\n",
       "  <tbody>\n",
       "    <tr>\n",
       "      <th>man</th>\n",
       "      <td>Manizales</td>\n",
       "      <td>18.0</td>\n",
       "      <td>2150</td>\n",
       "    </tr>\n",
       "    <tr>\n",
       "      <th>sam</th>\n",
       "      <td>Santa Marta</td>\n",
       "      <td>28.5</td>\n",
       "      <td>6</td>\n",
       "    </tr>\n",
       "    <tr>\n",
       "      <th>car</th>\n",
       "      <td>Cartagena</td>\n",
       "      <td>28.0</td>\n",
       "      <td>2</td>\n",
       "    </tr>\n",
       "    <tr>\n",
       "      <th>tun</th>\n",
       "      <td>Tunja</td>\n",
       "      <td>13.0</td>\n",
       "      <td>2820</td>\n",
       "    </tr>\n",
       "    <tr>\n",
       "      <th>buc</th>\n",
       "      <td>Bucaramanga</td>\n",
       "      <td>23.5</td>\n",
       "      <td>959</td>\n",
       "    </tr>\n",
       "  </tbody>\n",
       "</table>\n",
       "</div>"
      ],
      "text/plain": [
       "          Ciudad  Temp. Promedio (°C)  Altitud (msnm)\n",
       "man    Manizales                 18.0            2150\n",
       "sam  Santa Marta                 28.5               6\n",
       "car    Cartagena                 28.0               2\n",
       "tun        Tunja                 13.0            2820\n",
       "buc  Bucaramanga                 23.5             959"
      ]
     },
     "execution_count": 28,
     "metadata": {},
     "output_type": "execute_result"
    }
   ],
   "source": [
    "df.tail()   # Muestra las últimas 5 filas"
   ]
  },
  {
   "cell_type": "markdown",
   "id": "f1b47ba5-09b1-4d6f-8ad1-4cd5b6f7abb8",
   "metadata": {},
   "source": [
    "Puedes pasar un número como argumento para ver más o menos filas:"
   ]
  },
  {
   "cell_type": "code",
   "execution_count": 29,
   "id": "0bf7226a-6d6a-4acf-9a92-8cfbbb27116e",
   "metadata": {},
   "outputs": [
    {
     "data": {
      "text/html": [
       "<div>\n",
       "<style scoped>\n",
       "    .dataframe tbody tr th:only-of-type {\n",
       "        vertical-align: middle;\n",
       "    }\n",
       "\n",
       "    .dataframe tbody tr th {\n",
       "        vertical-align: top;\n",
       "    }\n",
       "\n",
       "    .dataframe thead th {\n",
       "        text-align: right;\n",
       "    }\n",
       "</style>\n",
       "<table border=\"1\" class=\"dataframe\">\n",
       "  <thead>\n",
       "    <tr style=\"text-align: right;\">\n",
       "      <th></th>\n",
       "      <th>Ciudad</th>\n",
       "      <th>Temp. Promedio (°C)</th>\n",
       "      <th>Altitud (msnm)</th>\n",
       "    </tr>\n",
       "  </thead>\n",
       "  <tbody>\n",
       "    <tr>\n",
       "      <th>bog</th>\n",
       "      <td>Bogotá</td>\n",
       "      <td>14.5</td>\n",
       "      <td>2640</td>\n",
       "    </tr>\n",
       "    <tr>\n",
       "      <th>med</th>\n",
       "      <td>Medellín</td>\n",
       "      <td>22.3</td>\n",
       "      <td>1475</td>\n",
       "    </tr>\n",
       "  </tbody>\n",
       "</table>\n",
       "</div>"
      ],
      "text/plain": [
       "       Ciudad  Temp. Promedio (°C)  Altitud (msnm)\n",
       "bog    Bogotá                 14.5            2640\n",
       "med  Medellín                 22.3            1475"
      ]
     },
     "execution_count": 29,
     "metadata": {},
     "output_type": "execute_result"
    }
   ],
   "source": [
    "df.head(2)  # Primeras 2 filas"
   ]
  },
  {
   "cell_type": "markdown",
   "id": "57e2f7b9-eda6-47f4-ab84-b3f0ac248309",
   "metadata": {},
   "source": [
    "### 📏 4.2. Información general del DataFrame\n",
    "\n",
    "Esta función es útil para entender la estructura del `DataFrame`: cuántas columnas hay, qué tipos de datos contiene, si hay valores nulos, etc.\n"
   ]
  },
  {
   "cell_type": "code",
   "execution_count": 30,
   "id": "a5bdde73-a5a0-4f82-9600-3a94c80d21db",
   "metadata": {},
   "outputs": [
    {
     "name": "stdout",
     "output_type": "stream",
     "text": [
      "<class 'pandas.core.frame.DataFrame'>\n",
      "Index: 10 entries, bog to buc\n",
      "Data columns (total 3 columns):\n",
      " #   Column               Non-Null Count  Dtype  \n",
      "---  ------               --------------  -----  \n",
      " 0   Ciudad               10 non-null     object \n",
      " 1   Temp. Promedio (°C)  10 non-null     float64\n",
      " 2   Altitud (msnm)       10 non-null     int64  \n",
      "dtypes: float64(1), int64(1), object(1)\n",
      "memory usage: 620.0+ bytes\n"
     ]
    }
   ],
   "source": [
    "df.info()"
   ]
  },
  {
   "cell_type": "markdown",
   "id": "6ce9aaf5-a479-4525-8b89-0095b6dc351e",
   "metadata": {},
   "source": [
    "\n",
    "Este comando te muestra:\n",
    "- El número de entradas (filas)\n",
    "- El número de columnas\n",
    "- El tipo de dato de cada columna\n",
    "- Cuántos datos no nulos tiene cada columna\n"
   ]
  },
  {
   "cell_type": "markdown",
   "id": "d4eff537-0695-418e-be2c-e49676c0e50e",
   "metadata": {},
   "source": [
    "### 📐 4.3. Estadísticas rápidas\n",
    "\n",
    "`describe()` te da una descripción estadística de las columnas numéricas, ideal para tener una idea de la distribución de los datos.\n",
    "\n"
   ]
  },
  {
   "cell_type": "code",
   "execution_count": 31,
   "id": "0abaa84c-1ca4-4806-b9f9-8e689effc90e",
   "metadata": {},
   "outputs": [
    {
     "data": {
      "text/html": [
       "<div>\n",
       "<style scoped>\n",
       "    .dataframe tbody tr th:only-of-type {\n",
       "        vertical-align: middle;\n",
       "    }\n",
       "\n",
       "    .dataframe tbody tr th {\n",
       "        vertical-align: top;\n",
       "    }\n",
       "\n",
       "    .dataframe thead th {\n",
       "        text-align: right;\n",
       "    }\n",
       "</style>\n",
       "<table border=\"1\" class=\"dataframe\">\n",
       "  <thead>\n",
       "    <tr style=\"text-align: right;\">\n",
       "      <th></th>\n",
       "      <th>Temp. Promedio (°C)</th>\n",
       "      <th>Altitud (msnm)</th>\n",
       "    </tr>\n",
       "  </thead>\n",
       "  <tbody>\n",
       "    <tr>\n",
       "      <th>count</th>\n",
       "      <td>10.000000</td>\n",
       "      <td>10.000000</td>\n",
       "    </tr>\n",
       "    <tr>\n",
       "      <th>mean</th>\n",
       "      <td>22.140000</td>\n",
       "      <td>1241.100000</td>\n",
       "    </tr>\n",
       "    <tr>\n",
       "      <th>std</th>\n",
       "      <td>5.467114</td>\n",
       "      <td>1055.943964</td>\n",
       "    </tr>\n",
       "    <tr>\n",
       "      <th>min</th>\n",
       "      <td>13.000000</td>\n",
       "      <td>2.000000</td>\n",
       "    </tr>\n",
       "    <tr>\n",
       "      <th>25%</th>\n",
       "      <td>19.000000</td>\n",
       "      <td>253.250000</td>\n",
       "    </tr>\n",
       "    <tr>\n",
       "      <th>50%</th>\n",
       "      <td>22.900000</td>\n",
       "      <td>1170.500000</td>\n",
       "    </tr>\n",
       "    <tr>\n",
       "      <th>75%</th>\n",
       "      <td>26.700000</td>\n",
       "      <td>1981.250000</td>\n",
       "    </tr>\n",
       "    <tr>\n",
       "      <th>max</th>\n",
       "      <td>28.500000</td>\n",
       "      <td>2820.000000</td>\n",
       "    </tr>\n",
       "  </tbody>\n",
       "</table>\n",
       "</div>"
      ],
      "text/plain": [
       "       Temp. Promedio (°C)  Altitud (msnm)\n",
       "count            10.000000       10.000000\n",
       "mean             22.140000     1241.100000\n",
       "std               5.467114     1055.943964\n",
       "min              13.000000        2.000000\n",
       "25%              19.000000      253.250000\n",
       "50%              22.900000     1170.500000\n",
       "75%              26.700000     1981.250000\n",
       "max              28.500000     2820.000000"
      ]
     },
     "execution_count": 31,
     "metadata": {},
     "output_type": "execute_result"
    }
   ],
   "source": [
    "df.describe()"
   ]
  },
  {
   "cell_type": "markdown",
   "id": "d51dba85-c0cd-4b70-982f-02c728f2ce5c",
   "metadata": {},
   "source": [
    "Devuelve:\n",
    "- Conteo (`count`)\n",
    "- Media (`mean`)\n",
    "- Desviación estándar (`std`)\n",
    "- Mínimo, percentiles (25%, 50%, 75%) y máximo"
   ]
  },
  {
   "cell_type": "markdown",
   "id": "a64f6d86-2700-44de-a656-9b9a42888cee",
   "metadata": {},
   "source": [
    "### 📎 4.4. Media, mínimo, máximo y más\n",
    "\n",
    "Puedes aplicar funciones estadísticas específicas como la media, mínimo, máximo y desviación estándar a columnas individuales:\n"
   ]
  },
  {
   "cell_type": "code",
   "execution_count": 32,
   "id": "1fbcac4a-fe28-465b-aed2-4c9bf710abf3",
   "metadata": {},
   "outputs": [
    {
     "data": {
      "text/plain": [
       "np.float64(22.14)"
      ]
     },
     "execution_count": 32,
     "metadata": {},
     "output_type": "execute_result"
    }
   ],
   "source": [
    "df[\"Temp. Promedio (°C)\"].mean()"
   ]
  },
  {
   "cell_type": "code",
   "execution_count": 33,
   "id": "b5122f74-0077-4969-a99e-17c339509058",
   "metadata": {},
   "outputs": [
    {
     "data": {
      "text/plain": [
       "np.float64(13.0)"
      ]
     },
     "execution_count": 33,
     "metadata": {},
     "output_type": "execute_result"
    }
   ],
   "source": [
    "df[\"Temp. Promedio (°C)\"].min()"
   ]
  },
  {
   "cell_type": "code",
   "execution_count": 34,
   "id": "d1d60caf-9115-44bf-85df-6f948e5b2d21",
   "metadata": {},
   "outputs": [
    {
     "data": {
      "text/plain": [
       "np.float64(28.5)"
      ]
     },
     "execution_count": 34,
     "metadata": {},
     "output_type": "execute_result"
    }
   ],
   "source": [
    "df[\"Temp. Promedio (°C)\"].max()"
   ]
  },
  {
   "cell_type": "code",
   "execution_count": 35,
   "id": "08e7fc4a-6968-4388-8597-65c0255a8e9e",
   "metadata": {},
   "outputs": [
    {
     "data": {
      "text/plain": [
       "np.float64(5.467113802851861)"
      ]
     },
     "execution_count": 35,
     "metadata": {},
     "output_type": "execute_result"
    }
   ],
   "source": [
    "df[\"Temp. Promedio (°C)\"].std()"
   ]
  },
  {
   "cell_type": "markdown",
   "id": "4a1ea2cf-1ba6-4300-8797-4f34c50cb4e5",
   "metadata": {},
   "source": [
    "## 📊 5. Visualizaciones rápidas\n",
    "\n",
    "Una de las ventajas de Pandas es que permite crear visualizaciones rápidas sin necesidad de importar explícitamente librerías de gráficos como `matplotlib`.\n",
    "\n",
    "### 📈 5.1. Gráfico de líneas\n",
    "\n",
    "Ideal para observar series temporales o tendencias."
   ]
  },
  {
   "cell_type": "code",
   "execution_count": 36,
   "id": "0b1f299b-89cb-478d-a36c-c84137d2c9e6",
   "metadata": {},
   "outputs": [
    {
     "data": {
      "image/png": "[encoded data removed]",
      "text/plain": [
       "<Figure size 640x480 with 1 Axes>"
      ]
     },
     "metadata": {},
     "output_type": "display_data"
    }
   ],
   "source": [
    "df[\"Temp. Promedio (°C)\"].plot(title=\"Temperatura promedio por ciudad\", marker=\"o\");"
   ]
  },
  {
   "cell_type": "markdown",
   "id": "351ad9a2-8a4a-46c4-bc5c-6792a004d4aa",
   "metadata": {},
   "source": [
    "### 📊 5.2. Histograma\n",
    "\n",
    "Útil para ver la **distribución** de los datos numéricos.\n"
   ]
  },
  {
   "cell_type": "code",
   "execution_count": 37,
   "id": "2fa208ce-9c20-41b4-90a8-54381c5b9f15",
   "metadata": {},
   "outputs": [
    {
     "data": {
      "image/png": "[encoded data removed]",
      "text/plain": [
       "<Figure size 640x480 with 1 Axes>"
      ]
     },
     "metadata": {},
     "output_type": "display_data"
    }
   ],
   "source": [
    "df[\"Temp. Promedio (°C)\"].plot.hist(bins=5, title=\"Distribución de temperaturas\");\n"
   ]
  },
  {
   "cell_type": "markdown",
   "id": "3a544cbc-cad5-43a9-b6a2-ba96c827c868",
   "metadata": {},
   "source": [
    "### 🧱 5.3. Diagrama de cajas (Boxplot)\n",
    "\n",
    "Muestra estadísticas como **mediana**, cuartiles y posibles **valores atípicos**.\n"
   ]
  },
  {
   "cell_type": "code",
   "execution_count": 38,
   "id": "83715fc7-6b29-4163-84bc-8858f9b6bd6e",
   "metadata": {},
   "outputs": [
    {
     "data": {
      "image/png": "[encoded data removed]",
      "text/plain": [
       "<Figure size 640x480 with 1 Axes>"
      ]
     },
     "metadata": {},
     "output_type": "display_data"
    }
   ],
   "source": [
    "df[[\"Temp. Promedio (°C)\"]].plot.box(title=\"Resumen estadístico\");"
   ]
  },
  {
   "cell_type": "markdown",
   "id": "114815de-b995-4ca6-a7d1-1eb3d3a7aca7",
   "metadata": {},
   "source": [
    "### 📊 5.4. Gráfico de barras\n",
    "\n",
    "Perfecto para comparar valores **entre categorías**, como ciudades."
   ]
  },
  {
   "cell_type": "code",
   "execution_count": 39,
   "id": "b5f7e842-e621-4f37-8b25-9cee55cbe776",
   "metadata": {},
   "outputs": [
    {
     "data": {
      "image/png": "[encoded data removed]",
      "text/plain": [
       "<Figure size 640x480 with 1 Axes>"
      ]
     },
     "metadata": {},
     "output_type": "display_data"
    }
   ],
   "source": [
    "df[\"Temp. Promedio (°C)\"].plot.bar(title=\"Temperatura promedio por ciudad\");"
   ]
  },
  {
   "cell_type": "markdown",
   "id": "8534e021-b8a6-4b37-ab40-4cf8ccf7bf6b",
   "metadata": {},
   "source": [
    "Si prefieres que se muestre **horizontal**, puedes usar `.barh()`:"
   ]
  },
  {
   "cell_type": "code",
   "execution_count": 40,
   "id": "56234cad-c6ea-4b1c-8092-684a9fb9fdc3",
   "metadata": {},
   "outputs": [
    {
     "data": {
      "image/png": "[encoded data removed]",
      "text/plain": [
       "<Figure size 640x480 with 1 Axes>"
      ]
     },
     "metadata": {},
     "output_type": "display_data"
    }
   ],
   "source": [
    "df[\"Temp. Promedio (°C)\"].plot.barh(title=\"Temperatura promedio por ciudad\");"
   ]
  },
  {
   "cell_type": "markdown",
   "id": "fb2b6346-0b2c-48c7-8e43-3ac768d16b46",
   "metadata": {},
   "source": [
    "### 🌀 5.5. Gráfico de dispersión (Scatter)\n",
    "\n",
    "Cuando quieres analizar la relación entre dos variables numéricas."
   ]
  },
  {
   "cell_type": "code",
   "execution_count": 41,
   "id": "72926dcf-e162-4204-a1f2-3adee82b7c05",
   "metadata": {},
   "outputs": [
    {
     "data": {
      "image/png": "[encoded data removed]",
      "text/plain": [
       "<Figure size 640x480 with 1 Axes>"
      ]
     },
     "metadata": {},
     "output_type": "display_data"
    }
   ],
   "source": [
    "df.plot.scatter(x=\"Altitud (msnm)\", y=\"Temp. Promedio (°C)\", title=\"Temperatura vs Altitud\");"
   ]
  },
  {
   "cell_type": "code",
   "execution_count": null,
   "id": "a11d555c-97b7-4ddd-bed5-1f9bb8f5636c",
   "metadata": {},
   "outputs": [],
   "source": []
  },
  {
   "cell_type": "markdown",
   "id": "b3ad30d8-c841-4108-a888-92a286eb642f",
   "metadata": {},
   "source": [
    "---\n",
    "\n",
    "## 🏁 Conclusión y recursos útiles\n",
    "\n",
    "En este cuadernillo aprendiste los fundamentos del uso de **Pandas** para trabajar con datos tabulares:\n",
    "\n",
    "- Qué son las `Series` y los `DataFrame`\n",
    "- Cómo acceder y filtrar datos usando etiquetas o posiciones\n",
    "- Cómo realizar análisis exploratorio y estadísticas básicas\n",
    "- Cómo generar visualizaciones rápidas con tus datos\n",
    "\n",
    "Pandas es una herramienta **poderosa y flexible** que se utiliza ampliamente en ciencia de datos, investigación, análisis financiero y muchas otras disciplinas. Con esta base, ya estás listo para realizar análisis más complejos.\n",
    "\n",
    "### 📚 Recursos adicionales\n",
    "\n",
    "- [Documentación oficial de Pandas](https://pandas.pydata.org/docs/)\n",
    "- [Fundamentos de Pandas - Project Pythia](https://foundations.projectpythia.org/core/pandas.html)\n",
    "- [10 minutos con Pandas (tutorial oficial)](https://pandas.pydata.org/docs/user_guide/10min.html)\n",
    "\n",
    "---\n",
    "\n",
    "¿Quieres seguir aprendiendo? En el próximo cuadernillo veremos cómo trabajar con datos **multidimensionales** usando `Xarray`. 📦🌎\n"
   ]
  },
  {
   "cell_type": "markdown",
   "id": "08a6d829-8871-4816-a601-5815dd10963e",
   "metadata": {},
   "source": [
    "## Fuentes y Referencias\n",
    "\n",
    "* Rose, B. E. J., Kent, J., Tyle, K., Clyne, J., Banihirwe, A., Camron, D., May, R., Grover, M., Ford, R. R., Paul, K., Morley, J., Eroglu, O., Kailyn, L., & Zacharias, A. (2023). Pythia Foundations (Version v2023.05.01) https://doi.org/10.5281/zenodo.7884572"
   ]
  }
 ],
 "metadata": {
  "kernelspec": {
   "display_name": "Python 3 (ipykernel)",
   "language": "python",
   "name": "python3"
  },
  "language_info": {
   "codemirror_mode": {
    "name": "ipython",
    "version": 3
   },
   "file_extension": ".py",
   "mimetype": "text/x-python",
   "name": "python",
   "nbconvert_exporter": "python",
   "pygments_lexer": "ipython3",
   "version": "3.13.3"
  }
 },
 "nbformat": 4,
 "nbformat_minor": 5
}
