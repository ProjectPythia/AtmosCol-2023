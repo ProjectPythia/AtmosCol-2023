{
 "cells": [
  {
   "cell_type": "markdown",
   "metadata": {},
   "source": [
    "```{image} ../images/logos/python.png\n",
    ":width: 300px\n",
    ":align: center\n",
    "```"
   ]
  },
  {
   "cell_type": "markdown",
   "metadata": {},
   "source": [
    "# 🐍 Fundamentos de Programación Científica con Python"
   ]
  },
  {
   "cell_type": "markdown",
   "metadata": {},
   "source": [
    "---"
   ]
  },
  {
   "cell_type": "markdown",
   "metadata": {},
   "source": [
    "## 1. Introducción\n",
    "---\n",
    "Este cuaderno forma parte del libro interactivo **Ciencia de Datos Hidrometeorológicos con Python**, y está diseñado como una guía práctica para comenzar a programar con Python usando la plataforma **JupyterLab**. No necesitas experiencia previa en programación —solo curiosidad y ganas de experimentar.\n",
    "\n",
    "Aprenderás los fundamentos de la programación, estructuras de datos básicas, lógica condicional, funciones, y una primera introducción al uso de bibliotecas científicas en Python.\n",
    "\n",
    "\n",
    "### 📚 ¿Qué vas a aprender?\n",
    "\n",
    "- Qué es Python y por qué es tan usado en ciencia de datos\n",
    "- Los principales tipos de datos en Python\n",
    "- Operadores y estructuras básicas de control\n",
    "- Cómo escribir funciones propias\n",
    "- Una introducción práctica a las clases y objetos\n",
    "- Cómo importar librerías científicas populares\n",
    "\n",
    "### ✅ Requisitos previos"
   ]
  },
  {
   "cell_type": "markdown",
   "metadata": {},
   "source": [
    "```{list-table}\n",
    ":header-rows: 1\n",
    "\n",
    "* - Conceptos\n",
    "  - Importancia\n",
    "  - Notas\n",
    "* - [`Introducción a Python`](https://foundations.projectpythia.org/foundations/getting-started-python.html)\n",
    "  - Útil\n",
    "  - Información complementaria"
   ]
  },
  {
   "cell_type": "markdown",
   "metadata": {},
   "source": [
    "⏱️ **Tiempo estimado de aprendizaje**: 30–45 minutos  \n",
    "✍️ **Formato**: interactivo, ejecuta y modifica el código a medida que avanzas"
   ]
  },
  {
   "cell_type": "markdown",
   "metadata": {},
   "source": [
    "---"
   ]
  },
  {
   "cell_type": "markdown",
   "metadata": {},
   "source": [
    "## 2. ¿Qué es Python?\n",
    "---\n",
    "**Python** es un lenguaje de programación de alto nivel, interpretado y de código abierto. Se caracteriza por su sintaxis clara, su gran comunidad, y su amplia adopción en áreas como análisis de datos, inteligencia artificial, climatología, y muchas más.\n",
    "\n",
    "> 📌 En este libro lo usaremos como base para hacer ciencia de datos con datos hidrometeorológicos reales.\n",
    "\n",
    "### 🧠 ¿Qué significa que es de \"alto nivel\"?\n",
    "\n",
    "Un lenguaje de alto nivel como Python está diseñado para que las personas lo entiendan y escriban fácilmente. A diferencia de otros lenguajes como C o Fortran, con Python podemos hacer más con menos líneas de código.\n",
    "\n",
    "```python\n",
    "# Esto imprime un mensaje en pantalla\n",
    "print(\"Hola, mundo\")\n",
    "```\n",
    "\n",
    "### ✅ Ventajas de usar Python\n",
    "\n",
    "- ✨ **Sintaxis simple y legible**: fácil de aprender para principiantes  \n",
    "- 🧪 **Ideal para ciencia y análisis de datos**  \n",
    "- 🌍 **Gran comunidad científica**: muchos paquetes útiles ya existen  \n",
    "- 💻 **Multiplataforma**: funciona en Windows, Linux, Mac  \n",
    "- 🔓 **Código abierto**: cualquiera puede contribuir  \n",
    "\n",
    "### ⚠️ Algunas desventajas\n",
    "\n",
    "- 🚀 Puede ser más lento que otros lenguajes compilados (como C)  \n",
    "- 🧠 Requiere buena gestión de memoria con grandes volúmenes de datos  \n",
    "- 🧩 A veces hay muchas formas de hacer lo mismo (puede confundir)  \n",
    "\n",
    "### 🌱 Python en la comunidad científica\n",
    "\n",
    "Python ha sido adoptado por la comunidad científica como una herramienta clave para el procesamiento, visualización y análisis de datos. Gracias a esta comunidad, existen cientos de bibliotecas como:\n",
    "\n",
    "- `numpy` para cálculos numéricos  \n",
    "- `pandas` para manipular datos en tablas  \n",
    "- `xarray` para trabajar con datos multidimensionales  \n",
    "- `matplotlib` y `hvplot` para visualización  \n",
    "\n",
    "En este libro, aprenderás a usar muchas de estas herramientas paso a paso.\n"
   ]
  },
  {
   "cell_type": "markdown",
   "metadata": {},
   "source": [
    "## 3. Tipos de datos en Python\n",
    "---\n",
    "### 🔢 Números enteros (`int`) y decimales (`float`)\n",
    "\n",
    "Los enteros (`int`) representan números sin parte decimal, mientras que los decimales (`float`) permiten representar números reales.\n"
   ]
  },
  {
   "cell_type": "code",
   "execution_count": 2,
   "metadata": {},
   "outputs": [
    {
     "name": "stdout",
     "output_type": "stream",
     "text": [
      "a: 10 | tipo: <class 'int'>\n"
     ]
    }
   ],
   "source": [
    "# Entero\n",
    "a = 10\n",
    "print(\"a:\", a, \"| tipo:\", type(a))"
   ]
  },
  {
   "cell_type": "code",
   "execution_count": null,
   "metadata": {},
   "outputs": [],
   "source": [
    "# Decimal\n",
    "pi = 3.1416\n",
    "print(\"pi:\", pi, \"| tipo:\", type(pi))"
   ]
  },
  {
   "cell_type": "markdown",
   "metadata": {},
   "source": [
    "### 🔤 Cadenas de texto (`str`)\n",
    "\n",
    "Las cadenas (`str`) son secuencias de caracteres encerradas entre comillas simples o dobles. Se usan para representar palabras, frases u otros textos."
   ]
  },
  {
   "cell_type": "code",
   "execution_count": null,
   "metadata": {},
   "outputs": [],
   "source": [
    "mensaje = \"Hola, mundo\"\n",
    "nombre = 'Python'\n",
    "\n",
    "print(mensaje)\n",
    "print(\"Nombre:\", nombre)\n",
    "print(\"Tipo:\", type(nombre))"
   ]
  },
  {
   "cell_type": "markdown",
   "metadata": {},
   "source": [
    "### 🔘 Booleanos (`bool`)\n",
    "\n",
    "Los booleanos son valores lógicos que solo pueden ser `True` (verdadero) o `False` (falso). Se utilizan para hacer comparaciones y estructuras de control."
   ]
  },
  {
   "cell_type": "code",
   "execution_count": null,
   "metadata": {},
   "outputs": [],
   "source": [
    "es_mayor = 5 > 3\n",
    "es_igual = (10 == 20)\n",
    "\n",
    "print(\"5 > 3:\", es_mayor)\n",
    "print(\"10 == 20:\", es_igual)\n",
    "print(\"Tipo de es_mayor:\", type(es_mayor))"
   ]
  },
  {
   "cell_type": "markdown",
   "metadata": {},
   "source": [
    "### 📦 Listas (`list`)\n",
    "\n",
    "Las listas son colecciones ordenadas y modificables. Se definen con corchetes y pueden contener distintos tipos de datos."
   ]
  },
  {
   "cell_type": "code",
   "execution_count": null,
   "metadata": {},
   "outputs": [],
   "source": [
    "mi_lista = [1, \"texto\", 3.14, True]\n",
    "\n",
    "print(\"Lista:\", mi_lista)\n",
    "print(\"Primer elemento:\", mi_lista[0])\n",
    "print(\"Tipo:\", type(mi_lista))\n",
    "\n",
    "# Modificar un valor\n",
    "mi_lista[1] = \"nuevo texto\"\n",
    "print(\"Lista modificada:\", mi_lista)"
   ]
  },
  {
   "cell_type": "markdown",
   "metadata": {},
   "source": [
    "### 🗂️ Diccionarios (`dict`)\n",
    "\n",
    "Un diccionario es una colección no ordenada de pares `clave: valor`. Se define con llaves `{}` y permite acceder a cada valor por su clave.\n"
   ]
  },
  {
   "cell_type": "code",
   "execution_count": null,
   "metadata": {},
   "outputs": [],
   "source": [
    "info_persona = {\n",
    "    \"nombre\": \"Alfonso\",\n",
    "    \"edad\": 35,\n",
    "    \"ciudad\": \"Bogotá\"\n",
    "}\n",
    "\n",
    "print(\"Nombre:\", info_persona[\"nombre\"])\n",
    "print(\"Edad:\", info_persona[\"edad\"])\n",
    "print(\"Diccionario completo:\", info_persona)\n",
    "print(\"Tipo:\", type(info_persona))\n",
    "\n",
    "# Agregar una nueva clave\n",
    "info_persona[\"profesion\"] = \"Científico de datos\"\n",
    "print(\"Actualizado:\", info_persona)\n"
   ]
  },
  {
   "cell_type": "markdown",
   "metadata": {},
   "source": [
    "### 🧱 Tuplas (`tuple`)\n",
    "\n",
    "Las tuplas son similares a las listas, pero **no se pueden modificar**. Se definen con paréntesis `()` y son útiles para almacenar datos fijos."
   ]
  },
  {
   "cell_type": "code",
   "execution_count": null,
   "metadata": {},
   "outputs": [],
   "source": [
    "coordenadas = (4.61, -74.07)\n",
    "\n",
    "print(\"Tupla:\", coordenadas)\n",
    "print(\"Latitud:\", coordenadas[0])\n",
    "print(\"Longitud:\", coordenadas[1])\n",
    "print(\"Tipo:\", type(coordenadas))\n",
    "\n",
    "# Intentar modificar una tupla (esto generará un error)\n",
    "try:\n",
    "    coordenadas[0] = 0\n",
    "except TypeError as e:\n",
    "    print(\"Error:\", e)"
   ]
  },
  {
   "cell_type": "markdown",
   "metadata": {},
   "source": [
    "### 🔘 Conjuntos (`set`)\n",
    "\n",
    "Los conjuntos son colecciones **no ordenadas** que no permiten elementos duplicados. Se definen con `set()` o llaves `{}`."
   ]
  },
  {
   "cell_type": "code",
   "execution_count": null,
   "metadata": {},
   "outputs": [],
   "source": [
    "valores = [1, 2, 2, 3, 4, 4, 5]\n",
    "conjunto = set(valores)\n",
    "\n",
    "print(\"Original:\", valores)\n",
    "print(\"Set sin duplicados:\", conjunto)\n",
    "print(\"Tipo:\", type(conjunto))\n",
    "\n",
    "# Agregar un nuevo elemento\n",
    "conjunto.add(6)\n",
    "print(\"Actualizado:\", conjunto)"
   ]
  },
  {
   "cell_type": "markdown",
   "metadata": {},
   "source": [
    "## 5. Operadores y estructuras de control\n",
    "---\n",
    "Python nos permite realizar operaciones matemáticas y tomar decisiones mediante estructuras de control como condicionales y bucles. Estas herramientas son fundamentales para crear programas dinámicos y útiles."
   ]
  },
  {
   "cell_type": "markdown",
   "metadata": {},
   "source": [
    "### ➕ Operadores aritméticos\n",
    "\n",
    "Python permite usar operadores matemáticos básicos como suma, resta, multiplicación, división, y más."
   ]
  },
  {
   "cell_type": "code",
   "execution_count": null,
   "metadata": {},
   "outputs": [],
   "source": [
    "# Suma\n",
    "print(\"1 + 2 =\", 1 + 2)"
   ]
  },
  {
   "cell_type": "code",
   "execution_count": null,
   "metadata": {},
   "outputs": [],
   "source": [
    "# Resta\n",
    "print(\"5 - 3 =\", 5 - 3)"
   ]
  },
  {
   "cell_type": "code",
   "execution_count": null,
   "metadata": {},
   "outputs": [],
   "source": [
    "# Multiplicación\n",
    "print(\"4 * 3 =\", 4 * 3)"
   ]
  },
  {
   "cell_type": "code",
   "execution_count": null,
   "metadata": {},
   "outputs": [],
   "source": [
    "# División\n",
    "print(\"10 / 2 =\", 10 / 2)"
   ]
  },
  {
   "cell_type": "code",
   "execution_count": null,
   "metadata": {},
   "outputs": [],
   "source": [
    "# División entera (sin decimales)\n",
    "print(\"10 // 3 =\", 10 // 3)"
   ]
  },
  {
   "cell_type": "code",
   "execution_count": null,
   "metadata": {},
   "outputs": [],
   "source": [
    "# Potenciación\n",
    "print(\"2 ** 4 =\", 2 ** 4)"
   ]
  },
  {
   "cell_type": "code",
   "execution_count": null,
   "metadata": {},
   "outputs": [],
   "source": [
    "# Módulo (residuo)\n",
    "print(\"10 % 3 =\", 10 % 3)"
   ]
  },
  {
   "cell_type": "markdown",
   "metadata": {},
   "source": [
    "### 🤔 Condicionales `if`, `elif`, `else`\n",
    "\n",
    "Las estructuras condicionales permiten ejecutar bloques de código solo si se cumple una condición.\n"
   ]
  },
  {
   "cell_type": "code",
   "execution_count": null,
   "metadata": {},
   "outputs": [],
   "source": [
    "x = 10\n",
    "\n",
    "if x > 0:\n",
    "    print(\"x es positivo\")\n",
    "elif x == 0:\n",
    "    print(\"x es cero\")\n",
    "else:\n",
    "    print(\"x es negativo\")"
   ]
  },
  {
   "cell_type": "markdown",
   "metadata": {},
   "source": [
    "También podemos usarlas para comparar tipos o valores:"
   ]
  },
  {
   "cell_type": "code",
   "execution_count": null,
   "metadata": {},
   "outputs": [],
   "source": [
    "valor = True\n",
    "\n",
    "if type(valor) == str:\n",
    "    print(\"Es una cadena de texto\")\n",
    "elif type(valor) == int:\n",
    "    print(\"Es un número entero\")\n",
    "elif type(valor) == float:\n",
    "    print(\"Es un número decimal\")\n",
    "elif type(valor) == bool:\n",
    "    print(\"Es un valor booleano\")"
   ]
  },
  {
   "cell_type": "markdown",
   "metadata": {},
   "source": [
    "### 🔁 Bucle `while`\n",
    "\n",
    "El bucle `while` repite un bloque de código mientras se cumpla una condición.\n"
   ]
  },
  {
   "cell_type": "code",
   "execution_count": null,
   "metadata": {},
   "outputs": [],
   "source": [
    "contador = 0\n",
    "\n",
    "while contador < 3:\n",
    "    print(\"Contador:\", contador)\n",
    "    contador += 1"
   ]
  },
  {
   "cell_type": "markdown",
   "metadata": {},
   "source": [
    "### 🔁 Bucle `for`\n",
    "\n",
    "El bucle `for` se usa para recorrer elementos de una secuencia (como una lista o rango)."
   ]
  },
  {
   "cell_type": "code",
   "execution_count": null,
   "metadata": {},
   "outputs": [],
   "source": [
    "for i in range(5):\n",
    "    print(\"Valor de i:\", i)"
   ]
  },
  {
   "cell_type": "markdown",
   "metadata": {},
   "source": [
    "También se puede usar con listas directamente:"
   ]
  },
  {
   "cell_type": "code",
   "execution_count": null,
   "metadata": {},
   "outputs": [],
   "source": [
    "nombres = [\"Alfonso\", \"Nicole\", \"Max\"]\n",
    "\n",
    "for nombre in nombres:\n",
    "    print(\"Hola,\", nombre)"
   ]
  },
  {
   "cell_type": "markdown",
   "metadata": {},
   "source": [
    "## 6. Funciones en Python\n",
    "---\n",
    "Las funciones son bloques de código reutilizables que se definen una vez y se pueden ejecutar múltiples veces. Son ideales para automatizar tareas repetitivas y organizar mejor tu código.\n",
    "\n",
    "\n",
    "### 🔧 ¿Qué es una función?\n",
    "\n",
    "Una función se define usando la palabra clave `def`, seguida del nombre de la función, paréntesis con los argumentos, y dos puntos `:`. El cuerpo de la función va indentado.\n"
   ]
  },
  {
   "cell_type": "code",
   "execution_count": null,
   "metadata": {},
   "outputs": [],
   "source": [
    "# Esta función imprime un saludo\n",
    "def saludar():\n",
    "    print(\"Hola, bienvenid@ al curso\")\n",
    "\n",
    "# Llamamos la función\n",
    "saludar()"
   ]
  },
  {
   "cell_type": "markdown",
   "metadata": {},
   "source": [
    "### 🧪 Funciones con argumentos\n",
    "\n",
    "Puedes definir funciones que acepten uno o más parámetros para hacerlas más flexibles."
   ]
  },
  {
   "cell_type": "code",
   "execution_count": null,
   "metadata": {},
   "outputs": [],
   "source": [
    "def saludar_persona(nombre):\n",
    "    print(f\"Hola, {nombre}!\")\n",
    "\n",
    "saludar_persona(\"Alfonso\")\n",
    "saludar_persona(\"Nicole\")"
   ]
  },
  {
   "cell_type": "markdown",
   "metadata": {},
   "source": [
    "### ➕ Funciones con múltiples argumentos\n",
    "\n",
    "Las funciones pueden aceptar varios argumentos, por ejemplo, para realizar operaciones matemáticas:"
   ]
  },
  {
   "cell_type": "code",
   "execution_count": null,
   "metadata": {},
   "outputs": [],
   "source": [
    "def sumar(a, b):\n",
    "    resultado = a + b\n",
    "    print(\"Resultado:\", resultado)\n",
    "\n",
    "sumar(3, 5)\n",
    "sumar(10, -2)"
   ]
  },
  {
   "cell_type": "markdown",
   "metadata": {},
   "source": [
    "### 🔁 Funciones que devuelven resultados (`return`)\n",
    "\n",
    "Usamos `return` cuando queremos que la función nos entregue un valor para usarlo más adelante."
   ]
  },
  {
   "cell_type": "code",
   "execution_count": null,
   "metadata": {},
   "outputs": [],
   "source": [
    "def area_triangulo(base, altura):\n",
    "    return (base * altura) / 2"
   ]
  },
  {
   "cell_type": "code",
   "execution_count": null,
   "metadata": {},
   "outputs": [],
   "source": [
    "area = area_triangulo(3, 5)\n",
    "print(\"Área del triángulo:\", area)"
   ]
  },
  {
   "cell_type": "markdown",
   "metadata": {},
   "source": [
    "## 7. Clases y objetos en Python\n",
    "---\n",
    "\n",
    "En Python, una **clase** es como un molde o plantilla para crear **objetos**. Cada objeto puede tener sus propios **atributos** (datos) y **métodos** (funciones asociadas).\n",
    "\n",
    "Este enfoque se conoce como **Programación Orientada a Objetos (OOP)** y es muy útil para organizar código complejo en estructuras lógicas.\n",
    "\n",
    "\n",
    "\n",
    "### 🧱 ¿Qué es una clase?\n",
    "\n",
    "Vamos a crear una clase llamada `Figura` que describe un objeto geométrico."
   ]
  },
  {
   "cell_type": "code",
   "execution_count": null,
   "metadata": {},
   "outputs": [],
   "source": [
    "class Figura:\n",
    "    def __init__(self, nombre, lados, color):\n",
    "        self.nombre = nombre\n",
    "        self.lados = lados\n",
    "        self.color = color"
   ]
  },
  {
   "cell_type": "markdown",
   "metadata": {},
   "source": [
    "- `__init__()` es un **constructor** que se ejecuta cuando se crea un nuevo objeto.\n",
    "- `self` representa al propio objeto."
   ]
  },
  {
   "cell_type": "markdown",
   "metadata": {},
   "source": [
    "### 🧪 Crear una clase y usar objetos\n",
    "\n",
    "Ahora instanciamos un objeto de tipo `Figura`:"
   ]
  },
  {
   "cell_type": "markdown",
   "metadata": {},
   "source": [
    "Si queremos hacer la abstracción de un cuadrado podemos definirlo de la siguiente manera:"
   ]
  },
  {
   "cell_type": "code",
   "execution_count": null,
   "metadata": {},
   "outputs": [],
   "source": [
    "cuadrado = Figura(nombre=\"Cuadrado\", lados=4, color=\"Rojo\")\n",
    "\n",
    "print(\"Nombre:\", cuadrado.nombre)\n",
    "print(\"Lados:\", cuadrado.lados)\n",
    "print(\"Color:\", cuadrado.color)"
   ]
  },
  {
   "cell_type": "markdown",
   "metadata": {},
   "source": [
    "Cada objeto tiene su propio conjunto de atributos."
   ]
  },
  {
   "cell_type": "markdown",
   "metadata": {},
   "source": [
    "### 🛠️ Métodos dentro de una clase\n",
    "\n",
    "También podemos definir funciones dentro de una clase que realicen acciones con los datos del objeto. A esto se les llama **métodos**.\n"
   ]
  },
  {
   "cell_type": "code",
   "execution_count": null,
   "metadata": {},
   "outputs": [],
   "source": [
    "class Figura:\n",
    "    def __init__(self, nombre, lados, color):\n",
    "        self.nombre = nombre\n",
    "        self.lados = lados\n",
    "        self.color = color\n",
    "\n",
    "    def describir(self):\n",
    "        print(f\"{self.nombre} tiene {self.lados} lados y es de color {self.color}\")"
   ]
  },
  {
   "cell_type": "markdown",
   "metadata": {},
   "source": [
    "Usamos el método:"
   ]
  },
  {
   "cell_type": "code",
   "execution_count": null,
   "metadata": {},
   "outputs": [],
   "source": [
    "triangulo = Figura(\"Triángulo\", 3, \"Azul\")\n",
    "triangulo.describir()"
   ]
  },
  {
   "cell_type": "markdown",
   "metadata": {},
   "source": [
    "Esto imprimirá una descripción usando los datos del objeto.\n"
   ]
  },
  {
   "cell_type": "markdown",
   "metadata": {},
   "source": [
    "## 8. Importar librerías en Python\n",
    "---\n",
    "\n",
    "Una **librería** (o módulo) es una colección de funciones y clases ya escritas que puedes reutilizar en tu código. Usarlas ahorra tiempo y permite hacer cosas complejas fácilmente.\n",
    "\n",
    "Por ejemplo, existen librerías para matemáticas (`numpy`), manejo de datos (`pandas`), procesamiento de datos climáticos (`xarray`), visualización (`matplotlib`), y muchas más.\n",
    "\n",
    "\n",
    "\n",
    "### 📦 ¿Cómo se importa una librería?\n",
    "\n",
    "Usamos la palabra clave `import` para traer una librería a nuestro entorno de trabajo.\n"
   ]
  },
  {
   "cell_type": "code",
   "execution_count": null,
   "metadata": {},
   "outputs": [],
   "source": [
    "import numpy"
   ]
  },
  {
   "cell_type": "markdown",
   "metadata": {},
   "source": [
    "Ahora podemos usar cualquier función dentro de `numpy`, como:"
   ]
  },
  {
   "cell_type": "code",
   "execution_count": null,
   "metadata": {},
   "outputs": [],
   "source": [
    "import numpy as np\n",
    "import pandas as pd\n",
    "import xarray as xr"
   ]
  },
  {
   "cell_type": "code",
   "execution_count": null,
   "metadata": {},
   "outputs": [],
   "source": [
    "numeros = numpy.array([1, 2, 3])\n",
    "print(numeros)"
   ]
  },
  {
   "cell_type": "markdown",
   "metadata": {},
   "source": [
    "### 🧩 Usar alias con `as`\n",
    "\n",
    "Como algunas librerías tienen nombres largos, se suele usar un **alias** con la palabra clave `as`:\n"
   ]
  },
  {
   "cell_type": "code",
   "execution_count": null,
   "metadata": {},
   "outputs": [],
   "source": [
    "import numpy as np"
   ]
  },
  {
   "cell_type": "markdown",
   "metadata": {},
   "source": [
    "Esto nos permite escribir:"
   ]
  },
  {
   "cell_type": "code",
   "execution_count": null,
   "metadata": {},
   "outputs": [],
   "source": [
    "a = np.array([1, 2, 3])\n",
    "print(a * 10)"
   ]
  },
  {
   "cell_type": "markdown",
   "metadata": {},
   "source": [
    "### 🧪 Librerías comunes en ciencia de datos\n",
    "\n",
    "A continuación presentamos algunas de las librerías más utilizadas en análisis científico y de datos climáticos:\n",
    "\n",
    "- **`numpy`** → Permite realizar cálculos numéricos y operaciones con arrays de manera eficiente.\n",
    "- **`pandas`** → Ofrece estructuras de datos tipo tabla (DataFrames) ideales para manipular datos tabulados.\n",
    "- **`xarray`** → Diseñada para trabajar con datos multidimensionales, como series de tiempo o datos climáticos en grillas.\n",
    "\n",
    "Estas librerías están optimizadas para el trabajo científico y forman la base de muchas herramientas modernas para la ciencia abierta y la climatología computacional.\n"
   ]
  },
  {
   "cell_type": "code",
   "execution_count": null,
   "metadata": {},
   "outputs": [],
   "source": [
    "import numpy as np\n",
    "import pandas as pd\n",
    "import xarray as xr\n",
    "\n",
    "# Crear un array con numpy\n",
    "arr = np.arange(5)\n",
    "print(\"Array con numpy:\", arr)\n",
    "\n",
    "# Crear una tabla (DataFrame) con pandas\n",
    "df = pd.DataFrame({\n",
    "    \"nombre\": [\"Ana\", \"Luis\", \"Camila\"],\n",
    "    \"edad\": [23, 34, 29]\n",
    "})\n",
    "print(\"\\nTabla con pandas:\")\n",
    "print(df)\n",
    "\n",
    "# Crear un dataset con xarray\n",
    "ds = xr.Dataset({\n",
    "    \"temperatura\": ((\"x\",), [15.1, 17.3, 16.8])\n",
    "})\n",
    "print(\"\\nDataset con xarray:\")\n",
    "print(ds)"
   ]
  },
  {
   "cell_type": "markdown",
   "metadata": {},
   "source": [
    "---"
   ]
  },
  {
   "cell_type": "markdown",
   "metadata": {},
   "source": [
    "## ✅ Conclusiones finales\n",
    "\n",
    "En este capítulo aprendiste los fundamentos esenciales de la programación científica con Python:\n",
    "\n",
    "- Los principales **tipos de datos** (enteros, flotantes, texto, listas, diccionarios, etc.)\n",
    "- Cómo utilizar **estructuras de control** como condicionales y bucles\n",
    "- Cómo crear y reutilizar **funciones** y **clases**\n",
    "- Qué es y cómo se usa **JupyterLab** como entorno interactivo\n",
    "- Cómo importar y utilizar librerías externas en tus notebooks\n",
    "\n",
    "Estas herramientas forman la base para trabajar con datos reales, desarrollar scripts reproducibles y automatizar análisis en ciencia de datos.\n",
    "\n",
    "> 🎓 Programar es una habilidad que se fortalece con la práctica. No te preocupes por memorizar todo ahora, ¡vuelve a este capítulo cuando lo necesites!\n",
    "\n",
    "---\n",
    "\n",
    "### 👉 ¿Qué sigue?\n",
    "\n",
    "En el próximo cuadernillo exploraremos en mayor profundidad tres de las librerías más utilizadas en ciencia climática:\n",
    "\n",
    "- `numpy` para trabajar con arreglos y álgebra lineal\n",
    "- `pandas` para manipular datos tabulares\n",
    "- `xarray` para manejar datos multidimensionales como los de satélites, modelos climáticos y observaciones atmosféricas\n",
    "\n",
    "Prepárate para trabajar con datos reales y aprender nuevas herramientas prácticas. ¡Nos vemos allá! 🌎📊\n"
   ]
  },
  {
   "cell_type": "markdown",
   "metadata": {},
   "source": [
    "## Fuentes y referencias\n",
    "\n",
    "* Rose, B. E. J., Kent, J., Tyle, K., Clyne, J., Banihirwe, A., Camron, D., May, R., Grover, M., Ford, R. R., Paul, K., Morley, J., Eroglu, O., Kailyn, L., & Zacharias, A. (2023). Pythia Foundations (Version v2023.05.01) [https://doi.org/10.5281/zenodo.7884572]\n",
    "* Abernathey R. (2022) An Introduction to Earth and Environmental Data Science. [https://earth-env-data-science.github.io/intro.html]\n",
    "* JupyterLab Documentation [https://jupyterlab.readthedocs.io/en/stable/index.html]"
   ]
  },
  {
   "cell_type": "code",
   "execution_count": null,
   "metadata": {},
   "outputs": [],
   "source": []
  },
  {
   "cell_type": "code",
   "execution_count": null,
   "metadata": {},
   "outputs": [],
   "source": []
  }
 ],
 "metadata": {
  "kernelspec": {
   "display_name": "Python 3 (ipykernel)",
   "language": "python",
   "name": "python3"
  },
  "language_info": {
   "codemirror_mode": {
    "name": "ipython",
    "version": 3
   },
   "file_extension": ".py",
   "mimetype": "text/x-python",
   "name": "python",
   "nbconvert_exporter": "python",
   "pygments_lexer": "ipython3",
   "version": "3.13.3"
  },
  "nbdime-conflicts": {
   "local_diff": [
    {
     "diff": [
      {
       "diff": [
        {
         "key": 0,
         "op": "addrange",
         "valuelist": [
          "Python 3"
         ]
        },
        {
         "key": 0,
         "length": 1,
         "op": "removerange"
        }
       ],
       "key": "display_name",
       "op": "patch"
      }
     ],
     "key": "kernelspec",
     "op": "patch"
    }
   ],
   "remote_diff": [
    {
     "diff": [
      {
       "diff": [
        {
         "key": 0,
         "op": "addrange",
         "valuelist": [
          "Python3"
         ]
        },
        {
         "key": 0,
         "length": 1,
         "op": "removerange"
        }
       ],
       "key": "display_name",
       "op": "patch"
      }
     ],
     "key": "kernelspec",
     "op": "patch"
    }
   ]
  },
  "toc-autonumbering": false
 },
 "nbformat": 4,
 "nbformat_minor": 4
}
