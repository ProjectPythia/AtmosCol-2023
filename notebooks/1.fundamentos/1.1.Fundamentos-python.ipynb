{
 "cells": [
  {
   "cell_type": "markdown",
   "metadata": {},
   "source": [
    "<img src=\"../images/logos/jupyter_python_logo.png\" width=600 alt=\"Python-Jlab-logo\"></img>"
   ]
  },
  {
   "cell_type": "markdown",
   "metadata": {},
   "source": [
    "# Fundamentos de Python y JupyterLab"
   ]
  },
  {
   "cell_type": "markdown",
   "metadata": {},
   "source": [
    "---"
   ]
  },
  {
   "cell_type": "markdown",
   "metadata": {},
   "source": [
    "## 1. Introducción\n",
    "---\n",
    "Este cuaderno forma parte del libro interactivo **Ciencia de Datos Hidrometeorológicos con Python**, y está diseñado como una guía práctica para comenzar a programar con Python usando la plataforma **JupyterLab**.\n",
    "\n",
    "Aquí aprenderás los conceptos básicos que necesitas para trabajar con datos científicos de forma reproducible, flexible y visual. No necesitas experiencia previa en programación, solo curiosidad y ganas de experimentar.\n",
    "\n",
    "\n",
    "### 📚 ¿Qué vas a aprender?\n",
    "\n",
    "- Qué es Python y por qué es tan usado en ciencia de datos\n",
    "- Cómo usar JupyterLab para escribir y ejecutar código\n",
    "- Los principales tipos de datos en Python\n",
    "- Operadores y estructuras básicas de control\n",
    "- Cómo escribir funciones propias\n",
    "- Una introducción práctica a las clases y objetos\n",
    "- Cómo importar librerías científicas populares\n",
    "\n",
    "\n",
    "### ✅ Requisitos previos\n",
    "\n",
    "| Conceptos | Importancia | Notas |\n",
    "| --- | --- | --- |\n",
    "| [Introducción a Python](https://foundations.projectpythia.org/foundations/getting-started-python.html) | Útil | Información complementaria |\n",
    "| [Introducción a Jupyter Lab](https://foundations.projectpythia.org/foundations/getting-started-jupyter.html) | Útil | Información complementaria |\n",
    "\n",
    "\n",
    "⏱️ **Tiempo estimado de aprendizaje**: 30–45 minutos  \n",
    "✍️ **Formato**: interactivo, ejecuta y modifica el código a medida que avanzas\n",
    "\n"
   ]
  },
  {
   "cell_type": "markdown",
   "metadata": {},
   "source": [
    "---"
   ]
  },
  {
   "cell_type": "markdown",
   "metadata": {},
   "source": [
    "## 2. ¿Qué es Python?\n",
    "---\n",
    "**Python** es un lenguaje de programación de alto nivel, interpretado y de código abierto. Se caracteriza por su sintaxis clara, su gran comunidad, y su amplia adopción en áreas como análisis de datos, inteligencia artificial, climatología, y muchas más.\n",
    "\n",
    "> 📌 En este libro lo usaremos como base para hacer ciencia de datos con datos hidrometeorológicos reales.\n",
    "\n",
    "### 🧠 ¿Qué significa que es de \"alto nivel\"?\n",
    "\n",
    "Un lenguaje de alto nivel como Python está diseñado para que las personas lo entiendan y escriban fácilmente. A diferencia de otros lenguajes como C o Fortran, con Python podemos hacer más con menos líneas de código.\n",
    "\n",
    "```python\n",
    "# Esto imprime un mensaje en pantalla\n",
    "print(\"Hola, mundo\")\n",
    "```\n",
    "\n",
    "### ✅ Ventajas de usar Python\n",
    "\n",
    "- ✨ **Sintaxis simple y legible**: fácil de aprender para principiantes  \n",
    "- 🧪 **Ideal para ciencia y análisis de datos**  \n",
    "- 🌍 **Gran comunidad científica**: muchos paquetes útiles ya existen  \n",
    "- 💻 **Multiplataforma**: funciona en Windows, Linux, Mac  \n",
    "- 🔓 **Código abierto**: cualquiera puede contribuir  \n",
    "\n",
    "### ⚠️ Algunas desventajas\n",
    "\n",
    "- 🚀 Puede ser más lento que otros lenguajes compilados (como C)  \n",
    "- 🧠 Requiere buena gestión de memoria con grandes volúmenes de datos  \n",
    "- 🧩 A veces hay muchas formas de hacer lo mismo (puede confundir)  \n",
    "\n",
    "### 🌱 Python en la comunidad científica\n",
    "\n",
    "Python ha sido adoptado por la comunidad científica como una herramienta clave para el procesamiento, visualización y análisis de datos. Gracias a esta comunidad, existen cientos de bibliotecas como:\n",
    "\n",
    "- `numpy` para cálculos numéricos  \n",
    "- `pandas` para manipular datos en tablas  \n",
    "- `xarray` para trabajar con datos multidimensionales  \n",
    "- `matplotlib` y `hvplot` para visualización  \n",
    "\n",
    "En este libro, aprenderás a usar muchas de estas herramientas paso a paso.\n"
   ]
  },
  {
   "cell_type": "markdown",
   "metadata": {},
   "source": [
    "## 3. ¿Qué es JupyterLab?\n",
    "---\n",
    "**JupyterLab** es un entorno interactivo y modular para trabajar con notebooks, código, datos, gráficos y documentación, todo en un mismo lugar. Es la herramienta ideal para realizar análisis exploratorios y reproducibles en ciencia de datos.\n",
    "\n",
    "> JupyterLab permite combinar código, texto, visualizaciones y ecuaciones en un solo documento interactivo.\n",
    "\n",
    "Jupyter forma parte de un ecosistema más amplio de herramientas:\n",
    "\n",
    "- **Jupyter Notebooks** – archivos `.ipynb` donde escribes y ejecutas código  \n",
    "- **Jupyter Kernels** – motores que ejecutan el código (por ejemplo, Python)  \n",
    "- **JupyterHub** – permite compartir notebooks con múltiples usuarios  \n",
    "- **JupyterLab** – la interfaz moderna para trabajar con todos los anteriores  \n",
    "\n",
    "### 💡 ¿Por qué es útil?\n",
    "\n",
    "- Permite **documentar y ejecutar código en el mismo lugar**  \n",
    "- Soporta **varios lenguajes** (aunque aquí usaremos solo Python)  \n",
    "- Puedes correrlo **localmente o en la nube** (como Binder)  \n",
    "- Es ideal para enseñar, aprender y experimentar  \n",
    "\n",
    "### 🧩 Componentes de la interfaz\n",
    "\n",
    "Cuando abres JupyterLab verás:\n",
    "\n",
    "- 🗂️ Un **explorador de archivos** a la izquierda  \n",
    "- 📄 Un **área de trabajo** donde se abren los notebooks y terminales  \n",
    "- 🔧 Una **barra de menús y herramientas** en la parte superior\n",
    "\n",
    "<img src=\"../images/interface_jupyterlab.png\" width=400 alt=\"Jlab-logo\"></img>\n",
    "\n",
    "Todo es modular, puedes mover, cerrar o abrir paneles según tu preferencia. Hay una excelente documentación en la página web de [JupyterLab](https://jupyterlab.readthedocs.io/en/stable/index.html). A continuación, compartimos algunos links útiles para complementar y no duplicar la información:\n",
    "\n",
    "* [Interfaz de JupyterLab](https://jupyterlab.readthedocs.io/en/stable/user/interface.html)\n",
    "* [Trabajar con archivos](https://jupyterlab.readthedocs.io/en/stable/user/files.html)\n",
    "* [Editor de texto](https://jupyterlab.readthedocs.io/en/stable/user/file_editor.html)\n",
    "* [Cuadernillos (Notebooks)](https://jupyterlab.readthedocs.io/en/stable/user/notebook.html)\n",
    "* [Terminales de comandos](https://jupyterlab.readthedocs.io/en/stable/user/terminal.html)\n",
    "\n",
    "### ⌨️ Atajos de teclado útiles\n",
    "\n",
    "| Acción                           | Combinación de teclas     |\n",
    "|----------------------------------|---------------------------|\n",
    "| Ejecutar celda                   | `Shift` + `Enter`         |\n",
    "| Ejecutar celda sin moverse       | `Ctrl` + `Enter`          |\n",
    "| Cambiar a modo edición           | `Enter`                   |\n",
    "| Cambiar a modo comando           | `Esc`                     |\n",
    "| Borrar celda seleccionada        | `D` + `D`                 |\n",
    "| Crear celda encima / debajo      | `A` / `B`                 |\n",
    "| Autocompletado                   | `Tab`                     |\n",
    "| Unir celdas                      | `Shift` + `M`             |\n",
    "| Markdown / código                | `M` / `Y`                 |\n",
    "\n",
    "Para más atajos, abre el menú: **Help → Keyboard Shortcuts**\n",
    "\n",
    "### 📌 Ejecutar comandos del sistema\n",
    "\n",
    "Puedes correr comandos de terminal directamente en una celda de notebook usando `!`:\n",
    "\n",
    "```python\n",
    "!ls       # En Linux/Mac\n",
    "!dir      # En Windows\n",
    "```\n",
    "\n",
    "Esto es útil para explorar carpetas, mover archivos, o verificar contenido desde el cuaderno.\n",
    "\n",
    "### ❓ Acceder a documentación\n",
    "\n",
    "Usa el signo de interrogación (`?`) al final de una función o módulo para ver su descripción:\n",
    "\n",
    "```python\n",
    "import numpy as np\n",
    "\n",
    "np?\n",
    "# o también:\n",
    "np.arange?\n",
    "```\n",
    "\n",
    "\n",
    "### 📊 Visualización de gráficos e imágenes\n",
    "\n",
    "Una de las ventajas de trabajar en JupyterLab es que puedes generar y visualizar gráficos directamente en el cuaderno, justo debajo de la celda de código.\n",
    "\n",
    "Por ejemplo, puedes usar la biblioteca `matplotlib` para crear una figura simple:\n",
    "\n",
    "```python\n",
    "import numpy as np\n",
    "import matplotlib.pyplot as plt\n",
    "\n",
    "x = np.arange(-10, 11)\n",
    "y = x**2\n",
    "\n",
    "plt.plot(x, y)\n",
    "plt.title(\"Ejemplo de gráfico simple\")\n",
    "plt.xlabel(\"x\")\n",
    "plt.ylabel(\"x al cuadrado\")\n",
    "plt.grid(True)\n",
    "plt.show()\n",
    "```\n",
    "\n",
    "Esto mostrará una figura interactiva debajo del bloque de código.\n",
    "\n",
    "También puedes incluir imágenes externas, por ejemplo, para mostrar mapas, figuras científicas o resultados:\n",
    "\n",
    "```python\n",
    "from IPython.display import Image\n",
    "\n",
    "Image(\"../images/random_fig.jpg\")\n",
    "```\n",
    "\n",
    "Esto es útil para combinar visualizaciones personalizadas con gráficos generados automáticamente.\n",
    "\n",
    "\n",
    "\n",
    "### 🧾 Texto y ecuaciones con Markdown y LaTeX\n",
    "\n",
    "Puedes usar celdas en formato **Markdown** para agregar texto formateado, enlaces y ecuaciones matemáticas en estilo LaTeX.\n",
    "\n",
    "Por ejemplo, esta ecuación en una celda Markdown:\n",
    "\n",
    "$$\n",
    "\\text{Fórmula de Bayes:} \\quad P(A \\mid B) = \\frac{P(B \\mid A) \\cdot P(A)}{P(B)}\n",
    "$$\n",
    "\n",
    "Las celdas Markdown son ideales para explicar lo que estás haciendo, agregar títulos y anotar tus resultados.\n",
    "\n",
    "\n",
    "> 🧪 **Conclusión**: JupyterLab te da control total para explorar, explicar y visualizar tus datos, todo desde una interfaz amigable y poderosa.\n"
   ]
  },
  {
   "cell_type": "markdown",
   "metadata": {},
   "source": [
    "## 4. Tipos de datos en Python\n",
    "---\n",
    "### 🔢 Números enteros (`int`) y decimales (`float`)\n",
    "\n",
    "Los enteros (`int`) representan números sin parte decimal, mientras que los decimales (`float`) permiten representar números reales.\n"
   ]
  },
  {
   "cell_type": "code",
   "execution_count": null,
   "metadata": {},
   "outputs": [],
   "source": [
    "# Entero\n",
    "a = 10\n",
    "print(\"a:\", a, \"| tipo:\", type(a))"
   ]
  },
  {
   "cell_type": "code",
   "execution_count": null,
   "metadata": {},
   "outputs": [],
   "source": [
    "# Decimal\n",
    "pi = 3.1416\n",
    "print(\"pi:\", pi, \"| tipo:\", type(pi))"
   ]
  },
  {
   "cell_type": "markdown",
   "metadata": {},
   "source": [
    "### 🔤 Cadenas de texto (`str`)\n",
    "\n",
    "Las cadenas (`str`) son secuencias de caracteres encerradas entre comillas simples o dobles. Se usan para representar palabras, frases u otros textos."
   ]
  },
  {
   "cell_type": "code",
   "execution_count": null,
   "metadata": {},
   "outputs": [],
   "source": [
    "mensaje = \"Hola, mundo\"\n",
    "nombre = 'Python'\n",
    "\n",
    "print(mensaje)\n",
    "print(\"Nombre:\", nombre)\n",
    "print(\"Tipo:\", type(nombre))"
   ]
  },
  {
   "cell_type": "markdown",
   "metadata": {},
   "source": [
    "### 🔘 Booleanos (`bool`)\n",
    "\n",
    "Los booleanos son valores lógicos que solo pueden ser `True` (verdadero) o `False` (falso). Se utilizan para hacer comparaciones y estructuras de control."
   ]
  },
  {
   "cell_type": "code",
   "execution_count": null,
   "metadata": {},
   "outputs": [],
   "source": [
    "es_mayor = 5 > 3\n",
    "es_igual = (10 == 20)\n",
    "\n",
    "print(\"5 > 3:\", es_mayor)\n",
    "print(\"10 == 20:\", es_igual)\n",
    "print(\"Tipo de es_mayor:\", type(es_mayor))"
   ]
  },
  {
   "cell_type": "markdown",
   "metadata": {},
   "source": [
    "### 📦 Listas (`list`)\n",
    "\n",
    "Las listas son colecciones ordenadas y modificables. Se definen con corchetes y pueden contener distintos tipos de datos."
   ]
  },
  {
   "cell_type": "code",
   "execution_count": null,
   "metadata": {},
   "outputs": [],
   "source": [
    "mi_lista = [1, \"texto\", 3.14, True]\n",
    "\n",
    "print(\"Lista:\", mi_lista)\n",
    "print(\"Primer elemento:\", mi_lista[0])\n",
    "print(\"Tipo:\", type(mi_lista))\n",
    "\n",
    "# Modificar un valor\n",
    "mi_lista[1] = \"nuevo texto\"\n",
    "print(\"Lista modificada:\", mi_lista)"
   ]
  },
  {
   "cell_type": "markdown",
   "metadata": {},
   "source": [
    "### 🗂️ Diccionarios (`dict`)\n",
    "\n",
    "Un diccionario es una colección no ordenada de pares `clave: valor`. Se define con llaves `{}` y permite acceder a cada valor por su clave.\n"
   ]
  },
  {
   "cell_type": "code",
   "execution_count": null,
   "metadata": {},
   "outputs": [],
   "source": [
    "info_persona = {\n",
    "    \"nombre\": \"Alfonso\",\n",
    "    \"edad\": 35,\n",
    "    \"ciudad\": \"Bogotá\"\n",
    "}\n",
    "\n",
    "print(\"Nombre:\", info_persona[\"nombre\"])\n",
    "print(\"Edad:\", info_persona[\"edad\"])\n",
    "print(\"Diccionario completo:\", info_persona)\n",
    "print(\"Tipo:\", type(info_persona))\n",
    "\n",
    "# Agregar una nueva clave\n",
    "info_persona[\"profesion\"] = \"Científico de datos\"\n",
    "print(\"Actualizado:\", info_persona)\n"
   ]
  },
  {
   "cell_type": "markdown",
   "metadata": {},
   "source": [
    "### 🧱 Tuplas (`tuple`)\n",
    "\n",
    "Las tuplas son similares a las listas, pero **no se pueden modificar**. Se definen con paréntesis `()` y son útiles para almacenar datos fijos."
   ]
  },
  {
   "cell_type": "code",
   "execution_count": null,
   "metadata": {},
   "outputs": [],
   "source": [
    "coordenadas = (4.61, -74.07)\n",
    "\n",
    "print(\"Tupla:\", coordenadas)\n",
    "print(\"Latitud:\", coordenadas[0])\n",
    "print(\"Longitud:\", coordenadas[1])\n",
    "print(\"Tipo:\", type(coordenadas))\n",
    "\n",
    "# Intentar modificar una tupla (esto generará un error)\n",
    "try:\n",
    "    coordenadas[0] = 0\n",
    "except TypeError as e:\n",
    "    print(\"Error:\", e)"
   ]
  },
  {
   "cell_type": "markdown",
   "metadata": {},
   "source": [
    "### 🔘 Conjuntos (`set`)\n",
    "\n",
    "Los conjuntos son colecciones **no ordenadas** que no permiten elementos duplicados. Se definen con `set()` o llaves `{}`."
   ]
  },
  {
   "cell_type": "code",
   "execution_count": null,
   "metadata": {},
   "outputs": [],
   "source": [
    "valores = [1, 2, 2, 3, 4, 4, 5]\n",
    "conjunto = set(valores)\n",
    "\n",
    "print(\"Original:\", valores)\n",
    "print(\"Set sin duplicados:\", conjunto)\n",
    "print(\"Tipo:\", type(conjunto))\n",
    "\n",
    "# Agregar un nuevo elemento\n",
    "conjunto.add(6)\n",
    "print(\"Actualizado:\", conjunto)"
   ]
  },
  {
   "cell_type": "markdown",
   "metadata": {},
   "source": [
    "## 5. Operadores y estructuras de control\n",
    "---\n",
    "Python nos permite realizar operaciones matemáticas y tomar decisiones mediante estructuras de control como condicionales y bucles. Estas herramientas son fundamentales para crear programas dinámicos y útiles."
   ]
  },
  {
   "cell_type": "markdown",
   "metadata": {},
   "source": [
    "### ➕ Operadores aritméticos\n",
    "\n",
    "Python permite usar operadores matemáticos básicos como suma, resta, multiplicación, división, y más."
   ]
  },
  {
   "cell_type": "code",
   "execution_count": null,
   "metadata": {},
   "outputs": [],
   "source": [
    "# Suma\n",
    "print(\"1 + 2 =\", 1 + 2)"
   ]
  },
  {
   "cell_type": "code",
   "execution_count": null,
   "metadata": {},
   "outputs": [],
   "source": [
    "# Resta\n",
    "print(\"5 - 3 =\", 5 - 3)"
   ]
  },
  {
   "cell_type": "code",
   "execution_count": null,
   "metadata": {},
   "outputs": [],
   "source": [
    "# Multiplicación\n",
    "print(\"4 * 3 =\", 4 * 3)"
   ]
  },
  {
   "cell_type": "code",
   "execution_count": null,
   "metadata": {},
   "outputs": [],
   "source": [
    "# División\n",
    "print(\"10 / 2 =\", 10 / 2)"
   ]
  },
  {
   "cell_type": "code",
   "execution_count": null,
   "metadata": {},
   "outputs": [],
   "source": [
    "# División entera (sin decimales)\n",
    "print(\"10 // 3 =\", 10 // 3)"
   ]
  },
  {
   "cell_type": "code",
   "execution_count": null,
   "metadata": {},
   "outputs": [],
   "source": [
    "# Potenciación\n",
    "print(\"2 ** 4 =\", 2 ** 4)"
   ]
  },
  {
   "cell_type": "code",
   "execution_count": null,
   "metadata": {},
   "outputs": [],
   "source": [
    "# Módulo (residuo)\n",
    "print(\"10 % 3 =\", 10 % 3)"
   ]
  },
  {
   "cell_type": "markdown",
   "metadata": {},
   "source": [
    "### 🤔 Condicionales `if`, `elif`, `else`\n",
    "\n",
    "Las estructuras condicionales permiten ejecutar bloques de código solo si se cumple una condición.\n"
   ]
  },
  {
   "cell_type": "code",
   "execution_count": null,
   "metadata": {},
   "outputs": [],
   "source": [
    "x = 10\n",
    "\n",
    "if x > 0:\n",
    "    print(\"x es positivo\")\n",
    "elif x == 0:\n",
    "    print(\"x es cero\")\n",
    "else:\n",
    "    print(\"x es negativo\")"
   ]
  },
  {
   "cell_type": "markdown",
   "metadata": {},
   "source": [
    "También podemos usarlas para comparar tipos o valores:"
   ]
  },
  {
   "cell_type": "code",
   "execution_count": null,
   "metadata": {},
   "outputs": [],
   "source": [
    "valor = True\n",
    "\n",
    "if type(valor) == str:\n",
    "    print(\"Es una cadena de texto\")\n",
    "elif type(valor) == int:\n",
    "    print(\"Es un número entero\")\n",
    "elif type(valor) == float:\n",
    "    print(\"Es un número decimal\")\n",
    "elif type(valor) == bool:\n",
    "    print(\"Es un valor booleano\")"
   ]
  },
  {
   "cell_type": "markdown",
   "metadata": {},
   "source": [
    "### 🔁 Bucle `while`\n",
    "\n",
    "El bucle `while` repite un bloque de código mientras se cumpla una condición.\n"
   ]
  },
  {
   "cell_type": "code",
   "execution_count": null,
   "metadata": {},
   "outputs": [],
   "source": [
    "contador = 0\n",
    "\n",
    "while contador < 3:\n",
    "    print(\"Contador:\", contador)\n",
    "    contador += 1"
   ]
  },
  {
   "cell_type": "markdown",
   "metadata": {},
   "source": [
    "### 🔁 Bucle `for`\n",
    "\n",
    "El bucle `for` se usa para recorrer elementos de una secuencia (como una lista o rango)."
   ]
  },
  {
   "cell_type": "code",
   "execution_count": null,
   "metadata": {},
   "outputs": [],
   "source": [
    "for i in range(5):\n",
    "    print(\"Valor de i:\", i)"
   ]
  },
  {
   "cell_type": "markdown",
   "metadata": {},
   "source": [
    "También se puede usar con listas directamente:"
   ]
  },
  {
   "cell_type": "code",
   "execution_count": null,
   "metadata": {},
   "outputs": [],
   "source": [
    "nombres = [\"Alfonso\", \"Nicole\", \"Max\"]\n",
    "\n",
    "for nombre in nombres:\n",
    "    print(\"Hola,\", nombre)"
   ]
  },
  {
   "cell_type": "markdown",
   "metadata": {},
   "source": [
    "## 6. Funciones en Python\n",
    "---\n",
    "Las funciones son bloques de código reutilizables que se definen una vez y se pueden ejecutar múltiples veces. Son ideales para automatizar tareas repetitivas y organizar mejor tu código.\n",
    "\n",
    "\n",
    "### 🔧 ¿Qué es una función?\n",
    "\n",
    "Una función se define usando la palabra clave `def`, seguida del nombre de la función, paréntesis con los argumentos, y dos puntos `:`. El cuerpo de la función va indentado.\n"
   ]
  },
  {
   "cell_type": "code",
   "execution_count": null,
   "metadata": {},
   "outputs": [],
   "source": [
    "# Esta función imprime un saludo\n",
    "def saludar():\n",
    "    print(\"Hola, bienvenid@ al curso\")\n",
    "\n",
    "# Llamamos la función\n",
    "saludar()"
   ]
  },
  {
   "cell_type": "markdown",
   "metadata": {},
   "source": [
    "### 🧪 Funciones con argumentos\n",
    "\n",
    "Puedes definir funciones que acepten uno o más parámetros para hacerlas más flexibles."
   ]
  },
  {
   "cell_type": "code",
   "execution_count": null,
   "metadata": {},
   "outputs": [],
   "source": [
    "def saludar_persona(nombre):\n",
    "    print(f\"Hola, {nombre}!\")\n",
    "\n",
    "saludar_persona(\"Alfonso\")\n",
    "saludar_persona(\"Nicole\")"
   ]
  },
  {
   "cell_type": "markdown",
   "metadata": {},
   "source": [
    "### ➕ Funciones con múltiples argumentos\n",
    "\n",
    "Las funciones pueden aceptar varios argumentos, por ejemplo, para realizar operaciones matemáticas:"
   ]
  },
  {
   "cell_type": "code",
   "execution_count": null,
   "metadata": {},
   "outputs": [],
   "source": [
    "def sumar(a, b):\n",
    "    resultado = a + b\n",
    "    print(\"Resultado:\", resultado)\n",
    "\n",
    "sumar(3, 5)\n",
    "sumar(10, -2)"
   ]
  },
  {
   "cell_type": "markdown",
   "metadata": {},
   "source": [
    "### 🔁 Funciones que devuelven resultados (`return`)\n",
    "\n",
    "Usamos `return` cuando queremos que la función nos entregue un valor para usarlo más adelante."
   ]
  },
  {
   "cell_type": "code",
   "execution_count": null,
   "metadata": {},
   "outputs": [],
   "source": [
    "def area_triangulo(base, altura):\n",
    "    return (base * altura) / 2"
   ]
  },
  {
   "cell_type": "code",
   "execution_count": null,
   "metadata": {},
   "outputs": [],
   "source": [
    "area = area_triangulo(3, 5)\n",
    "print(\"Área del triángulo:\", area)"
   ]
  },
  {
   "cell_type": "markdown",
   "metadata": {},
   "source": [
    "## 7. Clases y objetos en Python\n",
    "---\n",
    "\n",
    "En Python, una **clase** es como un molde o plantilla para crear **objetos**. Cada objeto puede tener sus propios **atributos** (datos) y **métodos** (funciones asociadas).\n",
    "\n",
    "Este enfoque se conoce como **Programación Orientada a Objetos (OOP)** y es muy útil para organizar código complejo en estructuras lógicas.\n",
    "\n",
    "\n",
    "\n",
    "### 🧱 ¿Qué es una clase?\n",
    "\n",
    "Vamos a crear una clase llamada `Figura` que describe un objeto geométrico."
   ]
  },
  {
   "cell_type": "code",
   "execution_count": null,
   "metadata": {},
   "outputs": [],
   "source": [
    "class Figura:\n",
    "    def __init__(self, nombre, lados, color):\n",
    "        self.nombre = nombre\n",
    "        self.lados = lados\n",
    "        self.color = color"
   ]
  },
  {
   "cell_type": "markdown",
   "metadata": {},
   "source": [
    "- `__init__()` es un **constructor** que se ejecuta cuando se crea un nuevo objeto.\n",
    "- `self` representa al propio objeto."
   ]
  },
  {
   "cell_type": "markdown",
   "metadata": {},
   "source": [
    "### 🧪 Crear una clase y usar objetos\n",
    "\n",
    "Ahora instanciamos un objeto de tipo `Figura`:"
   ]
  },
  {
   "cell_type": "markdown",
   "metadata": {},
   "source": [
    "Si queremos hacer la abstracción de un cuadrado podemos definirlo de la siguiente manera:"
   ]
  },
  {
   "cell_type": "code",
   "execution_count": null,
   "metadata": {},
   "outputs": [],
   "source": [
    "cuadrado = Figura(nombre=\"Cuadrado\", lados=4, color=\"Rojo\")\n",
    "\n",
    "print(\"Nombre:\", cuadrado.nombre)\n",
    "print(\"Lados:\", cuadrado.lados)\n",
    "print(\"Color:\", cuadrado.color)"
   ]
  },
  {
   "cell_type": "markdown",
   "metadata": {},
   "source": [
    "Cada objeto tiene su propio conjunto de atributos."
   ]
  },
  {
   "cell_type": "markdown",
   "metadata": {},
   "source": [
    "### 🛠️ Métodos dentro de una clase\n",
    "\n",
    "También podemos definir funciones dentro de una clase que realicen acciones con los datos del objeto. A esto se les llama **métodos**.\n"
   ]
  },
  {
   "cell_type": "code",
   "execution_count": null,
   "metadata": {},
   "outputs": [],
   "source": [
    "class Figura:\n",
    "    def __init__(self, nombre, lados, color):\n",
    "        self.nombre = nombre\n",
    "        self.lados = lados\n",
    "        self.color = color\n",
    "\n",
    "    def describir(self):\n",
    "        print(f\"{self.nombre} tiene {self.lados} lados y es de color {self.color}\")"
   ]
  },
  {
   "cell_type": "markdown",
   "metadata": {},
   "source": [
    "Usamos el método:"
   ]
  },
  {
   "cell_type": "code",
   "execution_count": null,
   "metadata": {},
   "outputs": [],
   "source": [
    "triangulo = Figura(\"Triángulo\", 3, \"Azul\")\n",
    "triangulo.describir()"
   ]
  },
  {
   "cell_type": "markdown",
   "metadata": {},
   "source": [
    "Esto imprimirá una descripción usando los datos del objeto.\n"
   ]
  },
  {
   "cell_type": "markdown",
   "metadata": {},
   "source": [
    "## 8. Importar librerías en Python\n",
    "---\n",
    "\n",
    "Una **librería** (o módulo) es una colección de funciones y clases ya escritas que puedes reutilizar en tu código. Usarlas ahorra tiempo y permite hacer cosas complejas fácilmente.\n",
    "\n",
    "Por ejemplo, existen librerías para matemáticas (`numpy`), manejo de datos (`pandas`), procesamiento de datos climáticos (`xarray`), visualización (`matplotlib`), y muchas más.\n",
    "\n",
    "\n",
    "\n",
    "### 📦 ¿Cómo se importa una librería?\n",
    "\n",
    "Usamos la palabra clave `import` para traer una librería a nuestro entorno de trabajo.\n"
   ]
  },
  {
   "cell_type": "code",
   "execution_count": null,
   "metadata": {},
   "outputs": [],
   "source": [
    "import numpy"
   ]
  },
  {
   "cell_type": "markdown",
   "metadata": {},
   "source": [
    "Ahora podemos usar cualquier función dentro de `numpy`, como:"
   ]
  },
  {
   "cell_type": "code",
   "execution_count": null,
   "metadata": {},
   "outputs": [],
   "source": [
    "import numpy as np\n",
    "import pandas as pd\n",
    "import xarray as xr"
   ]
  },
  {
   "cell_type": "code",
   "execution_count": null,
   "metadata": {},
   "outputs": [],
   "source": [
    "numeros = numpy.array([1, 2, 3])\n",
    "print(numeros)"
   ]
  },
  {
   "cell_type": "markdown",
   "metadata": {},
   "source": [
    "### 🧩 Usar alias con `as`\n",
    "\n",
    "Como algunas librerías tienen nombres largos, se suele usar un **alias** con la palabra clave `as`:\n"
   ]
  },
  {
   "cell_type": "code",
   "execution_count": null,
   "metadata": {},
   "outputs": [],
   "source": [
    "import numpy as np"
   ]
  },
  {
   "cell_type": "markdown",
   "metadata": {},
   "source": [
    "Esto nos permite escribir:"
   ]
  },
  {
   "cell_type": "code",
   "execution_count": null,
   "metadata": {},
   "outputs": [],
   "source": [
    "a = np.array([1, 2, 3])\n",
    "print(a * 10)"
   ]
  },
  {
   "cell_type": "markdown",
   "metadata": {},
   "source": [
    "### 🧪 Librerías comunes en ciencia de datos\n",
    "\n",
    "A continuación presentamos algunas de las librerías más utilizadas en análisis científico y de datos climáticos:\n",
    "\n",
    "- **`numpy`** → Permite realizar cálculos numéricos y operaciones con arrays de manera eficiente.\n",
    "- **`pandas`** → Ofrece estructuras de datos tipo tabla (DataFrames) ideales para manipular datos tabulados.\n",
    "- **`xarray`** → Diseñada para trabajar con datos multidimensionales, como series de tiempo o datos climáticos en grillas.\n",
    "\n",
    "Estas librerías están optimizadas para el trabajo científico y forman la base de muchas herramientas modernas para la ciencia abierta y la climatología computacional.\n"
   ]
  },
  {
   "cell_type": "code",
   "execution_count": null,
   "metadata": {},
   "outputs": [],
   "source": [
    "import numpy as np\n",
    "import pandas as pd\n",
    "import xarray as xr\n",
    "\n",
    "# Crear un array con numpy\n",
    "arr = np.arange(5)\n",
    "print(\"Array con numpy:\", arr)\n",
    "\n",
    "# Crear una tabla (DataFrame) con pandas\n",
    "df = pd.DataFrame({\n",
    "    \"nombre\": [\"Ana\", \"Luis\", \"Camila\"],\n",
    "    \"edad\": [23, 34, 29]\n",
    "})\n",
    "print(\"\\nTabla con pandas:\")\n",
    "print(df)\n",
    "\n",
    "# Crear un dataset con xarray\n",
    "ds = xr.Dataset({\n",
    "    \"temperatura\": ((\"x\",), [15.1, 17.3, 16.8])\n",
    "})\n",
    "print(\"\\nDataset con xarray:\")\n",
    "print(ds)"
   ]
  },
  {
   "cell_type": "markdown",
   "metadata": {},
   "source": [
    "---"
   ]
  },
  {
   "cell_type": "markdown",
   "metadata": {},
   "source": [
    "## ✅ Conclusiones finales\n",
    "\n",
    "En este capítulo aprendiste los fundamentos esenciales de la programación científica con Python:\n",
    "\n",
    "- Los principales **tipos de datos** (enteros, flotantes, texto, listas, diccionarios, etc.)\n",
    "- Cómo utilizar **estructuras de control** como condicionales y bucles\n",
    "- Cómo crear y reutilizar **funciones** y **clases**\n",
    "- Qué es y cómo se usa **JupyterLab** como entorno interactivo\n",
    "- Cómo importar y utilizar librerías externas en tus notebooks\n",
    "\n",
    "Estas herramientas forman la base para trabajar con datos reales, desarrollar scripts reproducibles y automatizar análisis en ciencia de datos.\n",
    "\n",
    "> 🎓 Programar es una habilidad que se fortalece con la práctica. No te preocupes por memorizar todo ahora, ¡vuelve a este capítulo cuando lo necesites!\n",
    "\n",
    "---\n",
    "\n",
    "### 👉 ¿Qué sigue?\n",
    "\n",
    "En el próximo cuadernillo exploraremos en mayor profundidad tres de las librerías más utilizadas en ciencia climática:\n",
    "\n",
    "- `numpy` para trabajar con arreglos y álgebra lineal\n",
    "- `pandas` para manipular datos tabulares\n",
    "- `xarray` para manejar datos multidimensionales como los de satélites, modelos climáticos y observaciones atmosféricas\n",
    "\n",
    "Prepárate para trabajar con datos reales y aprender nuevas herramientas prácticas. ¡Nos vemos allá! 🌎📊\n"
   ]
  },
  {
   "cell_type": "markdown",
   "metadata": {},
   "source": [
    "## Fuentes y referencias\n",
    "\n",
    "* Rose, B. E. J., Kent, J., Tyle, K., Clyne, J., Banihirwe, A., Camron, D., May, R., Grover, M., Ford, R. R., Paul, K., Morley, J., Eroglu, O., Kailyn, L., & Zacharias, A. (2023). Pythia Foundations (Version v2023.05.01) [https://doi.org/10.5281/zenodo.7884572]\n",
    "* Abernathey R. (2022) An Introduction to Earth and Environmental Data Science. [https://earth-env-data-science.github.io/intro.html]\n",
    "* JupyterLab Documentation [https://jupyterlab.readthedocs.io/en/stable/index.html]"
   ]
  },
  {
   "cell_type": "code",
   "execution_count": null,
   "metadata": {},
   "outputs": [],
   "source": []
  },
  {
   "cell_type": "code",
   "execution_count": null,
   "metadata": {},
   "outputs": [],
   "source": []
  }
 ],
 "metadata": {
  "kernelspec": {
   "display_name": "Python 3 (ipykernel)",
   "language": "python",
   "name": "python3"
  },
  "language_info": {
   "codemirror_mode": {
    "name": "ipython",
    "version": 3
   },
   "file_extension": ".py",
   "mimetype": "text/x-python",
   "name": "python",
   "nbconvert_exporter": "python",
   "pygments_lexer": "ipython3",
   "version": "3.12.9"
  },
  "nbdime-conflicts": {
   "local_diff": [
    {
     "diff": [
      {
       "diff": [
        {
         "key": 0,
         "op": "addrange",
         "valuelist": [
          "Python 3"
         ]
        },
        {
         "key": 0,
         "length": 1,
         "op": "removerange"
        }
       ],
       "key": "display_name",
       "op": "patch"
      }
     ],
     "key": "kernelspec",
     "op": "patch"
    }
   ],
   "remote_diff": [
    {
     "diff": [
      {
       "diff": [
        {
         "key": 0,
         "op": "addrange",
         "valuelist": [
          "Python3"
         ]
        },
        {
         "key": 0,
         "length": 1,
         "op": "removerange"
        }
       ],
       "key": "display_name",
       "op": "patch"
      }
     ],
     "key": "kernelspec",
     "op": "patch"
    }
   ]
  },
  "toc-autonumbering": false
 },
 "nbformat": 4,
 "nbformat_minor": 4
}
