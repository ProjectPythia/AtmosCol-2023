{
 "cells": [
  {
   "cell_type": "markdown",
   "id": "a7814d44-61de-48d6-b03d-4b20f06b5502",
   "metadata": {},
   "source": [
    "<img src=\"gsstanim.gif\" width=600 alt=\"ENSO\"></img>"
   ]
  },
  {
   "cell_type": "code",
   "execution_count": null,
   "id": "528a41b4-7012-4794-a550-498841d07ae4",
   "metadata": {},
   "outputs": [],
   "source": [
    "import xarray as xr\n",
    "from matplotlib import pyplot as plt\n",
    "import numpy as np\n",
    "import hvplot.xarray\n",
    "import holoviews as hv\n",
    "hv.extension('bokeh')\n",
    "\n",
    "%matplotlib inline"
   ]
  },
  {
   "cell_type": "code",
   "execution_count": null,
   "id": "05d1045c-10f5-43d8-87b4-ec2b3790d914",
   "metadata": {},
   "outputs": [],
   "source": []
  },
  {
   "cell_type": "code",
   "execution_count": null,
   "id": "1fd32dce",
   "metadata": {},
   "outputs": [],
   "source": [
    "url = 'http://www.esrl.noaa.gov/psd/thredds/dodsC/Datasets/noaa.ersst.v5/sst.mnmean.nc'\n",
    "ds = xr.open_dataset(url)"
   ]
  },
  {
   "cell_type": "code",
   "execution_count": null,
   "id": "9fa2d650",
   "metadata": {},
   "outputs": [],
   "source": [
    "ds = ds.sel(time=slice('1960', '2021'))"
   ]
  },
  {
   "cell_type": "code",
   "execution_count": null,
   "id": "996becc5",
   "metadata": {},
   "outputs": [],
   "source": [
    "ds.sst.hvplot('lon', 'lat', cmap='Magma').redim.range(sst=(-2, 30))"
   ]
  },
  {
   "cell_type": "code",
   "execution_count": null,
   "id": "5945dc85",
   "metadata": {},
   "outputs": [],
   "source": [
    "sst_clim = ds.sst.groupby('time.month').mean(dim='time')\n",
    "sst_anom = ds.sst.groupby('time.month') - sst_clim"
   ]
  },
  {
   "cell_type": "code",
   "execution_count": null,
   "id": "2708b988",
   "metadata": {},
   "outputs": [],
   "source": [
    "from scipy.signal import detrend\n",
    "sst_anom_detrended = xr.apply_ufunc(detrend, sst_anom.fillna(0),\n",
    "                                    kwargs={'axis': 0}).where(~sst_anom.isnull())"
   ]
  },
  {
   "cell_type": "code",
   "execution_count": null,
   "id": "07284d9d",
   "metadata": {},
   "outputs": [],
   "source": [
    "# For a global average, we need to weigh the points by cosine of latitude.\n",
    "# This is not built into xarray because xarray is not specific to geoscientific data.\n",
    "weights = np.cos(np.deg2rad(ds.lat)).where(~sst_anom[0].isnull())\n",
    "weights /= weights.mean()\n",
    "\n",
    "(sst_anom * weights).mean(dim=['lon', 'lat']).plot(label='raw')\n",
    "(sst_anom_detrended * weights).mean(dim=['lon', 'lat']).plot(label='detrended')\n",
    "plt.grid()\n",
    "plt.legend()"
   ]
  },
  {
   "cell_type": "code",
   "execution_count": null,
   "id": "1c3bc459",
   "metadata": {},
   "outputs": [],
   "source": [
    "sst_anom_detrended.hvplot('lon', 'lat', cmap='RdBu_r').redim.range(sst=(-2, 2))"
   ]
  },
  {
   "cell_type": "code",
   "execution_count": null,
   "id": "e33c8372",
   "metadata": {},
   "outputs": [],
   "source": [
    "sst_anom_nino34 = sst_anom_detrended.sel(lat=slice(5, -5), lon=slice(190, 240))\n",
    "sst_anom_nino34_mean = sst_anom_nino34.mean(dim=('lon', 'lat'))\n",
    "oni = sst_anom_nino34_mean.rolling(time=3, center=True).mean()"
   ]
  },
  {
   "cell_type": "code",
   "execution_count": null,
   "id": "28c692d3",
   "metadata": {},
   "outputs": [],
   "source": [
    "oni.plot()\n",
    "plt.grid()\n",
    "plt.ylabel('Anomaly (dec. C)');"
   ]
  },
  {
   "cell_type": "code",
   "execution_count": null,
   "id": "3cd82a2c",
   "metadata": {},
   "outputs": [],
   "source": [
    "positive_oni = ((oni>0.5).astype('b').rolling(time=5, center=True).sum()==5)\n",
    "negative_oni = ((oni<0.5).astype('b').rolling(time=5, center=True).sum()==5)\n",
    "positive_oni.astype('i').plot(marker='.', label='positive')\n",
    "(-negative_oni.astype('i')).plot(marker='.', label='negative')\n",
    "plt.legend()"
   ]
  },
  {
   "cell_type": "code",
   "execution_count": null,
   "id": "893abbb1",
   "metadata": {},
   "outputs": [],
   "source": [
    "sst_anom.where(positive_oni).mean(dim='time').plot()\n",
    "plt.title('SST Anomaly - Positive Niño3.4');"
   ]
  },
  {
   "cell_type": "code",
   "execution_count": null,
   "id": "89558655",
   "metadata": {},
   "outputs": [],
   "source": [
    "sst_anom.where(negative_oni).mean(dim='time').plot()\n",
    "plt.title('SST Anomaly - Negative Niño3.4');"
   ]
  },
  {
   "cell_type": "code",
   "execution_count": null,
   "id": "f3173afb",
   "metadata": {},
   "outputs": [],
   "source": []
  }
 ],
 "metadata": {
  "kernelspec": {
   "display_name": "Python 3 (ipykernel)",
   "language": "python",
   "name": "python3"
  },
  "language_info": {
   "codemirror_mode": {
    "name": "ipython",
    "version": 3
   },
   "file_extension": ".py",
   "mimetype": "text/x-python",
   "name": "python",
   "nbconvert_exporter": "python",
   "pygments_lexer": "ipython3",
   "version": "3.11.5"
  }
 },
 "nbformat": 4,
 "nbformat_minor": 5
}
