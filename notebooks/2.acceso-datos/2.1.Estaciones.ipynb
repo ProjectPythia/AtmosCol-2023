{
 "cells": [
  {
   "cell_type": "markdown",
   "metadata": {},
   "source": [
    "```{image} ../images/surf-obs.png\n",
    ":width: 400px\n",
    ":align: center\n",
    "```"
   ]
  },
  {
   "cell_type": "markdown",
   "metadata": {},
   "source": [
    "# Estaciones hidrometeorológicas"
   ]
  },
  {
   "cell_type": "markdown",
   "metadata": {},
   "source": [
    "---"
   ]
  },
  {
   "cell_type": "markdown",
   "metadata": {},
   "source": [
    "## 🧭 Introducción\n",
    "\n",
    "Las estaciones hidrometeorológicas constituyen la columna vertebral del monitoreo ambiental en Colombia. Este cuadernillo explora cómo acceder, explorar y visualizar la información proveniente de las estaciones del **IDEAM** (Instituto de Hidrología, Meteorología y Estudios Ambientales), usando herramientas de código abierto como Python, Pandas, Cartopy y Folium.\n",
    "\n",
    "Aprenderás a consultar el catálogo nacional de estaciones, visualizar su ubicación geográfica, e integrar consultas de datos históricos y en tiempo casi real desde la plataforma [datosabiertos.gov.co](https://www.datos.gov.co).\n",
    "\n",
    "\n",
    "1. Introduccion a la red de monitoreo del IDEAM\n",
    "2. Cátalogo de estaciones de IDEAM\n",
    "3. Consulta de datos usando la plataforma [datosabiertos.gov.co](https://www.datos.gov.co/) \n",
    "1. Consulta de datos de temperatura y precipitación\n",
    "1. Otros datos disponibles"
   ]
  },
  {
   "cell_type": "markdown",
   "metadata": {},
   "source": [
    "## 📚 ¿Qué vas a aprender?\n",
    "\n",
    "Al finalizar este cuadernillo, podrás:\n",
    "\n",
    "- Acceder al catálogo nacional de estaciones hidrometeorológicas de IDEAM.\n",
    "- Visualizar estaciones sobre mapas estáticos e interactivos.\n",
    "- Consultar series de datos históricos de temperatura y precipitación usando *sodapy*.\n",
    "- Realizar consultas SQL en la API de *datos abiertos* de Colombia.\n",
    "- Procesar y graficar series de datos recientes en tiempo cercano al real.\n",
    "\n",
    "---"
   ]
  },
  {
   "cell_type": "markdown",
   "metadata": {},
   "source": [
    "## ✅ Requisitos previos\n",
    "\n",
    "\n",
    "```{list-table}\n",
    ":header-rows: 1\n",
    "\n",
    "* - Conceptos\n",
    "  - Importancia\n",
    "  - Notas\n",
    "* - [Introducción a Pandas](https://foundations.projectpythia.org/core/pandas.html)\n",
    "  - Necesario\n",
    "  - Lectura de datos tabulares\n",
    "* - [Introducción a Datetime](https://foundations.projectpythia.org/core/datetime/datetime.html)\n",
    "  - Necesario\n",
    "  - Entender estampas de tiempo\n",
    "* - [Introducción a Cartopy](https://foundations.projectpythia.org/core/cartopy.html)\n",
    "  - Necesario\n",
    "  - Entender estampas de tiempo\n",
    "* - [Introducción a folium](https://python-visualization.github.io/folium/latest/getting_started.html)\n",
    "  - Útil\n",
    "  - Mapas interactivos\n",
    "\n"
   ]
  },
  {
   "cell_type": "markdown",
   "metadata": {},
   "source": [
    "⏱️ Tiempo estimado: 30 minutos  \n",
    "✍️ Formato: Interactivo. Ejecuta y modifica el código en cada celda."
   ]
  },
  {
   "cell_type": "markdown",
   "metadata": {},
   "source": [
    "## 1. 🗂️ Catálogo nacional de estaciones del IDEAM\n"
   ]
  },
  {
   "cell_type": "markdown",
   "metadata": {},
   "source": [
    "### 1.1 📄 Lectura del catálogo\n",
    "\n",
    "El IDEAM (Instituto de Hidrología, Meteorología y Estudios Ambientales) mantiene un catálogo actualizado de más de 4.000 estaciones hidrometeorológicas activas, suspendidas o en mantenimiento. Este catálogo incluye estaciones **limnológicas**, **climáticas**, **agrometeorológicas**, **sinópticas**, entre otras, distribuidas por todo el territorio nacional.\n",
    "\n",
    "````{admonition} 📡 Acceso público\n",
    "Este catálogo está disponible públicamente a través del portal [datosabiertos.gov.co](https://www.datos.gov.co), que utiliza la plataforma **Socrata** para exponer conjuntos de datos a través de una API REST.\n"
   ]
  },
  {
   "cell_type": "markdown",
   "metadata": {},
   "source": [
    ":class: tip\n",
    "\n",
    "**Socrata** es una plataforma de datos abiertos que permite consultar conjuntos de datos públicos mediante una interfaz web o desde código. En Python, podemos acceder fácilmente a estos datos usando la librería [`sodapy`](https://pypi.org/project/sodapy/), que facilita las consultas y permite trabajar con los resultados directamente como `DataFrame`.\n"
   ]
  },
  {
   "cell_type": "markdown",
   "metadata": {},
   "source": [
    "A continuación, mostramos cómo conectarse al portal y descargar el catálogo nacional de estaciones:\n"
   ]
  },
  {
   "cell_type": "code",
   "execution_count": null,
   "metadata": {},
   "outputs": [],
   "source": [
    "from datetime import datetime, timedelta\n",
    "\n",
    "import cartopy.crs as ccrs\n",
    "import cartopy.feature as feature\n",
    "import matplotlib.pyplot as plt\n",
    "import pandas as pd\n",
    "from matplotlib.dates import DateFormatter, HourLocator\n",
    "from pandas import to_datetime\n",
    "from sodapy import Socrata"
   ]
  },
  {
   "cell_type": "code",
   "execution_count": null,
   "metadata": {},
   "outputs": [],
   "source": [
    "from sodapy import Socrata\n",
    "import pandas as pd\n",
    "\n",
    "# Crear cliente sin autenticación (None)\n",
    "client = Socrata(\"www.datos.gov.co\", None)\n",
    "\n",
    "# Descargar registros del catálogo nacional de estaciones (máx. 10,000)\n",
    "results = client.get(\"hp9r-jxuu\", limit=10000)\n",
    "\n",
    "# Convertir los datos a un DataFrame de Pandas\n",
    "df_cat = pd.DataFrame.from_records(results)\n",
    "# Este conjunto de datos incluye la ubicación geográfica de cada estación en formato anidado (ubicaci_n), \n",
    "# por lo que es necesario extraer manualmente las coordenadas:\n",
    "df_cat[\"latitud\"] = df_cat[\"ubicaci_n\"].apply(lambda d: float(d[\"latitude\"]))\n",
    "df_cat[\"longitud\"] = df_cat[\"ubicaci_n\"].apply(lambda d: float(d[\"longitude\"]))"
   ]
  },
  {
   "cell_type": "code",
   "execution_count": null,
   "metadata": {},
   "outputs": [],
   "source": [
    "df_cat.head()"
   ]
  },
  {
   "cell_type": "markdown",
   "metadata": {},
   "source": [
    "### 1.2 🗺️ Mapa de estaciones\n",
    "\n",
    "Una vez cargado el catálogo de estaciones, podemos visualizar su distribución geográfica mediante un mapa estático utilizando la librería `Cartopy`.\n",
    "\n",
    "Este tipo de visualización nos permite identificar la cobertura espacial de la red de monitoreo del IDEAM, así como detectar posibles vacíos geográficos o concentraciones de estaciones en ciertas regiones del país.\n",
    "\n",
    "A continuación, se muestra cómo generar un mapa base con las estaciones ubicadas mediante coordenadas geográficas (latitud y longitud).\n"
   ]
  },
  {
   "cell_type": "code",
   "execution_count": null,
   "metadata": {},
   "outputs": [],
   "source": [
    "fig, ax = plt.subplots(subplot_kw={\"projection\": ccrs.PlateCarree()}, dpi=150)\n",
    "ax.coastlines()\n",
    "gl = ax.gridlines(draw_labels=True, crs=ccrs.PlateCarree())\n",
    "ax.scatter(df_cat[\"longitud\"], df_cat[\"latitud\"], transform=ccrs.PlateCarree(), s=0.5)\n",
    "ax.add_feature(feature.LAND)\n",
    "ax.add_feature(feature.OCEAN)\n",
    "ax.add_feature(feature.COASTLINE, linewidth=0.5)\n",
    "ax.add_feature(feature.BORDERS, linewidth=0.5);"
   ]
  },
  {
   "cell_type": "markdown",
   "metadata": {},
   "source": [
    "### 1.3 🗂️ Visualización por estado de las estaciones\n",
    "\n",
    "Además de visualizar todas las estaciones en un único mapa, también es útil representar su distribución según el **estado operativo**: si están **activas**, **en mantenimiento** o **suspendidas**.\n",
    "\n",
    "Esta visualización facilita:\n",
    "\n",
    "- Evaluar la cobertura real de la red de monitoreo actual (estaciones activas),\n",
    "- Identificar regiones con estaciones fuera de servicio,\n",
    "- Priorizar acciones de mantenimiento o rehabilitación."
   ]
  },
  {
   "cell_type": "code",
   "execution_count": null,
   "metadata": {},
   "outputs": [],
   "source": [
    "df_grp = df_cat.groupby(\"estado\")"
   ]
  },
  {
   "cell_type": "code",
   "execution_count": null,
   "metadata": {},
   "outputs": [],
   "source": [
    "import cartopy.crs as ccrs\n",
    "import cartopy.feature as feature\n",
    "import matplotlib.pyplot as plt\n",
    "\n",
    "fig, ax = plt.subplots(subplot_kw={\"projection\": ccrs.PlateCarree()}, dpi=150)\n",
    "\n",
    "for _, group in df_grp:\n",
    "    ax.scatter(\n",
    "        group[\"longitud\"],\n",
    "        group[\"latitud\"],\n",
    "        transform=ccrs.PlateCarree(),\n",
    "        s=0.5,\n",
    "        label=_,\n",
    "    )\n",
    "\n",
    "ax.coastlines()\n",
    "gl = ax.gridlines(draw_labels=True, crs=ccrs.PlateCarree())\n",
    "ax.add_feature(feature.LAND)\n",
    "ax.add_feature(feature.OCEAN)\n",
    "ax.add_feature(feature.COASTLINE, linewidth=0.5)\n",
    "ax.add_feature(feature.BORDERS, linewidth=0.5)\n",
    "ax.legend(fontsize=5);"
   ]
  },
  {
   "cell_type": "markdown",
   "metadata": {},
   "source": [
    "## 2. 🌧️ Consulta de datos históricos desde datosabiertos.gov.co\n",
    "\n",
    "Una vez conocemos la ubicación y estado de las estaciones hidrometeorológicas, podemos acceder a sus registros históricos —como precipitación, temperatura, humedad, presión, etc.— mediante la plataforma [datosabiertos.gov.co](https://www.datos.gov.co).\n",
    "\n",
    "Esta plataforma, basada en **Socrata**, ofrece una API pública que permite consultar y filtrar datos por estación, variable, fecha, entre otros criterios.\n",
    "\n",
    "> 📌 Cada variable disponible tiene un identificador único llamado `dataset_identifier`. Por ejemplo:\n",
    ">\n",
    "> - `s54a-sgyg`: Precipitación\n",
    "> - `sbwg-7ju4`: Temperatura\n",
    "> - `uext-mhny`: Humedad relativa\n",
    "\n",
    "En esta sección, aprenderás a:\n",
    "- Conectarte a la API de datos abiertos,\n",
    "- Consultar registros históricos de una estación específica,\n",
    "- Visualizar series temporales de variables como la precipitación y temperatura.\n",
    "\n",
    "### 2.1 ☔ Consulta de datos de precipitación\n",
    "\n",
    "Usaremos el identificador `s54a-sgyg`, correspondiente a registros de **precipitación** reportada por estaciones automáticas y convencionales.\n",
    "\n",
    "Primero, realizamos una consulta general para descargar los primeros 2.000 registros:"
   ]
  },
  {
   "cell_type": "code",
   "execution_count": null,
   "metadata": {},
   "outputs": [],
   "source": [
    "# Crear cliente de conexión\n",
    "client = Socrata(\"www.datos.gov.co\", None)\n",
    "\n",
    "# Descargar registros de precipitación (máximo 2000)\n",
    "results = client.get(\"s54a-sgyg\", limit=2000)\n",
    "df_ppt = pd.DataFrame.from_records(results)\n",
    "df_ppt.head()"
   ]
  },
  {
   "cell_type": "markdown",
   "metadata": {},
   "source": [
    "El conjunto de datos incluye campos como:\n",
    "\n",
    "- `fechaobservacion`: fecha y hora de la medición  \n",
    "- `valorobservado`: valor de precipitación (en mm)  \n",
    "- `codigoestacion` y `nombreestacion`  \n",
    "- `latitud` y `longitud`  \n",
    "- `departamento`, `municipio`, `zonahidrografica`  \n",
    "\n",
    "````{admonition} 💡 Conversión de tipos de datos\n",
    ":class: tip\n",
    "\n",
    "En algunos casos, es necesario convertir los tipos de datos antes de analizarlos o graficarlos:\n",
    "\n",
    "- `fechaobservacion` debe transformarse a tipo `datetime`\n",
    "- `valorobservado` debe convertirse a tipo `float`\n"
   ]
  },
  {
   "cell_type": "markdown",
   "metadata": {},
   "source": [
    "### 2.2 🌡️ Serie temporal de temperatura para una estación específica\n",
    "\n",
    "Ahora consultaremos la serie temporal de **temperatura del aire** registrada por la estación `0021205012`, correspondiente a la **Universidad Nacional - Bogotá**, usando el conjunto de datos identificado como `sbwg-7ju4`.\n",
    "\n",
    "Al tratarse de una serie histórica extensa, es posible que las solicitudes a la API tarden más de lo normal. Para evitar errores de tipo `Timeout`, recomendamos crear un cliente con un mayor tiempo de espera."
   ]
  },
  {
   "cell_type": "code",
   "execution_count": null,
   "metadata": {},
   "outputs": [],
   "source": [
    "from sodapy import Socrata\n",
    "\n",
    "# Crear un nuevo cliente con mayor tiempo de espera\n",
    "client_long = Socrata(\"www.datos.gov.co\", None, timeout=60)"
   ]
  },
  {
   "cell_type": "code",
   "execution_count": null,
   "metadata": {},
   "outputs": [],
   "source": [
    "temp_query = client_log.get(\n",
    "    dataset_identifier=\"sbwg-7ju4\",\n",
    "    select=\"fechaobservacion, valorobservado, codigoestacion\",\n",
    "    where=\"codigoestacion IN ('0021205012') AND fechaobservacion > '2020-01' AND fechaobservacion < '2020-02'\",\n",
    "    limit=1000,\n",
    ")\n",
    "\n",
    "\n",
    "# Convertir resultados a DataFrame\n",
    "df_temp = pd.DataFrame.from_records(temp_query)\n",
    "df_temp.head()"
   ]
  },
  {
   "cell_type": "markdown",
   "metadata": {},
   "source": [
    "Convertimos los datos a los tipos adecuados antes de graficarlos:"
   ]
  },
  {
   "cell_type": "code",
   "execution_count": null,
   "metadata": {},
   "outputs": [],
   "source": [
    "# Conversión de tipos y orden temporal\n",
    "df_temp[\"fechaobservacion\"] = pd.to_datetime(df_temp[\"fechaobservacion\"])\n",
    "df_temp[\"valorobservado\"] = df_temp[\"valorobservado\"].astype(float)\n",
    "df_temp.set_index(\"fechaobservacion\", inplace=True)\n",
    "df_temp = df_temp.sort_index()\n",
    "df_temp.info()"
   ]
  },
  {
   "cell_type": "markdown",
   "metadata": {},
   "source": [
    "Finalmente, graficamos la serie temporal de temperatura:"
   ]
  },
  {
   "cell_type": "code",
   "execution_count": null,
   "metadata": {
    "scrolled": true
   },
   "outputs": [],
   "source": [
    "\n",
    "# Graficar serie de temperatura\n",
    "fig, ax = plt.subplots(figsize=(12, 3))\n",
    "df_temp[\"valorobservado\"].plot(ax=ax, color=\"C1\")\n",
    "\n",
    "ax.set_title(\"Temperatura en la Estación 0021205012 (Universidad Nacional - Bogotá)\")\n",
    "ax.set_ylabel(\"Temperatura [°C]\")\n",
    "ax.set_xlabel(\"Fecha\")\n",
    "\n",
    "plt.tight_layout()"
   ]
  },
  {
   "cell_type": "markdown",
   "metadata": {},
   "source": [
    "```{admonition} ⚠️ Evita consultar rangos de datos muy amplios\n",
    ":class: warning\n",
    "\n",
    "La plataforma de datos abiertos **Socrata** impone límites de uso y puede restringir consultas que:\n",
    "\n",
    "- Acceden a un número muy alto de registros (varios miles).\n",
    "- Cubren periodos de tiempo muy amplios (años completos o toda la base de datos).\n",
    "- Se realizan sin autenticación (sin `app_token`).\n",
    "\n",
    "💡 Para evitar errores como `ReadTimeout`, `ThrottlingError` o consultas vacías, **limita tu consulta a periodos cortos**, por ejemplo un mes a la vez:\n",
    "\n",
    "```python\n",
    "where=\"codigoestacion IN ('0021205012') AND fechaobservacion > '2020-01' AND fechaobservacion < '2020-02'\"\n"
   ]
  },
  {
   "cell_type": "markdown",
   "metadata": {},
   "source": [
    "```{hint}\n",
    "📘 **Tip**: Para obtener más información sobre los parámetros que acepta la función `get()`, puedes ejecutar:\n",
    "\n",
    "```python\n",
    "client.get?"
   ]
  },
  {
   "cell_type": "markdown",
   "metadata": {},
   "source": [
    "## 3. ⏱️ Datos en tiempo \"Causi-real\" de IDEAM\n",
    "\n",
    "Además del acceso a información histórica, el IDEAM publica un conjunto de datos adicional que contiene observaciones en **tiempo cercano a la medición** (también llamado *cuasi-real*). Este conjunto está disponible en [datosabiertos.gov.co](https://www.datos.gov.co/es/Ambiente-y-Desarrollo-Sostenible/Datos-de-Estaciones-de-IDEAM-y-de-Terceros/57sv-p2fu) y corresponde al siguiente identificador:\n",
    "```python\n",
    "dataset_identifier = \"57sv-p2fu\""
   ]
  },
  {
   "cell_type": "markdown",
   "metadata": {},
   "source": [
    "\n",
    "📡 Este conjunto de datos permite acceder a las lecturas más recientes reportadas por estaciones automáticas del IDEAM y de terceros, incluyendo variables como temperatura, precipitación, viento y presión, entre otros.\n",
    "\n",
    "🚨 A diferencia de los datasets históricos como `s54a-sgyg` (precipitación) o `sbwg-7ju4` (temperatura), este recurso:\n",
    "\n",
    "- Está diseñado para monitoreo **en línea** o con muy poco retardo.\n",
    "- Puede contener observaciones con menor validación o control de calidad.\n",
    "- Agrupa datos de sensores diversos en una sola tabla.\n",
    "- Incluye estaciones del IDEAM **y también estaciones de terceros**.\n",
    "\n",
    "A continuación, realizamos una consulta básica para ver qué columnas contiene esta tabla, filtrando las observaciones de los últimos 5 días:\n"
   ]
  },
  {
   "cell_type": "code",
   "execution_count": null,
   "metadata": {
    "scrolled": true
   },
   "outputs": [],
   "source": [
    "from datetime import datetime, timedelta\n",
    "from pandas import to_datetime\n",
    "\n",
    "# Establecer rango de fechas recientes\n",
    "fecha_inicio = datetime.now() - timedelta(days=5)\n",
    "fecha_inicio_str = f\"{to_datetime(fecha_inicio):%Y-%m-%d}\"\n",
    "\n",
    "# Consulta al dataset cuasi-real\n",
    "nrt_query = client.get(\n",
    "    dataset_identifier=\"57sv-p2fu\",\n",
    "    select=\"*\",\n",
    "    where=f\"fechaobservacion >= '{fecha_inicio_str}'\",\n",
    "    limit=1000\n",
    ")\n",
    "\n",
    "# Convertir a DataFrame\n",
    "df_nrt = pd.DataFrame.from_records(nrt_query)\n",
    "df_nrt.head()"
   ]
  },
  {
   "cell_type": "markdown",
   "metadata": {},
   "source": [
    "🔎 Este conjunto de datos es ideal para desarrollar sistemas de monitoreo operativo, alertas tempranas, o visualizar fenómenos meteorológicos recientes. Sin embargo, no es recomendable usarlo directamente para análisis climatológicos de largo plazo debido a su naturaleza preliminar."
   ]
  },
  {
   "cell_type": "markdown",
   "metadata": {},
   "source": [
    "En la siguiente subsección exploraremos cómo filtrar los datos por estación y sensor, y generar una serie temporal."
   ]
  },
  {
   "cell_type": "markdown",
   "metadata": {},
   "source": [
    "### 3.1 📈 Serie temporal cuasi-real por estación y sensor\n",
    "\n",
    "Podemos consultar datos cuasi-reales de una estación específica utilizando su `codigoestacion` y el `codigosensor` correspondiente a la variable de interés. Por ejemplo, el sensor `0071` reporta **temperatura del aire**.\n",
    "\n",
    "A continuación, filtramos los datos recientes de la estación **Aeropuerto Alberto Lleras Camargo (Sogamoso)** con código `0024035340`"
   ]
  },
  {
   "cell_type": "code",
   "execution_count": null,
   "metadata": {},
   "outputs": [],
   "source": [
    "# Parámetros de consulta\n",
    "cod_est = \"0024035340\"  # Aeropuerto de Sogamoso\n",
    "cod_sensor = \"0071\"     # Sensor de temperatura\n",
    "\n",
    "# Consulta de temperatura en tiempo cuasi-real\n",
    "aero_query = client.get(\n",
    "    dataset_identifier=\"57sv-p2fu\",\n",
    "    select=\"fechaobservacion, valorobservado\",\n",
    "    where=f\"fechaobservacion >= '{fecha_inicio_str}' \\\n",
    "            AND codigoestacion IN ('{cod_est}') \\\n",
    "            AND codigosensor IN ('{cod_sensor}')\",\n",
    "    limit=2000\n",
    ")\n",
    "\n",
    "# Convertir a DataFrame\n",
    "df_aero = pd.DataFrame.from_records(aero_query)\n",
    "df_aero[\"fechaobservacion\"] = pd.to_datetime(df_aero[\"fechaobservacion\"])\n",
    "df_aero[\"valorobservado\"] = df_aero[\"valorobservado\"].astype(float)\n",
    "df_aero = df_aero.set_index(\"fechaobservacion\").sort_index()"
   ]
  },
  {
   "cell_type": "code",
   "execution_count": null,
   "metadata": {},
   "outputs": [],
   "source": [
    "df_aero"
   ]
  },
  {
   "cell_type": "markdown",
   "metadata": {},
   "source": [
    "Ahora generemos un gráfico rápido de la serie de temperatura para las últimas 24 horas"
   ]
  },
  {
   "cell_type": "code",
   "execution_count": null,
   "metadata": {},
   "outputs": [],
   "source": [
    "# Visualización de la serie temporal\n",
    "fig, ax = plt.subplots(figsize=(10, 3))\n",
    "df_aero[\"valorobservado\"].plot(ax=ax, color=\"C1\")\n",
    "\n",
    "ax.set_title(\"Serie de temperatura (cuasi-real) - Aeropuerto Sogamoso\")\n",
    "ax.set_ylabel(\"Temperatura [°C]\")\n",
    "ax.set_xlabel(\"Fecha y hora\")\n",
    "ax.grid(True)\n",
    "plt.tight_layout()"
   ]
  },
  {
   "cell_type": "markdown",
   "metadata": {},
   "source": [
    "### 3.2 📊 Múltiples estaciones, un mismo sensor\n",
    "\n",
    "También es posible consultar simultáneamente varias estaciones que reportan una misma variable —por ejemplo, **temperatura del aire**— filtrando por su `codigoestacion` y el mismo `codigosensor`.\n",
    "\n",
    "A continuación, consultamos datos recientes del sensor de temperatura (`codigosensor = \"0071\"`) para tres estaciones:\n",
    "\n",
    "- **Aeropuerto de Sogamoso** (`0024035340`)\n",
    "- **Universidad Nacional - Bogotá** (`0021205012`"
   ]
  },
  {
   "cell_type": "code",
   "execution_count": null,
   "metadata": {},
   "outputs": [],
   "source": [
    "# Estaciones a consultar\n",
    "estaciones = {\n",
    "    \"0024035340\": \"Sogamoso - Aeropuerto\",\n",
    "    \"0021205012\": \"Bogotá - UNAL\"\n",
    "}\n",
    "sensor_temp = \"0071\"\n",
    "estaciones_str = \", \".join([f\"'{e}'\" for e in estaciones.keys()])\n",
    "\n",
    "# Consulta\n",
    "multi_query = client.get(\n",
    "    dataset_identifier=\"57sv-p2fu\",\n",
    "    select=\"fechaobservacion, valorobservado, codigoestacion\",\n",
    "    where=f\"fechaobservacion >= '{fecha_inicio_str}' \\\n",
    "            AND codigosensor IN ('{sensor_temp}') \\\n",
    "            AND codigoestacion IN ({estaciones_str})\",\n",
    "    limit=3000\n",
    ")\n",
    "\n",
    "# Procesamiento\n",
    "df_multi = pd.DataFrame.from_records(multi_query)\n",
    "df_multi[\"fechaobservacion\"] = pd.to_datetime(df_multi[\"fechaobservacion\"])\n",
    "df_multi[\"valorobservado\"] = df_multi[\"valorobservado\"].astype(float)\n",
    "df_multi = df_multi.sort_values(\"fechaobservacion\")"
   ]
  },
  {
   "cell_type": "markdown",
   "metadata": {},
   "source": [
    "Antes de graficar los resultados, es importante asegurarnos de que los datos han sido correctamente transformados:\n",
    "\n",
    "- La columna `fechaobservacion` debe convertirse a `datetime`.\n",
    "- El campo `valorobservado` debe convertirse a `float`.\n",
    "- Ordenamos los datos por fecha para asegurar una visualización coherente.\n",
    "\n",
    "A continuación, graficamos la **serie temporal de temperatura** para cada estación, usando un color diferente por cada una.\n"
   ]
  },
  {
   "cell_type": "code",
   "execution_count": null,
   "metadata": {},
   "outputs": [],
   "source": [
    "# Gráfico\n",
    "fig, ax = plt.subplots(figsize=(12, 4))\n",
    "\n",
    "for codigo, nombre in estaciones.items():\n",
    "    df_plot = df_multi[df_multi[\"codigoestacion\"] == codigo]\n",
    "    if not df_plot.empty:\n",
    "        ax.plot(\n",
    "            df_plot[\"fechaobservacion\"],\n",
    "            df_plot[\"valorobservado\"],\n",
    "            label=nombre,\n",
    "            lw=1\n",
    "        )\n",
    "    else:\n",
    "        print(f\"⚠️ No hay datos recientes para la estación: {nombre}\")\n",
    "\n",
    "ax.set_title(\"Temperatura cuasi-real: Sogamoso vs. Bogotá (UNAL)\")\n",
    "ax.set_ylabel(\"Temperatura [°C]\")\n",
    "ax.set_xlabel(\"Fecha y hora\")\n",
    "ax.legend(title=\"Estación\")\n",
    "ax.grid(True)\n",
    "plt.tight_layout()"
   ]
  },
  {
   "cell_type": "markdown",
   "metadata": {},
   "source": [
    "📌 Esta estrategia es útil para comparar condiciones meteorológicas en diferentes regiones del país en tiempo cuasi-real. Puedes usar esta técnica para otras variables como **precipitación**, **humedad** o **viento**, cambiando el `codigosensor`."
   ]
  },
  {
   "cell_type": "markdown",
   "metadata": {},
   "source": [
    "🔍 Si no conoces el código de sensor para una variable específica, puedes consultar los datos sin filtrar por `codigosensor` y luego explorar los valores únicos con:\n",
    "\n",
    "```python\n",
    "df_nrt[\"codigosensor\"].unique()"
   ]
  },
  {
   "cell_type": "markdown",
   "metadata": {},
   "source": [
    "---"
   ]
  },
  {
   "cell_type": "markdown",
   "metadata": {},
   "source": [
    "## ✅ Conclusiones\n",
    "\n",
    "En este cuadernillo exploramos distintas formas de acceder, consultar y visualizar información de la red de estaciones hidrometeorológicas del IDEAM utilizando Python. A lo largo de las secciones desarrollamos herramientas para:\n",
    "\n",
    "- 📥 Consultar el **catálogo nacional de estaciones** con ubicación, categoría, estado operativo y entidad responsable.\n",
    "- 🗺️ Visualizar las estaciones sobre mapas estáticos e interactivos para una mejor comprensión espacial de la red de monitoreo.\n",
    "- 📊 Acceder a datos históricos a través de la plataforma [datosabiertos.gov.co](https://www.datos.gov.co), utilizando la API de Socrata y la librería `sodapy`.\n",
    "- 🌦️ Filtrar, consultar y graficar variables específicas como **precipitación** y **temperatura** para estaciones individuales o múltiples.\n",
    "- ⏱️ Consultar y graficar datos en **tiempo cuasi-real**, disponibles en una tabla distinta a los datos históricos.\n",
    "\n",
    "Este enfoque permite a investigadores, profesionales y estudiantes acceder de forma programática a datos públicos hidrometeorológicos de alta resolución temporal y espacial, facilitando así el desarrollo de análisis, visualizaciones y modelos.\n",
    "\n",
    "```{hint}\n",
    "💡 Las herramientas y conceptos presentados en este cuaderno son fácilmente adaptables a otras variables, sensores, periodos de tiempo o estaciones, lo que permite construir soluciones personalizadas para distintos contextos y necesidades.\n"
   ]
  },
  {
   "cell_type": "markdown",
   "metadata": {},
   "source": [
    "⚠️ Recuerda limitar el tamaño de las consultas realizadas a Socrata para evitar errores por **tiempos de espera** o **restricciones de uso** del API.\n"
   ]
  },
  {
   "cell_type": "markdown",
   "metadata": {},
   "source": [
    "## 📚 Recursos y referencias\n",
    "* Rose, B. E. J., Kent, J., Tyle, K., Clyne, J., Banihirwe, A., Camron, D., May, R., Grover, M., Ford, R. R., Paul, K., Morley, J., Eroglu, O., Kailyn, L., & Zacharias, A. (2023). *Pythia Foundations* (Version v2023.05.01). [https://doi.org/10.5281/zenodo.7884572](https://doi.org/10.5281/zenodo.7884572)\n",
    "\n",
    "* Portal de datos abiertos de Colombia – IDEAM:  \n",
    "  [https://www.datos.gov.co](https://www.datos.gov.co)\n",
    "\n",
    "* Documentación de Socrata Open Data API (SODA):  \n",
    "  [https://dev.socrata.com/](https://dev.socrata.com/)\n",
    "\n",
    "* Repositorio de datos hidrometeorológicos crudos – IDEAM:  \n",
    "  [https://www.datos.gov.co/Ambiente-y-Desarrollo-Sostenible/Datos-Hidrometeorol-gicos-Crudos-Red-de-Estaciones/sbwg-7ju4](https://www.datos.gov.co/Ambiente-y-Desarrollo-Sostenible/Datos-Hidrometeorol-gicos-Crudos-Red-de-Estaciones/sbwg-7ju4)\n",
    "\n",
    "* Cuaderno basado en la infraestructura educativa abierta del proyecto [Project Pythia](https://projectpythia.org/)\n"
   ]
  },
  {
   "cell_type": "code",
   "execution_count": null,
   "metadata": {},
   "outputs": [],
   "source": []
  }
 ],
 "metadata": {
  "kernelspec": {
   "display_name": "Python 3 (ipykernel)",
   "language": "python",
   "name": "python3"
  },
  "language_info": {
   "codemirror_mode": {
    "name": "ipython",
    "version": 3
   },
   "file_extension": ".py",
   "mimetype": "text/x-python",
   "name": "python",
   "nbconvert_exporter": "python",
   "pygments_lexer": "ipython3",
   "version": "3.13.3"
  },
  "nbdime-conflicts": {
   "local_diff": [
    {
     "diff": [
      {
       "diff": [
        {
         "key": 0,
         "op": "addrange",
         "valuelist": [
          "Python 3"
         ]
        },
        {
         "key": 0,
         "length": 1,
         "op": "removerange"
        }
       ],
       "key": "display_name",
       "op": "patch"
      }
     ],
     "key": "kernelspec",
     "op": "patch"
    }
   ],
   "remote_diff": [
    {
     "diff": [
      {
       "diff": [
        {
         "key": 0,
         "op": "addrange",
         "valuelist": [
          "Python3"
         ]
        },
        {
         "key": 0,
         "length": 1,
         "op": "removerange"
        }
       ],
       "key": "display_name",
       "op": "patch"
      }
     ],
     "key": "kernelspec",
     "op": "patch"
    }
   ]
  },
  "toc-autonumbering": false
 },
 "nbformat": 4,
 "nbformat_minor": 4
}
