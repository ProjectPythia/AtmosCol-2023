{
 "cells": [
  {
   "cell_type": "markdown",
   "metadata": {},
   "source": [
    " <img src=\"../images/logos/Ideam_logo.png\" width=300 alt=\"Ideam_Logo\"></img> "
   ]
  },
  {
   "cell_type": "markdown",
   "metadata": {},
   "source": [
    "# Estaciones hidrometeorológicas"
   ]
  },
  {
   "cell_type": "markdown",
   "metadata": {},
   "source": [
    "---"
   ]
  },
  {
   "cell_type": "markdown",
   "metadata": {},
   "source": [
    "## Introducción\n",
    "\n",
    "En este cuadernillo (Notebook) aprenderemos:\n",
    "\n",
    "1. Introduccion a la red de monitoreo del IDEAM\n",
    "2. Cátalogo de estaciones de IDEAM\n",
    "3. Consulta de datos usando la plataforma [datosabiertos.gov.co](https://www.datos.gov.co/) \n",
    "1. Consulta de datos de temperatura y precipitación\n",
    "1. Otros datos disponibles"
   ]
  },
  {
   "cell_type": "markdown",
   "metadata": {},
   "source": [
    "## Prerequisitos\n",
    "| Conceptos | Importancia | Notas |\n",
    "| --- | --- | --- |\n",
    "| [Introducción a Pandas](https://foundations.projectpythia.org/core/pandas.html) | Necesario | Lectura de datos tabulares |\n",
    "| [Introducción a Datetime](https://foundations.projectpythia.org/core/datetime/datetime.html) | Necesario | Entender estampas de tiempo |\n",
    "| [Introducción a Cartopy](https://foundations.projectpythia.org/core/cartopy.html) | Necesario | Entender estampas de tiempo |\n",
    "| [Introducción a folium](https://python-visualization.github.io/folium/latest/getting_started.html) | Útil | Mapas interactivos |\n",
    "\n",
    "\n",
    "- **Tiempo de aprendizaje**: 30 minutos"
   ]
  },
  {
   "cell_type": "markdown",
   "metadata": {},
   "source": [
    "## 1. Catálogo nacional de estaciones de IDEAM "
   ]
  },
  {
   "attachments": {},
   "cell_type": "markdown",
   "metadata": {},
   "source": [
    "Según el catálogo de estaciones hidrometeorológicas del IDEAM, el país cuenta con alrededor de 4.400 estaciones de diferentes categorías. En el siguiente cuadro se resume el estado de las estaciones por categoría de acuerdo a la PQR No. 20229050190832 (Enero de 2023)\n",
    "\n",
    "| Categoría | Activa | Mantenimiento | Suspendidas |\n",
    "| --- | :---: | :---: | :---: |\n",
    "| Limnográfica  |  287  | 109  | 106  |\n",
    "| Climátologica principal |  215  |  60  |  92  |\n",
    "| Mareográfica | 4  | 2  | 2  |\n",
    "| Pluviográfica | 104  | 0  | 87  |\n",
    "| Limnométrica | 323  | 11  | 557  |\n",
    "| Climática Ordinaria | 211  | 31  | 253  |\n",
    "| Agrometeorológica | 51  | 4  | 57  |\n",
    "| Radio Sonda | 6  | 2  | 2  |\n",
    "| Pluviométrica | 1109  | 9  | 603  |\n",
    "| Meteorológica Especial | 40  | 4  | 68  |\n",
    "| Sinóptica Principal | 27  | 3  | 4  |\n",
    "| Sinóptica Secundaria | 2  | 0  | 5  |\n",
    "| **Total** | **2381**  | **235** | **1866**  |"
   ]
  },
  {
   "cell_type": "markdown",
   "metadata": {},
   "source": [
    "## Librerías\n",
    "\n",
    "A continuación vamos a importar las librerías que utilizaremos en este cuadernillo."
   ]
  },
  {
   "cell_type": "code",
   "execution_count": null,
   "metadata": {},
   "outputs": [],
   "source": [
    "from datetime import datetime, timedelta\n",
    "\n",
    "import cartopy.crs as ccrs\n",
    "import cartopy.feature as feature\n",
    "import matplotlib.pyplot as plt\n",
    "import pandas as pd\n",
    "from matplotlib.dates import DateFormatter, HourLocator\n",
    "from pandas import to_datetime"
   ]
  },
  {
   "cell_type": "markdown",
   "metadata": {},
   "source": [
    "## 2. Acceso al catálogo en [bart.ideam.gov.co](http://bart.ideam.gov.co/cneideam/) "
   ]
  },
  {
   "cell_type": "markdown",
   "metadata": {},
   "source": [
    "El catálogo nacional de estaciones del IDEAM actualizado se encuentra disponible en el servidor [Bart](http://bart.ideam.gov.co). Podemos leer el catálogo usando `pandas.read_excel` como se muestra a continuación:"
   ]
  },
  {
   "cell_type": "code",
   "execution_count": null,
   "metadata": {},
   "outputs": [],
   "source": [
    "df_cat = pd.read_excel(\"http://bart.ideam.gov.co/cneideam/CNE_IDEAM.xls\")"
   ]
  },
  {
   "cell_type": "code",
   "execution_count": null,
   "metadata": {},
   "outputs": [],
   "source": [
    "# df_cat.head()"
   ]
  },
  {
   "cell_type": "code",
   "execution_count": null,
   "metadata": {},
   "outputs": [],
   "source": [
    "df_cat.info()"
   ]
  },
  {
   "cell_type": "markdown",
   "metadata": {},
   "source": [
    "### 2.1 Mapa de estaciones \n",
    "\n",
    "Podemos usar `cartopy` para hacer un mapa y visualizar las estaciones de monitoreo en el país"
   ]
  },
  {
   "cell_type": "code",
   "execution_count": null,
   "metadata": {},
   "outputs": [],
   "source": [
    "fig, ax = plt.subplots(subplot_kw={\"projection\": ccrs.PlateCarree()}, dpi=150)\n",
    "ax.coastlines()\n",
    "gl = ax.gridlines(draw_labels=True, crs=ccrs.PlateCarree())\n",
    "ax.scatter(df_cat[\"LONGITUD\"], df_cat[\"LATITUD\"], transform=ccrs.PlateCarree(), s=0.5)\n",
    "ax.add_feature(feature.LAND)\n",
    "ax.add_feature(feature.OCEAN)\n",
    "ax.add_feature(feature.COASTLINE, linewidth=0.5)\n",
    "ax.add_feature(feature.BORDERS, linewidth=0.5)"
   ]
  },
  {
   "cell_type": "markdown",
   "metadata": {},
   "source": [
    "podemos agrupar la data por área operativa, tipo de estación, tecnología, y otras variables"
   ]
  },
  {
   "cell_type": "code",
   "execution_count": null,
   "metadata": {},
   "outputs": [],
   "source": [
    "# df_grp = df_cat.groupby('AREA_OPERATIVA')\n",
    "# df_grp = df_cat.groupby('TECNOLOGIA')\n",
    "df_grp = df_cat.groupby(\"ESTADO\")"
   ]
  },
  {
   "cell_type": "code",
   "execution_count": null,
   "metadata": {},
   "outputs": [],
   "source": [
    "fig, ax = plt.subplots(subplot_kw={\"projection\": ccrs.PlateCarree()}, dpi=150)\n",
    "\n",
    "for _, group in df_grp:\n",
    "    ax.scatter(\n",
    "        group[\"LONGITUD\"],\n",
    "        group[\"LATITUD\"],\n",
    "        transform=ccrs.PlateCarree(),\n",
    "        s=0.5,\n",
    "        label=_,\n",
    "    )\n",
    "\n",
    "ax.coastlines()\n",
    "gl = ax.gridlines(draw_labels=True, crs=ccrs.PlateCarree())\n",
    "ax.add_feature(feature.LAND)\n",
    "ax.add_feature(feature.OCEAN)\n",
    "ax.add_feature(feature.COASTLINE, linewidth=0.5)\n",
    "ax.add_feature(feature.BORDERS, linewidth=0.5)\n",
    "ax.legend(fontsize=5)"
   ]
  },
  {
   "cell_type": "markdown",
   "metadata": {},
   "source": [
    "Podemos validar el número total de estaciones activas, en matenimiento y suspendidas de acuerdo con la información contenida en el catálogo"
   ]
  },
  {
   "cell_type": "code",
   "execution_count": null,
   "metadata": {},
   "outputs": [],
   "source": [
    "for grp in df_grp.groups.keys():\n",
    "    print(f\"{grp}: {len(df_grp.get_group(grp))}\")"
   ]
  },
  {
   "cell_type": "markdown",
   "metadata": {},
   "source": [
    "### 2.2 Mapa de estaciones interactivo"
   ]
  },
  {
   "cell_type": "markdown",
   "metadata": {},
   "source": [
    "También podemos hacer mapas interactivos usando [folium](https://python-visualization.github.io/folium/latest/)"
   ]
  },
  {
   "cell_type": "code",
   "execution_count": null,
   "metadata": {},
   "outputs": [],
   "source": [
    "import folium\n",
    "from folium import plugins\n",
    "from folium.plugins import MarkerCluster"
   ]
  },
  {
   "cell_type": "code",
   "execution_count": null,
   "metadata": {},
   "outputs": [],
   "source": [
    "min_lon, max_lon, min_lat, max_lat = -90, -72, -1, 14\n",
    "\n",
    "map_ = folium.Map(\n",
    "    location=[8, -76],\n",
    "    zoom_start=6,\n",
    "    min_lat=min_lat,\n",
    "    max_lat=max_lat,\n",
    "    min_lon=min_lon,\n",
    "    max_lon=max_lon,\n",
    "    zoom_control=False,\n",
    "    control_scale=True,\n",
    "    scrollWheelZoom=True,\n",
    "    width=1000,\n",
    "    height=600,\n",
    ")\n",
    "marker_cluster = MarkerCluster(name=\"Estaciones\").add_to(map_)\n",
    "\n",
    "folium.TileLayer(\"cartodbpositron\").add_to(map_)\n",
    "folium.TileLayer(\"openstreetmap\").add_to(map_)\n",
    "folium.TileLayer(\"cartodbdark_matter\").add_to(map_)\n",
    "folium.LayerControl().add_to(map_)\n",
    "\n",
    "minimap = plugins.MiniMap()\n",
    "_ = map_.add_child(minimap)"
   ]
  },
  {
   "cell_type": "markdown",
   "metadata": {},
   "source": [
    "Ahora agregamos las estaciones usando la siguiente función:"
   ]
  },
  {
   "cell_type": "code",
   "execution_count": null,
   "metadata": {},
   "outputs": [],
   "source": [
    "def plot_station(row):\n",
    "    \"\"\"input: series that contains a numeric named latitude and a numeric named longitude\n",
    "    this function creates a CircleMarker and adds it to your this_map\"\"\"\n",
    "\n",
    "    html = row.to_frame(\"_\").to_html(\n",
    "        classes=\"table table-striped table-hover table-condensed table-responsive\"\n",
    "    )\n",
    "    popup = folium.Popup(html, max_width=2650)\n",
    "    folium.Marker(location=[row['LATITUD'], row['LONGITUD']], popup=popup).add_to(\n",
    "        marker_cluster\n",
    "    )"
   ]
  },
  {
   "cell_type": "code",
   "execution_count": null,
   "metadata": {},
   "outputs": [],
   "source": [
    "df_cat.apply(plot_station, axis=1)\n",
    "map_"
   ]
  },
  {
   "cell_type": "markdown",
   "metadata": {},
   "source": [
    "## 3. Acceso a la información histórica de IDEAM usando [datosabiertos.gov.co](https://www.datos.gov.co/)"
   ]
  },
  {
   "cell_type": "markdown",
   "metadata": {},
   "source": [
    "la información histórica de múltiples sensores se puede consultar a través de la plataforma de datos abiertos usando el aplicativo [sodapy](https://dev.socrata.com/). Socrata utiliza un módulo denominado `Socrata` que permite realizar consultas al repositorio. Cada variable hidrometeorógica dispuesta se puede consultar usando el su respectivo código del set de datos.\n",
    "\n",
    "\n",
    "| Variable | Código del set de datos |\n",
    "| --- | --- |\n",
    "| [Dirección del viento](https://www.datos.gov.co/Ambiente-y-Desarrollo-Sostenible/Direcci-n-Viento/kiw7-v9ta) | kiw7-v9ta |\n",
    "| [Nivel instantáneo](https://www.datos.gov.co/Ambiente-y-Desarrollo-Sostenible/Nivel-Instant-neo/bdmn-sqnh) | bdmn-sqnh |\n",
    "| [Temperatura Mínima del Aire](https://www.datos.gov.co/Ambiente-y-Desarrollo-Sostenible/Temperatura-M-nima-del-Aire/afdg-3zpb) | afdg-3zpb |\n",
    "| [Temperatura Máxima del Aire](https://www.datos.gov.co/Ambiente-y-Desarrollo-Sostenible/Temperatura-M-xima-del-Aire/ccvq-rp9s) | ccvq-rp9s |\n",
    "| [Velocidad del Viento](https://www.datos.gov.co/Ambiente-y-Desarrollo-Sostenible/Velocidad-Viento/sgfv-3yp8) | sgfv-3yp8 |\n",
    "| [Nivel Máximo](https://www.datos.gov.co/Ambiente-y-Desarrollo-Sostenible/Nivel-M-ximo/vfth-yucv) | vfth-yucv |\n",
    "| [Nivel Mínimo](https://www.datos.gov.co/Ambiente-y-Desarrollo-Sostenible/Nivel-M-nimo/pt9a-aamx) | pt9a-aamx |\n",
    "| [Humedad del Aire](https://www.datos.gov.co/Ambiente-y-Desarrollo-Sostenible/Humedad-del-Aire-2-metros/uext-mhny) | uext-mhny |\n",
    "| [Temperatura](https://www.datos.gov.co/Ambiente-y-Desarrollo-Sostenible/Datos-Hidrometeorol-gicos-Crudos-Red-de-Estaciones/sbwg-7ju4) | sbwg-7ju4 |\n",
    "| [Nivel del mar mínimo](https://www.datos.gov.co/Ambiente-y-Desarrollo-Sostenible/Nivel-del-Mar-M-nimo/7z6g-yx9q) | 7z6g-yx9q |\n",
    "| [Nivel del mar máximo](https://www.datos.gov.co/Ambiente-y-Desarrollo-Sostenible/Nivel-del-Mar-M-ximo/uxy3-jchf) | uxy3-jchf |\n",
    "| [Nivel del mar](https://www.datos.gov.co/Ambiente-y-Desarrollo-Sostenible/Nivel-del-Mar/ia8x-22em) | ia8x-22em |\n",
    "| [Presión Atmosferica](https://www.datos.gov.co/Ambiente-y-Desarrollo-Sostenible/Presi-n-Atmosf-rica/62tk-nxj5) | 62tk-nxj5 |\n",
    "| [Precipitación](https://www.datos.gov.co/Ambiente-y-Desarrollo-Sostenible/Precipitaci-n/s54a-sgyg) | s54a-sgyg |"
   ]
  },
  {
   "cell_type": "code",
   "execution_count": null,
   "metadata": {},
   "outputs": [],
   "source": [
    "# importamos la libreria Socrata\n",
    "from sodapy import Socrata"
   ]
  },
  {
   "cell_type": "markdown",
   "metadata": {},
   "source": [
    "### 3.1 Precipitación (s54a-sgyg)"
   ]
  },
  {
   "cell_type": "markdown",
   "metadata": {},
   "source": [
    "Vamos a consultar los datos de `precipitación` reportada en la página, por ende vamos a usar el código `s54a-sgyg`. Para esto usamos el método `Socrata`, pasamos la dirección del repositorio y `None` que corresponde a la no autenticación"
   ]
  },
  {
   "cell_type": "code",
   "execution_count": null,
   "metadata": {},
   "outputs": [],
   "source": [
    "# conexión cliente usando socrata al repositorio de datos abiertos\n",
    "client = Socrata(\"www.datos.gov.co\", None)"
   ]
  },
  {
   "cell_type": "markdown",
   "metadata": {},
   "source": [
    "Una vez creado el cliente empezamos a hacer la consulta de datos  usando `client.get` y pasando los respectivos parámetros `dataset_identifier`, de la tabla anterior , y `limit` para generar consultas no muy grandes para efectos demostrativos. El resultado es una lista con múltiples diccionarios como se puede ver a continuación."
   ]
  },
  {
   "cell_type": "code",
   "execution_count": null,
   "metadata": {},
   "outputs": [],
   "source": [
    "# Solicitud de informacion al repositorio de interés\n",
    "results = client.get(dataset_identifier=\"s54a-sgyg\", limit=2000)\n",
    "results[:1]"
   ]
  },
  {
   "cell_type": "markdown",
   "metadata": {},
   "source": [
    "Estos resultados los podemos convertir en un `Dataframe` usando [pandas.Dataframe.from_records](https://pandas.pydata.org/docs/reference/api/pandas.DataFrame.from_records.html)"
   ]
  },
  {
   "cell_type": "code",
   "execution_count": null,
   "metadata": {},
   "outputs": [],
   "source": [
    "results_df = pd.DataFrame.from_records(results)\n",
    "results_df.head()"
   ]
  },
  {
   "cell_type": "markdown",
   "metadata": {},
   "source": [
    "Ahora podemos usar filtrar los datos por diferentes campos como el `codigoestacion`, `fechaobservacion`, o `valorobservado`. Podemos pasar parámetros `SQL` como `where`, `AND`, `IN`, entre otros, en el método `client.get`"
   ]
  },
  {
   "cell_type": "code",
   "execution_count": null,
   "metadata": {},
   "outputs": [],
   "source": [
    "# client.get?"
   ]
  },
  {
   "cell_type": "code",
   "execution_count": null,
   "metadata": {},
   "outputs": [],
   "source": [
    "# Solicitud de informacion para la estación de la Universidad Nacional - Bogotá - 0021205012\n",
    "ppt_query = client.get(\n",
    "    dataset_identifier=\"s54a-sgyg\",\n",
    "    select=\"fechaobservacion, valorobservado, codigoestacion\",\n",
    "    where=\"codigoestacion IN ('0021205012') \\\n",
    "                              AND fechaobservacion > '2017'\",\n",
    ")\n",
    "df_est = pd.DataFrame.from_records(ppt_query)\n",
    "df_est.head()"
   ]
  },
  {
   "cell_type": "markdown",
   "metadata": {},
   "source": [
    "#### Gráfico de la serie temporal \n",
    "Podemos generar una serie temporal usando la información resultado de la consulta. Sin embargo, primero debemos revisar el tipo de dato de cada columna"
   ]
  },
  {
   "cell_type": "code",
   "execution_count": null,
   "metadata": {},
   "outputs": [],
   "source": [
    "df_est.info()"
   ]
  },
  {
   "cell_type": "code",
   "execution_count": null,
   "metadata": {},
   "outputs": [],
   "source": [
    "df_est[\"fechaobservacion\"] = pd.to_datetime(df_est[\"fechaobservacion\"])\n",
    "df_est.set_index(\"fechaobservacion\", inplace=True)\n",
    "df_est.valorobservado = df_est[\"valorobservado\"].astype(float)\n",
    "df_est = df_est.sort_index()\n",
    "df_est.tail()"
   ]
  },
  {
   "cell_type": "code",
   "execution_count": null,
   "metadata": {},
   "outputs": [],
   "source": [
    "# pd.options.plotting.backend = 'holoviews'\n",
    "fig, ax = plt.subplots(figsize=(12, 3))\n",
    "df_est[\"valorobservado\"].plot(ax=ax, drawstyle=\"steps\")"
   ]
  },
  {
   "cell_type": "markdown",
   "metadata": {},
   "source": [
    "Podemos solicitar información para estaciones que reportan datos en el último mes"
   ]
  },
  {
   "cell_type": "code",
   "execution_count": null,
   "metadata": {},
   "outputs": [],
   "source": [
    "ppt_query = client.get(\n",
    "    dataset_identifier=\"s54a-sgyg\",\n",
    "    select=\"fechaobservacion, valorobservado, codigoestacion, nombreestacion\",\n",
    "    where=\"fechaobservacion > '2023-09-11'\",\n",
    ")\n",
    "df_ult = pd.DataFrame.from_records(ppt_query)\n",
    "df_ult.head()"
   ]
  },
  {
   "cell_type": "markdown",
   "metadata": {},
   "source": [
    "### 3.2 Temperatura (sbwg-7ju4)\n",
    "\n",
    "De manera similar podemos consultar otros registros como los de temperatura. Cambiamos el identificador de set de datos y generamos una nueva consulta"
   ]
  },
  {
   "cell_type": "code",
   "execution_count": null,
   "metadata": {},
   "outputs": [],
   "source": [
    "# Solicitud de informacion para la estación de la Universidad Nacional - Bogotá - 0021205012\n",
    "temp_query = client.get(\n",
    "    dataset_identifier=\"sbwg-7ju4\",\n",
    "    select=\"fechaobservacion, valorobservado, codigoestacion\",\n",
    "    where=\"codigoestacion IN ('0021205012') \\\n",
    "                              AND fechaobservacion > '2017'\",\n",
    ")\n",
    "df_temp = pd.DataFrame.from_records(temp_query)\n",
    "df_temp.index = pd.to_datetime(df_temp[\"fechaobservacion\"])\n",
    "df_temp.valorobservado = df_temp[\"valorobservado\"].astype(float)\n",
    "df_temp = df_temp.sort_index()\n",
    "df_temp.tail()"
   ]
  },
  {
   "cell_type": "code",
   "execution_count": null,
   "metadata": {},
   "outputs": [],
   "source": [
    "fig, ax = plt.subplots(figsize=(12, 3))\n",
    "df_temp[\"valorobservado\"].plot(c=\"C00\", lw=0.5, ax=ax)"
   ]
  },
  {
   "cell_type": "markdown",
   "metadata": {},
   "source": [
    "## 4. Datos en tiempo \"Causi-real\" de IDEAM \n",
    "\n",
    "De igual manera, el IDEAM dispone de una tabla de datos  en [tiempo cercano a la medición](https://www.datos.gov.co/es/Ambiente-y-Desarrollo-Sostenible/Datos-de-Estaciones-de-IDEAM-y-de-Terceros/57sv-p2fu). Esta tabla corresponde al `dataset_identifier=\"57sv-p2fu\"`. Generemos una consulta básica para ver los campos contenidos dentro de esta tabla en el último día"
   ]
  },
  {
   "cell_type": "code",
   "execution_count": null,
   "metadata": {},
   "outputs": [],
   "source": [
    "time_now = datetime.now()\n",
    "time = time_now - timedelta(days=10)\n",
    "time"
   ]
  },
  {
   "cell_type": "markdown",
   "metadata": {},
   "source": [
    "Convertimos la fecha en un `str` para incluirlo en la consulta"
   ]
  },
  {
   "cell_type": "code",
   "execution_count": null,
   "metadata": {},
   "outputs": [],
   "source": [
    "time_str = f\"{to_datetime(time):%Y-%m-%d}\"\n",
    "time_str"
   ]
  },
  {
   "cell_type": "code",
   "execution_count": null,
   "metadata": {},
   "outputs": [],
   "source": [
    "nrt_query = client.get(\n",
    "    dataset_identifier=\"57sv-p2fu\",\n",
    "    select=\"*\",\n",
    "    where=\"fechaobservacion >= '{}'\".format(time_str),\n",
    "    limit=2000,\n",
    ")\n",
    "df_nrt = pd.DataFrame.from_records(nrt_query)"
   ]
  },
  {
   "cell_type": "code",
   "execution_count": null,
   "metadata": {},
   "outputs": [],
   "source": [
    "df_nrt.head()"
   ]
  },
  {
   "cell_type": "markdown",
   "metadata": {},
   "source": [
    "Los primeros registros nos indican que hay mediciones cercanas a las fechas de la ejecución de este cuadernillo. Generemos una consulta más específica para la estacion `0024035340` correspondiente al Aeropuerto Alberto Lleras Camargo de Sogamoso. "
   ]
  },
  {
   "cell_type": "code",
   "execution_count": null,
   "metadata": {},
   "outputs": [],
   "source": [
    "cod_est = \"0024035340\""
   ]
  },
  {
   "cell_type": "code",
   "execution_count": null,
   "metadata": {},
   "outputs": [],
   "source": [
    "aero_query = client.get(\n",
    "    dataset_identifier=\"57sv-p2fu\",\n",
    "    select=\"*\",\n",
    "    where=\"fechaobservacion >= '{}'\\\n",
    "                        AND codigoestacion IN ('{}')\".format(\n",
    "        time_str, cod_est\n",
    "    ),\n",
    "    limit=2000,\n",
    ")\n",
    "df_aero = pd.DataFrame.from_records(aero_query)"
   ]
  },
  {
   "cell_type": "code",
   "execution_count": null,
   "metadata": {},
   "outputs": [],
   "source": [
    "df_aero.head(10)"
   ]
  },
  {
   "cell_type": "markdown",
   "metadata": {},
   "source": [
    "Para validar los sensores que tiene esta estacion podemo usar el método `.unique()` de `Pandas`"
   ]
  },
  {
   "cell_type": "code",
   "execution_count": null,
   "metadata": {},
   "outputs": [],
   "source": [
    "df_aero[\"codigosensor\"].unique()"
   ]
  },
  {
   "cell_type": "markdown",
   "metadata": {},
   "source": [
    "Podemos centrar aún mas la consulta agregándole el sensor de temperatura `codigosensor=0071`"
   ]
  },
  {
   "cell_type": "code",
   "execution_count": null,
   "metadata": {},
   "outputs": [],
   "source": [
    "cod_sensor = \"0071\""
   ]
  },
  {
   "cell_type": "code",
   "execution_count": null,
   "metadata": {},
   "outputs": [],
   "source": [
    "aero_query = client.get(\n",
    "    dataset_identifier=\"57sv-p2fu\",\n",
    "    select=\"fechaobservacion, valorobservado\",\n",
    "    where=\"fechaobservacion >= '{}'\\\n",
    "                        AND codigoestacion IN ('{}') \\\n",
    "                        AND codigosensor IN ('{}')\".format(\n",
    "        time_str, cod_est, cod_sensor\n",
    "    ),\n",
    "    limit=2000,\n",
    ")\n",
    "df_aero = pd.DataFrame.from_records(aero_query)"
   ]
  },
  {
   "cell_type": "code",
   "execution_count": null,
   "metadata": {},
   "outputs": [],
   "source": [
    "df_aero"
   ]
  },
  {
   "cell_type": "markdown",
   "metadata": {},
   "source": [
    "Ahora generemos un gráfico rápido de la serie de temperatura para las últimas 24 horas"
   ]
  },
  {
   "cell_type": "code",
   "execution_count": null,
   "metadata": {},
   "outputs": [],
   "source": [
    "fig, ax = plt.subplots(figsize=(10, 3))\n",
    "df_aero.index = pd.to_datetime(df_aero[\"fechaobservacion\"])\n",
    "df_aero.valorobservado = df_aero[\"valorobservado\"].astype(float)\n",
    "df_aero.plot(ax=ax)\n",
    "ax.xaxis.set_major_locator(HourLocator(interval=4))  # tick every four hours\n",
    "ax.xaxis.set_major_formatter(DateFormatter(\"%m-%d\\n%H:%M\"))"
   ]
  },
  {
   "cell_type": "markdown",
   "metadata": {},
   "source": [
    "---"
   ]
  },
  {
   "cell_type": "markdown",
   "metadata": {},
   "source": [
    "## Conclusiones\n",
    "En este cuadernillo aprendimos una manera fácil y rápida como acceder a la información histórica y presente de las estaciones hidrometeorológicas del IDEAM. De igual modo aprendimos a visualizar las estaciones usando mapas interactivos. También aprendimos a generar consultas a diferentes grupos de datos usando sintaxis SQL y el aplicativo `socrata` de la plataforma de datos abiertos del gobierno Colombiano. "
   ]
  },
  {
   "cell_type": "markdown",
   "metadata": {},
   "source": [
    "## Resources and references\n",
    "\n",
    "* Rose, B. E. J., Kent, J., Tyle, K., Clyne, J., Banihirwe, A., Camron, D., May, R., Grover, M., Ford, R. R., Paul, K., Morley, J., Eroglu, O., Kailyn, L., & Zacharias, A. (2023). Pythia Foundations (Version v2023.05.01) https://doi.org/10.5281/zenodo.7884572"
   ]
  },
  {
   "cell_type": "code",
   "execution_count": null,
   "metadata": {},
   "outputs": [],
   "source": []
  }
 ],
 "metadata": {
  "kernelspec": {
   "display_name": "Python 3 (ipykernel)",
   "language": "python",
   "name": "python3"
  },
  "language_info": {
   "codemirror_mode": {
    "name": "ipython",
    "version": 3
   },
   "file_extension": ".py",
   "mimetype": "text/x-python",
   "name": "python",
   "nbconvert_exporter": "python",
   "pygments_lexer": "ipython3",
   "version": "3.11.6"
  },
  "nbdime-conflicts": {
   "local_diff": [
    {
     "diff": [
      {
       "diff": [
        {
         "key": 0,
         "op": "addrange",
         "valuelist": [
          "Python 3"
         ]
        },
        {
         "key": 0,
         "length": 1,
         "op": "removerange"
        }
       ],
       "key": "display_name",
       "op": "patch"
      }
     ],
     "key": "kernelspec",
     "op": "patch"
    }
   ],
   "remote_diff": [
    {
     "diff": [
      {
       "diff": [
        {
         "key": 0,
         "op": "addrange",
         "valuelist": [
          "Python3"
         ]
        },
        {
         "key": 0,
         "length": 1,
         "op": "removerange"
        }
       ],
       "key": "display_name",
       "op": "patch"
      }
     ],
     "key": "kernelspec",
     "op": "patch"
    }
   ]
  },
  "toc-autonumbering": false
 },
 "nbformat": 4,
 "nbformat_minor": 4
}
