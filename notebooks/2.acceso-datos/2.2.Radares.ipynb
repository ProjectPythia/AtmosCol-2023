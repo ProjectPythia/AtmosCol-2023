{
 "cells": [
  {
   "cell_type": "markdown",
   "metadata": {},
   "source": [
    "```{image} ../images/radar-obs.png\n",
    ":width: 400px\n",
    ":align: center\n",
    "```"
   ]
  },
  {
   "cell_type": "markdown",
   "metadata": {},
   "source": [
    "# Radares Meteorológicos"
   ]
  },
  {
   "cell_type": "markdown",
   "metadata": {},
   "source": [
    "---"
   ]
  },
  {
   "cell_type": "markdown",
   "metadata": {},
   "source": [
    "## 🧭 Introducción\n",
    "\n",
    "Este cuaderno introduce conceptos básicos de radar meteorológico, su funcionamiento y su aplicación en el monitoreo de la atmósfera. También aprenderás a acceder, procesar y visualizar datos de radar provenientes del IDEAM publicados en AWS.\n",
    "\n",
    "## 📚 ¿Qué vas a aprender?\n",
    "\n",
    "- Cómo funcionan los radares meteorológicos.\n",
    "- Qué información se obtiene y cómo accederla desde la nube (AWS S3).\n",
    "- Uso de herramientas como `xradar`, `hvplot` y `cartopy` para analizar y visualizar la información.\n",
    "- Cómo estimar campos de precipitación a partir de reflectividad."
   ]
  },
  {
   "cell_type": "markdown",
   "metadata": {},
   "source": [
    "## ✅ Requisitos Previos\n",
    "```{list-table}\n",
    ":header-rows: 1\n",
    "\n",
    "* - Conceptos\n",
    "  - Importancia\n",
    "  - Notas\n",
    "* - [Introducción a Xarray](https://foundations.projectpythia.org/core/xarray.html)\n",
    "  - Necesario\n",
    "  - Lectura de datos multidimensionales\n",
    "* - [Introducción a Py-Art](https://projectpythia.org/radar-cookbook/README.html)\n",
    "  - Necesario\n",
    "  - Lectura de datos de radar\n",
    "* - [Introducción a Xradar](https://docs.openradarscience.org/projects/xradar/en/stable/notebooks/Read-plot-Sigmet-data-from-AWS.html)\n",
    "  - Necesario\n",
    "  - Lectura de datos de radar\n",
    "* - [Introducción a Wradlib](https://docs.wradlib.org/en/latest/)\n",
    "  - Necesario\n",
    "  - Lectura de datos de radar\n",
    "* - [Fundamentos de radar meteorológico](https://www.meted.ucar.edu/radar/basic_wxradar_es/)\n",
    "  - Útil\n",
    "  - Fundamentos básicos en radares meteorológicos\n",
    "* - [Introducción a NetCDF](https://foundations.projectpythia.org/core/data-formats/netcdf-cf.html)\n",
    "  - Útil\n",
    "  - Entender la metadata de los datos"
   ]
  },
  {
   "cell_type": "markdown",
   "metadata": {},
   "source": [
    "⏱️ Tiempo estimado: 30 minutos  \n",
    "✍️ Formato: Interactivo. Ejecuta y modifica el código en cada celda."
   ]
  },
  {
   "cell_type": "markdown",
   "metadata": {},
   "source": [
    "## 1. 🌐 ¿Qué es un radar meteorológico?\n",
    "\n",
    "Los radares meteorológicos son instrumentos de teledetección activa que emiten pulsos de energía electromagnética hacia la atmósfera. A medida que estos pulsos encuentran obstáculos como gotas de lluvia, nieve o granizo, parte de la energía se dispersa de vuelta al radar. Esta **energía retrodispersada** es captada por el mismo sistema emisor y permite estimar propiedades físicas de los hidrometeoros, como su intensidad, tamaño, ubicación y movimiento.\n",
    "\n",
    "Este principio de funcionamiento se ilustra claramente en la siguiente animación, extraída del curso _Fundamentos en radares meteorológicos_ del programa [The COMET Program – meted.ucar.edu](https://www.meted.ucar.edu):\n",
    "\n",
    ":::{figure} ../images/radar_atten.mp4\n",
    ":width: 70%\n",
    "Viaje de las ondas electromágneticas en un radar. Fuente: [UCAR](https://www.meted.ucar.edu/index.php)\n",
    ":::\n"
   ]
  },
  {
   "cell_type": "markdown",
   "metadata": {},
   "source": [
    "Los radares suelen operar en modo **PPI** (_Plan Position Indicator_), donde la antena se fija en un ángulo de elevación constante y gira 360° en torno al eje vertical. Este procedimiento se repite a diferentes elevaciones para formar un **Patrón de Cobertura Volumétrica (VCP)**, que permite construir representaciones tridimensionales del estado de la atmósfera."
   ]
  },
  {
   "cell_type": "markdown",
   "metadata": {
    "tags": [
     "remove-input"
    ]
   },
   "source": [
    ":::{figure} ../images/radar_scan_EM_animation.mp4\n",
    ":width: 80%\n",
    "Operacion de un radar meteorológico. Fuente: [UCAR](https://www.meted.ucar.edu/index.php)\n",
    ":::"
   ]
  },
  {
   "cell_type": "markdown",
   "metadata": {},
   "source": [
    "## 2. 🌎 Red Nacional de Radares Meteorológicos de Colombia\n",
    "\n",
    "Colombia cuenta con una red de radares meteorológicos que monitorean de forma continua la atmósfera, especialmente los fenómenos de precipitación. Estos equipos, operados por distintas entidades públicas, están distribuidos estratégicamente para cubrir diferentes regiones del país.\n",
    "\n",
    "La mayoría de estos radares operan en banda **C**, adecuada para monitorear lluvia a escala regional. También se incluye un radar en banda **X**, más sensible pero de menor alcance, utilizado principalmente en entornos urbanos.\n",
    "\n",
    "A continuación se muestra un resumen de las instituciones que operan los radares en Colombia:\n",
    "\n",
    "```{list-table}\n",
    ":header-rows: 1\n",
    "\n",
    "* - Entidad\n",
    "  - Número de radares\n",
    "  - Banda\n",
    "* - IDEAM\n",
    "  - 4\n",
    "  - C\n",
    "* - Aerocivil\n",
    "  - 6\n",
    "  - C\n",
    "* - SIATA\n",
    "  - 1\n",
    "  - C\n",
    "* - IDIGER\n",
    "  - 1\n",
    "  - X\n"
   ]
  },
  {
   "cell_type": "markdown",
   "metadata": {},
   "source": [
    "### 2.1 🗺️ Mapa de ubicación de radares\n",
    "\n",
    "En esta subsección representamos geográficamente la ubicación de los radares meteorológicos en Colombia. Utilizamos `matplotlib` junto con `cartopy`\n",
    "\n",
    "En el siguiente mapa se muestra la ubicación geográfica de los radares meteorológicos operativos en Colombia, junto con un círculo que representa su alcance aproximado de cobertura. Esta visualización permite identificar la distribución espacial de la red y las regiones cubiertas por cada sensor.\n"
   ]
  },
  {
   "cell_type": "code",
   "execution_count": null,
   "metadata": {},
   "outputs": [],
   "source": [
    "import matplotlib.pyplot as plt\n",
    "import cartopy.crs as ccrs\n",
    "import cartopy.feature as cfeature\n",
    "import pandas as pd\n",
    "from shapely.geometry import Point\n",
    "from cartopy import geodesic\n",
    "\n",
    "# Cargar los datos\n",
    "df_radares = pd.read_csv(\"../data/radar_locations.csv\")\n",
    "\n",
    "# Crear figura con proyección geográfica\n",
    "fig, ax = plt.subplots(\n",
    "    figsize=(8, 8),\n",
    "    subplot_kw={\"projection\": ccrs.PlateCarree()},\n",
    "    dpi=120\n",
    ")\n",
    "\n",
    "# Configurar mapa base\n",
    "ax.set_extent([-85, -65, -5, 15])\n",
    "ax.add_feature(cfeature.LAND, facecolor=\"whitesmoke\")\n",
    "ax.add_feature(cfeature.COASTLINE, linewidth=0.5)\n",
    "ax.add_feature(cfeature.BORDERS, linestyle=\":\")\n",
    "ax.gridlines(draw_labels=True, linestyle=\"--\", linewidth=0.5)\n",
    "\n",
    "# Dibujar cada radar\n",
    "for _, row in df_radares.iterrows():\n",
    "    lon, lat = row[\"lon\"], row[\"lat\"]\n",
    "    name = row[\"Name\"]\n",
    "    color = row[\"color\"]\n",
    "    \n",
    "    # Punto del radar\n",
    "    ax.plot(lon, lat, \"o\", color=color, markersize=6)\n",
    "    ax.text(lon + 0.3, lat, name, fontsize=8)\n",
    "\n",
    "    # Determinar radio en km (IDIGER tiene menor alcance)\n",
    "    radio_km = 40 if \"IDIGER\" in name.upper() else 200\n",
    "    \n",
    "    # Dibujar círculo geodésico\n",
    "    circle = geodesic.Geodesic().circle(lon=lon, lat=lat, radius=radio_km * 1000, n_samples=100)\n",
    "    ax.plot(*circle.T, color=color, linewidth=1, alpha=0.3)\n",
    "\n",
    "ax.set_title(\"Red de radares meteorológicos de Colombia\")\n",
    "plt.tight_layout()"
   ]
  },
  {
   "cell_type": "markdown",
   "metadata": {},
   "source": [
    "### 2.2 📡 Radares meteorológicos del IDEAM disponibles en AWS\n",
    "\n",
    "El Instituto de Hidrología, Meteorología y Estudios Ambientales (IDEAM) ha puesto a disposición pública los datos de sus radares meteorológicos mediante un repositorio en la nube de Amazon Web Services (AWS). Este repositorio facilita el acceso a información cruda de reflectividad y otros productos en formato propietario (SIGMET/IRIS), permitiendo su análisis mediante herramientas especializadas.\n",
    "\n",
    "La estructura del bucket es la siguiente:\n",
    "\n",
    "```text\n",
    "s3://s3-radaresideam/l2_data/YYYY/MM/DD/Radar_name/RRRAAMMDDTTTTTT.RAWXXXX "
   ]
  },
  {
   "cell_type": "markdown",
   "metadata": {},
   "source": [
    "Donde:\n",
    "\n",
    "- `YYYY`, `MM`, `DD` indican el año, mes y día del escaneo.\n",
    "\n",
    "- `Radar_name` es el nombre del radar (por ejemplo: *Guaviare*, *Munchique*, *Barrancabermeja*, *Carimagua*).\n",
    "\n",
    "- `RRRAAMMDDTTTTTT.RAWXXXX` es el nombre del archivo en formato SIGMET, compuesto por:\n",
    "\n",
    "  - `RRR`: código del radar (ej. `GUA` para Guaviare)\n",
    "  - `AA`: año en 2 dígitos\n",
    "  - `MM`: mes\n",
    "  - `DD`: día\n",
    "  - `TTTTTT`: hora de adquisición (UTC)\n",
    "  - `RAWXXXX`: identificador interno generado por el software IRIS\n"
   ]
  },
  {
   "cell_type": "markdown",
   "metadata": {},
   "source": [
    "IDEAM actualmente dispone de archivos para sus radares principales desde aproximadamente 2018. Los datos están organizados por fecha, por lo que es necesario navegar dentro del bucket por año, mes y día para acceder a los archivos específicos.\n"
   ]
  },
  {
   "cell_type": "markdown",
   "metadata": {},
   "source": [
    "```{hint}\n",
    "💡 **Tip**: En los notebooks también puedes ejecutar comandos de línea de comandos (CLI) anteponiendo un signo de exclamación (`!`).\n",
    "\n",
    "Por ejemplo, para listar los archivos disponibles en el bucket de radares del IDEAM para una fecha específica:\n",
    "\n",
    "```bash\n",
    "!aws s3 ls --no-sign-request s3://s3-radaresideam/l2_data/2021/09/19/\n"
   ]
  },
  {
   "cell_type": "code",
   "execution_count": null,
   "metadata": {},
   "outputs": [],
   "source": [
    "!aws s3 ls --no-sign-request s3://s3-radaresideam/l2_data/2021/09/19/"
   ]
  },
  {
   "cell_type": "markdown",
   "metadata": {},
   "source": [
    "## 3. 📥 Acceso a los datos de radar usando Python\n",
    "\n",
    "IDEAM publica los datos de sus radares meteorológicos en un bucket público de Amazon Web Services (AWS). Gracias a herramientas como `fsspec` y `xradar`, es posible explorar estos datos, filtrarlos por fecha y estación, y analizarlos sin necesidad de descargarlos manualmente desde la web.\n",
    "\n",
    "\n",
    "\n",
    "### 3.1 🔎 Exploración de archivos disponibles en el bucket\n",
    "\n",
    "Primero, se establece una conexión con el bucket S3 de IDEAM utilizando `fsspec`. Esto permite buscar archivos según una ruta de interés que incluye fecha y nombre del radar.\n"
   ]
  },
  {
   "cell_type": "code",
   "execution_count": null,
   "metadata": {},
   "outputs": [],
   "source": [
    "import fsspec\n",
    "\n",
    "# Crear sistema de archivos con acceso anónimo\n",
    "fs = fsspec.filesystem(\"s3\", anon=True)\n",
    "\n",
    "# Buscar archivos de radar disponibles en una fecha específica\n",
    "files = sorted(fs.glob(\"s3-radaresideam/l2_data/2022/08/09/Carimagua/CAR22080919*\"))\n",
    "files[:5]  # Mostrar los primeros 5 archivos encontrados"
   ]
  },
  {
   "cell_type": "markdown",
   "metadata": {},
   "source": [
    "```{hint}\n",
    "🛠️ **Personalización de la búsqueda**\n",
    "\n",
    "La ruta utilizada en el método `fs.glob()`:\n",
    "\n",
    "s3-radaresideam/l2_data/2022/08/09/Carimagua/CAR22080919*\n",
    "\n",
    "puede ser modificada para consultar archivos de otras fechas o radares. Solo debes ajustar los siguientes componentes:\n",
    "\n",
    "- `2022/08/09`: la fecha del escaneo en formato `YYYY/MM/DD`\n",
    "- `Carimagua`: el nombre del radar (por ejemplo: `Guaviare`, `Munchique`, `Barrancabermeja`)\n",
    "- `CAR22080919*`: el patrón del nombre del archivo. Puedes usar comodines como `*` para seleccionar varios archivos.\n",
    "\n",
    "Esto te permite explorar diferentes días o estaciones según tu interés de análisis."
   ]
  },
  {
   "cell_type": "markdown",
   "metadata": {},
   "source": [
    "### 3.2 💾 Descarga temporal y lectura de archivos con Xradar\n",
    "\n",
    "Una vez localizado un archivo de interés, este puede ser **descargado temporalmente al sistema local** utilizando `fsspec.open_local`. Luego, puede ser leído con `xradar`, el cual retorna una estructura jerárquica del tipo `DataTree`, que organiza los barridos (sweeps) contenidos en el archivo.\n"
   ]
  },
  {
   "cell_type": "code",
   "execution_count": null,
   "metadata": {
    "scrolled": true
   },
   "outputs": [],
   "source": [
    "import xradar as xd\n",
    "import fsspec\n",
    "import cmweather\n",
    "# Preparamos un archivo para abrir de manera local desde el bucket S3\n",
    "task_file = fsspec.open_local(\n",
    "    f\"simplecache::s3://{files[7]}\",\n",
    "    s3={\"anon\": True},\n",
    "    filecache={\"cache_storage\": \".\"}  # Carpeta donde se almacena temporalmente\n",
    ")\n",
    "\n",
    "# Leemos el archivo utilizando xradar\n",
    "radar = xd.io.open_iris_datatree(task_file)\n",
    "\n",
    "# Visualizamos el contenido del datatree\n",
    "display(radar)"
   ]
  },
  {
   "cell_type": "markdown",
   "metadata": {},
   "source": [
    "📘 `xradar` utiliza `xarray` y devuelve una estructura tipo `DataTree`, que organiza jerárquicamente la información contenida en los archivos SIGMET/IRIS, incluyendo múltiples niveles de escaneo por elevación."
   ]
  },
  {
   "cell_type": "markdown",
   "metadata": {},
   "source": [
    "### 3.3 📊 Gráfico de reflectividad\n",
    "\n",
    "Una vez cargado el archivo con `xradar`, podemos acceder a un barrido individual (por ejemplo, `sweep_0`) y visualizar la reflectividad horizontal (`DBZH`) utilizando la funcionalidad [`xarray.plot`](https://docs.xarray.dev/en/latest/user-guide/plotting.html) que se encuentra incorporada en `xarray`.\n",
    "\n",
    "Este primer gráfico mostrará la reflectividad en coordenadas de azimut y rango, tal como fue registrada por el radar.\n"
   ]
  },
  {
   "cell_type": "code",
   "execution_count": null,
   "metadata": {},
   "outputs": [],
   "source": [
    "# Accedemos al primer barrido (elevación más baja)\n",
    "sweep = radar[\"sweep_0\"]\n",
    "\n",
    "# Visualizamos la reflectividad horizontal (DBZH)\n",
    "sweep[\"DBZH\"].plot(cmap=\"ChaseSpectral\", vmin=-10, vmax=60);"
   ]
  },
  {
   "cell_type": "markdown",
   "metadata": {},
   "source": [
    "🎯 Este tipo de visualización es útil para inspeccionar rápidamente los valores de reflectividad en coordenadas polares. La reflectividad se mide en decibelios Z (`dBZ`) y representa la intensidad de los retornos del radar."
   ]
  },
  {
   "cell_type": "markdown",
   "metadata": {},
   "source": [
    "### 3.4 🌐 Georreferenciación de datos de radar\n",
    "\n",
    "Los datos de radar inicialmente se encuentran en coordenadas polares: **azimuth** (ángulo de rotación horizontal) y **range** (distancia radial). Para representar estos datos en un sistema de coordenadas cartesianas (x, y, z), es necesario aplicar un proceso de **georreferenciación**.\n",
    "\n",
    "La librería `xradar` permite realizar este proceso fácilmente con el método `.xradar.georeference()`.\n"
   ]
  },
  {
   "cell_type": "code",
   "execution_count": null,
   "metadata": {},
   "outputs": [],
   "source": [
    "# Aplicamos georreferenciación al datatree completo\n",
    "radar = radar.xradar.georeference()\n",
    "\n",
    "# Inspeccionamos el barrido ya georreferenciado\n",
    "display(radar[\"sweep_0\"])"
   ]
  },
  {
   "cell_type": "markdown",
   "metadata": {},
   "source": [
    "🌐 La georreferenciación agrega nuevas coordenadas físicas `x`, `y` y `z` que representan la ubicación espacial real del haz de radar sobre la superficie terrestre. Esto es esencial para graficar en mapas o combinar con otras fuentes geoespaciales."
   ]
  },
  {
   "cell_type": "markdown",
   "metadata": {},
   "source": [
    "### 3.5 🗺️ Visualización georreferenciada\n",
    "\n",
    "Una vez que los datos han sido georreferenciados, podemos generar una visualización en coordenadas cartesianas usando las nuevas variables `x` e `y`. Esto permite observar la reflectividad del radar en el espacio físico real, facilitando su integración con mapas o capas geográficas."
   ]
  },
  {
   "cell_type": "code",
   "execution_count": null,
   "metadata": {},
   "outputs": [],
   "source": [
    "\n",
    "# Graficamos la reflectividad horizontal usando coordenadas georreferenciadas\n",
    "radar[\"sweep_0\"][\"DBZH\"].plot(\n",
    "    x=\"x\",\n",
    "    y=\"y\",\n",
    "    cmap=\"ChaseSpectral\",\n",
    "    vmin=-10,\n",
    "    vmax=60\n",
    ");"
   ]
  },
  {
   "cell_type": "markdown",
   "metadata": {},
   "source": [
    "🗺️ Esta visualización representa los datos del radar en un plano cartesiano, donde la ubicación espacial ya no depende de azimut y rango, sino de distancias en metros respecto al radar (coordenadas x, y).\n"
   ]
  },
  {
   "cell_type": "markdown",
   "metadata": {},
   "source": [
    "### 3.6 🗺️ Visualización en sistema de coordenadas geográficas\n",
    "\n",
    "Para representar los datos de reflectividad en un mapa geográfico, es necesario convertir el sistema de coordenadas cartesianas del radar a un sistema proyectado. Podemos obtener esta proyección directamente desde el objeto radar utilizando `xradar.georeference.get_crs()` y crear una proyección compatible con `cartopy`.\n"
   ]
  },
  {
   "cell_type": "code",
   "execution_count": null,
   "metadata": {},
   "outputs": [],
   "source": [
    "import cartopy.crs as ccrs\n",
    "import matplotlib.pyplot as plt\n",
    "\n",
    "# Obtener el sistema de referencia proyectado desde el radar\n",
    "proj_crs = xd.georeference.get_crs(radar[\"sweep_0\"].ds)\n",
    "\n",
    "# Crear una proyección de Cartopy usando ese CRS\n",
    "cart_crs = ccrs.Projection(proj_crs)"
   ]
  },
  {
   "cell_type": "markdown",
   "metadata": {
    "scrolled": true
   },
   "source": [
    "🧭 Esta proyección permitirá superponer correctamente los datos del radar sobre mapas de costas, fronteras y otros elementos geográficos usando `cartopy`."
   ]
  },
  {
   "cell_type": "code",
   "execution_count": null,
   "metadata": {},
   "outputs": [],
   "source": [
    "fig = plt.figure(figsize=(7, 7))\n",
    "ax = fig.add_subplot(111, projection=ccrs.PlateCarree())\n",
    "radar[\"sweep_0\"][\"DBZH\"].plot(\n",
    "    x=\"x\",\n",
    "    y=\"y\",\n",
    "    cmap=\"ChaseSpectral\",\n",
    "    transform=cart_crs,\n",
    "    cbar_kwargs=dict(pad=0.075, shrink=0.75),\n",
    "    vmin=-10,\n",
    "    vmax=60,\n",
    ")\n",
    "ax.coastlines()\n",
    "ax.gridlines(draw_labels=True, ls=\"--\", lw=0.5);"
   ]
  },
  {
   "cell_type": "markdown",
   "metadata": {},
   "source": [
    "🌐 Este gráfico muestra la reflectividad del radar proyectada sobre un sistema de coordenadas geográficas. Es útil para análisis meteorológico, estudios hidrológicos y validación con otras fuentes de datos espaciales.\n"
   ]
  },
  {
   "cell_type": "markdown",
   "metadata": {},
   "source": [
    "## 4. 🌧️ Estimación de lluvia a partir de reflectividad\n",
    "\n",
    "Una de las aplicaciones más comunes del radar meteorológico es la estimación de tasas de precipitación. Para ello se utiliza una relación empírica entre la **reflectividad Z** y la **intensidad de lluvia R**, conocida como relación **Z–R**.\n",
    "\n",
    "Una de las formas más conocidas y utilizadas es la propuesta por **Marshall & Gunn (1953)**:\n",
    "\n",
    "$$\n",
    "Z = 200 \\cdot R^{1.6}\n",
    "$$\n",
    "\n",
    "Despejando para \\( R \\):\n",
    "\n",
    "$$\n",
    "R = \\left( \\frac{Z}{200} \\right)^{1/1.6}\n",
    "$$\n",
    "\n",
    "```{warning}\n",
    "⚠️ La reflectividad del radar está dada en unidades decibélicas:  \n",
    "\\( Z_{dBZ} = 10 \\cdot \\log_{10}(Z) \\).  \n",
    "Para aplicar la ecuación, es necesario convertirla a unidades lineales:\n",
    "\n",
    "$$\n",
    "Z = 10^{(Z_{dBZ} / 10)}\n",
    "$$"
   ]
  },
  {
   "cell_type": "markdown",
   "metadata": {},
   "source": [
    "A continuación, implementamos este procedimiento paso a paso para estimar la lluvia a partir de un barrido de reflectividad horizontal (`DBZH`):\n"
   ]
  },
  {
   "cell_type": "code",
   "execution_count": null,
   "metadata": {
    "jp-MarkdownHeadingCollapsed": true
   },
   "outputs": [],
   "source": [
    "# Reflectividad en unidades logarítmicas (dBZ)\n",
    "ref_log = radar[\"sweep_0\"][\"DBZH\"]\n",
    "\n",
    "# Conversión a unidades lineales\n",
    "ref_lin = 10 ** (ref_log / 10)\n",
    "\n",
    "# Aplicación de la ecuación de Marshall & Gunn (1953)\n",
    "rr = (1 / 200) ** (1 / 1.6) * ref_lin ** (1 / 1.6)"
   ]
  },
  {
   "cell_type": "markdown",
   "metadata": {},
   "source": [
    "Ahora podemos visualizar el campo de lluvia generado"
   ]
  },
  {
   "cell_type": "code",
   "execution_count": null,
   "metadata": {},
   "outputs": [],
   "source": [
    "### 4.1 🗺️ Visualización del campo de lluvia\n"
   ]
  },
  {
   "cell_type": "code",
   "execution_count": null,
   "metadata": {},
   "outputs": [],
   "source": [
    "fig = plt.figure(figsize=(7, 7))\n",
    "ax = fig.add_subplot(111, projection=ccrs.PlateCarree())\n",
    "rr.plot(\n",
    "    x=\"x\",\n",
    "    y=\"y\",\n",
    "    cmap=\"jet\",\n",
    "    transform=cart_crs,\n",
    "    cbar_kwargs=dict(\n",
    "        pad=0.075, shrink=0.75, label=r\"$Intensidad \\ de \\ lluvia \\ [mm hr^{-1}]$\"\n",
    "    ),\n",
    "    vmin=0,\n",
    "    vmax=50,\n",
    ")\n",
    "ax.set_title(r\"$Estimado \\ de \\ lluvia$\")\n",
    "ax.coastlines()\n",
    "ax.gridlines(draw_labels=True, ls=\"--\", lw=0.5);"
   ]
  },
  {
   "cell_type": "markdown",
   "metadata": {},
   "source": [
    "---"
   ]
  },
  {
   "cell_type": "markdown",
   "metadata": {},
   "source": [
    "## ✅ Conclusiones\n",
    "\n",
    "En este cuadernillo exploramos el acceso, procesamiento y visualización de datos de radares meteorológicos del IDEAM utilizando herramientas abiertas en Python.\n",
    "\n",
    "📌 Aprendimos a:\n",
    "\n",
    "- Consultar y explorar archivos disponibles en el bucket público de AWS (`s3://s3-radaresideam`).\n",
    "- Leer datos de radar en formato SIGMET utilizando la librería `xradar`.\n",
    "- Georreferenciar la información de reflectividad y proyectarla en coordenadas físicas reales.\n",
    "- Visualizar la reflectividad horizontal tanto en coordenadas polares como geográficas.\n",
    "- Estimar campos de precipitación utilizando la ecuación de **Marshall & Gunn (1953)**.\n",
    "\n",
    "Este flujo de trabajo permite aprovechar el valor de los datos de radar meteorológico para aplicaciones hidrometeorológicas, vigilancia de tormentas y estudios atmosféricos de alta resolución.\n",
    "\n",
    "```{note}\n",
    "🔧 Estas herramientas están pensadas para análisis exploratorios. Para aplicaciones operativas o validación cuantitativa, se recomienda el uso de datos calibrados y técnicas más avanzadas de estimación de lluvia.\n"
   ]
  },
  {
   "cell_type": "markdown",
   "metadata": {},
   "source": [
    "## 📚 Otros recursos\n",
    "\n",
    "A continuación, se listan recursos clave y bibliografía utilizada en el desarrollo de este cuadernillo:\n",
    "\n",
    "### 🧰 Herramientas y documentación\n",
    "\n",
    "- [xradar — Open Radar Science](https://docs.openradarscience.org/projects/xradar/en/stable/)  \n",
    "- [fsspec — Filesystem specification](https://filesystem-spec.readthedocs.io/en/latest/)\n",
    "- [cartopy — Cartographic tools for Python](https://scitools.org.uk/cartopy/docs/latest/)\n",
    "- [AWS CLI — Amazon Web Services Command Line Interface](https://docs.aws.amazon.com/cli/latest/userguide/cli-chap-welcome.html)\n",
    "\n",
    "### 📘 Lecturas recomendadas\n",
    "\n",
    "- [Radar Cookbook — Project Pythia](https://projectpythia.org/radar-cookbook/README.html)  \n",
    "- [Fundamentos de Radar Meteorológico — The COMET Program (UCAR)](https://www.meted.ucar.edu/radar/basic_wxradar_es/)\n"
   ]
  },
  {
   "cell_type": "markdown",
   "metadata": {},
   "source": [
    "### 📄 Referencias bibliográficas\n",
    "\n",
    "- Grover, M., Sherman, Z., Sharma, M., Ladino, A., Camron, C., & Radar Cookbook Contributors. (2023). *Radar Cookbook*. Zenodo. https://doi.org/10.5281/zenodo.8075855  \n",
    "- Rose, B. E. J., Kent, J., Tyle, K., Clyne, J., Banihirwe, A., Camron, D., Ford, R., Morley, J., Grover, M., et al. (2023). *Pythia Foundations (Version v2023.05.01)*. Zenodo. https://doi.org/10.5281/zenodo.7884572  \n",
    "- Marshall, J. S., & Palmer, W. M. (1948). *The distribution of raindrops with size*. J. Atmos. Sci., 5, 165–166. https://doi.org/10.1175/1520-0469(1948)005%3C0165:TDORWS%3E2.0.CO;2\n"
   ]
  },
  {
   "cell_type": "code",
   "execution_count": null,
   "metadata": {},
   "outputs": [],
   "source": []
  }
 ],
 "metadata": {
  "kernelspec": {
   "display_name": "Python 3 (ipykernel)",
   "language": "python",
   "name": "python3"
  },
  "language_info": {
   "codemirror_mode": {
    "name": "ipython",
    "version": 3
   },
   "file_extension": ".py",
   "mimetype": "text/x-python",
   "name": "python",
   "nbconvert_exporter": "python",
   "pygments_lexer": "ipython3",
   "version": "3.13.3"
  },
  "nbdime-conflicts": {
   "local_diff": [
    {
     "diff": [
      {
       "diff": [
        {
         "key": 0,
         "op": "addrange",
         "valuelist": [
          "Python 3"
         ]
        },
        {
         "key": 0,
         "length": 1,
         "op": "removerange"
        }
       ],
       "key": "display_name",
       "op": "patch"
      }
     ],
     "key": "kernelspec",
     "op": "patch"
    }
   ],
   "remote_diff": [
    {
     "diff": [
      {
       "diff": [
        {
         "key": 0,
         "op": "addrange",
         "valuelist": [
          "Python3"
         ]
        },
        {
         "key": 0,
         "length": 1,
         "op": "removerange"
        }
       ],
       "key": "display_name",
       "op": "patch"
      }
     ],
     "key": "kernelspec",
     "op": "patch"
    }
   ]
  },
  "toc-autonumbering": false
 },
 "nbformat": 4,
 "nbformat_minor": 4
}
