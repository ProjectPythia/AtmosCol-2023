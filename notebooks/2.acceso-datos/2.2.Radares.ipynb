{
 "cells": [
  {
   "cell_type": "markdown",
   "metadata": {},
   "source": [
    "```{image} ../images/radar-obs.png\n",
    ":width: 400px\n",
    ":align: center\n",
    "```"
   ]
  },
  {
   "cell_type": "markdown",
   "metadata": {},
   "source": [
    "# Radares Meteorológicos"
   ]
  },
  {
   "cell_type": "markdown",
   "metadata": {},
   "source": [
    "---"
   ]
  },
  {
   "cell_type": "markdown",
   "metadata": {},
   "source": [
    "## Resumen\n",
    "En este cuadernillo (Notebook) aprenderemos:\n",
    "\n",
    "1. Breve introducción a los radares meterológicos\n",
    "2. Red de Nacional de radares meteorológicos de Colombia\n",
    "4. Consulta de datos usando el bucket de AWS de [radares](https://registry.opendata.aws/ideam-radares/) \n",
    "1. Generación de gráficas de reflectividad\n",
    "1. Generación de campos de lluvia usando la ecuación de Marshall & Gunn (1953)"
   ]
  },
  {
   "cell_type": "markdown",
   "metadata": {},
   "source": [
    "## Prerequisitos\n",
    "| Conceptos | Importancia | Notas |\n",
    "| --- | --- | --- |\n",
    "| [Introducción a Xarray](https://foundations.projectpythia.org/core/xarray.html) | Necesario | Lectura de datos multidimensionales |\n",
    "| [Introducción a Py-Art](https://projectpythia.org/radar-cookbook/README.html) | Necesario | Lectura de datos de radar |\n",
    "| [Introducción a Xradar](https://docs.openradarscience.org/projects/xradar/en/stable/notebooks/Read-plot-Sigmet-data-from-AWS.html) | Necesario | Lectura de datos de radar |\n",
    "| [Introducción a Wradlib](https://docs.wradlib.org/en/latest/) | Necesario | Lectura de datos de radar |\n",
    "| [Fundamentos de radar meteorológico](https://www.meted.ucar.edu/radar/basic_wxradar_es/) | Útil | Fundametos básicos en radares meteorológicos |\n",
    "| [Introducción a  NetCDF](https://foundations.projectpythia.org/core/data-formats/netcdf-cf.html) | Útil | Entender la metadata de los datos |\n",
    "\n",
    "- **Tiempo de aprendizaje**: 30 minutos"
   ]
  },
  {
   "cell_type": "markdown",
   "metadata": {},
   "source": [
    "## 1. Radares meteorológicos\n",
    "\n",
    "Los radares meteorológicos son sensores activos que emiten pulsos de energía a la atmósfera y miden la energía retrodispersa de todos los objetos a lo largo del haz de medición como se puede observar en la siguiente animación del curso Fundamentos en radares meterológicos (The Commet program - meted.ucar.edu)"
   ]
  },
  {
   "cell_type": "code",
   "execution_count": 1,
   "metadata": {
    "tags": [
     "remove-input"
    ]
   },
   "outputs": [
    {
     "data": {
      "text/html": [
       "\n",
       "    <video alt=\"test\" controls>\n",
       "        <source src=\"../images/radar_atten.mp4\" type=\"video/mp4\">\n",
       "    </video>\n"
      ],
      "text/plain": [
       "<IPython.core.display.HTML object>"
      ]
     },
     "execution_count": 1,
     "metadata": {},
     "output_type": "execute_result"
    }
   ],
   "source": [
    "# @markdown\n",
    "\n",
    "from IPython.display import HTML, IFrame\n",
    "from ipywidgets import widgets\n",
    "\n",
    "HTML(\n",
    "    \"\"\"\n",
    "    <video alt=\"test\" controls>\n",
    "        <source src=\"../images/radar_atten.mp4\" type=\"video/mp4\">\n",
    "    </video>\n",
    "\"\"\"\n",
    ")"
   ]
  },
  {
   "cell_type": "markdown",
   "metadata": {},
   "source": [
    "Tradicionalmente, los radares meteorológicos operan en modo de **Indicador de Posición Plana** (PPI por sus siglas en inglés de *Plan Position Indicator*). Este modo primero fija la **elevacion de la antena** a un ángulo determinado con respecto a la **horizontal** y gira **360** grados con respecto al norte. Luego repite esta tarea míltiples veces a **diferentes elevaciones** hasta completar un **Patrón de Cobertura Volumétrico** (VCP por sus siglas en inglés de *Volume Coverage Pattern*) como se puede obervar en la siguiente animación del curso Fundamentos en radares meterológicos (The Commet program - meted.ucar.edu)"
   ]
  },
  {
   "cell_type": "code",
   "execution_count": 2,
   "metadata": {
    "tags": [
     "remove-input"
    ]
   },
   "outputs": [
    {
     "data": {
      "text/html": [
       "\n",
       "    <video alt=\"test\" controls>\n",
       "        <source src=\"../images/radar_scan_EM_animation.mp4\" type=\"video/mp4\">\n",
       "    </video>\n"
      ],
      "text/plain": [
       "<IPython.core.display.HTML object>"
      ]
     },
     "execution_count": 2,
     "metadata": {},
     "output_type": "execute_result"
    }
   ],
   "source": [
    "# @markdown\n",
    "\n",
    "from IPython.display import HTML\n",
    "\n",
    "HTML(\n",
    "    \"\"\"\n",
    "    <video alt=\"test\" controls>\n",
    "        <source src=\"../images/radar_scan_EM_animation.mp4\" type=\"video/mp4\">\n",
    "    </video>\n",
    "\"\"\"\n",
    ")"
   ]
  },
  {
   "cell_type": "markdown",
   "metadata": {},
   "source": [
    "## 2. Red Nacional de Radares de Colombia"
   ]
  },
  {
   "cell_type": "markdown",
   "metadata": {},
   "source": [
    "Colombia cuenta actualmente con una red de **12 radares meterológicos** que hacen vigilancia continua a las condiciones de precipitación en el país como se puede observar en la siguiente tabla:\n",
    "\n",
    "| Entidad | Número de radares | banda | \n",
    "| --- | :---: | :---: |\n",
    "| IDEAM  |  4  | C  |\n",
    "| Aerocivil |  6  |  C  | \n",
    "| SIATA | 1  | C  |\n",
    "| IDIGER | 1  | X  | "
   ]
  },
  {
   "cell_type": "markdown",
   "metadata": {},
   "source": [
    "### Librerías\n",
    "\n",
    "A continuación vamos a importar las librerías que utilizaremos en este cuadernillo"
   ]
  },
  {
   "cell_type": "code",
   "execution_count": 3,
   "metadata": {},
   "outputs": [],
   "source": [
    "import boto3\n",
    "import botocore\n",
    "import cartopy.crs as ccrs\n",
    "import cmweather\n",
    "import folium\n",
    "import fsspec\n",
    "import matplotlib.pyplot as plt\n",
    "import numpy as np\n",
    "import pandas as pd\n",
    "import xradar as xd\n",
    "from folium import plugins"
   ]
  },
  {
   "cell_type": "markdown",
   "metadata": {},
   "source": [
    "### 2.1 Ubicación de los radares meteorológicos\n",
    "\n",
    "Podemos usar `folium` para crear un mapa dinámico donde visualizamos la ubicación de los radares meteorológicos en Colombia"
   ]
  },
  {
   "cell_type": "code",
   "execution_count": 4,
   "metadata": {},
   "outputs": [],
   "source": [
    "min_lon, max_lon, min_lat, max_lat = -90, -72, -1, 14\n",
    "\n",
    "map_ = folium.Map(\n",
    "    location=[8, -76],\n",
    "    zoom_start=6,\n",
    "    min_lat=min_lat,\n",
    "    max_lat=max_lat,\n",
    "    min_lon=min_lon,\n",
    "    max_lon=max_lon,\n",
    "    zoom_control=False,\n",
    "    control_scale=True,\n",
    "    scrollWheelZoom=False,\n",
    "    width=1000,\n",
    "    height=700,\n",
    ")\n",
    "\n",
    "folium.TileLayer(\"openstreetmap\").add_to(map_)\n",
    "folium.TileLayer(\"cartodbpositron\").add_to(map_)\n",
    "folium.TileLayer(\"cartodbdark_matter\").add_to(map_)\n",
    "folium.LayerControl().add_to(map_)\n",
    "\n",
    "minimap = folium.plugins.MiniMap()\n",
    "map_ = map_.add_child(minimap)\n",
    "# map_"
   ]
  },
  {
   "cell_type": "markdown",
   "metadata": {},
   "source": [
    "Ahora podemos agregar la ubicación de cada radar en el mapa"
   ]
  },
  {
   "cell_type": "code",
   "execution_count": 5,
   "metadata": {},
   "outputs": [],
   "source": [
    "def locate_radar(row):\n",
    "    df = row.to_frame()\n",
    "    html = df.iloc[:-3].to_html(\n",
    "        classes=\"table table-striped table-hover table-condensed table-responsive\"\n",
    "    )\n",
    "\n",
    "    popup = folium.Popup(html, max_width=2650)\n",
    "    folium.Marker(location=[row.lat, row.lon], popup=popup).add_to(map_)\n",
    "\n",
    "    rad = float(row[\"rad\"])\n",
    "    circle = folium.vector_layers.Circle(\n",
    "        location=[row.lat, row.lon],\n",
    "        color=row.color,\n",
    "        fill=True,\n",
    "        fill_color=f\"{row['color']}\",\n",
    "        radius=rad * 2500,\n",
    "        fill_opacity=0.1,\n",
    "    )\n",
    "    circle.add_to(map_)"
   ]
  },
  {
   "cell_type": "code",
   "execution_count": 6,
   "metadata": {},
   "outputs": [],
   "source": [
    "df_radares = pd.read_csv(\"../data/radar_locations.csv\")"
   ]
  },
  {
   "cell_type": "markdown",
   "metadata": {},
   "source": [
    "Aplicamos la función `locate_radar` a cada fila del dataframe usando el método `pd.apply` "
   ]
  },
  {
   "cell_type": "code",
   "execution_count": 7,
   "metadata": {},
   "outputs": [
    {
     "data": {
      "text/html": [
       "<div style=\"width:100%;\"><div style=\"position:relative;width:100%;height:0;padding-bottom:60%;\"><span style=\"color:#565656\">Make this Notebook Trusted to load map: File -> Trust Notebook</span><iframe srcdoc=\"&lt;!DOCTYPE html&gt;\n",
       "&lt;html&gt;\n",
       "&lt;head&gt;\n",
       "    \n",
       "    &lt;meta http-equiv=&quot;content-type&quot; content=&quot;text/html; charset=UTF-8&quot; /&gt;\n",
       "    \n",
       "        &lt;script&gt;\n",
       "            L_NO_TOUCH = false;\n",
       "            L_DISABLE_3D = false;\n",
       "        &lt;/script&gt;\n",
       "    \n",
       "    &lt;style&gt;html, body {width: 100%;height: 100%;margin: 0;padding: 0;}&lt;/style&gt;\n",
       "    &lt;style&gt;#map {position:absolute;top:0;bottom:0;right:0;left:0;}&lt;/style&gt;\n",
       "    &lt;script src=&quot;https://cdn.jsdelivr.net/npm/leaflet@1.9.3/dist/leaflet.js&quot;&gt;&lt;/script&gt;\n",
       "    &lt;script src=&quot;https://code.jquery.com/jquery-3.7.1.min.js&quot;&gt;&lt;/script&gt;\n",
       "    &lt;script src=&quot;https://cdn.jsdelivr.net/npm/bootstrap@5.2.2/dist/js/bootstrap.bundle.min.js&quot;&gt;&lt;/script&gt;\n",
       "    &lt;script src=&quot;https://cdnjs.cloudflare.com/ajax/libs/Leaflet.awesome-markers/2.0.2/leaflet.awesome-markers.js&quot;&gt;&lt;/script&gt;\n",
       "    &lt;link rel=&quot;stylesheet&quot; href=&quot;https://cdn.jsdelivr.net/npm/leaflet@1.9.3/dist/leaflet.css&quot;/&gt;\n",
       "    &lt;link rel=&quot;stylesheet&quot; href=&quot;https://cdn.jsdelivr.net/npm/bootstrap@5.2.2/dist/css/bootstrap.min.css&quot;/&gt;\n",
       "    &lt;link rel=&quot;stylesheet&quot; href=&quot;https://netdna.bootstrapcdn.com/bootstrap/3.0.0/css/bootstrap-glyphicons.css&quot;/&gt;\n",
       "    &lt;link rel=&quot;stylesheet&quot; href=&quot;https://cdn.jsdelivr.net/npm/@fortawesome/fontawesome-free@6.2.0/css/all.min.css&quot;/&gt;\n",
       "    &lt;link rel=&quot;stylesheet&quot; href=&quot;https://cdnjs.cloudflare.com/ajax/libs/Leaflet.awesome-markers/2.0.2/leaflet.awesome-markers.css&quot;/&gt;\n",
       "    &lt;link rel=&quot;stylesheet&quot; href=&quot;https://cdn.jsdelivr.net/gh/python-visualization/folium/folium/templates/leaflet.awesome.rotate.min.css&quot;/&gt;\n",
       "    \n",
       "            &lt;meta name=&quot;viewport&quot; content=&quot;width=device-width,\n",
       "                initial-scale=1.0, maximum-scale=1.0, user-scalable=no&quot; /&gt;\n",
       "            &lt;style&gt;\n",
       "                #map_feba7ec0d97c6ced6593bf580905edfc {\n",
       "                    position: relative;\n",
       "                    width: 1000.0px;\n",
       "                    height: 700.0px;\n",
       "                    left: 0.0%;\n",
       "                    top: 0.0%;\n",
       "                }\n",
       "                .leaflet-container { font-size: 1rem; }\n",
       "            &lt;/style&gt;\n",
       "        \n",
       "    &lt;script src=&quot;https://cdnjs.cloudflare.com/ajax/libs/leaflet-minimap/3.6.1/Control.MiniMap.js&quot;&gt;&lt;/script&gt;\n",
       "    &lt;link rel=&quot;stylesheet&quot; href=&quot;https://cdnjs.cloudflare.com/ajax/libs/leaflet-minimap/3.6.1/Control.MiniMap.css&quot;/&gt;\n",
       "&lt;/head&gt;\n",
       "&lt;body&gt;\n",
       "    \n",
       "    \n",
       "            &lt;div class=&quot;folium-map&quot; id=&quot;map_feba7ec0d97c6ced6593bf580905edfc&quot; &gt;&lt;/div&gt;\n",
       "        \n",
       "&lt;/body&gt;\n",
       "&lt;script&gt;\n",
       "    \n",
       "    \n",
       "            var map_feba7ec0d97c6ced6593bf580905edfc = L.map(\n",
       "                &quot;map_feba7ec0d97c6ced6593bf580905edfc&quot;,\n",
       "                {\n",
       "                    center: [8.0, -76.0],\n",
       "                    crs: L.CRS.EPSG3857,\n",
       "                    ...{\n",
       "  &quot;zoom&quot;: 6,\n",
       "  &quot;zoomControl&quot;: false,\n",
       "  &quot;preferCanvas&quot;: false,\n",
       "  &quot;scrollWheelZoom&quot;: false,\n",
       "}\n",
       "\n",
       "                }\n",
       "            );\n",
       "            L.control.scale().addTo(map_feba7ec0d97c6ced6593bf580905edfc);\n",
       "\n",
       "            \n",
       "\n",
       "        \n",
       "    \n",
       "            var tile_layer_9672d86ad51c0f3ed7aa96ec1dcb5bf6 = L.tileLayer(\n",
       "                &quot;https://tile.openstreetmap.org/{z}/{x}/{y}.png&quot;,\n",
       "                {\n",
       "  &quot;minZoom&quot;: 0,\n",
       "  &quot;maxZoom&quot;: 19,\n",
       "  &quot;maxNativeZoom&quot;: 19,\n",
       "  &quot;noWrap&quot;: false,\n",
       "  &quot;attribution&quot;: &quot;\\u0026copy; \\u003ca href=\\&quot;https://www.openstreetmap.org/copyright\\&quot;\\u003eOpenStreetMap\\u003c/a\\u003e contributors&quot;,\n",
       "  &quot;subdomains&quot;: &quot;abc&quot;,\n",
       "  &quot;detectRetina&quot;: false,\n",
       "  &quot;tms&quot;: false,\n",
       "  &quot;opacity&quot;: 1,\n",
       "}\n",
       "\n",
       "            );\n",
       "        \n",
       "    \n",
       "            tile_layer_9672d86ad51c0f3ed7aa96ec1dcb5bf6.addTo(map_feba7ec0d97c6ced6593bf580905edfc);\n",
       "        \n",
       "    \n",
       "            var tile_layer_bdd6f83af0925d23a9e986b035262b6a = L.tileLayer(\n",
       "                &quot;https://tile.openstreetmap.org/{z}/{x}/{y}.png&quot;,\n",
       "                {\n",
       "  &quot;minZoom&quot;: 0,\n",
       "  &quot;maxZoom&quot;: 19,\n",
       "  &quot;maxNativeZoom&quot;: 19,\n",
       "  &quot;noWrap&quot;: false,\n",
       "  &quot;attribution&quot;: &quot;\\u0026copy; \\u003ca href=\\&quot;https://www.openstreetmap.org/copyright\\&quot;\\u003eOpenStreetMap\\u003c/a\\u003e contributors&quot;,\n",
       "  &quot;subdomains&quot;: &quot;abc&quot;,\n",
       "  &quot;detectRetina&quot;: false,\n",
       "  &quot;tms&quot;: false,\n",
       "  &quot;opacity&quot;: 1,\n",
       "}\n",
       "\n",
       "            );\n",
       "        \n",
       "    \n",
       "            tile_layer_bdd6f83af0925d23a9e986b035262b6a.addTo(map_feba7ec0d97c6ced6593bf580905edfc);\n",
       "        \n",
       "    \n",
       "            var tile_layer_c61ee10f33237367ea1de24ad5f5d0ae = L.tileLayer(\n",
       "                &quot;https://{s}.basemaps.cartocdn.com/light_all/{z}/{x}/{y}{r}.png&quot;,\n",
       "                {\n",
       "  &quot;minZoom&quot;: 0,\n",
       "  &quot;maxZoom&quot;: 20,\n",
       "  &quot;maxNativeZoom&quot;: 20,\n",
       "  &quot;noWrap&quot;: false,\n",
       "  &quot;attribution&quot;: &quot;\\u0026copy; \\u003ca href=\\&quot;https://www.openstreetmap.org/copyright\\&quot;\\u003eOpenStreetMap\\u003c/a\\u003e contributors \\u0026copy; \\u003ca href=\\&quot;https://carto.com/attributions\\&quot;\\u003eCARTO\\u003c/a\\u003e&quot;,\n",
       "  &quot;subdomains&quot;: &quot;abcd&quot;,\n",
       "  &quot;detectRetina&quot;: false,\n",
       "  &quot;tms&quot;: false,\n",
       "  &quot;opacity&quot;: 1,\n",
       "}\n",
       "\n",
       "            );\n",
       "        \n",
       "    \n",
       "            tile_layer_c61ee10f33237367ea1de24ad5f5d0ae.addTo(map_feba7ec0d97c6ced6593bf580905edfc);\n",
       "        \n",
       "    \n",
       "            var tile_layer_5646f829a15632907ada0a3c0b044444 = L.tileLayer(\n",
       "                &quot;https://{s}.basemaps.cartocdn.com/dark_all/{z}/{x}/{y}{r}.png&quot;,\n",
       "                {\n",
       "  &quot;minZoom&quot;: 0,\n",
       "  &quot;maxZoom&quot;: 20,\n",
       "  &quot;maxNativeZoom&quot;: 20,\n",
       "  &quot;noWrap&quot;: false,\n",
       "  &quot;attribution&quot;: &quot;\\u0026copy; \\u003ca href=\\&quot;https://www.openstreetmap.org/copyright\\&quot;\\u003eOpenStreetMap\\u003c/a\\u003e contributors \\u0026copy; \\u003ca href=\\&quot;https://carto.com/attributions\\&quot;\\u003eCARTO\\u003c/a\\u003e&quot;,\n",
       "  &quot;subdomains&quot;: &quot;abcd&quot;,\n",
       "  &quot;detectRetina&quot;: false,\n",
       "  &quot;tms&quot;: false,\n",
       "  &quot;opacity&quot;: 1,\n",
       "}\n",
       "\n",
       "            );\n",
       "        \n",
       "    \n",
       "            tile_layer_5646f829a15632907ada0a3c0b044444.addTo(map_feba7ec0d97c6ced6593bf580905edfc);\n",
       "        \n",
       "    \n",
       "            var layer_control_6044fe9eb9721f89cf4e46701b7a9d26_layers = {\n",
       "                base_layers : {\n",
       "                    &quot;openstreetmap&quot; : tile_layer_bdd6f83af0925d23a9e986b035262b6a,\n",
       "                    &quot;cartodbpositron&quot; : tile_layer_c61ee10f33237367ea1de24ad5f5d0ae,\n",
       "                    &quot;cartodbdarkmatter&quot; : tile_layer_5646f829a15632907ada0a3c0b044444,\n",
       "                },\n",
       "                overlays :  {\n",
       "                },\n",
       "            };\n",
       "            let layer_control_6044fe9eb9721f89cf4e46701b7a9d26 = L.control.layers(\n",
       "                layer_control_6044fe9eb9721f89cf4e46701b7a9d26_layers.base_layers,\n",
       "                layer_control_6044fe9eb9721f89cf4e46701b7a9d26_layers.overlays,\n",
       "                {\n",
       "  &quot;position&quot;: &quot;topright&quot;,\n",
       "  &quot;collapsed&quot;: true,\n",
       "  &quot;autoZIndex&quot;: true,\n",
       "}\n",
       "            ).addTo(map_feba7ec0d97c6ced6593bf580905edfc);\n",
       "\n",
       "        \n",
       "    \n",
       "            var tile_layer_b9d9fadfe76994c39a04b74d0933bc41 = L.tileLayer(\n",
       "                &quot;https://tile.openstreetmap.org/{z}/{x}/{y}.png&quot;,\n",
       "                {&quot;attribution&quot;: &quot;\\u0026copy; \\u003ca href=\\&quot;https://www.openstreetmap.org/copyright\\&quot;\\u003eOpenStreetMap\\u003c/a\\u003e contributors&quot;, &quot;detect_retina&quot;: false, &quot;max_native_zoom&quot;: 19, &quot;max_zoom&quot;: 19, &quot;min_zoom&quot;: 0, &quot;no_wrap&quot;: false, &quot;opacity&quot;: 1, &quot;subdomains&quot;: &quot;abc&quot;, &quot;tms&quot;: false}\n",
       "            );\n",
       "            var mini_map_3195a05da204be8157ae24e0f421ae6e = new L.Control.MiniMap(\n",
       "                tile_layer_b9d9fadfe76994c39a04b74d0933bc41,\n",
       "                {\n",
       "  &quot;position&quot;: &quot;bottomright&quot;,\n",
       "  &quot;width&quot;: 150,\n",
       "  &quot;height&quot;: 150,\n",
       "  &quot;collapsedWidth&quot;: 25,\n",
       "  &quot;collapsedHeight&quot;: 25,\n",
       "  &quot;zoomLevelOffset&quot;: -5,\n",
       "  &quot;centerFixed&quot;: false,\n",
       "  &quot;zoomAnimation&quot;: false,\n",
       "  &quot;toggleDisplay&quot;: false,\n",
       "  &quot;autoToggleDisplay&quot;: false,\n",
       "  &quot;minimized&quot;: false,\n",
       "}\n",
       "            );\n",
       "            map_feba7ec0d97c6ced6593bf580905edfc.addControl(mini_map_3195a05da204be8157ae24e0f421ae6e);\n",
       "        \n",
       "    \n",
       "            var marker_e1fd37f257095238f5d44a811a13bbef = L.marker(\n",
       "                [5.011830609, -74.20459757],\n",
       "                {\n",
       "}\n",
       "            ).addTo(map_feba7ec0d97c6ced6593bf580905edfc);\n",
       "        \n",
       "    \n",
       "        var popup_f803c75d359d0ddef565f37558d629cb = L.popup({\n",
       "  &quot;maxWidth&quot;: 2650,\n",
       "});\n",
       "\n",
       "        \n",
       "            \n",
       "                var html_505b8235daa1cb0eb4412ad5dd28287e = $(`&lt;div id=&quot;html_505b8235daa1cb0eb4412ad5dd28287e&quot; style=&quot;width: 100.0%; height: 100.0%;&quot;&gt;&lt;table border=&quot;1&quot; class=&quot;dataframe table table-striped table-hover table-condensed table-responsive&quot;&gt;   &lt;thead&gt;     &lt;tr style=&quot;text-align: right;&quot;&gt;       &lt;th&gt;&lt;/th&gt;       &lt;th&gt;0&lt;/th&gt;     &lt;/tr&gt;   &lt;/thead&gt;   &lt;tbody&gt;     &lt;tr&gt;       &lt;th&gt;Name&lt;/th&gt;       &lt;td&gt;R1. Tablazo - 2011&lt;/td&gt;     &lt;/tr&gt;     &lt;tr&gt;       &lt;th&gt;lat&lt;/th&gt;       &lt;td&gt;5.011831&lt;/td&gt;     &lt;/tr&gt;     &lt;tr&gt;       &lt;th&gt;lon&lt;/th&gt;       &lt;td&gt;-74.204598&lt;/td&gt;     &lt;/tr&gt;   &lt;/tbody&gt; &lt;/table&gt;&lt;/div&gt;`)[0];\n",
       "                popup_f803c75d359d0ddef565f37558d629cb.setContent(html_505b8235daa1cb0eb4412ad5dd28287e);\n",
       "            \n",
       "        \n",
       "\n",
       "        marker_e1fd37f257095238f5d44a811a13bbef.bindPopup(popup_f803c75d359d0ddef565f37558d629cb)\n",
       "        ;\n",
       "\n",
       "        \n",
       "    \n",
       "    \n",
       "            var circle_35ff559254362b52777ab7871e6a7bf3 = L.circle(\n",
       "                [5.011830609, -74.20459757],\n",
       "                {&quot;bubblingMouseEvents&quot;: true, &quot;color&quot;: &quot;red&quot;, &quot;dashArray&quot;: null, &quot;dashOffset&quot;: null, &quot;fill&quot;: true, &quot;fillColor&quot;: &quot;red&quot;, &quot;fillOpacity&quot;: 0.1, &quot;fillRule&quot;: &quot;evenodd&quot;, &quot;lineCap&quot;: &quot;round&quot;, &quot;lineJoin&quot;: &quot;round&quot;, &quot;opacity&quot;: 1.0, &quot;radius&quot;: 237500.0, &quot;stroke&quot;: true, &quot;weight&quot;: 3}\n",
       "            ).addTo(map_feba7ec0d97c6ced6593bf580905edfc);\n",
       "        \n",
       "    \n",
       "            var marker_29f7718babea95ba877d5db8eb6877ab = L.marker(\n",
       "                [6.195989795, -75.52745885],\n",
       "                {\n",
       "}\n",
       "            ).addTo(map_feba7ec0d97c6ced6593bf580905edfc);\n",
       "        \n",
       "    \n",
       "        var popup_c1dedcd2731099eac42470256a16410f = L.popup({\n",
       "  &quot;maxWidth&quot;: 2650,\n",
       "});\n",
       "\n",
       "        \n",
       "            \n",
       "                var html_fc7caaa9cca3e8d7d21492f5bcbe8695 = $(`&lt;div id=&quot;html_fc7caaa9cca3e8d7d21492f5bcbe8695&quot; style=&quot;width: 100.0%; height: 100.0%;&quot;&gt;&lt;table border=&quot;1&quot; class=&quot;dataframe table table-striped table-hover table-condensed table-responsive&quot;&gt;   &lt;thead&gt;     &lt;tr style=&quot;text-align: right;&quot;&gt;       &lt;th&gt;&lt;/th&gt;       &lt;th&gt;1&lt;/th&gt;     &lt;/tr&gt;   &lt;/thead&gt;   &lt;tbody&gt;     &lt;tr&gt;       &lt;th&gt;Name&lt;/th&gt;       &lt;td&gt;R2. Santa Elena - 2011&lt;/td&gt;     &lt;/tr&gt;     &lt;tr&gt;       &lt;th&gt;lat&lt;/th&gt;       &lt;td&gt;6.19599&lt;/td&gt;     &lt;/tr&gt;     &lt;tr&gt;       &lt;th&gt;lon&lt;/th&gt;       &lt;td&gt;-75.527459&lt;/td&gt;     &lt;/tr&gt;   &lt;/tbody&gt; &lt;/table&gt;&lt;/div&gt;`)[0];\n",
       "                popup_c1dedcd2731099eac42470256a16410f.setContent(html_fc7caaa9cca3e8d7d21492f5bcbe8695);\n",
       "            \n",
       "        \n",
       "\n",
       "        marker_29f7718babea95ba877d5db8eb6877ab.bindPopup(popup_c1dedcd2731099eac42470256a16410f)\n",
       "        ;\n",
       "\n",
       "        \n",
       "    \n",
       "    \n",
       "            var circle_1fd534c549c83c6eb2a13b4b4a609324 = L.circle(\n",
       "                [6.195989795, -75.52745885],\n",
       "                {&quot;bubblingMouseEvents&quot;: true, &quot;color&quot;: &quot;blue&quot;, &quot;dashArray&quot;: null, &quot;dashOffset&quot;: null, &quot;fill&quot;: true, &quot;fillColor&quot;: &quot;blue&quot;, &quot;fillOpacity&quot;: 0.1, &quot;fillRule&quot;: &quot;evenodd&quot;, &quot;lineCap&quot;: &quot;round&quot;, &quot;lineJoin&quot;: &quot;round&quot;, &quot;opacity&quot;: 1.0, &quot;radius&quot;: 237500.0, &quot;stroke&quot;: true, &quot;weight&quot;: 3}\n",
       "            ).addTo(map_feba7ec0d97c6ced6593bf580905edfc);\n",
       "        \n",
       "    \n",
       "            var marker_07ebd5742f0d9c0de727c0757a6ec346 = L.marker(\n",
       "                [9.331935069, -75.28278367],\n",
       "                {\n",
       "}\n",
       "            ).addTo(map_feba7ec0d97c6ced6593bf580905edfc);\n",
       "        \n",
       "    \n",
       "        var popup_f564952330e6089ae28558e5b3771b2d = L.popup({\n",
       "  &quot;maxWidth&quot;: 2650,\n",
       "});\n",
       "\n",
       "        \n",
       "            \n",
       "                var html_5a464000a2cb49240686304d7c741c14 = $(`&lt;div id=&quot;html_5a464000a2cb49240686304d7c741c14&quot; style=&quot;width: 100.0%; height: 100.0%;&quot;&gt;&lt;table border=&quot;1&quot; class=&quot;dataframe table table-striped table-hover table-condensed table-responsive&quot;&gt;   &lt;thead&gt;     &lt;tr style=&quot;text-align: right;&quot;&gt;       &lt;th&gt;&lt;/th&gt;       &lt;th&gt;2&lt;/th&gt;     &lt;/tr&gt;   &lt;/thead&gt;   &lt;tbody&gt;     &lt;tr&gt;       &lt;th&gt;Name&lt;/th&gt;       &lt;td&gt;R3. Corozal - 2013&lt;/td&gt;     &lt;/tr&gt;     &lt;tr&gt;       &lt;th&gt;lat&lt;/th&gt;       &lt;td&gt;9.331935&lt;/td&gt;     &lt;/tr&gt;     &lt;tr&gt;       &lt;th&gt;lon&lt;/th&gt;       &lt;td&gt;-75.282784&lt;/td&gt;     &lt;/tr&gt;   &lt;/tbody&gt; &lt;/table&gt;&lt;/div&gt;`)[0];\n",
       "                popup_f564952330e6089ae28558e5b3771b2d.setContent(html_5a464000a2cb49240686304d7c741c14);\n",
       "            \n",
       "        \n",
       "\n",
       "        marker_07ebd5742f0d9c0de727c0757a6ec346.bindPopup(popup_f564952330e6089ae28558e5b3771b2d)\n",
       "        ;\n",
       "\n",
       "        \n",
       "    \n",
       "    \n",
       "            var circle_0f9e034203dfe85ce01b2b17838f72a4 = L.circle(\n",
       "                [9.331935069, -75.28278367],\n",
       "                {&quot;bubblingMouseEvents&quot;: true, &quot;color&quot;: &quot;green&quot;, &quot;dashArray&quot;: null, &quot;dashOffset&quot;: null, &quot;fill&quot;: true, &quot;fillColor&quot;: &quot;green&quot;, &quot;fillOpacity&quot;: 0.1, &quot;fillRule&quot;: &quot;evenodd&quot;, &quot;lineCap&quot;: &quot;round&quot;, &quot;lineJoin&quot;: &quot;round&quot;, &quot;opacity&quot;: 1.0, &quot;radius&quot;: 237500.0, &quot;stroke&quot;: true, &quot;weight&quot;: 3}\n",
       "            ).addTo(map_feba7ec0d97c6ced6593bf580905edfc);\n",
       "        \n",
       "    \n",
       "            var marker_ee91581f7803f747241e73a9efee695a = L.marker(\n",
       "                [12.5891845, -81.70772346],\n",
       "                {\n",
       "}\n",
       "            ).addTo(map_feba7ec0d97c6ced6593bf580905edfc);\n",
       "        \n",
       "    \n",
       "        var popup_3e9fc352eb09dc032f4074b8be28832a = L.popup({\n",
       "  &quot;maxWidth&quot;: 2650,\n",
       "});\n",
       "\n",
       "        \n",
       "            \n",
       "                var html_a4b086c03106e7e610df34996d1782ca = $(`&lt;div id=&quot;html_a4b086c03106e7e610df34996d1782ca&quot; style=&quot;width: 100.0%; height: 100.0%;&quot;&gt;&lt;table border=&quot;1&quot; class=&quot;dataframe table table-striped table-hover table-condensed table-responsive&quot;&gt;   &lt;thead&gt;     &lt;tr style=&quot;text-align: right;&quot;&gt;       &lt;th&gt;&lt;/th&gt;       &lt;th&gt;3&lt;/th&gt;     &lt;/tr&gt;   &lt;/thead&gt;   &lt;tbody&gt;     &lt;tr&gt;       &lt;th&gt;Name&lt;/th&gt;       &lt;td&gt;R4. San Andrés - 2015&lt;/td&gt;     &lt;/tr&gt;     &lt;tr&gt;       &lt;th&gt;lat&lt;/th&gt;       &lt;td&gt;12.589184&lt;/td&gt;     &lt;/tr&gt;     &lt;tr&gt;       &lt;th&gt;lon&lt;/th&gt;       &lt;td&gt;-81.707723&lt;/td&gt;     &lt;/tr&gt;   &lt;/tbody&gt; &lt;/table&gt;&lt;/div&gt;`)[0];\n",
       "                popup_3e9fc352eb09dc032f4074b8be28832a.setContent(html_a4b086c03106e7e610df34996d1782ca);\n",
       "            \n",
       "        \n",
       "\n",
       "        marker_ee91581f7803f747241e73a9efee695a.bindPopup(popup_3e9fc352eb09dc032f4074b8be28832a)\n",
       "        ;\n",
       "\n",
       "        \n",
       "    \n",
       "    \n",
       "            var circle_cf2f2426c140ea44de96a32ccfe57c85 = L.circle(\n",
       "                [12.5891845, -81.70772346],\n",
       "                {&quot;bubblingMouseEvents&quot;: true, &quot;color&quot;: &quot;purple&quot;, &quot;dashArray&quot;: null, &quot;dashOffset&quot;: null, &quot;fill&quot;: true, &quot;fillColor&quot;: &quot;purple&quot;, &quot;fillOpacity&quot;: 0.1, &quot;fillRule&quot;: &quot;evenodd&quot;, &quot;lineCap&quot;: &quot;round&quot;, &quot;lineJoin&quot;: &quot;round&quot;, &quot;opacity&quot;: 1.0, &quot;radius&quot;: 237500.0, &quot;stroke&quot;: true, &quot;weight&quot;: 3}\n",
       "            ).addTo(map_feba7ec0d97c6ced6593bf580905edfc);\n",
       "        \n",
       "    \n",
       "            var marker_670fc640ad7a7d05d3a48171ccf2e7d5 = L.marker(\n",
       "                [4.675310499, -74.11394729],\n",
       "                {\n",
       "}\n",
       "            ).addTo(map_feba7ec0d97c6ced6593bf580905edfc);\n",
       "        \n",
       "    \n",
       "        var popup_f56e22e07b2eb4b836700c862412d2b7 = L.popup({\n",
       "  &quot;maxWidth&quot;: 2650,\n",
       "});\n",
       "\n",
       "        \n",
       "            \n",
       "                var html_27aa3572e711f10f8c545e88c6a42555 = $(`&lt;div id=&quot;html_27aa3572e711f10f8c545e88c6a42555&quot; style=&quot;width: 100.0%; height: 100.0%;&quot;&gt;&lt;table border=&quot;1&quot; class=&quot;dataframe table table-striped table-hover table-condensed table-responsive&quot;&gt;   &lt;thead&gt;     &lt;tr style=&quot;text-align: right;&quot;&gt;       &lt;th&gt;&lt;/th&gt;       &lt;th&gt;4&lt;/th&gt;     &lt;/tr&gt;   &lt;/thead&gt;   &lt;tbody&gt;     &lt;tr&gt;       &lt;th&gt;Name&lt;/th&gt;       &lt;td&gt;R5. IDIGER - 2017&lt;/td&gt;     &lt;/tr&gt;     &lt;tr&gt;       &lt;th&gt;lat&lt;/th&gt;       &lt;td&gt;4.67531&lt;/td&gt;     &lt;/tr&gt;     &lt;tr&gt;       &lt;th&gt;lon&lt;/th&gt;       &lt;td&gt;-74.113947&lt;/td&gt;     &lt;/tr&gt;   &lt;/tbody&gt; &lt;/table&gt;&lt;/div&gt;`)[0];\n",
       "                popup_f56e22e07b2eb4b836700c862412d2b7.setContent(html_27aa3572e711f10f8c545e88c6a42555);\n",
       "            \n",
       "        \n",
       "\n",
       "        marker_670fc640ad7a7d05d3a48171ccf2e7d5.bindPopup(popup_f56e22e07b2eb4b836700c862412d2b7)\n",
       "        ;\n",
       "\n",
       "        \n",
       "    \n",
       "    \n",
       "            var circle_f912f3871b555fc26412734a11f6acd0 = L.circle(\n",
       "                [4.675310499, -74.11394729],\n",
       "                {&quot;bubblingMouseEvents&quot;: true, &quot;color&quot;: &quot;orange&quot;, &quot;dashArray&quot;: null, &quot;dashOffset&quot;: null, &quot;fill&quot;: true, &quot;fillColor&quot;: &quot;orange&quot;, &quot;fillOpacity&quot;: 0.1, &quot;fillRule&quot;: &quot;evenodd&quot;, &quot;lineCap&quot;: &quot;round&quot;, &quot;lineJoin&quot;: &quot;round&quot;, &quot;opacity&quot;: 1.0, &quot;radius&quot;: 100000.0, &quot;stroke&quot;: true, &quot;weight&quot;: 3}\n",
       "            ).addTo(map_feba7ec0d97c6ced6593bf580905edfc);\n",
       "        \n",
       "    \n",
       "            var marker_290b5f4d045497edd1f9eac5c7cd9a7e = L.marker(\n",
       "                [7.029112262, -73.80917902],\n",
       "                {\n",
       "}\n",
       "            ).addTo(map_feba7ec0d97c6ced6593bf580905edfc);\n",
       "        \n",
       "    \n",
       "        var popup_8312bed8e35776fed40065957e0ac4d9 = L.popup({\n",
       "  &quot;maxWidth&quot;: 2650,\n",
       "});\n",
       "\n",
       "        \n",
       "            \n",
       "                var html_aff8c288b2a05480a06245d255e5e320 = $(`&lt;div id=&quot;html_aff8c288b2a05480a06245d255e5e320&quot; style=&quot;width: 100.0%; height: 100.0%;&quot;&gt;&lt;table border=&quot;1&quot; class=&quot;dataframe table table-striped table-hover table-condensed table-responsive&quot;&gt;   &lt;thead&gt;     &lt;tr style=&quot;text-align: right;&quot;&gt;       &lt;th&gt;&lt;/th&gt;       &lt;th&gt;5&lt;/th&gt;     &lt;/tr&gt;   &lt;/thead&gt;   &lt;tbody&gt;     &lt;tr&gt;       &lt;th&gt;Name&lt;/th&gt;       &lt;td&gt;R6. Barrancabermeja - 2018&lt;/td&gt;     &lt;/tr&gt;     &lt;tr&gt;       &lt;th&gt;lat&lt;/th&gt;       &lt;td&gt;7.029112&lt;/td&gt;     &lt;/tr&gt;     &lt;tr&gt;       &lt;th&gt;lon&lt;/th&gt;       &lt;td&gt;-73.809179&lt;/td&gt;     &lt;/tr&gt;   &lt;/tbody&gt; &lt;/table&gt;&lt;/div&gt;`)[0];\n",
       "                popup_8312bed8e35776fed40065957e0ac4d9.setContent(html_aff8c288b2a05480a06245d255e5e320);\n",
       "            \n",
       "        \n",
       "\n",
       "        marker_290b5f4d045497edd1f9eac5c7cd9a7e.bindPopup(popup_8312bed8e35776fed40065957e0ac4d9)\n",
       "        ;\n",
       "\n",
       "        \n",
       "    \n",
       "    \n",
       "            var circle_2620915eaa0362883cc768dd82259e33 = L.circle(\n",
       "                [7.029112262, -73.80917902],\n",
       "                {&quot;bubblingMouseEvents&quot;: true, &quot;color&quot;: &quot;darkred&quot;, &quot;dashArray&quot;: null, &quot;dashOffset&quot;: null, &quot;fill&quot;: true, &quot;fillColor&quot;: &quot;darkred&quot;, &quot;fillOpacity&quot;: 0.1, &quot;fillRule&quot;: &quot;evenodd&quot;, &quot;lineCap&quot;: &quot;round&quot;, &quot;lineJoin&quot;: &quot;round&quot;, &quot;opacity&quot;: 1.0, &quot;radius&quot;: 237500.0, &quot;stroke&quot;: true, &quot;weight&quot;: 3}\n",
       "            ).addTo(map_feba7ec0d97c6ced6593bf580905edfc);\n",
       "        \n",
       "    \n",
       "            var marker_1def7c7f164a87310a7f7a4417220427 = L.marker(\n",
       "                [2.54214078, -72.62499302],\n",
       "                {\n",
       "}\n",
       "            ).addTo(map_feba7ec0d97c6ced6593bf580905edfc);\n",
       "        \n",
       "    \n",
       "        var popup_57f9a7b1230680bafd8f5ebb1a80413e = L.popup({\n",
       "  &quot;maxWidth&quot;: 2650,\n",
       "});\n",
       "\n",
       "        \n",
       "            \n",
       "                var html_435e4ea9febbd54364f6affaf2a6b574 = $(`&lt;div id=&quot;html_435e4ea9febbd54364f6affaf2a6b574&quot; style=&quot;width: 100.0%; height: 100.0%;&quot;&gt;&lt;table border=&quot;1&quot; class=&quot;dataframe table table-striped table-hover table-condensed table-responsive&quot;&gt;   &lt;thead&gt;     &lt;tr style=&quot;text-align: right;&quot;&gt;       &lt;th&gt;&lt;/th&gt;       &lt;th&gt;6&lt;/th&gt;     &lt;/tr&gt;   &lt;/thead&gt;   &lt;tbody&gt;     &lt;tr&gt;       &lt;th&gt;Name&lt;/th&gt;       &lt;td&gt;R7. Guaviare - 2018&lt;/td&gt;     &lt;/tr&gt;     &lt;tr&gt;       &lt;th&gt;lat&lt;/th&gt;       &lt;td&gt;2.542141&lt;/td&gt;     &lt;/tr&gt;     &lt;tr&gt;       &lt;th&gt;lon&lt;/th&gt;       &lt;td&gt;-72.624993&lt;/td&gt;     &lt;/tr&gt;   &lt;/tbody&gt; &lt;/table&gt;&lt;/div&gt;`)[0];\n",
       "                popup_57f9a7b1230680bafd8f5ebb1a80413e.setContent(html_435e4ea9febbd54364f6affaf2a6b574);\n",
       "            \n",
       "        \n",
       "\n",
       "        marker_1def7c7f164a87310a7f7a4417220427.bindPopup(popup_57f9a7b1230680bafd8f5ebb1a80413e)\n",
       "        ;\n",
       "\n",
       "        \n",
       "    \n",
       "    \n",
       "            var circle_7e59a233b41517ee9cb1af0ca4cdcd5a = L.circle(\n",
       "                [2.54214078, -72.62499302],\n",
       "                {&quot;bubblingMouseEvents&quot;: true, &quot;color&quot;: &quot;pink&quot;, &quot;dashArray&quot;: null, &quot;dashOffset&quot;: null, &quot;fill&quot;: true, &quot;fillColor&quot;: &quot;pink&quot;, &quot;fillOpacity&quot;: 0.1, &quot;fillRule&quot;: &quot;evenodd&quot;, &quot;lineCap&quot;: &quot;round&quot;, &quot;lineJoin&quot;: &quot;round&quot;, &quot;opacity&quot;: 1.0, &quot;radius&quot;: 237500.0, &quot;stroke&quot;: true, &quot;weight&quot;: 3}\n",
       "            ).addTo(map_feba7ec0d97c6ced6593bf580905edfc);\n",
       "        \n",
       "    \n",
       "            var marker_eeaf379ee9bd543005d199d9734184a1 = L.marker(\n",
       "                [2.520600151, -76.94680741],\n",
       "                {\n",
       "}\n",
       "            ).addTo(map_feba7ec0d97c6ced6593bf580905edfc);\n",
       "        \n",
       "    \n",
       "        var popup_da7ca0006a5231d1d8c7e25128caddfb = L.popup({\n",
       "  &quot;maxWidth&quot;: 2650,\n",
       "});\n",
       "\n",
       "        \n",
       "            \n",
       "                var html_aa7c5ca0f927fa98a9f7d97b9949d07f = $(`&lt;div id=&quot;html_aa7c5ca0f927fa98a9f7d97b9949d07f&quot; style=&quot;width: 100.0%; height: 100.0%;&quot;&gt;&lt;table border=&quot;1&quot; class=&quot;dataframe table table-striped table-hover table-condensed table-responsive&quot;&gt;   &lt;thead&gt;     &lt;tr style=&quot;text-align: right;&quot;&gt;       &lt;th&gt;&lt;/th&gt;       &lt;th&gt;7&lt;/th&gt;     &lt;/tr&gt;   &lt;/thead&gt;   &lt;tbody&gt;     &lt;tr&gt;       &lt;th&gt;Name&lt;/th&gt;       &lt;td&gt;R8. Munchique - 2018&lt;/td&gt;     &lt;/tr&gt;     &lt;tr&gt;       &lt;th&gt;lat&lt;/th&gt;       &lt;td&gt;2.5206&lt;/td&gt;     &lt;/tr&gt;     &lt;tr&gt;       &lt;th&gt;lon&lt;/th&gt;       &lt;td&gt;-76.946807&lt;/td&gt;     &lt;/tr&gt;   &lt;/tbody&gt; &lt;/table&gt;&lt;/div&gt;`)[0];\n",
       "                popup_da7ca0006a5231d1d8c7e25128caddfb.setContent(html_aa7c5ca0f927fa98a9f7d97b9949d07f);\n",
       "            \n",
       "        \n",
       "\n",
       "        marker_eeaf379ee9bd543005d199d9734184a1.bindPopup(popup_da7ca0006a5231d1d8c7e25128caddfb)\n",
       "        ;\n",
       "\n",
       "        \n",
       "    \n",
       "    \n",
       "            var circle_6a9a7817a704840e955bc00daa967272 = L.circle(\n",
       "                [2.520600151, -76.94680741],\n",
       "                {&quot;bubblingMouseEvents&quot;: true, &quot;color&quot;: &quot;gray&quot;, &quot;dashArray&quot;: null, &quot;dashOffset&quot;: null, &quot;fill&quot;: true, &quot;fillColor&quot;: &quot;gray&quot;, &quot;fillOpacity&quot;: 0.1, &quot;fillRule&quot;: &quot;evenodd&quot;, &quot;lineCap&quot;: &quot;round&quot;, &quot;lineJoin&quot;: &quot;round&quot;, &quot;opacity&quot;: 1.0, &quot;radius&quot;: 237500.0, &quot;stroke&quot;: true, &quot;weight&quot;: 3}\n",
       "            ).addTo(map_feba7ec0d97c6ced6593bf580905edfc);\n",
       "        \n",
       "    \n",
       "            var marker_9252ca47cd6112d00d1f9f617bc4aebb = L.marker(\n",
       "                [4.570942338, -71.33758125],\n",
       "                {\n",
       "}\n",
       "            ).addTo(map_feba7ec0d97c6ced6593bf580905edfc);\n",
       "        \n",
       "    \n",
       "        var popup_080c76cdb9f853942a3b10ccc33860e8 = L.popup({\n",
       "  &quot;maxWidth&quot;: 2650,\n",
       "});\n",
       "\n",
       "        \n",
       "            \n",
       "                var html_4a7664a8144b15a8d78269179491cad1 = $(`&lt;div id=&quot;html_4a7664a8144b15a8d78269179491cad1&quot; style=&quot;width: 100.0%; height: 100.0%;&quot;&gt;&lt;table border=&quot;1&quot; class=&quot;dataframe table table-striped table-hover table-condensed table-responsive&quot;&gt;   &lt;thead&gt;     &lt;tr style=&quot;text-align: right;&quot;&gt;       &lt;th&gt;&lt;/th&gt;       &lt;th&gt;8&lt;/th&gt;     &lt;/tr&gt;   &lt;/thead&gt;   &lt;tbody&gt;     &lt;tr&gt;       &lt;th&gt;Name&lt;/th&gt;       &lt;td&gt;R9. Carimagua - 2018&lt;/td&gt;     &lt;/tr&gt;     &lt;tr&gt;       &lt;th&gt;lat&lt;/th&gt;       &lt;td&gt;4.570942&lt;/td&gt;     &lt;/tr&gt;     &lt;tr&gt;       &lt;th&gt;lon&lt;/th&gt;       &lt;td&gt;-71.337581&lt;/td&gt;     &lt;/tr&gt;   &lt;/tbody&gt; &lt;/table&gt;&lt;/div&gt;`)[0];\n",
       "                popup_080c76cdb9f853942a3b10ccc33860e8.setContent(html_4a7664a8144b15a8d78269179491cad1);\n",
       "            \n",
       "        \n",
       "\n",
       "        marker_9252ca47cd6112d00d1f9f617bc4aebb.bindPopup(popup_080c76cdb9f853942a3b10ccc33860e8)\n",
       "        ;\n",
       "\n",
       "        \n",
       "    \n",
       "    \n",
       "            var circle_6c1f90da930f2387a2bd61638b6aa330 = L.circle(\n",
       "                [4.570942338, -71.33758125],\n",
       "                {&quot;bubblingMouseEvents&quot;: true, &quot;color&quot;: &quot;darkblue&quot;, &quot;dashArray&quot;: null, &quot;dashOffset&quot;: null, &quot;fill&quot;: true, &quot;fillColor&quot;: &quot;darkblue&quot;, &quot;fillOpacity&quot;: 0.1, &quot;fillRule&quot;: &quot;evenodd&quot;, &quot;lineCap&quot;: &quot;round&quot;, &quot;lineJoin&quot;: &quot;round&quot;, &quot;opacity&quot;: 1.0, &quot;radius&quot;: 237500.0, &quot;stroke&quot;: true, &quot;weight&quot;: 3}\n",
       "            ).addTo(map_feba7ec0d97c6ced6593bf580905edfc);\n",
       "        \n",
       "    \n",
       "            var marker_604be9e579aaf634b17674c365fcd04c = L.marker(\n",
       "                [11.52755517, -72.91792602],\n",
       "                {\n",
       "}\n",
       "            ).addTo(map_feba7ec0d97c6ced6593bf580905edfc);\n",
       "        \n",
       "    \n",
       "        var popup_a02a88853c02ec610b33c8f1d9d1ef06 = L.popup({\n",
       "  &quot;maxWidth&quot;: 2650,\n",
       "});\n",
       "\n",
       "        \n",
       "            \n",
       "                var html_3e95a6674b451b4222b070106b789a82 = $(`&lt;div id=&quot;html_3e95a6674b451b4222b070106b789a82&quot; style=&quot;width: 100.0%; height: 100.0%;&quot;&gt;&lt;table border=&quot;1&quot; class=&quot;dataframe table table-striped table-hover table-condensed table-responsive&quot;&gt;   &lt;thead&gt;     &lt;tr style=&quot;text-align: right;&quot;&gt;       &lt;th&gt;&lt;/th&gt;       &lt;th&gt;9&lt;/th&gt;     &lt;/tr&gt;   &lt;/thead&gt;   &lt;tbody&gt;     &lt;tr&gt;       &lt;th&gt;Name&lt;/th&gt;       &lt;td&gt;R10. Rioacha - 2022&lt;/td&gt;     &lt;/tr&gt;     &lt;tr&gt;       &lt;th&gt;lat&lt;/th&gt;       &lt;td&gt;11.527555&lt;/td&gt;     &lt;/tr&gt;     &lt;tr&gt;       &lt;th&gt;lon&lt;/th&gt;       &lt;td&gt;-72.917926&lt;/td&gt;     &lt;/tr&gt;   &lt;/tbody&gt; &lt;/table&gt;&lt;/div&gt;`)[0];\n",
       "                popup_a02a88853c02ec610b33c8f1d9d1ef06.setContent(html_3e95a6674b451b4222b070106b789a82);\n",
       "            \n",
       "        \n",
       "\n",
       "        marker_604be9e579aaf634b17674c365fcd04c.bindPopup(popup_a02a88853c02ec610b33c8f1d9d1ef06)\n",
       "        ;\n",
       "\n",
       "        \n",
       "    \n",
       "    \n",
       "            var circle_d0e81ae1cddcac18d7c6e34c3c8c301c = L.circle(\n",
       "                [11.52755517, -72.91792602],\n",
       "                {&quot;bubblingMouseEvents&quot;: true, &quot;color&quot;: &quot;indigo&quot;, &quot;dashArray&quot;: null, &quot;dashOffset&quot;: null, &quot;fill&quot;: true, &quot;fillColor&quot;: &quot;indigo&quot;, &quot;fillOpacity&quot;: 0.1, &quot;fillRule&quot;: &quot;evenodd&quot;, &quot;lineCap&quot;: &quot;round&quot;, &quot;lineJoin&quot;: &quot;round&quot;, &quot;opacity&quot;: 1.0, &quot;radius&quot;: 237500.0, &quot;stroke&quot;: true, &quot;weight&quot;: 3}\n",
       "            ).addTo(map_feba7ec0d97c6ced6593bf580905edfc);\n",
       "        \n",
       "    \n",
       "            var marker_1ae34b2ade3f7825b92e95bdb695acab = L.marker(\n",
       "                [8.035046708, -72.45999669],\n",
       "                {\n",
       "}\n",
       "            ).addTo(map_feba7ec0d97c6ced6593bf580905edfc);\n",
       "        \n",
       "    \n",
       "        var popup_de18e1aef64b43d1347a8cb8fe24cb6b = L.popup({\n",
       "  &quot;maxWidth&quot;: 2650,\n",
       "});\n",
       "\n",
       "        \n",
       "            \n",
       "                var html_6437ceb5b747880a48d3b22bd0c81492 = $(`&lt;div id=&quot;html_6437ceb5b747880a48d3b22bd0c81492&quot; style=&quot;width: 100.0%; height: 100.0%;&quot;&gt;&lt;table border=&quot;1&quot; class=&quot;dataframe table table-striped table-hover table-condensed table-responsive&quot;&gt;   &lt;thead&gt;     &lt;tr style=&quot;text-align: right;&quot;&gt;       &lt;th&gt;&lt;/th&gt;       &lt;th&gt;10&lt;/th&gt;     &lt;/tr&gt;   &lt;/thead&gt;   &lt;tbody&gt;     &lt;tr&gt;       &lt;th&gt;Name&lt;/th&gt;       &lt;td&gt;R11. Tasajero - 2022&lt;/td&gt;     &lt;/tr&gt;     &lt;tr&gt;       &lt;th&gt;lat&lt;/th&gt;       &lt;td&gt;8.035047&lt;/td&gt;     &lt;/tr&gt;     &lt;tr&gt;       &lt;th&gt;lon&lt;/th&gt;       &lt;td&gt;-72.459997&lt;/td&gt;     &lt;/tr&gt;   &lt;/tbody&gt; &lt;/table&gt;&lt;/div&gt;`)[0];\n",
       "                popup_de18e1aef64b43d1347a8cb8fe24cb6b.setContent(html_6437ceb5b747880a48d3b22bd0c81492);\n",
       "            \n",
       "        \n",
       "\n",
       "        marker_1ae34b2ade3f7825b92e95bdb695acab.bindPopup(popup_de18e1aef64b43d1347a8cb8fe24cb6b)\n",
       "        ;\n",
       "\n",
       "        \n",
       "    \n",
       "    \n",
       "            var circle_4d87ec1439a696d5d7b9d0de11a64076 = L.circle(\n",
       "                [8.035046708, -72.45999669],\n",
       "                {&quot;bubblingMouseEvents&quot;: true, &quot;color&quot;: &quot;mediumblue&quot;, &quot;dashArray&quot;: null, &quot;dashOffset&quot;: null, &quot;fill&quot;: true, &quot;fillColor&quot;: &quot;mediumblue&quot;, &quot;fillOpacity&quot;: 0.1, &quot;fillRule&quot;: &quot;evenodd&quot;, &quot;lineCap&quot;: &quot;round&quot;, &quot;lineJoin&quot;: &quot;round&quot;, &quot;opacity&quot;: 1.0, &quot;radius&quot;: 237500.0, &quot;stroke&quot;: true, &quot;weight&quot;: 3}\n",
       "            ).addTo(map_feba7ec0d97c6ced6593bf580905edfc);\n",
       "        \n",
       "    \n",
       "            var marker_f503abf80543ab8290f0528da6ef89ea = L.marker(\n",
       "                [5.697385822, -76.65070566],\n",
       "                {\n",
       "}\n",
       "            ).addTo(map_feba7ec0d97c6ced6593bf580905edfc);\n",
       "        \n",
       "    \n",
       "        var popup_10bf5994fffa4777df9491f0746feb11 = L.popup({\n",
       "  &quot;maxWidth&quot;: 2650,\n",
       "});\n",
       "\n",
       "        \n",
       "            \n",
       "                var html_275c18e85b863a01dee5192d3d5fe753 = $(`&lt;div id=&quot;html_275c18e85b863a01dee5192d3d5fe753&quot; style=&quot;width: 100.0%; height: 100.0%;&quot;&gt;&lt;table border=&quot;1&quot; class=&quot;dataframe table table-striped table-hover table-condensed table-responsive&quot;&gt;   &lt;thead&gt;     &lt;tr style=&quot;text-align: right;&quot;&gt;       &lt;th&gt;&lt;/th&gt;       &lt;th&gt;11&lt;/th&gt;     &lt;/tr&gt;   &lt;/thead&gt;   &lt;tbody&gt;     &lt;tr&gt;       &lt;th&gt;Name&lt;/th&gt;       &lt;td&gt;R12. Quibdó - 2022&lt;/td&gt;     &lt;/tr&gt;     &lt;tr&gt;       &lt;th&gt;lat&lt;/th&gt;       &lt;td&gt;5.697386&lt;/td&gt;     &lt;/tr&gt;     &lt;tr&gt;       &lt;th&gt;lon&lt;/th&gt;       &lt;td&gt;-76.650706&lt;/td&gt;     &lt;/tr&gt;   &lt;/tbody&gt; &lt;/table&gt;&lt;/div&gt;`)[0];\n",
       "                popup_10bf5994fffa4777df9491f0746feb11.setContent(html_275c18e85b863a01dee5192d3d5fe753);\n",
       "            \n",
       "        \n",
       "\n",
       "        marker_f503abf80543ab8290f0528da6ef89ea.bindPopup(popup_10bf5994fffa4777df9491f0746feb11)\n",
       "        ;\n",
       "\n",
       "        \n",
       "    \n",
       "    \n",
       "            var circle_240376e621e58da80f57ec710b0a2c6a = L.circle(\n",
       "                [5.697385822, -76.65070566],\n",
       "                {&quot;bubblingMouseEvents&quot;: true, &quot;color&quot;: &quot;lime&quot;, &quot;dashArray&quot;: null, &quot;dashOffset&quot;: null, &quot;fill&quot;: true, &quot;fillColor&quot;: &quot;lime&quot;, &quot;fillOpacity&quot;: 0.1, &quot;fillRule&quot;: &quot;evenodd&quot;, &quot;lineCap&quot;: &quot;round&quot;, &quot;lineJoin&quot;: &quot;round&quot;, &quot;opacity&quot;: 1.0, &quot;radius&quot;: 237500.0, &quot;stroke&quot;: true, &quot;weight&quot;: 3}\n",
       "            ).addTo(map_feba7ec0d97c6ced6593bf580905edfc);\n",
       "        \n",
       "&lt;/script&gt;\n",
       "&lt;/html&gt;\" style=\"position:absolute;width:100%;height:100%;left:0;top:0;border:none !important;\" allowfullscreen webkitallowfullscreen mozallowfullscreen></iframe></div></div>"
      ],
      "text/plain": [
       "<folium.folium.Map at 0x7229e9f3b0e0>"
      ]
     },
     "execution_count": 7,
     "metadata": {},
     "output_type": "execute_result"
    }
   ],
   "source": [
    "df_radares.apply(locate_radar, axis=1)\n",
    "map_"
   ]
  },
  {
   "cell_type": "markdown",
   "metadata": {},
   "source": [
    "#### 2.2 Radares meteorológicos del IDEAM disponibles en [AWS](https://registry.opendata.aws/ideam-radares/)\n",
    "\n",
    "El Instituto de Hidrología, Meteorología y Estudios Ambientales - IDEAM ha dispuesto de manera pública los datos del radar meteorológico. "
   ]
  },
  {
   "cell_type": "markdown",
   "metadata": {},
   "source": [
    "La estructura del bucket es **s3://s3-radaresideam/l2_data/YYYY/MM/DD/Radar_name/RRRAAMMDDTTTTTT.RAWXXXX** dónde: \n",
    "\n",
    "* **YYYY** es el año de 4 dígitos\n",
    "* **MM** es el mes de 2 dígitos\n",
    "* **DD** es el mes de 2 dígitos día\n",
    "* **Radar_name** nombre del radar. Las opciones son Guaviare, Munchique, Barrancabermja y Carimagua\n",
    "* **RRRAAMMDDTTTTTT** es el nombre del archivo del radar con lo siguiente:\n",
    "  - **RRR** las tres primeras letras del nombre del radar (p. ej., GUA para el radar Guaviare)\n",
    "  - **YY** es el año de 2 dígitos\n",
    "  - **MM** es el mes de 2 dígitos\n",
    "  - **DD** es el día de 2 dígitos\n",
    "  - **TTTTTT** es la hora en la que se realizó el escaneo (GTM)\n",
    "  - **RAWXXXX** Formato de archivo Sigmet y código único proporcionado por el software IRIS\n",
    "\n",
    "Veamos un ejemplo de cómo luce el repositorio usando AWS cli y el siguiente commando en la terminal ```aws s3 ls --no-sign-request s3://s3-radaresideam/```"
   ]
  },
  {
   "cell_type": "code",
   "execution_count": 8,
   "metadata": {},
   "outputs": [
    {
     "name": "stdout",
     "output_type": "stream",
     "text": [
      "                           PRE Guaviare/\n",
      "                           PRE Munchique/\n"
     ]
    }
   ],
   "source": [
    "!aws s3 ls --no-sign-request s3://s3-radaresideam/l2_data/2021/09/19/"
   ]
  },
  {
   "cell_type": "markdown",
   "metadata": {},
   "source": [
    "## 3. Acceso a los datos de radar usando Python\n",
    "\n",
    "Podemos acceder a los datos de radar usando `Python` y librerías como `Py-Art` o `Xradar`. Para leer los datos de radar primero necesitamos generar una conexión entre el repositorio de datos `s3` de Amazon y nuestro computador. Esto lo podemos lograr mediante la librería [`boto3`](https://aws.amazon.com/es/sdk-for-python/)"
   ]
  },
  {
   "cell_type": "markdown",
   "metadata": {},
   "source": [
    "Esta forma es un poco complicada. Podemos utilizar [`fsspec`](https://filesystem-spec.readthedocs.io/en/latest/) que permite hacer un \"montaje\" del bucket en nuestro computador y es mucho más simplificado. "
   ]
  },
  {
   "cell_type": "code",
   "execution_count": 11,
   "metadata": {},
   "outputs": [
    {
     "ename": "ImportError",
     "evalue": "Install s3fs to access S3",
     "output_type": "error",
     "traceback": [
      "\u001b[31m---------------------------------------------------------------------------\u001b[39m",
      "\u001b[31mModuleNotFoundError\u001b[39m                       Traceback (most recent call last)",
      "\u001b[36mFile \u001b[39m\u001b[32m~/mambaforge/envs/cdh-python/lib/python3.13/site-packages/fsspec/registry.py:249\u001b[39m, in \u001b[36mget_filesystem_class\u001b[39m\u001b[34m(protocol)\u001b[39m\n\u001b[32m    248\u001b[39m \u001b[38;5;28;01mtry\u001b[39;00m:\n\u001b[32m--> \u001b[39m\u001b[32m249\u001b[39m     register_implementation(protocol, \u001b[43m_import_class\u001b[49m\u001b[43m(\u001b[49m\u001b[43mbit\u001b[49m\u001b[43m[\u001b[49m\u001b[33;43m\"\u001b[39;49m\u001b[33;43mclass\u001b[39;49m\u001b[33;43m\"\u001b[39;49m\u001b[43m]\u001b[49m\u001b[43m)\u001b[49m)\n\u001b[32m    250\u001b[39m \u001b[38;5;28;01mexcept\u001b[39;00m \u001b[38;5;167;01mImportError\u001b[39;00m \u001b[38;5;28;01mas\u001b[39;00m e:\n",
      "\u001b[36mFile \u001b[39m\u001b[32m~/mambaforge/envs/cdh-python/lib/python3.13/site-packages/fsspec/registry.py:284\u001b[39m, in \u001b[36m_import_class\u001b[39m\u001b[34m(fqp)\u001b[39m\n\u001b[32m    283\u001b[39m is_s3 = mod == \u001b[33m\"\u001b[39m\u001b[33ms3fs\u001b[39m\u001b[33m\"\u001b[39m\n\u001b[32m--> \u001b[39m\u001b[32m284\u001b[39m mod = \u001b[43mimportlib\u001b[49m\u001b[43m.\u001b[49m\u001b[43mimport_module\u001b[49m\u001b[43m(\u001b[49m\u001b[43mmod\u001b[49m\u001b[43m)\u001b[49m\n\u001b[32m    285\u001b[39m \u001b[38;5;28;01mif\u001b[39;00m is_s3 \u001b[38;5;129;01mand\u001b[39;00m mod.__version__.split(\u001b[33m\"\u001b[39m\u001b[33m.\u001b[39m\u001b[33m\"\u001b[39m) < [\u001b[33m\"\u001b[39m\u001b[33m0\u001b[39m\u001b[33m\"\u001b[39m, \u001b[33m\"\u001b[39m\u001b[33m5\u001b[39m\u001b[33m\"\u001b[39m]:\n",
      "\u001b[36mFile \u001b[39m\u001b[32m~/mambaforge/envs/cdh-python/lib/python3.13/importlib/__init__.py:88\u001b[39m, in \u001b[36mimport_module\u001b[39m\u001b[34m(name, package)\u001b[39m\n\u001b[32m     87\u001b[39m         level += \u001b[32m1\u001b[39m\n\u001b[32m---> \u001b[39m\u001b[32m88\u001b[39m \u001b[38;5;28;01mreturn\u001b[39;00m \u001b[43m_bootstrap\u001b[49m\u001b[43m.\u001b[49m\u001b[43m_gcd_import\u001b[49m\u001b[43m(\u001b[49m\u001b[43mname\u001b[49m\u001b[43m[\u001b[49m\u001b[43mlevel\u001b[49m\u001b[43m:\u001b[49m\u001b[43m]\u001b[49m\u001b[43m,\u001b[49m\u001b[43m \u001b[49m\u001b[43mpackage\u001b[49m\u001b[43m,\u001b[49m\u001b[43m \u001b[49m\u001b[43mlevel\u001b[49m\u001b[43m)\u001b[49m\n",
      "\u001b[36mFile \u001b[39m\u001b[32m<frozen importlib._bootstrap>:1387\u001b[39m, in \u001b[36m_gcd_import\u001b[39m\u001b[34m(name, package, level)\u001b[39m\n",
      "\u001b[36mFile \u001b[39m\u001b[32m<frozen importlib._bootstrap>:1360\u001b[39m, in \u001b[36m_find_and_load\u001b[39m\u001b[34m(name, import_)\u001b[39m\n",
      "\u001b[36mFile \u001b[39m\u001b[32m<frozen importlib._bootstrap>:1324\u001b[39m, in \u001b[36m_find_and_load_unlocked\u001b[39m\u001b[34m(name, import_)\u001b[39m\n",
      "\u001b[31mModuleNotFoundError\u001b[39m: No module named 's3fs'",
      "\nThe above exception was the direct cause of the following exception:\n",
      "\u001b[31mImportError\u001b[39m                               Traceback (most recent call last)",
      "\u001b[36mCell\u001b[39m\u001b[36m \u001b[39m\u001b[32mIn[11]\u001b[39m\u001b[32m, line 1\u001b[39m\n\u001b[32m----> \u001b[39m\u001b[32m1\u001b[39m fs = \u001b[43mfsspec\u001b[49m\u001b[43m.\u001b[49m\u001b[43mfilesystem\u001b[49m\u001b[43m(\u001b[49m\u001b[33;43m\"\u001b[39;49m\u001b[33;43ms3\u001b[39;49m\u001b[33;43m\"\u001b[39;49m\u001b[43m,\u001b[49m\u001b[43m \u001b[49m\u001b[43manon\u001b[49m\u001b[43m=\u001b[49m\u001b[38;5;28;43;01mTrue\u001b[39;49;00m\u001b[43m)\u001b[49m\n\u001b[32m      2\u001b[39m files = \u001b[38;5;28msorted\u001b[39m(fs.glob(\u001b[33m\"\u001b[39m\u001b[33ms3-radaresideam/l2_data/2022/08/09/Carimagua/CAR22080919*\u001b[39m\u001b[33m\"\u001b[39m))\n\u001b[32m      3\u001b[39m files[:\u001b[32m5\u001b[39m]\n",
      "\u001b[36mFile \u001b[39m\u001b[32m~/mambaforge/envs/cdh-python/lib/python3.13/site-packages/fsspec/registry.py:309\u001b[39m, in \u001b[36mfilesystem\u001b[39m\u001b[34m(protocol, **storage_options)\u001b[39m\n\u001b[32m    302\u001b[39m \u001b[38;5;28;01mif\u001b[39;00m protocol == \u001b[33m\"\u001b[39m\u001b[33marrow_hdfs\u001b[39m\u001b[33m\"\u001b[39m:\n\u001b[32m    303\u001b[39m     warnings.warn(\n\u001b[32m    304\u001b[39m         \u001b[33m\"\u001b[39m\u001b[33mThe \u001b[39m\u001b[33m'\u001b[39m\u001b[33marrow_hdfs\u001b[39m\u001b[33m'\u001b[39m\u001b[33m protocol has been deprecated and will be \u001b[39m\u001b[33m\"\u001b[39m\n\u001b[32m    305\u001b[39m         \u001b[33m\"\u001b[39m\u001b[33mremoved in the future. Specify it as \u001b[39m\u001b[33m'\u001b[39m\u001b[33mhdfs\u001b[39m\u001b[33m'\u001b[39m\u001b[33m.\u001b[39m\u001b[33m\"\u001b[39m,\n\u001b[32m    306\u001b[39m         \u001b[38;5;167;01mDeprecationWarning\u001b[39;00m,\n\u001b[32m    307\u001b[39m     )\n\u001b[32m--> \u001b[39m\u001b[32m309\u001b[39m \u001b[38;5;28mcls\u001b[39m = \u001b[43mget_filesystem_class\u001b[49m\u001b[43m(\u001b[49m\u001b[43mprotocol\u001b[49m\u001b[43m)\u001b[49m\n\u001b[32m    310\u001b[39m \u001b[38;5;28;01mreturn\u001b[39;00m \u001b[38;5;28mcls\u001b[39m(**storage_options)\n",
      "\u001b[36mFile \u001b[39m\u001b[32m~/mambaforge/envs/cdh-python/lib/python3.13/site-packages/fsspec/registry.py:251\u001b[39m, in \u001b[36mget_filesystem_class\u001b[39m\u001b[34m(protocol)\u001b[39m\n\u001b[32m    249\u001b[39m         register_implementation(protocol, _import_class(bit[\u001b[33m\"\u001b[39m\u001b[33mclass\u001b[39m\u001b[33m\"\u001b[39m]))\n\u001b[32m    250\u001b[39m     \u001b[38;5;28;01mexcept\u001b[39;00m \u001b[38;5;167;01mImportError\u001b[39;00m \u001b[38;5;28;01mas\u001b[39;00m e:\n\u001b[32m--> \u001b[39m\u001b[32m251\u001b[39m         \u001b[38;5;28;01mraise\u001b[39;00m \u001b[38;5;167;01mImportError\u001b[39;00m(bit.get(\u001b[33m\"\u001b[39m\u001b[33merr\u001b[39m\u001b[33m\"\u001b[39m)) \u001b[38;5;28;01mfrom\u001b[39;00m\u001b[38;5;250m \u001b[39m\u001b[34;01me\u001b[39;00m\n\u001b[32m    252\u001b[39m \u001b[38;5;28mcls\u001b[39m = registry[protocol]\n\u001b[32m    253\u001b[39m \u001b[38;5;28;01mif\u001b[39;00m \u001b[38;5;28mgetattr\u001b[39m(\u001b[38;5;28mcls\u001b[39m, \u001b[33m\"\u001b[39m\u001b[33mprotocol\u001b[39m\u001b[33m\"\u001b[39m, \u001b[38;5;28;01mNone\u001b[39;00m) \u001b[38;5;129;01min\u001b[39;00m (\u001b[33m\"\u001b[39m\u001b[33mabstract\u001b[39m\u001b[33m\"\u001b[39m, \u001b[38;5;28;01mNone\u001b[39;00m):\n",
      "\u001b[31mImportError\u001b[39m: Install s3fs to access S3"
     ]
    }
   ],
   "source": [
    "fs = fsspec.filesystem(\"s3\", anon=True)\n",
    "files = sorted(fs.glob(\"s3-radaresideam/l2_data/2022/08/09/Carimagua/CAR22080919*\"))\n",
    "files[:5]"
   ]
  },
  {
   "cell_type": "markdown",
   "metadata": {},
   "source": [
    "Una vez que tengamos nuestros archivos de interés, podemos cargar uno en memoria usando `Xradar` o `Py-Art`. Por ejemplo, estamos interesados ​​en el octavo archivo (`index=7`).\n"
   ]
  },
  {
   "cell_type": "markdown",
   "metadata": {},
   "source": [
    "### 3.1 Lectura de datos usando [`Xradar`](https://docs.openradarscience.org/projects/xradar/en/latest/index.html)\n",
    "\n",
    "Los datos de radar de IDEAM también se puden leer usando [`xradar.io.open_iris_datatree`](https://docs.openradarscience.org/projects/xradar/en/stable/generated/xradar.io.backends.iris.open_iris_datatree.html#xradar.io.backends.iris.open_iris_datatree). Esta librería, a diferencia de `Py-Art` usa como base [`Xarray`](https://docs.xarray.dev/en/stable/) retornando un [`xarray.Dataset`](https://docs.xarray.dev/en/stable/generated/xarray.Dataset.html) en caso de seleccionar un barrido en particular o un [`xarray.datatree`](https://xarray-datatree.readthedocs.io/en/latest/)  en caso de leer todas las elevaciones contenidas dentro del mismo archivo."
   ]
  },
  {
   "cell_type": "code",
   "execution_count": null,
   "metadata": {},
   "outputs": [],
   "source": [
    "# preparamos un archivo para abrir de manera local\n",
    "task_file = fsspec.open_local(\n",
    "    f\"simplecache::s3://{files[7]}\", s3={\"anon\": True}, filecache={\"cache_storage\": \".\"}\n",
    ")"
   ]
  },
  {
   "cell_type": "code",
   "execution_count": null,
   "metadata": {
    "scrolled": true
   },
   "outputs": [],
   "source": [
    "# leemos nuestro archivo usando xradar\n",
    "radar = xd.io.open_iris_datatree(task_file)\n",
    "display(radar)"
   ]
  },
  {
   "cell_type": "markdown",
   "metadata": {},
   "source": [
    "Este `datatree` solo contine una elevación. Podemos acceder usando notación similar a la de un diccionario"
   ]
  },
  {
   "cell_type": "code",
   "execution_count": null,
   "metadata": {},
   "outputs": [],
   "source": [
    "display(radar[\"sweep_0\"])"
   ]
  },
  {
   "cell_type": "markdown",
   "metadata": {},
   "source": [
    "### 3.2 Gráfico de reflectividad\n",
    "\n",
    "Podemos usar la funcionalidad [`xarray.plot`](https://docs.xarray.dev/en/latest/user-guide/plotting.html) que se encuentra incorporada en `xarray`. "
   ]
  },
  {
   "cell_type": "code",
   "execution_count": null,
   "metadata": {},
   "outputs": [],
   "source": [
    "radar[\"sweep_0\"][\"DBZH\"].plot(cmap=\"ChaseSpectral\", vmin=-10, vmax=60)"
   ]
  },
  {
   "cell_type": "markdown",
   "metadata": {},
   "source": [
    "Como podemos observar en el gráfico anterior los datos se encuentran ordenados por las dimensiones y coordenadas `azimuth` y `range`. Podemos usar la `xr.georeference` para generar las coordenadas polares a nuestro `dataset`"
   ]
  },
  {
   "cell_type": "code",
   "execution_count": null,
   "metadata": {},
   "outputs": [],
   "source": [
    "radar = radar.xradar.georeference()\n",
    "display(radar[\"sweep_0\"])"
   ]
  },
  {
   "cell_type": "markdown",
   "metadata": {},
   "source": [
    "Como podemos ver `x`, `y` y `z` fueron agregados como nuevos campos de coordenadas. Ahora podemos proceder a generar el gráfico pero esta vez de manera georeferenciada"
   ]
  },
  {
   "cell_type": "code",
   "execution_count": null,
   "metadata": {},
   "outputs": [],
   "source": [
    "radar[\"sweep_0\"][\"DBZH\"].plot(x=\"x\", y=\"y\", cmap=\"ChaseSpectral\", vmin=-10, vmax=60)"
   ]
  },
  {
   "cell_type": "markdown",
   "metadata": {},
   "source": [
    "Para generar gráficas de radar en un sistema coordenado de referencia podemos usar `cartopy`. Extraemos el sistema de referencia desde el objeto radar usando `xd.georeference.get_crs`"
   ]
  },
  {
   "cell_type": "code",
   "execution_count": null,
   "metadata": {},
   "outputs": [],
   "source": [
    "proj_crs = xd.georeference.get_crs(radar[\"sweep_0\"].ds)\n",
    "cart_crs = ccrs.Projection(proj_crs)"
   ]
  },
  {
   "cell_type": "markdown",
   "metadata": {
    "scrolled": true
   },
   "source": [
    "Ahora sí procedemos a generar el gráfico de reflectividad en un sistema coordenado de referencia"
   ]
  },
  {
   "cell_type": "code",
   "execution_count": null,
   "metadata": {},
   "outputs": [],
   "source": [
    "fig = plt.figure(figsize=(7, 7))\n",
    "ax = fig.add_subplot(111, projection=ccrs.PlateCarree())\n",
    "radar[\"sweep_0\"][\"DBZH\"].plot(\n",
    "    x=\"x\",\n",
    "    y=\"y\",\n",
    "    cmap=\"ChaseSpectral\",\n",
    "    transform=cart_crs,\n",
    "    cbar_kwargs=dict(pad=0.075, shrink=0.75),\n",
    "    vmin=-10,\n",
    "    vmax=60,\n",
    ")\n",
    "ax.coastlines()\n",
    "ax.gridlines(draw_labels=True, ls=\"--\", lw=0.5)"
   ]
  },
  {
   "cell_type": "markdown",
   "metadata": {},
   "source": [
    "### 3.3 Gráficos interactivos usando [`hvplot`](https://hvplot.holoviz.org/)\n",
    "\n",
    "Los gráficos estáticos pueden ser usados principalmente para publicaciones donde la interactividad no es necesaria. Sin embargo, en cursos como el taller de programación de AtmosCol 2023 podemos utilizar las ventajas de la interactividad para aprovechar mejor la información disponible. "
   ]
  },
  {
   "cell_type": "code",
   "execution_count": null,
   "metadata": {},
   "outputs": [],
   "source": [
    "import hvplot.xarray"
   ]
  },
  {
   "cell_type": "code",
   "execution_count": null,
   "metadata": {},
   "outputs": [],
   "source": [
    "ref = radar[\"sweep_0\"].DBZH.hvplot.quadmesh(\n",
    "    x=\"x\",\n",
    "    y=\"y\",\n",
    "    cmap=\"ChaseSpectral\",\n",
    "    clabel=\"Horizontal Reflectivity (dBZ)\",\n",
    "    title=f'Horizontal Reflectivity \\n {radar.attrs[\"instrument_name\"]} Radar',\n",
    "    clim=(-20, 60),\n",
    "    height=500,\n",
    "    rasterize=True,\n",
    "    width=600,\n",
    ")\n",
    "ref"
   ]
  },
  {
   "cell_type": "markdown",
   "metadata": {},
   "source": [
    "Ahora podemos interacturar con más de un plot a la vez"
   ]
  },
  {
   "cell_type": "code",
   "execution_count": null,
   "metadata": {},
   "outputs": [],
   "source": [
    "zdr = radar[\"sweep_0\"].ZDR.hvplot.quadmesh(\n",
    "    x=\"x\",\n",
    "    y=\"y\",\n",
    "    cmap=\"jet\",\n",
    "    clabel=\"Differential Reflectivity (dB)\",\n",
    "    title=f'Horizontal Reflectivity \\n {radar.attrs[\"instrument_name\"]} Radar',\n",
    "    clim=(-1, 6),\n",
    "    height=500,\n",
    "    rasterize=True,\n",
    "    width=600,\n",
    ")"
   ]
  },
  {
   "cell_type": "code",
   "execution_count": null,
   "metadata": {},
   "outputs": [],
   "source": [
    "(ref + zdr).cols(1)"
   ]
  },
  {
   "cell_type": "markdown",
   "metadata": {},
   "source": [
    "## 4. Estimados de lluvia utilizando la ecuación de [Marshall and Gunn (1953)](https://www.sciencedirect.com/science/article/abs/pii/S0065268708603106?via%3Dihub)\n",
    "\n",
    "Uno de los productos de mayor interés para la comunidad científica, y en general para todos los usuarios de la información de radares meteorológicos, es la **estimación de lluvia**. Desde **1948** los científicos han tratado de convertir las mediciones de **reflectividad ($Z$)** en mediciones de **intensidad de precipitación ($R$)**. Para esto se han desarrollado múltiples ecuaciones empíricas **$Z-R$**. En 1953, Marshall and Gunn encontraron una de las relaciones más comunes e incluso utilizadas en la actualidad, que sigue la forma:\n",
    "\n",
    "$$Z  = 200 R ^{1.6}$$\n",
    "\n",
    "Despejando para R tenemos:\n",
    "\n",
    "$$R[mm hr^{-1}] = \\left[ \\frac{Z[mm^{6} mm^{-3}]}{200} \\right] ^ {\\frac{1}{1.6}}$$\n",
    "\n",
    "$$R[mm hr^{-1}] = \\left( \\frac{1}{200} \\right) ^ {\\frac{1}{1.6}} \\left( Z[mm^{6} mm^{-3}] \\right) ^ {\\frac{1}{1.6}}$$"
   ]
  },
  {
   "cell_type": "markdown",
   "metadata": {},
   "source": [
    "<div class=\"admonition alert alert-warning\">\n",
    "    <p class=\"admonition-title\" style=\"font-weight:bold\">Cuidado!!!</p>\n",
    "    La reflectividad del radar esta dada en unidades decibélicas es decir\n",
    "    <br>$Z [dBZ] = 10 * log_{10}(Z[mm^{6}m^{3}])$\n",
    "    <br>Por lo tanto debemos convertir a unidades lineales\n",
    "    <br>$Z[mm^{6}m^{3}] = 10 ^{\\left(\\frac{Z[dBZ]}{10}\\right)}$\n",
    "</div>"
   ]
  },
  {
   "cell_type": "code",
   "execution_count": null,
   "metadata": {
    "jp-MarkdownHeadingCollapsed": true
   },
   "outputs": [],
   "source": [
    "# Reflectividad en unidades decibelicas\n",
    "ref_log = radar[\"sweep_0\"].DBZH\n",
    "# Reflectividad en unidades lineales\n",
    "ref_lin = 10 ** (ref_log / 10)\n",
    "# Estimado de lluvia usando Marshall and Gunn (1953)\n",
    "rr = (1 / 200) ** (1 / 1.6) * ref_lin ** (1 / 1.6)"
   ]
  },
  {
   "cell_type": "markdown",
   "metadata": {},
   "source": [
    "Ahora podemos visualizar el campo de lluvia generado"
   ]
  },
  {
   "cell_type": "code",
   "execution_count": null,
   "metadata": {},
   "outputs": [],
   "source": [
    "fig = plt.figure(figsize=(7, 7))\n",
    "ax = fig.add_subplot(111, projection=ccrs.PlateCarree())\n",
    "rr.plot(\n",
    "    x=\"x\",\n",
    "    y=\"y\",\n",
    "    cmap=\"jet\",\n",
    "    transform=cart_crs,\n",
    "    cbar_kwargs=dict(\n",
    "        pad=0.075, shrink=0.75, label=r\"$Intensidad \\ de \\ lluvia \\ [mm hr^{-1}]$\"\n",
    "    ),\n",
    "    vmin=0,\n",
    "    vmax=50,\n",
    ")\n",
    "ax.set_title(r\"$Estimado \\ de \\ lluvia$\")\n",
    "ax.coastlines()\n",
    "ax.gridlines(draw_labels=True, ls=\"--\", lw=0.5)"
   ]
  },
  {
   "cell_type": "markdown",
   "metadata": {},
   "source": [
    "---"
   ]
  },
  {
   "cell_type": "markdown",
   "metadata": {},
   "source": [
    "## Conclusiones\n",
    "\n",
    "En este cuadernillo aprendimos sobre la red nacional de radares meteorológicos de Colombia. Logramos acceder a los datos del repositorio de AWS usando Python. Utilizamos Py-Art y Xradar para acceder, visualizar los datos de manera intectiva usando hvplot y generar estimados de precipitación utilzando la ecuación de Marshall and Gunn (1953)."
   ]
  },
  {
   "cell_type": "markdown",
   "metadata": {},
   "source": [
    "## Resources and references\n",
    "\n",
    "* Radar Cookbook [https://projectpythia.org/radar-cookbook/README.html] DOI[https://doi.org/10.5281/zenodo.8075855]\n",
    "* Rose, B. E. J., Kent, J., Tyle, K., Clyne, J., Banihirwe, A., Camron, D., May, R., Grover, M., Ford, R. R., Paul, K., Morley, J., Eroglu, O., Kailyn, L., & Zacharias, A. (2023). Pythia Foundations (Version v2023.05.01) https://doi.org/10.5281/zenodo.7884572\n",
    "* Marshall, J. S., and W. M. K. Palmer, 1948: THE DISTRIBUTION OF RAINDROPS WITH SIZE. J. Atmos. Sci., 5, 165–166, https://doi.org/10.1175/1520-0469(1948)005<0165:TDORWS>2.0.CO;2.\n",
    "* Helmus, J.J. & Collis, S.M., (2016). The Python ARM Radar Toolkit (Py-ART), a Library for Working with Weather Radar Data in the Python Programming Language. Journal of Open Research Software. 4(1), p.e25. DOI: http://doi.org/10.5334/jors.119\n",
    "* Xradar Python library [https://docs.openradarscience.org/projects/xradar/en/stable/#] DOI[https://docs.openradarscience.org/projects/xradar/en/stable/#]"
   ]
  }
 ],
 "metadata": {
  "kernelspec": {
   "display_name": "Python 3 (ipykernel)",
   "language": "python",
   "name": "python3"
  },
  "language_info": {
   "codemirror_mode": {
    "name": "ipython",
    "version": 3
   },
   "file_extension": ".py",
   "mimetype": "text/x-python",
   "name": "python",
   "nbconvert_exporter": "python",
   "pygments_lexer": "ipython3",
   "version": "3.13.3"
  },
  "nbdime-conflicts": {
   "local_diff": [
    {
     "diff": [
      {
       "diff": [
        {
         "key": 0,
         "op": "addrange",
         "valuelist": [
          "Python 3"
         ]
        },
        {
         "key": 0,
         "length": 1,
         "op": "removerange"
        }
       ],
       "key": "display_name",
       "op": "patch"
      }
     ],
     "key": "kernelspec",
     "op": "patch"
    }
   ],
   "remote_diff": [
    {
     "diff": [
      {
       "diff": [
        {
         "key": 0,
         "op": "addrange",
         "valuelist": [
          "Python3"
         ]
        },
        {
         "key": 0,
         "length": 1,
         "op": "removerange"
        }
       ],
       "key": "display_name",
       "op": "patch"
      }
     ],
     "key": "kernelspec",
     "op": "patch"
    }
   ]
  },
  "toc-autonumbering": false
 },
 "nbformat": 4,
 "nbformat_minor": 4
}
