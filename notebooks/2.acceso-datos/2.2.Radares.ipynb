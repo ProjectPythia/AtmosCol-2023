{
 "cells": [
  {
   "cell_type": "markdown",
   "metadata": {},
   "source": [
    " <img src=\"../images/attenuation.gif\" width=500 alt=\"radar-gif\"></img>"
   ]
  },
  {
   "cell_type": "markdown",
   "metadata": {},
   "source": [
    "# Radares Meteorológicos"
   ]
  },
  {
   "cell_type": "markdown",
   "metadata": {},
   "source": [
    "---"
   ]
  },
  {
   "cell_type": "markdown",
   "metadata": {},
   "source": [
    "## Resumen\n",
    "En este cuadernillo (Notebook) aprenderemos:\n",
    "\n",
    "1. Breve introducción a los radares meterológicos\n",
    "2. Red de Nacional de radares meteorológicos de Colombia\n",
    "4. Consulta de datos usando el bucket de AWS de [radares](https://registry.opendata.aws/ideam-radares/) \n",
    "1. Generación de gráficas de reflectividad\n",
    "1. Generación de campos de lluvia usando la ecuación de Marshall & Gunn (1953)"
   ]
  },
  {
   "cell_type": "markdown",
   "metadata": {},
   "source": [
    "## Prerequisitos\n",
    "| Conceptos | Importancia | Notas |\n",
    "| --- | --- | --- |\n",
    "| [Introducción a Xarray](https://foundations.projectpythia.org/core/xarray.html) | Necesario | Lectura de datos multidimensionales |\n",
    "| [Introducción a Py-Art](https://projectpythia.org/radar-cookbook/README.html) | Necesario | Lectura de datos de radar |\n",
    "| [Introducción a Xradar](https://docs.openradarscience.org/projects/xradar/en/stable/notebooks/Read-plot-Sigmet-data-from-AWS.html) | Necesario | Lectura de datos de radar |\n",
    "| [Introducción a Wradlib](https://docs.wradlib.org/en/latest/) | Necesario | Lectura de datos de radar |\n",
    "| [Fundamentos de radar meteorológico](https://www.meted.ucar.edu/radar/basic_wxradar_es/) | Útil | Fundametos básicos en radares meteorológicos |\n",
    "| [Introducción a  NetCDF](https://foundations.projectpythia.org/core/data-formats/netcdf-cf.html) | Útil | Entender la metadata de los datos |\n",
    "\n",
    "- **Tiempo de aprendizaje**: 30 minutos"
   ]
  },
  {
   "cell_type": "markdown",
   "metadata": {},
   "source": [
    "## 1. Radares meteorológicos\n",
    "\n",
    "Los radares meteorológicos son sensores activos que emiten pulsos de energía a la atmósfera y miden la energía retrodispersa de todos los objetos a lo largo del haz de medición como se puede observar en la siguiente animación del curso Fundamentos en radares meterológicos (The Commet program - meted.ucar.edu)"
   ]
  },
  {
   "cell_type": "code",
   "execution_count": null,
   "metadata": {
    "tags": [
     "remove-input"
    ]
   },
   "outputs": [],
   "source": [
    "# @markdown\n",
    "\n",
    "from IPython.display import HTML, IFrame\n",
    "from ipywidgets import widgets\n",
    "\n",
    "HTML(\n",
    "    \"\"\"\n",
    "    <video alt=\"test\" controls>\n",
    "        <source src=\"../images/radar_atten.mp4\" type=\"video/mp4\">\n",
    "    </video>\n",
    "\"\"\"\n",
    ")"
   ]
  },
  {
   "cell_type": "markdown",
   "metadata": {},
   "source": [
    "Tradicionalmente, los radares meteorológicos operan en modo de **Indicador de Posición Plana** (PPI por sus siglas en inglés de *Plan Position Indicator*). Este modo primero fija la **elevacion de la antena** a un ángulo determinado con respecto a la **horizontal** y gira **360** grados con respecto al norte. Luego repite esta tarea míltiples veces a **diferentes elevaciones** hasta completar un **Patrón de Cobertura Volumétrico** (VCP por sus siglas en inglés de *Volume Coverage Pattern*) como se puede obervar en la siguiente animación del curso Fundamentos en radares meterológicos (The Commet program - meted.ucar.edu)"
   ]
  },
  {
   "cell_type": "code",
   "execution_count": null,
   "metadata": {
    "tags": [
     "remove-input"
    ]
   },
   "outputs": [],
   "source": [
    "# @markdown\n",
    "\n",
    "from IPython.display import HTML\n",
    "\n",
    "HTML(\n",
    "    \"\"\"\n",
    "    <video alt=\"test\" controls>\n",
    "        <source src=\"../images/radar_scan_EM_animation.mp4\" type=\"video/mp4\">\n",
    "    </video>\n",
    "\"\"\"\n",
    ")"
   ]
  },
  {
   "cell_type": "markdown",
   "metadata": {},
   "source": [
    "## 2. Red Nacional de Radares de Colombia"
   ]
  },
  {
   "cell_type": "markdown",
   "metadata": {},
   "source": [
    "Colombia cuenta actualmente con una red de **12 radares meterológicos** que hacen vigilancia continua a las condiciones de precipitación en el país como se puede observar en la siguiente tabla:\n",
    "\n",
    "| Entidad | Número de radares | banda | \n",
    "| --- | :---: | :---: |\n",
    "| IDEAM  |  4  | C  |\n",
    "| Aerocivil |  6  |  C  | \n",
    "| SIATA | 1  | C  |\n",
    "| IDIGER | 1  | X  | "
   ]
  },
  {
   "cell_type": "markdown",
   "metadata": {},
   "source": [
    "### Librerías\n",
    "\n",
    "A continuación vamos a importar las librerías que utilizaremos en este cuadernillo"
   ]
  },
  {
   "cell_type": "code",
   "execution_count": null,
   "metadata": {},
   "outputs": [],
   "source": [
    "import boto3\n",
    "import botocore\n",
    "import cartopy.crs as ccrs\n",
    "import cmweather\n",
    "import folium\n",
    "import fsspec\n",
    "import matplotlib.pyplot as plt\n",
    "import numpy as np\n",
    "import pandas as pd\n",
    "import xradar as xd\n",
    "from folium import plugins"
   ]
  },
  {
   "cell_type": "markdown",
   "metadata": {},
   "source": [
    "### 2.1 Ubicación de los radares meteorológicos\n",
    "\n",
    "Podemos usar `folium` para crear un mapa dinámico donde visualizamos la ubicación de los radares meteorológicos en Colombia"
   ]
  },
  {
   "cell_type": "code",
   "execution_count": null,
   "metadata": {},
   "outputs": [],
   "source": [
    "min_lon, max_lon, min_lat, max_lat = -90, -72, -1, 14\n",
    "\n",
    "map_ = folium.Map(\n",
    "    location=[8, -76],\n",
    "    zoom_start=6,\n",
    "    min_lat=min_lat,\n",
    "    max_lat=max_lat,\n",
    "    min_lon=min_lon,\n",
    "    max_lon=max_lon,\n",
    "    zoom_control=False,\n",
    "    control_scale=True,\n",
    "    scrollWheelZoom=False,\n",
    "    width=1000,\n",
    "    height=700,\n",
    ")\n",
    "\n",
    "folium.TileLayer(\"openstreetmap\").add_to(map_)\n",
    "folium.TileLayer(\"cartodbpositron\").add_to(map_)\n",
    "folium.TileLayer(\"stamenterrain\").add_to(map_)\n",
    "folium.TileLayer(\"cartodbdark_matter\").add_to(map_)\n",
    "folium.LayerControl().add_to(map_)\n",
    "\n",
    "minimap = folium.plugins.MiniMap()\n",
    "map_ = map_.add_child(minimap)\n",
    "# map_"
   ]
  },
  {
   "cell_type": "markdown",
   "metadata": {},
   "source": [
    "Ahora podemos agregar la ubicación de cada radar en el mapa"
   ]
  },
  {
   "cell_type": "code",
   "execution_count": null,
   "metadata": {},
   "outputs": [],
   "source": [
    "def locate_radar(row):\n",
    "    df = row.to_frame()\n",
    "    html = df.iloc[:-3].to_html(\n",
    "        classes=\"table table-striped table-hover table-condensed table-responsive\"\n",
    "    )\n",
    "\n",
    "    popup = folium.Popup(html, max_width=2650)\n",
    "    folium.Marker(location=[row.lat, row.lon], popup=popup).add_to(map_)\n",
    "\n",
    "    rad = float(row[\"rad\"])\n",
    "    circle = folium.vector_layers.Circle(\n",
    "        location=[row.lat, row.lon],\n",
    "        color=row.color,\n",
    "        fill=True,\n",
    "        fill_color=f\"{row['color']}\",\n",
    "        radius=rad * 2500,\n",
    "        fill_opacity=0.1,\n",
    "    )\n",
    "    circle.add_to(map_)"
   ]
  },
  {
   "cell_type": "code",
   "execution_count": null,
   "metadata": {},
   "outputs": [],
   "source": [
    "df_radares = pd.read_csv(\"../data/radar_locations.csv\")"
   ]
  },
  {
   "cell_type": "markdown",
   "metadata": {},
   "source": [
    "Aplicamos la función `locate_radar` a cada fila del dataframe usando el método `pd.apply` "
   ]
  },
  {
   "cell_type": "code",
   "execution_count": null,
   "metadata": {},
   "outputs": [],
   "source": [
    "df_radares.apply(locate_radar, axis=1)\n",
    "map_"
   ]
  },
  {
   "cell_type": "markdown",
   "metadata": {},
   "source": [
    "#### 2.2 Radares meteorológicos del IDEAM disponibles en [AWS](https://registry.opendata.aws/ideam-radares/)\n",
    "\n",
    "El Instituto de Hidrología, Meteorología y Estudios Ambientales - IDEAM ha dispuesto de manera pública los datos del radar meteorológico. "
   ]
  },
  {
   "cell_type": "markdown",
   "metadata": {},
   "source": [
    "La estructura del bucket es **s3://s3-radaresideam/l2_data/YYYY/MM/DD/Radar_name/RRRAAMMDDTTTTTT.RAWXXXX** dónde: \n",
    "\n",
    "* **YYYY** es el año de 4 dígitos\n",
    "* **MM** es el mes de 2 dígitos\n",
    "* **DD** es el mes de 2 dígitos día\n",
    "* **Radar_name** nombre del radar. Las opciones son Guaviare, Munchique, Barrancabermja y Carimagua\n",
    "* **RRRAAMMDDTTTTTT** es el nombre del archivo del radar con lo siguiente:\n",
    "  - **RRR** las tres primeras letras del nombre del radar (p. ej., GUA para el radar Guaviare)\n",
    "  - **YY** es el año de 2 dígitos\n",
    "  - **MM** es el mes de 2 dígitos\n",
    "  - **DD** es el día de 2 dígitos\n",
    "  - **TTTTTT** es la hora en la que se realizó el escaneo (GTM)\n",
    "  - **RAWXXXX** Formato de archivo Sigmet y código único proporcionado por el software IRIS\n",
    "\n",
    "Veamos un ejemplo de cómo luce el repositorio usando AWS cli y el siguiente commando en la terminal ```aws s3 ls --no-sign-request s3://s3-radaresideam/```"
   ]
  },
  {
   "cell_type": "code",
   "execution_count": null,
   "metadata": {},
   "outputs": [],
   "source": [
    "!aws s3 ls --no-sign-request s3://s3-radaresideam/l2_data/2021/09/19/"
   ]
  },
  {
   "cell_type": "markdown",
   "metadata": {},
   "source": [
    "## 3. Acceso a los datos de radar usando Python\n",
    "\n",
    "Podemos acceder a los datos de radar usando `Python` y librerías como `Py-Art` o `Xradar`. Para leer los datos de radar primero necesitamos generar una conexión entre el repositorio de datos `s3` de Amazon y nuestro computador. Esto lo podemos lograr mediante la librería [`boto3`](https://aws.amazon.com/es/sdk-for-python/)"
   ]
  },
  {
   "cell_type": "code",
   "execution_count": null,
   "metadata": {},
   "outputs": [],
   "source": [
    "# direccion del bucket\n",
    "str_bucket = \"s3://s3-radaresideam/\"\n",
    "# creacion de un objeto s3\n",
    "s3 = boto3.resource(\n",
    "    \"s3\",\n",
    "    config=botocore.client.Config(\n",
    "        signature_version=botocore.UNSIGNED, user_agent_extra=\"Resource\"\n",
    "    ),\n",
    ")\n",
    "# Creamos un objeto s3.Bucket\n",
    "bucket = s3.Bucket(\"s3-radaresideam\")\n",
    "# Generamos una consulta tipo\n",
    "query = \"l2_data/2022/08/09/Carimagua/CAR22080919\"\n",
    "# Listamos los archivos dentro de nuestro bucket\n",
    "radar_files = [f\"{str_bucket}{i.key}\" for i in bucket.objects.filter(Prefix=f\"{query}\")]\n",
    "radar_files[:5]"
   ]
  },
  {
   "cell_type": "markdown",
   "metadata": {},
   "source": [
    "Esta forma es un poco complicada. Podemos utilizar [`fsspec`](https://filesystem-spec.readthedocs.io/en/latest/) que permite hacer un \"montaje\" del bucket en nuestro computador y es mucho más simplificado. "
   ]
  },
  {
   "cell_type": "code",
   "execution_count": null,
   "metadata": {},
   "outputs": [],
   "source": [
    "fs = fsspec.filesystem(\"s3\", anon=True)\n",
    "files = sorted(fs.glob(\"s3-radaresideam/l2_data/2022/08/09/Carimagua/CAR22080919*\"))\n",
    "files[:5]"
   ]
  },
  {
   "cell_type": "markdown",
   "metadata": {},
   "source": [
    "Una vez que tengamos nuestros archivos de interés, podemos cargar uno en memoria usando `Xradar` o `Py-Art`. Por ejemplo, estamos interesados ​​en el octavo archivo (`index=7`).\n"
   ]
  },
  {
   "cell_type": "markdown",
   "metadata": {},
   "source": [
    "### 3.1 Lectura de datos usando [`Xradar`](https://docs.openradarscience.org/projects/xradar/en/latest/index.html)\n",
    "\n",
    "Los datos de radar de IDEAM también se puden leer usando [`xradar.io.open_iris_datatree`](https://docs.openradarscience.org/projects/xradar/en/stable/generated/xradar.io.backends.iris.open_iris_datatree.html#xradar.io.backends.iris.open_iris_datatree). Esta librería, a diferencia de `Py-Art` usa como base [`Xarray`](https://docs.xarray.dev/en/stable/) retornando un [`xarray.Dataset`](https://docs.xarray.dev/en/stable/generated/xarray.Dataset.html) en caso de seleccionar un barrido en particular o un [`xarray.datatree`](https://xarray-datatree.readthedocs.io/en/latest/)  en caso de leer todas las elevaciones contenidas dentro del mismo archivo."
   ]
  },
  {
   "cell_type": "code",
   "execution_count": null,
   "metadata": {},
   "outputs": [],
   "source": [
    "# preparamos un archivo para abrir de manera local\n",
    "task_file = fsspec.open_local(\n",
    "    f\"simplecache::s3://{files[7]}\", s3={\"anon\": True}, filecache={\"cache_storage\": \".\"}\n",
    ")"
   ]
  },
  {
   "cell_type": "code",
   "execution_count": null,
   "metadata": {
    "scrolled": true
   },
   "outputs": [],
   "source": [
    "# leemos nuestro archivo usando xradar\n",
    "radar = xd.io.open_iris_datatree(task_file)\n",
    "display(radar)"
   ]
  },
  {
   "cell_type": "markdown",
   "metadata": {},
   "source": [
    "Este `datatree` solo contine una elevación. Podemos acceder usando notación similar a la de un diccionario"
   ]
  },
  {
   "cell_type": "code",
   "execution_count": null,
   "metadata": {},
   "outputs": [],
   "source": [
    "display(radar[\"sweep_0\"])"
   ]
  },
  {
   "cell_type": "markdown",
   "metadata": {},
   "source": [
    "### 3.2 Gráfico de reflectividad\n",
    "\n",
    "Podemos usar la funcionalidad [`xarray.plot`](https://docs.xarray.dev/en/latest/user-guide/plotting.html) que se encuentra incorporada en `xarray`. "
   ]
  },
  {
   "cell_type": "code",
   "execution_count": null,
   "metadata": {},
   "outputs": [],
   "source": [
    "radar[\"sweep_0\"][\"DBZH\"].plot(cmap=\"ChaseSpectral\", vmin=-10, vmax=60)"
   ]
  },
  {
   "cell_type": "markdown",
   "metadata": {},
   "source": [
    "Como podemos observar en el gráfico anterior los datos se encuentran ordenados por las dimensiones y coordenadas `azimuth` y `range`. Podemos usar la `xr.georeference` para generar las coordenadas polares a nuestro `dataset`"
   ]
  },
  {
   "cell_type": "code",
   "execution_count": null,
   "metadata": {},
   "outputs": [],
   "source": [
    "radar = radar.xradar.georeference()\n",
    "display(radar[\"sweep_0\"])"
   ]
  },
  {
   "cell_type": "markdown",
   "metadata": {},
   "source": [
    "Como podemos ver `x`, `y` y `z` fueron agregados como nuevos campos de coordenadas. Ahora podemos proceder a generar el gráfico pero esta vez de manera georeferenciada"
   ]
  },
  {
   "cell_type": "code",
   "execution_count": null,
   "metadata": {},
   "outputs": [],
   "source": [
    "radar[\"sweep_0\"][\"DBZH\"].plot(x=\"x\", y=\"y\", cmap=\"ChaseSpectral\", vmin=-10, vmax=60)"
   ]
  },
  {
   "cell_type": "markdown",
   "metadata": {},
   "source": [
    "Para generar gráficas de radar en un sistema coordenado de referencia podemos usar `cartopy`. Extraemos el sistema de referencia desde el objeto radar usando `xd.georeference.get_crs`"
   ]
  },
  {
   "cell_type": "code",
   "execution_count": null,
   "metadata": {},
   "outputs": [],
   "source": [
    "proj_crs = xd.georeference.get_crs(radar[\"sweep_0\"].ds)\n",
    "cart_crs = ccrs.Projection(proj_crs)"
   ]
  },
  {
   "cell_type": "markdown",
   "metadata": {
    "scrolled": true
   },
   "source": [
    "Ahora sí procedemos a generar el gráfico de reflectividad en un sistema coordenado de referencia"
   ]
  },
  {
   "cell_type": "code",
   "execution_count": null,
   "metadata": {},
   "outputs": [],
   "source": [
    "fig = plt.figure(figsize=(7, 7))\n",
    "ax = fig.add_subplot(111, projection=ccrs.PlateCarree())\n",
    "radar[\"sweep_0\"][\"DBZH\"].plot(\n",
    "    x=\"x\",\n",
    "    y=\"y\",\n",
    "    cmap=\"ChaseSpectral\",\n",
    "    transform=cart_crs,\n",
    "    cbar_kwargs=dict(pad=0.075, shrink=0.75),\n",
    "    vmin=-10,\n",
    "    vmax=60,\n",
    ")\n",
    "ax.coastlines()\n",
    "ax.gridlines(draw_labels=True, ls=\"--\", lw=0.5)"
   ]
  },
  {
   "cell_type": "markdown",
   "metadata": {},
   "source": [
    "### 3.3 Gráficos interactivos usando [`hvplot`](https://hvplot.holoviz.org/)\n",
    "\n",
    "Los gráficos estáticos pueden ser usados principalmente para publicaciones donde la interactividad no es necesaria. Sin embargo, en cursos como el taller de programación de AtmosCol 2023 podemos utilizar las ventajas de la interactividad para aprovechar mejor la información disponible. "
   ]
  },
  {
   "cell_type": "code",
   "execution_count": null,
   "metadata": {},
   "outputs": [],
   "source": [
    "import hvplot.xarray"
   ]
  },
  {
   "cell_type": "code",
   "execution_count": null,
   "metadata": {},
   "outputs": [],
   "source": [
    "ref = radar[\"sweep_0\"].DBZH.hvplot.quadmesh(\n",
    "    x=\"x\",\n",
    "    y=\"y\",\n",
    "    cmap=\"ChaseSpectral\",\n",
    "    clabel=\"Horizontal Reflectivity (dBZ)\",\n",
    "    title=f'Horizontal Reflectivity \\n {radar.attrs[\"instrument_name\"]} Radar',\n",
    "    clim=(-20, 60),\n",
    "    height=500,\n",
    "    rasterize=True,\n",
    "    width=600,\n",
    ")\n",
    "ref"
   ]
  },
  {
   "cell_type": "markdown",
   "metadata": {},
   "source": [
    "Ahora podemos interacturar con más de un plot a la vez"
   ]
  },
  {
   "cell_type": "code",
   "execution_count": null,
   "metadata": {},
   "outputs": [],
   "source": [
    "zdr = radar[\"sweep_0\"].ZDR.hvplot.quadmesh(\n",
    "    x=\"x\",\n",
    "    y=\"y\",\n",
    "    cmap=\"jet\",\n",
    "    clabel=\"Differential Reflectivity (dB)\",\n",
    "    title=f'Horizontal Reflectivity \\n {radar.attrs[\"instrument_name\"]} Radar',\n",
    "    clim=(-1, 6),\n",
    "    height=500,\n",
    "    rasterize=True,\n",
    "    width=600,\n",
    ")"
   ]
  },
  {
   "cell_type": "code",
   "execution_count": null,
   "metadata": {},
   "outputs": [],
   "source": [
    "(ref + zdr).cols(1)"
   ]
  },
  {
   "cell_type": "markdown",
   "metadata": {},
   "source": [
    "## 4. Estimados de lluvia utilizando la ecuación de [Marshall and Gunn (1953)](https://www.sciencedirect.com/science/article/abs/pii/S0065268708603106?via%3Dihub)\n",
    "\n",
    "Uno de los productos de mayor interés para la comunidad científica, y en general para todos los usuarios de la información de radares meteorológicos, es la **estimación de lluvia**. Desde **1948** los científicos han tratado de convertir las mediciones de **reflectividad ($Z$)** en mediciones de **intensidad de precipitación ($R$)**. Para esto se han desarrollado múltiples ecuaciones empíricas **$Z-R$**. En 1953, Marshall and Gunn encontraron una de las relaciones más comunes e incluso utilizadas en la actualidad, que sigue la forma:\n",
    "\n",
    "$$Z  = 200 R ^{1.6}$$\n",
    "\n",
    "Despejando para R tenemos:\n",
    "\n",
    "$$R[mm hr^{-1}] = \\left[ \\frac{Z[mm^{6} mm^{-3}]}{200} \\right] ^ {\\frac{1}{1.6}}$$\n",
    "\n",
    "$$R[mm hr^{-1}] = \\left( \\frac{1}{200} \\right) ^ {\\frac{1}{1.6}} \\left( Z[mm^{6} mm^{-3}] \\right) ^ {\\frac{1}{1.6}}$$"
   ]
  },
  {
   "cell_type": "markdown",
   "metadata": {},
   "source": [
    "<div class=\"admonition alert alert-warning\">\n",
    "    <p class=\"admonition-title\" style=\"font-weight:bold\">Cuidado!!!</p>\n",
    "    La reflectividad del radar esta dada en unidades decibélicas es decir\n",
    "    <br>$Z [dBZ] = 10 * log_{10}(Z[mm^{6}m^{3}])$\n",
    "    <br>Por lo tanto debemos convertir a unidades lineales\n",
    "    <br>$Z[mm^{6}m^{3}] = 10 ^{\\left(\\frac{Z[dBZ]}{10}\\right)}$\n",
    "</div>"
   ]
  },
  {
   "cell_type": "code",
   "execution_count": null,
   "metadata": {
    "jp-MarkdownHeadingCollapsed": true
   },
   "outputs": [],
   "source": [
    "# Reflectividad en unidades decibelicas\n",
    "ref_log = radar[\"sweep_0\"].DBZH\n",
    "# Reflectividad en unidades lineales\n",
    "ref_lin = 10 ** (ref_log / 10)\n",
    "# Estimado de lluvia usando Marshall and Gunn (1953)\n",
    "rr = (1 / 200) ** (1 / 1.6) * ref_lin ** (1 / 1.6)"
   ]
  },
  {
   "cell_type": "markdown",
   "metadata": {},
   "source": [
    "Ahora podemos visualizar el campo de lluvia generado"
   ]
  },
  {
   "cell_type": "code",
   "execution_count": null,
   "metadata": {},
   "outputs": [],
   "source": [
    "fig = plt.figure(figsize=(7, 7))\n",
    "ax = fig.add_subplot(111, projection=ccrs.PlateCarree())\n",
    "rr.plot(\n",
    "    x=\"x\",\n",
    "    y=\"y\",\n",
    "    cmap=\"jet\",\n",
    "    transform=cart_crs,\n",
    "    cbar_kwargs=dict(\n",
    "        pad=0.075, shrink=0.75, label=r\"$Intensidad \\ de \\ lluvia \\ [mm hr^{-1}]$\"\n",
    "    ),\n",
    "    vmin=0,\n",
    "    vmax=50,\n",
    ")\n",
    "ax.set_title(r\"$Estimado \\ de \\ lluvia$\")\n",
    "ax.coastlines()\n",
    "ax.gridlines(draw_labels=True, ls=\"--\", lw=0.5)"
   ]
  },
  {
   "cell_type": "markdown",
   "metadata": {},
   "source": [
    "---"
   ]
  },
  {
   "cell_type": "markdown",
   "metadata": {},
   "source": [
    "## Conclusiones\n",
    "\n",
    "En este cuadernillo aprendimos sobre la red nacional de radares meteorológicos de Colombia. Logramos acceder a los datos del repositorio de AWS usando Python. Utilizamos Py-Art y Xradar para acceder, visualizar los datos de manera intectiva usando hvplot y generar estimados de precipitación utilzando la ecuación de Marshall and Gunn (1953)."
   ]
  },
  {
   "cell_type": "markdown",
   "metadata": {},
   "source": [
    "## Resources and references\n",
    "\n",
    "* Radar Cookbook [https://projectpythia.org/radar-cookbook/README.html] DOI[https://doi.org/10.5281/zenodo.8075855]\n",
    "* Rose, B. E. J., Kent, J., Tyle, K., Clyne, J., Banihirwe, A., Camron, D., May, R., Grover, M., Ford, R. R., Paul, K., Morley, J., Eroglu, O., Kailyn, L., & Zacharias, A. (2023). Pythia Foundations (Version v2023.05.01) https://doi.org/10.5281/zenodo.7884572\n",
    "* Marshall, J. S., and W. M. K. Palmer, 1948: THE DISTRIBUTION OF RAINDROPS WITH SIZE. J. Atmos. Sci., 5, 165–166, https://doi.org/10.1175/1520-0469(1948)005<0165:TDORWS>2.0.CO;2.\n",
    "* Helmus, J.J. & Collis, S.M., (2016). The Python ARM Radar Toolkit (Py-ART), a Library for Working with Weather Radar Data in the Python Programming Language. Journal of Open Research Software. 4(1), p.e25. DOI: http://doi.org/10.5334/jors.119\n",
    "* Xradar Python library [https://docs.openradarscience.org/projects/xradar/en/stable/#] DOI[https://docs.openradarscience.org/projects/xradar/en/stable/#]"
   ]
  }
 ],
 "metadata": {
  "kernelspec": {
   "display_name": "Python 3 (ipykernel)",
   "language": "python",
   "name": "python3"
  },
  "language_info": {
   "codemirror_mode": {
    "name": "ipython",
    "version": 3
   },
   "file_extension": ".py",
   "mimetype": "text/x-python",
   "name": "python",
   "nbconvert_exporter": "python",
   "pygments_lexer": "ipython3",
   "version": "3.11.6"
  },
  "nbdime-conflicts": {
   "local_diff": [
    {
     "diff": [
      {
       "diff": [
        {
         "key": 0,
         "op": "addrange",
         "valuelist": [
          "Python 3"
         ]
        },
        {
         "key": 0,
         "length": 1,
         "op": "removerange"
        }
       ],
       "key": "display_name",
       "op": "patch"
      }
     ],
     "key": "kernelspec",
     "op": "patch"
    }
   ],
   "remote_diff": [
    {
     "diff": [
      {
       "diff": [
        {
         "key": 0,
         "op": "addrange",
         "valuelist": [
          "Python3"
         ]
        },
        {
         "key": 0,
         "length": 1,
         "op": "removerange"
        }
       ],
       "key": "display_name",
       "op": "patch"
      }
     ],
     "key": "kernelspec",
     "op": "patch"
    }
   ]
  },
  "toc-autonumbering": false
 },
 "nbformat": 4,
 "nbformat_minor": 4
}
