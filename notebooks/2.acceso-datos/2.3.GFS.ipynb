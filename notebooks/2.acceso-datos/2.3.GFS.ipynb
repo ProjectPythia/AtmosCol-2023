{
 "cells": [
  {
   "cell_type": "markdown",
   "metadata": {},
   "source": [
    "<img src=\"../images/GFS.jpg\" width=400 alt=\"Ideam_Logo\"></img> "
   ]
  },
  {
   "cell_type": "markdown",
   "metadata": {},
   "source": [
    "# Global Forecast System - GFS"
   ]
  },
  {
   "cell_type": "markdown",
   "metadata": {},
   "source": [
    "---"
   ]
  },
  {
   "cell_type": "markdown",
   "metadata": {},
   "source": [
    "## Introducción\n",
    "En este cuadernillo (Notebook) aprenderemos:\n",
    "\n",
    "1. Introducción al GFS\n",
    "4. Uso del servidor Thredds\n",
    "1. Consulta de datos del GFS a escala de 0.5 grados en resolución usando `siphon`\n",
    "2. Visualización de variables pronosticadas"
   ]
  },
  {
   "cell_type": "markdown",
   "metadata": {},
   "source": [
    "## Prerequisitos\n",
    "| Conceptos | Importancia | Notas |\n",
    "| --- | --- | --- |\n",
    "| [Introducción a Xarray](https://foundations.projectpythia.org/core/xarray.html) | Necesario | Lectura de datos multidimensionales |\n",
    "| [Introducción a Datetime](https://foundations.projectpythia.org/core/datetime/datetime.html) | Necesario | Entender estampas de tiempo |\n",
    "| [Introducción a  NetCDF](https://foundations.projectpythia.org/core/data-formats/netcdf-cf.html) | Útil | Entender la metadata de los datos |\n",
    "\n",
    "- **Tiempo de aprendizaje**: 30 minutos"
   ]
  },
  {
   "cell_type": "markdown",
   "metadata": {},
   "source": [
    "---"
   ]
  },
  {
   "cell_type": "markdown",
   "metadata": {},
   "source": [
    "## Librerías\n",
    "\n",
    "Importamos las librerías que vamos a utilizar en este cuadernillo."
   ]
  },
  {
   "cell_type": "code",
   "execution_count": null,
   "metadata": {},
   "outputs": [],
   "source": [
    "from datetime import datetime, timedelta\n",
    "\n",
    "import cartopy.crs as ccrs\n",
    "import cartopy.feature as cf\n",
    "import matplotlib.pyplot as plt\n",
    "import matplotlib.ticker as mticker\n",
    "import numpy as np\n",
    "import xarray as xr\n",
    "from pandas import to_datetime\n",
    "from siphon.catalog import TDSCatalog"
   ]
  },
  {
   "cell_type": "markdown",
   "metadata": {},
   "source": [
    "## 1. GFS\n",
    "\n",
    "De acuerdo con la documentación [oficial](https://www.emc.ncep.noaa.gov/emc/pages/numerical_forecast_systems/gfs.php) *\"El Sistema de Pronóstico Global (GFS) es un modelo de pronóstico del tiempo de los Centros Nacionales de Predicción Ambiental (NCEP) que genera datos para docenas de variables atmosféricas y de suelo-suelo, incluidas temperaturas, vientos, precipitaciones, humedad del suelo y concentración de ozono atmosférico.\"*\n",
    "\n",
    " <img src=\"../images/GFS - 20120712_0000-small.gif\" width=400 alt=\"Ozone_GFS\"></img> <img src=\"../images/stretch_sat_sandy.gif\" width=250 alt=\"Reticula_GFS\"></img> \n",
    "\n",
    "Fuente: https://www.ncei.noaa.gov/\n",
    "\n",
    "* Sistema de Pronóstico Global\n",
    "* Utilizado comunmente como condiciones iniciales para otros modelos de pronóstico\n",
    "* El modelo se ejecuta 4 veces al día (00z, 06z, 12z y 18z)\n",
    "* Prósticos de hasta 16 días. 120 primeras horas son a escala horaria, luego cada 3 horas\n",
    "* Modelo tiene 127 capas en la vertical\n",
    "* Utiliza un esquema de esfera cúbica de volumen finito [(FV3)](https://www.gfdl.noaa.gov/fv3/fv3-grids/)\n",
    "* Resolución/dominio horizontal de 0.5, 1.0 y 2.5 grados"
   ]
  },
  {
   "cell_type": "markdown",
   "metadata": {},
   "source": [
    "## 2. Acceso a datos del GFS\n",
    "\n",
    "El acceso a los datos del GFS se puede realizar mediante la descarga directa de los datos utilizando el repositorio de datos del [NCEI](https://www.ncei.noaa.gov/metadata/geoportal/rest/metadata/item/gov.noaa.ncdc:C00631/html) (*National Centers for Environmental Information*), usando el repositorio de datos de [AWS](https://registry.opendata.aws/noaa-gfs-bdp-pds/), o usando el servidor [Thredds](https://thredds-jumbo.unidata.ucar.edu/thredds/catalog/catalog.html) de la [NCAR](https://ncar.ucar.edu/). Para efectos prácticos del curso, utilizaremos la librería [siphon](https://unidata.github.io/siphon/latest/index.html) que nos permite realizar consultas al servidor `Thredds` usando una API en `Python`. \n",
    "\n",
    "Para consultar el modelo GFS con resolución espacial de 0.25 grados utilizamos el módulo `TDSCatalog` y pasamos el link correspondiente que se puede obtener [acá](https://thredds-jumbo.unidata.ucar.edu/thredds/catalog/catalog.html)."
   ]
  },
  {
   "cell_type": "code",
   "execution_count": null,
   "metadata": {},
   "outputs": [],
   "source": [
    "gfs_url = \"http://thredds.ucar.edu/thredds/catalog/grib/NCEP/GFS/Global_0p25deg/catalog.xml?dataset=grib/NCEP/GFS/Global_0p25deg/Best\"\n",
    "best_gfs = TDSCatalog(gfs_url)\n",
    "best_gfs"
   ]
  },
  {
   "cell_type": "markdown",
   "metadata": {},
   "source": [
    "Para acceder a este conjunto de datos usando `Xarray.Dataset` simplemente creamos un acceso remoto de la siguiente manera"
   ]
  },
  {
   "cell_type": "code",
   "execution_count": null,
   "metadata": {},
   "outputs": [],
   "source": [
    "ds_gfs = best_gfs.datasets[0].remote_access(use_xarray=True)\n",
    "print(f\"size: {ds_gfs.nbytes / (1024 ** 3)} GB\")\n",
    "display(ds_gfs)"
   ]
  },
  {
   "cell_type": "markdown",
   "metadata": {},
   "source": [
    "El dato descargado desde el servidor Thredds trae un error en el formato de las coordenadas. Para evitar tropiezos cuando realicemos selección de datos más adelante, reemplazaremos las coordenadas de la siguiente manera:"
   ]
  },
  {
   "cell_type": "code",
   "execution_count": null,
   "metadata": {},
   "outputs": [],
   "source": [
    "# ds_gfs.sel(lat=0, method='nearest')"
   ]
  },
  {
   "cell_type": "code",
   "execution_count": null,
   "metadata": {},
   "outputs": [],
   "source": [
    "ds_gfs = ds_gfs.assign_coords(\n",
    "    lat=(\"lat\", np.linspace(90, -90, 721)), lon=(\"lon\", np.linspace(0, 360, 1440))\n",
    ")"
   ]
  },
  {
   "cell_type": "markdown",
   "metadata": {},
   "source": [
    "<div class=\"admonition alert alert-danger\">\n",
    "    <p class=\"admonition-title\" style=\"font-weight:bold\">Peligro</p>\n",
    "    Este archivo pesa alrededor de 530 GB. No trate de cargarlo en memoria a menos que tenga la capacidad suficiente en RAM. Se recomienda hacer consultas específicas en variables, espacio y tiempo.  \n",
    "</div>"
   ]
  },
  {
   "cell_type": "markdown",
   "metadata": {},
   "source": [
    "Para realizar consultas a variables de interes podemos utilizar el método `.sel` al igual que utilizar la notación `punto` o de `diccionarios` para acceder a variables de interes. Consultemos entonces variables como la temperatura, humedad, presión entre otros. "
   ]
  },
  {
   "cell_type": "code",
   "execution_count": null,
   "metadata": {
    "scrolled": true
   },
   "outputs": [],
   "source": [
    "var = [\n",
    "    \"Temperature_surface\",\n",
    "    \"Pressure_surface\",\n",
    "    \"Precipitation_rate_surface\",\n",
    "    \"Relative_humidity_height_above_ground\",\n",
    "]\n",
    "ds_subset = ds_gfs[var]\n",
    "display(ds_subset)"
   ]
  },
  {
   "cell_type": "markdown",
   "metadata": {},
   "source": [
    "Por alguna razon los datos utilizan algunas veces la dimension `time` y otras veces `time1`. Para evitar errores podemos controlar eso de la siguiente manera"
   ]
  },
  {
   "cell_type": "code",
   "execution_count": null,
   "metadata": {},
   "outputs": [],
   "source": [
    "ds_subset.coords"
   ]
  },
  {
   "cell_type": "code",
   "execution_count": null,
   "metadata": {},
   "outputs": [],
   "source": [
    "try:\n",
    "    ds_subset.Temperature_surface.time1\n",
    "except AttributeError as e:\n",
    "    print(e)\n",
    "    ds_subset = ds_subset.rename(time=\"time1\")"
   ]
  },
  {
   "cell_type": "code",
   "execution_count": null,
   "metadata": {},
   "outputs": [],
   "source": [
    "ds_subset.coords"
   ]
  },
  {
   "cell_type": "markdown",
   "metadata": {},
   "source": [
    "## 3. Salidas gráficas a partir de los datos de GFS\n",
    "\n",
    "Como ya sabemos, una vez tenemos nuestros datos en un objeto `Xarray.Dataset` podemos generar gráficos de manera rápida. Por ejemplo, podemos ver la temperatura pronósticada para el día de mañana"
   ]
  },
  {
   "cell_type": "code",
   "execution_count": null,
   "metadata": {},
   "outputs": [],
   "source": [
    "current_dateTime = datetime.now()\n",
    "tomorrow = current_dateTime + timedelta(days=1)\n",
    "tomorrow"
   ]
  },
  {
   "cell_type": "markdown",
   "metadata": {},
   "source": [
    "Formateamos la fecha a un string para hacer el filtrado en nuestro `Dataset`"
   ]
  },
  {
   "cell_type": "code",
   "execution_count": null,
   "metadata": {},
   "outputs": [],
   "source": [
    "fecha = f\"{tomorrow:%Y-%m-%d}\"\n",
    "fecha"
   ]
  },
  {
   "cell_type": "markdown",
   "metadata": {},
   "source": [
    "Ahora generamos nuestra salida gráfica de la temperatura usando `matplotlib`"
   ]
  },
  {
   "cell_type": "code",
   "execution_count": null,
   "metadata": {},
   "outputs": [],
   "source": [
    "fig, ax = plt.subplots(figsize=(8, 4))\n",
    "ds_subset[\"Temperature_surface\"].sel(time1=fecha, method=\"nearest\").plot(\n",
    "    cmap=\"Spectral_r\", ax=ax\n",
    ")"
   ]
  },
  {
   "cell_type": "markdown",
   "metadata": {},
   "source": [
    "Utilizando [`Cartopy`](https://scitools.org.uk/cartopy/docs/latest/) podemos trabajar con [sistemas coordenados de referencia](https://scitools.org.uk/cartopy/docs/latest/reference/crs.html) (CRS por sus siglas en ingles *Cordinate reference Systems*) y diferentes [proyecciones](https://scitools.org.uk/cartopy/docs/latest/reference/projections.html). Como ejemplo, trabajaremos con un proyección `Mollweide` con centro sobre Colombia (285° en longitud aproximadamente)."
   ]
  },
  {
   "cell_type": "code",
   "execution_count": null,
   "metadata": {},
   "outputs": [],
   "source": [
    "fig, ax = plt.subplots(\n",
    "    figsize=(6, 4),\n",
    "    subplot_kw={\"projection\": ccrs.Mollweide(central_longitude=285)},\n",
    "    dpi=150,\n",
    ")\n",
    "\n",
    "ds_subset[\"Temperature_surface\"].sel(time1=fecha, method=\"nearest\").plot(\n",
    "    ax=ax,\n",
    "    cmap=\"Spectral_r\",\n",
    "    transform=ccrs.PlateCarree(),\n",
    "    cbar_kwargs={\n",
    "        \"label\": r\"$Temperatura \\ [°C]$\",\n",
    "        \"orientation\": \"horizontal\",\n",
    "        \"aspect\": 50,\n",
    "    },\n",
    ")\n",
    "ax.coastlines()\n",
    "gl = ax.gridlines(\n",
    "    draw_labels=True, linewidth=1, color=\"gray\", alpha=0.5, linestyle=\"--\"\n",
    ")\n",
    "plt.title(f\"Temperatura [°C] - {fecha}\");"
   ]
  },
  {
   "cell_type": "markdown",
   "metadata": {},
   "source": [
    "Podemos generar un gráfico para Colombia y sus alrededores de la siguiente manera:"
   ]
  },
  {
   "cell_type": "code",
   "execution_count": null,
   "metadata": {},
   "outputs": [],
   "source": [
    "ds_col = ds_subset.sel(lat=slice(20, -10), lon=slice(270, 310))\n",
    "display(ds_col)"
   ]
  },
  {
   "cell_type": "markdown",
   "metadata": {},
   "source": [
    "De igual modo podemos visualizar los datos usando `contour` y `contourf`. A continuación, podemos observar los gráficos de la temperatura, presión, precipitación y humedad relativa"
   ]
  },
  {
   "cell_type": "code",
   "execution_count": null,
   "metadata": {},
   "outputs": [],
   "source": [
    "# Creacion del \"lienzo\"\n",
    "fig, ax = plt.subplots(\n",
    "    figsize=(7, 4),\n",
    "    subplot_kw={\"projection\": ccrs.PlateCarree(central_longitude=285)},\n",
    "    dpi=150,\n",
    ")\n",
    "\n",
    "# Grafico de variables\n",
    "# (ds_col.Pressure_surface.sel(time1=f\"{fecha} 12:00\") / 100).plot.contour(ax=ax, transform=ccrs.PlateCarree(), cmap='viridis_r',\n",
    "#                                              linewidths=0.5,\n",
    "#                                             levels=np.arange(500, 1000, 100))\n",
    "# (ds_col.Temperature_surface.sel(time1=f\"{fecha} 12:00\") - 273.15).plot.contourf(ax=ax, cmap='Spectral_r', transform=ccrs.PlateCarree(),\n",
    "#                                          levels=np.arange(0, 35, 1))\n",
    "ds_col.Relative_humidity_height_above_ground.sel(time1=f\"{fecha} 12:00\").isel(\n",
    "    height_above_ground4=0\n",
    ").plot.contourf(\n",
    "    ax=ax, cmap=\"viridis\", transform=ccrs.PlateCarree(), levels=np.arange(0, 101, 10)\n",
    ")\n",
    "\n",
    "# (ds_col.Precipitation_rate_surface.sel(time=f\"{fecha} 12:00\") * 86400).plot.contourf(ax=ax,\n",
    "#                                                           transform=ccrs.PlateCarree(),\n",
    "#                                                           levels=np.arange(0, 50, 1))\n",
    "\n",
    "# Adicionamos lineas costeras y división entre paises\n",
    "ax.coastlines()\n",
    "ax.add_feature(cf.BORDERS)\n",
    "\n",
    "# Agregar las lineas de reticula\n",
    "gl = ax.gridlines(\n",
    "    draw_labels=True, linewidth=1, color=\"gray\", alpha=0.5, linestyle=\"--\"\n",
    ")\n",
    "gl.xlabels_top = False\n",
    "gl.ylabels_right = False\n",
    "plt.title(\n",
    "    f\"{to_datetime(ds_col.sel(time1=f'{fecha} 12:00').time1.values):%Y-%m-%d %H%M} UTC\"\n",
    ");"
   ]
  },
  {
   "cell_type": "markdown",
   "metadata": {},
   "source": [
    "Podemos gener series de tiempo con los valores pronosticados para una ubicacion en particular. Utilicemos la ubicación de la Universidad del Quindio como ejemplo: `lat=4.54` y `lon=-75.68`."
   ]
  },
  {
   "cell_type": "code",
   "execution_count": null,
   "metadata": {},
   "outputs": [],
   "source": [
    "ds_uniq = ds_col.sel(lat=4.54, lon=360 - 75.0, method=\"nearest\")\n",
    "ds_uniq"
   ]
  },
  {
   "cell_type": "code",
   "execution_count": null,
   "metadata": {},
   "outputs": [],
   "source": [
    "fig, (ax, ax1, ax2, ax3) = plt.subplots(4, 1, figsize=(10, 6), sharex=True)\n",
    "(ds_uniq.Pressure_surface / 100).plot(ax=ax)\n",
    "ax.set_title(\"\")\n",
    "ax.set_xlabel(\"\")\n",
    "ax.set_ylabel(\"Press [hPa]\")\n",
    "(ds_uniq.Temperature_surface - 273.15).plot(ax=ax1)\n",
    "ax1.set_title(\"\")\n",
    "ax1.set_xlabel(\"\")\n",
    "ax1.set_ylabel(\"Temp [°C]\")\n",
    "(ds_uniq.Precipitation_rate_surface * 86400).plot(ax=ax2)\n",
    "ax2.set_title(\"\")\n",
    "ax2.set_xlabel(\"\")\n",
    "ax2.set_ylabel(\"RR [mmhr-1]\")\n",
    "ds_uniq.Relative_humidity_height_above_ground.isel(height_above_ground4=0).plot(ax=ax3)\n",
    "ax3.set_title(\"\")\n",
    "ax3.set_xlabel(\"\")\n",
    "ax3.set_ylabel(\"HR [%]\")"
   ]
  },
  {
   "cell_type": "markdown",
   "metadata": {},
   "source": [
    "Otras variables disponibles en el modelo GFS pueden ser gráficadas."
   ]
  },
  {
   "cell_type": "markdown",
   "metadata": {},
   "source": [
    "---"
   ]
  },
  {
   "cell_type": "markdown",
   "metadata": {},
   "source": [
    "## Conclusiones\n",
    "En este cuadernillo aprendimos a consultar datos provenientes del modelo Global Forecast System usando la librería `Siphon` disponibles en el servidor Thredds de la NCAR. Aprendimos a generar gráficos espaciales y series temporales de pronósticos para múltiples variables usando `Xarray`, `Cartopy` y `Matplotlib`. "
   ]
  },
  {
   "cell_type": "markdown",
   "metadata": {},
   "source": [
    "## Resources and references\n",
    "* [Global Forecast System (GFS)](https://www.ncei.noaa.gov/products/weather-climate-models/global-forecast)\n",
    "* [TDS Online Tutorial](https://docs.unidata.ucar.edu/tds/current/userguide/index.html)"
   ]
  }
 ],
 "metadata": {
  "kernelspec": {
   "display_name": "Python 3 (ipykernel)",
   "language": "python",
   "name": "python3"
  },
  "language_info": {
   "codemirror_mode": {
    "name": "ipython",
    "version": 3
   },
   "file_extension": ".py",
   "mimetype": "text/x-python",
   "name": "python",
   "nbconvert_exporter": "python",
   "pygments_lexer": "ipython3",
   "version": "3.11.6"
  },
  "nbdime-conflicts": {
   "local_diff": [
    {
     "diff": [
      {
       "diff": [
        {
         "key": 0,
         "op": "addrange",
         "valuelist": [
          "Python 3"
         ]
        },
        {
         "key": 0,
         "length": 1,
         "op": "removerange"
        }
       ],
       "key": "display_name",
       "op": "patch"
      }
     ],
     "key": "kernelspec",
     "op": "patch"
    }
   ],
   "remote_diff": [
    {
     "diff": [
      {
       "diff": [
        {
         "key": 0,
         "op": "addrange",
         "valuelist": [
          "Python3"
         ]
        },
        {
         "key": 0,
         "length": 1,
         "op": "removerange"
        }
       ],
       "key": "display_name",
       "op": "patch"
      }
     ],
     "key": "kernelspec",
     "op": "patch"
    }
   ]
  },
  "toc-autonumbering": false
 },
 "nbformat": 4,
 "nbformat_minor": 4
}
